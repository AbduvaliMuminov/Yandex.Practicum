{
 "cells": [
  {
   "cell_type": "markdown",
   "metadata": {},
   "source": [
    "# Исследование объявлений о продаже квартир\n",
    "\n",
    "В вашем распоряжении данные сервиса Яндекс.Недвижимость — архив объявлений о продаже квартир в Санкт-Петербурге и соседних населённых пунктов за несколько лет. Нужно определить рыночную стоимость объектов недвижимости. Наша задача — установить параметры. Это позволит построить автоматизированную систему: она отследит аномалии и мошенническую деятельность. \n",
    "\n",
    "По каждой квартире на продажу доступны два вида данных. Первые вписаны пользователем, вторые — получены автоматически на основе картографических данных. Например, расстояние до центра, аэропорта, ближайшего парка и водоёма. \n",
    "\n",
    "\n",
    "\n",
    "Ход исследования: \n",
    "1. Изучить обшую информацию \n",
    "2. Предобработка данных\n",
    "3. Добавление новых столбцов\n",
    "4. Исследовательский анализ данных"
   ]
  },
  {
   "cell_type": "markdown",
   "metadata": {},
   "source": [
    "## Изучить общую информацию"
   ]
  },
  {
   "cell_type": "code",
   "execution_count": 1,
   "metadata": {},
   "outputs": [],
   "source": [
    "# импортируем библиотеки \n",
    "import pandas as pd\n",
    "import seaborn as sns\n",
    "import matplotlib.pyplot as plt"
   ]
  },
  {
   "cell_type": "code",
   "execution_count": 2,
   "metadata": {},
   "outputs": [],
   "source": [
    "# читаем файл\n",
    "df = pd.read_csv('/datasets/real_estate_data.csv', sep='\\t')"
   ]
  },
  {
   "cell_type": "code",
   "execution_count": 3,
   "metadata": {},
   "outputs": [
    {
     "name": "stdout",
     "output_type": "stream",
     "text": [
      "<class 'pandas.core.frame.DataFrame'>\n",
      "RangeIndex: 23699 entries, 0 to 23698\n",
      "Data columns (total 22 columns):\n",
      " #   Column                Non-Null Count  Dtype  \n",
      "---  ------                --------------  -----  \n",
      " 0   total_images          23699 non-null  int64  \n",
      " 1   last_price            23699 non-null  float64\n",
      " 2   total_area            23699 non-null  float64\n",
      " 3   first_day_exposition  23699 non-null  object \n",
      " 4   rooms                 23699 non-null  int64  \n",
      " 5   ceiling_height        14504 non-null  float64\n",
      " 6   floors_total          23613 non-null  float64\n",
      " 7   living_area           21796 non-null  float64\n",
      " 8   floor                 23699 non-null  int64  \n",
      " 9   is_apartment          2775 non-null   object \n",
      " 10  studio                23699 non-null  bool   \n",
      " 11  open_plan             23699 non-null  bool   \n",
      " 12  kitchen_area          21421 non-null  float64\n",
      " 13  balcony               12180 non-null  float64\n",
      " 14  locality_name         23650 non-null  object \n",
      " 15  airports_nearest      18157 non-null  float64\n",
      " 16  cityCenters_nearest   18180 non-null  float64\n",
      " 17  parks_around3000      18181 non-null  float64\n",
      " 18  parks_nearest         8079 non-null   float64\n",
      " 19  ponds_around3000      18181 non-null  float64\n",
      " 20  ponds_nearest         9110 non-null   float64\n",
      " 21  days_exposition       20518 non-null  float64\n",
      "dtypes: bool(2), float64(14), int64(3), object(3)\n",
      "memory usage: 3.7+ MB\n"
     ]
    },
    {
     "data": {
      "text/html": [
       "<div>\n",
       "<style scoped>\n",
       "    .dataframe tbody tr th:only-of-type {\n",
       "        vertical-align: middle;\n",
       "    }\n",
       "\n",
       "    .dataframe tbody tr th {\n",
       "        vertical-align: top;\n",
       "    }\n",
       "\n",
       "    .dataframe thead th {\n",
       "        text-align: right;\n",
       "    }\n",
       "</style>\n",
       "<table border=\"1\" class=\"dataframe\">\n",
       "  <thead>\n",
       "    <tr style=\"text-align: right;\">\n",
       "      <th></th>\n",
       "      <th>total_images</th>\n",
       "      <th>last_price</th>\n",
       "      <th>total_area</th>\n",
       "      <th>first_day_exposition</th>\n",
       "      <th>rooms</th>\n",
       "      <th>ceiling_height</th>\n",
       "      <th>floors_total</th>\n",
       "      <th>living_area</th>\n",
       "      <th>floor</th>\n",
       "      <th>is_apartment</th>\n",
       "      <th>...</th>\n",
       "      <th>kitchen_area</th>\n",
       "      <th>balcony</th>\n",
       "      <th>locality_name</th>\n",
       "      <th>airports_nearest</th>\n",
       "      <th>cityCenters_nearest</th>\n",
       "      <th>parks_around3000</th>\n",
       "      <th>parks_nearest</th>\n",
       "      <th>ponds_around3000</th>\n",
       "      <th>ponds_nearest</th>\n",
       "      <th>days_exposition</th>\n",
       "    </tr>\n",
       "  </thead>\n",
       "  <tbody>\n",
       "    <tr>\n",
       "      <th>0</th>\n",
       "      <td>20</td>\n",
       "      <td>13000000.0</td>\n",
       "      <td>108.0</td>\n",
       "      <td>2019-03-07T00:00:00</td>\n",
       "      <td>3</td>\n",
       "      <td>2.70</td>\n",
       "      <td>16.0</td>\n",
       "      <td>51.0</td>\n",
       "      <td>8</td>\n",
       "      <td>NaN</td>\n",
       "      <td>...</td>\n",
       "      <td>25.0</td>\n",
       "      <td>NaN</td>\n",
       "      <td>Санкт-Петербург</td>\n",
       "      <td>18863.0</td>\n",
       "      <td>16028.0</td>\n",
       "      <td>1.0</td>\n",
       "      <td>482.0</td>\n",
       "      <td>2.0</td>\n",
       "      <td>755.0</td>\n",
       "      <td>NaN</td>\n",
       "    </tr>\n",
       "    <tr>\n",
       "      <th>1</th>\n",
       "      <td>7</td>\n",
       "      <td>3350000.0</td>\n",
       "      <td>40.4</td>\n",
       "      <td>2018-12-04T00:00:00</td>\n",
       "      <td>1</td>\n",
       "      <td>NaN</td>\n",
       "      <td>11.0</td>\n",
       "      <td>18.6</td>\n",
       "      <td>1</td>\n",
       "      <td>NaN</td>\n",
       "      <td>...</td>\n",
       "      <td>11.0</td>\n",
       "      <td>2.0</td>\n",
       "      <td>посёлок Шушары</td>\n",
       "      <td>12817.0</td>\n",
       "      <td>18603.0</td>\n",
       "      <td>0.0</td>\n",
       "      <td>NaN</td>\n",
       "      <td>0.0</td>\n",
       "      <td>NaN</td>\n",
       "      <td>81.0</td>\n",
       "    </tr>\n",
       "    <tr>\n",
       "      <th>2</th>\n",
       "      <td>10</td>\n",
       "      <td>5196000.0</td>\n",
       "      <td>56.0</td>\n",
       "      <td>2015-08-20T00:00:00</td>\n",
       "      <td>2</td>\n",
       "      <td>NaN</td>\n",
       "      <td>5.0</td>\n",
       "      <td>34.3</td>\n",
       "      <td>4</td>\n",
       "      <td>NaN</td>\n",
       "      <td>...</td>\n",
       "      <td>8.3</td>\n",
       "      <td>0.0</td>\n",
       "      <td>Санкт-Петербург</td>\n",
       "      <td>21741.0</td>\n",
       "      <td>13933.0</td>\n",
       "      <td>1.0</td>\n",
       "      <td>90.0</td>\n",
       "      <td>2.0</td>\n",
       "      <td>574.0</td>\n",
       "      <td>558.0</td>\n",
       "    </tr>\n",
       "    <tr>\n",
       "      <th>3</th>\n",
       "      <td>0</td>\n",
       "      <td>64900000.0</td>\n",
       "      <td>159.0</td>\n",
       "      <td>2015-07-24T00:00:00</td>\n",
       "      <td>3</td>\n",
       "      <td>NaN</td>\n",
       "      <td>14.0</td>\n",
       "      <td>NaN</td>\n",
       "      <td>9</td>\n",
       "      <td>NaN</td>\n",
       "      <td>...</td>\n",
       "      <td>NaN</td>\n",
       "      <td>0.0</td>\n",
       "      <td>Санкт-Петербург</td>\n",
       "      <td>28098.0</td>\n",
       "      <td>6800.0</td>\n",
       "      <td>2.0</td>\n",
       "      <td>84.0</td>\n",
       "      <td>3.0</td>\n",
       "      <td>234.0</td>\n",
       "      <td>424.0</td>\n",
       "    </tr>\n",
       "    <tr>\n",
       "      <th>4</th>\n",
       "      <td>2</td>\n",
       "      <td>10000000.0</td>\n",
       "      <td>100.0</td>\n",
       "      <td>2018-06-19T00:00:00</td>\n",
       "      <td>2</td>\n",
       "      <td>3.03</td>\n",
       "      <td>14.0</td>\n",
       "      <td>32.0</td>\n",
       "      <td>13</td>\n",
       "      <td>NaN</td>\n",
       "      <td>...</td>\n",
       "      <td>41.0</td>\n",
       "      <td>NaN</td>\n",
       "      <td>Санкт-Петербург</td>\n",
       "      <td>31856.0</td>\n",
       "      <td>8098.0</td>\n",
       "      <td>2.0</td>\n",
       "      <td>112.0</td>\n",
       "      <td>1.0</td>\n",
       "      <td>48.0</td>\n",
       "      <td>121.0</td>\n",
       "    </tr>\n",
       "  </tbody>\n",
       "</table>\n",
       "<p>5 rows × 22 columns</p>\n",
       "</div>"
      ],
      "text/plain": [
       "   total_images  last_price  total_area first_day_exposition  rooms  \\\n",
       "0            20  13000000.0       108.0  2019-03-07T00:00:00      3   \n",
       "1             7   3350000.0        40.4  2018-12-04T00:00:00      1   \n",
       "2            10   5196000.0        56.0  2015-08-20T00:00:00      2   \n",
       "3             0  64900000.0       159.0  2015-07-24T00:00:00      3   \n",
       "4             2  10000000.0       100.0  2018-06-19T00:00:00      2   \n",
       "\n",
       "   ceiling_height  floors_total  living_area  floor is_apartment  ...  \\\n",
       "0            2.70          16.0         51.0      8          NaN  ...   \n",
       "1             NaN          11.0         18.6      1          NaN  ...   \n",
       "2             NaN           5.0         34.3      4          NaN  ...   \n",
       "3             NaN          14.0          NaN      9          NaN  ...   \n",
       "4            3.03          14.0         32.0     13          NaN  ...   \n",
       "\n",
       "   kitchen_area  balcony    locality_name  airports_nearest  \\\n",
       "0          25.0      NaN  Санкт-Петербург           18863.0   \n",
       "1          11.0      2.0   посёлок Шушары           12817.0   \n",
       "2           8.3      0.0  Санкт-Петербург           21741.0   \n",
       "3           NaN      0.0  Санкт-Петербург           28098.0   \n",
       "4          41.0      NaN  Санкт-Петербург           31856.0   \n",
       "\n",
       "  cityCenters_nearest  parks_around3000  parks_nearest  ponds_around3000  \\\n",
       "0             16028.0               1.0          482.0               2.0   \n",
       "1             18603.0               0.0            NaN               0.0   \n",
       "2             13933.0               1.0           90.0               2.0   \n",
       "3              6800.0               2.0           84.0               3.0   \n",
       "4              8098.0               2.0          112.0               1.0   \n",
       "\n",
       "   ponds_nearest  days_exposition  \n",
       "0          755.0              NaN  \n",
       "1            NaN             81.0  \n",
       "2          574.0            558.0  \n",
       "3          234.0            424.0  \n",
       "4           48.0            121.0  \n",
       "\n",
       "[5 rows x 22 columns]"
      ]
     },
     "execution_count": 3,
     "metadata": {},
     "output_type": "execute_result"
    }
   ],
   "source": [
    "df.info()\n",
    "df.head()"
   ]
  },
  {
   "cell_type": "code",
   "execution_count": 4,
   "metadata": {},
   "outputs": [
    {
     "data": {
      "text/html": [
       "<div>\n",
       "<style scoped>\n",
       "    .dataframe tbody tr th:only-of-type {\n",
       "        vertical-align: middle;\n",
       "    }\n",
       "\n",
       "    .dataframe tbody tr th {\n",
       "        vertical-align: top;\n",
       "    }\n",
       "\n",
       "    .dataframe thead th {\n",
       "        text-align: right;\n",
       "    }\n",
       "</style>\n",
       "<table border=\"1\" class=\"dataframe\">\n",
       "  <thead>\n",
       "    <tr style=\"text-align: right;\">\n",
       "      <th></th>\n",
       "      <th>total_images</th>\n",
       "      <th>last_price</th>\n",
       "      <th>total_area</th>\n",
       "      <th>rooms</th>\n",
       "      <th>ceiling_height</th>\n",
       "      <th>floors_total</th>\n",
       "      <th>living_area</th>\n",
       "      <th>floor</th>\n",
       "      <th>kitchen_area</th>\n",
       "      <th>balcony</th>\n",
       "      <th>airports_nearest</th>\n",
       "      <th>cityCenters_nearest</th>\n",
       "      <th>parks_around3000</th>\n",
       "      <th>parks_nearest</th>\n",
       "      <th>ponds_around3000</th>\n",
       "      <th>ponds_nearest</th>\n",
       "      <th>days_exposition</th>\n",
       "    </tr>\n",
       "  </thead>\n",
       "  <tbody>\n",
       "    <tr>\n",
       "      <th>count</th>\n",
       "      <td>23699.000000</td>\n",
       "      <td>2.369900e+04</td>\n",
       "      <td>23699.000000</td>\n",
       "      <td>23699.000000</td>\n",
       "      <td>14504.000000</td>\n",
       "      <td>23613.000000</td>\n",
       "      <td>21796.000000</td>\n",
       "      <td>23699.000000</td>\n",
       "      <td>21421.000000</td>\n",
       "      <td>12180.000000</td>\n",
       "      <td>18157.000000</td>\n",
       "      <td>18180.000000</td>\n",
       "      <td>18181.000000</td>\n",
       "      <td>8079.000000</td>\n",
       "      <td>18181.000000</td>\n",
       "      <td>9110.000000</td>\n",
       "      <td>20518.000000</td>\n",
       "    </tr>\n",
       "    <tr>\n",
       "      <th>mean</th>\n",
       "      <td>9.858475</td>\n",
       "      <td>6.541549e+06</td>\n",
       "      <td>60.348651</td>\n",
       "      <td>2.070636</td>\n",
       "      <td>2.771499</td>\n",
       "      <td>10.673824</td>\n",
       "      <td>34.457852</td>\n",
       "      <td>5.892358</td>\n",
       "      <td>10.569807</td>\n",
       "      <td>1.150082</td>\n",
       "      <td>28793.672193</td>\n",
       "      <td>14191.277833</td>\n",
       "      <td>0.611408</td>\n",
       "      <td>490.804555</td>\n",
       "      <td>0.770255</td>\n",
       "      <td>517.980900</td>\n",
       "      <td>180.888634</td>\n",
       "    </tr>\n",
       "    <tr>\n",
       "      <th>std</th>\n",
       "      <td>5.682529</td>\n",
       "      <td>1.088701e+07</td>\n",
       "      <td>35.654083</td>\n",
       "      <td>1.078405</td>\n",
       "      <td>1.261056</td>\n",
       "      <td>6.597173</td>\n",
       "      <td>22.030445</td>\n",
       "      <td>4.885249</td>\n",
       "      <td>5.905438</td>\n",
       "      <td>1.071300</td>\n",
       "      <td>12630.880622</td>\n",
       "      <td>8608.386210</td>\n",
       "      <td>0.802074</td>\n",
       "      <td>342.317995</td>\n",
       "      <td>0.938346</td>\n",
       "      <td>277.720643</td>\n",
       "      <td>219.727988</td>\n",
       "    </tr>\n",
       "    <tr>\n",
       "      <th>min</th>\n",
       "      <td>0.000000</td>\n",
       "      <td>1.219000e+04</td>\n",
       "      <td>12.000000</td>\n",
       "      <td>0.000000</td>\n",
       "      <td>1.000000</td>\n",
       "      <td>1.000000</td>\n",
       "      <td>2.000000</td>\n",
       "      <td>1.000000</td>\n",
       "      <td>1.300000</td>\n",
       "      <td>0.000000</td>\n",
       "      <td>0.000000</td>\n",
       "      <td>181.000000</td>\n",
       "      <td>0.000000</td>\n",
       "      <td>1.000000</td>\n",
       "      <td>0.000000</td>\n",
       "      <td>13.000000</td>\n",
       "      <td>1.000000</td>\n",
       "    </tr>\n",
       "    <tr>\n",
       "      <th>25%</th>\n",
       "      <td>6.000000</td>\n",
       "      <td>3.400000e+06</td>\n",
       "      <td>40.000000</td>\n",
       "      <td>1.000000</td>\n",
       "      <td>2.520000</td>\n",
       "      <td>5.000000</td>\n",
       "      <td>18.600000</td>\n",
       "      <td>2.000000</td>\n",
       "      <td>7.000000</td>\n",
       "      <td>0.000000</td>\n",
       "      <td>18585.000000</td>\n",
       "      <td>9238.000000</td>\n",
       "      <td>0.000000</td>\n",
       "      <td>288.000000</td>\n",
       "      <td>0.000000</td>\n",
       "      <td>294.000000</td>\n",
       "      <td>45.000000</td>\n",
       "    </tr>\n",
       "    <tr>\n",
       "      <th>50%</th>\n",
       "      <td>9.000000</td>\n",
       "      <td>4.650000e+06</td>\n",
       "      <td>52.000000</td>\n",
       "      <td>2.000000</td>\n",
       "      <td>2.650000</td>\n",
       "      <td>9.000000</td>\n",
       "      <td>30.000000</td>\n",
       "      <td>4.000000</td>\n",
       "      <td>9.100000</td>\n",
       "      <td>1.000000</td>\n",
       "      <td>26726.000000</td>\n",
       "      <td>13098.500000</td>\n",
       "      <td>0.000000</td>\n",
       "      <td>455.000000</td>\n",
       "      <td>1.000000</td>\n",
       "      <td>502.000000</td>\n",
       "      <td>95.000000</td>\n",
       "    </tr>\n",
       "    <tr>\n",
       "      <th>75%</th>\n",
       "      <td>14.000000</td>\n",
       "      <td>6.800000e+06</td>\n",
       "      <td>69.900000</td>\n",
       "      <td>3.000000</td>\n",
       "      <td>2.800000</td>\n",
       "      <td>16.000000</td>\n",
       "      <td>42.300000</td>\n",
       "      <td>8.000000</td>\n",
       "      <td>12.000000</td>\n",
       "      <td>2.000000</td>\n",
       "      <td>37273.000000</td>\n",
       "      <td>16293.000000</td>\n",
       "      <td>1.000000</td>\n",
       "      <td>612.000000</td>\n",
       "      <td>1.000000</td>\n",
       "      <td>729.000000</td>\n",
       "      <td>232.000000</td>\n",
       "    </tr>\n",
       "    <tr>\n",
       "      <th>max</th>\n",
       "      <td>50.000000</td>\n",
       "      <td>7.630000e+08</td>\n",
       "      <td>900.000000</td>\n",
       "      <td>19.000000</td>\n",
       "      <td>100.000000</td>\n",
       "      <td>60.000000</td>\n",
       "      <td>409.700000</td>\n",
       "      <td>33.000000</td>\n",
       "      <td>112.000000</td>\n",
       "      <td>5.000000</td>\n",
       "      <td>84869.000000</td>\n",
       "      <td>65968.000000</td>\n",
       "      <td>3.000000</td>\n",
       "      <td>3190.000000</td>\n",
       "      <td>3.000000</td>\n",
       "      <td>1344.000000</td>\n",
       "      <td>1580.000000</td>\n",
       "    </tr>\n",
       "  </tbody>\n",
       "</table>\n",
       "</div>"
      ],
      "text/plain": [
       "       total_images    last_price    total_area         rooms  ceiling_height  \\\n",
       "count  23699.000000  2.369900e+04  23699.000000  23699.000000    14504.000000   \n",
       "mean       9.858475  6.541549e+06     60.348651      2.070636        2.771499   \n",
       "std        5.682529  1.088701e+07     35.654083      1.078405        1.261056   \n",
       "min        0.000000  1.219000e+04     12.000000      0.000000        1.000000   \n",
       "25%        6.000000  3.400000e+06     40.000000      1.000000        2.520000   \n",
       "50%        9.000000  4.650000e+06     52.000000      2.000000        2.650000   \n",
       "75%       14.000000  6.800000e+06     69.900000      3.000000        2.800000   \n",
       "max       50.000000  7.630000e+08    900.000000     19.000000      100.000000   \n",
       "\n",
       "       floors_total   living_area         floor  kitchen_area       balcony  \\\n",
       "count  23613.000000  21796.000000  23699.000000  21421.000000  12180.000000   \n",
       "mean      10.673824     34.457852      5.892358     10.569807      1.150082   \n",
       "std        6.597173     22.030445      4.885249      5.905438      1.071300   \n",
       "min        1.000000      2.000000      1.000000      1.300000      0.000000   \n",
       "25%        5.000000     18.600000      2.000000      7.000000      0.000000   \n",
       "50%        9.000000     30.000000      4.000000      9.100000      1.000000   \n",
       "75%       16.000000     42.300000      8.000000     12.000000      2.000000   \n",
       "max       60.000000    409.700000     33.000000    112.000000      5.000000   \n",
       "\n",
       "       airports_nearest  cityCenters_nearest  parks_around3000  parks_nearest  \\\n",
       "count      18157.000000         18180.000000      18181.000000    8079.000000   \n",
       "mean       28793.672193         14191.277833          0.611408     490.804555   \n",
       "std        12630.880622          8608.386210          0.802074     342.317995   \n",
       "min            0.000000           181.000000          0.000000       1.000000   \n",
       "25%        18585.000000          9238.000000          0.000000     288.000000   \n",
       "50%        26726.000000         13098.500000          0.000000     455.000000   \n",
       "75%        37273.000000         16293.000000          1.000000     612.000000   \n",
       "max        84869.000000         65968.000000          3.000000    3190.000000   \n",
       "\n",
       "       ponds_around3000  ponds_nearest  days_exposition  \n",
       "count      18181.000000    9110.000000     20518.000000  \n",
       "mean           0.770255     517.980900       180.888634  \n",
       "std            0.938346     277.720643       219.727988  \n",
       "min            0.000000      13.000000         1.000000  \n",
       "25%            0.000000     294.000000        45.000000  \n",
       "50%            1.000000     502.000000        95.000000  \n",
       "75%            1.000000     729.000000       232.000000  \n",
       "max            3.000000    1344.000000      1580.000000  "
      ]
     },
     "execution_count": 4,
     "metadata": {},
     "output_type": "execute_result"
    }
   ],
   "source": [
    "df.describe()"
   ]
  },
  {
   "cell_type": "code",
   "execution_count": 5,
   "metadata": {},
   "outputs": [
    {
     "data": {
      "image/png": "[encoded data removed]",
      "text/plain": [
       "<Figure size 1080x1440 with 20 Axes>"
      ]
     },
     "metadata": {
      "needs_background": "light"
     },
     "output_type": "display_data"
    }
   ],
   "source": [
    "# строим гистограмму для каждого столбца датафрейма\n",
    "df.hist(bins=30, figsize=(15, 20));"
   ]
  },
  {
   "cell_type": "markdown",
   "metadata": {},
   "source": [
    "**Вывод** \n",
    "\n",
    "Нам предоставлены данные с объявлений о продажах квартир. Данных предостаточно для анализа и есть из чего выбрать.  \n",
    "Предварительно можно сказать, что в таблице есть пропуски, возможно дубликаты и скорее всего потребуется изменение формата в колонках для удобства.  \n",
    "Также есть нарушения в стилистике в наименованиях столбцов."
   ]
  },
  {
   "cell_type": "markdown",
   "metadata": {},
   "source": [
    "## Предобработка данных\n",
    "\n",
    "1. Найти и изучить пропущенные значения в столбцах:\n",
    "    * Определить, в каких столбцах есть пропуски.\n",
    "    * Заполнить пропущенные значения там, где это возможно. Например, если продавец не указал число балконов, то, скорее всего, в его квартире их нет. Такие пропуски можно заменить на число 0. \n",
    "2. Рассмотреть типы данных в каждом столбце:\n",
    "    * Найти столбцы, в которых нужно изменить тип данных.\n",
    "    * Преобразовать тип данных в выбранных столбцах.\n",
    "3. Изучить уникальные значения в столбце с названиями и устраните неявные дубликаты. "
   ]
  },
  {
   "cell_type": "code",
   "execution_count": 6,
   "metadata": {},
   "outputs": [
    {
     "data": {
      "text/html": [
       "<div>\n",
       "<style scoped>\n",
       "    .dataframe tbody tr th:only-of-type {\n",
       "        vertical-align: middle;\n",
       "    }\n",
       "\n",
       "    .dataframe tbody tr th {\n",
       "        vertical-align: top;\n",
       "    }\n",
       "\n",
       "    .dataframe thead th {\n",
       "        text-align: right;\n",
       "    }\n",
       "</style>\n",
       "<table border=\"1\" class=\"dataframe\">\n",
       "  <thead>\n",
       "    <tr style=\"text-align: right;\">\n",
       "      <th></th>\n",
       "      <th>total_images</th>\n",
       "      <th>last_price</th>\n",
       "      <th>total_area</th>\n",
       "      <th>first_day_exposition</th>\n",
       "      <th>rooms</th>\n",
       "      <th>ceiling_height</th>\n",
       "      <th>floors_total</th>\n",
       "      <th>living_area</th>\n",
       "      <th>floor</th>\n",
       "      <th>is_apartment</th>\n",
       "      <th>...</th>\n",
       "      <th>kitchen_area</th>\n",
       "      <th>balcony</th>\n",
       "      <th>locality_name</th>\n",
       "      <th>airports_nearest</th>\n",
       "      <th>city_centers_nearest</th>\n",
       "      <th>parks_around_3000</th>\n",
       "      <th>parks_nearest</th>\n",
       "      <th>ponds_around_3000</th>\n",
       "      <th>ponds_nearest</th>\n",
       "      <th>days_exposition</th>\n",
       "    </tr>\n",
       "  </thead>\n",
       "  <tbody>\n",
       "    <tr>\n",
       "      <th>0</th>\n",
       "      <td>20</td>\n",
       "      <td>13000000.0</td>\n",
       "      <td>108.0</td>\n",
       "      <td>2019-03-07T00:00:00</td>\n",
       "      <td>3</td>\n",
       "      <td>2.70</td>\n",
       "      <td>16.0</td>\n",
       "      <td>51.0</td>\n",
       "      <td>8</td>\n",
       "      <td>NaN</td>\n",
       "      <td>...</td>\n",
       "      <td>25.0</td>\n",
       "      <td>NaN</td>\n",
       "      <td>Санкт-Петербург</td>\n",
       "      <td>18863.0</td>\n",
       "      <td>16028.0</td>\n",
       "      <td>1.0</td>\n",
       "      <td>482.0</td>\n",
       "      <td>2.0</td>\n",
       "      <td>755.0</td>\n",
       "      <td>NaN</td>\n",
       "    </tr>\n",
       "    <tr>\n",
       "      <th>1</th>\n",
       "      <td>7</td>\n",
       "      <td>3350000.0</td>\n",
       "      <td>40.4</td>\n",
       "      <td>2018-12-04T00:00:00</td>\n",
       "      <td>1</td>\n",
       "      <td>NaN</td>\n",
       "      <td>11.0</td>\n",
       "      <td>18.6</td>\n",
       "      <td>1</td>\n",
       "      <td>NaN</td>\n",
       "      <td>...</td>\n",
       "      <td>11.0</td>\n",
       "      <td>2.0</td>\n",
       "      <td>посёлок Шушары</td>\n",
       "      <td>12817.0</td>\n",
       "      <td>18603.0</td>\n",
       "      <td>0.0</td>\n",
       "      <td>NaN</td>\n",
       "      <td>0.0</td>\n",
       "      <td>NaN</td>\n",
       "      <td>81.0</td>\n",
       "    </tr>\n",
       "    <tr>\n",
       "      <th>2</th>\n",
       "      <td>10</td>\n",
       "      <td>5196000.0</td>\n",
       "      <td>56.0</td>\n",
       "      <td>2015-08-20T00:00:00</td>\n",
       "      <td>2</td>\n",
       "      <td>NaN</td>\n",
       "      <td>5.0</td>\n",
       "      <td>34.3</td>\n",
       "      <td>4</td>\n",
       "      <td>NaN</td>\n",
       "      <td>...</td>\n",
       "      <td>8.3</td>\n",
       "      <td>0.0</td>\n",
       "      <td>Санкт-Петербург</td>\n",
       "      <td>21741.0</td>\n",
       "      <td>13933.0</td>\n",
       "      <td>1.0</td>\n",
       "      <td>90.0</td>\n",
       "      <td>2.0</td>\n",
       "      <td>574.0</td>\n",
       "      <td>558.0</td>\n",
       "    </tr>\n",
       "    <tr>\n",
       "      <th>3</th>\n",
       "      <td>0</td>\n",
       "      <td>64900000.0</td>\n",
       "      <td>159.0</td>\n",
       "      <td>2015-07-24T00:00:00</td>\n",
       "      <td>3</td>\n",
       "      <td>NaN</td>\n",
       "      <td>14.0</td>\n",
       "      <td>NaN</td>\n",
       "      <td>9</td>\n",
       "      <td>NaN</td>\n",
       "      <td>...</td>\n",
       "      <td>NaN</td>\n",
       "      <td>0.0</td>\n",
       "      <td>Санкт-Петербург</td>\n",
       "      <td>28098.0</td>\n",
       "      <td>6800.0</td>\n",
       "      <td>2.0</td>\n",
       "      <td>84.0</td>\n",
       "      <td>3.0</td>\n",
       "      <td>234.0</td>\n",
       "      <td>424.0</td>\n",
       "    </tr>\n",
       "    <tr>\n",
       "      <th>4</th>\n",
       "      <td>2</td>\n",
       "      <td>10000000.0</td>\n",
       "      <td>100.0</td>\n",
       "      <td>2018-06-19T00:00:00</td>\n",
       "      <td>2</td>\n",
       "      <td>3.03</td>\n",
       "      <td>14.0</td>\n",
       "      <td>32.0</td>\n",
       "      <td>13</td>\n",
       "      <td>NaN</td>\n",
       "      <td>...</td>\n",
       "      <td>41.0</td>\n",
       "      <td>NaN</td>\n",
       "      <td>Санкт-Петербург</td>\n",
       "      <td>31856.0</td>\n",
       "      <td>8098.0</td>\n",
       "      <td>2.0</td>\n",
       "      <td>112.0</td>\n",
       "      <td>1.0</td>\n",
       "      <td>48.0</td>\n",
       "      <td>121.0</td>\n",
       "    </tr>\n",
       "  </tbody>\n",
       "</table>\n",
       "<p>5 rows × 22 columns</p>\n",
       "</div>"
      ],
      "text/plain": [
       "   total_images  last_price  total_area first_day_exposition  rooms  \\\n",
       "0            20  13000000.0       108.0  2019-03-07T00:00:00      3   \n",
       "1             7   3350000.0        40.4  2018-12-04T00:00:00      1   \n",
       "2            10   5196000.0        56.0  2015-08-20T00:00:00      2   \n",
       "3             0  64900000.0       159.0  2015-07-24T00:00:00      3   \n",
       "4             2  10000000.0       100.0  2018-06-19T00:00:00      2   \n",
       "\n",
       "   ceiling_height  floors_total  living_area  floor is_apartment  ...  \\\n",
       "0            2.70          16.0         51.0      8          NaN  ...   \n",
       "1             NaN          11.0         18.6      1          NaN  ...   \n",
       "2             NaN           5.0         34.3      4          NaN  ...   \n",
       "3             NaN          14.0          NaN      9          NaN  ...   \n",
       "4            3.03          14.0         32.0     13          NaN  ...   \n",
       "\n",
       "   kitchen_area  balcony    locality_name  airports_nearest  \\\n",
       "0          25.0      NaN  Санкт-Петербург           18863.0   \n",
       "1          11.0      2.0   посёлок Шушары           12817.0   \n",
       "2           8.3      0.0  Санкт-Петербург           21741.0   \n",
       "3           NaN      0.0  Санкт-Петербург           28098.0   \n",
       "4          41.0      NaN  Санкт-Петербург           31856.0   \n",
       "\n",
       "  city_centers_nearest  parks_around_3000  parks_nearest  ponds_around_3000  \\\n",
       "0              16028.0                1.0          482.0                2.0   \n",
       "1              18603.0                0.0            NaN                0.0   \n",
       "2              13933.0                1.0           90.0                2.0   \n",
       "3               6800.0                2.0           84.0                3.0   \n",
       "4               8098.0                2.0          112.0                1.0   \n",
       "\n",
       "   ponds_nearest  days_exposition  \n",
       "0          755.0              NaN  \n",
       "1            NaN             81.0  \n",
       "2          574.0            558.0  \n",
       "3          234.0            424.0  \n",
       "4           48.0            121.0  \n",
       "\n",
       "[5 rows x 22 columns]"
      ]
     },
     "execution_count": 6,
     "metadata": {},
     "output_type": "execute_result"
    }
   ],
   "source": [
    "# приведем наименования столбцов к одинаковому стилю\n",
    "df = df.rename(columns={'cityCenters_nearest': 'city_centers_nearest', \n",
    "                        'parks_around3000': 'parks_around_3000', \n",
    "                        'ponds_around3000': 'ponds_around_3000'\n",
    "                       })\n",
    "df.head()"
   ]
  },
  {
   "cell_type": "markdown",
   "metadata": {},
   "source": [
    "Начнем обработку данных со столбца **total_images**:"
   ]
  },
  {
   "cell_type": "code",
   "execution_count": 7,
   "metadata": {},
   "outputs": [
    {
     "data": {
      "text/plain": [
       "count    23699.000000\n",
       "mean         9.858475\n",
       "std          5.682529\n",
       "min          0.000000\n",
       "25%          6.000000\n",
       "50%          9.000000\n",
       "75%         14.000000\n",
       "max         50.000000\n",
       "Name: total_images, dtype: float64"
      ]
     },
     "execution_count": 7,
     "metadata": {},
     "output_type": "execute_result"
    }
   ],
   "source": [
    "df['total_images'].describe()"
   ]
  },
  {
   "cell_type": "markdown",
   "metadata": {},
   "source": [
    "Есть объявления без фотографий.  "
   ]
  },
  {
   "cell_type": "markdown",
   "metadata": {},
   "source": [
    "Столбец **last_price**"
   ]
  },
  {
   "cell_type": "code",
   "execution_count": 8,
   "metadata": {},
   "outputs": [
    {
     "data": {
      "text/html": [
       "<div>\n",
       "<style scoped>\n",
       "    .dataframe tbody tr th:only-of-type {\n",
       "        vertical-align: middle;\n",
       "    }\n",
       "\n",
       "    .dataframe tbody tr th {\n",
       "        vertical-align: top;\n",
       "    }\n",
       "\n",
       "    .dataframe thead th {\n",
       "        text-align: right;\n",
       "    }\n",
       "</style>\n",
       "<table border=\"1\" class=\"dataframe\">\n",
       "  <thead>\n",
       "    <tr style=\"text-align: right;\">\n",
       "      <th></th>\n",
       "      <th>total_images</th>\n",
       "      <th>price_1000</th>\n",
       "      <th>total_area</th>\n",
       "      <th>first_day_exposition</th>\n",
       "      <th>rooms</th>\n",
       "      <th>ceiling_height</th>\n",
       "      <th>floors_total</th>\n",
       "      <th>living_area</th>\n",
       "      <th>floor</th>\n",
       "      <th>is_apartment</th>\n",
       "      <th>...</th>\n",
       "      <th>kitchen_area</th>\n",
       "      <th>balcony</th>\n",
       "      <th>locality_name</th>\n",
       "      <th>airports_nearest</th>\n",
       "      <th>city_centers_nearest</th>\n",
       "      <th>parks_around_3000</th>\n",
       "      <th>parks_nearest</th>\n",
       "      <th>ponds_around_3000</th>\n",
       "      <th>ponds_nearest</th>\n",
       "      <th>days_exposition</th>\n",
       "    </tr>\n",
       "  </thead>\n",
       "  <tbody>\n",
       "    <tr>\n",
       "      <th>0</th>\n",
       "      <td>20</td>\n",
       "      <td>13000.0</td>\n",
       "      <td>108.0</td>\n",
       "      <td>2019-03-07T00:00:00</td>\n",
       "      <td>3</td>\n",
       "      <td>2.70</td>\n",
       "      <td>16.0</td>\n",
       "      <td>51.0</td>\n",
       "      <td>8</td>\n",
       "      <td>NaN</td>\n",
       "      <td>...</td>\n",
       "      <td>25.0</td>\n",
       "      <td>NaN</td>\n",
       "      <td>Санкт-Петербург</td>\n",
       "      <td>18863.0</td>\n",
       "      <td>16028.0</td>\n",
       "      <td>1.0</td>\n",
       "      <td>482.0</td>\n",
       "      <td>2.0</td>\n",
       "      <td>755.0</td>\n",
       "      <td>NaN</td>\n",
       "    </tr>\n",
       "    <tr>\n",
       "      <th>1</th>\n",
       "      <td>7</td>\n",
       "      <td>3350.0</td>\n",
       "      <td>40.4</td>\n",
       "      <td>2018-12-04T00:00:00</td>\n",
       "      <td>1</td>\n",
       "      <td>NaN</td>\n",
       "      <td>11.0</td>\n",
       "      <td>18.6</td>\n",
       "      <td>1</td>\n",
       "      <td>NaN</td>\n",
       "      <td>...</td>\n",
       "      <td>11.0</td>\n",
       "      <td>2.0</td>\n",
       "      <td>посёлок Шушары</td>\n",
       "      <td>12817.0</td>\n",
       "      <td>18603.0</td>\n",
       "      <td>0.0</td>\n",
       "      <td>NaN</td>\n",
       "      <td>0.0</td>\n",
       "      <td>NaN</td>\n",
       "      <td>81.0</td>\n",
       "    </tr>\n",
       "    <tr>\n",
       "      <th>2</th>\n",
       "      <td>10</td>\n",
       "      <td>5196.0</td>\n",
       "      <td>56.0</td>\n",
       "      <td>2015-08-20T00:00:00</td>\n",
       "      <td>2</td>\n",
       "      <td>NaN</td>\n",
       "      <td>5.0</td>\n",
       "      <td>34.3</td>\n",
       "      <td>4</td>\n",
       "      <td>NaN</td>\n",
       "      <td>...</td>\n",
       "      <td>8.3</td>\n",
       "      <td>0.0</td>\n",
       "      <td>Санкт-Петербург</td>\n",
       "      <td>21741.0</td>\n",
       "      <td>13933.0</td>\n",
       "      <td>1.0</td>\n",
       "      <td>90.0</td>\n",
       "      <td>2.0</td>\n",
       "      <td>574.0</td>\n",
       "      <td>558.0</td>\n",
       "    </tr>\n",
       "    <tr>\n",
       "      <th>3</th>\n",
       "      <td>0</td>\n",
       "      <td>64900.0</td>\n",
       "      <td>159.0</td>\n",
       "      <td>2015-07-24T00:00:00</td>\n",
       "      <td>3</td>\n",
       "      <td>NaN</td>\n",
       "      <td>14.0</td>\n",
       "      <td>NaN</td>\n",
       "      <td>9</td>\n",
       "      <td>NaN</td>\n",
       "      <td>...</td>\n",
       "      <td>NaN</td>\n",
       "      <td>0.0</td>\n",
       "      <td>Санкт-Петербург</td>\n",
       "      <td>28098.0</td>\n",
       "      <td>6800.0</td>\n",
       "      <td>2.0</td>\n",
       "      <td>84.0</td>\n",
       "      <td>3.0</td>\n",
       "      <td>234.0</td>\n",
       "      <td>424.0</td>\n",
       "    </tr>\n",
       "    <tr>\n",
       "      <th>4</th>\n",
       "      <td>2</td>\n",
       "      <td>10000.0</td>\n",
       "      <td>100.0</td>\n",
       "      <td>2018-06-19T00:00:00</td>\n",
       "      <td>2</td>\n",
       "      <td>3.03</td>\n",
       "      <td>14.0</td>\n",
       "      <td>32.0</td>\n",
       "      <td>13</td>\n",
       "      <td>NaN</td>\n",
       "      <td>...</td>\n",
       "      <td>41.0</td>\n",
       "      <td>NaN</td>\n",
       "      <td>Санкт-Петербург</td>\n",
       "      <td>31856.0</td>\n",
       "      <td>8098.0</td>\n",
       "      <td>2.0</td>\n",
       "      <td>112.0</td>\n",
       "      <td>1.0</td>\n",
       "      <td>48.0</td>\n",
       "      <td>121.0</td>\n",
       "    </tr>\n",
       "  </tbody>\n",
       "</table>\n",
       "<p>5 rows × 22 columns</p>\n",
       "</div>"
      ],
      "text/plain": [
       "   total_images  price_1000  total_area first_day_exposition  rooms  \\\n",
       "0            20     13000.0       108.0  2019-03-07T00:00:00      3   \n",
       "1             7      3350.0        40.4  2018-12-04T00:00:00      1   \n",
       "2            10      5196.0        56.0  2015-08-20T00:00:00      2   \n",
       "3             0     64900.0       159.0  2015-07-24T00:00:00      3   \n",
       "4             2     10000.0       100.0  2018-06-19T00:00:00      2   \n",
       "\n",
       "   ceiling_height  floors_total  living_area  floor is_apartment  ...  \\\n",
       "0            2.70          16.0         51.0      8          NaN  ...   \n",
       "1             NaN          11.0         18.6      1          NaN  ...   \n",
       "2             NaN           5.0         34.3      4          NaN  ...   \n",
       "3             NaN          14.0          NaN      9          NaN  ...   \n",
       "4            3.03          14.0         32.0     13          NaN  ...   \n",
       "\n",
       "   kitchen_area  balcony    locality_name  airports_nearest  \\\n",
       "0          25.0      NaN  Санкт-Петербург           18863.0   \n",
       "1          11.0      2.0   посёлок Шушары           12817.0   \n",
       "2           8.3      0.0  Санкт-Петербург           21741.0   \n",
       "3           NaN      0.0  Санкт-Петербург           28098.0   \n",
       "4          41.0      NaN  Санкт-Петербург           31856.0   \n",
       "\n",
       "  city_centers_nearest  parks_around_3000  parks_nearest  ponds_around_3000  \\\n",
       "0              16028.0                1.0          482.0                2.0   \n",
       "1              18603.0                0.0            NaN                0.0   \n",
       "2              13933.0                1.0           90.0                2.0   \n",
       "3               6800.0                2.0           84.0                3.0   \n",
       "4               8098.0                2.0          112.0                1.0   \n",
       "\n",
       "   ponds_nearest  days_exposition  \n",
       "0          755.0              NaN  \n",
       "1            NaN             81.0  \n",
       "2          574.0            558.0  \n",
       "3          234.0            424.0  \n",
       "4           48.0            121.0  \n",
       "\n",
       "[5 rows x 22 columns]"
      ]
     },
     "execution_count": 8,
     "metadata": {},
     "output_type": "execute_result"
    }
   ],
   "source": [
    "# отбросим три нуля\n",
    "df['last_price'] = df['last_price'] / 1000 \n",
    "\n",
    "# переименуем столбец, чтобы не забыть, что цены в тысячах\n",
    "df = df.rename(columns={'last_price' : 'price_1000'}) \n",
    "df.head()"
   ]
  },
  {
   "cell_type": "markdown",
   "metadata": {},
   "source": [
    "Посмотрим что со столбцом **total_area**"
   ]
  },
  {
   "cell_type": "code",
   "execution_count": 9,
   "metadata": {},
   "outputs": [
    {
     "data": {
      "text/plain": [
       "count    23699.000000\n",
       "mean        60.348651\n",
       "std         35.654083\n",
       "min         12.000000\n",
       "25%         40.000000\n",
       "50%         52.000000\n",
       "75%         69.900000\n",
       "max        900.000000\n",
       "Name: total_area, dtype: float64"
      ]
     },
     "execution_count": 9,
     "metadata": {},
     "output_type": "execute_result"
    }
   ],
   "source": [
    "df['total_area'].describe()"
   ]
  },
  {
   "cell_type": "markdown",
   "metadata": {},
   "source": [
    "Рынок квартир не перестает удивлять. Есть как квартиры 12 м^2, так и 900 м^2."
   ]
  },
  {
   "cell_type": "markdown",
   "metadata": {},
   "source": [
    "Преобразуем значения столбца **'first_day_exposition'** в дату из строки."
   ]
  },
  {
   "cell_type": "code",
   "execution_count": 10,
   "metadata": {},
   "outputs": [
    {
     "data": {
      "text/html": [
       "<div>\n",
       "<style scoped>\n",
       "    .dataframe tbody tr th:only-of-type {\n",
       "        vertical-align: middle;\n",
       "    }\n",
       "\n",
       "    .dataframe tbody tr th {\n",
       "        vertical-align: top;\n",
       "    }\n",
       "\n",
       "    .dataframe thead th {\n",
       "        text-align: right;\n",
       "    }\n",
       "</style>\n",
       "<table border=\"1\" class=\"dataframe\">\n",
       "  <thead>\n",
       "    <tr style=\"text-align: right;\">\n",
       "      <th></th>\n",
       "      <th>total_images</th>\n",
       "      <th>price_1000</th>\n",
       "      <th>total_area</th>\n",
       "      <th>first_day_exposition</th>\n",
       "      <th>rooms</th>\n",
       "      <th>ceiling_height</th>\n",
       "      <th>floors_total</th>\n",
       "      <th>living_area</th>\n",
       "      <th>floor</th>\n",
       "      <th>is_apartment</th>\n",
       "      <th>...</th>\n",
       "      <th>kitchen_area</th>\n",
       "      <th>balcony</th>\n",
       "      <th>locality_name</th>\n",
       "      <th>airports_nearest</th>\n",
       "      <th>city_centers_nearest</th>\n",
       "      <th>parks_around_3000</th>\n",
       "      <th>parks_nearest</th>\n",
       "      <th>ponds_around_3000</th>\n",
       "      <th>ponds_nearest</th>\n",
       "      <th>days_exposition</th>\n",
       "    </tr>\n",
       "  </thead>\n",
       "  <tbody>\n",
       "    <tr>\n",
       "      <th>0</th>\n",
       "      <td>20</td>\n",
       "      <td>13000.0</td>\n",
       "      <td>108.0</td>\n",
       "      <td>2019-03-07</td>\n",
       "      <td>3</td>\n",
       "      <td>2.70</td>\n",
       "      <td>16.0</td>\n",
       "      <td>51.0</td>\n",
       "      <td>8</td>\n",
       "      <td>NaN</td>\n",
       "      <td>...</td>\n",
       "      <td>25.0</td>\n",
       "      <td>NaN</td>\n",
       "      <td>Санкт-Петербург</td>\n",
       "      <td>18863.0</td>\n",
       "      <td>16028.0</td>\n",
       "      <td>1.0</td>\n",
       "      <td>482.0</td>\n",
       "      <td>2.0</td>\n",
       "      <td>755.0</td>\n",
       "      <td>NaN</td>\n",
       "    </tr>\n",
       "    <tr>\n",
       "      <th>1</th>\n",
       "      <td>7</td>\n",
       "      <td>3350.0</td>\n",
       "      <td>40.4</td>\n",
       "      <td>2018-12-04</td>\n",
       "      <td>1</td>\n",
       "      <td>NaN</td>\n",
       "      <td>11.0</td>\n",
       "      <td>18.6</td>\n",
       "      <td>1</td>\n",
       "      <td>NaN</td>\n",
       "      <td>...</td>\n",
       "      <td>11.0</td>\n",
       "      <td>2.0</td>\n",
       "      <td>посёлок Шушары</td>\n",
       "      <td>12817.0</td>\n",
       "      <td>18603.0</td>\n",
       "      <td>0.0</td>\n",
       "      <td>NaN</td>\n",
       "      <td>0.0</td>\n",
       "      <td>NaN</td>\n",
       "      <td>81.0</td>\n",
       "    </tr>\n",
       "    <tr>\n",
       "      <th>2</th>\n",
       "      <td>10</td>\n",
       "      <td>5196.0</td>\n",
       "      <td>56.0</td>\n",
       "      <td>2015-08-20</td>\n",
       "      <td>2</td>\n",
       "      <td>NaN</td>\n",
       "      <td>5.0</td>\n",
       "      <td>34.3</td>\n",
       "      <td>4</td>\n",
       "      <td>NaN</td>\n",
       "      <td>...</td>\n",
       "      <td>8.3</td>\n",
       "      <td>0.0</td>\n",
       "      <td>Санкт-Петербург</td>\n",
       "      <td>21741.0</td>\n",
       "      <td>13933.0</td>\n",
       "      <td>1.0</td>\n",
       "      <td>90.0</td>\n",
       "      <td>2.0</td>\n",
       "      <td>574.0</td>\n",
       "      <td>558.0</td>\n",
       "    </tr>\n",
       "    <tr>\n",
       "      <th>3</th>\n",
       "      <td>0</td>\n",
       "      <td>64900.0</td>\n",
       "      <td>159.0</td>\n",
       "      <td>2015-07-24</td>\n",
       "      <td>3</td>\n",
       "      <td>NaN</td>\n",
       "      <td>14.0</td>\n",
       "      <td>NaN</td>\n",
       "      <td>9</td>\n",
       "      <td>NaN</td>\n",
       "      <td>...</td>\n",
       "      <td>NaN</td>\n",
       "      <td>0.0</td>\n",
       "      <td>Санкт-Петербург</td>\n",
       "      <td>28098.0</td>\n",
       "      <td>6800.0</td>\n",
       "      <td>2.0</td>\n",
       "      <td>84.0</td>\n",
       "      <td>3.0</td>\n",
       "      <td>234.0</td>\n",
       "      <td>424.0</td>\n",
       "    </tr>\n",
       "    <tr>\n",
       "      <th>4</th>\n",
       "      <td>2</td>\n",
       "      <td>10000.0</td>\n",
       "      <td>100.0</td>\n",
       "      <td>2018-06-19</td>\n",
       "      <td>2</td>\n",
       "      <td>3.03</td>\n",
       "      <td>14.0</td>\n",
       "      <td>32.0</td>\n",
       "      <td>13</td>\n",
       "      <td>NaN</td>\n",
       "      <td>...</td>\n",
       "      <td>41.0</td>\n",
       "      <td>NaN</td>\n",
       "      <td>Санкт-Петербург</td>\n",
       "      <td>31856.0</td>\n",
       "      <td>8098.0</td>\n",
       "      <td>2.0</td>\n",
       "      <td>112.0</td>\n",
       "      <td>1.0</td>\n",
       "      <td>48.0</td>\n",
       "      <td>121.0</td>\n",
       "    </tr>\n",
       "  </tbody>\n",
       "</table>\n",
       "<p>5 rows × 22 columns</p>\n",
       "</div>"
      ],
      "text/plain": [
       "   total_images  price_1000  total_area first_day_exposition  rooms  \\\n",
       "0            20     13000.0       108.0           2019-03-07      3   \n",
       "1             7      3350.0        40.4           2018-12-04      1   \n",
       "2            10      5196.0        56.0           2015-08-20      2   \n",
       "3             0     64900.0       159.0           2015-07-24      3   \n",
       "4             2     10000.0       100.0           2018-06-19      2   \n",
       "\n",
       "   ceiling_height  floors_total  living_area  floor is_apartment  ...  \\\n",
       "0            2.70          16.0         51.0      8          NaN  ...   \n",
       "1             NaN          11.0         18.6      1          NaN  ...   \n",
       "2             NaN           5.0         34.3      4          NaN  ...   \n",
       "3             NaN          14.0          NaN      9          NaN  ...   \n",
       "4            3.03          14.0         32.0     13          NaN  ...   \n",
       "\n",
       "   kitchen_area  balcony    locality_name  airports_nearest  \\\n",
       "0          25.0      NaN  Санкт-Петербург           18863.0   \n",
       "1          11.0      2.0   посёлок Шушары           12817.0   \n",
       "2           8.3      0.0  Санкт-Петербург           21741.0   \n",
       "3           NaN      0.0  Санкт-Петербург           28098.0   \n",
       "4          41.0      NaN  Санкт-Петербург           31856.0   \n",
       "\n",
       "  city_centers_nearest  parks_around_3000  parks_nearest  ponds_around_3000  \\\n",
       "0              16028.0                1.0          482.0                2.0   \n",
       "1              18603.0                0.0            NaN                0.0   \n",
       "2              13933.0                1.0           90.0                2.0   \n",
       "3               6800.0                2.0           84.0                3.0   \n",
       "4               8098.0                2.0          112.0                1.0   \n",
       "\n",
       "   ponds_nearest  days_exposition  \n",
       "0          755.0              NaN  \n",
       "1            NaN             81.0  \n",
       "2          574.0            558.0  \n",
       "3          234.0            424.0  \n",
       "4           48.0            121.0  \n",
       "\n",
       "[5 rows x 22 columns]"
      ]
     },
     "execution_count": 10,
     "metadata": {},
     "output_type": "execute_result"
    }
   ],
   "source": [
    "# преобразуем значения столбца 'first_day_exposition' в формат даты\n",
    "df['first_day_exposition'] = pd.to_datetime(df['first_day_exposition'], format='%Y-%m-%dT%H:%M:%S')\n",
    "df.head()"
   ]
  },
  {
   "cell_type": "markdown",
   "metadata": {},
   "source": [
    "Столбец **rooms**"
   ]
  },
  {
   "cell_type": "code",
   "execution_count": 11,
   "metadata": {},
   "outputs": [
    {
     "data": {
      "text/plain": [
       "array([ 3,  1,  2,  4,  5,  6,  0,  7, 11,  8, 14, 10, 15,  9, 19, 16, 12])"
      ]
     },
     "execution_count": 11,
     "metadata": {},
     "output_type": "execute_result"
    }
   ],
   "source": [
    "# посмотрим на уникальные значения в столбце 'roоms'\n",
    "df['rooms'].unique()"
   ]
  },
  {
   "cell_type": "code",
   "execution_count": 12,
   "metadata": {},
   "outputs": [
    {
     "data": {
      "image/png": "[encoded data removed]",
      "text/plain": [
       "<Figure size 432x288 with 1 Axes>"
      ]
     },
     "metadata": {
      "needs_background": "light"
     },
     "output_type": "display_data"
    }
   ],
   "source": [
    "# посмотрим на графике \n",
    "df['rooms'].hist(bins=30);"
   ]
  },
  {
   "cell_type": "markdown",
   "metadata": {},
   "source": [
    "В основоном продаются 1, 2 и 3 комнатные квартиры. "
   ]
  },
  {
   "cell_type": "markdown",
   "metadata": {},
   "source": [
    "**ceiling_height**\n",
    "Заполним пропуски в столбце, где некоторые объекты в таблице не имеют информации о высоте потолка. Вероятно, это ошибка со стороны пользователей (они не считают это важным или просто забыли заполнить это поле), а не ошибка при сборе данных."
   ]
  },
  {
   "cell_type": "code",
   "execution_count": 13,
   "metadata": {},
   "outputs": [
    {
     "data": {
      "text/plain": [
       "count    14504.000000\n",
       "mean         2.771499\n",
       "std          1.261056\n",
       "min          1.000000\n",
       "25%          2.520000\n",
       "50%          2.650000\n",
       "75%          2.800000\n",
       "max        100.000000\n",
       "Name: ceiling_height, dtype: float64"
      ]
     },
     "execution_count": 13,
     "metadata": {},
     "output_type": "execute_result"
    }
   ],
   "source": [
    "df['ceiling_height'].describe()"
   ]
  },
  {
   "cell_type": "code",
   "execution_count": 14,
   "metadata": {},
   "outputs": [
    {
     "data": {
      "text/plain": [
       "array([  2.7 ,    nan,   3.03,   2.5 ,   2.67,   2.56,   3.05,   2.75,\n",
       "         2.6 ,   2.9 ,   2.8 ,   2.55,   3.  ,   2.65,   3.2 ,   2.61,\n",
       "         3.25,   3.45,   2.77,   2.85,   2.64,   2.57,   4.15,   3.5 ,\n",
       "         3.3 ,   2.71,   4.  ,   2.47,   2.73,   2.84,   3.1 ,   2.34,\n",
       "         3.4 ,   3.06,   2.72,   2.54,   2.51,   2.78,   2.76,  25.  ,\n",
       "         2.58,   3.7 ,   2.52,   5.2 ,   2.87,   2.66,   2.59,   2.  ,\n",
       "         2.45,   3.6 ,   2.92,   3.11,   3.13,   3.8 ,   3.15,   3.55,\n",
       "         3.16,   3.62,   3.12,   2.53,   2.74,   2.96,   2.46,   5.3 ,\n",
       "         5.  ,   2.79,   2.95,   4.06,   2.94,   3.82,   3.54,   3.53,\n",
       "         2.83,   4.7 ,   2.4 ,   3.38,   3.01,   5.6 ,   3.65,   3.9 ,\n",
       "         3.18,   3.35,   2.3 ,   3.57,   2.48,   2.62,   2.82,   3.98,\n",
       "         2.63,   3.83,   3.52,   3.95,   3.75,   2.88,   3.67,   3.87,\n",
       "         3.66,   3.85,   3.86,   4.19,   3.24,   4.8 ,   4.5 ,   4.2 ,\n",
       "         3.36,  32.  ,   3.08,   3.68,   3.07,   3.37,   3.09,   8.  ,\n",
       "         3.26,   3.34,   2.81,   3.44,   2.97,   3.14,   4.37,   2.68,\n",
       "         3.22,   3.27,  27.  ,   4.1 ,   2.93,   3.46,  24.  ,   3.47,\n",
       "         3.33,   3.63,   3.32,  26.  ,   1.2 ,   8.3 ,   2.98,   2.86,\n",
       "         3.17,   4.4 ,   3.28,   3.04,   4.45,   5.5 ,   3.84,   3.23,\n",
       "         3.02,   3.21,   3.43,   3.78,   4.3 ,   3.39,   2.69,   3.31,\n",
       "         4.65,   3.56,   2.2 ,   3.51,   3.93,   3.42,   2.99,   3.49,\n",
       "        14.  ,   4.14,   2.91,   3.88,   1.75,   4.25,   3.29,  20.  ,\n",
       "         2.25,   3.76,   3.69,   6.  ,  22.6 ,   2.89,   3.58,   5.8 ,\n",
       "        27.5 ,   2.49,   4.9 ,   3.48,  10.3 ,   1.  , 100.  ,   3.59])"
      ]
     },
     "execution_count": 14,
     "metadata": {},
     "output_type": "execute_result"
    }
   ],
   "source": [
    "# посмотрим на уникальные значения в столбце с потолками\n",
    "df['ceiling_height'].unique()"
   ]
  },
  {
   "cell_type": "code",
   "execution_count": 15,
   "metadata": {},
   "outputs": [
    {
     "data": {
      "text/plain": [
       "45"
      ]
     },
     "execution_count": 15,
     "metadata": {},
     "output_type": "execute_result"
    }
   ],
   "source": [
    "# посчитаем кол-во аномально низких и высоких квартир\n",
    "df[df['ceiling_height'] > 6]['ceiling_height'].count() + df[df['ceiling_height'] < 2.3]['ceiling_height'].count()"
   ]
  },
  {
   "cell_type": "markdown",
   "metadata": {},
   "source": [
    "Столько квартир с анамальными значениями потолков. Т.е. ниже 2.3 и выше 6 метров. \n",
    "Попробуем обнулить эти значения. "
   ]
  },
  {
   "cell_type": "code",
   "execution_count": 16,
   "metadata": {},
   "outputs": [
    {
     "data": {
      "text/plain": [
       "count    14395.000000\n",
       "mean         2.727257\n",
       "std          0.270974\n",
       "min          2.500000\n",
       "25%          2.520000\n",
       "50%          2.650000\n",
       "75%          2.800000\n",
       "max          5.000000\n",
       "Name: ceiling_height, dtype: float64"
      ]
     },
     "execution_count": 16,
     "metadata": {},
     "output_type": "execute_result"
    }
   ],
   "source": [
    "df.loc[(df['ceiling_height'] < 2.5) | (df['ceiling_height'] > 5), 'ceiling_height'] = None  \n",
    "df['ceiling_height'].describe()"
   ]
  },
  {
   "cell_type": "markdown",
   "metadata": {},
   "source": [
    "Теперь проверим пропсуки в стобце с потолками и посмотрим на графике какие квартиры есть на рынке. "
   ]
  },
  {
   "cell_type": "code",
   "execution_count": 17,
   "metadata": {},
   "outputs": [
    {
     "name": "stdout",
     "output_type": "stream",
     "text": [
      "Информация о высоте потолка отсутствует у 9304 квартир.\n"
     ]
    },
    {
     "data": {
      "image/png": "[encoded data removed]",
      "text/plain": [
       "<Figure size 432x288 with 1 Axes>"
      ]
     },
     "metadata": {
      "needs_background": "light"
     },
     "output_type": "display_data"
    }
   ],
   "source": [
    "print(f'Информация о высоте потолка отсутствует у {df.ceiling_height.isna().sum()} квартир.')\n",
    "\n",
    "plt.hist(df[df['ceiling_height'].notna()].ceiling_height, bins=60, range=(2.3, 6))\n",
    "plt.xlabel('Высота потолка')\n",
    "plt.ylabel('Количество квартир')\n",
    "plt.show()"
   ]
  },
  {
   "cell_type": "markdown",
   "metadata": {},
   "source": [
    "Из графика видно, что большинство квартир имеют высоту потолка от 2.5 до 3.5 метров. Исходя из этого, я считаю, что пропуски следует заполнить медианной высотой потолка."
   ]
  },
  {
   "cell_type": "code",
   "execution_count": 18,
   "metadata": {},
   "outputs": [],
   "source": [
    "# заполянем пропуски медианной \n",
    "df['ceiling_height'] = df['ceiling_height'].fillna(df['ceiling_height'].median()) "
   ]
  },
  {
   "cell_type": "markdown",
   "metadata": {},
   "source": [
    "Столбец **floors_total**"
   ]
  },
  {
   "cell_type": "code",
   "execution_count": 19,
   "metadata": {},
   "outputs": [
    {
     "data": {
      "text/plain": [
       "count    23613.000000\n",
       "mean        10.673824\n",
       "std          6.597173\n",
       "min          1.000000\n",
       "25%          5.000000\n",
       "50%          9.000000\n",
       "75%         16.000000\n",
       "max         60.000000\n",
       "Name: floors_total, dtype: float64"
      ]
     },
     "execution_count": 19,
     "metadata": {},
     "output_type": "execute_result"
    }
   ],
   "source": [
    "df['floors_total'].describe()"
   ]
  },
  {
   "cell_type": "code",
   "execution_count": 20,
   "metadata": {},
   "outputs": [
    {
     "data": {
      "text/plain": [
       "array([16., 11.,  5., 14., 12., 26., 24., 27.,  9.,  6., 17., 25.,  3.,\n",
       "       23., 19., 18.,  4., 22.,  8.,  2., 10.,  7., 13., 15., nan, 20.,\n",
       "       28., 36., 21., 35., 34., 60.,  1., 29., 33., 52., 37.])"
      ]
     },
     "execution_count": 20,
     "metadata": {},
     "output_type": "execute_result"
    }
   ],
   "source": [
    "# посмотрим на уникальные значения в столбце \n",
    "df['floors_total'].unique()"
   ]
  },
  {
   "cell_type": "code",
   "execution_count": 21,
   "metadata": {},
   "outputs": [
    {
     "data": {
      "text/plain": [
       "86"
      ]
     },
     "execution_count": 21,
     "metadata": {},
     "output_type": "execute_result"
    }
   ],
   "source": [
    "# проверим на пропуски\n",
    "df.floors_total.isna().sum()"
   ]
  },
  {
   "cell_type": "markdown",
   "metadata": {},
   "source": [
    "В столбце есть пропуски, заполним ее и поменяем данные этого столбца с float на int. "
   ]
  },
  {
   "cell_type": "code",
   "execution_count": 22,
   "metadata": {},
   "outputs": [],
   "source": [
    "df['floors_total'] = df['floors_total'].fillna(0)\n",
    "df['floors_total'] = df['floors_total'].astype(int, errors='ignore')"
   ]
  },
  {
   "cell_type": "markdown",
   "metadata": {},
   "source": [
    "Столбец **floor**"
   ]
  },
  {
   "cell_type": "code",
   "execution_count": 23,
   "metadata": {},
   "outputs": [
    {
     "data": {
      "text/plain": [
       "0"
      ]
     },
     "execution_count": 23,
     "metadata": {},
     "output_type": "execute_result"
    }
   ],
   "source": [
    "# проверка пропусков \n",
    "df.floor.isna().sum()"
   ]
  },
  {
   "cell_type": "code",
   "execution_count": 24,
   "metadata": {},
   "outputs": [
    {
     "data": {
      "text/plain": [
       "count    23699.000000\n",
       "mean         5.892358\n",
       "std          4.885249\n",
       "min          1.000000\n",
       "25%          2.000000\n",
       "50%          4.000000\n",
       "75%          8.000000\n",
       "max         33.000000\n",
       "Name: floor, dtype: float64"
      ]
     },
     "execution_count": 24,
     "metadata": {},
     "output_type": "execute_result"
    }
   ],
   "source": [
    "df['floor'].describe()"
   ]
  },
  {
   "cell_type": "markdown",
   "metadata": {},
   "source": [
    "Столбец **floor** чист.\n",
    "\n",
    "Разберем столбцы **is_apartment** и **balcony**. \n",
    "\n",
    "Методом info() мы видели что данне сохранены как object а нам надо bool в столбце **is_apartment** и с float на int в колонке **balcony**."
   ]
  },
  {
   "cell_type": "code",
   "execution_count": 25,
   "metadata": {},
   "outputs": [
    {
     "data": {
      "text/plain": [
       "20924"
      ]
     },
     "execution_count": 25,
     "metadata": {},
     "output_type": "execute_result"
    }
   ],
   "source": [
    "df.is_apartment.isna().sum()"
   ]
  },
  {
   "cell_type": "code",
   "execution_count": 26,
   "metadata": {},
   "outputs": [
    {
     "data": {
      "text/plain": [
       "11519"
      ]
     },
     "execution_count": 26,
     "metadata": {},
     "output_type": "execute_result"
    }
   ],
   "source": [
    "df.balcony.isna().sum()"
   ]
  },
  {
   "cell_type": "markdown",
   "metadata": {},
   "source": [
    "Столько пропусков. Возможно в этих квартирах нет балкона, по этому и пропустили это поле при заполнении. "
   ]
  },
  {
   "cell_type": "code",
   "execution_count": 27,
   "metadata": {},
   "outputs": [],
   "source": [
    "#заполним пропуски\n",
    "df['is_apartment'] = df['is_apartment'].fillna('')\n",
    "df['balcony'] = df['balcony'].fillna(0)"
   ]
  },
  {
   "cell_type": "code",
   "execution_count": 28,
   "metadata": {},
   "outputs": [],
   "source": [
    "#поменяем на bool\n",
    "df['is_apartment'] = df['is_apartment'].astype('bool')"
   ]
  },
  {
   "cell_type": "code",
   "execution_count": 29,
   "metadata": {},
   "outputs": [],
   "source": [
    "#поменяем на int\n",
    "df['balcony'] = df['balcony'].astype(int)"
   ]
  },
  {
   "cell_type": "markdown",
   "metadata": {},
   "source": [
    "Столбец **locality_name**"
   ]
  },
  {
   "cell_type": "code",
   "execution_count": 30,
   "metadata": {},
   "outputs": [
    {
     "data": {
      "text/plain": [
       "49"
      ]
     },
     "execution_count": 30,
     "metadata": {},
     "output_type": "execute_result"
    }
   ],
   "source": [
    "df.locality_name.isna().sum()"
   ]
  },
  {
   "cell_type": "code",
   "execution_count": 31,
   "metadata": {},
   "outputs": [],
   "source": [
    "#незначительное количесвто где не указан город или наседеный пункт, можем удалтять\n",
    "df.dropna(subset=['locality_name'], inplace=True)"
   ]
  },
  {
   "cell_type": "code",
   "execution_count": 32,
   "metadata": {
    "scrolled": true
   },
   "outputs": [
    {
     "data": {
      "text/plain": [
       "array(['Санкт-Петербург', 'посёлок Шушары', 'городской посёлок Янино-1',\n",
       "       'посёлок Парголово', 'посёлок Мурино', 'Ломоносов', 'Сертолово',\n",
       "       'Петергоф', 'Пушкин', 'деревня Кудрово', 'Коммунар', 'Колпино',\n",
       "       'поселок городского типа Красный Бор', 'Гатчина', 'поселок Мурино',\n",
       "       'деревня Фёдоровское', 'Выборг', 'Кронштадт', 'Кировск',\n",
       "       'деревня Новое Девяткино', 'посёлок Металлострой',\n",
       "       'посёлок городского типа Лебяжье',\n",
       "       'посёлок городского типа Сиверский', 'поселок Молодцово',\n",
       "       'поселок городского типа Кузьмоловский',\n",
       "       'садовое товарищество Новая Ропша', 'Павловск',\n",
       "       'деревня Пикколово', 'Всеволожск', 'Волхов', 'Кингисепп',\n",
       "       'Приозерск', 'Сестрорецк', 'деревня Куттузи', 'посёлок Аннино',\n",
       "       'поселок городского типа Ефимовский', 'посёлок Плодовое',\n",
       "       'деревня Заклинье', 'поселок Торковичи', 'поселок Первомайское',\n",
       "       'Красное Село', 'посёлок Понтонный', 'Сясьстрой', 'деревня Старая',\n",
       "       'деревня Лесколово', 'посёлок Новый Свет', 'Сланцы',\n",
       "       'село Путилово', 'Ивангород', 'Мурино', 'Шлиссельбург',\n",
       "       'Никольское', 'Зеленогорск', 'Сосновый Бор', 'поселок Новый Свет',\n",
       "       'деревня Оржицы', 'деревня Кальтино', 'Кудрово',\n",
       "       'поселок Романовка', 'посёлок Бугры', 'поселок Бугры',\n",
       "       'поселок городского типа Рощино', 'Кириши', 'Луга', 'Волосово',\n",
       "       'Отрадное', 'село Павлово', 'поселок Оредеж', 'село Копорье',\n",
       "       'посёлок городского типа Красный Бор', 'посёлок Молодёжное',\n",
       "       'Тихвин', 'посёлок Победа', 'деревня Нурма',\n",
       "       'поселок городского типа Синявино', 'Тосно',\n",
       "       'посёлок городского типа Кузьмоловский', 'посёлок Стрельна',\n",
       "       'Бокситогорск', 'посёлок Александровская', 'деревня Лопухинка',\n",
       "       'Пикалёво', 'поселок Терволово',\n",
       "       'поселок городского типа Советский', 'Подпорожье',\n",
       "       'посёлок Петровское', 'посёлок городского типа Токсово',\n",
       "       'поселок Сельцо', 'посёлок городского типа Вырица',\n",
       "       'деревня Кипень', 'деревня Келози', 'деревня Вартемяги',\n",
       "       'посёлок Тельмана', 'поселок Севастьяново',\n",
       "       'городской поселок Большая Ижора', 'городской посёлок Павлово',\n",
       "       'деревня Агалатово', 'посёлок Новогорелово',\n",
       "       'городской посёлок Лесогорский', 'деревня Лаголово',\n",
       "       'поселок Цвелодубово', 'поселок городского типа Рахья',\n",
       "       'поселок городского типа Вырица', 'деревня Белогорка',\n",
       "       'поселок Заводской', 'городской посёлок Новоселье',\n",
       "       'деревня Большие Колпаны', 'деревня Горбунки', 'деревня Батово',\n",
       "       'деревня Заневка', 'деревня Иссад', 'Приморск',\n",
       "       'городской посёлок Фёдоровское', 'деревня Мистолово',\n",
       "       'Новая Ладога', 'поселок Зимитицы', 'поселок Барышево',\n",
       "       'деревня Разметелево', 'поселок городского типа имени Свердлова',\n",
       "       'деревня Пеники', 'поселок Рябово', 'деревня Пудомяги',\n",
       "       'поселок станции Корнево', 'деревня Низино', 'деревня Бегуницы',\n",
       "       'посёлок Поляны', 'городской посёлок Мга', 'поселок Елизаветино',\n",
       "       'посёлок городского типа Кузнечное', 'деревня Колтуши',\n",
       "       'поселок Запорожское', 'посёлок городского типа Рощино',\n",
       "       'деревня Гостилицы', 'деревня Малое Карлино',\n",
       "       'посёлок Мичуринское', 'посёлок городского типа имени Морозова',\n",
       "       'посёлок Песочный', 'посёлок Сосново', 'деревня Аро',\n",
       "       'поселок Ильичёво', 'посёлок городского типа Тайцы',\n",
       "       'деревня Малое Верево', 'деревня Извара', 'поселок станции Вещево',\n",
       "       'село Паша', 'деревня Калитино',\n",
       "       'посёлок городского типа Ульяновка', 'деревня Чудской Бор',\n",
       "       'поселок городского типа Дубровка', 'деревня Мины',\n",
       "       'поселок Войсковицы', 'посёлок городского типа имени Свердлова',\n",
       "       'деревня Коркино', 'посёлок Ропша',\n",
       "       'поселок городского типа Приладожский', 'посёлок Щеглово',\n",
       "       'посёлок Гаврилово', 'Лодейное Поле', 'деревня Рабитицы',\n",
       "       'поселок городского типа Никольский', 'деревня Кузьмолово',\n",
       "       'деревня Малые Колпаны', 'поселок Тельмана',\n",
       "       'посёлок Петро-Славянка', 'городской посёлок Назия',\n",
       "       'посёлок Репино', 'посёлок Ильичёво', 'поселок Углово',\n",
       "       'поселок Старая Малукса', 'садовое товарищество Рахья',\n",
       "       'поселок Аннино', 'поселок Победа', 'деревня Меньково',\n",
       "       'деревня Старые Бегуницы', 'посёлок Сапёрный', 'поселок Семрино',\n",
       "       'поселок Гаврилово', 'поселок Глажево', 'поселок Кобринское',\n",
       "       'деревня Гарболово', 'деревня Юкки',\n",
       "       'поселок станции Приветнинское', 'деревня Мануйлово',\n",
       "       'деревня Пчева', 'поселок Поляны', 'поселок Цвылёво',\n",
       "       'поселок Мельниково', 'посёлок Пудость', 'посёлок Усть-Луга',\n",
       "       'Светогорск', 'Любань', 'поселок Селезнёво',\n",
       "       'поселок городского типа Рябово', 'Каменногорск', 'деревня Кривко',\n",
       "       'поселок Глебычево', 'деревня Парицы', 'поселок Жилпосёлок',\n",
       "       'посёлок городского типа Мга', 'городской поселок Янино-1',\n",
       "       'посёлок Войскорово', 'село Никольское', 'посёлок Терволово',\n",
       "       'поселок Стеклянный', 'посёлок городского типа Важины',\n",
       "       'посёлок Мыза-Ивановка', 'село Русско-Высоцкое',\n",
       "       'поселок городского типа Лебяжье',\n",
       "       'поселок городского типа Форносово', 'село Старая Ладога',\n",
       "       'поселок Житково', 'городской посёлок Виллози', 'деревня Лампово',\n",
       "       'деревня Шпаньково', 'деревня Лаврики', 'посёлок Сумино',\n",
       "       'посёлок Возрождение', 'деревня Старосиверская',\n",
       "       'посёлок Кикерино', 'поселок Возрождение',\n",
       "       'деревня Старое Хинколово', 'посёлок Пригородный',\n",
       "       'посёлок Торфяное', 'городской посёлок Будогощь',\n",
       "       'поселок Суходолье', 'поселок Красная Долина', 'деревня Хапо-Ое',\n",
       "       'поселок городского типа Дружная Горка', 'поселок Лисий Нос',\n",
       "       'деревня Яльгелево', 'посёлок Стеклянный', 'село Рождествено',\n",
       "       'деревня Старополье', 'посёлок Левашово', 'деревня Сяськелево',\n",
       "       'деревня Камышовка',\n",
       "       'садоводческое некоммерческое товарищество Лесная Поляна',\n",
       "       'деревня Хязельки', 'поселок Жилгородок',\n",
       "       'посёлок городского типа Павлово', 'деревня Ялгино',\n",
       "       'поселок Новый Учхоз', 'городской посёлок Рощино',\n",
       "       'поселок Гончарово', 'поселок Почап', 'посёлок Сапёрное',\n",
       "       'посёлок Платформа 69-й километр', 'поселок Каложицы',\n",
       "       'деревня Фалилеево', 'деревня Пельгора',\n",
       "       'поселок городского типа Лесогорский', 'деревня Торошковичи',\n",
       "       'посёлок Белоостров', 'посёлок Алексеевка', 'поселок Серебрянский',\n",
       "       'поселок Лукаши', 'поселок Петровское', 'деревня Щеглово',\n",
       "       'поселок Мичуринское', 'деревня Тарасово', 'поселок Кингисеппский',\n",
       "       'посёлок при железнодорожной станции Вещево', 'поселок Ушаки',\n",
       "       'деревня Котлы', 'деревня Сижно', 'деревня Торосово',\n",
       "       'посёлок Форт Красная Горка', 'поселок городского типа Токсово',\n",
       "       'деревня Новолисино', 'посёлок станции Громово', 'деревня Глинка',\n",
       "       'посёлок Мельниково', 'поселок городского типа Назия',\n",
       "       'деревня Старая Пустошь', 'поселок Коммунары', 'поселок Починок',\n",
       "       'посёлок городского типа Вознесенье', 'деревня Разбегаево',\n",
       "       'посёлок городского типа Рябово', 'поселок Гладкое',\n",
       "       'посёлок при железнодорожной станции Приветнинское',\n",
       "       'поселок Тёсово-4', 'посёлок Жилгородок', 'деревня Бор',\n",
       "       'посёлок Коробицыно', 'деревня Большая Вруда', 'деревня Курковицы',\n",
       "       'посёлок Лисий Нос', 'городской посёлок Советский',\n",
       "       'посёлок Кобралово', 'деревня Суоранда', 'поселок Кобралово',\n",
       "       'поселок городского типа Кондратьево',\n",
       "       'коттеджный поселок Счастье', 'поселок Любань', 'деревня Реброво',\n",
       "       'деревня Зимитицы', 'деревня Тойворово', 'поселок Семиозерье',\n",
       "       'поселок Лесное', 'поселок Совхозный', 'поселок Усть-Луга',\n",
       "       'посёлок Ленинское', 'посёлок Суйда',\n",
       "       'посёлок городского типа Форносово', 'деревня Нижние Осельки',\n",
       "       'посёлок станции Свирь', 'поселок Перово', 'Высоцк',\n",
       "       'поселок Гарболово', 'село Шум', 'поселок Котельский',\n",
       "       'поселок станции Лужайка', 'деревня Большая Пустомержа',\n",
       "       'поселок Красносельское', 'деревня Вахнова Кара', 'деревня Пижма',\n",
       "       'коттеджный поселок Кивеннапа Север', 'поселок Коробицыно',\n",
       "       'поселок Ромашки', 'посёлок Перово', 'деревня Каськово',\n",
       "       'деревня Куровицы', 'посёлок Плоское', 'поселок Сумино',\n",
       "       'поселок городского типа Большая Ижора', 'поселок Кирпичное',\n",
       "       'деревня Ям-Тесово', 'деревня Раздолье', 'деревня Терпилицы',\n",
       "       'посёлок Шугозеро', 'деревня Ваганово', 'поселок Пушное',\n",
       "       'садовое товарищество Садко', 'посёлок Усть-Ижора',\n",
       "       'деревня Выскатка', 'городской посёлок Свирьстрой',\n",
       "       'поселок Громово', 'деревня Кисельня', 'посёлок Старая Малукса',\n",
       "       'деревня Трубников Бор', 'поселок Калитино',\n",
       "       'посёлок Высокоключевой', 'садовое товарищество Приладожский',\n",
       "       'посёлок Пансионат Зелёный Бор', 'деревня Ненимяки',\n",
       "       'поселок Пансионат Зелёный Бор', 'деревня Снегирёвка',\n",
       "       'деревня Рапполово', 'деревня Пустынка', 'поселок Рабитицы',\n",
       "       'деревня Большой Сабск', 'деревня Русско', 'деревня Лупполово',\n",
       "       'деревня Большое Рейзино', 'деревня Малая Романовка',\n",
       "       'поселок Дружноселье', 'поселок Пчевжа', 'поселок Володарское',\n",
       "       'деревня Нижняя', 'коттеджный посёлок Лесное', 'деревня Тихковицы',\n",
       "       'деревня Борисова Грива', 'посёлок Дзержинского'], dtype=object)"
      ]
     },
     "execution_count": 32,
     "metadata": {},
     "output_type": "execute_result"
    }
   ],
   "source": [
    "df['locality_name'].unique()"
   ]
  },
  {
   "cell_type": "markdown",
   "metadata": {},
   "source": [
    "Удалим неявные дубликаты, чтобы в таблице не было повторений раздных поселков, сел и т.д. в нескольких вариантах."
   ]
  },
  {
   "cell_type": "code",
   "execution_count": 33,
   "metadata": {},
   "outputs": [],
   "source": [
    "df['locality_name'] = (df['locality_name']\n",
    "    .str.replace('ё', 'е')\n",
    "    .replace(['городского типа ', 'городской ', 'садовое некоммерческое товарищество ',\\\n",
    "              'садовое товарищество ', 'коттеджный '], '', regex=True)\n",
    ")"
   ]
  },
  {
   "cell_type": "code",
   "execution_count": 34,
   "metadata": {
    "scrolled": true
   },
   "outputs": [
    {
     "data": {
      "text/plain": [
       "array(['Санкт-Петербург', 'поселок Шушары', 'поселок Янино-1',\n",
       "       'поселок Парголово', 'поселок Мурино', 'Ломоносов', 'Сертолово',\n",
       "       'Петергоф', 'Пушкин', 'деревня Кудрово', 'Коммунар', 'Колпино',\n",
       "       'поселок Красный Бор', 'Гатчина', 'деревня Федоровское', 'Выборг',\n",
       "       'Кронштадт', 'Кировск', 'деревня Новое Девяткино',\n",
       "       'поселок Металлострой', 'поселок Лебяжье', 'поселок Сиверский',\n",
       "       'поселок Молодцово', 'поселок Кузьмоловский', 'Новая Ропша',\n",
       "       'Павловск', 'деревня Пикколово', 'Всеволожск', 'Волхов',\n",
       "       'Кингисепп', 'Приозерск', 'Сестрорецк', 'деревня Куттузи',\n",
       "       'поселок Аннино', 'поселок Ефимовский', 'поселок Плодовое',\n",
       "       'деревня Заклинье', 'поселок Торковичи', 'поселок Первомайское',\n",
       "       'Красное Село', 'поселок Понтонный', 'Сясьстрой', 'деревня Старая',\n",
       "       'деревня Лесколово', 'поселок Новый Свет', 'Сланцы',\n",
       "       'село Путилово', 'Ивангород', 'Мурино', 'Шлиссельбург',\n",
       "       'Никольское', 'Зеленогорск', 'Сосновый Бор', 'деревня Оржицы',\n",
       "       'деревня Кальтино', 'Кудрово', 'поселок Романовка',\n",
       "       'поселок Бугры', 'поселок Рощино', 'Кириши', 'Луга', 'Волосово',\n",
       "       'Отрадное', 'село Павлово', 'поселок Оредеж', 'село Копорье',\n",
       "       'поселок Молодежное', 'Тихвин', 'поселок Победа', 'деревня Нурма',\n",
       "       'поселок Синявино', 'Тосно', 'поселок Стрельна', 'Бокситогорск',\n",
       "       'поселок Александровская', 'деревня Лопухинка', 'Пикалево',\n",
       "       'поселок Терволово', 'поселок Советский', 'Подпорожье',\n",
       "       'поселок Петровское', 'поселок Токсово', 'поселок Сельцо',\n",
       "       'поселок Вырица', 'деревня Кипень', 'деревня Келози',\n",
       "       'деревня Вартемяги', 'поселок Тельмана', 'поселок Севастьяново',\n",
       "       'поселок Большая Ижора', 'поселок Павлово', 'деревня Агалатово',\n",
       "       'поселок Новогорелово', 'поселок Лесогорский', 'деревня Лаголово',\n",
       "       'поселок Цвелодубово', 'поселок Рахья', 'деревня Белогорка',\n",
       "       'поселок Заводской', 'поселок Новоселье',\n",
       "       'деревня Большие Колпаны', 'деревня Горбунки', 'деревня Батово',\n",
       "       'деревня Заневка', 'деревня Иссад', 'Приморск',\n",
       "       'поселок Федоровское', 'деревня Мистолово', 'Новая Ладога',\n",
       "       'поселок Зимитицы', 'поселок Барышево', 'деревня Разметелево',\n",
       "       'поселок имени Свердлова', 'деревня Пеники', 'поселок Рябово',\n",
       "       'деревня Пудомяги', 'поселок станции Корнево', 'деревня Низино',\n",
       "       'деревня Бегуницы', 'поселок Поляны', 'поселок Мга',\n",
       "       'поселок Елизаветино', 'поселок Кузнечное', 'деревня Колтуши',\n",
       "       'поселок Запорожское', 'деревня Гостилицы',\n",
       "       'деревня Малое Карлино', 'поселок Мичуринское',\n",
       "       'поселок имени Морозова', 'поселок Песочный', 'поселок Сосново',\n",
       "       'деревня Аро', 'поселок Ильичево', 'поселок Тайцы',\n",
       "       'деревня Малое Верево', 'деревня Извара', 'поселок станции Вещево',\n",
       "       'село Паша', 'деревня Калитино', 'поселок Ульяновка',\n",
       "       'деревня Чудской Бор', 'поселок Дубровка', 'деревня Мины',\n",
       "       'поселок Войсковицы', 'деревня Коркино', 'поселок Ропша',\n",
       "       'поселок Приладожский', 'поселок Щеглово', 'поселок Гаврилово',\n",
       "       'Лодейное Поле', 'деревня Рабитицы', 'поселок Никольский',\n",
       "       'деревня Кузьмолово', 'деревня Малые Колпаны',\n",
       "       'поселок Петро-Славянка', 'поселок Назия', 'поселок Репино',\n",
       "       'поселок Углово', 'поселок Старая Малукса', 'Рахья',\n",
       "       'деревня Меньково', 'деревня Старые Бегуницы', 'поселок Саперный',\n",
       "       'поселок Семрино', 'поселок Глажево', 'поселок Кобринское',\n",
       "       'деревня Гарболово', 'деревня Юкки',\n",
       "       'поселок станции Приветнинское', 'деревня Мануйлово',\n",
       "       'деревня Пчева', 'поселок Цвылево', 'поселок Мельниково',\n",
       "       'поселок Пудость', 'поселок Усть-Луга', 'Светогорск', 'Любань',\n",
       "       'поселок Селезнево', 'Каменногорск', 'деревня Кривко',\n",
       "       'поселок Глебычево', 'деревня Парицы', 'поселок Жилпоселок',\n",
       "       'поселок Войскорово', 'село Никольское', 'поселок Стеклянный',\n",
       "       'поселок Важины', 'поселок Мыза-Ивановка', 'село Русско-Высоцкое',\n",
       "       'поселок Форносово', 'село Старая Ладога', 'поселок Житково',\n",
       "       'поселок Виллози', 'деревня Лампово', 'деревня Шпаньково',\n",
       "       'деревня Лаврики', 'поселок Сумино', 'поселок Возрождение',\n",
       "       'деревня Старосиверская', 'поселок Кикерино',\n",
       "       'деревня Старое Хинколово', 'поселок Пригородный',\n",
       "       'поселок Торфяное', 'поселок Будогощь', 'поселок Суходолье',\n",
       "       'поселок Красная Долина', 'деревня Хапо-Ое',\n",
       "       'поселок Дружная Горка', 'поселок Лисий Нос', 'деревня Яльгелево',\n",
       "       'село Рождествено', 'деревня Старополье', 'поселок Левашово',\n",
       "       'деревня Сяськелево', 'деревня Камышовка',\n",
       "       'садоводческое некоммерческое товарищество Лесная Поляна',\n",
       "       'деревня Хязельки', 'поселок Жилгородок', 'деревня Ялгино',\n",
       "       'поселок Новый Учхоз', 'поселок Гончарово', 'поселок Почап',\n",
       "       'поселок Саперное', 'поселок Платформа 69-й километр',\n",
       "       'поселок Каложицы', 'деревня Фалилеево', 'деревня Пельгора',\n",
       "       'деревня Торошковичи', 'поселок Белоостров', 'поселок Алексеевка',\n",
       "       'поселок Серебрянский', 'поселок Лукаши', 'деревня Щеглово',\n",
       "       'деревня Тарасово', 'поселок Кингисеппский',\n",
       "       'поселок при железнодорожной станции Вещево', 'поселок Ушаки',\n",
       "       'деревня Котлы', 'деревня Сижно', 'деревня Торосово',\n",
       "       'поселок Форт Красная Горка', 'деревня Новолисино',\n",
       "       'поселок станции Громово', 'деревня Глинка',\n",
       "       'деревня Старая Пустошь', 'поселок Коммунары', 'поселок Починок',\n",
       "       'поселок Вознесенье', 'деревня Разбегаево', 'поселок Гладкое',\n",
       "       'поселок при железнодорожной станции Приветнинское',\n",
       "       'поселок Тесово-4', 'деревня Бор', 'поселок Коробицыно',\n",
       "       'деревня Большая Вруда', 'деревня Курковицы', 'поселок Кобралово',\n",
       "       'деревня Суоранда', 'поселок Кондратьево', 'поселок Счастье',\n",
       "       'поселок Любань', 'деревня Реброво', 'деревня Зимитицы',\n",
       "       'деревня Тойворово', 'поселок Семиозерье', 'поселок Лесное',\n",
       "       'поселок Совхозный', 'поселок Ленинское', 'поселок Суйда',\n",
       "       'деревня Нижние Осельки', 'поселок станции Свирь',\n",
       "       'поселок Перово', 'Высоцк', 'поселок Гарболово', 'село Шум',\n",
       "       'поселок Котельский', 'поселок станции Лужайка',\n",
       "       'деревня Большая Пустомержа', 'поселок Красносельское',\n",
       "       'деревня Вахнова Кара', 'деревня Пижма', 'поселок Кивеннапа Север',\n",
       "       'поселок Ромашки', 'деревня Каськово', 'деревня Куровицы',\n",
       "       'поселок Плоское', 'поселок Кирпичное', 'деревня Ям-Тесово',\n",
       "       'деревня Раздолье', 'деревня Терпилицы', 'поселок Шугозеро',\n",
       "       'деревня Ваганово', 'поселок Пушное', 'Садко',\n",
       "       'поселок Усть-Ижора', 'деревня Выскатка', 'поселок Свирьстрой',\n",
       "       'поселок Громово', 'деревня Кисельня', 'деревня Трубников Бор',\n",
       "       'поселок Калитино', 'поселок Высокоключевой', 'Приладожский',\n",
       "       'поселок Пансионат Зеленый Бор', 'деревня Ненимяки',\n",
       "       'деревня Снегиревка', 'деревня Рапполово', 'деревня Пустынка',\n",
       "       'поселок Рабитицы', 'деревня Большой Сабск', 'деревня Русско',\n",
       "       'деревня Лупполово', 'деревня Большое Рейзино',\n",
       "       'деревня Малая Романовка', 'поселок Дружноселье', 'поселок Пчевжа',\n",
       "       'поселок Володарское', 'деревня Нижняя', 'деревня Тихковицы',\n",
       "       'деревня Борисова Грива', 'поселок Дзержинского'], dtype=object)"
      ]
     },
     "execution_count": 34,
     "metadata": {},
     "output_type": "execute_result"
    }
   ],
   "source": [
    "# еще раз проверим что исталось после фильтрации \n",
    "df['locality_name'].unique()"
   ]
  },
  {
   "cell_type": "markdown",
   "metadata": {},
   "source": [
    "**Вывод**\n",
    "\n",
    "Выполнили преодбработку данных. \n",
    "\n",
    "Теперь:\n",
    "- исправлена стилистика столбцов;\n",
    "- цены на кваритиры в тысячах рублей, чтоб легче читалось;\n",
    "- столбец с датой размещения объявления исправили, теперь она читабельно и без времени;\n",
    "- в столбце с потолками нет квартир ниже 2.3 и выше 6 метров;\n",
    "- общее кол-во этажей в доме выражено в целых числах; \n",
    "- нет пропусков с столбцах 'is_apartment' и балконы, так же перезаписалы данные столбца 'balcony' в целых числах; \n",
    "- нет повторяющихся префиксов в названиях сел, поселков, деревень и т.д."
   ]
  },
  {
   "cell_type": "markdown",
   "metadata": {},
   "source": [
    "## Добавить в таблицу новые столбцы\n",
    "\n",
    "* цена одного квадратного метра (нужно поделить стоимость объекта на его общую площадь, а затем округлить до двух знаков после запятой);\n",
    "* день недели публикации объявления (0 — понедельник, 1 — вторник и так далее), день и год;\n",
    "* тип этажа квартиры (значения — «первый», «последний», «другой»);\n",
    "* расстояние до центра города в километрах (переведите из м в км и округлите до ближайших целых значений).\n"
   ]
  },
  {
   "cell_type": "markdown",
   "metadata": {},
   "source": [
    "### Добавим стобец с ценой одного квадратного метра"
   ]
  },
  {
   "cell_type": "code",
   "execution_count": 35,
   "metadata": {},
   "outputs": [],
   "source": [
    "# добавляем столбец 'price_sqm'\n",
    "df['price_sqm'] = (df['price_1000'] / df['total_area']).round(2)"
   ]
  },
  {
   "cell_type": "markdown",
   "metadata": {},
   "source": [
    "### Добавим столбцы, где обозначены дни недели (0 - пн, 1 - вт и т.д.), месяцы и годы публикаций"
   ]
  },
  {
   "cell_type": "code",
   "execution_count": 36,
   "metadata": {},
   "outputs": [],
   "source": [
    "df['weekday_exposition'] = df['first_day_exposition'].dt.weekday\n",
    "df['month_exposition'] = df['first_day_exposition'].dt.month\n",
    "df['year_exposition'] = df['first_day_exposition'].dt.year"
   ]
  },
  {
   "cell_type": "markdown",
   "metadata": {},
   "source": [
    "### Добавим столбец где сохранены типы этажей (\"первый\", \"последний\" и \"другой\")"
   ]
  },
  {
   "cell_type": "code",
   "execution_count": 37,
   "metadata": {},
   "outputs": [],
   "source": [
    "df['floor_type'] = 'другой'\n",
    "df.loc[df['floor'] == 1, 'floor_type'] = 'первый'\n",
    "df.loc[df['floor'] == df['floors_total'], 'floor_type'] = 'последний'"
   ]
  },
  {
   "cell_type": "markdown",
   "metadata": {},
   "source": [
    "### И последнее, столбец с растоянием до центра города в километрах. \n",
    "\n",
    "В столбце **city_centers_nearest** приведеные данные в метрах. Разделим на 1000 и округлим до целых значений. "
   ]
  },
  {
   "cell_type": "code",
   "execution_count": 38,
   "metadata": {},
   "outputs": [],
   "source": [
    "df['km_to_city_center'] = (df['city_centers_nearest'] / 1000).round()"
   ]
  },
  {
   "cell_type": "markdown",
   "metadata": {},
   "source": [
    "Теперь проверим, что у нас получилось."
   ]
  },
  {
   "cell_type": "code",
   "execution_count": 39,
   "metadata": {},
   "outputs": [
    {
     "data": {
      "text/html": [
       "<div>\n",
       "<style scoped>\n",
       "    .dataframe tbody tr th:only-of-type {\n",
       "        vertical-align: middle;\n",
       "    }\n",
       "\n",
       "    .dataframe tbody tr th {\n",
       "        vertical-align: top;\n",
       "    }\n",
       "\n",
       "    .dataframe thead th {\n",
       "        text-align: right;\n",
       "    }\n",
       "</style>\n",
       "<table border=\"1\" class=\"dataframe\">\n",
       "  <thead>\n",
       "    <tr style=\"text-align: right;\">\n",
       "      <th></th>\n",
       "      <th>total_images</th>\n",
       "      <th>price_1000</th>\n",
       "      <th>total_area</th>\n",
       "      <th>first_day_exposition</th>\n",
       "      <th>rooms</th>\n",
       "      <th>ceiling_height</th>\n",
       "      <th>floors_total</th>\n",
       "      <th>living_area</th>\n",
       "      <th>floor</th>\n",
       "      <th>is_apartment</th>\n",
       "      <th>...</th>\n",
       "      <th>parks_nearest</th>\n",
       "      <th>ponds_around_3000</th>\n",
       "      <th>ponds_nearest</th>\n",
       "      <th>days_exposition</th>\n",
       "      <th>price_sqm</th>\n",
       "      <th>weekday_exposition</th>\n",
       "      <th>month_exposition</th>\n",
       "      <th>year_exposition</th>\n",
       "      <th>floor_type</th>\n",
       "      <th>km_to_city_center</th>\n",
       "    </tr>\n",
       "  </thead>\n",
       "  <tbody>\n",
       "    <tr>\n",
       "      <th>0</th>\n",
       "      <td>20</td>\n",
       "      <td>13000.0</td>\n",
       "      <td>108.0</td>\n",
       "      <td>2019-03-07</td>\n",
       "      <td>3</td>\n",
       "      <td>2.70</td>\n",
       "      <td>16</td>\n",
       "      <td>51.0</td>\n",
       "      <td>8</td>\n",
       "      <td>False</td>\n",
       "      <td>...</td>\n",
       "      <td>482.0</td>\n",
       "      <td>2.0</td>\n",
       "      <td>755.0</td>\n",
       "      <td>NaN</td>\n",
       "      <td>120.37</td>\n",
       "      <td>3</td>\n",
       "      <td>3</td>\n",
       "      <td>2019</td>\n",
       "      <td>другой</td>\n",
       "      <td>16.0</td>\n",
       "    </tr>\n",
       "    <tr>\n",
       "      <th>1</th>\n",
       "      <td>7</td>\n",
       "      <td>3350.0</td>\n",
       "      <td>40.4</td>\n",
       "      <td>2018-12-04</td>\n",
       "      <td>1</td>\n",
       "      <td>2.65</td>\n",
       "      <td>11</td>\n",
       "      <td>18.6</td>\n",
       "      <td>1</td>\n",
       "      <td>False</td>\n",
       "      <td>...</td>\n",
       "      <td>NaN</td>\n",
       "      <td>0.0</td>\n",
       "      <td>NaN</td>\n",
       "      <td>81.0</td>\n",
       "      <td>82.92</td>\n",
       "      <td>1</td>\n",
       "      <td>12</td>\n",
       "      <td>2018</td>\n",
       "      <td>первый</td>\n",
       "      <td>19.0</td>\n",
       "    </tr>\n",
       "    <tr>\n",
       "      <th>2</th>\n",
       "      <td>10</td>\n",
       "      <td>5196.0</td>\n",
       "      <td>56.0</td>\n",
       "      <td>2015-08-20</td>\n",
       "      <td>2</td>\n",
       "      <td>2.65</td>\n",
       "      <td>5</td>\n",
       "      <td>34.3</td>\n",
       "      <td>4</td>\n",
       "      <td>False</td>\n",
       "      <td>...</td>\n",
       "      <td>90.0</td>\n",
       "      <td>2.0</td>\n",
       "      <td>574.0</td>\n",
       "      <td>558.0</td>\n",
       "      <td>92.79</td>\n",
       "      <td>3</td>\n",
       "      <td>8</td>\n",
       "      <td>2015</td>\n",
       "      <td>другой</td>\n",
       "      <td>14.0</td>\n",
       "    </tr>\n",
       "    <tr>\n",
       "      <th>3</th>\n",
       "      <td>0</td>\n",
       "      <td>64900.0</td>\n",
       "      <td>159.0</td>\n",
       "      <td>2015-07-24</td>\n",
       "      <td>3</td>\n",
       "      <td>2.65</td>\n",
       "      <td>14</td>\n",
       "      <td>NaN</td>\n",
       "      <td>9</td>\n",
       "      <td>False</td>\n",
       "      <td>...</td>\n",
       "      <td>84.0</td>\n",
       "      <td>3.0</td>\n",
       "      <td>234.0</td>\n",
       "      <td>424.0</td>\n",
       "      <td>408.18</td>\n",
       "      <td>4</td>\n",
       "      <td>7</td>\n",
       "      <td>2015</td>\n",
       "      <td>другой</td>\n",
       "      <td>7.0</td>\n",
       "    </tr>\n",
       "    <tr>\n",
       "      <th>4</th>\n",
       "      <td>2</td>\n",
       "      <td>10000.0</td>\n",
       "      <td>100.0</td>\n",
       "      <td>2018-06-19</td>\n",
       "      <td>2</td>\n",
       "      <td>3.03</td>\n",
       "      <td>14</td>\n",
       "      <td>32.0</td>\n",
       "      <td>13</td>\n",
       "      <td>False</td>\n",
       "      <td>...</td>\n",
       "      <td>112.0</td>\n",
       "      <td>1.0</td>\n",
       "      <td>48.0</td>\n",
       "      <td>121.0</td>\n",
       "      <td>100.00</td>\n",
       "      <td>1</td>\n",
       "      <td>6</td>\n",
       "      <td>2018</td>\n",
       "      <td>другой</td>\n",
       "      <td>8.0</td>\n",
       "    </tr>\n",
       "  </tbody>\n",
       "</table>\n",
       "<p>5 rows × 28 columns</p>\n",
       "</div>"
      ],
      "text/plain": [
       "   total_images  price_1000  total_area first_day_exposition  rooms  \\\n",
       "0            20     13000.0       108.0           2019-03-07      3   \n",
       "1             7      3350.0        40.4           2018-12-04      1   \n",
       "2            10      5196.0        56.0           2015-08-20      2   \n",
       "3             0     64900.0       159.0           2015-07-24      3   \n",
       "4             2     10000.0       100.0           2018-06-19      2   \n",
       "\n",
       "   ceiling_height  floors_total  living_area  floor  is_apartment  ...  \\\n",
       "0            2.70            16         51.0      8         False  ...   \n",
       "1            2.65            11         18.6      1         False  ...   \n",
       "2            2.65             5         34.3      4         False  ...   \n",
       "3            2.65            14          NaN      9         False  ...   \n",
       "4            3.03            14         32.0     13         False  ...   \n",
       "\n",
       "   parks_nearest  ponds_around_3000  ponds_nearest  days_exposition price_sqm  \\\n",
       "0          482.0                2.0          755.0              NaN    120.37   \n",
       "1            NaN                0.0            NaN             81.0     82.92   \n",
       "2           90.0                2.0          574.0            558.0     92.79   \n",
       "3           84.0                3.0          234.0            424.0    408.18   \n",
       "4          112.0                1.0           48.0            121.0    100.00   \n",
       "\n",
       "   weekday_exposition  month_exposition  year_exposition  floor_type  \\\n",
       "0                   3                 3             2019      другой   \n",
       "1                   1                12             2018      первый   \n",
       "2                   3                 8             2015      другой   \n",
       "3                   4                 7             2015      другой   \n",
       "4                   1                 6             2018      другой   \n",
       "\n",
       "   km_to_city_center  \n",
       "0               16.0  \n",
       "1               19.0  \n",
       "2               14.0  \n",
       "3                7.0  \n",
       "4                8.0  \n",
       "\n",
       "[5 rows x 28 columns]"
      ]
     },
     "execution_count": 39,
     "metadata": {},
     "output_type": "execute_result"
    }
   ],
   "source": [
    "df.head()"
   ]
  },
  {
   "cell_type": "markdown",
   "metadata": {},
   "source": [
    "**Вывод**\n",
    "\n",
    "Добавили новые столбцы на основе имеющихся данных, которые помогут лучше разобраться в данных."
   ]
  },
  {
   "cell_type": "markdown",
   "metadata": {},
   "source": [
    "## Исследовательский анализ данных\n",
    "\n",
    "1. Изучить перечисленные ниже параметры объектов и постройте отдельные гистограммы для каждого из этих параметров:\n",
    "    * общая площадь и количество комнат;\n",
    "    * жилая площадь и площадь кухни;\n",
    "    * цена объекта;\n",
    "    * высота потолков;\n",
    "    * тип этажа квартиры («первый», «последний», «другой») и общее количество этажей в доме;\n",
    "    * расстояние до центра города в метрах и расстояние до ближайшего парка.\n",
    "2. Изучить, как быстро продавались квартиры (столбец days_exposition). Этот параметр показывает, сколько дней было размещено каждое объявление.\n",
    "    * Построить гистограмму.\n",
    "    * Посчитать среднее и медиану.\n",
    "3. Какие факторы больше всего влияют на общую (полную) стоимость объекта? Изучить, зависит ли цена от:\n",
    "    * общей площади;\n",
    "    * жилой площади;\n",
    "    * площади кухни;\n",
    "    * количества комнат;\n",
    "    * этажа, на котором расположена квартира (первый, последний, другой);\n",
    "    * даты размещения (день недели, месяц, год). \n",
    "4. Посчитать среднюю цену одного квадратного метра в 10 населённых пунктах с наибольшим числом объявлений. Выделить населённые пункты с самой высокой и низкой стоимостью квадратного метра.\n",
    "5. Выделить квартиры в Санкт-Петербурге с помощью столбца locality_name и вычислить среднюю цену каждого километра."
   ]
  },
  {
   "cell_type": "markdown",
   "metadata": {},
   "source": [
    "### Изучим параметры таблицы и построить гистограммы для каждого из этих параметров.\n",
    "\n",
    "#### Общая площадь и количесвто комнат"
   ]
  },
  {
   "cell_type": "code",
   "execution_count": 40,
   "metadata": {},
   "outputs": [
    {
     "data": {
      "text/plain": [
       "count    23650.000000\n",
       "mean        60.329069\n",
       "std         35.661808\n",
       "min         12.000000\n",
       "25%         40.000000\n",
       "50%         52.000000\n",
       "75%         69.700000\n",
       "80%         74.900000\n",
       "90%         93.500000\n",
       "95%        116.000000\n",
       "max        900.000000\n",
       "Name: total_area, dtype: float64"
      ]
     },
     "execution_count": 40,
     "metadata": {},
     "output_type": "execute_result"
    }
   ],
   "source": [
    "# выводиv статистическую информацию о столбце 'total_area', включая указанные перцентили\n",
    "df['total_area'].describe(percentiles = [0.25, 0.50 , 0.75, 0.80, 0.90, 0.95])"
   ]
  },
  {
   "cell_type": "code",
   "execution_count": 41,
   "metadata": {},
   "outputs": [
    {
     "data": {
      "text/plain": [
       "count    23650.000000\n",
       "mean         2.070106\n",
       "std          1.078620\n",
       "min          0.000000\n",
       "25%          1.000000\n",
       "50%          2.000000\n",
       "75%          3.000000\n",
       "80%          3.000000\n",
       "90%          3.000000\n",
       "95%          4.000000\n",
       "max         19.000000\n",
       "Name: rooms, dtype: float64"
      ]
     },
     "execution_count": 41,
     "metadata": {},
     "output_type": "execute_result"
    }
   ],
   "source": [
    "# выводиv статистическую информацию о столбце 'rooms', включая указанные перцентили\n",
    "df['rooms'].describe(percentiles = [0.25, 0.50 , 0.75, 0.80, 0.90, 0.95])"
   ]
  },
  {
   "cell_type": "markdown",
   "metadata": {},
   "source": [
    "Мы видим, что 25% квартир на рынке с площадью 40кв.м и 1-комнатные. Медианое значение общей площади квартир на 8% ниже средней. \n",
    "\n",
    "Это связано с тем, что на рынке есть квартиры с общей площадью 12кв.м. Но при этом есть квартиры в 900кв.м. Наверняка это ошибка при вводе данных пользователями.Есть квартиры без комнат. Наверняка это объекты со свободной планировко. Но есть и квартиры с 19 комнатами. \n",
    "\n",
    "В любом случае надо разобраться с такими аномальными значениями. Посмотрим если доля таких объектов незначительная, можем смело удалять. \n",
    "\n",
    "Составим сводную таблицу и посмотрим выборку квартир кол-ву комнат для лучшей визулизации. "
   ]
  },
  {
   "cell_type": "code",
   "execution_count": 42,
   "metadata": {},
   "outputs": [
    {
     "data": {
      "text/html": [
       "<div>\n",
       "<style scoped>\n",
       "    .dataframe tbody tr th:only-of-type {\n",
       "        vertical-align: middle;\n",
       "    }\n",
       "\n",
       "    .dataframe tbody tr th {\n",
       "        vertical-align: top;\n",
       "    }\n",
       "\n",
       "    .dataframe thead tr th {\n",
       "        text-align: left;\n",
       "    }\n",
       "\n",
       "    .dataframe thead tr:last-of-type th {\n",
       "        text-align: right;\n",
       "    }\n",
       "</style>\n",
       "<table border=\"1\" class=\"dataframe\">\n",
       "  <thead>\n",
       "    <tr>\n",
       "      <th></th>\n",
       "      <th>min</th>\n",
       "      <th>mean</th>\n",
       "      <th>max</th>\n",
       "    </tr>\n",
       "    <tr>\n",
       "      <th></th>\n",
       "      <th>total_area</th>\n",
       "      <th>total_area</th>\n",
       "      <th>total_area</th>\n",
       "    </tr>\n",
       "    <tr>\n",
       "      <th>rooms</th>\n",
       "      <th></th>\n",
       "      <th></th>\n",
       "      <th></th>\n",
       "    </tr>\n",
       "  </thead>\n",
       "  <tbody>\n",
       "    <tr>\n",
       "      <th>0</th>\n",
       "      <td>15.5</td>\n",
       "      <td>29.279746</td>\n",
       "      <td>371.0</td>\n",
       "    </tr>\n",
       "    <tr>\n",
       "      <th>1</th>\n",
       "      <td>12.0</td>\n",
       "      <td>37.627459</td>\n",
       "      <td>494.1</td>\n",
       "    </tr>\n",
       "    <tr>\n",
       "      <th>2</th>\n",
       "      <td>20.0</td>\n",
       "      <td>55.842278</td>\n",
       "      <td>196.0</td>\n",
       "    </tr>\n",
       "    <tr>\n",
       "      <th>3</th>\n",
       "      <td>40.1</td>\n",
       "      <td>77.748020</td>\n",
       "      <td>363.1</td>\n",
       "    </tr>\n",
       "    <tr>\n",
       "      <th>4</th>\n",
       "      <td>42.0</td>\n",
       "      <td>107.681787</td>\n",
       "      <td>500.0</td>\n",
       "    </tr>\n",
       "    <tr>\n",
       "      <th>5</th>\n",
       "      <td>40.0</td>\n",
       "      <td>161.474816</td>\n",
       "      <td>507.0</td>\n",
       "    </tr>\n",
       "    <tr>\n",
       "      <th>6</th>\n",
       "      <td>87.0</td>\n",
       "      <td>201.537619</td>\n",
       "      <td>500.0</td>\n",
       "    </tr>\n",
       "    <tr>\n",
       "      <th>7</th>\n",
       "      <td>100.6</td>\n",
       "      <td>265.325424</td>\n",
       "      <td>631.2</td>\n",
       "    </tr>\n",
       "    <tr>\n",
       "      <th>8</th>\n",
       "      <td>150.0</td>\n",
       "      <td>259.233333</td>\n",
       "      <td>373.1</td>\n",
       "    </tr>\n",
       "    <tr>\n",
       "      <th>9</th>\n",
       "      <td>235.0</td>\n",
       "      <td>305.975000</td>\n",
       "      <td>400.0</td>\n",
       "    </tr>\n",
       "    <tr>\n",
       "      <th>10</th>\n",
       "      <td>216.1</td>\n",
       "      <td>259.566667</td>\n",
       "      <td>290.0</td>\n",
       "    </tr>\n",
       "    <tr>\n",
       "      <th>11</th>\n",
       "      <td>183.7</td>\n",
       "      <td>188.900000</td>\n",
       "      <td>194.1</td>\n",
       "    </tr>\n",
       "    <tr>\n",
       "      <th>12</th>\n",
       "      <td>900.0</td>\n",
       "      <td>900.000000</td>\n",
       "      <td>900.0</td>\n",
       "    </tr>\n",
       "    <tr>\n",
       "      <th>14</th>\n",
       "      <td>245.4</td>\n",
       "      <td>304.200000</td>\n",
       "      <td>363.0</td>\n",
       "    </tr>\n",
       "    <tr>\n",
       "      <th>15</th>\n",
       "      <td>590.0</td>\n",
       "      <td>590.000000</td>\n",
       "      <td>590.0</td>\n",
       "    </tr>\n",
       "    <tr>\n",
       "      <th>16</th>\n",
       "      <td>270.0</td>\n",
       "      <td>270.000000</td>\n",
       "      <td>270.0</td>\n",
       "    </tr>\n",
       "    <tr>\n",
       "      <th>19</th>\n",
       "      <td>374.6</td>\n",
       "      <td>374.600000</td>\n",
       "      <td>374.6</td>\n",
       "    </tr>\n",
       "  </tbody>\n",
       "</table>\n",
       "</div>"
      ],
      "text/plain": [
       "             min        mean        max\n",
       "      total_area  total_area total_area\n",
       "rooms                                  \n",
       "0           15.5   29.279746      371.0\n",
       "1           12.0   37.627459      494.1\n",
       "2           20.0   55.842278      196.0\n",
       "3           40.1   77.748020      363.1\n",
       "4           42.0  107.681787      500.0\n",
       "5           40.0  161.474816      507.0\n",
       "6           87.0  201.537619      500.0\n",
       "7          100.6  265.325424      631.2\n",
       "8          150.0  259.233333      373.1\n",
       "9          235.0  305.975000      400.0\n",
       "10         216.1  259.566667      290.0\n",
       "11         183.7  188.900000      194.1\n",
       "12         900.0  900.000000      900.0\n",
       "14         245.4  304.200000      363.0\n",
       "15         590.0  590.000000      590.0\n",
       "16         270.0  270.000000      270.0\n",
       "19         374.6  374.600000      374.6"
      ]
     },
     "execution_count": 42,
     "metadata": {},
     "output_type": "execute_result"
    }
   ],
   "source": [
    "df.pivot_table(index='rooms', values=['total_area'], aggfunc=['min', 'mean', 'max'])"
   ]
  },
  {
   "cell_type": "markdown",
   "metadata": {},
   "source": [
    "Есть квартиры кол-во комнат (вероятно это студии) и квартиры с 8 и больше комнат. \n",
    "\n",
    "Проверим сколько их в таблице. Если незначительное количество, то может их удалить. Это никак не повлияет на работу. "
   ]
  },
  {
   "cell_type": "code",
   "execution_count": 43,
   "metadata": {},
   "outputs": [
    {
     "data": {
      "text/plain": [
       "19"
      ]
     },
     "execution_count": 43,
     "metadata": {},
     "output_type": "execute_result"
    }
   ],
   "source": [
    "len(df.loc[df['rooms'] > 8])"
   ]
  },
  {
   "cell_type": "markdown",
   "metadata": {},
   "source": [
    "Общее количество таких аномальных квартир не составляет даже и одного процента наших данных, можем удалять. Все же более 8 комнат это совсем редкость."
   ]
  },
  {
   "cell_type": "code",
   "execution_count": 44,
   "metadata": {},
   "outputs": [],
   "source": [
    "# удаляем кв с более чем 8 комнатами\n",
    "df.drop(df.loc[df['rooms'] > 8].index, inplace=True)\n",
    "df = df.reset_index(drop=True) "
   ]
  },
  {
   "cell_type": "code",
   "execution_count": 45,
   "metadata": {},
   "outputs": [
    {
     "data": {
      "text/html": [
       "<div>\n",
       "<style scoped>\n",
       "    .dataframe tbody tr th:only-of-type {\n",
       "        vertical-align: middle;\n",
       "    }\n",
       "\n",
       "    .dataframe tbody tr th {\n",
       "        vertical-align: top;\n",
       "    }\n",
       "\n",
       "    .dataframe thead tr th {\n",
       "        text-align: left;\n",
       "    }\n",
       "\n",
       "    .dataframe thead tr:last-of-type th {\n",
       "        text-align: right;\n",
       "    }\n",
       "</style>\n",
       "<table border=\"1\" class=\"dataframe\">\n",
       "  <thead>\n",
       "    <tr>\n",
       "      <th></th>\n",
       "      <th>min</th>\n",
       "      <th>mean</th>\n",
       "      <th>max</th>\n",
       "    </tr>\n",
       "    <tr>\n",
       "      <th></th>\n",
       "      <th>total_area</th>\n",
       "      <th>total_area</th>\n",
       "      <th>total_area</th>\n",
       "    </tr>\n",
       "    <tr>\n",
       "      <th>rooms</th>\n",
       "      <th></th>\n",
       "      <th></th>\n",
       "      <th></th>\n",
       "    </tr>\n",
       "  </thead>\n",
       "  <tbody>\n",
       "    <tr>\n",
       "      <th>0</th>\n",
       "      <td>15.5</td>\n",
       "      <td>29.279746</td>\n",
       "      <td>371.0</td>\n",
       "    </tr>\n",
       "    <tr>\n",
       "      <th>1</th>\n",
       "      <td>12.0</td>\n",
       "      <td>37.627459</td>\n",
       "      <td>494.1</td>\n",
       "    </tr>\n",
       "    <tr>\n",
       "      <th>2</th>\n",
       "      <td>20.0</td>\n",
       "      <td>55.842278</td>\n",
       "      <td>196.0</td>\n",
       "    </tr>\n",
       "    <tr>\n",
       "      <th>3</th>\n",
       "      <td>40.1</td>\n",
       "      <td>77.748020</td>\n",
       "      <td>363.1</td>\n",
       "    </tr>\n",
       "    <tr>\n",
       "      <th>4</th>\n",
       "      <td>42.0</td>\n",
       "      <td>107.681787</td>\n",
       "      <td>500.0</td>\n",
       "    </tr>\n",
       "    <tr>\n",
       "      <th>5</th>\n",
       "      <td>40.0</td>\n",
       "      <td>161.474816</td>\n",
       "      <td>507.0</td>\n",
       "    </tr>\n",
       "    <tr>\n",
       "      <th>6</th>\n",
       "      <td>87.0</td>\n",
       "      <td>201.537619</td>\n",
       "      <td>500.0</td>\n",
       "    </tr>\n",
       "    <tr>\n",
       "      <th>7</th>\n",
       "      <td>100.6</td>\n",
       "      <td>265.325424</td>\n",
       "      <td>631.2</td>\n",
       "    </tr>\n",
       "    <tr>\n",
       "      <th>8</th>\n",
       "      <td>150.0</td>\n",
       "      <td>259.233333</td>\n",
       "      <td>373.1</td>\n",
       "    </tr>\n",
       "  </tbody>\n",
       "</table>\n",
       "</div>"
      ],
      "text/plain": [
       "             min        mean        max\n",
       "      total_area  total_area total_area\n",
       "rooms                                  \n",
       "0           15.5   29.279746      371.0\n",
       "1           12.0   37.627459      494.1\n",
       "2           20.0   55.842278      196.0\n",
       "3           40.1   77.748020      363.1\n",
       "4           42.0  107.681787      500.0\n",
       "5           40.0  161.474816      507.0\n",
       "6           87.0  201.537619      500.0\n",
       "7          100.6  265.325424      631.2\n",
       "8          150.0  259.233333      373.1"
      ]
     },
     "execution_count": 45,
     "metadata": {},
     "output_type": "execute_result"
    }
   ],
   "source": [
    "# еще раз посмотрим на ранее созданную таблицу\n",
    "df.pivot_table(index='rooms', values=['total_area'], aggfunc=['min', 'mean', 'max'])"
   ]
  },
  {
   "cell_type": "markdown",
   "metadata": {},
   "source": [
    "Теперь создадим гистограмы."
   ]
  },
  {
   "cell_type": "code",
   "execution_count": 46,
   "metadata": {},
   "outputs": [
    {
     "data": {
      "image/png": "[encoded data removed]",
      "text/plain": [
       "<Figure size 864x360 with 1 Axes>"
      ]
     },
     "metadata": {
      "needs_background": "light"
     },
     "output_type": "display_data"
    }
   ],
   "source": [
    "# создаем график \n",
    "df.hist('total_area', bins=50, figsize=(12,5))\n",
    "plt.title('Распределение площадей всех квартир')\n",
    "plt.xlabel('Количество квартир')\n",
    "plt.ylabel('Площадь')\n",
    "plt.show()"
   ]
  },
  {
   "cell_type": "code",
   "execution_count": 47,
   "metadata": {},
   "outputs": [
    {
     "data": {
      "image/png": "[encoded data removed]",
      "text/plain": [
       "<Figure size 864x360 with 1 Axes>"
      ]
     },
     "metadata": {
      "needs_background": "light"
     },
     "output_type": "display_data"
    }
   ],
   "source": [
    "# создаем график\n",
    "df.hist('rooms', bins=50, figsize=(12,5))\n",
    "plt.title('Количество комнат')\n",
    "plt.xlabel('Количество комнат')\n",
    "plt.ylabel('Частота')\n",
    "plt.show()"
   ]
  },
  {
   "cell_type": "markdown",
   "metadata": {},
   "source": [
    "Для лучшей картины создадим корреляцию и посмотрим каких квартир больше."
   ]
  },
  {
   "cell_type": "code",
   "execution_count": 48,
   "metadata": {},
   "outputs": [
    {
     "data": {
      "image/png": "[encoded data removed]",
      "text/plain": [
       "<Figure size 720x432 with 2 Axes>"
      ]
     },
     "metadata": {
      "needs_background": "light"
     },
     "output_type": "display_data"
    }
   ],
   "source": [
    "# создаем график\n",
    "df.plot(x='rooms', y='total_area',\n",
    "        kind='hexbin', gridsize=20, figsize=(10, 6),\n",
    "        sharex=False, grid=True)\n",
    "plt.title('Количество комнат по общей площади')\n",
    "plt.show()"
   ]
  },
  {
   "cell_type": "markdown",
   "metadata": {},
   "source": [
    "**Вывод**\n",
    "\n",
    "Больше всего квартир на рынке - 1-комнатные квартиры с площадью от 40 до 60 кв.м.\n",
    "\n",
    "Далее идут 2-комнатные квартиры с площадью от 40 до 80 кв.м.\n",
    "\n",
    "3-комнатные в основном от 60 кв.м и выше."
   ]
  },
  {
   "cell_type": "markdown",
   "metadata": {},
   "source": [
    "#### Жилая площадь и площадь кухни"
   ]
  },
  {
   "cell_type": "code",
   "execution_count": 49,
   "metadata": {},
   "outputs": [
    {
     "data": {
      "text/plain": [
       "count    21734.000000\n",
       "mean        34.304354\n",
       "std         21.348029\n",
       "min          2.000000\n",
       "25%         18.600000\n",
       "50%         30.000000\n",
       "75%         42.200000\n",
       "max        347.500000\n",
       "Name: living_area, dtype: float64"
      ]
     },
     "execution_count": 49,
     "metadata": {},
     "output_type": "execute_result"
    }
   ],
   "source": [
    "df['living_area'].describe()"
   ]
  },
  {
   "cell_type": "code",
   "execution_count": 50,
   "metadata": {},
   "outputs": [
    {
     "data": {
      "text/plain": [
       "count    21363.000000\n",
       "mean        10.548886\n",
       "std          5.814733\n",
       "min          1.300000\n",
       "25%          7.000000\n",
       "50%          9.100000\n",
       "75%         12.000000\n",
       "max        107.000000\n",
       "Name: kitchen_area, dtype: float64"
      ]
     },
     "execution_count": 50,
     "metadata": {},
     "output_type": "execute_result"
    }
   ],
   "source": [
    "df['kitchen_area'].describe()"
   ]
  },
  {
   "cell_type": "markdown",
   "metadata": {},
   "source": [
    "Есть квартиры с жилой площадью в 2 кв.м. Это явно ошибка. Можем смело удалять такие квартиры.\n",
    "\n",
    "Есть и кухни минималистические (не дизайн). Но тут случай другой. Можно предположить, что это размер кухни в студиях, где и так площадь не большая."
   ]
  },
  {
   "cell_type": "code",
   "execution_count": 51,
   "metadata": {},
   "outputs": [
    {
     "data": {
      "text/plain": [
       "4"
      ]
     },
     "execution_count": 51,
     "metadata": {},
     "output_type": "execute_result"
    }
   ],
   "source": [
    "# посчитаем кол-во кв с менее чем 5кв жил.площади\n",
    "len(df.loc[df['living_area'] < 5])"
   ]
  },
  {
   "cell_type": "markdown",
   "metadata": {},
   "source": [
    "Есть квартиры, где жилая площадь меньше 5кв.м. Удаляем!"
   ]
  },
  {
   "cell_type": "code",
   "execution_count": 52,
   "metadata": {},
   "outputs": [],
   "source": [
    "df.drop(df.loc[df['living_area'] < 5].index, inplace=True)\n",
    "df = df.reset_index(drop=True) "
   ]
  },
  {
   "cell_type": "markdown",
   "metadata": {},
   "source": [
    "Посмотрим на графике."
   ]
  },
  {
   "cell_type": "code",
   "execution_count": 53,
   "metadata": {},
   "outputs": [
    {
     "data": {
      "image/png": "[encoded data removed]",
      "text/plain": [
       "<Figure size 864x360 with 1 Axes>"
      ]
     },
     "metadata": {
      "needs_background": "light"
     },
     "output_type": "display_data"
    }
   ],
   "source": [
    "# создаем график\n",
    "df.hist('living_area', bins=60, figsize=(12,5))\n",
    "plt.title('Распределение жилых площадей')\n",
    "plt.xlabel('Жилая полщадь в кв.м.')\n",
    "plt.ylabel('Частота')\n",
    "plt.show()"
   ]
  },
  {
   "cell_type": "code",
   "execution_count": 54,
   "metadata": {},
   "outputs": [
    {
     "data": {
      "image/png": "[encoded data removed]",
      "text/plain": [
       "<Figure size 864x360 with 1 Axes>"
      ]
     },
     "metadata": {
      "needs_background": "light"
     },
     "output_type": "display_data"
    }
   ],
   "source": [
    "# создаем график\n",
    "df.hist('kitchen_area', bins=60, figsize=(12,5))\n",
    "plt.title('Распределение площадей кухонь')\n",
    "plt.xlabel('Площадь кухонь в кв.м.')\n",
    "plt.ylabel('Частота')\n",
    "plt.show()"
   ]
  },
  {
   "cell_type": "markdown",
   "metadata": {},
   "source": [
    "**Вывод**\n",
    "\n",
    "После сортировки видим, что большинство квартир имеют жилую площадь от 20 до 40 кв.м. А кухни обычно составляют от 7 до 15 кв.м."
   ]
  },
  {
   "cell_type": "markdown",
   "metadata": {},
   "source": [
    "#### Цена объекта"
   ]
  },
  {
   "cell_type": "code",
   "execution_count": 55,
   "metadata": {},
   "outputs": [
    {
     "data": {
      "text/plain": [
       "count     23627.000000\n",
       "mean       6501.795117\n",
       "std       10521.882237\n",
       "min          12.190000\n",
       "25%        3400.000000\n",
       "50%        4640.000000\n",
       "75%        6766.696000\n",
       "max      763000.000000\n",
       "Name: price_1000, dtype: float64"
      ]
     },
     "execution_count": 55,
     "metadata": {},
     "output_type": "execute_result"
    }
   ],
   "source": [
    "df['price_1000'].describe()"
   ]
  },
  {
   "cell_type": "markdown",
   "metadata": {},
   "source": [
    "Судя по данным, кто-то продает квариру за 12т рублей и кто-то за 763млн рублей. Предположим что это опять таки ошибки при вводе данных. Проверим какую долю составляют эти данные."
   ]
  },
  {
   "cell_type": "code",
   "execution_count": 56,
   "metadata": {},
   "outputs": [
    {
     "data": {
      "text/plain": [
       "225"
      ]
     },
     "execution_count": 56,
     "metadata": {},
     "output_type": "execute_result"
    }
   ],
   "source": [
    "# найдем квартиры меньше 1млн. рублей \n",
    "len(df.loc[df['price_1000'] < 1000])"
   ]
  },
  {
   "cell_type": "code",
   "execution_count": 57,
   "metadata": {},
   "outputs": [
    {
     "data": {
      "text/plain": [
       "1"
      ]
     },
     "execution_count": 57,
     "metadata": {},
     "output_type": "execute_result"
    }
   ],
   "source": [
    "# найдем квартиры дороже 500млн. рублей\n",
    "len(df.loc[df['price_1000'] > 500000])"
   ]
  },
  {
   "cell_type": "markdown",
   "metadata": {},
   "source": [
    "Для повышения точности данных мы нашли квартиры, стоимость которых составляет менее 1 миллиона рублей. Однако, мы сомневаемся, что можно найти квартиру за 1 миллион в Санкт-Петербурге. Поэтому мы можем удалить эти сомнительные данные.\n",
    "\n",
    "А для элитных квартир мы оставили ограничение в 500 миллионов рублей."
   ]
  },
  {
   "cell_type": "code",
   "execution_count": 58,
   "metadata": {},
   "outputs": [],
   "source": [
    "# удалияем аномально дешевые и дорогие крвартиры \n",
    "df.drop(df.loc[df['price_1000'] < 1000].index, inplace=True)\n",
    "df = df.reset_index(drop=True)\n",
    "\n",
    "df.drop(df.loc[df['price_1000'] > 500000].index, inplace=True)\n",
    "df = df.reset_index(drop=True)"
   ]
  },
  {
   "cell_type": "markdown",
   "metadata": {},
   "source": [
    "Создадим корреляцию, чтоб увидеть распределение цен на разные квартиры (1, 2, 3 и больше комнат). "
   ]
  },
  {
   "cell_type": "code",
   "execution_count": 59,
   "metadata": {},
   "outputs": [
    {
     "data": {
      "image/png": "[encoded data removed]",
      "text/plain": [
       "<Figure size 720x432 with 1 Axes>"
      ]
     },
     "metadata": {
      "needs_background": "light"
     },
     "output_type": "display_data"
    }
   ],
   "source": [
    "# создаем график\n",
    "df.plot(x='rooms', y='price_1000', kind='scatter', figsize=(10, 6))\n",
    "plt.title('Цены на квартиры в зависимости от кол-во комнат')\n",
    "plt.xlabel('Количество комнат')\n",
    "plt.ylabel('Цена в 1000')\n",
    "plt.show()"
   ]
  },
  {
   "cell_type": "markdown",
   "metadata": {},
   "source": [
    "**Вывод**\n",
    "\n",
    "Студии не всегда являются дорогими, но есть и такие, которые стоят почти 7 миллионов рублей. Квартиры с одной комнатой также могут продаваться до 5 миллионов рублей. Квартиры с двумя комнатами могут стоить до 8 миллионов рублей. И так далее, цены на квартиры увеличиваются по мере увеличения количества комнат."
   ]
  },
  {
   "cell_type": "markdown",
   "metadata": {},
   "source": [
    "#### Высота потолков"
   ]
  },
  {
   "cell_type": "code",
   "execution_count": 60,
   "metadata": {},
   "outputs": [
    {
     "data": {
      "text/plain": [
       "count    23401.000000\n",
       "mean         2.697106\n",
       "std          0.214288\n",
       "min          2.500000\n",
       "25%          2.600000\n",
       "50%          2.650000\n",
       "75%          2.700000\n",
       "max          4.900000\n",
       "Name: ceiling_height, dtype: float64"
      ]
     },
     "execution_count": 60,
     "metadata": {},
     "output_type": "execute_result"
    }
   ],
   "source": [
    "df['ceiling_height'].describe()"
   ]
  },
  {
   "cell_type": "code",
   "execution_count": 61,
   "metadata": {},
   "outputs": [
    {
     "data": {
      "image/png": "[encoded data removed]",
      "text/plain": [
       "<Figure size 720x360 with 1 Axes>"
      ]
     },
     "metadata": {
      "needs_background": "light"
     },
     "output_type": "display_data"
    }
   ],
   "source": [
    "# создаем график\n",
    "df.hist('ceiling_height', bins=50, figsize=(10,5)) \n",
    "plt.title('Высота потолков')\n",
    "plt.xlabel('Высота в метрах')\n",
    "plt.ylabel('Частота')\n",
    "plt.show()"
   ]
  },
  {
   "cell_type": "markdown",
   "metadata": {},
   "source": [
    "**Вывод**\n",
    "\n",
    "На стадии предобработки мы избавились от аномальных значений в этом столбце.\n",
    "\n",
    "В целом, все выглядит нормально. Есть квартиры с высотой потолка 2.5 метра, и есть которые выбиваются выше 3 метров. Однако на рынке в основном представлены квартиры с потолком высотой 2.7 метра."
   ]
  },
  {
   "cell_type": "markdown",
   "metadata": {},
   "source": [
    "#### Тип этажей и общее кол-во этажей в доме"
   ]
  },
  {
   "cell_type": "markdown",
   "metadata": {},
   "source": [
    "Создадем график."
   ]
  },
  {
   "cell_type": "code",
   "execution_count": 62,
   "metadata": {},
   "outputs": [
    {
     "data": {
      "image/png": "[encoded data removed]",
      "text/plain": [
       "<Figure size 720x360 with 1 Axes>"
      ]
     },
     "metadata": {
      "needs_background": "light"
     },
     "output_type": "display_data"
    }
   ],
   "source": [
    "# создаем график\n",
    "df['floors_total'].hist(bins=50, figsize=(10,5)) \n",
    "plt.title('Общее кол-во этажей')\n",
    "plt.xlabel('Количество этажей')\n",
    "plt.ylabel('Частота')\n",
    "plt.show()"
   ]
  },
  {
   "cell_type": "markdown",
   "metadata": {},
   "source": [
    "По всплескам в данных видно, что у нас много домов типовой застройки."
   ]
  },
  {
   "cell_type": "code",
   "execution_count": 63,
   "metadata": {},
   "outputs": [
    {
     "data": {
      "text/plain": [
       "другой       17321\n",
       "последний     3265\n",
       "первый        2815\n",
       "Name: floor_type, dtype: int64"
      ]
     },
     "execution_count": 63,
     "metadata": {},
     "output_type": "execute_result"
    }
   ],
   "source": [
    "df['floor_type'].value_counts()"
   ]
  },
  {
   "cell_type": "code",
   "execution_count": 64,
   "metadata": {},
   "outputs": [
    {
     "data": {
      "text/plain": [
       "74.01820435024145"
      ]
     },
     "execution_count": 64,
     "metadata": {},
     "output_type": "execute_result"
    }
   ],
   "source": [
    "# вычислим долю квартир, которые имеют значение 'другой'\n",
    "len(df.loc[df['floor_type'] == 'другой']) / len(df) * 100"
   ]
  },
  {
   "cell_type": "code",
   "execution_count": 65,
   "metadata": {},
   "outputs": [
    {
     "data": {
      "text/plain": [
       "12.029400452972096"
      ]
     },
     "execution_count": 65,
     "metadata": {},
     "output_type": "execute_result"
    }
   ],
   "source": [
    "# вычислим долю квартир, которые имеют значение 'первый'\n",
    "len(df.loc[df['floor_type'] == 'первый']) / len(df) * 100"
   ]
  },
  {
   "cell_type": "code",
   "execution_count": 66,
   "metadata": {},
   "outputs": [
    {
     "data": {
      "text/plain": [
       "13.952395196786464"
      ]
     },
     "execution_count": 66,
     "metadata": {},
     "output_type": "execute_result"
    }
   ],
   "source": [
    "# вычислим долю квартир, которые имеют значение 'последний'\n",
    "len(df.loc[df['floor_type'] == 'последний']) / len(df) * 100"
   ]
  },
  {
   "cell_type": "markdown",
   "metadata": {},
   "source": [
    "**Вывод** \n",
    "\n",
    "Подавляющее большинство домов, где продают квартиры, имеют 5 и 9 этажей.\n",
    "* 12% квартир находятся на 1 этаже;\n",
    "* 14% - на последнем этаже;\n",
    "* И 74% - находятся на этажах с 2 по предпоследний."
   ]
  },
  {
   "cell_type": "markdown",
   "metadata": {},
   "source": [
    "#### Растояние до центра и до ближайшего парка"
   ]
  },
  {
   "cell_type": "code",
   "execution_count": 67,
   "metadata": {},
   "outputs": [
    {
     "data": {
      "image/png": "[encoded data removed]",
      "text/plain": [
       "<Figure size 864x360 with 1 Axes>"
      ]
     },
     "metadata": {
      "needs_background": "light"
     },
     "output_type": "display_data"
    }
   ],
   "source": [
    "# создаем график\n",
    "df['km_to_city_center'].hist(bins=50, figsize=(12,5))\n",
    "plt.title('Растояние до центра в километрах')\n",
    "plt.xlabel('Километр')\n",
    "plt.ylabel('Частота')\n",
    "plt.show()"
   ]
  },
  {
   "cell_type": "code",
   "execution_count": 68,
   "metadata": {},
   "outputs": [
    {
     "data": {
      "image/png": "[encoded data removed]",
      "text/plain": [
       "<Figure size 864x360 with 1 Axes>"
      ]
     },
     "metadata": {
      "needs_background": "light"
     },
     "output_type": "display_data"
    }
   ],
   "source": [
    "# создаем график\n",
    "df['parks_around_3000'].hist(bins=20, figsize=(12,5))\n",
    "plt.title('Парки в радиусе 3000 метров')\n",
    "plt.xlabel('Километр')\n",
    "plt.ylabel('Количество квратир')\n",
    "plt.show()"
   ]
  },
  {
   "cell_type": "markdown",
   "metadata": {},
   "source": [
    "**Вывод**\n",
    "\n",
    "* Большинство квартир на рынке находятся на расстоянии 12 км от центра, также большая выборка квартир на расстоянии 5 км от центра и 17 км. Выделяются и объекты почти в пригороде.\n",
    "* В качестве ближайших парков выбрали столбец с парками на расстоянии 3 км. У более чем 10 тысяч объектов парки практически под домом, далее идут квартиры, где на расстоянии 1 км есть парки и т.д."
   ]
  },
  {
   "cell_type": "markdown",
   "metadata": {},
   "source": [
    "### Изучим, как быстро продавались квартиры ."
   ]
  },
  {
   "cell_type": "markdown",
   "metadata": {},
   "source": [
    "Построем гистограмму."
   ]
  },
  {
   "cell_type": "code",
   "execution_count": 69,
   "metadata": {
    "scrolled": true
   },
   "outputs": [
    {
     "data": {
      "text/plain": [
       "count    20272\n",
       "mean       181\n",
       "std        220\n",
       "min          1\n",
       "20%         34\n",
       "35%         60\n",
       "50%         95\n",
       "75%        231\n",
       "95%        647\n",
       "max       1580\n",
       "Name: days_exposition, dtype: int64"
      ]
     },
     "execution_count": 69,
     "metadata": {},
     "output_type": "execute_result"
    }
   ],
   "source": [
    "# выводим статистическую информацию о столбце 'days_exposition', включая указанные перцентили\n",
    "df['days_exposition'].describe(percentiles=[0.20, 0.35, 0.50, 0.75, 0.95]).round().astype(int)"
   ]
  },
  {
   "cell_type": "code",
   "execution_count": 70,
   "metadata": {},
   "outputs": [
    {
     "data": {
      "image/png": "[encoded data removed]",
      "text/plain": [
       "<Figure size 864x360 with 1 Axes>"
      ]
     },
     "metadata": {
      "needs_background": "light"
     },
     "output_type": "display_data"
    }
   ],
   "source": [
    "# создаем график\n",
    "df['days_exposition'].hist(bins=120, figsize=(12, 5))\n",
    "plt.title('За сколько дней продавались квартиры')\n",
    "plt.xlabel('Количество дней')\n",
    "plt.ylabel('Количество квратир')\n",
    "plt.show()"
   ]
  },
  {
   "cell_type": "markdown",
   "metadata": {},
   "source": [
    "Придадим гистограмме параметры до 3 лет или 1000 дней для более четкой картины."
   ]
  },
  {
   "cell_type": "code",
   "execution_count": 71,
   "metadata": {},
   "outputs": [
    {
     "data": {
      "image/png": "[encoded data removed]",
      "text/plain": [
       "<Figure size 864x360 with 1 Axes>"
      ]
     },
     "metadata": {
      "needs_background": "light"
     },
     "output_type": "display_data"
    }
   ],
   "source": [
    "# создаем график\n",
    "df['days_exposition'].hist(bins=150, figsize=(12, 5), range=(0, 1000))\n",
    "plt.title('За сколько дней продавались квартиры (в пределах 1000 дней)')\n",
    "plt.xlabel('Количество дней')\n",
    "plt.ylabel('Количество квратир')\n",
    "plt.show()"
   ]
  },
  {
   "cell_type": "markdown",
   "metadata": {},
   "source": [
    "**Вывод**\n",
    "\n",
    "В среднем квартиры продаются в течение 6 месяцев, но медиана составляет 3 месяца (точнее 95 дней).\n",
    "\n",
    "Это связано с тем, что есть объекты, которые продаются за один день, а также объекты, которые уже находятся на продаже 1580 дней.\n",
    "\n",
    "Возможно, квартиры, которые продаются очень быстро (за месяц или 2), имеют более ценники ниже рынка. Владельцы таких квартир заинтересованы не только в выгодной продаже, но и в быстрой сделке. С другой стороны, объекты, которые находятся на продаже уже больше года, могут просто ждать подходящего момента и выгодного предложения."
   ]
  },
  {
   "cell_type": "markdown",
   "metadata": {},
   "source": [
    "### Какие факторы больше всего влияют на общую (полную) стоимость объекта?"
   ]
  },
  {
   "cell_type": "markdown",
   "metadata": {},
   "source": [
    "Изучим, зависит ли цена от:\n",
    "- общей площади;\n",
    "- жилой площади;\n",
    "- площади кухни;\n",
    "- количества комнат;\n",
    "- этажа, на котором расположена квартира (первый, последний, другой);\n",
    "- даты размещения (день недели, месяц, год).\n",
    "\n",
    "Используем сводные таблицы. "
   ]
  },
  {
   "cell_type": "code",
   "execution_count": 72,
   "metadata": {},
   "outputs": [
    {
     "data": {
      "image/png": "[encoded data removed]",
      "text/plain": [
       "<Figure size 864x360 with 1 Axes>"
      ]
     },
     "metadata": {
      "needs_background": "light"
     },
     "output_type": "display_data"
    },
    {
     "data": {
      "text/plain": [
       "0.6950731853657733"
      ]
     },
     "metadata": {},
     "output_type": "display_data"
    }
   ],
   "source": [
    "# зависимость цены от общей площади\n",
    "pivot_table_total_area = df.pivot_table(index='total_area', values='price_1000',\\\n",
    "                                        aggfunc=['mean', 'count', 'median'])\n",
    "pivot_table_total_area.columns = ['mean', 'count', 'median']\n",
    "\n",
    "# создаем график \n",
    "pivot_table_total_area.plot(y='median', style='o', figsize=(12, 5), alpha=0.3)\n",
    "pivot_table_total_area.sort_values('median', ascending=False)\n",
    "plt.title('Зависимость цены от общей площади квартиры')\n",
    "plt.xlabel('Площадь квартир')\n",
    "plt.ylabel('Цена в 1000')\n",
    "plt.show()\n",
    "\n",
    "# вычислим корреляцию между столбцами 'total_area' и 'price_1000' \n",
    "display(df['total_area'].corr(df['price_1000']))"
   ]
  },
  {
   "cell_type": "markdown",
   "metadata": {},
   "source": [
    "Чем больше площадь, тем больше цена."
   ]
  },
  {
   "cell_type": "code",
   "execution_count": 73,
   "metadata": {},
   "outputs": [
    {
     "data": {
      "image/png": "[encoded data removed]",
      "text/plain": [
       "<Figure size 864x360 with 1 Axes>"
      ]
     },
     "metadata": {
      "needs_background": "light"
     },
     "output_type": "display_data"
    },
    {
     "data": {
      "text/plain": [
       "0.6040791517061246"
      ]
     },
     "execution_count": 73,
     "metadata": {},
     "output_type": "execute_result"
    }
   ],
   "source": [
    "# зависимость цены от жилой площади\n",
    "pivot_table_living_area = df.pivot_table(index='living_area', values='price_1000',\\\n",
    "                                         aggfunc=['mean', 'count', 'median'])\n",
    "pivot_table_living_area.columns = ['mean', 'count', 'median']\n",
    "\n",
    "# создаем график \n",
    "pivot_table_living_area.plot(y='median', style='o', figsize=(12, 5), alpha=0.3)\n",
    "pivot_table_living_area.sort_values('median', ascending=False)\n",
    "plt.title('Зависимость цены от жилой площади')\n",
    "plt.xlabel('Жилая площадь')\n",
    "plt.ylabel('Цена в 1000')\n",
    "plt.show()\n",
    "\n",
    "# вычислим корреляцию между столбцами 'living_area' и 'price_1000' \n",
    "df['living_area'].corr(df['price_1000'])"
   ]
  },
  {
   "cell_type": "markdown",
   "metadata": {},
   "source": [
    "Похожая закономерность. Чем больше площадь (не важно какая), тем дороже цена."
   ]
  },
  {
   "cell_type": "code",
   "execution_count": 74,
   "metadata": {},
   "outputs": [
    {
     "data": {
      "image/png": "[encoded data removed]",
      "text/plain": [
       "<Figure size 864x360 with 1 Axes>"
      ]
     },
     "metadata": {
      "needs_background": "light"
     },
     "output_type": "display_data"
    },
    {
     "data": {
      "text/plain": [
       "0.5069167941809692"
      ]
     },
     "execution_count": 74,
     "metadata": {},
     "output_type": "execute_result"
    }
   ],
   "source": [
    "# зависимость цены от площади кухни\n",
    "pivot_table_kitchen_area = df.pivot_table(index='kitchen_area', values='price_1000',\\\n",
    "                                          aggfunc=['mean', 'count', 'median'])\n",
    "pivot_table_kitchen_area.columns = ['mean', 'count', 'median']\n",
    "\n",
    "# создаем график \n",
    "pivot_table_kitchen_area.plot(y='median', style='o', figsize=(12, 5), alpha=0.3)\n",
    "pivot_table_kitchen_area.sort_values('median', ascending=False)\n",
    "plt.title('Зависимость цены от площади кухни')\n",
    "plt.xlabel('Площадь кухни')\n",
    "plt.ylabel('Цена в 1000')\n",
    "plt.show()\n",
    "\n",
    "# вычислим корреляцию между столбцами 'kitchen_are' и 'price_1000' \n",
    "df['kitchen_area'].corr(df['price_1000'])"
   ]
  },
  {
   "cell_type": "markdown",
   "metadata": {},
   "source": [
    "История повторяется. "
   ]
  },
  {
   "cell_type": "code",
   "execution_count": 75,
   "metadata": {},
   "outputs": [
    {
     "data": {
      "image/png": "[encoded data removed]",
      "text/plain": [
       "<Figure size 576x288 with 1 Axes>"
      ]
     },
     "metadata": {
      "needs_background": "light"
     },
     "output_type": "display_data"
    },
    {
     "data": {
      "text/plain": [
       "0.3869212484922128"
      ]
     },
     "execution_count": 75,
     "metadata": {},
     "output_type": "execute_result"
    }
   ],
   "source": [
    "# зависимость цены от кол_во комнат\n",
    "pivot_table_rooms = df.pivot_table(index='rooms', values='price_1000',\\\n",
    "                                   aggfunc=['mean', 'count', 'median'])\n",
    "pivot_table_rooms.columns = ['mean', 'count', 'median']\n",
    "\n",
    "# создаем график\n",
    "pivot_table_rooms.plot(y='median', style='o', figsize=(8, 4))\n",
    "pivot_table_rooms.sort_values('median', ascending=False)\n",
    "plt.title('Зависимость цены от кол-во комнат')\n",
    "plt.xlabel('Количесвто комнат')\n",
    "plt.ylabel('Цена в 1000')\n",
    "plt.show()\n",
    "\n",
    "# вычислим корреляцию между столбцами 'kitchen_are' и 'price_1000' \n",
    "df['rooms'].corr(df['price_1000'])"
   ]
  },
  {
   "cell_type": "code",
   "execution_count": 76,
   "metadata": {},
   "outputs": [
    {
     "data": {
      "image/png": "[encoded data removed]",
      "text/plain": [
       "<Figure size 576x288 with 1 Axes>"
      ]
     },
     "metadata": {
      "needs_background": "light"
     },
     "output_type": "display_data"
    },
    {
     "data": {
      "text/html": [
       "<div>\n",
       "<style scoped>\n",
       "    .dataframe tbody tr th:only-of-type {\n",
       "        vertical-align: middle;\n",
       "    }\n",
       "\n",
       "    .dataframe tbody tr th {\n",
       "        vertical-align: top;\n",
       "    }\n",
       "\n",
       "    .dataframe thead th {\n",
       "        text-align: right;\n",
       "    }\n",
       "</style>\n",
       "<table border=\"1\" class=\"dataframe\">\n",
       "  <thead>\n",
       "    <tr style=\"text-align: right;\">\n",
       "      <th></th>\n",
       "      <th>mean</th>\n",
       "      <th>count</th>\n",
       "      <th>median</th>\n",
       "    </tr>\n",
       "    <tr>\n",
       "      <th>floor_type</th>\n",
       "      <th></th>\n",
       "      <th></th>\n",
       "      <th></th>\n",
       "    </tr>\n",
       "  </thead>\n",
       "  <tbody>\n",
       "    <tr>\n",
       "      <th>другой</th>\n",
       "      <td>6688.581056</td>\n",
       "      <td>17321</td>\n",
       "      <td>4850.000</td>\n",
       "    </tr>\n",
       "    <tr>\n",
       "      <th>первый</th>\n",
       "      <td>4872.899951</td>\n",
       "      <td>2815</td>\n",
       "      <td>3960.396</td>\n",
       "    </tr>\n",
       "    <tr>\n",
       "      <th>последний</th>\n",
       "      <td>7078.696690</td>\n",
       "      <td>3265</td>\n",
       "      <td>4350.000</td>\n",
       "    </tr>\n",
       "  </tbody>\n",
       "</table>\n",
       "</div>"
      ],
      "text/plain": [
       "                   mean  count    median\n",
       "floor_type                              \n",
       "другой      6688.581056  17321  4850.000\n",
       "первый      4872.899951   2815  3960.396\n",
       "последний   7078.696690   3265  4350.000"
      ]
     },
     "execution_count": 76,
     "metadata": {},
     "output_type": "execute_result"
    }
   ],
   "source": [
    "# зависимость цены от этажа\n",
    "pivot_table_floor_type = df.pivot_table(index='floor_type', values='price_1000',\\\n",
    "                                        aggfunc=['mean', 'count', 'median'])\n",
    "pivot_table_floor_type.columns = ['mean', 'count', 'median']\n",
    "\n",
    "# создаем график\n",
    "pivot_table_floor_type.plot(y='median', figsize=(8, 4))\n",
    "plt.title('Зависимость цены от этажа')\n",
    "plt.xlabel('Тип этажа')\n",
    "plt.ylabel('Цена в 1000')\n",
    "plt.show()\n",
    "\n",
    "# выводим таблицу\n",
    "pivot_table_floor_type"
   ]
  },
  {
   "cell_type": "markdown",
   "metadata": {},
   "source": [
    "В данном случае первый и последние этажи намного дешевле, чем другие. Фактор безопасности."
   ]
  },
  {
   "cell_type": "code",
   "execution_count": 77,
   "metadata": {},
   "outputs": [
    {
     "data": {
      "image/png": "[encoded data removed]",
      "text/plain": [
       "<Figure size 576x288 with 1 Axes>"
      ]
     },
     "metadata": {
      "needs_background": "light"
     },
     "output_type": "display_data"
    },
    {
     "data": {
      "text/html": [
       "<div>\n",
       "<style scoped>\n",
       "    .dataframe tbody tr th:only-of-type {\n",
       "        vertical-align: middle;\n",
       "    }\n",
       "\n",
       "    .dataframe tbody tr th {\n",
       "        vertical-align: top;\n",
       "    }\n",
       "\n",
       "    .dataframe thead th {\n",
       "        text-align: right;\n",
       "    }\n",
       "</style>\n",
       "<table border=\"1\" class=\"dataframe\">\n",
       "  <thead>\n",
       "    <tr style=\"text-align: right;\">\n",
       "      <th></th>\n",
       "      <th>mean</th>\n",
       "      <th>count</th>\n",
       "      <th>median</th>\n",
       "    </tr>\n",
       "    <tr>\n",
       "      <th>weekday_exposition</th>\n",
       "      <th></th>\n",
       "      <th></th>\n",
       "      <th></th>\n",
       "    </tr>\n",
       "  </thead>\n",
       "  <tbody>\n",
       "    <tr>\n",
       "      <th>1</th>\n",
       "      <td>6401.988251</td>\n",
       "      <td>4136</td>\n",
       "      <td>4750.0</td>\n",
       "    </tr>\n",
       "    <tr>\n",
       "      <th>2</th>\n",
       "      <td>6547.245500</td>\n",
       "      <td>3921</td>\n",
       "      <td>4700.0</td>\n",
       "    </tr>\n",
       "    <tr>\n",
       "      <th>3</th>\n",
       "      <td>6734.116528</td>\n",
       "      <td>4246</td>\n",
       "      <td>4680.0</td>\n",
       "    </tr>\n",
       "    <tr>\n",
       "      <th>0</th>\n",
       "      <td>6543.361118</td>\n",
       "      <td>3574</td>\n",
       "      <td>4650.0</td>\n",
       "    </tr>\n",
       "    <tr>\n",
       "      <th>4</th>\n",
       "      <td>6415.435969</td>\n",
       "      <td>3956</td>\n",
       "      <td>4600.0</td>\n",
       "    </tr>\n",
       "    <tr>\n",
       "      <th>5</th>\n",
       "      <td>6666.809727</td>\n",
       "      <td>1895</td>\n",
       "      <td>4600.0</td>\n",
       "    </tr>\n",
       "    <tr>\n",
       "      <th>6</th>\n",
       "      <td>6299.818867</td>\n",
       "      <td>1673</td>\n",
       "      <td>4550.0</td>\n",
       "    </tr>\n",
       "  </tbody>\n",
       "</table>\n",
       "</div>"
      ],
      "text/plain": [
       "                           mean  count  median\n",
       "weekday_exposition                            \n",
       "1                   6401.988251   4136  4750.0\n",
       "2                   6547.245500   3921  4700.0\n",
       "3                   6734.116528   4246  4680.0\n",
       "0                   6543.361118   3574  4650.0\n",
       "4                   6415.435969   3956  4600.0\n",
       "5                   6666.809727   1895  4600.0\n",
       "6                   6299.818867   1673  4550.0"
      ]
     },
     "execution_count": 77,
     "metadata": {},
     "output_type": "execute_result"
    }
   ],
   "source": [
    "# зависимость цены от дня(недели) размещения объявления\n",
    "pivot_table_weekday_exposition = df.pivot_table(index='weekday_exposition', values='price_1000',\\\n",
    "                                                  aggfunc=['mean', 'count', 'median'])\n",
    "pivot_table_weekday_exposition.columns = ['mean', 'count', 'median']\n",
    "\n",
    "# создаем график\n",
    "pivot_table_weekday_exposition.plot(y='median', figsize=(8, 4))\n",
    "plt.title('Зависимость цены от дня недели размещения объявления')\n",
    "plt.xlabel('День размещения')\n",
    "plt.ylabel('Цена в 1000')\n",
    "plt.show()\n",
    "\n",
    "# выводим таблицу\n",
    "pivot_table_weekday_exposition.sort_values('median', ascending=False)"
   ]
  },
  {
   "cell_type": "markdown",
   "metadata": {},
   "source": [
    "Чем ближе объявления выставлены к вторнику, тем в среднем выше стоимость, но разница незначительна. Стоимость самая низкая по выходным."
   ]
  },
  {
   "cell_type": "code",
   "execution_count": 78,
   "metadata": {},
   "outputs": [
    {
     "data": {
      "image/png": "[encoded data removed]",
      "text/plain": [
       "<Figure size 576x288 with 1 Axes>"
      ]
     },
     "metadata": {
      "needs_background": "light"
     },
     "output_type": "display_data"
    },
    {
     "data": {
      "text/html": [
       "<div>\n",
       "<style scoped>\n",
       "    .dataframe tbody tr th:only-of-type {\n",
       "        vertical-align: middle;\n",
       "    }\n",
       "\n",
       "    .dataframe tbody tr th {\n",
       "        vertical-align: top;\n",
       "    }\n",
       "\n",
       "    .dataframe thead th {\n",
       "        text-align: right;\n",
       "    }\n",
       "</style>\n",
       "<table border=\"1\" class=\"dataframe\">\n",
       "  <thead>\n",
       "    <tr style=\"text-align: right;\">\n",
       "      <th></th>\n",
       "      <th>mean</th>\n",
       "      <th>count</th>\n",
       "      <th>median</th>\n",
       "    </tr>\n",
       "    <tr>\n",
       "      <th>month_exposition</th>\n",
       "      <th></th>\n",
       "      <th></th>\n",
       "      <th></th>\n",
       "    </tr>\n",
       "  </thead>\n",
       "  <tbody>\n",
       "    <tr>\n",
       "      <th>4</th>\n",
       "      <td>6776.899719</td>\n",
       "      <td>2352</td>\n",
       "      <td>4800.0</td>\n",
       "    </tr>\n",
       "    <tr>\n",
       "      <th>3</th>\n",
       "      <td>6368.143162</td>\n",
       "      <td>2554</td>\n",
       "      <td>4700.0</td>\n",
       "    </tr>\n",
       "    <tr>\n",
       "      <th>9</th>\n",
       "      <td>6504.092393</td>\n",
       "      <td>1958</td>\n",
       "      <td>4700.0</td>\n",
       "    </tr>\n",
       "    <tr>\n",
       "      <th>11</th>\n",
       "      <td>6482.552637</td>\n",
       "      <td>2347</td>\n",
       "      <td>4700.0</td>\n",
       "    </tr>\n",
       "    <tr>\n",
       "      <th>12</th>\n",
       "      <td>6793.317682</td>\n",
       "      <td>1622</td>\n",
       "      <td>4700.0</td>\n",
       "    </tr>\n",
       "    <tr>\n",
       "      <th>2</th>\n",
       "      <td>6488.451454</td>\n",
       "      <td>2603</td>\n",
       "      <td>4680.0</td>\n",
       "    </tr>\n",
       "    <tr>\n",
       "      <th>7</th>\n",
       "      <td>6652.172957</td>\n",
       "      <td>1670</td>\n",
       "      <td>4662.5</td>\n",
       "    </tr>\n",
       "    <tr>\n",
       "      <th>1</th>\n",
       "      <td>6711.983472</td>\n",
       "      <td>1471</td>\n",
       "      <td>4600.0</td>\n",
       "    </tr>\n",
       "    <tr>\n",
       "      <th>8</th>\n",
       "      <td>6395.266805</td>\n",
       "      <td>1729</td>\n",
       "      <td>4600.0</td>\n",
       "    </tr>\n",
       "    <tr>\n",
       "      <th>10</th>\n",
       "      <td>6273.889170</td>\n",
       "      <td>2109</td>\n",
       "      <td>4599.0</td>\n",
       "    </tr>\n",
       "    <tr>\n",
       "      <th>5</th>\n",
       "      <td>6663.446794</td>\n",
       "      <td>1255</td>\n",
       "      <td>4570.0</td>\n",
       "    </tr>\n",
       "    <tr>\n",
       "      <th>6</th>\n",
       "      <td>6347.007258</td>\n",
       "      <td>1731</td>\n",
       "      <td>4450.0</td>\n",
       "    </tr>\n",
       "  </tbody>\n",
       "</table>\n",
       "</div>"
      ],
      "text/plain": [
       "                         mean  count  median\n",
       "month_exposition                            \n",
       "4                 6776.899719   2352  4800.0\n",
       "3                 6368.143162   2554  4700.0\n",
       "9                 6504.092393   1958  4700.0\n",
       "11                6482.552637   2347  4700.0\n",
       "12                6793.317682   1622  4700.0\n",
       "2                 6488.451454   2603  4680.0\n",
       "7                 6652.172957   1670  4662.5\n",
       "1                 6711.983472   1471  4600.0\n",
       "8                 6395.266805   1729  4600.0\n",
       "10                6273.889170   2109  4599.0\n",
       "5                 6663.446794   1255  4570.0\n",
       "6                 6347.007258   1731  4450.0"
      ]
     },
     "execution_count": 78,
     "metadata": {},
     "output_type": "execute_result"
    }
   ],
   "source": [
    "# зависимость цены от месяца размещения объявления\n",
    "pivot_table_month_exposition = df.pivot_table(index='month_exposition', values='price_1000',\\\n",
    "                                                  aggfunc=['mean', 'count', 'median'])\n",
    "pivot_table_month_exposition.columns = ['mean', 'count', 'median']\n",
    "\n",
    "# создаем график \n",
    "pivot_table_month_exposition.plot(y='median', figsize=(8, 4))\n",
    "plt.title('Зависимость цены от месяца размещения объявления')\n",
    "plt.xlabel('Месяц размещения')\n",
    "plt.ylabel('Цена в 1000')\n",
    "plt.show()\n",
    "\n",
    "# выводим таблицу\n",
    "pivot_table_month_exposition.sort_values('median', ascending=False)"
   ]
  },
  {
   "cell_type": "markdown",
   "metadata": {},
   "source": [
    "Самые высокие цены в апреле, марте и в конце годе. Самые низкие мае, июне. "
   ]
  },
  {
   "cell_type": "code",
   "execution_count": 79,
   "metadata": {},
   "outputs": [
    {
     "data": {
      "image/png": "[encoded data removed]",
      "text/plain": [
       "<Figure size 576x288 with 1 Axes>"
      ]
     },
     "metadata": {
      "needs_background": "light"
     },
     "output_type": "display_data"
    },
    {
     "data": {
      "text/html": [
       "<div>\n",
       "<style scoped>\n",
       "    .dataframe tbody tr th:only-of-type {\n",
       "        vertical-align: middle;\n",
       "    }\n",
       "\n",
       "    .dataframe tbody tr th {\n",
       "        vertical-align: top;\n",
       "    }\n",
       "\n",
       "    .dataframe thead th {\n",
       "        text-align: right;\n",
       "    }\n",
       "</style>\n",
       "<table border=\"1\" class=\"dataframe\">\n",
       "  <thead>\n",
       "    <tr style=\"text-align: right;\">\n",
       "      <th></th>\n",
       "      <th>mean</th>\n",
       "      <th>count</th>\n",
       "      <th>median</th>\n",
       "    </tr>\n",
       "    <tr>\n",
       "      <th>year_exposition</th>\n",
       "      <th></th>\n",
       "      <th></th>\n",
       "      <th></th>\n",
       "    </tr>\n",
       "  </thead>\n",
       "  <tbody>\n",
       "    <tr>\n",
       "      <th>2014</th>\n",
       "      <td>12046.600176</td>\n",
       "      <td>136</td>\n",
       "      <td>7640.0</td>\n",
       "    </tr>\n",
       "    <tr>\n",
       "      <th>2015</th>\n",
       "      <td>8567.334146</td>\n",
       "      <td>1165</td>\n",
       "      <td>5350.0</td>\n",
       "    </tr>\n",
       "    <tr>\n",
       "      <th>2019</th>\n",
       "      <td>6785.728295</td>\n",
       "      <td>2845</td>\n",
       "      <td>5100.0</td>\n",
       "    </tr>\n",
       "    <tr>\n",
       "      <th>2018</th>\n",
       "      <td>6011.413522</td>\n",
       "      <td>8398</td>\n",
       "      <td>4600.0</td>\n",
       "    </tr>\n",
       "    <tr>\n",
       "      <th>2016</th>\n",
       "      <td>6859.186130</td>\n",
       "      <td>2735</td>\n",
       "      <td>4550.0</td>\n",
       "    </tr>\n",
       "    <tr>\n",
       "      <th>2017</th>\n",
       "      <td>6465.607830</td>\n",
       "      <td>8122</td>\n",
       "      <td>4500.0</td>\n",
       "    </tr>\n",
       "  </tbody>\n",
       "</table>\n",
       "</div>"
      ],
      "text/plain": [
       "                         mean  count  median\n",
       "year_exposition                             \n",
       "2014             12046.600176    136  7640.0\n",
       "2015              8567.334146   1165  5350.0\n",
       "2019              6785.728295   2845  5100.0\n",
       "2018              6011.413522   8398  4600.0\n",
       "2016              6859.186130   2735  4550.0\n",
       "2017              6465.607830   8122  4500.0"
      ]
     },
     "execution_count": 79,
     "metadata": {},
     "output_type": "execute_result"
    }
   ],
   "source": [
    "# зависимость цены от года размещения объявления\n",
    "pivot_table_year_exposition = df.pivot_table(index='year_exposition', values='price_1000',\\\n",
    "                                                  aggfunc=['mean', 'count', 'median'])\n",
    "pivot_table_year_exposition.columns = ['mean', 'count', 'median']\n",
    "\n",
    "# создаем график\n",
    "pivot_table_year_exposition.plot(y='median', figsize=(8, 4))\n",
    "plt.title('зависимость цены от года размещения объявления')\n",
    "plt.xlabel('Год размещения')\n",
    "plt.ylabel('Цена в 1000')\n",
    "plt.show()\n",
    "\n",
    "# выводим таюлицу\n",
    "pivot_table_year_exposition.sort_values('median', ascending=False)"
   ]
  },
  {
   "cell_type": "markdown",
   "metadata": {},
   "source": [
    "Видим, что цены с 2014 до 2016 года падали, но потом начали опять расти, но уже медленее. "
   ]
  },
  {
   "cell_type": "markdown",
   "metadata": {},
   "source": [
    "**Вывод**\n",
    "\n",
    "Первая часть анализа на данном этапе показывает логические значения. Стоимость квартиры напрямую зависит от площади, не только общей, но и от площади жилой площади, а также от количества комнат.\n",
    "\n",
    "Ситуация с этажами немного иная. Вероятно, люди, учитывая фактор безопасности, редко покупают квартиры на первом этаже и на последнем (холодно, возможны затопления от сильных дождей и снега и т.д.), поэтому цены на такие квартиры ниже, чем на другие.\n",
    "\n",
    "Цены также варьируются в зависимости от дня недели и месяца, когда были опубликованы объявления. В начале недели цены выше, в конце недели - ниже. Весной цены выше, к концу года и с наступлением зимы - ниже.\n",
    "\n",
    "В случае с годами, можно предположить, что цены на недвижимость начали падать с 2014 года из-за геополитической ситуации и оттока капитала из РФ."
   ]
  },
  {
   "cell_type": "markdown",
   "metadata": {},
   "source": [
    "### Средняя цена одного квадратного метра в 10 населённых пунктах с наибольшим числом объявлений"
   ]
  },
  {
   "cell_type": "code",
   "execution_count": 80,
   "metadata": {},
   "outputs": [
    {
     "data": {
      "text/plain": [
       "Санкт-Петербург      15697\n",
       "поселок Мурино         555\n",
       "поселок Шушары         440\n",
       "Всеволожск             397\n",
       "Пушкин                 369\n",
       "Колпино                338\n",
       "поселок Парголово      327\n",
       "Гатчина                306\n",
       "деревня Кудрово        299\n",
       "Выборг                 233\n",
       "Name: locality_name, dtype: int64"
      ]
     },
     "execution_count": 80,
     "metadata": {},
     "output_type": "execute_result"
    }
   ],
   "source": [
    "df['locality_name'].value_counts(False).head(10)"
   ]
  },
  {
   "cell_type": "markdown",
   "metadata": {},
   "source": [
    "Нашли топ 10 населенных пунктов по объявлениям. Теперь найдем среднюю цену квадратного метра в этих наседенных пунктах."
   ]
  },
  {
   "cell_type": "code",
   "execution_count": 81,
   "metadata": {},
   "outputs": [
    {
     "data": {
      "text/html": [
       "<div>\n",
       "<style scoped>\n",
       "    .dataframe tbody tr th:only-of-type {\n",
       "        vertical-align: middle;\n",
       "    }\n",
       "\n",
       "    .dataframe tbody tr th {\n",
       "        vertical-align: top;\n",
       "    }\n",
       "\n",
       "    .dataframe thead tr th {\n",
       "        text-align: left;\n",
       "    }\n",
       "\n",
       "    .dataframe thead tr:last-of-type th {\n",
       "        text-align: right;\n",
       "    }\n",
       "</style>\n",
       "<table border=\"1\" class=\"dataframe\">\n",
       "  <thead>\n",
       "    <tr>\n",
       "      <th></th>\n",
       "      <th colspan=\"2\" halign=\"left\">price_sqm</th>\n",
       "    </tr>\n",
       "    <tr>\n",
       "      <th></th>\n",
       "      <th>count</th>\n",
       "      <th>mean</th>\n",
       "    </tr>\n",
       "    <tr>\n",
       "      <th>locality_name</th>\n",
       "      <th></th>\n",
       "      <th></th>\n",
       "    </tr>\n",
       "  </thead>\n",
       "  <tbody>\n",
       "    <tr>\n",
       "      <th>Санкт-Петербург</th>\n",
       "      <td>15697</td>\n",
       "      <td>114.708677</td>\n",
       "    </tr>\n",
       "    <tr>\n",
       "      <th>поселок Мурино</th>\n",
       "      <td>555</td>\n",
       "      <td>85.653694</td>\n",
       "    </tr>\n",
       "    <tr>\n",
       "      <th>поселок Шушары</th>\n",
       "      <td>440</td>\n",
       "      <td>78.677614</td>\n",
       "    </tr>\n",
       "    <tr>\n",
       "      <th>Всеволожск</th>\n",
       "      <td>397</td>\n",
       "      <td>68.719270</td>\n",
       "    </tr>\n",
       "    <tr>\n",
       "      <th>Пушкин</th>\n",
       "      <td>369</td>\n",
       "      <td>103.125854</td>\n",
       "    </tr>\n",
       "    <tr>\n",
       "      <th>Колпино</th>\n",
       "      <td>338</td>\n",
       "      <td>75.424467</td>\n",
       "    </tr>\n",
       "    <tr>\n",
       "      <th>поселок Парголово</th>\n",
       "      <td>327</td>\n",
       "      <td>90.176177</td>\n",
       "    </tr>\n",
       "    <tr>\n",
       "      <th>Гатчина</th>\n",
       "      <td>306</td>\n",
       "      <td>68.935359</td>\n",
       "    </tr>\n",
       "    <tr>\n",
       "      <th>деревня Кудрово</th>\n",
       "      <td>299</td>\n",
       "      <td>92.473712</td>\n",
       "    </tr>\n",
       "    <tr>\n",
       "      <th>Выборг</th>\n",
       "      <td>233</td>\n",
       "      <td>58.685665</td>\n",
       "    </tr>\n",
       "  </tbody>\n",
       "</table>\n",
       "</div>"
      ],
      "text/plain": [
       "                  price_sqm            \n",
       "                      count        mean\n",
       "locality_name                          \n",
       "Санкт-Петербург       15697  114.708677\n",
       "поселок Мурино          555   85.653694\n",
       "поселок Шушары          440   78.677614\n",
       "Всеволожск              397   68.719270\n",
       "Пушкин                  369  103.125854\n",
       "Колпино                 338   75.424467\n",
       "поселок Парголово       327   90.176177\n",
       "Гатчина                 306   68.935359\n",
       "деревня Кудрово         299   92.473712\n",
       "Выборг                  233   58.685665"
      ]
     },
     "execution_count": 81,
     "metadata": {},
     "output_type": "execute_result"
    }
   ],
   "source": [
    "# найдем среднюю цену кв.метра в топ-10 населеных пунктах \n",
    "area = (df.pivot_table(index='locality_name', \n",
    "                        values=['price_sqm', 'price_1000'], \n",
    "                        aggfunc={'price_sqm':['count', 'mean']})\n",
    "        .sort_values(by=[('price_sqm','count')], ascending=False).head(10)\n",
    ")\n",
    "area"
   ]
  },
  {
   "cell_type": "markdown",
   "metadata": {},
   "source": [
    "**Вывод**\n",
    "\n",
    "Самое большое количество объявлений приходится на Питер, более 50% от общего числа. И самая высокая цена за квадратный метр также в Питере, в среднем 115 000 рублей.\n",
    "\n",
    "Затем следует Мурино с ценой в среднем 85 000 рублей за квадратный метр, затем Шушары с ценой 79 000 рублей и т.д."
   ]
  },
  {
   "cell_type": "markdown",
   "metadata": {},
   "source": [
    "### Вычислим среднюю цену каждого километра до центра Санкт-Петербургa"
   ]
  },
  {
   "cell_type": "code",
   "execution_count": 82,
   "metadata": {},
   "outputs": [
    {
     "data": {
      "text/plain": [
       "count    18115.000000\n",
       "mean        14.201214\n",
       "std          8.615175\n",
       "min          0.000000\n",
       "25%          9.000000\n",
       "50%         13.000000\n",
       "75%         16.000000\n",
       "max         66.000000\n",
       "Name: km_to_city_center, dtype: float64"
      ]
     },
     "execution_count": 82,
     "metadata": {},
     "output_type": "execute_result"
    }
   ],
   "source": [
    "df['km_to_city_center'].describe()"
   ]
  },
  {
   "cell_type": "code",
   "execution_count": 83,
   "metadata": {},
   "outputs": [
    {
     "data": {
      "image/png": "[encoded data removed]",
      "text/plain": [
       "<Figure size 576x288 with 1 Axes>"
      ]
     },
     "metadata": {
      "needs_background": "light"
     },
     "output_type": "display_data"
    },
    {
     "data": {
      "text/html": [
       "<div>\n",
       "<style scoped>\n",
       "    .dataframe tbody tr th:only-of-type {\n",
       "        vertical-align: middle;\n",
       "    }\n",
       "\n",
       "    .dataframe tbody tr th {\n",
       "        vertical-align: top;\n",
       "    }\n",
       "\n",
       "    .dataframe thead th {\n",
       "        text-align: right;\n",
       "    }\n",
       "</style>\n",
       "<table border=\"1\" class=\"dataframe\">\n",
       "  <thead>\n",
       "    <tr style=\"text-align: right;\">\n",
       "      <th></th>\n",
       "      <th>price_sqm</th>\n",
       "    </tr>\n",
       "    <tr>\n",
       "      <th>km_to_city_center</th>\n",
       "      <th></th>\n",
       "    </tr>\n",
       "  </thead>\n",
       "  <tbody>\n",
       "    <tr>\n",
       "      <th>1.0</th>\n",
       "      <td>177.042042</td>\n",
       "    </tr>\n",
       "    <tr>\n",
       "      <th>2.0</th>\n",
       "      <td>157.981715</td>\n",
       "    </tr>\n",
       "    <tr>\n",
       "      <th>3.0</th>\n",
       "      <td>121.179109</td>\n",
       "    </tr>\n",
       "    <tr>\n",
       "      <th>4.0</th>\n",
       "      <td>130.801985</td>\n",
       "    </tr>\n",
       "    <tr>\n",
       "      <th>5.0</th>\n",
       "      <td>140.740601</td>\n",
       "    </tr>\n",
       "  </tbody>\n",
       "</table>\n",
       "</div>"
      ],
      "text/plain": [
       "                    price_sqm\n",
       "km_to_city_center            \n",
       "1.0                177.042042\n",
       "2.0                157.981715\n",
       "3.0                121.179109\n",
       "4.0                130.801985\n",
       "5.0                140.740601"
      ]
     },
     "execution_count": 83,
     "metadata": {},
     "output_type": "execute_result"
    }
   ],
   "source": [
    "# сделаем срез \n",
    "pivot_table_km = df.query('locality_name == \"Санкт-Петербург\" and km_to_city_center')\\\n",
    "                    .pivot_table(index='km_to_city_center', values='price_sqm', aggfunc='mean')\n",
    "\n",
    "# создаем график \n",
    "pivot_table_km.plot(figsize=(8, 4))\n",
    "plt.title('Средняя цена кадого км. до центра СПб')\n",
    "plt.xlabel('Расстояние до центар в км.')\n",
    "plt.ylabel('Цена в 100')\n",
    "plt.show()\n",
    "\n",
    "# выводим таблицу\n",
    "pivot_table_km.head()"
   ]
  },
  {
   "cell_type": "markdown",
   "metadata": {},
   "source": [
    "**Вывод**\n",
    "\n",
    "Можем смело удтверждать что центр это в радиусе 5км. Дальше цена уже падает."
   ]
  },
  {
   "cell_type": "markdown",
   "metadata": {},
   "source": [
    "## Общий вывод"
   ]
  },
  {
   "cell_type": "markdown",
   "metadata": {},
   "source": [
    "Мы обработали предоставленные данные с помощью сервиса Яндекс.Недвижимость, архив объявлений о продаже квартир в Санкт-Петербурге и соседних населенных пунктах. Нашей задачей было выявить, какие параметры оказывают влияние на стоимость квартир.\n",
    "\n",
    "Выяснили следующее:\n",
    "* Установили, что в среднем квартиры продаются за 6 месяцев или 181 день;\n",
    "* Выяснили, что цена объектов напрямую зависит от площади квартир и количества комнат, что логично. Также выяснили, что квартиры на первом и последнем этажах значительно дешевле, чем на других. Цены на квартиры еще зависят от дня недели и месяца, когда были выставлены на продажу. В начале недели цены выше, к концу недели - ниже. Весной можно продать дороже, а к концу года с началом холодного сезона - нельзя значительно заработать от продажи;\n",
    "* Больше половины объявлений приходится на объекты в самом Санкт-Петербурге, что также логично;\n",
    "* Цена на квартиры зависит от их расположения. Чем ближе к центру, тем выше цена. Центр у нас определен радиусом 5 км. Затем цена падает с увеличением расстояния от центра. Однако стоит отметить, что цены на объекты в пригороде практически такие же, как и в радиусе 5 км от центра. Можно предположить, что это связано с чистым и свежим воздухом, наличием парков и прудов поблизости."
   ]
  }
 ],
 "metadata": {
  "ExecuteTimeLog": [
   {
    "duration": 56,
    "start_time": "2023-10-07T07:12:11.547Z"
   },
   {
    "duration": 1020,
    "start_time": "2023-10-07T07:12:17.156Z"
   },
   {
    "duration": 10,
    "start_time": "2023-10-07T07:12:19.212Z"
   },
   {
    "duration": 1048,
    "start_time": "2023-10-07T07:14:20.142Z"
   },
   {
    "duration": 20,
    "start_time": "2023-10-07T07:14:34.468Z"
   },
   {
    "duration": 103,
    "start_time": "2023-10-07T07:14:58.714Z"
   },
   {
    "duration": 62,
    "start_time": "2023-10-07T07:15:00.918Z"
   },
   {
    "duration": 97,
    "start_time": "2023-10-07T07:17:02.035Z"
   },
   {
    "duration": 46,
    "start_time": "2023-10-07T07:17:02.522Z"
   },
   {
    "duration": 130,
    "start_time": "2023-10-07T07:20:00.089Z"
   },
   {
    "duration": 88,
    "start_time": "2023-10-07T07:20:00.499Z"
   },
   {
    "duration": 93,
    "start_time": "2023-10-07T07:20:07.695Z"
   },
   {
    "duration": 94,
    "start_time": "2023-10-07T07:20:09.827Z"
   },
   {
    "duration": 1065,
    "start_time": "2023-10-07T07:20:18.072Z"
   },
   {
    "duration": 88,
    "start_time": "2023-10-07T07:20:19.139Z"
   },
   {
    "duration": 104,
    "start_time": "2023-10-07T07:20:23.419Z"
   },
   {
    "duration": 90,
    "start_time": "2023-10-07T07:20:26.190Z"
   },
   {
    "duration": 19,
    "start_time": "2023-10-07T07:20:34.757Z"
   },
   {
    "duration": 51,
    "start_time": "2023-10-07T07:20:47.512Z"
   },
   {
    "duration": 79,
    "start_time": "2023-10-07T07:20:57.832Z"
   },
   {
    "duration": 61,
    "start_time": "2023-10-07T07:21:19.667Z"
   },
   {
    "duration": 71,
    "start_time": "2023-10-07T07:21:23.257Z"
   },
   {
    "duration": 32,
    "start_time": "2023-10-07T07:21:33.253Z"
   },
   {
    "duration": 68,
    "start_time": "2023-10-07T07:21:45.530Z"
   },
   {
    "duration": 97,
    "start_time": "2023-10-07T07:22:22.979Z"
   },
   {
    "duration": 30,
    "start_time": "2023-10-07T07:22:23.582Z"
   },
   {
    "duration": 97,
    "start_time": "2023-10-07T07:22:36.773Z"
   },
   {
    "duration": 26,
    "start_time": "2023-10-07T07:22:37.796Z"
   },
   {
    "duration": 102,
    "start_time": "2023-10-07T07:25:06.108Z"
   },
   {
    "duration": 27,
    "start_time": "2023-10-07T07:25:06.487Z"
   },
   {
    "duration": 73,
    "start_time": "2023-10-07T07:25:07.232Z"
   },
   {
    "duration": 42,
    "start_time": "2023-10-07T07:25:22.953Z"
   },
   {
    "duration": 30,
    "start_time": "2023-10-07T07:25:40.023Z"
   },
   {
    "duration": 66,
    "start_time": "2023-10-07T07:25:43.808Z"
   },
   {
    "duration": 1703,
    "start_time": "2023-10-07T07:31:03.987Z"
   },
   {
    "duration": 15,
    "start_time": "2023-10-07T07:49:07.961Z"
   },
   {
    "duration": 103,
    "start_time": "2023-10-07T07:54:00.127Z"
   },
   {
    "duration": 7,
    "start_time": "2023-10-07T07:54:08.781Z"
   },
   {
    "duration": 14,
    "start_time": "2023-10-07T07:54:16.746Z"
   },
   {
    "duration": 18,
    "start_time": "2023-10-07T07:54:19.974Z"
   },
   {
    "duration": 39,
    "start_time": "2023-10-07T07:55:05.617Z"
   },
   {
    "duration": 11,
    "start_time": "2023-10-07T07:55:30.471Z"
   },
   {
    "duration": 8,
    "start_time": "2023-10-07T08:00:31.764Z"
   },
   {
    "duration": 3,
    "start_time": "2023-10-07T08:00:40.491Z"
   },
   {
    "duration": 18,
    "start_time": "2023-10-07T08:01:09.464Z"
   },
   {
    "duration": 14,
    "start_time": "2023-10-07T08:12:31.013Z"
   },
   {
    "duration": 130,
    "start_time": "2023-10-07T08:12:42.848Z"
   },
   {
    "duration": 94,
    "start_time": "2023-10-07T08:13:33.560Z"
   },
   {
    "duration": 56,
    "start_time": "2023-10-07T08:13:51.550Z"
   },
   {
    "duration": 44,
    "start_time": "2023-10-07T08:15:46.180Z"
   },
   {
    "duration": 49,
    "start_time": "2023-10-07T08:15:48.503Z"
   },
   {
    "duration": 48,
    "start_time": "2023-10-07T08:15:58.778Z"
   },
   {
    "duration": 3,
    "start_time": "2023-10-07T08:16:18.378Z"
   },
   {
    "duration": 4,
    "start_time": "2023-10-07T08:16:20.774Z"
   },
   {
    "duration": 50,
    "start_time": "2023-10-07T08:16:52.981Z"
   },
   {
    "duration": 8,
    "start_time": "2023-10-07T08:17:24.049Z"
   },
   {
    "duration": 12,
    "start_time": "2023-10-07T08:17:30.344Z"
   },
   {
    "duration": 3,
    "start_time": "2023-10-07T08:17:38.729Z"
   },
   {
    "duration": 162,
    "start_time": "2023-10-07T08:20:00.230Z"
   },
   {
    "duration": 146,
    "start_time": "2023-10-07T08:20:58.615Z"
   },
   {
    "duration": 149,
    "start_time": "2023-10-07T08:21:25.969Z"
   },
   {
    "duration": 149,
    "start_time": "2023-10-07T08:21:55.032Z"
   },
   {
    "duration": 150,
    "start_time": "2023-10-07T08:22:55.784Z"
   },
   {
    "duration": 148,
    "start_time": "2023-10-07T08:23:09.377Z"
   },
   {
    "duration": 22,
    "start_time": "2023-10-07T08:28:46.573Z"
   },
   {
    "duration": 0,
    "start_time": "2023-10-07T08:29:31.673Z"
   },
   {
    "duration": 1163,
    "start_time": "2023-10-07T08:29:41.365Z"
   },
   {
    "duration": 45,
    "start_time": "2023-10-07T08:29:42.531Z"
   },
   {
    "duration": 99,
    "start_time": "2023-10-07T08:29:42.577Z"
   },
   {
    "duration": 1656,
    "start_time": "2023-10-07T08:29:42.681Z"
   },
   {
    "duration": 31,
    "start_time": "2023-10-07T08:29:44.338Z"
   },
   {
    "duration": 9,
    "start_time": "2023-10-07T08:29:44.370Z"
   },
   {
    "duration": 4,
    "start_time": "2023-10-07T08:29:44.380Z"
   },
   {
    "duration": 212,
    "start_time": "2023-10-07T08:29:44.385Z"
   },
   {
    "duration": 96,
    "start_time": "2023-10-07T08:29:44.599Z"
   },
   {
    "duration": 39,
    "start_time": "2023-10-07T08:29:44.833Z"
   },
   {
    "duration": 57,
    "start_time": "2023-10-07T08:29:45.381Z"
   },
   {
    "duration": 1573,
    "start_time": "2023-10-07T08:29:45.965Z"
   },
   {
    "duration": 20,
    "start_time": "2023-10-07T08:29:51.396Z"
   },
   {
    "duration": 27,
    "start_time": "2023-10-07T08:32:52.565Z"
   },
   {
    "duration": 113,
    "start_time": "2023-10-07T08:33:01.169Z"
   },
   {
    "duration": 145,
    "start_time": "2023-10-07T08:37:41.287Z"
   },
   {
    "duration": 151,
    "start_time": "2023-10-07T08:44:19.664Z"
   },
   {
    "duration": 9,
    "start_time": "2023-10-07T08:45:58.179Z"
   },
   {
    "duration": 7,
    "start_time": "2023-10-07T08:51:06.522Z"
   },
   {
    "duration": 93,
    "start_time": "2023-10-07T08:51:15.718Z"
   },
   {
    "duration": 13,
    "start_time": "2023-10-07T08:51:24.559Z"
   },
   {
    "duration": 10,
    "start_time": "2023-10-07T08:54:39.281Z"
   },
   {
    "duration": 6,
    "start_time": "2023-10-07T08:54:57.981Z"
   },
   {
    "duration": 9,
    "start_time": "2023-10-07T08:55:09.896Z"
   },
   {
    "duration": 21,
    "start_time": "2023-10-07T08:55:21.377Z"
   },
   {
    "duration": 41,
    "start_time": "2023-10-07T08:55:35.186Z"
   },
   {
    "duration": 9,
    "start_time": "2023-10-07T08:57:15.124Z"
   },
   {
    "duration": 9,
    "start_time": "2023-10-07T08:57:24.819Z"
   },
   {
    "duration": 30,
    "start_time": "2023-10-07T08:57:32.547Z"
   },
   {
    "duration": 8,
    "start_time": "2023-10-07T08:57:35.080Z"
   },
   {
    "duration": 10,
    "start_time": "2023-10-07T08:57:35.916Z"
   },
   {
    "duration": 1064,
    "start_time": "2023-10-07T08:57:42.518Z"
   },
   {
    "duration": 36,
    "start_time": "2023-10-07T08:57:43.583Z"
   },
   {
    "duration": 79,
    "start_time": "2023-10-07T08:57:43.620Z"
   },
   {
    "duration": 1601,
    "start_time": "2023-10-07T08:57:43.700Z"
   },
   {
    "duration": 22,
    "start_time": "2023-10-07T08:57:45.302Z"
   },
   {
    "duration": 39,
    "start_time": "2023-10-07T08:57:45.325Z"
   },
   {
    "duration": 229,
    "start_time": "2023-10-07T08:57:45.365Z"
   },
   {
    "duration": 8,
    "start_time": "2023-10-07T08:57:45.595Z"
   },
   {
    "duration": 6,
    "start_time": "2023-10-07T08:57:45.604Z"
   },
   {
    "duration": 13,
    "start_time": "2023-10-07T08:58:10.735Z"
   },
   {
    "duration": 97,
    "start_time": "2023-10-07T08:59:39.701Z"
   },
   {
    "duration": 27,
    "start_time": "2023-10-07T09:01:08.461Z"
   },
   {
    "duration": 2,
    "start_time": "2023-10-07T09:01:22.924Z"
   },
   {
    "duration": 31,
    "start_time": "2023-10-07T09:01:29.237Z"
   },
   {
    "duration": 24,
    "start_time": "2023-10-07T09:01:41.080Z"
   },
   {
    "duration": 59,
    "start_time": "2023-10-07T09:01:54.816Z"
   },
   {
    "duration": 3,
    "start_time": "2023-10-07T09:06:00.820Z"
   },
   {
    "duration": 19,
    "start_time": "2023-10-07T09:06:08.486Z"
   },
   {
    "duration": 1900,
    "start_time": "2023-10-07T09:06:28.883Z"
   },
   {
    "duration": 1451,
    "start_time": "2023-10-07T09:06:36.138Z"
   },
   {
    "duration": 1166,
    "start_time": "2023-10-07T09:07:28.835Z"
   },
   {
    "duration": 32,
    "start_time": "2023-10-07T09:07:30.003Z"
   },
   {
    "duration": 93,
    "start_time": "2023-10-07T09:07:30.036Z"
   },
   {
    "duration": 1638,
    "start_time": "2023-10-07T09:07:30.131Z"
   },
   {
    "duration": 26,
    "start_time": "2023-10-07T09:07:31.771Z"
   },
   {
    "duration": 71,
    "start_time": "2023-10-07T09:07:31.799Z"
   },
   {
    "duration": 28,
    "start_time": "2023-10-07T09:07:31.871Z"
   },
   {
    "duration": 223,
    "start_time": "2023-10-07T09:07:31.901Z"
   },
   {
    "duration": 35,
    "start_time": "2023-10-07T09:07:32.125Z"
   },
   {
    "duration": 11,
    "start_time": "2023-10-07T09:07:32.170Z"
   },
   {
    "duration": 45,
    "start_time": "2023-10-07T09:07:32.182Z"
   },
   {
    "duration": 48,
    "start_time": "2023-10-07T09:07:32.228Z"
   },
   {
    "duration": 46,
    "start_time": "2023-10-07T09:07:32.278Z"
   },
   {
    "duration": 108,
    "start_time": "2023-10-07T09:07:32.326Z"
   },
   {
    "duration": 49,
    "start_time": "2023-10-07T09:07:32.436Z"
   },
   {
    "duration": 80,
    "start_time": "2023-10-07T09:07:32.534Z"
   },
   {
    "duration": 1547,
    "start_time": "2023-10-07T09:07:33.091Z"
   },
   {
    "duration": 29,
    "start_time": "2023-10-07T09:07:35.253Z"
   },
   {
    "duration": 22,
    "start_time": "2023-10-07T09:07:37.773Z"
   },
   {
    "duration": 33,
    "start_time": "2023-10-07T09:07:38.949Z"
   },
   {
    "duration": 148,
    "start_time": "2023-10-07T09:07:40.082Z"
   },
   {
    "duration": 8,
    "start_time": "2023-10-07T09:07:41.333Z"
   },
   {
    "duration": 8,
    "start_time": "2023-10-07T09:07:42.527Z"
   },
   {
    "duration": 4,
    "start_time": "2023-10-07T09:07:43.130Z"
   },
   {
    "duration": 3,
    "start_time": "2023-10-07T09:07:44.308Z"
   },
   {
    "duration": 35,
    "start_time": "2023-10-07T09:07:54.866Z"
   },
   {
    "duration": 9,
    "start_time": "2023-10-07T09:11:09.935Z"
   },
   {
    "duration": 6,
    "start_time": "2023-10-07T09:13:59.980Z"
   },
   {
    "duration": 1445,
    "start_time": "2023-10-07T09:16:28.987Z"
   },
   {
    "duration": 1090,
    "start_time": "2023-10-07T09:16:37.910Z"
   },
   {
    "duration": 31,
    "start_time": "2023-10-07T09:16:39.002Z"
   },
   {
    "duration": 73,
    "start_time": "2023-10-07T09:16:39.052Z"
   },
   {
    "duration": 1599,
    "start_time": "2023-10-07T09:16:39.126Z"
   },
   {
    "duration": 42,
    "start_time": "2023-10-07T09:16:40.726Z"
   },
   {
    "duration": 11,
    "start_time": "2023-10-07T09:16:40.769Z"
   },
   {
    "duration": 24,
    "start_time": "2023-10-07T09:16:40.781Z"
   },
   {
    "duration": 23,
    "start_time": "2023-10-07T09:16:40.806Z"
   },
   {
    "duration": 218,
    "start_time": "2023-10-07T09:16:40.830Z"
   },
   {
    "duration": 16,
    "start_time": "2023-10-07T09:16:41.049Z"
   },
   {
    "duration": 8,
    "start_time": "2023-10-07T09:16:41.069Z"
   },
   {
    "duration": 5,
    "start_time": "2023-10-07T09:16:41.080Z"
   },
   {
    "duration": 3,
    "start_time": "2023-10-07T09:16:41.086Z"
   },
   {
    "duration": 29,
    "start_time": "2023-10-07T09:16:41.091Z"
   },
   {
    "duration": 4,
    "start_time": "2023-10-07T09:16:41.121Z"
   },
   {
    "duration": 8,
    "start_time": "2023-10-07T09:18:22.428Z"
   },
   {
    "duration": 4,
    "start_time": "2023-10-07T09:20:58.180Z"
   },
   {
    "duration": 104,
    "start_time": "2023-10-07T09:22:03.694Z"
   },
   {
    "duration": 1067,
    "start_time": "2023-10-07T09:22:20.765Z"
   },
   {
    "duration": 48,
    "start_time": "2023-10-07T09:22:21.833Z"
   },
   {
    "duration": 95,
    "start_time": "2023-10-07T09:22:21.882Z"
   },
   {
    "duration": 1651,
    "start_time": "2023-10-07T09:22:21.978Z"
   },
   {
    "duration": 41,
    "start_time": "2023-10-07T09:22:23.631Z"
   },
   {
    "duration": 115,
    "start_time": "2023-10-07T09:22:23.673Z"
   },
   {
    "duration": 175,
    "start_time": "2023-10-07T09:22:23.790Z"
   },
   {
    "duration": 436,
    "start_time": "2023-10-07T09:22:23.966Z"
   },
   {
    "duration": 132,
    "start_time": "2023-10-07T09:22:24.403Z"
   },
   {
    "duration": 133,
    "start_time": "2023-10-07T09:22:24.537Z"
   },
   {
    "duration": 0,
    "start_time": "2023-10-07T09:22:24.673Z"
   },
   {
    "duration": 0,
    "start_time": "2023-10-07T09:22:24.673Z"
   },
   {
    "duration": 0,
    "start_time": "2023-10-07T09:22:24.674Z"
   },
   {
    "duration": 0,
    "start_time": "2023-10-07T09:22:24.675Z"
   },
   {
    "duration": 0,
    "start_time": "2023-10-07T09:22:24.675Z"
   },
   {
    "duration": 0,
    "start_time": "2023-10-07T09:22:24.678Z"
   },
   {
    "duration": 155,
    "start_time": "2023-10-07T09:22:54.926Z"
   },
   {
    "duration": 67,
    "start_time": "2023-10-07T09:23:58.811Z"
   },
   {
    "duration": 13,
    "start_time": "2023-10-07T09:24:12.439Z"
   },
   {
    "duration": 159,
    "start_time": "2023-10-07T09:24:15.127Z"
   },
   {
    "duration": 1113,
    "start_time": "2023-10-07T09:28:42.268Z"
   },
   {
    "duration": 30,
    "start_time": "2023-10-07T09:28:43.383Z"
   },
   {
    "duration": 76,
    "start_time": "2023-10-07T09:28:43.414Z"
   },
   {
    "duration": 1594,
    "start_time": "2023-10-07T09:28:43.491Z"
   },
   {
    "duration": 20,
    "start_time": "2023-10-07T09:28:45.086Z"
   },
   {
    "duration": 27,
    "start_time": "2023-10-07T09:28:45.107Z"
   },
   {
    "duration": 50,
    "start_time": "2023-10-07T09:28:45.135Z"
   },
   {
    "duration": 29,
    "start_time": "2023-10-07T09:28:45.186Z"
   },
   {
    "duration": 13,
    "start_time": "2023-10-07T09:28:45.216Z"
   },
   {
    "duration": 145,
    "start_time": "2023-10-07T09:28:45.231Z"
   },
   {
    "duration": 59,
    "start_time": "2023-10-07T09:28:45.378Z"
   },
   {
    "duration": 164,
    "start_time": "2023-10-07T09:28:45.438Z"
   },
   {
    "duration": 174,
    "start_time": "2023-10-07T09:28:45.603Z"
   },
   {
    "duration": 9,
    "start_time": "2023-10-07T09:28:45.778Z"
   },
   {
    "duration": 20,
    "start_time": "2023-10-07T09:28:45.788Z"
   },
   {
    "duration": 6,
    "start_time": "2023-10-07T09:28:45.809Z"
   },
   {
    "duration": 3,
    "start_time": "2023-10-07T09:28:45.816Z"
   },
   {
    "duration": 61,
    "start_time": "2023-10-07T09:28:45.820Z"
   },
   {
    "duration": 7,
    "start_time": "2023-10-07T09:29:07.581Z"
   },
   {
    "duration": 159,
    "start_time": "2023-10-07T09:29:30.458Z"
   },
   {
    "duration": 1142,
    "start_time": "2023-10-07T09:31:43.389Z"
   },
   {
    "duration": 53,
    "start_time": "2023-10-07T09:31:44.532Z"
   },
   {
    "duration": 66,
    "start_time": "2023-10-07T09:31:44.586Z"
   },
   {
    "duration": 1620,
    "start_time": "2023-10-07T09:31:44.653Z"
   },
   {
    "duration": 24,
    "start_time": "2023-10-07T09:31:46.276Z"
   },
   {
    "duration": 32,
    "start_time": "2023-10-07T09:31:46.301Z"
   },
   {
    "duration": 63,
    "start_time": "2023-10-07T09:31:46.335Z"
   },
   {
    "duration": 7,
    "start_time": "2023-10-07T09:31:46.399Z"
   },
   {
    "duration": 7,
    "start_time": "2023-10-07T09:31:46.407Z"
   },
   {
    "duration": 79,
    "start_time": "2023-10-07T09:31:46.415Z"
   },
   {
    "duration": 4,
    "start_time": "2023-10-07T09:31:46.495Z"
   },
   {
    "duration": 180,
    "start_time": "2023-10-07T09:31:46.500Z"
   },
   {
    "duration": 8,
    "start_time": "2023-10-07T09:31:46.682Z"
   },
   {
    "duration": 143,
    "start_time": "2023-10-07T09:31:46.692Z"
   },
   {
    "duration": 20,
    "start_time": "2023-10-07T09:31:46.837Z"
   },
   {
    "duration": 10,
    "start_time": "2023-10-07T09:31:46.860Z"
   },
   {
    "duration": 5,
    "start_time": "2023-10-07T09:31:46.872Z"
   },
   {
    "duration": 5,
    "start_time": "2023-10-07T09:31:46.878Z"
   },
   {
    "duration": 32,
    "start_time": "2023-10-07T09:31:46.884Z"
   },
   {
    "duration": 9,
    "start_time": "2023-10-07T09:34:16.561Z"
   },
   {
    "duration": 9,
    "start_time": "2023-10-07T09:36:53.116Z"
   },
   {
    "duration": 5,
    "start_time": "2023-10-07T09:37:03.122Z"
   },
   {
    "duration": 7,
    "start_time": "2023-10-07T09:39:20.301Z"
   },
   {
    "duration": 10,
    "start_time": "2023-10-07T09:39:23.968Z"
   },
   {
    "duration": 150,
    "start_time": "2023-10-07T09:39:40.361Z"
   },
   {
    "duration": 80,
    "start_time": "2023-10-07T09:41:05.488Z"
   },
   {
    "duration": 133,
    "start_time": "2023-10-07T09:41:49.182Z"
   },
   {
    "duration": 130,
    "start_time": "2023-10-07T09:41:53.896Z"
   },
   {
    "duration": 7,
    "start_time": "2023-10-07T09:42:03.189Z"
   },
   {
    "duration": 1027,
    "start_time": "2023-10-07T09:42:15.367Z"
   },
   {
    "duration": 37,
    "start_time": "2023-10-07T09:42:16.396Z"
   },
   {
    "duration": 86,
    "start_time": "2023-10-07T09:42:16.434Z"
   },
   {
    "duration": 1647,
    "start_time": "2023-10-07T09:42:16.521Z"
   },
   {
    "duration": 26,
    "start_time": "2023-10-07T09:42:18.173Z"
   },
   {
    "duration": 6,
    "start_time": "2023-10-07T09:42:18.200Z"
   },
   {
    "duration": 25,
    "start_time": "2023-10-07T09:42:18.207Z"
   },
   {
    "duration": 12,
    "start_time": "2023-10-07T09:42:18.233Z"
   },
   {
    "duration": 14,
    "start_time": "2023-10-07T09:42:18.252Z"
   },
   {
    "duration": 79,
    "start_time": "2023-10-07T09:42:18.268Z"
   },
   {
    "duration": 3,
    "start_time": "2023-10-07T09:42:18.349Z"
   },
   {
    "duration": 152,
    "start_time": "2023-10-07T09:42:18.353Z"
   },
   {
    "duration": 8,
    "start_time": "2023-10-07T09:42:18.506Z"
   },
   {
    "duration": 4,
    "start_time": "2023-10-07T09:42:18.515Z"
   },
   {
    "duration": 5,
    "start_time": "2023-10-07T09:42:18.521Z"
   },
   {
    "duration": 28,
    "start_time": "2023-10-07T09:42:18.550Z"
   },
   {
    "duration": 138,
    "start_time": "2023-10-07T09:42:18.580Z"
   },
   {
    "duration": 9,
    "start_time": "2023-10-07T09:42:18.719Z"
   },
   {
    "duration": 7,
    "start_time": "2023-10-07T09:42:18.729Z"
   },
   {
    "duration": 4,
    "start_time": "2023-10-07T09:42:18.740Z"
   },
   {
    "duration": 4,
    "start_time": "2023-10-07T09:42:18.745Z"
   },
   {
    "duration": 39,
    "start_time": "2023-10-07T09:42:18.750Z"
   },
   {
    "duration": 5,
    "start_time": "2023-10-07T09:42:39.874Z"
   },
   {
    "duration": 99,
    "start_time": "2023-10-07T09:44:09.137Z"
   },
   {
    "duration": 7,
    "start_time": "2023-10-07T09:44:13.804Z"
   },
   {
    "duration": 7,
    "start_time": "2023-10-07T09:44:49.928Z"
   },
   {
    "duration": 3,
    "start_time": "2023-10-07T09:44:54.877Z"
   },
   {
    "duration": 8,
    "start_time": "2023-10-07T09:45:00.177Z"
   },
   {
    "duration": 11,
    "start_time": "2023-10-07T09:47:16.666Z"
   },
   {
    "duration": 5,
    "start_time": "2023-10-07T09:49:02.277Z"
   },
   {
    "duration": 4,
    "start_time": "2023-10-07T09:49:17.334Z"
   },
   {
    "duration": 4,
    "start_time": "2023-10-07T09:49:23.237Z"
   },
   {
    "duration": 12,
    "start_time": "2023-10-07T09:49:46.364Z"
   },
   {
    "duration": 6,
    "start_time": "2023-10-07T09:49:50.965Z"
   },
   {
    "duration": 4,
    "start_time": "2023-10-07T09:50:04.723Z"
   },
   {
    "duration": 12,
    "start_time": "2023-10-07T09:50:15.860Z"
   },
   {
    "duration": 3,
    "start_time": "2023-10-07T09:50:23.894Z"
   },
   {
    "duration": 8,
    "start_time": "2023-10-07T09:50:33.778Z"
   },
   {
    "duration": 9,
    "start_time": "2023-10-07T09:50:36.971Z"
   },
   {
    "duration": 7,
    "start_time": "2023-10-07T09:53:00.119Z"
   },
   {
    "duration": 4,
    "start_time": "2023-10-07T09:53:41.095Z"
   },
   {
    "duration": 10,
    "start_time": "2023-10-07T09:54:13.970Z"
   },
   {
    "duration": 13,
    "start_time": "2023-10-07T09:54:28.557Z"
   },
   {
    "duration": 14,
    "start_time": "2023-10-07T09:54:37.156Z"
   },
   {
    "duration": 5,
    "start_time": "2023-10-07T10:02:52.724Z"
   },
   {
    "duration": 4,
    "start_time": "2023-10-07T10:03:43.134Z"
   },
   {
    "duration": 9,
    "start_time": "2023-10-07T10:04:02.988Z"
   },
   {
    "duration": 6,
    "start_time": "2023-10-07T10:04:25.081Z"
   },
   {
    "duration": 11,
    "start_time": "2023-10-07T10:05:31.409Z"
   },
   {
    "duration": 25,
    "start_time": "2023-10-07T10:05:53.308Z"
   },
   {
    "duration": 20,
    "start_time": "2023-10-07T10:06:30.975Z"
   },
   {
    "duration": 13,
    "start_time": "2023-10-07T10:06:47.585Z"
   },
   {
    "duration": 1375,
    "start_time": "2023-10-07T10:07:14.301Z"
   },
   {
    "duration": 9,
    "start_time": "2023-10-07T10:07:21.575Z"
   },
   {
    "duration": 24,
    "start_time": "2023-10-07T10:07:40.952Z"
   },
   {
    "duration": 5,
    "start_time": "2023-10-07T10:07:58.494Z"
   },
   {
    "duration": 13,
    "start_time": "2023-10-07T10:08:18.116Z"
   },
   {
    "duration": 2,
    "start_time": "2023-10-07T10:08:27.713Z"
   },
   {
    "duration": 6,
    "start_time": "2023-10-07T10:17:04.689Z"
   },
   {
    "duration": 9,
    "start_time": "2023-10-07T10:17:08.319Z"
   },
   {
    "duration": 23,
    "start_time": "2023-10-07T10:17:30.574Z"
   },
   {
    "duration": 4,
    "start_time": "2023-10-07T10:17:34.452Z"
   },
   {
    "duration": 1328,
    "start_time": "2023-10-07T10:19:49.944Z"
   },
   {
    "duration": 6,
    "start_time": "2023-10-07T10:19:59.705Z"
   },
   {
    "duration": 49,
    "start_time": "2023-10-07T10:20:49.385Z"
   },
   {
    "duration": 39,
    "start_time": "2023-10-07T10:21:08.483Z"
   },
   {
    "duration": 36,
    "start_time": "2023-10-07T10:21:16.103Z"
   },
   {
    "duration": 48,
    "start_time": "2023-10-07T10:21:47.853Z"
   },
   {
    "duration": 15,
    "start_time": "2023-10-07T10:25:11.272Z"
   },
   {
    "duration": 4,
    "start_time": "2023-10-07T10:25:18.700Z"
   },
   {
    "duration": 5,
    "start_time": "2023-10-07T10:25:28.601Z"
   },
   {
    "duration": 20,
    "start_time": "2023-10-07T10:25:44.629Z"
   },
   {
    "duration": 1228,
    "start_time": "2023-10-07T10:26:52.536Z"
   },
   {
    "duration": 44,
    "start_time": "2023-10-07T10:26:53.774Z"
   },
   {
    "duration": 81,
    "start_time": "2023-10-07T10:26:53.819Z"
   },
   {
    "duration": 1660,
    "start_time": "2023-10-07T10:26:53.903Z"
   },
   {
    "duration": 36,
    "start_time": "2023-10-07T10:26:55.564Z"
   },
   {
    "duration": 9,
    "start_time": "2023-10-07T10:26:55.605Z"
   },
   {
    "duration": 61,
    "start_time": "2023-10-07T10:26:55.615Z"
   },
   {
    "duration": 11,
    "start_time": "2023-10-07T10:26:55.686Z"
   },
   {
    "duration": 34,
    "start_time": "2023-10-07T10:26:55.699Z"
   },
   {
    "duration": 120,
    "start_time": "2023-10-07T10:26:55.735Z"
   },
   {
    "duration": 20,
    "start_time": "2023-10-07T10:26:55.864Z"
   },
   {
    "duration": 147,
    "start_time": "2023-10-07T10:26:55.892Z"
   },
   {
    "duration": 10,
    "start_time": "2023-10-07T10:26:56.047Z"
   },
   {
    "duration": 5,
    "start_time": "2023-10-07T10:26:56.059Z"
   },
   {
    "duration": 26,
    "start_time": "2023-10-07T10:26:56.071Z"
   },
   {
    "duration": 10,
    "start_time": "2023-10-07T10:26:56.099Z"
   },
   {
    "duration": 161,
    "start_time": "2023-10-07T10:26:56.111Z"
   },
   {
    "duration": 7,
    "start_time": "2023-10-07T10:26:56.273Z"
   },
   {
    "duration": 23,
    "start_time": "2023-10-07T10:26:56.282Z"
   },
   {
    "duration": 14,
    "start_time": "2023-10-07T10:26:56.306Z"
   },
   {
    "duration": 3,
    "start_time": "2023-10-07T10:26:56.321Z"
   },
   {
    "duration": 66,
    "start_time": "2023-10-07T10:26:56.326Z"
   },
   {
    "duration": 25,
    "start_time": "2023-10-07T10:26:56.393Z"
   },
   {
    "duration": 4,
    "start_time": "2023-10-07T10:26:56.420Z"
   },
   {
    "duration": 13,
    "start_time": "2023-10-07T10:26:56.425Z"
   },
   {
    "duration": 11,
    "start_time": "2023-10-07T10:26:56.453Z"
   },
   {
    "duration": 16,
    "start_time": "2023-10-07T10:26:56.465Z"
   },
   {
    "duration": 12,
    "start_time": "2023-10-07T10:26:56.484Z"
   },
   {
    "duration": 5,
    "start_time": "2023-10-07T10:26:56.501Z"
   },
   {
    "duration": 5,
    "start_time": "2023-10-07T10:26:56.508Z"
   },
   {
    "duration": 23,
    "start_time": "2023-10-07T10:26:56.515Z"
   },
   {
    "duration": 10,
    "start_time": "2023-10-07T10:28:19.219Z"
   },
   {
    "duration": 2,
    "start_time": "2023-10-07T10:28:19.622Z"
   },
   {
    "duration": 28,
    "start_time": "2023-10-07T10:28:20.069Z"
   },
   {
    "duration": 96,
    "start_time": "2023-10-07T10:31:11.112Z"
   },
   {
    "duration": 6,
    "start_time": "2023-10-07T10:31:15.246Z"
   },
   {
    "duration": 14,
    "start_time": "2023-10-07T10:32:23.920Z"
   },
   {
    "duration": 12,
    "start_time": "2023-10-07T10:32:34.576Z"
   },
   {
    "duration": 8,
    "start_time": "2023-10-07T10:33:07.783Z"
   },
   {
    "duration": 159,
    "start_time": "2023-10-07T11:06:50.724Z"
   },
   {
    "duration": 227,
    "start_time": "2023-10-07T11:07:16.078Z"
   },
   {
    "duration": 18,
    "start_time": "2023-10-07T11:07:31.786Z"
   },
   {
    "duration": 223,
    "start_time": "2023-10-07T11:08:21.137Z"
   },
   {
    "duration": 20,
    "start_time": "2023-10-07T11:08:21.963Z"
   },
   {
    "duration": 231,
    "start_time": "2023-10-07T11:08:51.503Z"
   },
   {
    "duration": 8,
    "start_time": "2023-10-07T11:08:52.717Z"
   },
   {
    "duration": 191,
    "start_time": "2023-10-07T11:09:11.341Z"
   },
   {
    "duration": 7,
    "start_time": "2023-10-07T11:09:13.609Z"
   },
   {
    "duration": 5,
    "start_time": "2023-10-07T11:10:13.102Z"
   },
   {
    "duration": 140,
    "start_time": "2023-10-07T11:13:06.452Z"
   },
   {
    "duration": 4,
    "start_time": "2023-10-07T11:13:22.925Z"
   },
   {
    "duration": 14,
    "start_time": "2023-10-07T11:13:52.772Z"
   },
   {
    "duration": 5,
    "start_time": "2023-10-07T11:14:04.269Z"
   },
   {
    "duration": 8,
    "start_time": "2023-10-07T12:24:51.184Z"
   },
   {
    "duration": 5,
    "start_time": "2023-10-07T12:24:55.086Z"
   },
   {
    "duration": 7,
    "start_time": "2023-10-07T12:26:11.783Z"
   },
   {
    "duration": 17,
    "start_time": "2023-10-07T12:27:21.861Z"
   },
   {
    "duration": 11,
    "start_time": "2023-10-07T12:30:06.689Z"
   },
   {
    "duration": 12,
    "start_time": "2023-10-07T12:30:27.048Z"
   },
   {
    "duration": 10,
    "start_time": "2023-10-07T12:30:49.305Z"
   },
   {
    "duration": 20,
    "start_time": "2023-10-07T12:30:51.544Z"
   },
   {
    "duration": 4,
    "start_time": "2023-10-07T12:35:07.818Z"
   },
   {
    "duration": 7,
    "start_time": "2023-10-07T12:35:08.185Z"
   },
   {
    "duration": 6,
    "start_time": "2023-10-07T12:35:08.513Z"
   },
   {
    "duration": 149,
    "start_time": "2023-10-07T12:35:09.119Z"
   },
   {
    "duration": 121,
    "start_time": "2023-10-07T12:36:11.169Z"
   },
   {
    "duration": 9,
    "start_time": "2023-10-07T12:36:35.761Z"
   },
   {
    "duration": 4,
    "start_time": "2023-10-07T12:36:56.104Z"
   },
   {
    "duration": 17,
    "start_time": "2023-10-07T12:37:19.305Z"
   },
   {
    "duration": 6,
    "start_time": "2023-10-07T12:41:40.748Z"
   },
   {
    "duration": 6,
    "start_time": "2023-10-07T12:44:51.769Z"
   },
   {
    "duration": 8,
    "start_time": "2023-10-07T12:45:09.081Z"
   },
   {
    "duration": 145,
    "start_time": "2023-10-07T12:45:58.281Z"
   },
   {
    "duration": 9,
    "start_time": "2023-10-07T12:50:22.147Z"
   },
   {
    "duration": 15,
    "start_time": "2023-10-07T12:50:24.466Z"
   },
   {
    "duration": 22,
    "start_time": "2023-10-07T12:50:25.098Z"
   },
   {
    "duration": 5,
    "start_time": "2023-10-07T12:50:42.306Z"
   },
   {
    "duration": 44,
    "start_time": "2023-10-07T12:50:52.855Z"
   },
   {
    "duration": 5,
    "start_time": "2023-10-07T12:50:54.699Z"
   },
   {
    "duration": 17,
    "start_time": "2023-10-07T12:51:38.994Z"
   },
   {
    "duration": 28,
    "start_time": "2023-10-07T12:51:39.583Z"
   },
   {
    "duration": 5,
    "start_time": "2023-10-07T12:51:39.981Z"
   },
   {
    "duration": 1123,
    "start_time": "2023-10-07T12:52:04.461Z"
   },
   {
    "duration": 32,
    "start_time": "2023-10-07T12:52:05.586Z"
   },
   {
    "duration": 83,
    "start_time": "2023-10-07T12:52:05.620Z"
   },
   {
    "duration": 1668,
    "start_time": "2023-10-07T12:52:05.705Z"
   },
   {
    "duration": 23,
    "start_time": "2023-10-07T12:52:07.376Z"
   },
   {
    "duration": 18,
    "start_time": "2023-10-07T12:52:07.400Z"
   },
   {
    "duration": 64,
    "start_time": "2023-10-07T12:52:07.419Z"
   },
   {
    "duration": 7,
    "start_time": "2023-10-07T12:52:07.489Z"
   },
   {
    "duration": 91,
    "start_time": "2023-10-07T12:52:07.497Z"
   },
   {
    "duration": 5,
    "start_time": "2023-10-07T12:52:07.589Z"
   },
   {
    "duration": 165,
    "start_time": "2023-10-07T12:52:07.595Z"
   },
   {
    "duration": 27,
    "start_time": "2023-10-07T12:52:07.761Z"
   },
   {
    "duration": 5,
    "start_time": "2023-10-07T12:52:07.789Z"
   },
   {
    "duration": 18,
    "start_time": "2023-10-07T12:52:07.796Z"
   },
   {
    "duration": 13,
    "start_time": "2023-10-07T12:52:07.815Z"
   },
   {
    "duration": 165,
    "start_time": "2023-10-07T12:52:07.829Z"
   },
   {
    "duration": 4,
    "start_time": "2023-10-07T12:52:07.995Z"
   },
   {
    "duration": 7,
    "start_time": "2023-10-07T12:52:08.000Z"
   },
   {
    "duration": 3,
    "start_time": "2023-10-07T12:52:08.009Z"
   },
   {
    "duration": 4,
    "start_time": "2023-10-07T12:52:08.013Z"
   },
   {
    "duration": 47,
    "start_time": "2023-10-07T12:52:08.019Z"
   },
   {
    "duration": 5,
    "start_time": "2023-10-07T12:52:08.068Z"
   },
   {
    "duration": 13,
    "start_time": "2023-10-07T12:52:08.074Z"
   },
   {
    "duration": 6,
    "start_time": "2023-10-07T12:52:08.088Z"
   },
   {
    "duration": 7,
    "start_time": "2023-10-07T12:52:08.096Z"
   },
   {
    "duration": 3,
    "start_time": "2023-10-07T12:52:08.104Z"
   },
   {
    "duration": 8,
    "start_time": "2023-10-07T12:52:08.108Z"
   },
   {
    "duration": 4,
    "start_time": "2023-10-07T12:52:08.118Z"
   },
   {
    "duration": 44,
    "start_time": "2023-10-07T12:52:08.123Z"
   },
   {
    "duration": 9,
    "start_time": "2023-10-07T12:52:08.176Z"
   },
   {
    "duration": 12,
    "start_time": "2023-10-07T12:52:08.187Z"
   },
   {
    "duration": 5,
    "start_time": "2023-10-07T12:52:08.201Z"
   },
   {
    "duration": 119,
    "start_time": "2023-10-07T12:52:08.208Z"
   },
   {
    "duration": 42,
    "start_time": "2023-10-07T12:52:08.328Z"
   },
   {
    "duration": 11,
    "start_time": "2023-10-07T12:53:54.417Z"
   },
   {
    "duration": 23,
    "start_time": "2023-10-07T12:53:54.805Z"
   },
   {
    "duration": 138,
    "start_time": "2023-10-07T12:53:55.132Z"
   },
   {
    "duration": 15,
    "start_time": "2023-10-07T12:54:08.653Z"
   },
   {
    "duration": 11,
    "start_time": "2023-10-07T12:54:10.558Z"
   },
   {
    "duration": 3,
    "start_time": "2023-10-07T12:54:24.404Z"
   },
   {
    "duration": 11,
    "start_time": "2023-10-07T12:54:24.839Z"
   },
   {
    "duration": 3,
    "start_time": "2023-10-07T12:54:25.211Z"
   },
   {
    "duration": 1046,
    "start_time": "2023-10-07T12:54:32.770Z"
   },
   {
    "duration": 35,
    "start_time": "2023-10-07T12:54:33.818Z"
   },
   {
    "duration": 66,
    "start_time": "2023-10-07T12:54:33.854Z"
   },
   {
    "duration": 1592,
    "start_time": "2023-10-07T12:54:33.921Z"
   },
   {
    "duration": 20,
    "start_time": "2023-10-07T12:54:35.515Z"
   },
   {
    "duration": 12,
    "start_time": "2023-10-07T12:54:35.536Z"
   },
   {
    "duration": 35,
    "start_time": "2023-10-07T12:54:35.549Z"
   },
   {
    "duration": 11,
    "start_time": "2023-10-07T12:54:35.586Z"
   },
   {
    "duration": 98,
    "start_time": "2023-10-07T12:54:35.599Z"
   },
   {
    "duration": 3,
    "start_time": "2023-10-07T12:54:35.698Z"
   },
   {
    "duration": 145,
    "start_time": "2023-10-07T12:54:35.702Z"
   },
   {
    "duration": 12,
    "start_time": "2023-10-07T12:54:35.848Z"
   },
   {
    "duration": 30,
    "start_time": "2023-10-07T12:54:35.861Z"
   },
   {
    "duration": 13,
    "start_time": "2023-10-07T12:54:35.893Z"
   },
   {
    "duration": 13,
    "start_time": "2023-10-07T12:54:35.907Z"
   },
   {
    "duration": 153,
    "start_time": "2023-10-07T12:54:35.921Z"
   },
   {
    "duration": 8,
    "start_time": "2023-10-07T12:54:36.076Z"
   },
   {
    "duration": 11,
    "start_time": "2023-10-07T12:54:36.085Z"
   },
   {
    "duration": 5,
    "start_time": "2023-10-07T12:54:36.098Z"
   },
   {
    "duration": 13,
    "start_time": "2023-10-07T12:54:36.104Z"
   },
   {
    "duration": 7,
    "start_time": "2023-10-07T12:54:36.118Z"
   },
   {
    "duration": 11,
    "start_time": "2023-10-07T12:54:36.126Z"
   },
   {
    "duration": 26,
    "start_time": "2023-10-07T12:54:36.138Z"
   },
   {
    "duration": 19,
    "start_time": "2023-10-07T12:54:36.165Z"
   },
   {
    "duration": 27,
    "start_time": "2023-10-07T12:54:36.185Z"
   },
   {
    "duration": 10,
    "start_time": "2023-10-07T12:54:36.213Z"
   },
   {
    "duration": 5,
    "start_time": "2023-10-07T12:54:36.224Z"
   },
   {
    "duration": 5,
    "start_time": "2023-10-07T12:54:36.230Z"
   },
   {
    "duration": 54,
    "start_time": "2023-10-07T12:54:36.236Z"
   },
   {
    "duration": 5,
    "start_time": "2023-10-07T12:54:36.292Z"
   },
   {
    "duration": 26,
    "start_time": "2023-10-07T12:54:36.298Z"
   },
   {
    "duration": 19,
    "start_time": "2023-10-07T12:54:36.325Z"
   },
   {
    "duration": 128,
    "start_time": "2023-10-07T12:54:36.345Z"
   },
   {
    "duration": 25,
    "start_time": "2023-10-07T12:54:36.475Z"
   },
   {
    "duration": 75,
    "start_time": "2023-10-07T13:00:52.433Z"
   },
   {
    "duration": 79,
    "start_time": "2023-10-07T13:00:56.648Z"
   },
   {
    "duration": 10,
    "start_time": "2023-10-07T13:01:14.245Z"
   },
   {
    "duration": 1141,
    "start_time": "2023-10-07T13:01:21.481Z"
   },
   {
    "duration": 74,
    "start_time": "2023-10-07T13:01:22.624Z"
   },
   {
    "duration": 89,
    "start_time": "2023-10-07T13:01:22.700Z"
   },
   {
    "duration": 1714,
    "start_time": "2023-10-07T13:01:22.791Z"
   },
   {
    "duration": 21,
    "start_time": "2023-10-07T13:01:24.507Z"
   },
   {
    "duration": 7,
    "start_time": "2023-10-07T13:01:24.530Z"
   },
   {
    "duration": 52,
    "start_time": "2023-10-07T13:01:24.538Z"
   },
   {
    "duration": 7,
    "start_time": "2023-10-07T13:01:24.591Z"
   },
   {
    "duration": 74,
    "start_time": "2023-10-07T13:01:24.599Z"
   },
   {
    "duration": 3,
    "start_time": "2023-10-07T13:01:24.674Z"
   },
   {
    "duration": 151,
    "start_time": "2023-10-07T13:01:24.678Z"
   },
   {
    "duration": 26,
    "start_time": "2023-10-07T13:01:24.830Z"
   },
   {
    "duration": 6,
    "start_time": "2023-10-07T13:01:24.863Z"
   },
   {
    "duration": 18,
    "start_time": "2023-10-07T13:01:24.871Z"
   },
   {
    "duration": 11,
    "start_time": "2023-10-07T13:01:24.890Z"
   },
   {
    "duration": 186,
    "start_time": "2023-10-07T13:01:24.902Z"
   },
   {
    "duration": 4,
    "start_time": "2023-10-07T13:01:25.089Z"
   },
   {
    "duration": 85,
    "start_time": "2023-10-07T13:01:25.095Z"
   },
   {
    "duration": 27,
    "start_time": "2023-10-07T13:01:25.182Z"
   },
   {
    "duration": 18,
    "start_time": "2023-10-07T13:01:25.211Z"
   },
   {
    "duration": 43,
    "start_time": "2023-10-07T13:01:25.230Z"
   },
   {
    "duration": 15,
    "start_time": "2023-10-07T13:01:25.279Z"
   },
   {
    "duration": 6,
    "start_time": "2023-10-07T13:01:25.296Z"
   },
   {
    "duration": 20,
    "start_time": "2023-10-07T13:01:25.303Z"
   },
   {
    "duration": 34,
    "start_time": "2023-10-07T13:01:25.325Z"
   },
   {
    "duration": 37,
    "start_time": "2023-10-07T13:01:25.360Z"
   },
   {
    "duration": 17,
    "start_time": "2023-10-07T13:01:25.399Z"
   },
   {
    "duration": 15,
    "start_time": "2023-10-07T13:01:25.418Z"
   },
   {
    "duration": 23,
    "start_time": "2023-10-07T13:01:25.434Z"
   },
   {
    "duration": 12,
    "start_time": "2023-10-07T13:01:25.459Z"
   },
   {
    "duration": 23,
    "start_time": "2023-10-07T13:01:25.489Z"
   },
   {
    "duration": 9,
    "start_time": "2023-10-07T13:01:25.513Z"
   },
   {
    "duration": 164,
    "start_time": "2023-10-07T13:01:25.524Z"
   },
   {
    "duration": 12,
    "start_time": "2023-10-07T13:01:25.696Z"
   },
   {
    "duration": 1171,
    "start_time": "2023-10-07T13:07:32.556Z"
   },
   {
    "duration": 35,
    "start_time": "2023-10-07T13:07:33.729Z"
   },
   {
    "duration": 65,
    "start_time": "2023-10-07T13:07:33.768Z"
   },
   {
    "duration": 1599,
    "start_time": "2023-10-07T13:07:33.834Z"
   },
   {
    "duration": 34,
    "start_time": "2023-10-07T13:07:35.434Z"
   },
   {
    "duration": 11,
    "start_time": "2023-10-07T13:07:35.469Z"
   },
   {
    "duration": 41,
    "start_time": "2023-10-07T13:07:35.482Z"
   },
   {
    "duration": 7,
    "start_time": "2023-10-07T13:07:35.525Z"
   },
   {
    "duration": 98,
    "start_time": "2023-10-07T13:07:35.533Z"
   },
   {
    "duration": 3,
    "start_time": "2023-10-07T13:07:35.634Z"
   },
   {
    "duration": 159,
    "start_time": "2023-10-07T13:07:35.638Z"
   },
   {
    "duration": 7,
    "start_time": "2023-10-07T13:07:35.799Z"
   },
   {
    "duration": 28,
    "start_time": "2023-10-07T13:07:35.807Z"
   },
   {
    "duration": 46,
    "start_time": "2023-10-07T13:07:35.836Z"
   },
   {
    "duration": 24,
    "start_time": "2023-10-07T13:07:35.884Z"
   },
   {
    "duration": 147,
    "start_time": "2023-10-07T13:07:35.909Z"
   },
   {
    "duration": 13,
    "start_time": "2023-10-07T13:07:36.057Z"
   },
   {
    "duration": 10,
    "start_time": "2023-10-07T13:07:36.084Z"
   },
   {
    "duration": 4,
    "start_time": "2023-10-07T13:07:36.096Z"
   },
   {
    "duration": 4,
    "start_time": "2023-10-07T13:07:36.101Z"
   },
   {
    "duration": 5,
    "start_time": "2023-10-07T13:07:36.106Z"
   },
   {
    "duration": 4,
    "start_time": "2023-10-07T13:07:36.112Z"
   },
   {
    "duration": 5,
    "start_time": "2023-10-07T13:07:36.118Z"
   },
   {
    "duration": 8,
    "start_time": "2023-10-07T13:07:36.124Z"
   },
   {
    "duration": 18,
    "start_time": "2023-10-07T13:07:36.133Z"
   },
   {
    "duration": 5,
    "start_time": "2023-10-07T13:07:36.154Z"
   },
   {
    "duration": 24,
    "start_time": "2023-10-07T13:07:36.160Z"
   },
   {
    "duration": 3,
    "start_time": "2023-10-07T13:07:36.189Z"
   },
   {
    "duration": 16,
    "start_time": "2023-10-07T13:07:36.193Z"
   },
   {
    "duration": 6,
    "start_time": "2023-10-07T13:07:36.210Z"
   },
   {
    "duration": 8,
    "start_time": "2023-10-07T13:07:36.217Z"
   },
   {
    "duration": 7,
    "start_time": "2023-10-07T13:07:36.226Z"
   },
   {
    "duration": 162,
    "start_time": "2023-10-07T13:07:36.235Z"
   },
   {
    "duration": 16,
    "start_time": "2023-10-07T13:07:36.399Z"
   },
   {
    "duration": 1947,
    "start_time": "2023-10-08T06:38:40.081Z"
   },
   {
    "duration": 43,
    "start_time": "2023-10-08T06:38:42.030Z"
   },
   {
    "duration": 65,
    "start_time": "2023-10-08T06:38:42.074Z"
   },
   {
    "duration": 1803,
    "start_time": "2023-10-08T06:38:42.141Z"
   },
   {
    "duration": 29,
    "start_time": "2023-10-08T06:38:43.946Z"
   },
   {
    "duration": 8,
    "start_time": "2023-10-08T06:38:43.976Z"
   },
   {
    "duration": 36,
    "start_time": "2023-10-08T06:38:43.985Z"
   },
   {
    "duration": 185,
    "start_time": "2023-10-08T06:38:44.022Z"
   },
   {
    "duration": 104,
    "start_time": "2023-10-08T06:38:44.209Z"
   },
   {
    "duration": 4,
    "start_time": "2023-10-08T06:38:44.316Z"
   },
   {
    "duration": 178,
    "start_time": "2023-10-08T06:38:44.322Z"
   },
   {
    "duration": 9,
    "start_time": "2023-10-08T06:38:44.502Z"
   },
   {
    "duration": 24,
    "start_time": "2023-10-08T06:38:44.513Z"
   },
   {
    "duration": 18,
    "start_time": "2023-10-08T06:38:44.538Z"
   },
   {
    "duration": 22,
    "start_time": "2023-10-08T06:38:44.558Z"
   },
   {
    "duration": 157,
    "start_time": "2023-10-08T06:38:44.582Z"
   },
   {
    "duration": 9,
    "start_time": "2023-10-08T06:38:44.740Z"
   },
   {
    "duration": 15,
    "start_time": "2023-10-08T06:38:44.755Z"
   },
   {
    "duration": 7,
    "start_time": "2023-10-08T06:38:44.771Z"
   },
   {
    "duration": 13,
    "start_time": "2023-10-08T06:38:44.779Z"
   },
   {
    "duration": 12,
    "start_time": "2023-10-08T06:38:44.793Z"
   },
   {
    "duration": 7,
    "start_time": "2023-10-08T06:38:44.807Z"
   },
   {
    "duration": 15,
    "start_time": "2023-10-08T06:38:44.815Z"
   },
   {
    "duration": 22,
    "start_time": "2023-10-08T06:38:44.832Z"
   },
   {
    "duration": 8,
    "start_time": "2023-10-08T06:38:44.862Z"
   },
   {
    "duration": 17,
    "start_time": "2023-10-08T06:38:44.872Z"
   },
   {
    "duration": 8,
    "start_time": "2023-10-08T06:38:44.891Z"
   },
   {
    "duration": 13,
    "start_time": "2023-10-08T06:38:44.901Z"
   },
   {
    "duration": 15,
    "start_time": "2023-10-08T06:38:44.915Z"
   },
   {
    "duration": 13,
    "start_time": "2023-10-08T06:38:44.931Z"
   },
   {
    "duration": 12,
    "start_time": "2023-10-08T06:38:44.946Z"
   },
   {
    "duration": 15,
    "start_time": "2023-10-08T06:38:44.960Z"
   },
   {
    "duration": 106,
    "start_time": "2023-10-08T06:38:44.976Z"
   },
   {
    "duration": 11,
    "start_time": "2023-10-08T06:38:45.084Z"
   },
   {
    "duration": 137,
    "start_time": "2023-10-08T06:50:20.747Z"
   },
   {
    "duration": 5,
    "start_time": "2023-10-08T06:53:30.822Z"
   },
   {
    "duration": 23,
    "start_time": "2023-10-08T06:53:49.909Z"
   },
   {
    "duration": 110,
    "start_time": "2023-10-08T07:01:34.097Z"
   },
   {
    "duration": 4,
    "start_time": "2023-10-08T07:01:53.291Z"
   },
   {
    "duration": 35,
    "start_time": "2023-10-08T07:01:55.889Z"
   },
   {
    "duration": 14,
    "start_time": "2023-10-08T07:07:08.203Z"
   },
   {
    "duration": 22,
    "start_time": "2023-10-08T07:07:24.926Z"
   },
   {
    "duration": 7,
    "start_time": "2023-10-08T07:12:51.541Z"
   },
   {
    "duration": 3,
    "start_time": "2023-10-08T07:13:06.493Z"
   },
   {
    "duration": 5,
    "start_time": "2023-10-08T07:13:40.879Z"
   },
   {
    "duration": 6,
    "start_time": "2023-10-08T07:13:48.733Z"
   },
   {
    "duration": 26,
    "start_time": "2023-10-08T07:13:53.785Z"
   },
   {
    "duration": 26,
    "start_time": "2023-10-08T07:14:10.109Z"
   },
   {
    "duration": 155,
    "start_time": "2023-10-08T07:15:22.991Z"
   },
   {
    "duration": 186,
    "start_time": "2023-10-08T07:15:36.933Z"
   },
   {
    "duration": 10,
    "start_time": "2023-10-08T07:16:03.179Z"
   },
   {
    "duration": 7,
    "start_time": "2023-10-08T07:17:52.244Z"
   },
   {
    "duration": 8,
    "start_time": "2023-10-08T07:17:54.650Z"
   },
   {
    "duration": 6,
    "start_time": "2023-10-08T07:17:55.339Z"
   },
   {
    "duration": 7,
    "start_time": "2023-10-08T07:17:55.991Z"
   },
   {
    "duration": 7,
    "start_time": "2023-10-08T07:17:59.187Z"
   },
   {
    "duration": 1188,
    "start_time": "2023-10-08T07:18:06.299Z"
   },
   {
    "duration": 43,
    "start_time": "2023-10-08T07:18:07.489Z"
   },
   {
    "duration": 72,
    "start_time": "2023-10-08T07:18:07.534Z"
   },
   {
    "duration": 1776,
    "start_time": "2023-10-08T07:18:07.608Z"
   },
   {
    "duration": 25,
    "start_time": "2023-10-08T07:18:09.387Z"
   },
   {
    "duration": 8,
    "start_time": "2023-10-08T07:18:09.414Z"
   },
   {
    "duration": 52,
    "start_time": "2023-10-08T07:18:09.423Z"
   },
   {
    "duration": 19,
    "start_time": "2023-10-08T07:18:09.477Z"
   },
   {
    "duration": 120,
    "start_time": "2023-10-08T07:18:09.498Z"
   },
   {
    "duration": 5,
    "start_time": "2023-10-08T07:18:09.619Z"
   },
   {
    "duration": 201,
    "start_time": "2023-10-08T07:18:09.625Z"
   },
   {
    "duration": 11,
    "start_time": "2023-10-08T07:18:09.828Z"
   },
   {
    "duration": 8,
    "start_time": "2023-10-08T07:18:09.850Z"
   },
   {
    "duration": 20,
    "start_time": "2023-10-08T07:18:09.862Z"
   },
   {
    "duration": 38,
    "start_time": "2023-10-08T07:18:09.884Z"
   },
   {
    "duration": 190,
    "start_time": "2023-10-08T07:18:09.924Z"
   },
   {
    "duration": 5,
    "start_time": "2023-10-08T07:18:10.116Z"
   },
   {
    "duration": 26,
    "start_time": "2023-10-08T07:18:10.123Z"
   },
   {
    "duration": 20,
    "start_time": "2023-10-08T07:18:10.151Z"
   },
   {
    "duration": 31,
    "start_time": "2023-10-08T07:18:10.173Z"
   },
   {
    "duration": 27,
    "start_time": "2023-10-08T07:18:10.206Z"
   },
   {
    "duration": 18,
    "start_time": "2023-10-08T07:18:10.235Z"
   },
   {
    "duration": 19,
    "start_time": "2023-10-08T07:18:10.254Z"
   },
   {
    "duration": 32,
    "start_time": "2023-10-08T07:18:10.275Z"
   },
   {
    "duration": 14,
    "start_time": "2023-10-08T07:18:10.309Z"
   },
   {
    "duration": 9,
    "start_time": "2023-10-08T07:18:10.325Z"
   },
   {
    "duration": 13,
    "start_time": "2023-10-08T07:18:10.336Z"
   },
   {
    "duration": 38,
    "start_time": "2023-10-08T07:18:10.351Z"
   },
   {
    "duration": 31,
    "start_time": "2023-10-08T07:18:10.391Z"
   },
   {
    "duration": 32,
    "start_time": "2023-10-08T07:18:10.423Z"
   },
   {
    "duration": 15,
    "start_time": "2023-10-08T07:18:10.457Z"
   },
   {
    "duration": 12,
    "start_time": "2023-10-08T07:18:10.473Z"
   },
   {
    "duration": 111,
    "start_time": "2023-10-08T07:18:10.487Z"
   },
   {
    "duration": 14,
    "start_time": "2023-10-08T07:18:10.600Z"
   },
   {
    "duration": 11,
    "start_time": "2023-10-08T07:18:10.615Z"
   },
   {
    "duration": 41,
    "start_time": "2023-10-08T07:18:10.628Z"
   },
   {
    "duration": 5,
    "start_time": "2023-10-08T07:18:10.671Z"
   },
   {
    "duration": 5,
    "start_time": "2023-10-08T07:20:14.786Z"
   },
   {
    "duration": 81,
    "start_time": "2023-10-08T07:21:18.740Z"
   },
   {
    "duration": 8,
    "start_time": "2023-10-08T07:22:39.272Z"
   },
   {
    "duration": 4,
    "start_time": "2023-10-08T07:26:16.065Z"
   },
   {
    "duration": 25,
    "start_time": "2023-10-08T07:26:25.052Z"
   },
   {
    "duration": 4,
    "start_time": "2023-10-08T07:31:20.166Z"
   },
   {
    "duration": 25,
    "start_time": "2023-10-08T07:31:28.132Z"
   },
   {
    "duration": 23,
    "start_time": "2023-10-08T07:33:42.604Z"
   },
   {
    "duration": 14,
    "start_time": "2023-10-08T07:39:07.657Z"
   },
   {
    "duration": 91,
    "start_time": "2023-10-08T07:39:24.522Z"
   },
   {
    "duration": 101,
    "start_time": "2023-10-08T07:48:04.259Z"
   },
   {
    "duration": 8,
    "start_time": "2023-10-08T07:51:55.266Z"
   },
   {
    "duration": 92,
    "start_time": "2023-10-08T08:01:40.552Z"
   },
   {
    "duration": 8,
    "start_time": "2023-10-08T08:01:48.665Z"
   },
   {
    "duration": 10,
    "start_time": "2023-10-08T08:02:07.489Z"
   },
   {
    "duration": 9,
    "start_time": "2023-10-08T08:02:20.371Z"
   },
   {
    "duration": 13,
    "start_time": "2023-10-08T08:03:21.105Z"
   },
   {
    "duration": 8,
    "start_time": "2023-10-08T08:04:04.215Z"
   },
   {
    "duration": 8,
    "start_time": "2023-10-08T08:04:48.895Z"
   },
   {
    "duration": 37,
    "start_time": "2023-10-08T08:10:37.048Z"
   },
   {
    "duration": 26,
    "start_time": "2023-10-08T08:13:19.107Z"
   },
   {
    "duration": 3,
    "start_time": "2023-10-08T08:17:31.075Z"
   },
   {
    "duration": 7,
    "start_time": "2023-10-08T08:17:36.750Z"
   },
   {
    "duration": 7,
    "start_time": "2023-10-08T08:17:46.568Z"
   },
   {
    "duration": 5,
    "start_time": "2023-10-08T08:17:54.240Z"
   },
   {
    "duration": 5,
    "start_time": "2023-10-08T08:18:17.940Z"
   },
   {
    "duration": 16,
    "start_time": "2023-10-08T08:18:25.948Z"
   },
   {
    "duration": 5,
    "start_time": "2023-10-08T08:18:39.243Z"
   },
   {
    "duration": 169,
    "start_time": "2023-10-08T08:20:03.214Z"
   },
   {
    "duration": 22,
    "start_time": "2023-10-08T08:20:33.113Z"
   },
   {
    "duration": 17,
    "start_time": "2023-10-08T08:21:09.286Z"
   },
   {
    "duration": 25,
    "start_time": "2023-10-08T08:21:15.128Z"
   },
   {
    "duration": 19,
    "start_time": "2023-10-08T08:21:58.046Z"
   },
   {
    "duration": 8,
    "start_time": "2023-10-08T08:22:15.337Z"
   },
   {
    "duration": 5,
    "start_time": "2023-10-08T08:22:25.548Z"
   },
   {
    "duration": 5,
    "start_time": "2023-10-08T08:22:29.875Z"
   },
   {
    "duration": 18,
    "start_time": "2023-10-08T08:24:40.375Z"
   },
   {
    "duration": 14,
    "start_time": "2023-10-08T08:24:49.173Z"
   },
   {
    "duration": 24,
    "start_time": "2023-10-08T08:24:58.705Z"
   },
   {
    "duration": 27,
    "start_time": "2023-10-08T08:25:34.460Z"
   },
   {
    "duration": 1272,
    "start_time": "2023-10-08T08:25:45.577Z"
   },
   {
    "duration": 41,
    "start_time": "2023-10-08T08:25:46.850Z"
   },
   {
    "duration": 84,
    "start_time": "2023-10-08T08:25:46.892Z"
   },
   {
    "duration": 1827,
    "start_time": "2023-10-08T08:25:46.978Z"
   },
   {
    "duration": 26,
    "start_time": "2023-10-08T08:25:48.807Z"
   },
   {
    "duration": 8,
    "start_time": "2023-10-08T08:25:48.834Z"
   },
   {
    "duration": 74,
    "start_time": "2023-10-08T08:25:48.843Z"
   },
   {
    "duration": 41,
    "start_time": "2023-10-08T08:25:48.918Z"
   },
   {
    "duration": 108,
    "start_time": "2023-10-08T08:25:48.960Z"
   },
   {
    "duration": 4,
    "start_time": "2023-10-08T08:25:49.071Z"
   },
   {
    "duration": 196,
    "start_time": "2023-10-08T08:25:49.076Z"
   },
   {
    "duration": 11,
    "start_time": "2023-10-08T08:25:49.274Z"
   },
   {
    "duration": 7,
    "start_time": "2023-10-08T08:25:49.286Z"
   },
   {
    "duration": 8,
    "start_time": "2023-10-08T08:25:49.295Z"
   },
   {
    "duration": 55,
    "start_time": "2023-10-08T08:25:49.305Z"
   },
   {
    "duration": 156,
    "start_time": "2023-10-08T08:25:49.362Z"
   },
   {
    "duration": 6,
    "start_time": "2023-10-08T08:25:49.519Z"
   },
   {
    "duration": 45,
    "start_time": "2023-10-08T08:25:49.526Z"
   },
   {
    "duration": 15,
    "start_time": "2023-10-08T08:25:49.572Z"
   },
   {
    "duration": 20,
    "start_time": "2023-10-08T08:25:49.588Z"
   },
   {
    "duration": 36,
    "start_time": "2023-10-08T08:25:49.609Z"
   },
   {
    "duration": 26,
    "start_time": "2023-10-08T08:25:49.647Z"
   },
   {
    "duration": 30,
    "start_time": "2023-10-08T08:25:49.675Z"
   },
   {
    "duration": 31,
    "start_time": "2023-10-08T08:25:49.707Z"
   },
   {
    "duration": 30,
    "start_time": "2023-10-08T08:25:49.740Z"
   },
   {
    "duration": 28,
    "start_time": "2023-10-08T08:25:49.772Z"
   },
   {
    "duration": 6,
    "start_time": "2023-10-08T08:25:49.801Z"
   },
   {
    "duration": 12,
    "start_time": "2023-10-08T08:25:49.810Z"
   },
   {
    "duration": 8,
    "start_time": "2023-10-08T08:25:49.823Z"
   },
   {
    "duration": 8,
    "start_time": "2023-10-08T08:25:49.832Z"
   },
   {
    "duration": 28,
    "start_time": "2023-10-08T08:25:49.842Z"
   },
   {
    "duration": 13,
    "start_time": "2023-10-08T08:25:49.871Z"
   },
   {
    "duration": 118,
    "start_time": "2023-10-08T08:25:49.886Z"
   },
   {
    "duration": 13,
    "start_time": "2023-10-08T08:25:50.006Z"
   },
   {
    "duration": 20,
    "start_time": "2023-10-08T08:25:50.020Z"
   },
   {
    "duration": 29,
    "start_time": "2023-10-08T08:25:50.041Z"
   },
   {
    "duration": 14,
    "start_time": "2023-10-08T08:25:50.071Z"
   },
   {
    "duration": 21,
    "start_time": "2023-10-08T08:25:50.087Z"
   },
   {
    "duration": 28,
    "start_time": "2023-10-08T08:25:50.109Z"
   },
   {
    "duration": 22,
    "start_time": "2023-10-08T08:25:50.138Z"
   },
   {
    "duration": 29,
    "start_time": "2023-10-08T08:25:50.162Z"
   },
   {
    "duration": 5,
    "start_time": "2023-10-08T08:25:50.192Z"
   },
   {
    "duration": 7,
    "start_time": "2023-10-08T08:25:50.198Z"
   },
   {
    "duration": 16,
    "start_time": "2023-10-08T08:25:50.206Z"
   },
   {
    "duration": 49,
    "start_time": "2023-10-08T08:25:50.223Z"
   },
   {
    "duration": 84,
    "start_time": "2023-10-08T08:27:35.215Z"
   },
   {
    "duration": 427,
    "start_time": "2023-10-08T08:29:37.743Z"
   },
   {
    "duration": 422,
    "start_time": "2023-10-08T08:31:39.573Z"
   },
   {
    "duration": 522,
    "start_time": "2023-10-08T08:31:46.171Z"
   },
   {
    "duration": 12,
    "start_time": "2023-10-08T08:37:11.875Z"
   },
   {
    "duration": 79,
    "start_time": "2023-10-08T08:37:38.800Z"
   },
   {
    "duration": 90,
    "start_time": "2023-10-08T08:37:42.237Z"
   },
   {
    "duration": 11,
    "start_time": "2023-10-08T08:37:46.027Z"
   },
   {
    "duration": 9,
    "start_time": "2023-10-08T08:42:55.521Z"
   },
   {
    "duration": 5,
    "start_time": "2023-10-08T08:43:19.285Z"
   },
   {
    "duration": 5,
    "start_time": "2023-10-08T08:43:24.231Z"
   },
   {
    "duration": 5,
    "start_time": "2023-10-08T08:43:27.836Z"
   },
   {
    "duration": 5,
    "start_time": "2023-10-08T08:43:50.687Z"
   },
   {
    "duration": 6,
    "start_time": "2023-10-08T08:43:58.252Z"
   },
   {
    "duration": 6,
    "start_time": "2023-10-08T08:44:00.822Z"
   },
   {
    "duration": 6,
    "start_time": "2023-10-08T08:44:03.131Z"
   },
   {
    "duration": 5,
    "start_time": "2023-10-08T08:44:06.771Z"
   },
   {
    "duration": 5,
    "start_time": "2023-10-08T08:44:09.302Z"
   },
   {
    "duration": 5,
    "start_time": "2023-10-08T08:44:20.937Z"
   },
   {
    "duration": 9,
    "start_time": "2023-10-08T08:45:37.705Z"
   },
   {
    "duration": 9,
    "start_time": "2023-10-08T08:45:55.830Z"
   },
   {
    "duration": 8,
    "start_time": "2023-10-08T08:46:17.004Z"
   },
   {
    "duration": 9,
    "start_time": "2023-10-08T08:46:33.274Z"
   },
   {
    "duration": 404,
    "start_time": "2023-10-08T08:46:37.677Z"
   },
   {
    "duration": 357,
    "start_time": "2023-10-08T08:48:27.373Z"
   },
   {
    "duration": 379,
    "start_time": "2023-10-08T08:48:31.797Z"
   },
   {
    "duration": 371,
    "start_time": "2023-10-08T08:49:12.884Z"
   },
   {
    "duration": 503,
    "start_time": "2023-10-08T08:49:31.186Z"
   },
   {
    "duration": 395,
    "start_time": "2023-10-08T08:49:39.039Z"
   },
   {
    "duration": 383,
    "start_time": "2023-10-08T08:50:03.954Z"
   },
   {
    "duration": 15,
    "start_time": "2023-10-08T08:50:16.775Z"
   },
   {
    "duration": 241,
    "start_time": "2023-10-08T08:50:46.333Z"
   },
   {
    "duration": 190,
    "start_time": "2023-10-08T08:51:04.276Z"
   },
   {
    "duration": 200,
    "start_time": "2023-10-08T08:51:10.881Z"
   },
   {
    "duration": 360,
    "start_time": "2023-10-08T08:51:33.571Z"
   },
   {
    "duration": 12,
    "start_time": "2023-10-08T08:55:20.874Z"
   },
   {
    "duration": 9,
    "start_time": "2023-10-08T09:02:20.625Z"
   },
   {
    "duration": 10,
    "start_time": "2023-10-08T09:03:39.874Z"
   },
   {
    "duration": 9,
    "start_time": "2023-10-08T09:03:50.468Z"
   },
   {
    "duration": 180,
    "start_time": "2023-10-08T09:04:14.497Z"
   },
   {
    "duration": 313,
    "start_time": "2023-10-08T09:04:26.420Z"
   },
   {
    "duration": 21,
    "start_time": "2023-10-08T09:04:49.566Z"
   },
   {
    "duration": 14,
    "start_time": "2023-10-08T09:04:53.268Z"
   },
   {
    "duration": 171,
    "start_time": "2023-10-08T09:05:11.306Z"
   },
   {
    "duration": 266,
    "start_time": "2023-10-08T09:05:55.016Z"
   },
   {
    "duration": 118,
    "start_time": "2023-10-08T09:06:45.242Z"
   },
   {
    "duration": 223,
    "start_time": "2023-10-08T09:06:53.850Z"
   },
   {
    "duration": 404,
    "start_time": "2023-10-08T09:09:11.683Z"
   },
   {
    "duration": 360,
    "start_time": "2023-10-08T09:09:32.016Z"
   },
   {
    "duration": 220,
    "start_time": "2023-10-08T09:09:46.810Z"
   },
   {
    "duration": 205,
    "start_time": "2023-10-08T09:09:52.734Z"
   },
   {
    "duration": 203,
    "start_time": "2023-10-08T09:09:58.369Z"
   },
   {
    "duration": 207,
    "start_time": "2023-10-08T09:10:02.883Z"
   },
   {
    "duration": 9,
    "start_time": "2023-10-08T09:11:16.685Z"
   },
   {
    "duration": 8,
    "start_time": "2023-10-08T09:11:22.713Z"
   },
   {
    "duration": 9,
    "start_time": "2023-10-08T09:11:35.846Z"
   },
   {
    "duration": 1293,
    "start_time": "2023-10-08T09:12:45.667Z"
   },
   {
    "duration": 41,
    "start_time": "2023-10-08T09:12:46.962Z"
   },
   {
    "duration": 73,
    "start_time": "2023-10-08T09:12:47.005Z"
   },
   {
    "duration": 1908,
    "start_time": "2023-10-08T09:12:47.080Z"
   },
   {
    "duration": 25,
    "start_time": "2023-10-08T09:12:48.991Z"
   },
   {
    "duration": 10,
    "start_time": "2023-10-08T09:12:49.017Z"
   },
   {
    "duration": 50,
    "start_time": "2023-10-08T09:12:49.028Z"
   },
   {
    "duration": 8,
    "start_time": "2023-10-08T09:12:49.079Z"
   },
   {
    "duration": 124,
    "start_time": "2023-10-08T09:12:49.089Z"
   },
   {
    "duration": 4,
    "start_time": "2023-10-08T09:12:49.214Z"
   },
   {
    "duration": 196,
    "start_time": "2023-10-08T09:12:49.220Z"
   },
   {
    "duration": 9,
    "start_time": "2023-10-08T09:12:49.418Z"
   },
   {
    "duration": 32,
    "start_time": "2023-10-08T09:12:49.429Z"
   },
   {
    "duration": 7,
    "start_time": "2023-10-08T09:12:49.464Z"
   },
   {
    "duration": 27,
    "start_time": "2023-10-08T09:12:49.472Z"
   },
   {
    "duration": 186,
    "start_time": "2023-10-08T09:12:49.500Z"
   },
   {
    "duration": 4,
    "start_time": "2023-10-08T09:12:49.687Z"
   },
   {
    "duration": 21,
    "start_time": "2023-10-08T09:12:49.693Z"
   },
   {
    "duration": 13,
    "start_time": "2023-10-08T09:12:49.716Z"
   },
   {
    "duration": 11,
    "start_time": "2023-10-08T09:12:49.731Z"
   },
   {
    "duration": 23,
    "start_time": "2023-10-08T09:12:49.744Z"
   },
   {
    "duration": 5,
    "start_time": "2023-10-08T09:12:49.769Z"
   },
   {
    "duration": 5,
    "start_time": "2023-10-08T09:12:49.775Z"
   },
   {
    "duration": 11,
    "start_time": "2023-10-08T09:12:49.781Z"
   },
   {
    "duration": 5,
    "start_time": "2023-10-08T09:12:49.794Z"
   },
   {
    "duration": 22,
    "start_time": "2023-10-08T09:12:49.801Z"
   },
   {
    "duration": 22,
    "start_time": "2023-10-08T09:12:49.825Z"
   },
   {
    "duration": 16,
    "start_time": "2023-10-08T09:12:49.848Z"
   },
   {
    "duration": 9,
    "start_time": "2023-10-08T09:12:49.865Z"
   },
   {
    "duration": 10,
    "start_time": "2023-10-08T09:12:49.876Z"
   },
   {
    "duration": 33,
    "start_time": "2023-10-08T09:12:49.887Z"
   },
   {
    "duration": 11,
    "start_time": "2023-10-08T09:12:49.922Z"
   },
   {
    "duration": 105,
    "start_time": "2023-10-08T09:12:49.935Z"
   },
   {
    "duration": 19,
    "start_time": "2023-10-08T09:12:50.042Z"
   },
   {
    "duration": 4,
    "start_time": "2023-10-08T09:12:50.063Z"
   },
   {
    "duration": 32,
    "start_time": "2023-10-08T09:12:50.070Z"
   },
   {
    "duration": 7,
    "start_time": "2023-10-08T09:12:50.104Z"
   },
   {
    "duration": 6,
    "start_time": "2023-10-08T09:12:50.112Z"
   },
   {
    "duration": 25,
    "start_time": "2023-10-08T09:12:50.119Z"
   },
   {
    "duration": 23,
    "start_time": "2023-10-08T09:12:50.146Z"
   },
   {
    "duration": 15,
    "start_time": "2023-10-08T09:12:50.172Z"
   },
   {
    "duration": 50,
    "start_time": "2023-10-08T09:12:50.188Z"
   },
   {
    "duration": 5,
    "start_time": "2023-10-08T09:12:50.240Z"
   },
   {
    "duration": 13,
    "start_time": "2023-10-08T09:12:50.246Z"
   },
   {
    "duration": 15,
    "start_time": "2023-10-08T09:12:50.260Z"
   },
   {
    "duration": 26,
    "start_time": "2023-10-08T09:12:50.277Z"
   },
   {
    "duration": 442,
    "start_time": "2023-10-08T09:12:50.305Z"
   },
   {
    "duration": 233,
    "start_time": "2023-10-08T09:12:50.753Z"
   },
   {
    "duration": 9,
    "start_time": "2023-10-08T09:12:50.987Z"
   },
   {
    "duration": 19,
    "start_time": "2023-10-08T09:12:50.997Z"
   },
   {
    "duration": 18,
    "start_time": "2023-10-08T09:12:51.017Z"
   },
   {
    "duration": 21,
    "start_time": "2023-10-08T09:12:51.036Z"
   },
   {
    "duration": 383,
    "start_time": "2023-10-08T09:12:51.059Z"
   },
   {
    "duration": 14,
    "start_time": "2023-10-08T09:12:51.444Z"
   },
   {
    "duration": 224,
    "start_time": "2023-10-08T09:17:16.208Z"
   },
   {
    "duration": 201,
    "start_time": "2023-10-08T09:17:21.035Z"
   },
   {
    "duration": 215,
    "start_time": "2023-10-08T09:17:25.619Z"
   },
   {
    "duration": 307,
    "start_time": "2023-10-08T09:17:38.063Z"
   },
   {
    "duration": 212,
    "start_time": "2023-10-08T09:18:59.418Z"
   },
   {
    "duration": 5,
    "start_time": "2023-10-08T09:21:11.398Z"
   },
   {
    "duration": 7,
    "start_time": "2023-10-08T09:21:13.878Z"
   },
   {
    "duration": 6,
    "start_time": "2023-10-08T09:21:36.276Z"
   },
   {
    "duration": 6,
    "start_time": "2023-10-08T09:21:40.495Z"
   },
   {
    "duration": 6,
    "start_time": "2023-10-08T09:21:45.876Z"
   },
   {
    "duration": 4,
    "start_time": "2023-10-08T09:21:57.014Z"
   },
   {
    "duration": 5,
    "start_time": "2023-10-08T09:22:03.031Z"
   },
   {
    "duration": 5,
    "start_time": "2023-10-08T09:22:09.971Z"
   },
   {
    "duration": 4,
    "start_time": "2023-10-08T09:22:23.583Z"
   },
   {
    "duration": 5,
    "start_time": "2023-10-08T09:22:29.082Z"
   },
   {
    "duration": 5,
    "start_time": "2023-10-08T09:23:31.489Z"
   },
   {
    "duration": 11,
    "start_time": "2023-10-08T09:25:06.473Z"
   },
   {
    "duration": 9,
    "start_time": "2023-10-08T09:25:57.164Z"
   },
   {
    "duration": 9,
    "start_time": "2023-10-08T09:26:11.032Z"
   },
   {
    "duration": 6,
    "start_time": "2023-10-08T09:26:37.020Z"
   },
   {
    "duration": 7,
    "start_time": "2023-10-08T09:26:43.813Z"
   },
   {
    "duration": 5,
    "start_time": "2023-10-08T09:26:49.489Z"
   },
   {
    "duration": 5,
    "start_time": "2023-10-08T09:26:58.579Z"
   },
   {
    "duration": 7,
    "start_time": "2023-10-08T09:27:06.076Z"
   },
   {
    "duration": 13,
    "start_time": "2023-10-08T09:28:35.171Z"
   },
   {
    "duration": 1358,
    "start_time": "2023-10-08T09:28:41.730Z"
   },
   {
    "duration": 47,
    "start_time": "2023-10-08T09:28:43.090Z"
   },
   {
    "duration": 83,
    "start_time": "2023-10-08T09:28:43.139Z"
   },
   {
    "duration": 1988,
    "start_time": "2023-10-08T09:28:43.224Z"
   },
   {
    "duration": 26,
    "start_time": "2023-10-08T09:28:45.214Z"
   },
   {
    "duration": 60,
    "start_time": "2023-10-08T09:28:45.241Z"
   },
   {
    "duration": 60,
    "start_time": "2023-10-08T09:28:45.303Z"
   },
   {
    "duration": 18,
    "start_time": "2023-10-08T09:28:45.368Z"
   },
   {
    "duration": 146,
    "start_time": "2023-10-08T09:28:45.387Z"
   },
   {
    "duration": 5,
    "start_time": "2023-10-08T09:28:45.535Z"
   },
   {
    "duration": 189,
    "start_time": "2023-10-08T09:28:45.541Z"
   },
   {
    "duration": 21,
    "start_time": "2023-10-08T09:28:45.732Z"
   },
   {
    "duration": 17,
    "start_time": "2023-10-08T09:28:45.754Z"
   },
   {
    "duration": 22,
    "start_time": "2023-10-08T09:28:45.773Z"
   },
   {
    "duration": 43,
    "start_time": "2023-10-08T09:28:45.797Z"
   },
   {
    "duration": 226,
    "start_time": "2023-10-08T09:28:45.842Z"
   },
   {
    "duration": 6,
    "start_time": "2023-10-08T09:28:46.074Z"
   },
   {
    "duration": 62,
    "start_time": "2023-10-08T09:28:46.082Z"
   },
   {
    "duration": 13,
    "start_time": "2023-10-08T09:28:46.146Z"
   },
   {
    "duration": 14,
    "start_time": "2023-10-08T09:28:46.161Z"
   },
   {
    "duration": 9,
    "start_time": "2023-10-08T09:28:46.176Z"
   },
   {
    "duration": 25,
    "start_time": "2023-10-08T09:28:46.187Z"
   },
   {
    "duration": 29,
    "start_time": "2023-10-08T09:28:46.214Z"
   },
   {
    "duration": 10,
    "start_time": "2023-10-08T09:28:46.244Z"
   },
   {
    "duration": 20,
    "start_time": "2023-10-08T09:28:46.257Z"
   },
   {
    "duration": 19,
    "start_time": "2023-10-08T09:28:46.279Z"
   },
   {
    "duration": 21,
    "start_time": "2023-10-08T09:28:46.300Z"
   },
   {
    "duration": 17,
    "start_time": "2023-10-08T09:28:46.325Z"
   },
   {
    "duration": 16,
    "start_time": "2023-10-08T09:28:46.344Z"
   },
   {
    "duration": 29,
    "start_time": "2023-10-08T09:28:46.362Z"
   },
   {
    "duration": 28,
    "start_time": "2023-10-08T09:28:46.393Z"
   },
   {
    "duration": 12,
    "start_time": "2023-10-08T09:28:46.423Z"
   },
   {
    "duration": 114,
    "start_time": "2023-10-08T09:28:46.437Z"
   },
   {
    "duration": 16,
    "start_time": "2023-10-08T09:28:46.553Z"
   },
   {
    "duration": 5,
    "start_time": "2023-10-08T09:28:46.571Z"
   },
   {
    "duration": 17,
    "start_time": "2023-10-08T09:28:46.578Z"
   },
   {
    "duration": 11,
    "start_time": "2023-10-08T09:28:46.597Z"
   },
   {
    "duration": 15,
    "start_time": "2023-10-08T09:28:46.610Z"
   },
   {
    "duration": 45,
    "start_time": "2023-10-08T09:28:46.627Z"
   },
   {
    "duration": 9,
    "start_time": "2023-10-08T09:28:46.673Z"
   },
   {
    "duration": 20,
    "start_time": "2023-10-08T09:28:46.683Z"
   },
   {
    "duration": 56,
    "start_time": "2023-10-08T09:28:46.705Z"
   },
   {
    "duration": 6,
    "start_time": "2023-10-08T09:28:46.766Z"
   },
   {
    "duration": 16,
    "start_time": "2023-10-08T09:28:46.774Z"
   },
   {
    "duration": 32,
    "start_time": "2023-10-08T09:28:46.792Z"
   },
   {
    "duration": 36,
    "start_time": "2023-10-08T09:28:46.826Z"
   },
   {
    "duration": 409,
    "start_time": "2023-10-08T09:28:46.865Z"
   },
   {
    "duration": 310,
    "start_time": "2023-10-08T09:28:47.276Z"
   },
   {
    "duration": 9,
    "start_time": "2023-10-08T09:28:47.588Z"
   },
   {
    "duration": 24,
    "start_time": "2023-10-08T09:28:47.599Z"
   },
   {
    "duration": 17,
    "start_time": "2023-10-08T09:28:47.624Z"
   },
   {
    "duration": 29,
    "start_time": "2023-10-08T09:28:47.643Z"
   },
   {
    "duration": 401,
    "start_time": "2023-10-08T09:28:47.674Z"
   },
   {
    "duration": 9,
    "start_time": "2023-10-08T09:28:48.077Z"
   },
   {
    "duration": 11,
    "start_time": "2023-10-08T09:28:48.088Z"
   },
   {
    "duration": 7,
    "start_time": "2023-10-08T09:28:48.101Z"
   },
   {
    "duration": 51,
    "start_time": "2023-10-08T09:28:48.109Z"
   },
   {
    "duration": 423,
    "start_time": "2023-10-08T09:29:40.045Z"
   },
   {
    "duration": 270,
    "start_time": "2023-10-08T09:30:10.999Z"
   },
   {
    "duration": 150,
    "start_time": "2023-10-08T09:31:46.764Z"
   },
   {
    "duration": 303,
    "start_time": "2023-10-08T09:31:51.026Z"
   },
   {
    "duration": 176,
    "start_time": "2023-10-08T09:32:09.993Z"
   },
   {
    "duration": 200,
    "start_time": "2023-10-08T09:32:31.111Z"
   },
   {
    "duration": 178,
    "start_time": "2023-10-08T09:32:56.866Z"
   },
   {
    "duration": 236,
    "start_time": "2023-10-08T09:35:04.078Z"
   },
   {
    "duration": 249,
    "start_time": "2023-10-08T09:35:07.873Z"
   },
   {
    "duration": 242,
    "start_time": "2023-10-08T09:35:49.444Z"
   },
   {
    "duration": 257,
    "start_time": "2023-10-08T09:36:11.738Z"
   },
   {
    "duration": 233,
    "start_time": "2023-10-08T09:36:18.609Z"
   },
   {
    "duration": 279,
    "start_time": "2023-10-08T09:36:25.805Z"
   },
   {
    "duration": 402,
    "start_time": "2023-10-08T09:36:54.989Z"
   },
   {
    "duration": 269,
    "start_time": "2023-10-08T09:37:01.643Z"
   },
   {
    "duration": 256,
    "start_time": "2023-10-08T09:37:06.764Z"
   },
   {
    "duration": 265,
    "start_time": "2023-10-08T09:37:13.027Z"
   },
   {
    "duration": 296,
    "start_time": "2023-10-08T09:37:37.368Z"
   },
   {
    "duration": 9,
    "start_time": "2023-10-08T09:38:24.235Z"
   },
   {
    "duration": 3,
    "start_time": "2023-10-08T09:38:47.665Z"
   },
   {
    "duration": 188,
    "start_time": "2023-10-08T09:38:51.515Z"
   },
   {
    "duration": 205,
    "start_time": "2023-10-08T09:39:11.964Z"
   },
   {
    "duration": 137,
    "start_time": "2023-10-08T09:39:27.162Z"
   },
   {
    "duration": 229,
    "start_time": "2023-10-08T09:44:34.311Z"
   },
   {
    "duration": 1194,
    "start_time": "2023-10-08T09:45:08.932Z"
   },
   {
    "duration": 209,
    "start_time": "2023-10-08T09:46:02.804Z"
   },
   {
    "duration": 183,
    "start_time": "2023-10-08T09:46:38.994Z"
   },
   {
    "duration": 216,
    "start_time": "2023-10-08T09:47:24.490Z"
   },
   {
    "duration": 195,
    "start_time": "2023-10-08T09:48:00.790Z"
   },
   {
    "duration": 190,
    "start_time": "2023-10-08T09:48:07.928Z"
   },
   {
    "duration": 224,
    "start_time": "2023-10-08T09:48:15.985Z"
   },
   {
    "duration": 10,
    "start_time": "2023-10-08T09:50:45.573Z"
   },
   {
    "duration": 1386,
    "start_time": "2023-10-08T09:50:55.903Z"
   },
   {
    "duration": 38,
    "start_time": "2023-10-08T09:50:57.291Z"
   },
   {
    "duration": 91,
    "start_time": "2023-10-08T09:50:57.330Z"
   },
   {
    "duration": 1741,
    "start_time": "2023-10-08T09:50:57.423Z"
   },
   {
    "duration": 26,
    "start_time": "2023-10-08T09:50:59.167Z"
   },
   {
    "duration": 8,
    "start_time": "2023-10-08T09:50:59.195Z"
   },
   {
    "duration": 38,
    "start_time": "2023-10-08T09:50:59.204Z"
   },
   {
    "duration": 15,
    "start_time": "2023-10-08T09:50:59.243Z"
   },
   {
    "duration": 100,
    "start_time": "2023-10-08T09:50:59.260Z"
   },
   {
    "duration": 5,
    "start_time": "2023-10-08T09:50:59.361Z"
   },
   {
    "duration": 176,
    "start_time": "2023-10-08T09:50:59.368Z"
   },
   {
    "duration": 10,
    "start_time": "2023-10-08T09:50:59.545Z"
   },
   {
    "duration": 7,
    "start_time": "2023-10-08T09:50:59.556Z"
   },
   {
    "duration": 7,
    "start_time": "2023-10-08T09:50:59.565Z"
   },
   {
    "duration": 41,
    "start_time": "2023-10-08T09:50:59.573Z"
   },
   {
    "duration": 153,
    "start_time": "2023-10-08T09:50:59.615Z"
   },
   {
    "duration": 4,
    "start_time": "2023-10-08T09:50:59.769Z"
   },
   {
    "duration": 44,
    "start_time": "2023-10-08T09:50:59.775Z"
   },
   {
    "duration": 24,
    "start_time": "2023-10-08T09:50:59.821Z"
   },
   {
    "duration": 27,
    "start_time": "2023-10-08T09:50:59.847Z"
   },
   {
    "duration": 17,
    "start_time": "2023-10-08T09:50:59.876Z"
   },
   {
    "duration": 6,
    "start_time": "2023-10-08T09:50:59.895Z"
   },
   {
    "duration": 14,
    "start_time": "2023-10-08T09:50:59.903Z"
   },
   {
    "duration": 16,
    "start_time": "2023-10-08T09:50:59.918Z"
   },
   {
    "duration": 5,
    "start_time": "2023-10-08T09:50:59.936Z"
   },
   {
    "duration": 44,
    "start_time": "2023-10-08T09:50:59.942Z"
   },
   {
    "duration": 41,
    "start_time": "2023-10-08T09:50:59.988Z"
   },
   {
    "duration": 214,
    "start_time": "2023-10-08T09:51:00.030Z"
   },
   {
    "duration": 38,
    "start_time": "2023-10-08T09:51:00.246Z"
   },
   {
    "duration": 42,
    "start_time": "2023-10-08T09:51:00.286Z"
   },
   {
    "duration": 101,
    "start_time": "2023-10-08T09:51:00.330Z"
   },
   {
    "duration": 51,
    "start_time": "2023-10-08T09:51:00.433Z"
   },
   {
    "duration": 145,
    "start_time": "2023-10-08T09:51:00.486Z"
   },
   {
    "duration": 24,
    "start_time": "2023-10-08T09:51:00.633Z"
   },
   {
    "duration": 76,
    "start_time": "2023-10-08T09:51:00.659Z"
   },
   {
    "duration": 175,
    "start_time": "2023-10-08T09:51:00.737Z"
   },
   {
    "duration": 54,
    "start_time": "2023-10-08T09:51:00.914Z"
   },
   {
    "duration": 47,
    "start_time": "2023-10-08T09:51:00.970Z"
   },
   {
    "duration": 75,
    "start_time": "2023-10-08T09:51:01.018Z"
   },
   {
    "duration": 101,
    "start_time": "2023-10-08T09:51:01.095Z"
   },
   {
    "duration": 266,
    "start_time": "2023-10-08T09:51:01.201Z"
   },
   {
    "duration": 88,
    "start_time": "2023-10-08T09:51:01.469Z"
   },
   {
    "duration": 70,
    "start_time": "2023-10-08T09:51:01.559Z"
   },
   {
    "duration": 82,
    "start_time": "2023-10-08T09:51:01.631Z"
   },
   {
    "duration": 96,
    "start_time": "2023-10-08T09:51:01.714Z"
   },
   {
    "duration": 435,
    "start_time": "2023-10-08T09:51:01.811Z"
   },
   {
    "duration": 256,
    "start_time": "2023-10-08T09:51:02.250Z"
   },
   {
    "duration": 8,
    "start_time": "2023-10-08T09:51:02.508Z"
   },
   {
    "duration": 20,
    "start_time": "2023-10-08T09:51:02.517Z"
   },
   {
    "duration": 21,
    "start_time": "2023-10-08T09:51:02.539Z"
   },
   {
    "duration": 40,
    "start_time": "2023-10-08T09:51:02.561Z"
   },
   {
    "duration": 380,
    "start_time": "2023-10-08T09:51:02.602Z"
   },
   {
    "duration": 7,
    "start_time": "2023-10-08T09:51:02.984Z"
   },
   {
    "duration": 20,
    "start_time": "2023-10-08T09:51:02.992Z"
   },
   {
    "duration": 30,
    "start_time": "2023-10-08T09:51:03.013Z"
   },
   {
    "duration": 31,
    "start_time": "2023-10-08T09:51:03.045Z"
   },
   {
    "duration": 212,
    "start_time": "2023-10-08T09:51:03.078Z"
   },
   {
    "duration": 200,
    "start_time": "2023-10-08T09:51:03.292Z"
   },
   {
    "duration": 308,
    "start_time": "2023-10-08T09:54:16.425Z"
   },
   {
    "duration": 9,
    "start_time": "2023-10-08T09:59:10.835Z"
   },
   {
    "duration": 340,
    "start_time": "2023-10-08T10:01:07.193Z"
   },
   {
    "duration": 173,
    "start_time": "2023-10-08T10:01:34.393Z"
   },
   {
    "duration": 168,
    "start_time": "2023-10-08T10:01:44.173Z"
   },
   {
    "duration": 1739,
    "start_time": "2023-10-08T10:08:14.736Z"
   },
   {
    "duration": 1479,
    "start_time": "2023-10-08T10:08:41.558Z"
   },
   {
    "duration": 12,
    "start_time": "2023-10-08T10:08:48.429Z"
   },
   {
    "duration": 9,
    "start_time": "2023-10-08T10:08:57.561Z"
   },
   {
    "duration": 9,
    "start_time": "2023-10-08T10:08:59.891Z"
   },
   {
    "duration": 7,
    "start_time": "2023-10-08T10:09:26.212Z"
   },
   {
    "duration": 8,
    "start_time": "2023-10-08T10:09:51.973Z"
   },
   {
    "duration": 9,
    "start_time": "2023-10-08T10:10:19.233Z"
   },
   {
    "duration": 3,
    "start_time": "2023-10-08T10:11:55.322Z"
   },
   {
    "duration": 9,
    "start_time": "2023-10-08T10:12:13.962Z"
   },
   {
    "duration": 5,
    "start_time": "2023-10-08T10:13:29.174Z"
   },
   {
    "duration": 5,
    "start_time": "2023-10-08T10:13:29.682Z"
   },
   {
    "duration": 7,
    "start_time": "2023-10-08T10:13:31.565Z"
   },
   {
    "duration": 10,
    "start_time": "2023-10-08T10:13:32.079Z"
   },
   {
    "duration": 1256,
    "start_time": "2023-10-08T10:13:51.668Z"
   },
   {
    "duration": 55,
    "start_time": "2023-10-08T10:13:52.926Z"
   },
   {
    "duration": 84,
    "start_time": "2023-10-08T10:13:52.984Z"
   },
   {
    "duration": 2003,
    "start_time": "2023-10-08T10:13:53.070Z"
   },
   {
    "duration": 28,
    "start_time": "2023-10-08T10:13:55.076Z"
   },
   {
    "duration": 16,
    "start_time": "2023-10-08T10:13:55.106Z"
   },
   {
    "duration": 68,
    "start_time": "2023-10-08T10:13:55.124Z"
   },
   {
    "duration": 10,
    "start_time": "2023-10-08T10:13:55.193Z"
   },
   {
    "duration": 135,
    "start_time": "2023-10-08T10:13:55.205Z"
   },
   {
    "duration": 28,
    "start_time": "2023-10-08T10:13:55.342Z"
   },
   {
    "duration": 176,
    "start_time": "2023-10-08T10:13:55.376Z"
   },
   {
    "duration": 12,
    "start_time": "2023-10-08T10:13:55.554Z"
   },
   {
    "duration": 11,
    "start_time": "2023-10-08T10:13:55.572Z"
   },
   {
    "duration": 27,
    "start_time": "2023-10-08T10:13:55.588Z"
   },
   {
    "duration": 39,
    "start_time": "2023-10-08T10:13:55.616Z"
   },
   {
    "duration": 181,
    "start_time": "2023-10-08T10:13:55.656Z"
   },
   {
    "duration": 12,
    "start_time": "2023-10-08T10:13:55.838Z"
   },
   {
    "duration": 30,
    "start_time": "2023-10-08T10:13:55.852Z"
   },
   {
    "duration": 18,
    "start_time": "2023-10-08T10:13:55.883Z"
   },
   {
    "duration": 14,
    "start_time": "2023-10-08T10:13:55.903Z"
   },
   {
    "duration": 25,
    "start_time": "2023-10-08T10:13:55.919Z"
   },
   {
    "duration": 8,
    "start_time": "2023-10-08T10:13:55.947Z"
   },
   {
    "duration": 6,
    "start_time": "2023-10-08T10:13:55.956Z"
   },
   {
    "duration": 13,
    "start_time": "2023-10-08T10:13:55.964Z"
   },
   {
    "duration": 13,
    "start_time": "2023-10-08T10:13:55.981Z"
   },
   {
    "duration": 16,
    "start_time": "2023-10-08T10:13:55.998Z"
   },
   {
    "duration": 23,
    "start_time": "2023-10-08T10:13:56.016Z"
   },
   {
    "duration": 18,
    "start_time": "2023-10-08T10:13:56.040Z"
   },
   {
    "duration": 23,
    "start_time": "2023-10-08T10:13:56.060Z"
   },
   {
    "duration": 11,
    "start_time": "2023-10-08T10:13:56.087Z"
   },
   {
    "duration": 28,
    "start_time": "2023-10-08T10:13:56.099Z"
   },
   {
    "duration": 36,
    "start_time": "2023-10-08T10:13:56.129Z"
   },
   {
    "duration": 149,
    "start_time": "2023-10-08T10:13:56.168Z"
   },
   {
    "duration": 13,
    "start_time": "2023-10-08T10:13:56.320Z"
   },
   {
    "duration": 6,
    "start_time": "2023-10-08T10:13:56.335Z"
   },
   {
    "duration": 40,
    "start_time": "2023-10-08T10:13:56.349Z"
   },
   {
    "duration": 9,
    "start_time": "2023-10-08T10:13:56.391Z"
   },
   {
    "duration": 13,
    "start_time": "2023-10-08T10:13:56.402Z"
   },
   {
    "duration": 38,
    "start_time": "2023-10-08T10:13:56.416Z"
   },
   {
    "duration": 24,
    "start_time": "2023-10-08T10:13:56.456Z"
   },
   {
    "duration": 10,
    "start_time": "2023-10-08T10:13:56.485Z"
   },
   {
    "duration": 37,
    "start_time": "2023-10-08T10:13:56.496Z"
   },
   {
    "duration": 18,
    "start_time": "2023-10-08T10:13:56.535Z"
   },
   {
    "duration": 16,
    "start_time": "2023-10-08T10:13:56.554Z"
   },
   {
    "duration": 34,
    "start_time": "2023-10-08T10:13:56.572Z"
   },
   {
    "duration": 432,
    "start_time": "2023-10-08T10:13:56.608Z"
   },
   {
    "duration": 264,
    "start_time": "2023-10-08T10:13:57.042Z"
   },
   {
    "duration": 8,
    "start_time": "2023-10-08T10:13:57.308Z"
   },
   {
    "duration": 18,
    "start_time": "2023-10-08T10:13:57.317Z"
   },
   {
    "duration": 16,
    "start_time": "2023-10-08T10:13:57.337Z"
   },
   {
    "duration": 26,
    "start_time": "2023-10-08T10:13:57.354Z"
   },
   {
    "duration": 401,
    "start_time": "2023-10-08T10:13:57.385Z"
   },
   {
    "duration": 9,
    "start_time": "2023-10-08T10:13:57.787Z"
   },
   {
    "duration": 18,
    "start_time": "2023-10-08T10:13:57.798Z"
   },
   {
    "duration": 17,
    "start_time": "2023-10-08T10:13:57.817Z"
   },
   {
    "duration": 20,
    "start_time": "2023-10-08T10:13:57.835Z"
   },
   {
    "duration": 235,
    "start_time": "2023-10-08T10:13:57.856Z"
   },
   {
    "duration": 11,
    "start_time": "2023-10-08T10:13:58.093Z"
   },
   {
    "duration": 208,
    "start_time": "2023-10-08T10:13:58.106Z"
   },
   {
    "duration": 7,
    "start_time": "2023-10-08T10:13:58.316Z"
   },
   {
    "duration": 47,
    "start_time": "2023-10-08T10:13:58.324Z"
   },
   {
    "duration": 18,
    "start_time": "2023-10-08T10:13:58.372Z"
   },
   {
    "duration": 9,
    "start_time": "2023-10-08T10:13:58.391Z"
   },
   {
    "duration": 3,
    "start_time": "2023-10-08T10:15:03.925Z"
   },
   {
    "duration": 11,
    "start_time": "2023-10-08T10:15:04.458Z"
   },
   {
    "duration": 9,
    "start_time": "2023-10-08T10:15:09.484Z"
   },
   {
    "duration": 88,
    "start_time": "2023-10-08T10:15:56.687Z"
   },
   {
    "duration": 23,
    "start_time": "2023-10-08T10:17:01.427Z"
   },
   {
    "duration": 11,
    "start_time": "2023-10-08T10:17:47.553Z"
   },
   {
    "duration": 8,
    "start_time": "2023-10-08T10:18:05.508Z"
   },
   {
    "duration": 8,
    "start_time": "2023-10-08T10:18:42.145Z"
   },
   {
    "duration": 6,
    "start_time": "2023-10-08T10:20:03.096Z"
   },
   {
    "duration": 12,
    "start_time": "2023-10-08T10:20:07.869Z"
   },
   {
    "duration": 1276,
    "start_time": "2023-10-08T10:20:23.116Z"
   },
   {
    "duration": 38,
    "start_time": "2023-10-08T10:20:24.394Z"
   },
   {
    "duration": 109,
    "start_time": "2023-10-08T10:20:24.434Z"
   },
   {
    "duration": 2087,
    "start_time": "2023-10-08T10:20:24.545Z"
   },
   {
    "duration": 35,
    "start_time": "2023-10-08T10:20:26.634Z"
   },
   {
    "duration": 18,
    "start_time": "2023-10-08T10:20:26.670Z"
   },
   {
    "duration": 41,
    "start_time": "2023-10-08T10:20:26.689Z"
   },
   {
    "duration": 10,
    "start_time": "2023-10-08T10:20:26.731Z"
   },
   {
    "duration": 129,
    "start_time": "2023-10-08T10:20:26.742Z"
   },
   {
    "duration": 15,
    "start_time": "2023-10-08T10:20:26.880Z"
   },
   {
    "duration": 202,
    "start_time": "2023-10-08T10:20:26.896Z"
   },
   {
    "duration": 9,
    "start_time": "2023-10-08T10:20:27.100Z"
   },
   {
    "duration": 65,
    "start_time": "2023-10-08T10:20:27.111Z"
   },
   {
    "duration": 43,
    "start_time": "2023-10-08T10:20:27.179Z"
   },
   {
    "duration": 270,
    "start_time": "2023-10-08T10:20:27.224Z"
   },
   {
    "duration": 228,
    "start_time": "2023-10-08T10:20:27.496Z"
   },
   {
    "duration": 5,
    "start_time": "2023-10-08T10:20:27.725Z"
   },
   {
    "duration": 46,
    "start_time": "2023-10-08T10:20:27.731Z"
   },
   {
    "duration": 18,
    "start_time": "2023-10-08T10:20:27.779Z"
   },
   {
    "duration": 22,
    "start_time": "2023-10-08T10:20:27.799Z"
   },
   {
    "duration": 40,
    "start_time": "2023-10-08T10:20:27.822Z"
   },
   {
    "duration": 23,
    "start_time": "2023-10-08T10:20:27.867Z"
   },
   {
    "duration": 64,
    "start_time": "2023-10-08T10:20:27.892Z"
   },
   {
    "duration": 43,
    "start_time": "2023-10-08T10:20:27.957Z"
   },
   {
    "duration": 69,
    "start_time": "2023-10-08T10:20:28.001Z"
   },
   {
    "duration": 45,
    "start_time": "2023-10-08T10:20:28.072Z"
   },
   {
    "duration": 22,
    "start_time": "2023-10-08T10:20:28.119Z"
   },
   {
    "duration": 153,
    "start_time": "2023-10-08T10:20:28.143Z"
   },
   {
    "duration": 113,
    "start_time": "2023-10-08T10:20:28.298Z"
   },
   {
    "duration": 36,
    "start_time": "2023-10-08T10:20:28.413Z"
   },
   {
    "duration": 43,
    "start_time": "2023-10-08T10:20:28.452Z"
   },
   {
    "duration": 43,
    "start_time": "2023-10-08T10:20:28.497Z"
   },
   {
    "duration": 174,
    "start_time": "2023-10-08T10:20:28.541Z"
   },
   {
    "duration": 11,
    "start_time": "2023-10-08T10:20:28.717Z"
   },
   {
    "duration": 21,
    "start_time": "2023-10-08T10:20:28.730Z"
   },
   {
    "duration": 27,
    "start_time": "2023-10-08T10:20:28.753Z"
   },
   {
    "duration": 18,
    "start_time": "2023-10-08T10:20:28.781Z"
   },
   {
    "duration": 18,
    "start_time": "2023-10-08T10:20:28.801Z"
   },
   {
    "duration": 57,
    "start_time": "2023-10-08T10:20:28.820Z"
   },
   {
    "duration": 22,
    "start_time": "2023-10-08T10:20:28.879Z"
   },
   {
    "duration": 42,
    "start_time": "2023-10-08T10:20:28.904Z"
   },
   {
    "duration": 64,
    "start_time": "2023-10-08T10:20:28.947Z"
   },
   {
    "duration": 5,
    "start_time": "2023-10-08T10:20:29.012Z"
   },
   {
    "duration": 38,
    "start_time": "2023-10-08T10:20:29.018Z"
   },
   {
    "duration": 46,
    "start_time": "2023-10-08T10:20:29.062Z"
   },
   {
    "duration": 464,
    "start_time": "2023-10-08T10:20:29.109Z"
   },
   {
    "duration": 281,
    "start_time": "2023-10-08T10:20:29.575Z"
   },
   {
    "duration": 12,
    "start_time": "2023-10-08T10:20:29.858Z"
   },
   {
    "duration": 24,
    "start_time": "2023-10-08T10:20:29.872Z"
   },
   {
    "duration": 27,
    "start_time": "2023-10-08T10:20:29.898Z"
   },
   {
    "duration": 40,
    "start_time": "2023-10-08T10:20:29.927Z"
   },
   {
    "duration": 430,
    "start_time": "2023-10-08T10:20:29.971Z"
   },
   {
    "duration": 8,
    "start_time": "2023-10-08T10:20:30.403Z"
   },
   {
    "duration": 60,
    "start_time": "2023-10-08T10:20:30.413Z"
   },
   {
    "duration": 26,
    "start_time": "2023-10-08T10:20:30.481Z"
   },
   {
    "duration": 133,
    "start_time": "2023-10-08T10:20:30.508Z"
   },
   {
    "duration": 279,
    "start_time": "2023-10-08T10:20:30.643Z"
   },
   {
    "duration": 9,
    "start_time": "2023-10-08T10:20:30.924Z"
   },
   {
    "duration": 444,
    "start_time": "2023-10-08T10:20:30.934Z"
   },
   {
    "duration": 12,
    "start_time": "2023-10-08T10:20:31.384Z"
   },
   {
    "duration": 52,
    "start_time": "2023-10-08T10:20:31.398Z"
   },
   {
    "duration": 79,
    "start_time": "2023-10-08T10:20:31.457Z"
   },
   {
    "duration": 82,
    "start_time": "2023-10-08T10:20:31.537Z"
   },
   {
    "duration": 7,
    "start_time": "2023-10-08T10:21:02.897Z"
   },
   {
    "duration": 8,
    "start_time": "2023-10-08T10:21:14.139Z"
   },
   {
    "duration": 8,
    "start_time": "2023-10-08T10:21:29.782Z"
   },
   {
    "duration": 12,
    "start_time": "2023-10-08T10:21:34.184Z"
   },
   {
    "duration": 13,
    "start_time": "2023-10-08T10:21:57.609Z"
   },
   {
    "duration": 13,
    "start_time": "2023-10-08T10:22:31.697Z"
   },
   {
    "duration": 1471,
    "start_time": "2023-10-08T10:22:53.230Z"
   },
   {
    "duration": 39,
    "start_time": "2023-10-08T10:22:54.703Z"
   },
   {
    "duration": 92,
    "start_time": "2023-10-08T10:22:54.743Z"
   },
   {
    "duration": 2175,
    "start_time": "2023-10-08T10:22:54.837Z"
   },
   {
    "duration": 25,
    "start_time": "2023-10-08T10:22:57.015Z"
   },
   {
    "duration": 14,
    "start_time": "2023-10-08T10:22:57.041Z"
   },
   {
    "duration": 59,
    "start_time": "2023-10-08T10:22:57.058Z"
   },
   {
    "duration": 8,
    "start_time": "2023-10-08T10:22:57.118Z"
   },
   {
    "duration": 155,
    "start_time": "2023-10-08T10:22:57.128Z"
   },
   {
    "duration": 6,
    "start_time": "2023-10-08T10:22:57.284Z"
   },
   {
    "duration": 186,
    "start_time": "2023-10-08T10:22:57.293Z"
   },
   {
    "duration": 15,
    "start_time": "2023-10-08T10:22:57.482Z"
   },
   {
    "duration": 17,
    "start_time": "2023-10-08T10:22:57.499Z"
   },
   {
    "duration": 10,
    "start_time": "2023-10-08T10:22:57.519Z"
   },
   {
    "duration": 45,
    "start_time": "2023-10-08T10:22:57.531Z"
   },
   {
    "duration": 165,
    "start_time": "2023-10-08T10:22:57.578Z"
   },
   {
    "duration": 6,
    "start_time": "2023-10-08T10:22:57.745Z"
   },
   {
    "duration": 22,
    "start_time": "2023-10-08T10:22:57.756Z"
   },
   {
    "duration": 22,
    "start_time": "2023-10-08T10:22:57.780Z"
   },
   {
    "duration": 20,
    "start_time": "2023-10-08T10:22:57.803Z"
   },
   {
    "duration": 16,
    "start_time": "2023-10-08T10:22:57.824Z"
   },
   {
    "duration": 33,
    "start_time": "2023-10-08T10:22:57.841Z"
   },
   {
    "duration": 16,
    "start_time": "2023-10-08T10:22:57.876Z"
   },
   {
    "duration": 27,
    "start_time": "2023-10-08T10:22:57.893Z"
   },
   {
    "duration": 20,
    "start_time": "2023-10-08T10:22:57.922Z"
   },
   {
    "duration": 25,
    "start_time": "2023-10-08T10:22:57.944Z"
   },
   {
    "duration": 31,
    "start_time": "2023-10-08T10:22:57.970Z"
   },
   {
    "duration": 12,
    "start_time": "2023-10-08T10:22:58.002Z"
   },
   {
    "duration": 25,
    "start_time": "2023-10-08T10:22:58.015Z"
   },
   {
    "duration": 28,
    "start_time": "2023-10-08T10:22:58.042Z"
   },
   {
    "duration": 26,
    "start_time": "2023-10-08T10:22:58.071Z"
   },
   {
    "duration": 14,
    "start_time": "2023-10-08T10:22:58.098Z"
   },
   {
    "duration": 130,
    "start_time": "2023-10-08T10:22:58.114Z"
   },
   {
    "duration": 18,
    "start_time": "2023-10-08T10:22:58.246Z"
   },
   {
    "duration": 20,
    "start_time": "2023-10-08T10:22:58.275Z"
   },
   {
    "duration": 12,
    "start_time": "2023-10-08T10:22:58.296Z"
   },
   {
    "duration": 6,
    "start_time": "2023-10-08T10:22:58.309Z"
   },
   {
    "duration": 38,
    "start_time": "2023-10-08T10:22:58.316Z"
   },
   {
    "duration": 47,
    "start_time": "2023-10-08T10:22:58.356Z"
   },
   {
    "duration": 17,
    "start_time": "2023-10-08T10:22:58.404Z"
   },
   {
    "duration": 18,
    "start_time": "2023-10-08T10:22:58.425Z"
   },
   {
    "duration": 57,
    "start_time": "2023-10-08T10:22:58.444Z"
   },
   {
    "duration": 4,
    "start_time": "2023-10-08T10:22:58.503Z"
   },
   {
    "duration": 18,
    "start_time": "2023-10-08T10:22:58.509Z"
   },
   {
    "duration": 53,
    "start_time": "2023-10-08T10:22:58.528Z"
   },
   {
    "duration": 420,
    "start_time": "2023-10-08T10:22:58.583Z"
   },
   {
    "duration": 280,
    "start_time": "2023-10-08T10:22:59.005Z"
   },
   {
    "duration": 9,
    "start_time": "2023-10-08T10:22:59.291Z"
   },
   {
    "duration": 19,
    "start_time": "2023-10-08T10:22:59.301Z"
   },
   {
    "duration": 18,
    "start_time": "2023-10-08T10:22:59.322Z"
   },
   {
    "duration": 36,
    "start_time": "2023-10-08T10:22:59.341Z"
   },
   {
    "duration": 439,
    "start_time": "2023-10-08T10:22:59.379Z"
   },
   {
    "duration": 9,
    "start_time": "2023-10-08T10:22:59.820Z"
   },
   {
    "duration": 11,
    "start_time": "2023-10-08T10:22:59.830Z"
   },
   {
    "duration": 16,
    "start_time": "2023-10-08T10:22:59.853Z"
   },
   {
    "duration": 26,
    "start_time": "2023-10-08T10:22:59.873Z"
   },
   {
    "duration": 221,
    "start_time": "2023-10-08T10:22:59.900Z"
   },
   {
    "duration": 8,
    "start_time": "2023-10-08T10:23:00.122Z"
   },
   {
    "duration": 266,
    "start_time": "2023-10-08T10:23:00.132Z"
   },
   {
    "duration": 7,
    "start_time": "2023-10-08T10:23:00.400Z"
   },
   {
    "duration": 90,
    "start_time": "2023-10-08T10:23:00.408Z"
   },
   {
    "duration": 40,
    "start_time": "2023-10-08T10:23:00.499Z"
   },
   {
    "duration": 205,
    "start_time": "2023-10-08T10:31:50.181Z"
   },
   {
    "duration": 220,
    "start_time": "2023-10-08T10:32:09.127Z"
   },
   {
    "duration": 106,
    "start_time": "2023-10-08T10:33:24.009Z"
   },
   {
    "duration": 15,
    "start_time": "2023-10-08T10:33:48.471Z"
   },
   {
    "duration": 20,
    "start_time": "2023-10-08T10:34:01.769Z"
   },
   {
    "duration": 2216,
    "start_time": "2023-10-08T10:34:39.693Z"
   },
   {
    "duration": 293,
    "start_time": "2023-10-08T10:34:55.039Z"
   },
   {
    "duration": 219,
    "start_time": "2023-10-08T10:36:20.485Z"
   },
   {
    "duration": 1984,
    "start_time": "2023-10-08T10:36:40.619Z"
   },
   {
    "duration": 178,
    "start_time": "2023-10-08T10:37:01.612Z"
   },
   {
    "duration": 229,
    "start_time": "2023-10-08T10:37:35.301Z"
   },
   {
    "duration": 19,
    "start_time": "2023-10-08T10:37:46.077Z"
   },
   {
    "duration": 17,
    "start_time": "2023-10-08T10:38:09.791Z"
   },
   {
    "duration": 9,
    "start_time": "2023-10-08T10:38:41.333Z"
   },
   {
    "duration": 173,
    "start_time": "2023-10-08T10:38:47.545Z"
   },
   {
    "duration": 14,
    "start_time": "2023-10-08T10:44:03.605Z"
   },
   {
    "duration": 10,
    "start_time": "2023-10-08T10:44:06.299Z"
   },
   {
    "duration": 11,
    "start_time": "2023-10-08T10:44:13.062Z"
   },
   {
    "duration": 6,
    "start_time": "2023-10-08T10:46:26.995Z"
   },
   {
    "duration": 1535,
    "start_time": "2023-10-08T10:47:00.606Z"
   },
   {
    "duration": 8,
    "start_time": "2023-10-08T10:47:09.573Z"
   },
   {
    "duration": 14,
    "start_time": "2023-10-08T10:47:24.863Z"
   },
   {
    "duration": 16,
    "start_time": "2023-10-08T10:47:54.026Z"
   },
   {
    "duration": 8,
    "start_time": "2023-10-08T10:47:59.864Z"
   },
   {
    "duration": 9,
    "start_time": "2023-10-08T10:48:11.776Z"
   },
   {
    "duration": 9,
    "start_time": "2023-10-08T10:48:16.189Z"
   },
   {
    "duration": 11,
    "start_time": "2023-10-08T10:52:35.343Z"
   },
   {
    "duration": 31,
    "start_time": "2023-10-08T10:52:39.541Z"
   },
   {
    "duration": 205,
    "start_time": "2023-10-08T10:55:59.817Z"
   },
   {
    "duration": 283,
    "start_time": "2023-10-08T10:56:04.382Z"
   },
   {
    "duration": 1589,
    "start_time": "2023-10-08T10:56:08.824Z"
   },
   {
    "duration": 170,
    "start_time": "2023-10-08T10:56:13.600Z"
   },
   {
    "duration": 205,
    "start_time": "2023-10-08T10:56:18.103Z"
   },
   {
    "duration": 419,
    "start_time": "2023-10-08T10:56:30.977Z"
   },
   {
    "duration": 209,
    "start_time": "2023-10-08T10:57:31.185Z"
   },
   {
    "duration": 1911,
    "start_time": "2023-10-08T10:58:16.329Z"
   },
   {
    "duration": 207,
    "start_time": "2023-10-08T10:58:36.930Z"
   },
   {
    "duration": 217,
    "start_time": "2023-10-08T10:58:45.223Z"
   },
   {
    "duration": 411,
    "start_time": "2023-10-08T10:58:51.709Z"
   },
   {
    "duration": 191,
    "start_time": "2023-10-08T10:58:54.532Z"
   },
   {
    "duration": 22,
    "start_time": "2023-10-08T11:06:08.400Z"
   },
   {
    "duration": 16,
    "start_time": "2023-10-08T11:07:46.203Z"
   },
   {
    "duration": 11,
    "start_time": "2023-10-08T11:07:55.996Z"
   },
   {
    "duration": 11,
    "start_time": "2023-10-08T11:08:04.829Z"
   },
   {
    "duration": 2056,
    "start_time": "2023-10-08T11:08:59.322Z"
   },
   {
    "duration": 215,
    "start_time": "2023-10-08T11:09:15.023Z"
   },
   {
    "duration": 232,
    "start_time": "2023-10-08T11:09:34.981Z"
   },
   {
    "duration": 310,
    "start_time": "2023-10-08T11:09:42.192Z"
   },
   {
    "duration": 419,
    "start_time": "2023-10-08T11:09:46.365Z"
   },
   {
    "duration": 410,
    "start_time": "2023-10-08T11:11:17.636Z"
   },
   {
    "duration": 332,
    "start_time": "2023-10-08T11:11:21.879Z"
   },
   {
    "duration": 384,
    "start_time": "2023-10-08T11:11:45.708Z"
   },
   {
    "duration": 11,
    "start_time": "2023-10-08T11:14:24.108Z"
   },
   {
    "duration": 311,
    "start_time": "2023-10-08T11:14:28.471Z"
   },
   {
    "duration": 11,
    "start_time": "2023-10-08T11:15:44.681Z"
   },
   {
    "duration": 11,
    "start_time": "2023-10-08T11:15:48.992Z"
   },
   {
    "duration": 6,
    "start_time": "2023-10-08T11:20:04.736Z"
   },
   {
    "duration": 5,
    "start_time": "2023-10-08T11:20:17.586Z"
   },
   {
    "duration": 30,
    "start_time": "2023-10-08T11:25:53.277Z"
   },
   {
    "duration": 16,
    "start_time": "2023-10-08T11:27:02.920Z"
   },
   {
    "duration": 9,
    "start_time": "2023-10-08T11:28:12.377Z"
   },
   {
    "duration": 9,
    "start_time": "2023-10-08T11:28:15.778Z"
   },
   {
    "duration": 18,
    "start_time": "2023-10-08T11:28:21.875Z"
   },
   {
    "duration": 1426,
    "start_time": "2023-10-08T11:29:55.283Z"
   },
   {
    "duration": 43,
    "start_time": "2023-10-08T11:29:56.711Z"
   },
   {
    "duration": 78,
    "start_time": "2023-10-08T11:29:56.756Z"
   },
   {
    "duration": 2044,
    "start_time": "2023-10-08T11:29:56.835Z"
   },
   {
    "duration": 32,
    "start_time": "2023-10-08T11:29:58.881Z"
   },
   {
    "duration": 9,
    "start_time": "2023-10-08T11:29:58.914Z"
   },
   {
    "duration": 70,
    "start_time": "2023-10-08T11:29:58.925Z"
   },
   {
    "duration": 11,
    "start_time": "2023-10-08T11:29:58.997Z"
   },
   {
    "duration": 138,
    "start_time": "2023-10-08T11:29:59.010Z"
   },
   {
    "duration": 19,
    "start_time": "2023-10-08T11:29:59.156Z"
   },
   {
    "duration": 188,
    "start_time": "2023-10-08T11:29:59.177Z"
   },
   {
    "duration": 18,
    "start_time": "2023-10-08T11:29:59.372Z"
   },
   {
    "duration": 6,
    "start_time": "2023-10-08T11:29:59.392Z"
   },
   {
    "duration": 7,
    "start_time": "2023-10-08T11:29:59.401Z"
   },
   {
    "duration": 27,
    "start_time": "2023-10-08T11:29:59.409Z"
   },
   {
    "duration": 188,
    "start_time": "2023-10-08T11:29:59.437Z"
   },
   {
    "duration": 5,
    "start_time": "2023-10-08T11:29:59.626Z"
   },
   {
    "duration": 44,
    "start_time": "2023-10-08T11:29:59.632Z"
   },
   {
    "duration": 6,
    "start_time": "2023-10-08T11:29:59.678Z"
   },
   {
    "duration": 23,
    "start_time": "2023-10-08T11:29:59.685Z"
   },
   {
    "duration": 13,
    "start_time": "2023-10-08T11:29:59.709Z"
   },
   {
    "duration": 13,
    "start_time": "2023-10-08T11:29:59.724Z"
   },
   {
    "duration": 40,
    "start_time": "2023-10-08T11:29:59.738Z"
   },
   {
    "duration": 14,
    "start_time": "2023-10-08T11:29:59.780Z"
   },
   {
    "duration": 11,
    "start_time": "2023-10-08T11:29:59.796Z"
   },
   {
    "duration": 22,
    "start_time": "2023-10-08T11:29:59.808Z"
   },
   {
    "duration": 23,
    "start_time": "2023-10-08T11:29:59.832Z"
   },
   {
    "duration": 33,
    "start_time": "2023-10-08T11:29:59.856Z"
   },
   {
    "duration": 379,
    "start_time": "2023-10-08T11:29:59.891Z"
   },
   {
    "duration": 102,
    "start_time": "2023-10-08T11:30:00.272Z"
   },
   {
    "duration": 85,
    "start_time": "2023-10-08T11:30:00.375Z"
   },
   {
    "duration": 68,
    "start_time": "2023-10-08T11:30:00.461Z"
   },
   {
    "duration": 163,
    "start_time": "2023-10-08T11:30:00.530Z"
   },
   {
    "duration": 13,
    "start_time": "2023-10-08T11:30:00.695Z"
   },
   {
    "duration": 34,
    "start_time": "2023-10-08T11:30:00.710Z"
   },
   {
    "duration": 95,
    "start_time": "2023-10-08T11:30:00.746Z"
   },
   {
    "duration": 41,
    "start_time": "2023-10-08T11:30:00.843Z"
   },
   {
    "duration": 97,
    "start_time": "2023-10-08T11:30:00.885Z"
   },
   {
    "duration": 79,
    "start_time": "2023-10-08T11:30:00.983Z"
   },
   {
    "duration": 54,
    "start_time": "2023-10-08T11:30:01.064Z"
   },
   {
    "duration": 61,
    "start_time": "2023-10-08T11:30:01.122Z"
   },
   {
    "duration": 114,
    "start_time": "2023-10-08T11:30:01.184Z"
   },
   {
    "duration": 25,
    "start_time": "2023-10-08T11:30:01.301Z"
   },
   {
    "duration": 50,
    "start_time": "2023-10-08T11:30:01.328Z"
   },
   {
    "duration": 120,
    "start_time": "2023-10-08T11:30:01.380Z"
   },
   {
    "duration": 515,
    "start_time": "2023-10-08T11:30:01.502Z"
   },
   {
    "duration": 280,
    "start_time": "2023-10-08T11:30:02.019Z"
   },
   {
    "duration": 11,
    "start_time": "2023-10-08T11:30:02.301Z"
   },
   {
    "duration": 56,
    "start_time": "2023-10-08T11:30:02.313Z"
   },
   {
    "duration": 21,
    "start_time": "2023-10-08T11:30:02.371Z"
   },
   {
    "duration": 48,
    "start_time": "2023-10-08T11:30:02.394Z"
   },
   {
    "duration": 460,
    "start_time": "2023-10-08T11:30:02.444Z"
   },
   {
    "duration": 11,
    "start_time": "2023-10-08T11:30:02.905Z"
   },
   {
    "duration": 38,
    "start_time": "2023-10-08T11:30:02.918Z"
   },
   {
    "duration": 35,
    "start_time": "2023-10-08T11:30:02.957Z"
   },
   {
    "duration": 22,
    "start_time": "2023-10-08T11:30:02.994Z"
   },
   {
    "duration": 218,
    "start_time": "2023-10-08T11:30:03.018Z"
   },
   {
    "duration": 18,
    "start_time": "2023-10-08T11:30:03.237Z"
   },
   {
    "duration": 237,
    "start_time": "2023-10-08T11:30:03.258Z"
   },
   {
    "duration": 204,
    "start_time": "2023-10-08T11:30:03.497Z"
   },
   {
    "duration": 8,
    "start_time": "2023-10-08T11:30:03.703Z"
   },
   {
    "duration": 48,
    "start_time": "2023-10-08T11:30:03.713Z"
   },
   {
    "duration": 34,
    "start_time": "2023-10-08T11:30:03.763Z"
   },
   {
    "duration": 29,
    "start_time": "2023-10-08T11:30:03.799Z"
   },
   {
    "duration": 335,
    "start_time": "2023-10-08T11:30:03.830Z"
   },
   {
    "duration": 155,
    "start_time": "2023-10-08T11:30:04.167Z"
   },
   {
    "duration": 30,
    "start_time": "2023-10-08T11:30:04.323Z"
   },
   {
    "duration": 30,
    "start_time": "2023-10-08T11:30:04.355Z"
   },
   {
    "duration": 338,
    "start_time": "2023-10-08T11:30:04.386Z"
   },
   {
    "duration": 332,
    "start_time": "2023-10-08T11:30:04.725Z"
   },
   {
    "duration": 26,
    "start_time": "2023-10-08T11:30:05.060Z"
   },
   {
    "duration": 1376,
    "start_time": "2023-10-08T11:31:28.292Z"
   },
   {
    "duration": 46,
    "start_time": "2023-10-08T11:31:29.670Z"
   },
   {
    "duration": 88,
    "start_time": "2023-10-08T11:31:29.718Z"
   },
   {
    "duration": 2004,
    "start_time": "2023-10-08T11:31:29.809Z"
   },
   {
    "duration": 25,
    "start_time": "2023-10-08T11:31:31.815Z"
   },
   {
    "duration": 33,
    "start_time": "2023-10-08T11:31:31.842Z"
   },
   {
    "duration": 72,
    "start_time": "2023-10-08T11:31:31.876Z"
   },
   {
    "duration": 45,
    "start_time": "2023-10-08T11:31:31.950Z"
   },
   {
    "duration": 173,
    "start_time": "2023-10-08T11:31:31.997Z"
   },
   {
    "duration": 7,
    "start_time": "2023-10-08T11:31:32.179Z"
   },
   {
    "duration": 288,
    "start_time": "2023-10-08T11:31:32.188Z"
   },
   {
    "duration": 12,
    "start_time": "2023-10-08T11:31:32.480Z"
   },
   {
    "duration": 37,
    "start_time": "2023-10-08T11:31:32.493Z"
   },
   {
    "duration": 17,
    "start_time": "2023-10-08T11:31:32.531Z"
   },
   {
    "duration": 29,
    "start_time": "2023-10-08T11:31:32.549Z"
   },
   {
    "duration": 163,
    "start_time": "2023-10-08T11:31:32.580Z"
   },
   {
    "duration": 23,
    "start_time": "2023-10-08T11:31:32.745Z"
   },
   {
    "duration": 33,
    "start_time": "2023-10-08T11:31:32.770Z"
   },
   {
    "duration": 20,
    "start_time": "2023-10-08T11:31:32.805Z"
   },
   {
    "duration": 38,
    "start_time": "2023-10-08T11:31:32.826Z"
   },
   {
    "duration": 28,
    "start_time": "2023-10-08T11:31:32.866Z"
   },
   {
    "duration": 25,
    "start_time": "2023-10-08T11:31:32.896Z"
   },
   {
    "duration": 35,
    "start_time": "2023-10-08T11:31:32.923Z"
   },
   {
    "duration": 23,
    "start_time": "2023-10-08T11:31:32.960Z"
   },
   {
    "duration": 12,
    "start_time": "2023-10-08T11:31:32.984Z"
   },
   {
    "duration": 12,
    "start_time": "2023-10-08T11:31:32.997Z"
   },
   {
    "duration": 9,
    "start_time": "2023-10-08T11:31:33.010Z"
   },
   {
    "duration": 31,
    "start_time": "2023-10-08T11:31:33.022Z"
   },
   {
    "duration": 30,
    "start_time": "2023-10-08T11:31:33.054Z"
   },
   {
    "duration": 9,
    "start_time": "2023-10-08T11:31:33.086Z"
   },
   {
    "duration": 15,
    "start_time": "2023-10-08T11:31:33.096Z"
   },
   {
    "duration": 24,
    "start_time": "2023-10-08T11:31:33.113Z"
   },
   {
    "duration": 138,
    "start_time": "2023-10-08T11:31:33.139Z"
   },
   {
    "duration": 13,
    "start_time": "2023-10-08T11:31:33.282Z"
   },
   {
    "duration": 23,
    "start_time": "2023-10-08T11:31:33.296Z"
   },
   {
    "duration": 25,
    "start_time": "2023-10-08T11:31:33.321Z"
   },
   {
    "duration": 26,
    "start_time": "2023-10-08T11:31:33.347Z"
   },
   {
    "duration": 21,
    "start_time": "2023-10-08T11:31:33.374Z"
   },
   {
    "duration": 42,
    "start_time": "2023-10-08T11:31:33.397Z"
   },
   {
    "duration": 29,
    "start_time": "2023-10-08T11:31:33.441Z"
   },
   {
    "duration": 17,
    "start_time": "2023-10-08T11:31:33.472Z"
   },
   {
    "duration": 66,
    "start_time": "2023-10-08T11:31:33.491Z"
   },
   {
    "duration": 21,
    "start_time": "2023-10-08T11:31:33.559Z"
   },
   {
    "duration": 59,
    "start_time": "2023-10-08T11:31:33.581Z"
   },
   {
    "duration": 43,
    "start_time": "2023-10-08T11:31:33.642Z"
   },
   {
    "duration": 445,
    "start_time": "2023-10-08T11:31:33.687Z"
   },
   {
    "duration": 261,
    "start_time": "2023-10-08T11:31:34.134Z"
   },
   {
    "duration": 9,
    "start_time": "2023-10-08T11:31:34.397Z"
   },
   {
    "duration": 10,
    "start_time": "2023-10-08T11:31:34.407Z"
   },
   {
    "duration": 37,
    "start_time": "2023-10-08T11:31:34.419Z"
   },
   {
    "duration": 14,
    "start_time": "2023-10-08T11:31:34.458Z"
   },
   {
    "duration": 413,
    "start_time": "2023-10-08T11:31:34.474Z"
   },
   {
    "duration": 9,
    "start_time": "2023-10-08T11:31:34.888Z"
   },
   {
    "duration": 221,
    "start_time": "2023-10-08T11:31:34.898Z"
   },
   {
    "duration": 28,
    "start_time": "2023-10-08T11:31:35.120Z"
   },
   {
    "duration": 78,
    "start_time": "2023-10-08T11:31:35.151Z"
   },
   {
    "duration": 315,
    "start_time": "2023-10-08T11:31:35.231Z"
   },
   {
    "duration": 22,
    "start_time": "2023-10-08T11:31:35.547Z"
   },
   {
    "duration": 341,
    "start_time": "2023-10-08T11:31:35.571Z"
   },
   {
    "duration": 249,
    "start_time": "2023-10-08T11:31:35.914Z"
   },
   {
    "duration": 16,
    "start_time": "2023-10-08T11:31:36.167Z"
   },
   {
    "duration": 95,
    "start_time": "2023-10-08T11:31:36.185Z"
   },
   {
    "duration": 79,
    "start_time": "2023-10-08T11:31:36.283Z"
   },
   {
    "duration": 45,
    "start_time": "2023-10-08T11:31:36.366Z"
   },
   {
    "duration": 363,
    "start_time": "2023-10-08T11:31:36.412Z"
   },
   {
    "duration": 148,
    "start_time": "2023-10-08T11:31:36.777Z"
   },
   {
    "duration": 49,
    "start_time": "2023-10-08T11:31:36.927Z"
   },
   {
    "duration": 35,
    "start_time": "2023-10-08T11:31:36.979Z"
   },
   {
    "duration": 485,
    "start_time": "2023-10-08T11:31:37.017Z"
   },
   {
    "duration": 331,
    "start_time": "2023-10-08T11:31:37.504Z"
   },
   {
    "duration": 37,
    "start_time": "2023-10-08T11:31:37.836Z"
   },
   {
    "duration": 42148,
    "start_time": "2023-10-08T11:31:37.875Z"
   },
   {
    "duration": 3,
    "start_time": "2023-10-08T11:34:14.809Z"
   },
   {
    "duration": 100,
    "start_time": "2023-10-08T11:34:28.079Z"
   },
   {
    "duration": 152,
    "start_time": "2023-10-08T11:34:43.942Z"
   },
   {
    "duration": 103,
    "start_time": "2023-10-08T11:34:48.635Z"
   },
   {
    "duration": 16,
    "start_time": "2023-10-08T11:35:01.996Z"
   },
   {
    "duration": 107,
    "start_time": "2023-10-08T11:35:55.172Z"
   },
   {
    "duration": 28,
    "start_time": "2023-10-08T11:36:05.269Z"
   },
   {
    "duration": 26,
    "start_time": "2023-10-08T11:36:32.379Z"
   },
   {
    "duration": 23,
    "start_time": "2023-10-08T11:37:25.203Z"
   },
   {
    "duration": 1265,
    "start_time": "2023-10-08T11:37:34.002Z"
   },
   {
    "duration": 51,
    "start_time": "2023-10-08T11:37:35.271Z"
   },
   {
    "duration": 95,
    "start_time": "2023-10-08T11:37:35.323Z"
   },
   {
    "duration": 2044,
    "start_time": "2023-10-08T11:37:35.420Z"
   },
   {
    "duration": 27,
    "start_time": "2023-10-08T11:37:37.467Z"
   },
   {
    "duration": 9,
    "start_time": "2023-10-08T11:37:37.496Z"
   },
   {
    "duration": 54,
    "start_time": "2023-10-08T11:37:37.507Z"
   },
   {
    "duration": 9,
    "start_time": "2023-10-08T11:37:37.566Z"
   },
   {
    "duration": 115,
    "start_time": "2023-10-08T11:37:37.576Z"
   },
   {
    "duration": 23,
    "start_time": "2023-10-08T11:37:37.692Z"
   },
   {
    "duration": 175,
    "start_time": "2023-10-08T11:37:37.716Z"
   },
   {
    "duration": 11,
    "start_time": "2023-10-08T11:37:37.893Z"
   },
   {
    "duration": 6,
    "start_time": "2023-10-08T11:37:37.906Z"
   },
   {
    "duration": 16,
    "start_time": "2023-10-08T11:37:37.916Z"
   },
   {
    "duration": 40,
    "start_time": "2023-10-08T11:37:37.933Z"
   },
   {
    "duration": 156,
    "start_time": "2023-10-08T11:37:37.975Z"
   },
   {
    "duration": 4,
    "start_time": "2023-10-08T11:37:38.133Z"
   },
   {
    "duration": 217,
    "start_time": "2023-10-08T11:37:38.139Z"
   },
   {
    "duration": 150,
    "start_time": "2023-10-08T11:37:38.358Z"
   },
   {
    "duration": 24,
    "start_time": "2023-10-08T11:37:38.509Z"
   },
   {
    "duration": 27,
    "start_time": "2023-10-08T11:37:38.534Z"
   },
   {
    "duration": 29,
    "start_time": "2023-10-08T11:37:38.562Z"
   },
   {
    "duration": 47,
    "start_time": "2023-10-08T11:37:38.593Z"
   },
   {
    "duration": 12,
    "start_time": "2023-10-08T11:37:38.642Z"
   },
   {
    "duration": 10,
    "start_time": "2023-10-08T11:37:38.655Z"
   },
   {
    "duration": 22,
    "start_time": "2023-10-08T11:37:38.666Z"
   },
   {
    "duration": 22,
    "start_time": "2023-10-08T11:37:38.691Z"
   },
   {
    "duration": 15,
    "start_time": "2023-10-08T11:37:38.714Z"
   },
   {
    "duration": 18,
    "start_time": "2023-10-08T11:37:38.730Z"
   },
   {
    "duration": 16,
    "start_time": "2023-10-08T11:37:38.749Z"
   },
   {
    "duration": 16,
    "start_time": "2023-10-08T11:37:38.766Z"
   },
   {
    "duration": 33,
    "start_time": "2023-10-08T11:37:38.784Z"
   },
   {
    "duration": 129,
    "start_time": "2023-10-08T11:37:38.818Z"
   },
   {
    "duration": 16,
    "start_time": "2023-10-08T11:37:38.949Z"
   },
   {
    "duration": 37,
    "start_time": "2023-10-08T11:37:38.968Z"
   },
   {
    "duration": 57,
    "start_time": "2023-10-08T11:37:39.006Z"
   },
   {
    "duration": 8,
    "start_time": "2023-10-08T11:37:39.065Z"
   },
   {
    "duration": 10,
    "start_time": "2023-10-08T11:37:39.075Z"
   },
   {
    "duration": 33,
    "start_time": "2023-10-08T11:37:39.087Z"
   },
   {
    "duration": 40,
    "start_time": "2023-10-08T11:37:39.123Z"
   },
   {
    "duration": 9,
    "start_time": "2023-10-08T11:37:39.168Z"
   },
   {
    "duration": 40,
    "start_time": "2023-10-08T11:37:39.178Z"
   },
   {
    "duration": 5,
    "start_time": "2023-10-08T11:37:39.220Z"
   },
   {
    "duration": 26,
    "start_time": "2023-10-08T11:37:39.227Z"
   },
   {
    "duration": 70,
    "start_time": "2023-10-08T11:37:39.255Z"
   },
   {
    "duration": 423,
    "start_time": "2023-10-08T11:37:39.327Z"
   },
   {
    "duration": 264,
    "start_time": "2023-10-08T11:37:39.755Z"
   },
   {
    "duration": 9,
    "start_time": "2023-10-08T11:37:40.021Z"
   },
   {
    "duration": 41,
    "start_time": "2023-10-08T11:37:40.031Z"
   },
   {
    "duration": 7,
    "start_time": "2023-10-08T11:37:40.074Z"
   },
   {
    "duration": 9,
    "start_time": "2023-10-08T11:37:40.082Z"
   },
   {
    "duration": 399,
    "start_time": "2023-10-08T11:37:40.093Z"
   },
   {
    "duration": 9,
    "start_time": "2023-10-08T11:37:40.494Z"
   },
   {
    "duration": 62,
    "start_time": "2023-10-08T11:37:40.504Z"
   },
   {
    "duration": 24,
    "start_time": "2023-10-08T11:37:40.568Z"
   },
   {
    "duration": 33,
    "start_time": "2023-10-08T11:37:40.593Z"
   },
   {
    "duration": 200,
    "start_time": "2023-10-08T11:37:40.627Z"
   },
   {
    "duration": 27,
    "start_time": "2023-10-08T11:37:40.829Z"
   },
   {
    "duration": 187,
    "start_time": "2023-10-08T11:37:40.859Z"
   },
   {
    "duration": 189,
    "start_time": "2023-10-08T11:37:41.047Z"
   },
   {
    "duration": 26,
    "start_time": "2023-10-08T11:37:41.237Z"
   },
   {
    "duration": 24,
    "start_time": "2023-10-08T11:37:41.264Z"
   },
   {
    "duration": 100,
    "start_time": "2023-10-08T11:37:41.290Z"
   },
   {
    "duration": 37,
    "start_time": "2023-10-08T11:37:41.392Z"
   },
   {
    "duration": 323,
    "start_time": "2023-10-08T11:37:41.431Z"
   },
   {
    "duration": 164,
    "start_time": "2023-10-08T11:37:41.760Z"
   },
   {
    "duration": 10,
    "start_time": "2023-10-08T11:37:41.925Z"
   },
   {
    "duration": 295,
    "start_time": "2023-10-08T11:37:41.937Z"
   },
   {
    "duration": 331,
    "start_time": "2023-10-08T11:37:42.234Z"
   },
   {
    "duration": 33,
    "start_time": "2023-10-08T11:37:42.567Z"
   },
   {
    "duration": 22,
    "start_time": "2023-10-08T11:37:42.602Z"
   },
   {
    "duration": 33,
    "start_time": "2023-10-08T11:38:38.306Z"
   },
   {
    "duration": 50741,
    "start_time": "2023-10-08T11:38:38.349Z"
   },
   {
    "duration": 0,
    "start_time": "2023-10-08T11:39:29.280Z"
   },
   {
    "duration": 0,
    "start_time": "2023-10-08T11:39:29.282Z"
   },
   {
    "duration": 1290,
    "start_time": "2023-10-08T11:39:34.116Z"
   },
   {
    "duration": 59,
    "start_time": "2023-10-08T11:39:35.408Z"
   },
   {
    "duration": 68,
    "start_time": "2023-10-08T11:39:35.469Z"
   },
   {
    "duration": 2031,
    "start_time": "2023-10-08T11:39:35.538Z"
   },
   {
    "duration": 28,
    "start_time": "2023-10-08T11:39:37.572Z"
   },
   {
    "duration": 10,
    "start_time": "2023-10-08T11:39:37.602Z"
   },
   {
    "duration": 44,
    "start_time": "2023-10-08T11:39:37.614Z"
   },
   {
    "duration": 24,
    "start_time": "2023-10-08T11:39:37.660Z"
   },
   {
    "duration": 142,
    "start_time": "2023-10-08T11:39:37.685Z"
   },
   {
    "duration": 4,
    "start_time": "2023-10-08T11:39:37.829Z"
   },
   {
    "duration": 190,
    "start_time": "2023-10-08T11:39:37.835Z"
   },
   {
    "duration": 11,
    "start_time": "2023-10-08T11:39:38.026Z"
   },
   {
    "duration": 8,
    "start_time": "2023-10-08T11:39:38.049Z"
   },
   {
    "duration": 19,
    "start_time": "2023-10-08T11:39:38.060Z"
   },
   {
    "duration": 20,
    "start_time": "2023-10-08T11:39:38.080Z"
   },
   {
    "duration": 182,
    "start_time": "2023-10-08T11:39:38.101Z"
   },
   {
    "duration": 5,
    "start_time": "2023-10-08T11:39:38.284Z"
   },
   {
    "duration": 29,
    "start_time": "2023-10-08T11:39:38.290Z"
   },
   {
    "duration": 152,
    "start_time": "2023-10-08T11:39:38.320Z"
   },
   {
    "duration": 31,
    "start_time": "2023-10-08T11:39:38.473Z"
   },
   {
    "duration": 47,
    "start_time": "2023-10-08T11:39:38.505Z"
   },
   {
    "duration": 20,
    "start_time": "2023-10-08T11:39:38.554Z"
   },
   {
    "duration": 8,
    "start_time": "2023-10-08T11:39:38.576Z"
   },
   {
    "duration": 22,
    "start_time": "2023-10-08T11:39:38.585Z"
   },
   {
    "duration": 19,
    "start_time": "2023-10-08T11:39:38.609Z"
   },
   {
    "duration": 13,
    "start_time": "2023-10-08T11:39:38.629Z"
   },
   {
    "duration": 7,
    "start_time": "2023-10-08T11:39:38.643Z"
   },
   {
    "duration": 20,
    "start_time": "2023-10-08T11:39:38.654Z"
   },
   {
    "duration": 6,
    "start_time": "2023-10-08T11:39:38.680Z"
   },
   {
    "duration": 17,
    "start_time": "2023-10-08T11:39:38.688Z"
   },
   {
    "duration": 12,
    "start_time": "2023-10-08T11:39:38.707Z"
   },
   {
    "duration": 7,
    "start_time": "2023-10-08T11:39:38.720Z"
   },
   {
    "duration": 137,
    "start_time": "2023-10-08T11:39:38.729Z"
   },
   {
    "duration": 20,
    "start_time": "2023-10-08T11:39:38.870Z"
   },
   {
    "duration": 34,
    "start_time": "2023-10-08T11:39:38.892Z"
   },
   {
    "duration": 40,
    "start_time": "2023-10-08T11:39:38.928Z"
   },
   {
    "duration": 10,
    "start_time": "2023-10-08T11:39:38.975Z"
   },
   {
    "duration": 19,
    "start_time": "2023-10-08T11:39:38.987Z"
   },
   {
    "duration": 81,
    "start_time": "2023-10-08T11:39:39.007Z"
   },
   {
    "duration": 9,
    "start_time": "2023-10-08T11:39:39.089Z"
   },
   {
    "duration": 16,
    "start_time": "2023-10-08T11:39:39.103Z"
   },
   {
    "duration": 62,
    "start_time": "2023-10-08T11:39:39.121Z"
   },
   {
    "duration": 6,
    "start_time": "2023-10-08T11:39:39.186Z"
   },
   {
    "duration": 17,
    "start_time": "2023-10-08T11:39:39.194Z"
   },
   {
    "duration": 32,
    "start_time": "2023-10-08T11:39:39.213Z"
   },
   {
    "duration": 425,
    "start_time": "2023-10-08T11:39:39.252Z"
   },
   {
    "duration": 234,
    "start_time": "2023-10-08T11:39:39.680Z"
   },
   {
    "duration": 10,
    "start_time": "2023-10-08T11:39:39.916Z"
   },
   {
    "duration": 37,
    "start_time": "2023-10-08T11:39:39.928Z"
   },
   {
    "duration": 17,
    "start_time": "2023-10-08T11:39:39.966Z"
   },
   {
    "duration": 41,
    "start_time": "2023-10-08T11:39:39.985Z"
   },
   {
    "duration": 453,
    "start_time": "2023-10-08T11:39:40.027Z"
   },
   {
    "duration": 15,
    "start_time": "2023-10-08T11:39:40.484Z"
   },
   {
    "duration": 26,
    "start_time": "2023-10-08T11:39:40.501Z"
   },
   {
    "duration": 48,
    "start_time": "2023-10-08T11:39:40.528Z"
   },
   {
    "duration": 20,
    "start_time": "2023-10-08T11:39:40.580Z"
   },
   {
    "duration": 225,
    "start_time": "2023-10-08T11:39:40.602Z"
   },
   {
    "duration": 26,
    "start_time": "2023-10-08T11:39:40.829Z"
   },
   {
    "duration": 201,
    "start_time": "2023-10-08T11:39:40.857Z"
   },
   {
    "duration": 220,
    "start_time": "2023-10-08T11:39:41.062Z"
   },
   {
    "duration": 7,
    "start_time": "2023-10-08T11:39:41.283Z"
   },
   {
    "duration": 26,
    "start_time": "2023-10-08T11:39:41.292Z"
   },
   {
    "duration": 49,
    "start_time": "2023-10-08T11:39:41.319Z"
   },
   {
    "duration": 18,
    "start_time": "2023-10-08T11:39:41.370Z"
   },
   {
    "duration": 326,
    "start_time": "2023-10-08T11:39:41.390Z"
   },
   {
    "duration": 172,
    "start_time": "2023-10-08T11:39:41.718Z"
   },
   {
    "duration": 9,
    "start_time": "2023-10-08T11:39:41.892Z"
   },
   {
    "duration": 328,
    "start_time": "2023-10-08T11:39:41.903Z"
   },
   {
    "duration": 360,
    "start_time": "2023-10-08T11:39:42.233Z"
   },
   {
    "duration": 22,
    "start_time": "2023-10-08T11:39:42.595Z"
   },
   {
    "duration": 50,
    "start_time": "2023-10-08T11:39:42.618Z"
   },
   {
    "duration": 50936,
    "start_time": "2023-10-08T11:39:42.672Z"
   },
   {
    "duration": 16,
    "start_time": "2023-10-08T11:40:33.610Z"
   },
   {
    "duration": 39307,
    "start_time": "2023-10-08T11:40:33.627Z"
   },
   {
    "duration": 9,
    "start_time": "2023-10-08T11:46:28.468Z"
   },
   {
    "duration": 15,
    "start_time": "2023-10-08T11:46:40.280Z"
   },
   {
    "duration": 119,
    "start_time": "2023-10-08T11:50:42.970Z"
   },
   {
    "duration": 10,
    "start_time": "2023-10-08T11:50:54.762Z"
   },
   {
    "duration": 24,
    "start_time": "2023-10-08T11:51:17.361Z"
   },
   {
    "duration": 19,
    "start_time": "2023-10-08T11:51:47.687Z"
   },
   {
    "duration": 19,
    "start_time": "2023-10-08T11:57:36.089Z"
   },
   {
    "duration": 11,
    "start_time": "2023-10-08T11:58:01.565Z"
   },
   {
    "duration": 128,
    "start_time": "2023-10-08T11:58:05.859Z"
   },
   {
    "duration": 122,
    "start_time": "2023-10-08T11:58:29.520Z"
   },
   {
    "duration": 258,
    "start_time": "2023-10-08T11:58:50.846Z"
   },
   {
    "duration": 17,
    "start_time": "2023-10-08T11:58:54.623Z"
   },
   {
    "duration": 18,
    "start_time": "2023-10-08T11:59:26.892Z"
   },
   {
    "duration": 9,
    "start_time": "2023-10-08T12:03:53.662Z"
   },
   {
    "duration": 8,
    "start_time": "2023-10-08T12:04:03.611Z"
   },
   {
    "duration": 8,
    "start_time": "2023-10-08T12:04:13.620Z"
   },
   {
    "duration": 5,
    "start_time": "2023-10-08T12:05:59.303Z"
   },
   {
    "duration": 9,
    "start_time": "2023-10-08T12:06:02.369Z"
   },
   {
    "duration": 11,
    "start_time": "2023-10-08T12:23:20.633Z"
   },
   {
    "duration": 18,
    "start_time": "2023-10-08T12:23:40.066Z"
   },
   {
    "duration": 15,
    "start_time": "2023-10-08T12:24:05.631Z"
   },
   {
    "duration": 16,
    "start_time": "2023-10-08T12:24:18.477Z"
   },
   {
    "duration": 1890,
    "start_time": "2023-10-08T12:24:43.510Z"
   },
   {
    "duration": 7,
    "start_time": "2023-10-08T12:24:57.715Z"
   },
   {
    "duration": 113,
    "start_time": "2023-10-08T12:29:32.050Z"
   },
   {
    "duration": 157,
    "start_time": "2023-10-08T12:30:20.473Z"
   },
   {
    "duration": 159,
    "start_time": "2023-10-08T12:30:35.317Z"
   },
   {
    "duration": 3,
    "start_time": "2023-10-08T12:30:47.307Z"
   },
   {
    "duration": 21,
    "start_time": "2023-10-08T12:30:51.490Z"
   },
   {
    "duration": 20,
    "start_time": "2023-10-08T12:31:22.961Z"
   },
   {
    "duration": 17,
    "start_time": "2023-10-08T12:31:37.237Z"
   },
   {
    "duration": 15,
    "start_time": "2023-10-08T12:32:00.918Z"
   },
   {
    "duration": 16,
    "start_time": "2023-10-08T12:32:05.194Z"
   },
   {
    "duration": 16,
    "start_time": "2023-10-08T12:32:22.587Z"
   },
   {
    "duration": 16,
    "start_time": "2023-10-08T12:32:36.769Z"
   },
   {
    "duration": 28,
    "start_time": "2023-10-08T12:32:50.837Z"
   },
   {
    "duration": 14,
    "start_time": "2023-10-08T12:33:01.320Z"
   },
   {
    "duration": 17,
    "start_time": "2023-10-08T12:33:15.061Z"
   },
   {
    "duration": 20,
    "start_time": "2023-10-08T12:33:43.461Z"
   },
   {
    "duration": 19,
    "start_time": "2023-10-08T12:33:57.507Z"
   },
   {
    "duration": 13,
    "start_time": "2023-10-08T12:34:05.009Z"
   },
   {
    "duration": 36,
    "start_time": "2023-10-08T12:34:30.412Z"
   },
   {
    "duration": 16,
    "start_time": "2023-10-08T12:34:41.084Z"
   },
   {
    "duration": 19,
    "start_time": "2023-10-08T12:35:11.017Z"
   },
   {
    "duration": 15,
    "start_time": "2023-10-08T12:35:24.161Z"
   },
   {
    "duration": 14,
    "start_time": "2023-10-08T12:35:33.600Z"
   },
   {
    "duration": 14,
    "start_time": "2023-10-08T12:36:51.330Z"
   },
   {
    "duration": 27,
    "start_time": "2023-10-08T12:37:59.377Z"
   },
   {
    "duration": 25,
    "start_time": "2023-10-08T12:38:49.717Z"
   },
   {
    "duration": 97,
    "start_time": "2023-10-08T12:39:20.209Z"
   },
   {
    "duration": 128,
    "start_time": "2023-10-08T12:39:39.469Z"
   },
   {
    "duration": 108,
    "start_time": "2023-10-08T12:39:51.165Z"
   },
   {
    "duration": 21,
    "start_time": "2023-10-08T12:40:28.880Z"
   },
   {
    "duration": 43,
    "start_time": "2023-10-08T12:40:45.889Z"
   },
   {
    "duration": 23,
    "start_time": "2023-10-08T12:41:03.605Z"
   },
   {
    "duration": 24,
    "start_time": "2023-10-08T12:41:13.277Z"
   },
   {
    "duration": 31,
    "start_time": "2023-10-08T12:41:15.930Z"
   },
   {
    "duration": 25,
    "start_time": "2023-10-08T12:41:34.294Z"
   },
   {
    "duration": 22,
    "start_time": "2023-10-08T12:41:46.015Z"
   },
   {
    "duration": 25,
    "start_time": "2023-10-08T12:42:23.377Z"
   },
   {
    "duration": 27,
    "start_time": "2023-10-08T12:42:40.117Z"
   },
   {
    "duration": 36,
    "start_time": "2023-10-08T12:43:43.322Z"
   },
   {
    "duration": 21,
    "start_time": "2023-10-08T12:44:01.210Z"
   },
   {
    "duration": 105,
    "start_time": "2023-10-08T12:44:40.983Z"
   },
   {
    "duration": 20,
    "start_time": "2023-10-08T12:44:48.979Z"
   },
   {
    "duration": 8,
    "start_time": "2023-10-08T12:51:45.913Z"
   },
   {
    "duration": 20,
    "start_time": "2023-10-08T12:52:18.523Z"
   },
   {
    "duration": 172,
    "start_time": "2023-10-08T12:52:45.403Z"
   },
   {
    "duration": 211,
    "start_time": "2023-10-08T12:53:08.110Z"
   },
   {
    "duration": 416,
    "start_time": "2023-10-08T12:53:23.989Z"
   },
   {
    "duration": 1921,
    "start_time": "2023-10-08T12:53:27.708Z"
   },
   {
    "duration": 309,
    "start_time": "2023-10-08T12:53:31.875Z"
   },
   {
    "duration": 404,
    "start_time": "2023-10-08T12:53:35.400Z"
   },
   {
    "duration": 112,
    "start_time": "2023-10-08T12:54:49.354Z"
   },
   {
    "duration": 107,
    "start_time": "2023-10-08T12:55:05.333Z"
   },
   {
    "duration": 71,
    "start_time": "2023-10-08T12:55:20.424Z"
   },
   {
    "duration": 208,
    "start_time": "2023-10-08T12:55:35.050Z"
   },
   {
    "duration": 213,
    "start_time": "2023-10-08T12:55:53.163Z"
   },
   {
    "duration": 1171,
    "start_time": "2023-10-08T12:59:07.597Z"
   },
   {
    "duration": 36,
    "start_time": "2023-10-08T12:59:08.771Z"
   },
   {
    "duration": 88,
    "start_time": "2023-10-08T12:59:08.808Z"
   },
   {
    "duration": 1822,
    "start_time": "2023-10-08T12:59:08.898Z"
   },
   {
    "duration": 26,
    "start_time": "2023-10-08T12:59:10.722Z"
   },
   {
    "duration": 13,
    "start_time": "2023-10-08T12:59:10.751Z"
   },
   {
    "duration": 28,
    "start_time": "2023-10-08T12:59:10.766Z"
   },
   {
    "duration": 8,
    "start_time": "2023-10-08T12:59:10.796Z"
   },
   {
    "duration": 139,
    "start_time": "2023-10-08T12:59:10.806Z"
   },
   {
    "duration": 30,
    "start_time": "2023-10-08T12:59:10.947Z"
   },
   {
    "duration": 172,
    "start_time": "2023-10-08T12:59:10.979Z"
   },
   {
    "duration": 12,
    "start_time": "2023-10-08T12:59:11.153Z"
   },
   {
    "duration": 7,
    "start_time": "2023-10-08T12:59:11.167Z"
   },
   {
    "duration": 8,
    "start_time": "2023-10-08T12:59:11.176Z"
   },
   {
    "duration": 9,
    "start_time": "2023-10-08T12:59:11.185Z"
   },
   {
    "duration": 201,
    "start_time": "2023-10-08T12:59:11.196Z"
   },
   {
    "duration": 5,
    "start_time": "2023-10-08T12:59:11.398Z"
   },
   {
    "duration": 17,
    "start_time": "2023-10-08T12:59:11.404Z"
   },
   {
    "duration": 6,
    "start_time": "2023-10-08T12:59:11.422Z"
   },
   {
    "duration": 23,
    "start_time": "2023-10-08T12:59:11.429Z"
   },
   {
    "duration": 18,
    "start_time": "2023-10-08T12:59:11.453Z"
   },
   {
    "duration": 5,
    "start_time": "2023-10-08T12:59:11.472Z"
   },
   {
    "duration": 6,
    "start_time": "2023-10-08T12:59:11.478Z"
   },
   {
    "duration": 10,
    "start_time": "2023-10-08T12:59:11.486Z"
   },
   {
    "duration": 4,
    "start_time": "2023-10-08T12:59:11.498Z"
   },
   {
    "duration": 14,
    "start_time": "2023-10-08T12:59:11.504Z"
   },
   {
    "duration": 6,
    "start_time": "2023-10-08T12:59:11.520Z"
   },
   {
    "duration": 5,
    "start_time": "2023-10-08T12:59:11.549Z"
   },
   {
    "duration": 27,
    "start_time": "2023-10-08T12:59:11.556Z"
   },
   {
    "duration": 9,
    "start_time": "2023-10-08T12:59:11.584Z"
   },
   {
    "duration": 21,
    "start_time": "2023-10-08T12:59:11.595Z"
   },
   {
    "duration": 8,
    "start_time": "2023-10-08T12:59:11.617Z"
   },
   {
    "duration": 106,
    "start_time": "2023-10-08T12:59:11.626Z"
   },
   {
    "duration": 19,
    "start_time": "2023-10-08T12:59:11.734Z"
   },
   {
    "duration": 12,
    "start_time": "2023-10-08T12:59:11.755Z"
   },
   {
    "duration": 40,
    "start_time": "2023-10-08T12:59:11.769Z"
   },
   {
    "duration": 8,
    "start_time": "2023-10-08T12:59:11.810Z"
   },
   {
    "duration": 11,
    "start_time": "2023-10-08T12:59:11.820Z"
   },
   {
    "duration": 25,
    "start_time": "2023-10-08T12:59:11.833Z"
   },
   {
    "duration": 10,
    "start_time": "2023-10-08T12:59:11.860Z"
   },
   {
    "duration": 8,
    "start_time": "2023-10-08T12:59:11.872Z"
   },
   {
    "duration": 32,
    "start_time": "2023-10-08T12:59:11.881Z"
   },
   {
    "duration": 38,
    "start_time": "2023-10-08T12:59:11.914Z"
   },
   {
    "duration": 15,
    "start_time": "2023-10-08T12:59:11.954Z"
   },
   {
    "duration": 26,
    "start_time": "2023-10-08T12:59:11.971Z"
   },
   {
    "duration": 402,
    "start_time": "2023-10-08T12:59:11.999Z"
   },
   {
    "duration": 240,
    "start_time": "2023-10-08T12:59:12.402Z"
   },
   {
    "duration": 13,
    "start_time": "2023-10-08T12:59:12.644Z"
   },
   {
    "duration": 13,
    "start_time": "2023-10-08T12:59:12.658Z"
   },
   {
    "duration": 4,
    "start_time": "2023-10-08T12:59:12.673Z"
   },
   {
    "duration": 20,
    "start_time": "2023-10-08T12:59:12.678Z"
   },
   {
    "duration": 390,
    "start_time": "2023-10-08T12:59:12.699Z"
   },
   {
    "duration": 8,
    "start_time": "2023-10-08T12:59:13.090Z"
   },
   {
    "duration": 5,
    "start_time": "2023-10-08T12:59:13.100Z"
   },
   {
    "duration": 25,
    "start_time": "2023-10-08T12:59:13.106Z"
   },
   {
    "duration": 27,
    "start_time": "2023-10-08T12:59:13.132Z"
   },
   {
    "duration": 233,
    "start_time": "2023-10-08T12:59:13.161Z"
   },
   {
    "duration": 8,
    "start_time": "2023-10-08T12:59:13.396Z"
   },
   {
    "duration": 196,
    "start_time": "2023-10-08T12:59:13.405Z"
   },
   {
    "duration": 191,
    "start_time": "2023-10-08T12:59:13.603Z"
   },
   {
    "duration": 7,
    "start_time": "2023-10-08T12:59:13.795Z"
   },
   {
    "duration": 21,
    "start_time": "2023-10-08T12:59:13.803Z"
   },
   {
    "duration": 8,
    "start_time": "2023-10-08T12:59:13.826Z"
   },
   {
    "duration": 21,
    "start_time": "2023-10-08T12:59:13.835Z"
   },
   {
    "duration": 328,
    "start_time": "2023-10-08T12:59:13.858Z"
   },
   {
    "duration": 167,
    "start_time": "2023-10-08T12:59:14.188Z"
   },
   {
    "duration": 13,
    "start_time": "2023-10-08T12:59:14.357Z"
   },
   {
    "duration": 308,
    "start_time": "2023-10-08T12:59:14.371Z"
   },
   {
    "duration": 318,
    "start_time": "2023-10-08T12:59:14.680Z"
   },
   {
    "duration": 24,
    "start_time": "2023-10-08T12:59:14.999Z"
   },
   {
    "duration": 67,
    "start_time": "2023-10-08T12:59:15.024Z"
   },
   {
    "duration": 19,
    "start_time": "2023-10-08T12:59:15.092Z"
   },
   {
    "duration": 51,
    "start_time": "2023-10-08T12:59:15.112Z"
   },
   {
    "duration": 39,
    "start_time": "2023-10-08T12:59:15.165Z"
   },
   {
    "duration": 261,
    "start_time": "2023-10-08T12:59:15.205Z"
   },
   {
    "duration": 94,
    "start_time": "2023-10-08T13:08:02.624Z"
   },
   {
    "duration": 33,
    "start_time": "2023-10-08T13:09:01.705Z"
   },
   {
    "duration": 20,
    "start_time": "2023-10-08T13:09:27.384Z"
   },
   {
    "duration": 17,
    "start_time": "2023-10-08T13:09:47.717Z"
   },
   {
    "duration": 16,
    "start_time": "2023-10-08T13:09:56.858Z"
   },
   {
    "duration": 99,
    "start_time": "2023-10-08T13:25:11.323Z"
   },
   {
    "duration": 8,
    "start_time": "2023-10-08T13:25:15.213Z"
   },
   {
    "duration": 393,
    "start_time": "2023-10-08T13:26:36.370Z"
   },
   {
    "duration": 462,
    "start_time": "2023-10-08T13:28:04.351Z"
   },
   {
    "duration": 489,
    "start_time": "2023-10-08T13:28:32.703Z"
   },
   {
    "duration": 19,
    "start_time": "2023-10-08T13:30:32.262Z"
   },
   {
    "duration": 8,
    "start_time": "2023-10-08T13:31:13.734Z"
   },
   {
    "duration": 9,
    "start_time": "2023-10-08T13:31:26.401Z"
   },
   {
    "duration": 228,
    "start_time": "2023-10-08T13:36:25.413Z"
   },
   {
    "duration": 209,
    "start_time": "2023-10-08T13:36:30.755Z"
   },
   {
    "duration": 373,
    "start_time": "2023-10-08T13:36:37.644Z"
   },
   {
    "duration": 184,
    "start_time": "2023-10-08T13:37:00.861Z"
   },
   {
    "duration": 198,
    "start_time": "2023-10-08T13:39:18.615Z"
   },
   {
    "duration": 201,
    "start_time": "2023-10-08T13:40:19.976Z"
   },
   {
    "duration": 155,
    "start_time": "2023-10-08T13:43:41.801Z"
   },
   {
    "duration": 157,
    "start_time": "2023-10-08T13:44:13.540Z"
   },
   {
    "duration": 194,
    "start_time": "2023-10-08T13:48:42.943Z"
   },
   {
    "duration": 168,
    "start_time": "2023-10-08T13:49:33.595Z"
   },
   {
    "duration": 175,
    "start_time": "2023-10-08T13:49:39.075Z"
   },
   {
    "duration": 140,
    "start_time": "2023-10-08T13:49:53.568Z"
   },
   {
    "duration": 176,
    "start_time": "2023-10-08T13:50:15.366Z"
   },
   {
    "duration": 193,
    "start_time": "2023-10-08T13:51:48.720Z"
   },
   {
    "duration": 165,
    "start_time": "2023-10-08T13:53:52.202Z"
   },
   {
    "duration": 180,
    "start_time": "2023-10-08T13:54:08.948Z"
   },
   {
    "duration": 146,
    "start_time": "2023-10-08T13:54:39.392Z"
   },
   {
    "duration": 30,
    "start_time": "2023-10-08T13:54:49.830Z"
   },
   {
    "duration": 159,
    "start_time": "2023-10-08T13:55:01.347Z"
   },
   {
    "duration": 1721,
    "start_time": "2023-10-08T14:00:14.563Z"
   },
   {
    "duration": 182,
    "start_time": "2023-10-08T14:00:23.110Z"
   },
   {
    "duration": 159,
    "start_time": "2023-10-08T14:00:36.439Z"
   },
   {
    "duration": 178,
    "start_time": "2023-10-08T14:00:49.000Z"
   },
   {
    "duration": 164,
    "start_time": "2023-10-08T14:00:57.655Z"
   },
   {
    "duration": 165,
    "start_time": "2023-10-08T14:01:02.413Z"
   },
   {
    "duration": 373,
    "start_time": "2023-10-08T14:03:35.687Z"
   },
   {
    "duration": 154,
    "start_time": "2023-10-08T14:04:03.802Z"
   },
   {
    "duration": 159,
    "start_time": "2023-10-08T14:04:15.656Z"
   },
   {
    "duration": 218,
    "start_time": "2023-10-08T14:04:35.209Z"
   },
   {
    "duration": 185,
    "start_time": "2023-10-08T14:04:39.829Z"
   },
   {
    "duration": 185,
    "start_time": "2023-10-08T14:04:44.348Z"
   },
   {
    "duration": 10,
    "start_time": "2023-10-08T14:08:21.080Z"
   },
   {
    "duration": 162,
    "start_time": "2023-10-08T14:08:33.357Z"
   },
   {
    "duration": 200,
    "start_time": "2023-10-08T14:10:44.285Z"
   },
   {
    "duration": 176,
    "start_time": "2023-10-08T14:10:53.673Z"
   },
   {
    "duration": 189,
    "start_time": "2023-10-08T14:11:01.056Z"
   },
   {
    "duration": 186,
    "start_time": "2023-10-08T14:11:11.871Z"
   },
   {
    "duration": 168,
    "start_time": "2023-10-08T14:11:24.464Z"
   },
   {
    "duration": 155,
    "start_time": "2023-10-08T14:12:08.349Z"
   },
   {
    "duration": 166,
    "start_time": "2023-10-08T14:14:59.142Z"
   },
   {
    "duration": 1316,
    "start_time": "2023-10-08T14:19:53.843Z"
   },
   {
    "duration": 39,
    "start_time": "2023-10-08T14:19:55.161Z"
   },
   {
    "duration": 85,
    "start_time": "2023-10-08T14:19:55.202Z"
   },
   {
    "duration": 2047,
    "start_time": "2023-10-08T14:19:55.289Z"
   },
   {
    "duration": 26,
    "start_time": "2023-10-08T14:19:57.338Z"
   },
   {
    "duration": 8,
    "start_time": "2023-10-08T14:19:57.365Z"
   },
   {
    "duration": 28,
    "start_time": "2023-10-08T14:19:57.375Z"
   },
   {
    "duration": 9,
    "start_time": "2023-10-08T14:19:57.404Z"
   },
   {
    "duration": 147,
    "start_time": "2023-10-08T14:19:57.415Z"
   },
   {
    "duration": 5,
    "start_time": "2023-10-08T14:19:57.564Z"
   },
   {
    "duration": 180,
    "start_time": "2023-10-08T14:19:57.570Z"
   },
   {
    "duration": 11,
    "start_time": "2023-10-08T14:19:57.752Z"
   },
   {
    "duration": 17,
    "start_time": "2023-10-08T14:19:57.764Z"
   },
   {
    "duration": 14,
    "start_time": "2023-10-08T14:19:57.783Z"
   },
   {
    "duration": 17,
    "start_time": "2023-10-08T14:19:57.799Z"
   },
   {
    "duration": 179,
    "start_time": "2023-10-08T14:19:57.818Z"
   },
   {
    "duration": 5,
    "start_time": "2023-10-08T14:19:57.999Z"
   },
   {
    "duration": 13,
    "start_time": "2023-10-08T14:19:58.005Z"
   },
   {
    "duration": 5,
    "start_time": "2023-10-08T14:19:58.020Z"
   },
   {
    "duration": 24,
    "start_time": "2023-10-08T14:19:58.026Z"
   },
   {
    "duration": 27,
    "start_time": "2023-10-08T14:19:58.052Z"
   },
   {
    "duration": 22,
    "start_time": "2023-10-08T14:19:58.080Z"
   },
   {
    "duration": 32,
    "start_time": "2023-10-08T14:19:58.104Z"
   },
   {
    "duration": 15,
    "start_time": "2023-10-08T14:19:58.137Z"
   },
   {
    "duration": 10,
    "start_time": "2023-10-08T14:19:58.154Z"
   },
   {
    "duration": 20,
    "start_time": "2023-10-08T14:19:58.166Z"
   },
   {
    "duration": 7,
    "start_time": "2023-10-08T14:19:58.188Z"
   },
   {
    "duration": 9,
    "start_time": "2023-10-08T14:19:58.199Z"
   },
   {
    "duration": 18,
    "start_time": "2023-10-08T14:19:58.209Z"
   },
   {
    "duration": 20,
    "start_time": "2023-10-08T14:19:58.229Z"
   },
   {
    "duration": 16,
    "start_time": "2023-10-08T14:19:58.251Z"
   },
   {
    "duration": 20,
    "start_time": "2023-10-08T14:19:58.268Z"
   },
   {
    "duration": 97,
    "start_time": "2023-10-08T14:19:58.289Z"
   },
   {
    "duration": 12,
    "start_time": "2023-10-08T14:19:58.388Z"
   },
   {
    "duration": 5,
    "start_time": "2023-10-08T14:19:58.401Z"
   },
   {
    "duration": 28,
    "start_time": "2023-10-08T14:19:58.407Z"
   },
   {
    "duration": 12,
    "start_time": "2023-10-08T14:19:58.437Z"
   },
   {
    "duration": 5,
    "start_time": "2023-10-08T14:19:58.451Z"
   },
   {
    "duration": 30,
    "start_time": "2023-10-08T14:19:58.458Z"
   },
   {
    "duration": 8,
    "start_time": "2023-10-08T14:19:58.490Z"
   },
   {
    "duration": 8,
    "start_time": "2023-10-08T14:19:58.499Z"
   },
   {
    "duration": 60,
    "start_time": "2023-10-08T14:19:58.508Z"
   },
   {
    "duration": 5,
    "start_time": "2023-10-08T14:19:58.569Z"
   },
   {
    "duration": 13,
    "start_time": "2023-10-08T14:19:58.576Z"
   },
   {
    "duration": 24,
    "start_time": "2023-10-08T14:19:58.591Z"
   },
   {
    "duration": 430,
    "start_time": "2023-10-08T14:19:58.616Z"
   },
   {
    "duration": 239,
    "start_time": "2023-10-08T14:19:59.049Z"
   },
   {
    "duration": 11,
    "start_time": "2023-10-08T14:19:59.290Z"
   },
   {
    "duration": 90,
    "start_time": "2023-10-08T14:19:59.303Z"
   },
   {
    "duration": 9,
    "start_time": "2023-10-08T14:19:59.395Z"
   },
   {
    "duration": 10,
    "start_time": "2023-10-08T14:19:59.405Z"
   },
   {
    "duration": 400,
    "start_time": "2023-10-08T14:19:59.416Z"
   },
   {
    "duration": 11,
    "start_time": "2023-10-08T14:19:59.818Z"
   },
   {
    "duration": 22,
    "start_time": "2023-10-08T14:19:59.831Z"
   },
   {
    "duration": 16,
    "start_time": "2023-10-08T14:19:59.855Z"
   },
   {
    "duration": 22,
    "start_time": "2023-10-08T14:19:59.873Z"
   },
   {
    "duration": 214,
    "start_time": "2023-10-08T14:19:59.896Z"
   },
   {
    "duration": 10,
    "start_time": "2023-10-08T14:20:00.113Z"
   },
   {
    "duration": 225,
    "start_time": "2023-10-08T14:20:00.125Z"
   },
   {
    "duration": 202,
    "start_time": "2023-10-08T14:20:00.352Z"
   },
   {
    "duration": 9,
    "start_time": "2023-10-08T14:20:00.556Z"
   },
   {
    "duration": 43,
    "start_time": "2023-10-08T14:20:00.566Z"
   },
   {
    "duration": 47,
    "start_time": "2023-10-08T14:20:00.612Z"
   },
   {
    "duration": 57,
    "start_time": "2023-10-08T14:20:00.661Z"
   },
   {
    "duration": 332,
    "start_time": "2023-10-08T14:20:00.720Z"
   },
   {
    "duration": 178,
    "start_time": "2023-10-08T14:20:01.053Z"
   },
   {
    "duration": 19,
    "start_time": "2023-10-08T14:20:01.233Z"
   },
   {
    "duration": 306,
    "start_time": "2023-10-08T14:20:01.254Z"
   },
   {
    "duration": 298,
    "start_time": "2023-10-08T14:20:01.562Z"
   },
   {
    "duration": 210,
    "start_time": "2023-10-08T14:20:01.861Z"
   },
   {
    "duration": 189,
    "start_time": "2023-10-08T14:20:02.073Z"
   },
   {
    "duration": 216,
    "start_time": "2023-10-08T14:20:02.264Z"
   },
   {
    "duration": 175,
    "start_time": "2023-10-08T14:20:02.482Z"
   },
   {
    "duration": 149,
    "start_time": "2023-10-08T14:20:02.659Z"
   },
   {
    "duration": 307,
    "start_time": "2023-10-08T14:20:02.810Z"
   },
   {
    "duration": 174,
    "start_time": "2023-10-08T14:20:03.119Z"
   },
   {
    "duration": 158,
    "start_time": "2023-10-08T14:20:03.295Z"
   },
   {
    "duration": 10,
    "start_time": "2023-10-08T14:20:03.455Z"
   },
   {
    "duration": 41,
    "start_time": "2023-10-08T14:20:03.467Z"
   },
   {
    "duration": 282,
    "start_time": "2023-10-08T14:20:03.510Z"
   },
   {
    "duration": 183,
    "start_time": "2023-10-08T14:20:24.921Z"
   },
   {
    "duration": 369,
    "start_time": "2023-10-08T14:25:57.096Z"
   },
   {
    "duration": 240,
    "start_time": "2023-10-08T14:41:56.388Z"
   },
   {
    "duration": 93,
    "start_time": "2023-10-08T14:42:40.303Z"
   },
   {
    "duration": 1387,
    "start_time": "2023-10-08T14:43:03.848Z"
   },
   {
    "duration": 139,
    "start_time": "2023-10-08T14:43:22.200Z"
   },
   {
    "duration": 1377,
    "start_time": "2023-10-08T14:43:53.488Z"
   },
   {
    "duration": 133,
    "start_time": "2023-10-08T14:44:14.492Z"
   },
   {
    "duration": 154,
    "start_time": "2023-10-08T14:44:31.835Z"
   },
   {
    "duration": 202,
    "start_time": "2023-10-08T14:45:05.951Z"
   },
   {
    "duration": 161,
    "start_time": "2023-10-08T14:45:10.224Z"
   },
   {
    "duration": 281,
    "start_time": "2023-10-08T14:45:15.634Z"
   },
   {
    "duration": 141,
    "start_time": "2023-10-08T14:45:22.339Z"
   },
   {
    "duration": 152,
    "start_time": "2023-10-08T14:45:27.465Z"
   },
   {
    "duration": 1329,
    "start_time": "2023-10-08T14:47:48.542Z"
   },
   {
    "duration": 36,
    "start_time": "2023-10-08T14:47:49.873Z"
   },
   {
    "duration": 84,
    "start_time": "2023-10-08T14:47:49.911Z"
   },
   {
    "duration": 1739,
    "start_time": "2023-10-08T14:47:49.997Z"
   },
   {
    "duration": 26,
    "start_time": "2023-10-08T14:47:51.738Z"
   },
   {
    "duration": 21,
    "start_time": "2023-10-08T14:47:51.766Z"
   },
   {
    "duration": 74,
    "start_time": "2023-10-08T14:47:51.789Z"
   },
   {
    "duration": 47,
    "start_time": "2023-10-08T14:47:51.865Z"
   },
   {
    "duration": 141,
    "start_time": "2023-10-08T14:47:51.914Z"
   },
   {
    "duration": 26,
    "start_time": "2023-10-08T14:47:52.058Z"
   },
   {
    "duration": 186,
    "start_time": "2023-10-08T14:47:52.085Z"
   },
   {
    "duration": 9,
    "start_time": "2023-10-08T14:47:52.272Z"
   },
   {
    "duration": 16,
    "start_time": "2023-10-08T14:47:52.282Z"
   },
   {
    "duration": 32,
    "start_time": "2023-10-08T14:47:52.299Z"
   },
   {
    "duration": 56,
    "start_time": "2023-10-08T14:47:52.333Z"
   },
   {
    "duration": 206,
    "start_time": "2023-10-08T14:47:52.390Z"
   },
   {
    "duration": 4,
    "start_time": "2023-10-08T14:47:52.598Z"
   },
   {
    "duration": 9,
    "start_time": "2023-10-08T14:47:52.604Z"
   },
   {
    "duration": 15,
    "start_time": "2023-10-08T14:47:52.615Z"
   },
   {
    "duration": 19,
    "start_time": "2023-10-08T14:47:52.631Z"
   },
   {
    "duration": 27,
    "start_time": "2023-10-08T14:47:52.651Z"
   },
   {
    "duration": 9,
    "start_time": "2023-10-08T14:47:52.679Z"
   },
   {
    "duration": 17,
    "start_time": "2023-10-08T14:47:52.689Z"
   },
   {
    "duration": 8,
    "start_time": "2023-10-08T14:47:52.708Z"
   },
   {
    "duration": 12,
    "start_time": "2023-10-08T14:47:52.717Z"
   },
   {
    "duration": 27,
    "start_time": "2023-10-08T14:47:52.731Z"
   },
   {
    "duration": 18,
    "start_time": "2023-10-08T14:47:52.759Z"
   },
   {
    "duration": 4,
    "start_time": "2023-10-08T14:47:52.781Z"
   },
   {
    "duration": 13,
    "start_time": "2023-10-08T14:47:52.786Z"
   },
   {
    "duration": 10,
    "start_time": "2023-10-08T14:47:52.801Z"
   },
   {
    "duration": 22,
    "start_time": "2023-10-08T14:47:52.812Z"
   },
   {
    "duration": 11,
    "start_time": "2023-10-08T14:47:52.835Z"
   },
   {
    "duration": 108,
    "start_time": "2023-10-08T14:47:52.848Z"
   },
   {
    "duration": 14,
    "start_time": "2023-10-08T14:47:52.958Z"
   },
   {
    "duration": 7,
    "start_time": "2023-10-08T14:47:52.974Z"
   },
   {
    "duration": 21,
    "start_time": "2023-10-08T14:47:52.983Z"
   },
   {
    "duration": 11,
    "start_time": "2023-10-08T14:47:53.005Z"
   },
   {
    "duration": 13,
    "start_time": "2023-10-08T14:47:53.018Z"
   },
   {
    "duration": 51,
    "start_time": "2023-10-08T14:47:53.032Z"
   },
   {
    "duration": 8,
    "start_time": "2023-10-08T14:47:53.085Z"
   },
   {
    "duration": 9,
    "start_time": "2023-10-08T14:47:53.094Z"
   },
   {
    "duration": 28,
    "start_time": "2023-10-08T14:47:53.105Z"
   },
   {
    "duration": 18,
    "start_time": "2023-10-08T14:47:53.134Z"
   },
   {
    "duration": 17,
    "start_time": "2023-10-08T14:47:53.154Z"
   },
   {
    "duration": 31,
    "start_time": "2023-10-08T14:47:53.172Z"
   },
   {
    "duration": 375,
    "start_time": "2023-10-08T14:47:53.205Z"
   },
   {
    "duration": 219,
    "start_time": "2023-10-08T14:47:53.581Z"
   },
   {
    "duration": 8,
    "start_time": "2023-10-08T14:47:53.802Z"
   },
   {
    "duration": 21,
    "start_time": "2023-10-08T14:47:53.811Z"
   },
   {
    "duration": 16,
    "start_time": "2023-10-08T14:47:53.834Z"
   },
   {
    "duration": 10,
    "start_time": "2023-10-08T14:47:53.852Z"
   },
   {
    "duration": 396,
    "start_time": "2023-10-08T14:47:53.864Z"
   },
   {
    "duration": 8,
    "start_time": "2023-10-08T14:47:54.262Z"
   },
   {
    "duration": 4,
    "start_time": "2023-10-08T14:47:54.272Z"
   },
   {
    "duration": 13,
    "start_time": "2023-10-08T14:47:54.278Z"
   },
   {
    "duration": 19,
    "start_time": "2023-10-08T14:47:54.293Z"
   },
   {
    "duration": 254,
    "start_time": "2023-10-08T14:47:54.314Z"
   },
   {
    "duration": 13,
    "start_time": "2023-10-08T14:47:54.570Z"
   },
   {
    "duration": 317,
    "start_time": "2023-10-08T14:47:54.585Z"
   },
   {
    "duration": 203,
    "start_time": "2023-10-08T14:47:54.903Z"
   },
   {
    "duration": 7,
    "start_time": "2023-10-08T14:47:55.108Z"
   },
   {
    "duration": 36,
    "start_time": "2023-10-08T14:47:55.116Z"
   },
   {
    "duration": 43,
    "start_time": "2023-10-08T14:47:55.154Z"
   },
   {
    "duration": 22,
    "start_time": "2023-10-08T14:47:55.198Z"
   },
   {
    "duration": 205,
    "start_time": "2023-10-08T14:47:55.222Z"
   },
   {
    "duration": 150,
    "start_time": "2023-10-08T14:47:55.429Z"
   },
   {
    "duration": 9,
    "start_time": "2023-10-08T14:47:55.581Z"
   },
   {
    "duration": 279,
    "start_time": "2023-10-08T14:47:55.592Z"
   },
   {
    "duration": 378,
    "start_time": "2023-10-08T14:47:55.873Z"
   },
   {
    "duration": 193,
    "start_time": "2023-10-08T14:47:56.253Z"
   },
   {
    "duration": 206,
    "start_time": "2023-10-08T14:47:56.449Z"
   },
   {
    "duration": 279,
    "start_time": "2023-10-08T14:47:56.657Z"
   },
   {
    "duration": 150,
    "start_time": "2023-10-08T14:47:56.938Z"
   },
   {
    "duration": 137,
    "start_time": "2023-10-08T14:47:57.090Z"
   },
   {
    "duration": 160,
    "start_time": "2023-10-08T14:47:57.229Z"
   },
   {
    "duration": 158,
    "start_time": "2023-10-08T14:47:57.391Z"
   },
   {
    "duration": 144,
    "start_time": "2023-10-08T14:47:57.551Z"
   },
   {
    "duration": 7,
    "start_time": "2023-10-08T14:47:57.697Z"
   },
   {
    "duration": 24,
    "start_time": "2023-10-08T14:47:57.706Z"
   },
   {
    "duration": 179,
    "start_time": "2023-10-08T14:47:57.750Z"
   },
   {
    "duration": 1214,
    "start_time": "2023-10-08T14:48:34.385Z"
   },
   {
    "duration": 36,
    "start_time": "2023-10-08T14:48:35.601Z"
   },
   {
    "duration": 65,
    "start_time": "2023-10-08T14:48:35.649Z"
   },
   {
    "duration": 1844,
    "start_time": "2023-10-08T14:48:35.717Z"
   },
   {
    "duration": 29,
    "start_time": "2023-10-08T14:48:37.562Z"
   },
   {
    "duration": 9,
    "start_time": "2023-10-08T14:48:37.593Z"
   },
   {
    "duration": 52,
    "start_time": "2023-10-08T14:48:37.604Z"
   },
   {
    "duration": 10,
    "start_time": "2023-10-08T14:48:37.658Z"
   },
   {
    "duration": 121,
    "start_time": "2023-10-08T14:48:37.670Z"
   },
   {
    "duration": 4,
    "start_time": "2023-10-08T14:48:37.795Z"
   },
   {
    "duration": 177,
    "start_time": "2023-10-08T14:48:37.801Z"
   },
   {
    "duration": 9,
    "start_time": "2023-10-08T14:48:37.979Z"
   },
   {
    "duration": 32,
    "start_time": "2023-10-08T14:48:37.989Z"
   },
   {
    "duration": 9,
    "start_time": "2023-10-08T14:48:38.022Z"
   },
   {
    "duration": 31,
    "start_time": "2023-10-08T14:48:38.032Z"
   },
   {
    "duration": 194,
    "start_time": "2023-10-08T14:48:38.065Z"
   },
   {
    "duration": 5,
    "start_time": "2023-10-08T14:48:38.260Z"
   },
   {
    "duration": 8,
    "start_time": "2023-10-08T14:48:38.266Z"
   },
   {
    "duration": 17,
    "start_time": "2023-10-08T14:48:38.276Z"
   },
   {
    "duration": 4,
    "start_time": "2023-10-08T14:48:38.294Z"
   },
   {
    "duration": 13,
    "start_time": "2023-10-08T14:48:38.299Z"
   },
   {
    "duration": 25,
    "start_time": "2023-10-08T14:48:38.313Z"
   },
   {
    "duration": 41,
    "start_time": "2023-10-08T14:48:38.340Z"
   },
   {
    "duration": 40,
    "start_time": "2023-10-08T14:48:38.383Z"
   },
   {
    "duration": 27,
    "start_time": "2023-10-08T14:48:38.425Z"
   },
   {
    "duration": 31,
    "start_time": "2023-10-08T14:48:38.454Z"
   },
   {
    "duration": 15,
    "start_time": "2023-10-08T14:48:38.487Z"
   },
   {
    "duration": 22,
    "start_time": "2023-10-08T14:48:38.506Z"
   },
   {
    "duration": 33,
    "start_time": "2023-10-08T14:48:38.529Z"
   },
   {
    "duration": 24,
    "start_time": "2023-10-08T14:48:38.563Z"
   },
   {
    "duration": 11,
    "start_time": "2023-10-08T14:48:38.589Z"
   },
   {
    "duration": 9,
    "start_time": "2023-10-08T14:48:38.601Z"
   },
   {
    "duration": 111,
    "start_time": "2023-10-08T14:48:38.612Z"
   },
   {
    "duration": 14,
    "start_time": "2023-10-08T14:48:38.724Z"
   },
   {
    "duration": 10,
    "start_time": "2023-10-08T14:48:38.739Z"
   },
   {
    "duration": 28,
    "start_time": "2023-10-08T14:48:38.751Z"
   },
   {
    "duration": 7,
    "start_time": "2023-10-08T14:48:38.780Z"
   },
   {
    "duration": 21,
    "start_time": "2023-10-08T14:48:38.788Z"
   },
   {
    "duration": 53,
    "start_time": "2023-10-08T14:48:38.811Z"
   },
   {
    "duration": 12,
    "start_time": "2023-10-08T14:48:38.866Z"
   },
   {
    "duration": 11,
    "start_time": "2023-10-08T14:48:38.879Z"
   },
   {
    "duration": 36,
    "start_time": "2023-10-08T14:48:38.892Z"
   },
   {
    "duration": 24,
    "start_time": "2023-10-08T14:48:38.930Z"
   },
   {
    "duration": 15,
    "start_time": "2023-10-08T14:48:38.956Z"
   },
   {
    "duration": 25,
    "start_time": "2023-10-08T14:48:38.972Z"
   },
   {
    "duration": 452,
    "start_time": "2023-10-08T14:48:38.998Z"
   },
   {
    "duration": 227,
    "start_time": "2023-10-08T14:48:39.451Z"
   },
   {
    "duration": 8,
    "start_time": "2023-10-08T14:48:39.680Z"
   },
   {
    "duration": 16,
    "start_time": "2023-10-08T14:48:39.689Z"
   },
   {
    "duration": 4,
    "start_time": "2023-10-08T14:48:39.707Z"
   },
   {
    "duration": 10,
    "start_time": "2023-10-08T14:48:39.713Z"
   },
   {
    "duration": 393,
    "start_time": "2023-10-08T14:48:39.724Z"
   },
   {
    "duration": 10,
    "start_time": "2023-10-08T14:48:40.119Z"
   },
   {
    "duration": 22,
    "start_time": "2023-10-08T14:48:40.130Z"
   },
   {
    "duration": 5,
    "start_time": "2023-10-08T14:48:40.153Z"
   },
   {
    "duration": 25,
    "start_time": "2023-10-08T14:48:40.159Z"
   },
   {
    "duration": 211,
    "start_time": "2023-10-08T14:48:40.186Z"
   },
   {
    "duration": 9,
    "start_time": "2023-10-08T14:48:40.398Z"
   },
   {
    "duration": 369,
    "start_time": "2023-10-08T14:48:40.408Z"
   },
   {
    "duration": 185,
    "start_time": "2023-10-08T14:48:40.780Z"
   },
   {
    "duration": 8,
    "start_time": "2023-10-08T14:48:40.966Z"
   },
   {
    "duration": 23,
    "start_time": "2023-10-08T14:48:40.976Z"
   },
   {
    "duration": 9,
    "start_time": "2023-10-08T14:48:41.000Z"
   },
   {
    "duration": 23,
    "start_time": "2023-10-08T14:48:41.011Z"
   },
   {
    "duration": 207,
    "start_time": "2023-10-08T14:48:41.036Z"
   },
   {
    "duration": 156,
    "start_time": "2023-10-08T14:48:41.245Z"
   },
   {
    "duration": 9,
    "start_time": "2023-10-08T14:48:41.402Z"
   },
   {
    "duration": 285,
    "start_time": "2023-10-08T14:48:41.412Z"
   },
   {
    "duration": 291,
    "start_time": "2023-10-08T14:48:41.698Z"
   },
   {
    "duration": 185,
    "start_time": "2023-10-08T14:48:41.991Z"
   },
   {
    "duration": 191,
    "start_time": "2023-10-08T14:48:42.178Z"
   },
   {
    "duration": 294,
    "start_time": "2023-10-08T14:48:42.370Z"
   },
   {
    "duration": 156,
    "start_time": "2023-10-08T14:48:42.665Z"
   },
   {
    "duration": 149,
    "start_time": "2023-10-08T14:48:42.822Z"
   },
   {
    "duration": 166,
    "start_time": "2023-10-08T14:48:42.973Z"
   },
   {
    "duration": 146,
    "start_time": "2023-10-08T14:48:43.149Z"
   },
   {
    "duration": 157,
    "start_time": "2023-10-08T14:48:43.296Z"
   },
   {
    "duration": 8,
    "start_time": "2023-10-08T14:48:43.455Z"
   },
   {
    "duration": 22,
    "start_time": "2023-10-08T14:48:43.465Z"
   },
   {
    "duration": 184,
    "start_time": "2023-10-08T14:48:43.489Z"
   },
   {
    "duration": 53,
    "start_time": "2023-10-09T06:33:49.452Z"
   },
   {
    "duration": 1748,
    "start_time": "2023-10-09T06:33:59.053Z"
   },
   {
    "duration": 47,
    "start_time": "2023-10-09T06:34:00.803Z"
   },
   {
    "duration": 104,
    "start_time": "2023-10-09T06:34:00.853Z"
   },
   {
    "duration": 3047,
    "start_time": "2023-10-09T06:34:00.959Z"
   },
   {
    "duration": 30,
    "start_time": "2023-10-09T06:34:04.008Z"
   },
   {
    "duration": 18,
    "start_time": "2023-10-09T06:34:04.040Z"
   },
   {
    "duration": 64,
    "start_time": "2023-10-09T06:34:04.059Z"
   },
   {
    "duration": 11,
    "start_time": "2023-10-09T06:34:04.126Z"
   },
   {
    "duration": 42,
    "start_time": "2023-10-09T06:34:04.138Z"
   },
   {
    "duration": 5,
    "start_time": "2023-10-09T06:34:04.182Z"
   },
   {
    "duration": 216,
    "start_time": "2023-10-09T06:34:04.188Z"
   },
   {
    "duration": 10,
    "start_time": "2023-10-09T06:34:04.406Z"
   },
   {
    "duration": 101,
    "start_time": "2023-10-09T06:34:04.417Z"
   },
   {
    "duration": 38,
    "start_time": "2023-10-09T06:34:04.521Z"
   },
   {
    "duration": 35,
    "start_time": "2023-10-09T06:34:04.561Z"
   },
   {
    "duration": 227,
    "start_time": "2023-10-09T06:34:04.598Z"
   },
   {
    "duration": 6,
    "start_time": "2023-10-09T06:34:04.827Z"
   },
   {
    "duration": 31,
    "start_time": "2023-10-09T06:34:04.834Z"
   },
   {
    "duration": 15,
    "start_time": "2023-10-09T06:34:04.867Z"
   },
   {
    "duration": 11,
    "start_time": "2023-10-09T06:34:04.884Z"
   },
   {
    "duration": 13,
    "start_time": "2023-10-09T06:34:04.896Z"
   },
   {
    "duration": 79,
    "start_time": "2023-10-09T06:34:04.910Z"
   },
   {
    "duration": 35,
    "start_time": "2023-10-09T06:34:04.991Z"
   },
   {
    "duration": 60,
    "start_time": "2023-10-09T06:34:05.028Z"
   },
   {
    "duration": 144,
    "start_time": "2023-10-09T06:34:05.090Z"
   },
   {
    "duration": 48,
    "start_time": "2023-10-09T06:34:05.238Z"
   },
   {
    "duration": 37,
    "start_time": "2023-10-09T06:34:05.288Z"
   },
   {
    "duration": 28,
    "start_time": "2023-10-09T06:34:05.329Z"
   },
   {
    "duration": 151,
    "start_time": "2023-10-09T06:34:05.360Z"
   },
   {
    "duration": 113,
    "start_time": "2023-10-09T06:34:05.513Z"
   },
   {
    "duration": 36,
    "start_time": "2023-10-09T06:34:05.627Z"
   },
   {
    "duration": 33,
    "start_time": "2023-10-09T06:34:05.665Z"
   },
   {
    "duration": 156,
    "start_time": "2023-10-09T06:34:05.700Z"
   },
   {
    "duration": 14,
    "start_time": "2023-10-09T06:34:05.858Z"
   },
   {
    "duration": 5,
    "start_time": "2023-10-09T06:34:05.873Z"
   },
   {
    "duration": 21,
    "start_time": "2023-10-09T06:34:05.880Z"
   },
   {
    "duration": 11,
    "start_time": "2023-10-09T06:34:05.903Z"
   },
   {
    "duration": 15,
    "start_time": "2023-10-09T06:34:05.916Z"
   },
   {
    "duration": 36,
    "start_time": "2023-10-09T06:34:05.932Z"
   },
   {
    "duration": 26,
    "start_time": "2023-10-09T06:34:05.970Z"
   },
   {
    "duration": 43,
    "start_time": "2023-10-09T06:34:06.001Z"
   },
   {
    "duration": 47,
    "start_time": "2023-10-09T06:34:06.046Z"
   },
   {
    "duration": 6,
    "start_time": "2023-10-09T06:34:06.095Z"
   },
   {
    "duration": 74,
    "start_time": "2023-10-09T06:34:06.102Z"
   },
   {
    "duration": 51,
    "start_time": "2023-10-09T06:34:06.177Z"
   },
   {
    "duration": 436,
    "start_time": "2023-10-09T06:34:06.229Z"
   },
   {
    "duration": 269,
    "start_time": "2023-10-09T06:34:06.667Z"
   },
   {
    "duration": 16,
    "start_time": "2023-10-09T06:34:06.938Z"
   },
   {
    "duration": 24,
    "start_time": "2023-10-09T06:34:06.956Z"
   },
   {
    "duration": 7,
    "start_time": "2023-10-09T06:34:06.982Z"
   },
   {
    "duration": 62,
    "start_time": "2023-10-09T06:34:06.990Z"
   },
   {
    "duration": 459,
    "start_time": "2023-10-09T06:34:07.054Z"
   },
   {
    "duration": 10,
    "start_time": "2023-10-09T06:34:07.515Z"
   },
   {
    "duration": 24,
    "start_time": "2023-10-09T06:34:07.527Z"
   },
   {
    "duration": 30,
    "start_time": "2023-10-09T06:34:07.553Z"
   },
   {
    "duration": 36,
    "start_time": "2023-10-09T06:34:07.585Z"
   },
   {
    "duration": 237,
    "start_time": "2023-10-09T06:34:07.622Z"
   },
   {
    "duration": 10,
    "start_time": "2023-10-09T06:34:07.861Z"
   },
   {
    "duration": 219,
    "start_time": "2023-10-09T06:34:07.873Z"
   },
   {
    "duration": 218,
    "start_time": "2023-10-09T06:34:08.093Z"
   },
   {
    "duration": 8,
    "start_time": "2023-10-09T06:34:08.313Z"
   },
   {
    "duration": 25,
    "start_time": "2023-10-09T06:34:08.323Z"
   },
   {
    "duration": 9,
    "start_time": "2023-10-09T06:34:08.349Z"
   },
   {
    "duration": 18,
    "start_time": "2023-10-09T06:34:08.360Z"
   },
   {
    "duration": 225,
    "start_time": "2023-10-09T06:34:08.380Z"
   },
   {
    "duration": 309,
    "start_time": "2023-10-09T06:34:08.607Z"
   },
   {
    "duration": 10,
    "start_time": "2023-10-09T06:34:08.918Z"
   },
   {
    "duration": 349,
    "start_time": "2023-10-09T06:34:08.930Z"
   },
   {
    "duration": 351,
    "start_time": "2023-10-09T06:34:09.281Z"
   },
   {
    "duration": 222,
    "start_time": "2023-10-09T06:34:09.633Z"
   },
   {
    "duration": 228,
    "start_time": "2023-10-09T06:34:09.857Z"
   },
   {
    "duration": 199,
    "start_time": "2023-10-09T06:34:10.087Z"
   },
   {
    "duration": 191,
    "start_time": "2023-10-09T06:34:10.287Z"
   },
   {
    "duration": 162,
    "start_time": "2023-10-09T06:34:10.479Z"
   },
   {
    "duration": 202,
    "start_time": "2023-10-09T06:34:10.646Z"
   },
   {
    "duration": 174,
    "start_time": "2023-10-09T06:34:10.850Z"
   },
   {
    "duration": 173,
    "start_time": "2023-10-09T06:34:11.026Z"
   },
   {
    "duration": 8,
    "start_time": "2023-10-09T06:34:11.200Z"
   },
   {
    "duration": 74,
    "start_time": "2023-10-09T06:34:11.210Z"
   },
   {
    "duration": 181,
    "start_time": "2023-10-09T06:34:11.286Z"
   },
   {
    "duration": 3728,
    "start_time": "2023-10-09T06:34:15.363Z"
   },
   {
    "duration": 86,
    "start_time": "2023-10-09T07:06:36.517Z"
   },
   {
    "duration": 177,
    "start_time": "2023-10-09T07:06:47.491Z"
   },
   {
    "duration": 33,
    "start_time": "2023-10-09T07:07:08.324Z"
   },
   {
    "duration": 77,
    "start_time": "2023-10-09T07:07:28.838Z"
   },
   {
    "duration": 67,
    "start_time": "2023-10-09T07:08:52.326Z"
   },
   {
    "duration": 1954,
    "start_time": "2023-10-09T07:09:00.830Z"
   },
   {
    "duration": 44,
    "start_time": "2023-10-09T07:09:02.786Z"
   },
   {
    "duration": 97,
    "start_time": "2023-10-09T07:09:02.831Z"
   },
   {
    "duration": 3097,
    "start_time": "2023-10-09T07:09:02.929Z"
   },
   {
    "duration": 68,
    "start_time": "2023-10-09T07:09:06.028Z"
   },
   {
    "duration": 12,
    "start_time": "2023-10-09T07:09:06.098Z"
   },
   {
    "duration": 70,
    "start_time": "2023-10-09T07:09:06.112Z"
   },
   {
    "duration": 52,
    "start_time": "2023-10-09T07:09:06.184Z"
   },
   {
    "duration": 61,
    "start_time": "2023-10-09T07:09:06.238Z"
   },
   {
    "duration": 20,
    "start_time": "2023-10-09T07:09:06.301Z"
   },
   {
    "duration": 231,
    "start_time": "2023-10-09T07:09:06.322Z"
   },
   {
    "duration": 12,
    "start_time": "2023-10-09T07:09:06.559Z"
   },
   {
    "duration": 19,
    "start_time": "2023-10-09T07:09:06.576Z"
   },
   {
    "duration": 8,
    "start_time": "2023-10-09T07:09:06.598Z"
   },
   {
    "duration": 27,
    "start_time": "2023-10-09T07:09:06.608Z"
   },
   {
    "duration": 276,
    "start_time": "2023-10-09T07:09:06.637Z"
   },
   {
    "duration": 5,
    "start_time": "2023-10-09T07:09:06.914Z"
   },
   {
    "duration": 33,
    "start_time": "2023-10-09T07:09:06.921Z"
   },
   {
    "duration": 8,
    "start_time": "2023-10-09T07:09:06.957Z"
   },
   {
    "duration": 24,
    "start_time": "2023-10-09T07:09:06.967Z"
   },
   {
    "duration": 17,
    "start_time": "2023-10-09T07:09:06.993Z"
   },
   {
    "duration": 57,
    "start_time": "2023-10-09T07:09:07.011Z"
   },
   {
    "duration": 11,
    "start_time": "2023-10-09T07:09:07.070Z"
   },
   {
    "duration": 46,
    "start_time": "2023-10-09T07:09:07.083Z"
   },
   {
    "duration": 15,
    "start_time": "2023-10-09T07:09:07.130Z"
   },
   {
    "duration": 17,
    "start_time": "2023-10-09T07:09:07.149Z"
   },
   {
    "duration": 32,
    "start_time": "2023-10-09T07:09:07.169Z"
   },
   {
    "duration": 25,
    "start_time": "2023-10-09T07:09:07.203Z"
   },
   {
    "duration": 56,
    "start_time": "2023-10-09T07:09:07.230Z"
   },
   {
    "duration": 22,
    "start_time": "2023-10-09T07:09:07.288Z"
   },
   {
    "duration": 51,
    "start_time": "2023-10-09T07:09:07.311Z"
   },
   {
    "duration": 24,
    "start_time": "2023-10-09T07:09:07.365Z"
   },
   {
    "duration": 237,
    "start_time": "2023-10-09T07:09:07.391Z"
   },
   {
    "duration": 31,
    "start_time": "2023-10-09T07:09:07.630Z"
   },
   {
    "duration": 5,
    "start_time": "2023-10-09T07:09:07.677Z"
   },
   {
    "duration": 23,
    "start_time": "2023-10-09T07:09:07.683Z"
   },
   {
    "duration": 20,
    "start_time": "2023-10-09T07:09:07.707Z"
   },
   {
    "duration": 38,
    "start_time": "2023-10-09T07:09:07.729Z"
   },
   {
    "duration": 34,
    "start_time": "2023-10-09T07:09:07.776Z"
   },
   {
    "duration": 15,
    "start_time": "2023-10-09T07:09:07.811Z"
   },
   {
    "duration": 40,
    "start_time": "2023-10-09T07:09:07.832Z"
   },
   {
    "duration": 34,
    "start_time": "2023-10-09T07:09:07.878Z"
   },
   {
    "duration": 6,
    "start_time": "2023-10-09T07:09:07.914Z"
   },
   {
    "duration": 16,
    "start_time": "2023-10-09T07:09:07.922Z"
   },
   {
    "duration": 53,
    "start_time": "2023-10-09T07:09:07.940Z"
   },
   {
    "duration": 523,
    "start_time": "2023-10-09T07:09:07.995Z"
   },
   {
    "duration": 315,
    "start_time": "2023-10-09T07:09:08.520Z"
   },
   {
    "duration": 35,
    "start_time": "2023-10-09T07:09:08.837Z"
   },
   {
    "duration": 13,
    "start_time": "2023-10-09T07:09:08.873Z"
   },
   {
    "duration": 6,
    "start_time": "2023-10-09T07:09:08.888Z"
   },
   {
    "duration": 28,
    "start_time": "2023-10-09T07:09:08.895Z"
   },
   {
    "duration": 676,
    "start_time": "2023-10-09T07:09:08.925Z"
   },
   {
    "duration": 9,
    "start_time": "2023-10-09T07:09:09.604Z"
   },
   {
    "duration": 9,
    "start_time": "2023-10-09T07:09:09.615Z"
   },
   {
    "duration": 13,
    "start_time": "2023-10-09T07:09:09.626Z"
   },
   {
    "duration": 28,
    "start_time": "2023-10-09T07:09:09.653Z"
   },
   {
    "duration": 299,
    "start_time": "2023-10-09T07:09:09.682Z"
   },
   {
    "duration": 10,
    "start_time": "2023-10-09T07:09:09.983Z"
   },
   {
    "duration": 250,
    "start_time": "2023-10-09T07:09:09.994Z"
   },
   {
    "duration": 263,
    "start_time": "2023-10-09T07:09:10.246Z"
   },
   {
    "duration": 8,
    "start_time": "2023-10-09T07:09:10.510Z"
   },
   {
    "duration": 43,
    "start_time": "2023-10-09T07:09:10.519Z"
   },
   {
    "duration": 32,
    "start_time": "2023-10-09T07:09:10.564Z"
   },
   {
    "duration": 32,
    "start_time": "2023-10-09T07:09:10.597Z"
   },
   {
    "duration": 274,
    "start_time": "2023-10-09T07:09:10.630Z"
   },
   {
    "duration": 196,
    "start_time": "2023-10-09T07:09:10.906Z"
   },
   {
    "duration": 10,
    "start_time": "2023-10-09T07:09:11.104Z"
   },
   {
    "duration": 408,
    "start_time": "2023-10-09T07:09:11.115Z"
   },
   {
    "duration": 586,
    "start_time": "2023-10-09T07:09:11.524Z"
   },
   {
    "duration": 274,
    "start_time": "2023-10-09T07:09:12.112Z"
   },
   {
    "duration": 246,
    "start_time": "2023-10-09T07:09:12.388Z"
   },
   {
    "duration": 253,
    "start_time": "2023-10-09T07:09:12.636Z"
   },
   {
    "duration": 206,
    "start_time": "2023-10-09T07:09:12.891Z"
   },
   {
    "duration": 193,
    "start_time": "2023-10-09T07:09:13.099Z"
   },
   {
    "duration": 223,
    "start_time": "2023-10-09T07:09:13.294Z"
   },
   {
    "duration": 208,
    "start_time": "2023-10-09T07:09:13.520Z"
   },
   {
    "duration": 251,
    "start_time": "2023-10-09T07:09:13.730Z"
   },
   {
    "duration": 9,
    "start_time": "2023-10-09T07:09:13.982Z"
   },
   {
    "duration": 50,
    "start_time": "2023-10-09T07:09:13.993Z"
   },
   {
    "duration": 243,
    "start_time": "2023-10-09T07:09:14.045Z"
   },
   {
    "duration": 42,
    "start_time": "2023-10-09T07:09:14.290Z"
   },
   {
    "duration": 51,
    "start_time": "2023-10-09T07:12:18.474Z"
   },
   {
    "duration": 62,
    "start_time": "2023-10-09T07:13:04.275Z"
   },
   {
    "duration": 73,
    "start_time": "2023-10-09T07:13:50.240Z"
   },
   {
    "duration": 43,
    "start_time": "2023-10-09T07:14:13.478Z"
   },
   {
    "duration": 133,
    "start_time": "2023-10-09T07:14:37.290Z"
   },
   {
    "duration": 687,
    "start_time": "2023-10-09T07:14:50.429Z"
   },
   {
    "duration": 48,
    "start_time": "2023-10-09T07:15:01.119Z"
   },
   {
    "duration": 42,
    "start_time": "2023-10-09T07:16:39.985Z"
   },
   {
    "duration": 122,
    "start_time": "2023-10-09T07:17:00.177Z"
   },
   {
    "duration": 19,
    "start_time": "2023-10-09T07:17:04.866Z"
   },
   {
    "duration": 22,
    "start_time": "2023-10-09T07:17:11.035Z"
   },
   {
    "duration": 21,
    "start_time": "2023-10-09T07:17:19.398Z"
   },
   {
    "duration": 65,
    "start_time": "2023-10-09T07:17:23.801Z"
   },
   {
    "duration": 54,
    "start_time": "2023-10-09T07:17:29.002Z"
   },
   {
    "duration": 49,
    "start_time": "2023-10-09T07:17:36.933Z"
   },
   {
    "duration": 52,
    "start_time": "2023-10-09T07:17:45.711Z"
   },
   {
    "duration": 39,
    "start_time": "2023-10-09T07:17:53.985Z"
   },
   {
    "duration": 48,
    "start_time": "2023-10-09T07:18:13.019Z"
   },
   {
    "duration": 52,
    "start_time": "2023-10-09T07:18:29.738Z"
   },
   {
    "duration": 18,
    "start_time": "2023-10-09T07:20:23.281Z"
   },
   {
    "duration": 40,
    "start_time": "2023-10-09T07:20:27.302Z"
   },
   {
    "duration": 8,
    "start_time": "2023-10-09T07:21:42.789Z"
   },
   {
    "duration": 54,
    "start_time": "2023-10-09T07:21:48.906Z"
   },
   {
    "duration": 18,
    "start_time": "2023-10-09T07:23:35.281Z"
   },
   {
    "duration": 1546,
    "start_time": "2023-10-09T07:23:52.001Z"
   },
   {
    "duration": 14,
    "start_time": "2023-10-09T07:24:05.825Z"
   },
   {
    "duration": 18,
    "start_time": "2023-10-09T07:24:45.142Z"
   },
   {
    "duration": 11,
    "start_time": "2023-10-09T07:24:50.972Z"
   },
   {
    "duration": 6,
    "start_time": "2023-10-09T07:26:09.029Z"
   },
   {
    "duration": 12,
    "start_time": "2023-10-09T07:27:20.917Z"
   },
   {
    "duration": 7,
    "start_time": "2023-10-09T07:28:47.797Z"
   },
   {
    "duration": 12,
    "start_time": "2023-10-09T07:29:03.906Z"
   },
   {
    "duration": 7,
    "start_time": "2023-10-09T07:29:20.441Z"
   },
   {
    "duration": 5,
    "start_time": "2023-10-09T07:29:38.005Z"
   },
   {
    "duration": 8,
    "start_time": "2023-10-09T07:30:20.977Z"
   },
   {
    "duration": 6,
    "start_time": "2023-10-09T07:30:23.603Z"
   },
   {
    "duration": 7,
    "start_time": "2023-10-09T07:30:45.082Z"
   },
   {
    "duration": 7,
    "start_time": "2023-10-09T07:31:00.074Z"
   },
   {
    "duration": 59,
    "start_time": "2023-10-09T07:49:15.306Z"
   },
   {
    "duration": 19,
    "start_time": "2023-10-09T07:49:24.218Z"
   },
   {
    "duration": 217,
    "start_time": "2023-10-09T07:49:37.748Z"
   },
   {
    "duration": 1336,
    "start_time": "2023-10-09T08:30:42.898Z"
   },
   {
    "duration": 41,
    "start_time": "2023-10-09T08:30:44.236Z"
   },
   {
    "duration": 87,
    "start_time": "2023-10-09T08:30:44.279Z"
   },
   {
    "duration": 2686,
    "start_time": "2023-10-09T08:30:44.368Z"
   },
   {
    "duration": 29,
    "start_time": "2023-10-09T08:30:47.056Z"
   },
   {
    "duration": 9,
    "start_time": "2023-10-09T08:30:47.087Z"
   },
   {
    "duration": 45,
    "start_time": "2023-10-09T08:30:47.097Z"
   },
   {
    "duration": 9,
    "start_time": "2023-10-09T08:30:47.146Z"
   },
   {
    "duration": 53,
    "start_time": "2023-10-09T08:30:47.157Z"
   },
   {
    "duration": 4,
    "start_time": "2023-10-09T08:30:47.212Z"
   },
   {
    "duration": 211,
    "start_time": "2023-10-09T08:30:47.218Z"
   },
   {
    "duration": 16,
    "start_time": "2023-10-09T08:30:47.431Z"
   },
   {
    "duration": 7,
    "start_time": "2023-10-09T08:30:47.449Z"
   },
   {
    "duration": 29,
    "start_time": "2023-10-09T08:30:47.459Z"
   },
   {
    "duration": 37,
    "start_time": "2023-10-09T08:30:47.489Z"
   },
   {
    "duration": 224,
    "start_time": "2023-10-09T08:30:47.528Z"
   },
   {
    "duration": 5,
    "start_time": "2023-10-09T08:30:47.753Z"
   },
   {
    "duration": 29,
    "start_time": "2023-10-09T08:30:47.760Z"
   },
   {
    "duration": 14,
    "start_time": "2023-10-09T08:30:47.791Z"
   },
   {
    "duration": 22,
    "start_time": "2023-10-09T08:30:47.807Z"
   },
   {
    "duration": 43,
    "start_time": "2023-10-09T08:30:47.831Z"
   },
   {
    "duration": 35,
    "start_time": "2023-10-09T08:30:47.876Z"
   },
   {
    "duration": 8,
    "start_time": "2023-10-09T08:30:47.912Z"
   },
   {
    "duration": 31,
    "start_time": "2023-10-09T08:30:47.921Z"
   },
   {
    "duration": 22,
    "start_time": "2023-10-09T08:30:47.954Z"
   },
   {
    "duration": 29,
    "start_time": "2023-10-09T08:30:47.977Z"
   },
   {
    "duration": 28,
    "start_time": "2023-10-09T08:30:48.008Z"
   },
   {
    "duration": 41,
    "start_time": "2023-10-09T08:30:48.038Z"
   },
   {
    "duration": 20,
    "start_time": "2023-10-09T08:30:48.081Z"
   },
   {
    "duration": 31,
    "start_time": "2023-10-09T08:30:48.103Z"
   },
   {
    "duration": 18,
    "start_time": "2023-10-09T08:30:48.135Z"
   },
   {
    "duration": 26,
    "start_time": "2023-10-09T08:30:48.155Z"
   },
   {
    "duration": 124,
    "start_time": "2023-10-09T08:30:48.183Z"
   },
   {
    "duration": 14,
    "start_time": "2023-10-09T08:30:48.309Z"
   },
   {
    "duration": 13,
    "start_time": "2023-10-09T08:30:48.324Z"
   },
   {
    "duration": 19,
    "start_time": "2023-10-09T08:30:48.339Z"
   },
   {
    "duration": 11,
    "start_time": "2023-10-09T08:30:48.360Z"
   },
   {
    "duration": 9,
    "start_time": "2023-10-09T08:30:48.373Z"
   },
   {
    "duration": 46,
    "start_time": "2023-10-09T08:30:48.383Z"
   },
   {
    "duration": 11,
    "start_time": "2023-10-09T08:30:48.431Z"
   },
   {
    "duration": 8,
    "start_time": "2023-10-09T08:30:48.451Z"
   },
   {
    "duration": 40,
    "start_time": "2023-10-09T08:30:48.461Z"
   },
   {
    "duration": 5,
    "start_time": "2023-10-09T08:30:48.503Z"
   },
   {
    "duration": 19,
    "start_time": "2023-10-09T08:30:48.509Z"
   },
   {
    "duration": 43,
    "start_time": "2023-10-09T08:30:48.530Z"
   },
   {
    "duration": 468,
    "start_time": "2023-10-09T08:30:48.575Z"
   },
   {
    "duration": 277,
    "start_time": "2023-10-09T08:30:49.047Z"
   },
   {
    "duration": 11,
    "start_time": "2023-10-09T08:30:49.326Z"
   },
   {
    "duration": 12,
    "start_time": "2023-10-09T08:30:49.347Z"
   },
   {
    "duration": 14,
    "start_time": "2023-10-09T08:30:49.361Z"
   },
   {
    "duration": 35,
    "start_time": "2023-10-09T08:30:49.377Z"
   },
   {
    "duration": 572,
    "start_time": "2023-10-09T08:30:49.414Z"
   },
   {
    "duration": 10,
    "start_time": "2023-10-09T08:30:49.988Z"
   },
   {
    "duration": 27,
    "start_time": "2023-10-09T08:30:50.000Z"
   },
   {
    "duration": 43,
    "start_time": "2023-10-09T08:30:50.029Z"
   },
   {
    "duration": 53,
    "start_time": "2023-10-09T08:30:50.073Z"
   },
   {
    "duration": 270,
    "start_time": "2023-10-09T08:30:50.128Z"
   },
   {
    "duration": 10,
    "start_time": "2023-10-09T08:30:50.399Z"
   },
   {
    "duration": 236,
    "start_time": "2023-10-09T08:30:50.411Z"
   },
   {
    "duration": 216,
    "start_time": "2023-10-09T08:30:50.648Z"
   },
   {
    "duration": 7,
    "start_time": "2023-10-09T08:30:50.866Z"
   },
   {
    "duration": 54,
    "start_time": "2023-10-09T08:30:50.875Z"
   },
   {
    "duration": 58,
    "start_time": "2023-10-09T08:30:50.931Z"
   },
   {
    "duration": 45,
    "start_time": "2023-10-09T08:30:50.991Z"
   },
   {
    "duration": 263,
    "start_time": "2023-10-09T08:30:51.038Z"
   },
   {
    "duration": 171,
    "start_time": "2023-10-09T08:30:51.303Z"
   },
   {
    "duration": 10,
    "start_time": "2023-10-09T08:30:51.476Z"
   },
   {
    "duration": 362,
    "start_time": "2023-10-09T08:30:51.487Z"
   },
   {
    "duration": 488,
    "start_time": "2023-10-09T08:30:51.850Z"
   },
   {
    "duration": 213,
    "start_time": "2023-10-09T08:30:52.340Z"
   },
   {
    "duration": 221,
    "start_time": "2023-10-09T08:30:52.556Z"
   },
   {
    "duration": 212,
    "start_time": "2023-10-09T08:30:52.778Z"
   },
   {
    "duration": 183,
    "start_time": "2023-10-09T08:30:52.992Z"
   },
   {
    "duration": 170,
    "start_time": "2023-10-09T08:30:53.178Z"
   },
   {
    "duration": 188,
    "start_time": "2023-10-09T08:30:53.350Z"
   },
   {
    "duration": 175,
    "start_time": "2023-10-09T08:30:53.540Z"
   },
   {
    "duration": 177,
    "start_time": "2023-10-09T08:30:53.716Z"
   },
   {
    "duration": 8,
    "start_time": "2023-10-09T08:30:53.895Z"
   },
   {
    "duration": 149,
    "start_time": "2023-10-09T08:30:53.905Z"
   },
   {
    "duration": 224,
    "start_time": "2023-10-09T08:30:54.056Z"
   },
   {
    "duration": 11,
    "start_time": "2023-10-09T08:30:54.282Z"
   },
   {
    "duration": 201,
    "start_time": "2023-10-09T08:30:54.296Z"
   },
   {
    "duration": 47,
    "start_time": "2023-10-10T06:07:07.472Z"
   },
   {
    "duration": 1535,
    "start_time": "2023-10-10T06:07:15.412Z"
   },
   {
    "duration": 40,
    "start_time": "2023-10-10T06:07:16.950Z"
   },
   {
    "duration": 84,
    "start_time": "2023-10-10T06:07:16.992Z"
   },
   {
    "duration": 2349,
    "start_time": "2023-10-10T06:07:17.077Z"
   },
   {
    "duration": 28,
    "start_time": "2023-10-10T06:07:19.428Z"
   },
   {
    "duration": 9,
    "start_time": "2023-10-10T06:07:19.457Z"
   },
   {
    "duration": 44,
    "start_time": "2023-10-10T06:07:19.467Z"
   },
   {
    "duration": 9,
    "start_time": "2023-10-10T06:07:19.513Z"
   },
   {
    "duration": 40,
    "start_time": "2023-10-10T06:07:19.523Z"
   },
   {
    "duration": 7,
    "start_time": "2023-10-10T06:07:19.564Z"
   },
   {
    "duration": 179,
    "start_time": "2023-10-10T06:07:19.572Z"
   },
   {
    "duration": 9,
    "start_time": "2023-10-10T06:07:19.753Z"
   },
   {
    "duration": 17,
    "start_time": "2023-10-10T06:07:19.764Z"
   },
   {
    "duration": 11,
    "start_time": "2023-10-10T06:07:19.784Z"
   },
   {
    "duration": 15,
    "start_time": "2023-10-10T06:07:19.797Z"
   },
   {
    "duration": 244,
    "start_time": "2023-10-10T06:07:19.814Z"
   },
   {
    "duration": 5,
    "start_time": "2023-10-10T06:07:20.059Z"
   },
   {
    "duration": 49,
    "start_time": "2023-10-10T06:07:20.066Z"
   },
   {
    "duration": 17,
    "start_time": "2023-10-10T06:07:20.116Z"
   },
   {
    "duration": 5,
    "start_time": "2023-10-10T06:07:20.135Z"
   },
   {
    "duration": 5,
    "start_time": "2023-10-10T06:07:20.143Z"
   },
   {
    "duration": 23,
    "start_time": "2023-10-10T06:07:20.149Z"
   },
   {
    "duration": 26,
    "start_time": "2023-10-10T06:07:20.174Z"
   },
   {
    "duration": 51,
    "start_time": "2023-10-10T06:07:20.202Z"
   },
   {
    "duration": 12,
    "start_time": "2023-10-10T06:07:20.255Z"
   },
   {
    "duration": 33,
    "start_time": "2023-10-10T06:07:20.269Z"
   },
   {
    "duration": 16,
    "start_time": "2023-10-10T06:07:20.303Z"
   },
   {
    "duration": 19,
    "start_time": "2023-10-10T06:07:20.321Z"
   },
   {
    "duration": 18,
    "start_time": "2023-10-10T06:07:20.341Z"
   },
   {
    "duration": 20,
    "start_time": "2023-10-10T06:07:20.360Z"
   },
   {
    "duration": 29,
    "start_time": "2023-10-10T06:07:20.381Z"
   },
   {
    "duration": 26,
    "start_time": "2023-10-10T06:07:20.411Z"
   },
   {
    "duration": 115,
    "start_time": "2023-10-10T06:07:20.438Z"
   },
   {
    "duration": 13,
    "start_time": "2023-10-10T06:07:20.554Z"
   },
   {
    "duration": 21,
    "start_time": "2023-10-10T06:07:20.569Z"
   },
   {
    "duration": 30,
    "start_time": "2023-10-10T06:07:20.592Z"
   },
   {
    "duration": 6,
    "start_time": "2023-10-10T06:07:20.624Z"
   },
   {
    "duration": 12,
    "start_time": "2023-10-10T06:07:20.631Z"
   },
   {
    "duration": 67,
    "start_time": "2023-10-10T06:07:20.645Z"
   },
   {
    "duration": 50,
    "start_time": "2023-10-10T06:07:20.713Z"
   },
   {
    "duration": 28,
    "start_time": "2023-10-10T06:07:20.767Z"
   },
   {
    "duration": 56,
    "start_time": "2023-10-10T06:07:20.796Z"
   },
   {
    "duration": 5,
    "start_time": "2023-10-10T06:07:20.854Z"
   },
   {
    "duration": 35,
    "start_time": "2023-10-10T06:07:20.860Z"
   },
   {
    "duration": 34,
    "start_time": "2023-10-10T06:07:20.896Z"
   },
   {
    "duration": 400,
    "start_time": "2023-10-10T06:07:20.931Z"
   },
   {
    "duration": 238,
    "start_time": "2023-10-10T06:07:21.332Z"
   },
   {
    "duration": 9,
    "start_time": "2023-10-10T06:07:21.572Z"
   },
   {
    "duration": 44,
    "start_time": "2023-10-10T06:07:21.583Z"
   },
   {
    "duration": 16,
    "start_time": "2023-10-10T06:07:21.628Z"
   },
   {
    "duration": 33,
    "start_time": "2023-10-10T06:07:21.646Z"
   },
   {
    "duration": 554,
    "start_time": "2023-10-10T06:07:21.681Z"
   },
   {
    "duration": 14,
    "start_time": "2023-10-10T06:07:22.237Z"
   },
   {
    "duration": 23,
    "start_time": "2023-10-10T06:07:22.252Z"
   },
   {
    "duration": 35,
    "start_time": "2023-10-10T06:07:22.277Z"
   },
   {
    "duration": 48,
    "start_time": "2023-10-10T06:07:22.314Z"
   },
   {
    "duration": 232,
    "start_time": "2023-10-10T06:07:22.364Z"
   },
   {
    "duration": 10,
    "start_time": "2023-10-10T06:07:22.598Z"
   },
   {
    "duration": 220,
    "start_time": "2023-10-10T06:07:22.610Z"
   },
   {
    "duration": 205,
    "start_time": "2023-10-10T06:07:22.832Z"
   },
   {
    "duration": 12,
    "start_time": "2023-10-10T06:07:23.039Z"
   },
   {
    "duration": 34,
    "start_time": "2023-10-10T06:07:23.052Z"
   },
   {
    "duration": 30,
    "start_time": "2023-10-10T06:07:23.088Z"
   },
   {
    "duration": 13,
    "start_time": "2023-10-10T06:07:23.120Z"
   },
   {
    "duration": 203,
    "start_time": "2023-10-10T06:07:23.135Z"
   },
   {
    "duration": 161,
    "start_time": "2023-10-10T06:07:23.339Z"
   },
   {
    "duration": 10,
    "start_time": "2023-10-10T06:07:23.502Z"
   },
   {
    "duration": 306,
    "start_time": "2023-10-10T06:07:23.513Z"
   },
   {
    "duration": 496,
    "start_time": "2023-10-10T06:07:23.822Z"
   },
   {
    "duration": 205,
    "start_time": "2023-10-10T06:07:24.320Z"
   },
   {
    "duration": 194,
    "start_time": "2023-10-10T06:07:24.527Z"
   },
   {
    "duration": 188,
    "start_time": "2023-10-10T06:07:24.723Z"
   },
   {
    "duration": 160,
    "start_time": "2023-10-10T06:07:24.913Z"
   },
   {
    "duration": 150,
    "start_time": "2023-10-10T06:07:25.074Z"
   },
   {
    "duration": 168,
    "start_time": "2023-10-10T06:07:25.226Z"
   },
   {
    "duration": 154,
    "start_time": "2023-10-10T06:07:25.396Z"
   },
   {
    "duration": 155,
    "start_time": "2023-10-10T06:07:25.552Z"
   },
   {
    "duration": 8,
    "start_time": "2023-10-10T06:07:25.708Z"
   },
   {
    "duration": 33,
    "start_time": "2023-10-10T06:07:25.717Z"
   },
   {
    "duration": 173,
    "start_time": "2023-10-10T06:07:25.752Z"
   },
   {
    "duration": 9,
    "start_time": "2023-10-10T06:07:25.926Z"
   },
   {
    "duration": 164,
    "start_time": "2023-10-10T06:07:25.944Z"
   },
   {
    "duration": 77,
    "start_time": "2023-10-10T06:09:40.426Z"
   },
   {
    "duration": 132,
    "start_time": "2023-10-10T06:09:50.601Z"
   },
   {
    "duration": 155,
    "start_time": "2023-10-10T06:10:03.549Z"
   },
   {
    "duration": 76,
    "start_time": "2023-10-10T06:11:35.891Z"
   },
   {
    "duration": 158,
    "start_time": "2023-10-10T06:14:17.113Z"
   },
   {
    "duration": 8,
    "start_time": "2023-10-10T06:17:36.670Z"
   },
   {
    "duration": 80,
    "start_time": "2023-10-10T06:19:11.151Z"
   },
   {
    "duration": 423,
    "start_time": "2023-10-10T06:20:51.914Z"
   },
   {
    "duration": 5,
    "start_time": "2023-10-10T06:32:21.531Z"
   },
   {
    "duration": 1220,
    "start_time": "2023-10-10T06:32:41.555Z"
   },
   {
    "duration": 40,
    "start_time": "2023-10-10T06:32:42.777Z"
   },
   {
    "duration": 83,
    "start_time": "2023-10-10T06:32:42.819Z"
   },
   {
    "duration": 2458,
    "start_time": "2023-10-10T06:32:42.904Z"
   },
   {
    "duration": 26,
    "start_time": "2023-10-10T06:32:45.364Z"
   },
   {
    "duration": 8,
    "start_time": "2023-10-10T06:32:45.391Z"
   },
   {
    "duration": 58,
    "start_time": "2023-10-10T06:32:45.401Z"
   },
   {
    "duration": 9,
    "start_time": "2023-10-10T06:32:45.460Z"
   },
   {
    "duration": 30,
    "start_time": "2023-10-10T06:32:45.470Z"
   },
   {
    "duration": 11,
    "start_time": "2023-10-10T06:32:45.502Z"
   },
   {
    "duration": 185,
    "start_time": "2023-10-10T06:32:45.515Z"
   },
   {
    "duration": 9,
    "start_time": "2023-10-10T06:32:45.701Z"
   },
   {
    "duration": 10,
    "start_time": "2023-10-10T06:32:45.711Z"
   },
   {
    "duration": 25,
    "start_time": "2023-10-10T06:32:45.724Z"
   },
   {
    "duration": 26,
    "start_time": "2023-10-10T06:32:45.751Z"
   },
   {
    "duration": 202,
    "start_time": "2023-10-10T06:32:45.779Z"
   },
   {
    "duration": 6,
    "start_time": "2023-10-10T06:32:45.983Z"
   },
   {
    "duration": 26,
    "start_time": "2023-10-10T06:32:45.990Z"
   },
   {
    "duration": 13,
    "start_time": "2023-10-10T06:32:46.018Z"
   },
   {
    "duration": 13,
    "start_time": "2023-10-10T06:32:46.033Z"
   },
   {
    "duration": 18,
    "start_time": "2023-10-10T06:32:46.048Z"
   },
   {
    "duration": 7,
    "start_time": "2023-10-10T06:32:46.067Z"
   },
   {
    "duration": 5,
    "start_time": "2023-10-10T06:32:46.075Z"
   },
   {
    "duration": 11,
    "start_time": "2023-10-10T06:32:46.082Z"
   },
   {
    "duration": 12,
    "start_time": "2023-10-10T06:32:46.095Z"
   },
   {
    "duration": 23,
    "start_time": "2023-10-10T06:32:46.109Z"
   },
   {
    "duration": 15,
    "start_time": "2023-10-10T06:32:46.134Z"
   },
   {
    "duration": 15,
    "start_time": "2023-10-10T06:32:46.150Z"
   },
   {
    "duration": 7,
    "start_time": "2023-10-10T06:32:46.166Z"
   },
   {
    "duration": 9,
    "start_time": "2023-10-10T06:32:46.174Z"
   },
   {
    "duration": 21,
    "start_time": "2023-10-10T06:32:46.185Z"
   },
   {
    "duration": 7,
    "start_time": "2023-10-10T06:32:46.207Z"
   },
   {
    "duration": 117,
    "start_time": "2023-10-10T06:32:46.216Z"
   },
   {
    "duration": 8,
    "start_time": "2023-10-10T06:32:46.336Z"
   },
   {
    "duration": 25,
    "start_time": "2023-10-10T06:32:46.346Z"
   },
   {
    "duration": 3,
    "start_time": "2023-10-10T06:32:46.373Z"
   },
   {
    "duration": 16,
    "start_time": "2023-10-10T06:32:46.378Z"
   },
   {
    "duration": 13,
    "start_time": "2023-10-10T06:32:46.395Z"
   },
   {
    "duration": 11,
    "start_time": "2023-10-10T06:32:46.410Z"
   },
   {
    "duration": 43,
    "start_time": "2023-10-10T06:32:46.422Z"
   },
   {
    "duration": 8,
    "start_time": "2023-10-10T06:32:46.469Z"
   },
   {
    "duration": 17,
    "start_time": "2023-10-10T06:32:46.478Z"
   },
   {
    "duration": 51,
    "start_time": "2023-10-10T06:32:46.497Z"
   },
   {
    "duration": 5,
    "start_time": "2023-10-10T06:32:46.549Z"
   },
   {
    "duration": 24,
    "start_time": "2023-10-10T06:32:46.556Z"
   },
   {
    "duration": 57,
    "start_time": "2023-10-10T06:32:46.582Z"
   },
   {
    "duration": 416,
    "start_time": "2023-10-10T06:32:46.640Z"
   },
   {
    "duration": 249,
    "start_time": "2023-10-10T06:32:47.058Z"
   },
   {
    "duration": 9,
    "start_time": "2023-10-10T06:32:47.309Z"
   },
   {
    "duration": 19,
    "start_time": "2023-10-10T06:32:47.319Z"
   },
   {
    "duration": 20,
    "start_time": "2023-10-10T06:32:47.340Z"
   },
   {
    "duration": 21,
    "start_time": "2023-10-10T06:32:47.361Z"
   },
   {
    "duration": 575,
    "start_time": "2023-10-10T06:32:47.384Z"
   },
   {
    "duration": 8,
    "start_time": "2023-10-10T06:32:47.961Z"
   },
   {
    "duration": 15,
    "start_time": "2023-10-10T06:32:47.971Z"
   },
   {
    "duration": 10,
    "start_time": "2023-10-10T06:32:47.988Z"
   },
   {
    "duration": 22,
    "start_time": "2023-10-10T06:32:47.999Z"
   },
   {
    "duration": 210,
    "start_time": "2023-10-10T06:32:48.022Z"
   },
   {
    "duration": 18,
    "start_time": "2023-10-10T06:32:48.234Z"
   },
   {
    "duration": 195,
    "start_time": "2023-10-10T06:32:48.254Z"
   },
   {
    "duration": 193,
    "start_time": "2023-10-10T06:32:48.451Z"
   },
   {
    "duration": 8,
    "start_time": "2023-10-10T06:32:48.646Z"
   },
   {
    "duration": 12,
    "start_time": "2023-10-10T06:32:48.656Z"
   },
   {
    "duration": 22,
    "start_time": "2023-10-10T06:32:48.670Z"
   },
   {
    "duration": 7,
    "start_time": "2023-10-10T06:32:48.694Z"
   },
   {
    "duration": 208,
    "start_time": "2023-10-10T06:32:48.703Z"
   },
   {
    "duration": 162,
    "start_time": "2023-10-10T06:32:48.912Z"
   },
   {
    "duration": 9,
    "start_time": "2023-10-10T06:32:49.076Z"
   },
   {
    "duration": 295,
    "start_time": "2023-10-10T06:32:49.087Z"
   },
   {
    "duration": 386,
    "start_time": "2023-10-10T06:32:49.383Z"
   },
   {
    "duration": 184,
    "start_time": "2023-10-10T06:32:49.771Z"
   },
   {
    "duration": 191,
    "start_time": "2023-10-10T06:32:49.956Z"
   },
   {
    "duration": 189,
    "start_time": "2023-10-10T06:32:50.149Z"
   },
   {
    "duration": 144,
    "start_time": "2023-10-10T06:32:50.339Z"
   },
   {
    "duration": 141,
    "start_time": "2023-10-10T06:32:50.485Z"
   },
   {
    "duration": 165,
    "start_time": "2023-10-10T06:32:50.627Z"
   },
   {
    "duration": 156,
    "start_time": "2023-10-10T06:32:50.793Z"
   },
   {
    "duration": 158,
    "start_time": "2023-10-10T06:32:50.950Z"
   },
   {
    "duration": 10,
    "start_time": "2023-10-10T06:32:51.111Z"
   },
   {
    "duration": 34,
    "start_time": "2023-10-10T06:32:51.123Z"
   },
   {
    "duration": 181,
    "start_time": "2023-10-10T06:32:51.158Z"
   },
   {
    "duration": 12,
    "start_time": "2023-10-10T06:32:51.343Z"
   },
   {
    "duration": 147,
    "start_time": "2023-10-10T06:32:51.357Z"
   },
   {
    "duration": 156,
    "start_time": "2023-10-10T06:32:58.841Z"
   },
   {
    "duration": 99,
    "start_time": "2023-10-10T06:33:50.763Z"
   },
   {
    "duration": 265,
    "start_time": "2023-10-10T06:34:02.825Z"
   },
   {
    "duration": 183,
    "start_time": "2023-10-10T06:34:14.284Z"
   },
   {
    "duration": 306,
    "start_time": "2023-10-10T06:34:44.595Z"
   },
   {
    "duration": 235,
    "start_time": "2023-10-10T06:38:00.245Z"
   },
   {
    "duration": 12,
    "start_time": "2023-10-10T06:43:51.582Z"
   },
   {
    "duration": 9,
    "start_time": "2023-10-10T06:43:58.450Z"
   },
   {
    "duration": 13,
    "start_time": "2023-10-10T06:44:01.164Z"
   },
   {
    "duration": 6,
    "start_time": "2023-10-10T06:44:12.914Z"
   },
   {
    "duration": 11,
    "start_time": "2023-10-10T06:44:25.306Z"
   },
   {
    "duration": 4,
    "start_time": "2023-10-10T06:44:27.311Z"
   },
   {
    "duration": 5,
    "start_time": "2023-10-10T06:44:44.523Z"
   },
   {
    "duration": 4,
    "start_time": "2023-10-10T06:44:46.731Z"
   },
   {
    "duration": 1356,
    "start_time": "2023-10-10T06:44:59.723Z"
   },
   {
    "duration": 43,
    "start_time": "2023-10-10T06:45:01.081Z"
   },
   {
    "duration": 114,
    "start_time": "2023-10-10T06:45:01.126Z"
   },
   {
    "duration": 2416,
    "start_time": "2023-10-10T06:45:01.242Z"
   },
   {
    "duration": 29,
    "start_time": "2023-10-10T06:45:03.661Z"
   },
   {
    "duration": 8,
    "start_time": "2023-10-10T06:45:03.692Z"
   },
   {
    "duration": 37,
    "start_time": "2023-10-10T06:45:03.702Z"
   },
   {
    "duration": 10,
    "start_time": "2023-10-10T06:45:03.743Z"
   },
   {
    "duration": 43,
    "start_time": "2023-10-10T06:45:03.755Z"
   },
   {
    "duration": 10,
    "start_time": "2023-10-10T06:45:03.800Z"
   },
   {
    "duration": 179,
    "start_time": "2023-10-10T06:45:03.811Z"
   },
   {
    "duration": 9,
    "start_time": "2023-10-10T06:45:03.992Z"
   },
   {
    "duration": 5,
    "start_time": "2023-10-10T06:45:04.002Z"
   },
   {
    "duration": 9,
    "start_time": "2023-10-10T06:45:04.011Z"
   },
   {
    "duration": 64,
    "start_time": "2023-10-10T06:45:04.045Z"
   },
   {
    "duration": 242,
    "start_time": "2023-10-10T06:45:04.111Z"
   },
   {
    "duration": 5,
    "start_time": "2023-10-10T06:45:04.355Z"
   },
   {
    "duration": 75,
    "start_time": "2023-10-10T06:45:04.361Z"
   },
   {
    "duration": 22,
    "start_time": "2023-10-10T06:45:04.438Z"
   },
   {
    "duration": 38,
    "start_time": "2023-10-10T06:45:04.461Z"
   },
   {
    "duration": 41,
    "start_time": "2023-10-10T06:45:04.500Z"
   },
   {
    "duration": 14,
    "start_time": "2023-10-10T06:45:04.543Z"
   },
   {
    "duration": 38,
    "start_time": "2023-10-10T06:45:04.559Z"
   },
   {
    "duration": 35,
    "start_time": "2023-10-10T06:45:04.598Z"
   },
   {
    "duration": 26,
    "start_time": "2023-10-10T06:45:04.635Z"
   },
   {
    "duration": 33,
    "start_time": "2023-10-10T06:45:04.662Z"
   },
   {
    "duration": 19,
    "start_time": "2023-10-10T06:45:04.696Z"
   },
   {
    "duration": 36,
    "start_time": "2023-10-10T06:45:04.717Z"
   },
   {
    "duration": 37,
    "start_time": "2023-10-10T06:45:04.755Z"
   },
   {
    "duration": 40,
    "start_time": "2023-10-10T06:45:04.794Z"
   },
   {
    "duration": 30,
    "start_time": "2023-10-10T06:45:04.836Z"
   },
   {
    "duration": 37,
    "start_time": "2023-10-10T06:45:04.867Z"
   },
   {
    "duration": 39,
    "start_time": "2023-10-10T06:45:04.906Z"
   },
   {
    "duration": 35,
    "start_time": "2023-10-10T06:45:04.946Z"
   },
   {
    "duration": 135,
    "start_time": "2023-10-10T06:45:04.982Z"
   },
   {
    "duration": 6,
    "start_time": "2023-10-10T06:45:05.118Z"
   },
   {
    "duration": 92,
    "start_time": "2023-10-10T06:45:05.126Z"
   },
   {
    "duration": 47,
    "start_time": "2023-10-10T06:45:05.220Z"
   },
   {
    "duration": 43,
    "start_time": "2023-10-10T06:45:05.269Z"
   },
   {
    "duration": 20,
    "start_time": "2023-10-10T06:45:05.313Z"
   },
   {
    "duration": 18,
    "start_time": "2023-10-10T06:45:05.337Z"
   },
   {
    "duration": 45,
    "start_time": "2023-10-10T06:45:05.357Z"
   },
   {
    "duration": 20,
    "start_time": "2023-10-10T06:45:05.404Z"
   },
   {
    "duration": 35,
    "start_time": "2023-10-10T06:45:05.426Z"
   },
   {
    "duration": 48,
    "start_time": "2023-10-10T06:45:05.462Z"
   },
   {
    "duration": 10,
    "start_time": "2023-10-10T06:45:05.511Z"
   },
   {
    "duration": 66,
    "start_time": "2023-10-10T06:45:05.522Z"
   },
   {
    "duration": 46,
    "start_time": "2023-10-10T06:45:05.590Z"
   },
   {
    "duration": 398,
    "start_time": "2023-10-10T06:45:05.638Z"
   },
   {
    "duration": 239,
    "start_time": "2023-10-10T06:45:06.037Z"
   },
   {
    "duration": 10,
    "start_time": "2023-10-10T06:45:06.278Z"
   },
   {
    "duration": 39,
    "start_time": "2023-10-10T06:45:06.289Z"
   },
   {
    "duration": 41,
    "start_time": "2023-10-10T06:45:06.329Z"
   },
   {
    "duration": 40,
    "start_time": "2023-10-10T06:45:06.371Z"
   },
   {
    "duration": 531,
    "start_time": "2023-10-10T06:45:06.413Z"
   },
   {
    "duration": 9,
    "start_time": "2023-10-10T06:45:06.946Z"
   },
   {
    "duration": 21,
    "start_time": "2023-10-10T06:45:06.957Z"
   },
   {
    "duration": 30,
    "start_time": "2023-10-10T06:45:06.980Z"
   },
   {
    "duration": 34,
    "start_time": "2023-10-10T06:45:07.011Z"
   },
   {
    "duration": 211,
    "start_time": "2023-10-10T06:45:07.047Z"
   },
   {
    "duration": 9,
    "start_time": "2023-10-10T06:45:07.260Z"
   },
   {
    "duration": 199,
    "start_time": "2023-10-10T06:45:07.271Z"
   },
   {
    "duration": 192,
    "start_time": "2023-10-10T06:45:07.472Z"
   },
   {
    "duration": 8,
    "start_time": "2023-10-10T06:45:07.666Z"
   },
   {
    "duration": 62,
    "start_time": "2023-10-10T06:45:07.676Z"
   },
   {
    "duration": 22,
    "start_time": "2023-10-10T06:45:07.740Z"
   },
   {
    "duration": 21,
    "start_time": "2023-10-10T06:45:07.763Z"
   },
   {
    "duration": 206,
    "start_time": "2023-10-10T06:45:07.785Z"
   },
   {
    "duration": 153,
    "start_time": "2023-10-10T06:45:07.993Z"
   },
   {
    "duration": 9,
    "start_time": "2023-10-10T06:45:08.148Z"
   },
   {
    "duration": 290,
    "start_time": "2023-10-10T06:45:08.159Z"
   },
   {
    "duration": 388,
    "start_time": "2023-10-10T06:45:08.451Z"
   },
   {
    "duration": 205,
    "start_time": "2023-10-10T06:45:08.843Z"
   },
   {
    "duration": 204,
    "start_time": "2023-10-10T06:45:09.049Z"
   },
   {
    "duration": 189,
    "start_time": "2023-10-10T06:45:09.255Z"
   },
   {
    "duration": 154,
    "start_time": "2023-10-10T06:45:09.446Z"
   },
   {
    "duration": 149,
    "start_time": "2023-10-10T06:45:09.602Z"
   },
   {
    "duration": 168,
    "start_time": "2023-10-10T06:45:09.753Z"
   },
   {
    "duration": 163,
    "start_time": "2023-10-10T06:45:09.923Z"
   },
   {
    "duration": 162,
    "start_time": "2023-10-10T06:45:10.088Z"
   },
   {
    "duration": 8,
    "start_time": "2023-10-10T06:45:10.252Z"
   },
   {
    "duration": 46,
    "start_time": "2023-10-10T06:45:10.261Z"
   },
   {
    "duration": 155,
    "start_time": "2023-10-10T06:45:10.309Z"
   },
   {
    "duration": 9,
    "start_time": "2023-10-10T06:45:10.466Z"
   },
   {
    "duration": 157,
    "start_time": "2023-10-10T06:45:10.476Z"
   },
   {
    "duration": 13,
    "start_time": "2023-10-10T06:45:18.389Z"
   },
   {
    "duration": 5,
    "start_time": "2023-10-10T06:45:18.866Z"
   },
   {
    "duration": 6,
    "start_time": "2023-10-10T06:52:30.730Z"
   },
   {
    "duration": 5,
    "start_time": "2023-10-10T06:52:31.261Z"
   },
   {
    "duration": 5,
    "start_time": "2023-10-10T06:52:36.610Z"
   },
   {
    "duration": 5,
    "start_time": "2023-10-10T06:52:37.292Z"
   },
   {
    "duration": 1188,
    "start_time": "2023-10-10T06:52:48.780Z"
   },
   {
    "duration": 40,
    "start_time": "2023-10-10T06:52:49.970Z"
   },
   {
    "duration": 163,
    "start_time": "2023-10-10T06:52:50.012Z"
   },
   {
    "duration": 2276,
    "start_time": "2023-10-10T06:52:50.178Z"
   },
   {
    "duration": 26,
    "start_time": "2023-10-10T06:52:52.456Z"
   },
   {
    "duration": 11,
    "start_time": "2023-10-10T06:52:52.483Z"
   },
   {
    "duration": 33,
    "start_time": "2023-10-10T06:52:52.496Z"
   },
   {
    "duration": 16,
    "start_time": "2023-10-10T06:52:52.530Z"
   },
   {
    "duration": 35,
    "start_time": "2023-10-10T06:52:52.548Z"
   },
   {
    "duration": 5,
    "start_time": "2023-10-10T06:52:52.585Z"
   },
   {
    "duration": 188,
    "start_time": "2023-10-10T06:52:52.591Z"
   },
   {
    "duration": 10,
    "start_time": "2023-10-10T06:52:52.781Z"
   },
   {
    "duration": 13,
    "start_time": "2023-10-10T06:52:52.793Z"
   },
   {
    "duration": 16,
    "start_time": "2023-10-10T06:52:52.808Z"
   },
   {
    "duration": 44,
    "start_time": "2023-10-10T06:52:52.826Z"
   },
   {
    "duration": 217,
    "start_time": "2023-10-10T06:52:52.871Z"
   },
   {
    "duration": 5,
    "start_time": "2023-10-10T06:52:53.090Z"
   },
   {
    "duration": 18,
    "start_time": "2023-10-10T06:52:53.097Z"
   },
   {
    "duration": 21,
    "start_time": "2023-10-10T06:52:53.117Z"
   },
   {
    "duration": 11,
    "start_time": "2023-10-10T06:52:53.139Z"
   },
   {
    "duration": 20,
    "start_time": "2023-10-10T06:52:53.152Z"
   },
   {
    "duration": 23,
    "start_time": "2023-10-10T06:52:53.174Z"
   },
   {
    "duration": 4,
    "start_time": "2023-10-10T06:52:53.199Z"
   },
   {
    "duration": 12,
    "start_time": "2023-10-10T06:52:53.205Z"
   },
   {
    "duration": 5,
    "start_time": "2023-10-10T06:52:53.219Z"
   },
   {
    "duration": 10,
    "start_time": "2023-10-10T06:52:53.226Z"
   },
   {
    "duration": 8,
    "start_time": "2023-10-10T06:52:53.238Z"
   },
   {
    "duration": 30,
    "start_time": "2023-10-10T06:52:53.253Z"
   },
   {
    "duration": 21,
    "start_time": "2023-10-10T06:52:53.286Z"
   },
   {
    "duration": 11,
    "start_time": "2023-10-10T06:52:53.309Z"
   },
   {
    "duration": 25,
    "start_time": "2023-10-10T06:52:53.321Z"
   },
   {
    "duration": 13,
    "start_time": "2023-10-10T06:52:53.348Z"
   },
   {
    "duration": 64,
    "start_time": "2023-10-10T06:52:53.362Z"
   },
   {
    "duration": 134,
    "start_time": "2023-10-10T06:52:53.428Z"
   },
   {
    "duration": 102,
    "start_time": "2023-10-10T06:52:53.564Z"
   },
   {
    "duration": 6,
    "start_time": "2023-10-10T06:52:53.668Z"
   },
   {
    "duration": 18,
    "start_time": "2023-10-10T06:52:53.676Z"
   },
   {
    "duration": 4,
    "start_time": "2023-10-10T06:52:53.696Z"
   },
   {
    "duration": 16,
    "start_time": "2023-10-10T06:52:53.701Z"
   },
   {
    "duration": 25,
    "start_time": "2023-10-10T06:52:53.719Z"
   },
   {
    "duration": 4,
    "start_time": "2023-10-10T06:52:53.746Z"
   },
   {
    "duration": 24,
    "start_time": "2023-10-10T06:52:53.752Z"
   },
   {
    "duration": 8,
    "start_time": "2023-10-10T06:52:53.778Z"
   },
   {
    "duration": 8,
    "start_time": "2023-10-10T06:52:53.788Z"
   },
   {
    "duration": 55,
    "start_time": "2023-10-10T06:52:53.797Z"
   },
   {
    "duration": 5,
    "start_time": "2023-10-10T06:52:53.854Z"
   },
   {
    "duration": 11,
    "start_time": "2023-10-10T06:52:53.860Z"
   },
   {
    "duration": 23,
    "start_time": "2023-10-10T06:52:53.873Z"
   },
   {
    "duration": 490,
    "start_time": "2023-10-10T06:52:53.898Z"
   },
   {
    "duration": 233,
    "start_time": "2023-10-10T06:52:54.389Z"
   },
   {
    "duration": 9,
    "start_time": "2023-10-10T06:52:54.624Z"
   },
   {
    "duration": 16,
    "start_time": "2023-10-10T06:52:54.634Z"
   },
   {
    "duration": 7,
    "start_time": "2023-10-10T06:52:54.651Z"
   },
   {
    "duration": 10,
    "start_time": "2023-10-10T06:52:54.659Z"
   },
   {
    "duration": 566,
    "start_time": "2023-10-10T06:52:54.671Z"
   },
   {
    "duration": 12,
    "start_time": "2023-10-10T06:52:55.238Z"
   },
   {
    "duration": 31,
    "start_time": "2023-10-10T06:52:55.251Z"
   },
   {
    "duration": 21,
    "start_time": "2023-10-10T06:52:55.283Z"
   },
   {
    "duration": 35,
    "start_time": "2023-10-10T06:52:55.306Z"
   },
   {
    "duration": 230,
    "start_time": "2023-10-10T06:52:55.343Z"
   },
   {
    "duration": 9,
    "start_time": "2023-10-10T06:52:55.574Z"
   },
   {
    "duration": 187,
    "start_time": "2023-10-10T06:52:55.584Z"
   },
   {
    "duration": 186,
    "start_time": "2023-10-10T06:52:55.773Z"
   },
   {
    "duration": 7,
    "start_time": "2023-10-10T06:52:55.961Z"
   },
   {
    "duration": 33,
    "start_time": "2023-10-10T06:52:55.970Z"
   },
   {
    "duration": 75,
    "start_time": "2023-10-10T06:52:56.005Z"
   },
   {
    "duration": 20,
    "start_time": "2023-10-10T06:52:56.082Z"
   },
   {
    "duration": 206,
    "start_time": "2023-10-10T06:52:56.104Z"
   },
   {
    "duration": 153,
    "start_time": "2023-10-10T06:52:56.311Z"
   },
   {
    "duration": 10,
    "start_time": "2023-10-10T06:52:56.465Z"
   },
   {
    "duration": 285,
    "start_time": "2023-10-10T06:52:56.477Z"
   },
   {
    "duration": 396,
    "start_time": "2023-10-10T06:52:56.763Z"
   },
   {
    "duration": 191,
    "start_time": "2023-10-10T06:52:57.160Z"
   },
   {
    "duration": 203,
    "start_time": "2023-10-10T06:52:57.353Z"
   },
   {
    "duration": 190,
    "start_time": "2023-10-10T06:52:57.557Z"
   },
   {
    "duration": 148,
    "start_time": "2023-10-10T06:52:57.750Z"
   },
   {
    "duration": 137,
    "start_time": "2023-10-10T06:52:57.900Z"
   },
   {
    "duration": 153,
    "start_time": "2023-10-10T06:52:58.043Z"
   },
   {
    "duration": 162,
    "start_time": "2023-10-10T06:52:58.198Z"
   },
   {
    "duration": 154,
    "start_time": "2023-10-10T06:52:58.361Z"
   },
   {
    "duration": 7,
    "start_time": "2023-10-10T06:52:58.517Z"
   },
   {
    "duration": 31,
    "start_time": "2023-10-10T06:52:58.529Z"
   },
   {
    "duration": 159,
    "start_time": "2023-10-10T06:52:58.561Z"
   },
   {
    "duration": 8,
    "start_time": "2023-10-10T06:52:58.722Z"
   },
   {
    "duration": 157,
    "start_time": "2023-10-10T06:52:58.732Z"
   },
   {
    "duration": 6,
    "start_time": "2023-10-10T06:55:13.242Z"
   },
   {
    "duration": 4,
    "start_time": "2023-10-10T06:55:13.758Z"
   },
   {
    "duration": 4,
    "start_time": "2023-10-10T06:55:16.031Z"
   },
   {
    "duration": 4,
    "start_time": "2023-10-10T06:57:29.854Z"
   },
   {
    "duration": 5,
    "start_time": "2023-10-10T06:57:32.409Z"
   },
   {
    "duration": 104,
    "start_time": "2023-10-10T06:58:08.779Z"
   },
   {
    "duration": 7,
    "start_time": "2023-10-10T06:58:49.016Z"
   },
   {
    "duration": 4,
    "start_time": "2023-10-10T06:59:20.509Z"
   },
   {
    "duration": 1285,
    "start_time": "2023-10-10T06:59:25.677Z"
   },
   {
    "duration": 36,
    "start_time": "2023-10-10T06:59:26.964Z"
   },
   {
    "duration": 82,
    "start_time": "2023-10-10T06:59:27.001Z"
   },
   {
    "duration": 2373,
    "start_time": "2023-10-10T06:59:27.085Z"
   },
   {
    "duration": 26,
    "start_time": "2023-10-10T06:59:29.460Z"
   },
   {
    "duration": 9,
    "start_time": "2023-10-10T06:59:29.487Z"
   },
   {
    "duration": 43,
    "start_time": "2023-10-10T06:59:29.497Z"
   },
   {
    "duration": 9,
    "start_time": "2023-10-10T06:59:29.541Z"
   },
   {
    "duration": 40,
    "start_time": "2023-10-10T06:59:29.552Z"
   },
   {
    "duration": 35,
    "start_time": "2023-10-10T06:59:29.593Z"
   },
   {
    "duration": 177,
    "start_time": "2023-10-10T06:59:29.629Z"
   },
   {
    "duration": 10,
    "start_time": "2023-10-10T06:59:29.807Z"
   },
   {
    "duration": 6,
    "start_time": "2023-10-10T06:59:29.819Z"
   },
   {
    "duration": 7,
    "start_time": "2023-10-10T06:59:29.847Z"
   },
   {
    "duration": 21,
    "start_time": "2023-10-10T06:59:29.856Z"
   },
   {
    "duration": 195,
    "start_time": "2023-10-10T06:59:29.878Z"
   },
   {
    "duration": 5,
    "start_time": "2023-10-10T06:59:30.075Z"
   },
   {
    "duration": 39,
    "start_time": "2023-10-10T06:59:30.081Z"
   },
   {
    "duration": 29,
    "start_time": "2023-10-10T06:59:30.122Z"
   },
   {
    "duration": 19,
    "start_time": "2023-10-10T06:59:30.152Z"
   },
   {
    "duration": 36,
    "start_time": "2023-10-10T06:59:30.173Z"
   },
   {
    "duration": 15,
    "start_time": "2023-10-10T06:59:30.211Z"
   },
   {
    "duration": 29,
    "start_time": "2023-10-10T06:59:30.229Z"
   },
   {
    "duration": 41,
    "start_time": "2023-10-10T06:59:30.260Z"
   },
   {
    "duration": 30,
    "start_time": "2023-10-10T06:59:30.302Z"
   },
   {
    "duration": 29,
    "start_time": "2023-10-10T06:59:30.333Z"
   },
   {
    "duration": 38,
    "start_time": "2023-10-10T06:59:30.363Z"
   },
   {
    "duration": 33,
    "start_time": "2023-10-10T06:59:30.404Z"
   },
   {
    "duration": 46,
    "start_time": "2023-10-10T06:59:30.439Z"
   },
   {
    "duration": 44,
    "start_time": "2023-10-10T06:59:30.487Z"
   },
   {
    "duration": 41,
    "start_time": "2023-10-10T06:59:30.533Z"
   },
   {
    "duration": 81,
    "start_time": "2023-10-10T06:59:30.576Z"
   },
   {
    "duration": 78,
    "start_time": "2023-10-10T06:59:30.659Z"
   },
   {
    "duration": 141,
    "start_time": "2023-10-10T06:59:30.738Z"
   },
   {
    "duration": 7,
    "start_time": "2023-10-10T06:59:30.880Z"
   },
   {
    "duration": 49,
    "start_time": "2023-10-10T06:59:30.888Z"
   },
   {
    "duration": 31,
    "start_time": "2023-10-10T06:59:30.938Z"
   },
   {
    "duration": 51,
    "start_time": "2023-10-10T06:59:30.970Z"
   },
   {
    "duration": 74,
    "start_time": "2023-10-10T06:59:31.023Z"
   },
   {
    "duration": 53,
    "start_time": "2023-10-10T06:59:31.099Z"
   },
   {
    "duration": 71,
    "start_time": "2023-10-10T06:59:31.157Z"
   },
   {
    "duration": 48,
    "start_time": "2023-10-10T06:59:31.229Z"
   },
   {
    "duration": 64,
    "start_time": "2023-10-10T06:59:31.278Z"
   },
   {
    "duration": 66,
    "start_time": "2023-10-10T06:59:31.344Z"
   },
   {
    "duration": 43,
    "start_time": "2023-10-10T06:59:31.411Z"
   },
   {
    "duration": 34,
    "start_time": "2023-10-10T06:59:31.456Z"
   },
   {
    "duration": 42,
    "start_time": "2023-10-10T06:59:31.492Z"
   },
   {
    "duration": 416,
    "start_time": "2023-10-10T06:59:31.535Z"
   },
   {
    "duration": 226,
    "start_time": "2023-10-10T06:59:31.953Z"
   },
   {
    "duration": 9,
    "start_time": "2023-10-10T06:59:32.180Z"
   },
   {
    "duration": 16,
    "start_time": "2023-10-10T06:59:32.190Z"
   },
   {
    "duration": 14,
    "start_time": "2023-10-10T06:59:32.208Z"
   },
   {
    "duration": 28,
    "start_time": "2023-10-10T06:59:32.224Z"
   },
   {
    "duration": 546,
    "start_time": "2023-10-10T06:59:32.254Z"
   },
   {
    "duration": 9,
    "start_time": "2023-10-10T06:59:32.802Z"
   },
   {
    "duration": 10,
    "start_time": "2023-10-10T06:59:32.812Z"
   },
   {
    "duration": 17,
    "start_time": "2023-10-10T06:59:32.823Z"
   },
   {
    "duration": 14,
    "start_time": "2023-10-10T06:59:32.844Z"
   },
   {
    "duration": 215,
    "start_time": "2023-10-10T06:59:32.859Z"
   },
   {
    "duration": 10,
    "start_time": "2023-10-10T06:59:33.075Z"
   },
   {
    "duration": 199,
    "start_time": "2023-10-10T06:59:33.086Z"
   },
   {
    "duration": 209,
    "start_time": "2023-10-10T06:59:33.287Z"
   },
   {
    "duration": 8,
    "start_time": "2023-10-10T06:59:33.498Z"
   },
   {
    "duration": 34,
    "start_time": "2023-10-10T06:59:33.508Z"
   },
   {
    "duration": 63,
    "start_time": "2023-10-10T06:59:33.543Z"
   },
   {
    "duration": 85,
    "start_time": "2023-10-10T06:59:33.608Z"
   },
   {
    "duration": 226,
    "start_time": "2023-10-10T06:59:33.695Z"
   },
   {
    "duration": 191,
    "start_time": "2023-10-10T06:59:33.922Z"
   },
   {
    "duration": 14,
    "start_time": "2023-10-10T06:59:34.114Z"
   },
   {
    "duration": 357,
    "start_time": "2023-10-10T06:59:34.130Z"
   },
   {
    "duration": 407,
    "start_time": "2023-10-10T06:59:34.489Z"
   },
   {
    "duration": 199,
    "start_time": "2023-10-10T06:59:34.898Z"
   },
   {
    "duration": 204,
    "start_time": "2023-10-10T06:59:35.099Z"
   },
   {
    "duration": 192,
    "start_time": "2023-10-10T06:59:35.305Z"
   },
   {
    "duration": 160,
    "start_time": "2023-10-10T06:59:35.499Z"
   },
   {
    "duration": 143,
    "start_time": "2023-10-10T06:59:35.660Z"
   },
   {
    "duration": 179,
    "start_time": "2023-10-10T06:59:35.805Z"
   },
   {
    "duration": 165,
    "start_time": "2023-10-10T06:59:35.986Z"
   },
   {
    "duration": 162,
    "start_time": "2023-10-10T06:59:36.153Z"
   },
   {
    "duration": 12,
    "start_time": "2023-10-10T06:59:36.317Z"
   },
   {
    "duration": 37,
    "start_time": "2023-10-10T06:59:36.330Z"
   },
   {
    "duration": 180,
    "start_time": "2023-10-10T06:59:36.369Z"
   },
   {
    "duration": 10,
    "start_time": "2023-10-10T06:59:36.551Z"
   },
   {
    "duration": 159,
    "start_time": "2023-10-10T06:59:36.563Z"
   },
   {
    "duration": 382,
    "start_time": "2023-10-10T07:00:28.644Z"
   },
   {
    "duration": 578,
    "start_time": "2023-10-10T07:00:33.581Z"
   },
   {
    "duration": 372,
    "start_time": "2023-10-10T07:00:45.202Z"
   },
   {
    "duration": 192,
    "start_time": "2023-10-10T07:00:54.621Z"
   },
   {
    "duration": 174,
    "start_time": "2023-10-10T07:01:02.477Z"
   },
   {
    "duration": 198,
    "start_time": "2023-10-10T07:01:48.054Z"
   },
   {
    "duration": 205,
    "start_time": "2023-10-10T07:02:25.917Z"
   },
   {
    "duration": 193,
    "start_time": "2023-10-10T07:02:50.865Z"
   },
   {
    "duration": 314,
    "start_time": "2023-10-10T07:02:58.538Z"
   },
   {
    "duration": 144,
    "start_time": "2023-10-10T07:03:31.198Z"
   },
   {
    "duration": 295,
    "start_time": "2023-10-10T07:04:53.145Z"
   },
   {
    "duration": 317,
    "start_time": "2023-10-10T07:05:41.311Z"
   },
   {
    "duration": 318,
    "start_time": "2023-10-10T07:05:57.160Z"
   },
   {
    "duration": 190,
    "start_time": "2023-10-10T07:07:02.572Z"
   },
   {
    "duration": 183,
    "start_time": "2023-10-10T07:07:18.389Z"
   },
   {
    "duration": 306,
    "start_time": "2023-10-10T07:07:34.605Z"
   },
   {
    "duration": 140,
    "start_time": "2023-10-10T07:07:56.362Z"
   },
   {
    "duration": 175,
    "start_time": "2023-10-10T07:08:24.171Z"
   },
   {
    "duration": 181,
    "start_time": "2023-10-10T07:09:25.744Z"
   },
   {
    "duration": 161,
    "start_time": "2023-10-10T07:09:51.115Z"
   },
   {
    "duration": 165,
    "start_time": "2023-10-10T07:10:12.886Z"
   },
   {
    "duration": 1367,
    "start_time": "2023-10-10T07:16:13.825Z"
   },
   {
    "duration": 41,
    "start_time": "2023-10-10T07:16:15.194Z"
   },
   {
    "duration": 75,
    "start_time": "2023-10-10T07:16:15.236Z"
   },
   {
    "duration": 2349,
    "start_time": "2023-10-10T07:16:15.313Z"
   },
   {
    "duration": 26,
    "start_time": "2023-10-10T07:16:17.664Z"
   },
   {
    "duration": 9,
    "start_time": "2023-10-10T07:16:17.692Z"
   },
   {
    "duration": 32,
    "start_time": "2023-10-10T07:16:17.703Z"
   },
   {
    "duration": 15,
    "start_time": "2023-10-10T07:16:17.736Z"
   },
   {
    "duration": 38,
    "start_time": "2023-10-10T07:16:17.753Z"
   },
   {
    "duration": 28,
    "start_time": "2023-10-10T07:16:17.794Z"
   },
   {
    "duration": 181,
    "start_time": "2023-10-10T07:16:17.823Z"
   },
   {
    "duration": 8,
    "start_time": "2023-10-10T07:16:18.006Z"
   },
   {
    "duration": 18,
    "start_time": "2023-10-10T07:16:18.016Z"
   },
   {
    "duration": 13,
    "start_time": "2023-10-10T07:16:18.036Z"
   },
   {
    "duration": 11,
    "start_time": "2023-10-10T07:16:18.051Z"
   },
   {
    "duration": 203,
    "start_time": "2023-10-10T07:16:18.064Z"
   },
   {
    "duration": 5,
    "start_time": "2023-10-10T07:16:18.268Z"
   },
   {
    "duration": 21,
    "start_time": "2023-10-10T07:16:18.274Z"
   },
   {
    "duration": 4,
    "start_time": "2023-10-10T07:16:18.297Z"
   },
   {
    "duration": 4,
    "start_time": "2023-10-10T07:16:18.302Z"
   },
   {
    "duration": 7,
    "start_time": "2023-10-10T07:16:18.308Z"
   },
   {
    "duration": 14,
    "start_time": "2023-10-10T07:16:18.316Z"
   },
   {
    "duration": 14,
    "start_time": "2023-10-10T07:16:18.332Z"
   },
   {
    "duration": 6,
    "start_time": "2023-10-10T07:16:18.348Z"
   },
   {
    "duration": 25,
    "start_time": "2023-10-10T07:16:18.355Z"
   },
   {
    "duration": 16,
    "start_time": "2023-10-10T07:16:18.382Z"
   },
   {
    "duration": 13,
    "start_time": "2023-10-10T07:16:18.399Z"
   },
   {
    "duration": 22,
    "start_time": "2023-10-10T07:16:18.415Z"
   },
   {
    "duration": 18,
    "start_time": "2023-10-10T07:16:18.439Z"
   },
   {
    "duration": 11,
    "start_time": "2023-10-10T07:16:18.460Z"
   },
   {
    "duration": 13,
    "start_time": "2023-10-10T07:16:18.472Z"
   },
   {
    "duration": 13,
    "start_time": "2023-10-10T07:16:18.486Z"
   },
   {
    "duration": 7,
    "start_time": "2023-10-10T07:16:18.500Z"
   },
   {
    "duration": 101,
    "start_time": "2023-10-10T07:16:18.509Z"
   },
   {
    "duration": 7,
    "start_time": "2023-10-10T07:16:18.611Z"
   },
   {
    "duration": 25,
    "start_time": "2023-10-10T07:16:18.619Z"
   },
   {
    "duration": 3,
    "start_time": "2023-10-10T07:16:18.646Z"
   },
   {
    "duration": 16,
    "start_time": "2023-10-10T07:16:18.651Z"
   },
   {
    "duration": 6,
    "start_time": "2023-10-10T07:16:18.668Z"
   },
   {
    "duration": 9,
    "start_time": "2023-10-10T07:16:18.675Z"
   },
   {
    "duration": 37,
    "start_time": "2023-10-10T07:16:18.686Z"
   },
   {
    "duration": 9,
    "start_time": "2023-10-10T07:16:18.724Z"
   },
   {
    "duration": 16,
    "start_time": "2023-10-10T07:16:18.734Z"
   },
   {
    "duration": 55,
    "start_time": "2023-10-10T07:16:18.752Z"
   },
   {
    "duration": 4,
    "start_time": "2023-10-10T07:16:18.809Z"
   },
   {
    "duration": 14,
    "start_time": "2023-10-10T07:16:18.814Z"
   },
   {
    "duration": 32,
    "start_time": "2023-10-10T07:16:18.830Z"
   },
   {
    "duration": 392,
    "start_time": "2023-10-10T07:16:18.864Z"
   },
   {
    "duration": 225,
    "start_time": "2023-10-10T07:16:19.257Z"
   },
   {
    "duration": 9,
    "start_time": "2023-10-10T07:16:19.483Z"
   },
   {
    "duration": 10,
    "start_time": "2023-10-10T07:16:19.493Z"
   },
   {
    "duration": 4,
    "start_time": "2023-10-10T07:16:19.504Z"
   },
   {
    "duration": 8,
    "start_time": "2023-10-10T07:16:19.510Z"
   },
   {
    "duration": 539,
    "start_time": "2023-10-10T07:16:19.519Z"
   },
   {
    "duration": 8,
    "start_time": "2023-10-10T07:16:20.059Z"
   },
   {
    "duration": 19,
    "start_time": "2023-10-10T07:16:20.068Z"
   },
   {
    "duration": 27,
    "start_time": "2023-10-10T07:16:20.088Z"
   },
   {
    "duration": 41,
    "start_time": "2023-10-10T07:16:20.117Z"
   },
   {
    "duration": 218,
    "start_time": "2023-10-10T07:16:20.160Z"
   },
   {
    "duration": 9,
    "start_time": "2023-10-10T07:16:20.379Z"
   },
   {
    "duration": 207,
    "start_time": "2023-10-10T07:16:20.390Z"
   },
   {
    "duration": 186,
    "start_time": "2023-10-10T07:16:20.599Z"
   },
   {
    "duration": 7,
    "start_time": "2023-10-10T07:16:20.787Z"
   },
   {
    "duration": 12,
    "start_time": "2023-10-10T07:16:20.796Z"
   },
   {
    "duration": 14,
    "start_time": "2023-10-10T07:16:20.809Z"
   },
   {
    "duration": 25,
    "start_time": "2023-10-10T07:16:20.824Z"
   },
   {
    "duration": 223,
    "start_time": "2023-10-10T07:16:20.851Z"
   },
   {
    "duration": 166,
    "start_time": "2023-10-10T07:16:21.076Z"
   },
   {
    "duration": 11,
    "start_time": "2023-10-10T07:16:21.244Z"
   },
   {
    "duration": 301,
    "start_time": "2023-10-10T07:16:21.257Z"
   },
   {
    "duration": 422,
    "start_time": "2023-10-10T07:16:21.560Z"
   },
   {
    "duration": 201,
    "start_time": "2023-10-10T07:16:21.983Z"
   },
   {
    "duration": 198,
    "start_time": "2023-10-10T07:16:22.186Z"
   },
   {
    "duration": 190,
    "start_time": "2023-10-10T07:16:22.386Z"
   },
   {
    "duration": 159,
    "start_time": "2023-10-10T07:16:22.578Z"
   },
   {
    "duration": 151,
    "start_time": "2023-10-10T07:16:22.739Z"
   },
   {
    "duration": 189,
    "start_time": "2023-10-10T07:16:22.891Z"
   },
   {
    "duration": 173,
    "start_time": "2023-10-10T07:16:23.082Z"
   },
   {
    "duration": 167,
    "start_time": "2023-10-10T07:16:23.256Z"
   },
   {
    "duration": 8,
    "start_time": "2023-10-10T07:16:23.425Z"
   },
   {
    "duration": 64,
    "start_time": "2023-10-10T07:16:23.434Z"
   },
   {
    "duration": 166,
    "start_time": "2023-10-10T07:16:23.503Z"
   },
   {
    "duration": 9,
    "start_time": "2023-10-10T07:16:23.671Z"
   },
   {
    "duration": 169,
    "start_time": "2023-10-10T07:16:23.681Z"
   },
   {
    "duration": 45,
    "start_time": "2024-02-06T07:03:56.982Z"
   },
   {
    "duration": 1290,
    "start_time": "2024-02-06T07:04:03.521Z"
   },
   {
    "duration": 296,
    "start_time": "2024-02-06T07:04:04.813Z"
   },
   {
    "duration": 38,
    "start_time": "2024-02-06T07:04:05.110Z"
   },
   {
    "duration": 67,
    "start_time": "2024-02-06T07:04:05.150Z"
   },
   {
    "duration": 2182,
    "start_time": "2024-02-06T07:04:05.219Z"
   },
   {
    "duration": 25,
    "start_time": "2024-02-06T07:04:07.402Z"
   },
   {
    "duration": 7,
    "start_time": "2024-02-06T07:04:07.428Z"
   },
   {
    "duration": 42,
    "start_time": "2024-02-06T07:04:07.436Z"
   },
   {
    "duration": 9,
    "start_time": "2024-02-06T07:04:07.479Z"
   },
   {
    "duration": 30,
    "start_time": "2024-02-06T07:04:07.490Z"
   },
   {
    "duration": 5,
    "start_time": "2024-02-06T07:04:07.521Z"
   },
   {
    "duration": 323,
    "start_time": "2024-02-06T07:04:07.527Z"
   },
   {
    "duration": 11,
    "start_time": "2024-02-06T07:04:07.853Z"
   },
   {
    "duration": 6,
    "start_time": "2024-02-06T07:04:07.869Z"
   },
   {
    "duration": 9,
    "start_time": "2024-02-06T07:04:07.933Z"
   },
   {
    "duration": 12,
    "start_time": "2024-02-06T07:04:07.944Z"
   },
   {
    "duration": 410,
    "start_time": "2024-02-06T07:04:07.958Z"
   },
   {
    "duration": 4,
    "start_time": "2024-02-06T07:04:08.369Z"
   },
   {
    "duration": 59,
    "start_time": "2024-02-06T07:04:08.375Z"
   },
   {
    "duration": 4,
    "start_time": "2024-02-06T07:04:08.436Z"
   },
   {
    "duration": 6,
    "start_time": "2024-02-06T07:04:08.441Z"
   },
   {
    "duration": 6,
    "start_time": "2024-02-06T07:04:08.449Z"
   },
   {
    "duration": 16,
    "start_time": "2024-02-06T07:04:08.456Z"
   },
   {
    "duration": 11,
    "start_time": "2024-02-06T07:04:08.474Z"
   },
   {
    "duration": 48,
    "start_time": "2024-02-06T07:04:08.486Z"
   },
   {
    "duration": 8,
    "start_time": "2024-02-06T07:04:08.535Z"
   },
   {
    "duration": 34,
    "start_time": "2024-02-06T07:04:08.544Z"
   },
   {
    "duration": 55,
    "start_time": "2024-02-06T07:04:08.579Z"
   },
   {
    "duration": 6,
    "start_time": "2024-02-06T07:04:08.635Z"
   },
   {
    "duration": 7,
    "start_time": "2024-02-06T07:04:08.642Z"
   },
   {
    "duration": 9,
    "start_time": "2024-02-06T07:04:08.651Z"
   },
   {
    "duration": 12,
    "start_time": "2024-02-06T07:04:08.661Z"
   },
   {
    "duration": 64,
    "start_time": "2024-02-06T07:04:08.674Z"
   },
   {
    "duration": 6,
    "start_time": "2024-02-06T07:04:08.740Z"
   },
   {
    "duration": 208,
    "start_time": "2024-02-06T07:04:08.747Z"
   },
   {
    "duration": 6,
    "start_time": "2024-02-06T07:04:08.956Z"
   },
   {
    "duration": 23,
    "start_time": "2024-02-06T07:04:08.963Z"
   },
   {
    "duration": 4,
    "start_time": "2024-02-06T07:04:08.987Z"
   },
   {
    "duration": 52,
    "start_time": "2024-02-06T07:04:08.992Z"
   },
   {
    "duration": 14,
    "start_time": "2024-02-06T07:04:09.045Z"
   },
   {
    "duration": 6,
    "start_time": "2024-02-06T07:04:09.063Z"
   },
   {
    "duration": 45,
    "start_time": "2024-02-06T07:04:09.070Z"
   },
   {
    "duration": 8,
    "start_time": "2024-02-06T07:04:09.116Z"
   },
   {
    "duration": 21,
    "start_time": "2024-02-06T07:04:09.125Z"
   },
   {
    "duration": 35,
    "start_time": "2024-02-06T07:04:09.148Z"
   },
   {
    "duration": 9,
    "start_time": "2024-02-06T07:04:09.184Z"
   },
   {
    "duration": 34,
    "start_time": "2024-02-06T07:04:09.194Z"
   },
   {
    "duration": 29,
    "start_time": "2024-02-06T07:04:09.230Z"
   },
   {
    "duration": 367,
    "start_time": "2024-02-06T07:04:09.261Z"
   },
   {
    "duration": 223,
    "start_time": "2024-02-06T07:04:09.629Z"
   },
   {
    "duration": 8,
    "start_time": "2024-02-06T07:04:09.854Z"
   },
   {
    "duration": 8,
    "start_time": "2024-02-06T07:04:09.863Z"
   },
   {
    "duration": 7,
    "start_time": "2024-02-06T07:04:09.872Z"
   },
   {
    "duration": 10,
    "start_time": "2024-02-06T07:04:09.880Z"
   },
   {
    "duration": 474,
    "start_time": "2024-02-06T07:04:09.891Z"
   },
   {
    "duration": 8,
    "start_time": "2024-02-06T07:04:10.366Z"
   },
   {
    "duration": 23,
    "start_time": "2024-02-06T07:04:10.376Z"
   },
   {
    "duration": 16,
    "start_time": "2024-02-06T07:04:10.400Z"
   },
   {
    "duration": 33,
    "start_time": "2024-02-06T07:04:10.417Z"
   },
   {
    "duration": 218,
    "start_time": "2024-02-06T07:04:10.452Z"
   },
   {
    "duration": 8,
    "start_time": "2024-02-06T07:04:10.671Z"
   },
   {
    "duration": 188,
    "start_time": "2024-02-06T07:04:10.681Z"
   },
   {
    "duration": 156,
    "start_time": "2024-02-06T07:04:10.871Z"
   },
   {
    "duration": 7,
    "start_time": "2024-02-06T07:04:11.028Z"
   },
   {
    "duration": 51,
    "start_time": "2024-02-06T07:04:11.037Z"
   },
   {
    "duration": 78,
    "start_time": "2024-02-06T07:04:11.090Z"
   },
   {
    "duration": 44,
    "start_time": "2024-02-06T07:04:11.169Z"
   },
   {
    "duration": 238,
    "start_time": "2024-02-06T07:04:11.214Z"
   },
   {
    "duration": 135,
    "start_time": "2024-02-06T07:04:11.454Z"
   },
   {
    "duration": 8,
    "start_time": "2024-02-06T07:04:11.591Z"
   },
   {
    "duration": 307,
    "start_time": "2024-02-06T07:04:11.601Z"
   },
   {
    "duration": 377,
    "start_time": "2024-02-06T07:04:11.911Z"
   },
   {
    "duration": 191,
    "start_time": "2024-02-06T07:04:12.289Z"
   },
   {
    "duration": 201,
    "start_time": "2024-02-06T07:04:12.481Z"
   },
   {
    "duration": 190,
    "start_time": "2024-02-06T07:04:12.683Z"
   },
   {
    "duration": 161,
    "start_time": "2024-02-06T07:04:12.874Z"
   },
   {
    "duration": 150,
    "start_time": "2024-02-06T07:04:13.036Z"
   },
   {
    "duration": 173,
    "start_time": "2024-02-06T07:04:13.188Z"
   },
   {
    "duration": 162,
    "start_time": "2024-02-06T07:04:13.362Z"
   },
   {
    "duration": 154,
    "start_time": "2024-02-06T07:04:13.532Z"
   },
   {
    "duration": 7,
    "start_time": "2024-02-06T07:04:13.688Z"
   },
   {
    "duration": 48,
    "start_time": "2024-02-06T07:04:13.696Z"
   },
   {
    "duration": 170,
    "start_time": "2024-02-06T07:04:13.746Z"
   },
   {
    "duration": 9,
    "start_time": "2024-02-06T07:04:13.917Z"
   },
   {
    "duration": 154,
    "start_time": "2024-02-06T07:04:13.932Z"
   },
   {
    "duration": 3039,
    "start_time": "2024-02-06T07:05:39.379Z"
   },
   {
    "duration": 23,
    "start_time": "2024-02-06T07:07:14.955Z"
   },
   {
    "duration": 1570,
    "start_time": "2024-02-06T07:07:40.792Z"
   },
   {
    "duration": 31,
    "start_time": "2024-02-06T07:09:39.715Z"
   },
   {
    "duration": 8,
    "start_time": "2024-02-06T07:09:46.733Z"
   },
   {
    "duration": 1463,
    "start_time": "2024-02-06T07:09:48.374Z"
   },
   {
    "duration": 4,
    "start_time": "2024-02-06T07:10:47.030Z"
   },
   {
    "duration": 148,
    "start_time": "2024-02-06T07:11:18.523Z"
   },
   {
    "duration": 6,
    "start_time": "2024-02-06T07:13:23.685Z"
   },
   {
    "duration": 6,
    "start_time": "2024-02-06T07:14:23.849Z"
   },
   {
    "duration": 4,
    "start_time": "2024-02-06T07:16:32.424Z"
   },
   {
    "duration": 4,
    "start_time": "2024-02-06T07:17:01.864Z"
   },
   {
    "duration": 4,
    "start_time": "2024-02-06T07:18:28.161Z"
   },
   {
    "duration": 1086,
    "start_time": "2024-02-06T07:20:41.051Z"
   },
   {
    "duration": 89,
    "start_time": "2024-02-06T07:20:42.139Z"
   },
   {
    "duration": 35,
    "start_time": "2024-02-06T07:20:42.230Z"
   },
   {
    "duration": 73,
    "start_time": "2024-02-06T07:20:42.267Z"
   },
   {
    "duration": 2240,
    "start_time": "2024-02-06T07:20:42.341Z"
   },
   {
    "duration": 25,
    "start_time": "2024-02-06T07:20:44.583Z"
   },
   {
    "duration": 7,
    "start_time": "2024-02-06T07:20:44.610Z"
   },
   {
    "duration": 27,
    "start_time": "2024-02-06T07:20:44.619Z"
   },
   {
    "duration": 9,
    "start_time": "2024-02-06T07:20:44.648Z"
   },
   {
    "duration": 26,
    "start_time": "2024-02-06T07:20:44.660Z"
   },
   {
    "duration": 5,
    "start_time": "2024-02-06T07:20:44.688Z"
   },
   {
    "duration": 187,
    "start_time": "2024-02-06T07:20:44.694Z"
   },
   {
    "duration": 9,
    "start_time": "2024-02-06T07:20:44.883Z"
   },
   {
    "duration": 19,
    "start_time": "2024-02-06T07:20:44.893Z"
   },
   {
    "duration": 8,
    "start_time": "2024-02-06T07:20:44.915Z"
   },
   {
    "duration": 19,
    "start_time": "2024-02-06T07:20:44.925Z"
   },
   {
    "duration": 219,
    "start_time": "2024-02-06T07:20:44.946Z"
   },
   {
    "duration": 5,
    "start_time": "2024-02-06T07:20:45.166Z"
   },
   {
    "duration": 13,
    "start_time": "2024-02-06T07:20:45.172Z"
   },
   {
    "duration": 4,
    "start_time": "2024-02-06T07:20:45.186Z"
   },
   {
    "duration": 12,
    "start_time": "2024-02-06T07:20:45.192Z"
   },
   {
    "duration": 7,
    "start_time": "2024-02-06T07:20:45.205Z"
   },
   {
    "duration": 20,
    "start_time": "2024-02-06T07:20:45.213Z"
   },
   {
    "duration": 9,
    "start_time": "2024-02-06T07:20:45.234Z"
   },
   {
    "duration": 10,
    "start_time": "2024-02-06T07:20:45.245Z"
   },
   {
    "duration": 7,
    "start_time": "2024-02-06T07:20:45.256Z"
   },
   {
    "duration": 11,
    "start_time": "2024-02-06T07:20:45.265Z"
   },
   {
    "duration": 15,
    "start_time": "2024-02-06T07:20:45.280Z"
   },
   {
    "duration": 9,
    "start_time": "2024-02-06T07:20:45.297Z"
   },
   {
    "duration": 9,
    "start_time": "2024-02-06T07:20:45.307Z"
   },
   {
    "duration": 12,
    "start_time": "2024-02-06T07:20:45.317Z"
   },
   {
    "duration": 5,
    "start_time": "2024-02-06T07:20:45.330Z"
   },
   {
    "duration": 9,
    "start_time": "2024-02-06T07:20:45.336Z"
   },
   {
    "duration": 15,
    "start_time": "2024-02-06T07:20:45.347Z"
   },
   {
    "duration": 110,
    "start_time": "2024-02-06T07:20:45.364Z"
   },
   {
    "duration": 6,
    "start_time": "2024-02-06T07:20:45.476Z"
   },
   {
    "duration": 49,
    "start_time": "2024-02-06T07:20:45.483Z"
   },
   {
    "duration": 29,
    "start_time": "2024-02-06T07:20:45.534Z"
   },
   {
    "duration": 42,
    "start_time": "2024-02-06T07:20:45.564Z"
   },
   {
    "duration": 14,
    "start_time": "2024-02-06T07:20:45.607Z"
   },
   {
    "duration": 24,
    "start_time": "2024-02-06T07:20:45.623Z"
   },
   {
    "duration": 51,
    "start_time": "2024-02-06T07:20:45.648Z"
   },
   {
    "duration": 26,
    "start_time": "2024-02-06T07:20:45.701Z"
   },
   {
    "duration": 31,
    "start_time": "2024-02-06T07:20:45.728Z"
   },
   {
    "duration": 59,
    "start_time": "2024-02-06T07:20:45.761Z"
   },
   {
    "duration": 5,
    "start_time": "2024-02-06T07:20:45.821Z"
   },
   {
    "duration": 40,
    "start_time": "2024-02-06T07:20:45.827Z"
   },
   {
    "duration": 51,
    "start_time": "2024-02-06T07:20:45.868Z"
   },
   {
    "duration": 359,
    "start_time": "2024-02-06T07:20:45.921Z"
   },
   {
    "duration": 234,
    "start_time": "2024-02-06T07:20:46.281Z"
   },
   {
    "duration": 9,
    "start_time": "2024-02-06T07:20:46.516Z"
   },
   {
    "duration": 27,
    "start_time": "2024-02-06T07:20:46.526Z"
   },
   {
    "duration": 52,
    "start_time": "2024-02-06T07:20:46.555Z"
   },
   {
    "duration": 39,
    "start_time": "2024-02-06T07:20:46.608Z"
   },
   {
    "duration": 496,
    "start_time": "2024-02-06T07:20:46.648Z"
   },
   {
    "duration": 7,
    "start_time": "2024-02-06T07:20:47.146Z"
   },
   {
    "duration": 14,
    "start_time": "2024-02-06T07:20:47.155Z"
   },
   {
    "duration": 33,
    "start_time": "2024-02-06T07:20:47.170Z"
   },
   {
    "duration": 20,
    "start_time": "2024-02-06T07:20:47.204Z"
   },
   {
    "duration": 210,
    "start_time": "2024-02-06T07:20:47.226Z"
   },
   {
    "duration": 7,
    "start_time": "2024-02-06T07:20:47.437Z"
   },
   {
    "duration": 195,
    "start_time": "2024-02-06T07:20:47.446Z"
   },
   {
    "duration": 192,
    "start_time": "2024-02-06T07:20:47.643Z"
   },
   {
    "duration": 6,
    "start_time": "2024-02-06T07:20:47.837Z"
   },
   {
    "duration": 22,
    "start_time": "2024-02-06T07:20:47.844Z"
   },
   {
    "duration": 33,
    "start_time": "2024-02-06T07:20:47.868Z"
   },
   {
    "duration": 24,
    "start_time": "2024-02-06T07:20:47.903Z"
   },
   {
    "duration": 190,
    "start_time": "2024-02-06T07:20:47.928Z"
   },
   {
    "duration": 150,
    "start_time": "2024-02-06T07:20:48.120Z"
   },
   {
    "duration": 9,
    "start_time": "2024-02-06T07:20:48.271Z"
   },
   {
    "duration": 277,
    "start_time": "2024-02-06T07:20:48.281Z"
   },
   {
    "duration": 388,
    "start_time": "2024-02-06T07:20:48.559Z"
   },
   {
    "duration": 199,
    "start_time": "2024-02-06T07:20:48.949Z"
   },
   {
    "duration": 194,
    "start_time": "2024-02-06T07:20:49.150Z"
   },
   {
    "duration": 187,
    "start_time": "2024-02-06T07:20:49.346Z"
   },
   {
    "duration": 155,
    "start_time": "2024-02-06T07:20:49.535Z"
   },
   {
    "duration": 147,
    "start_time": "2024-02-06T07:20:49.692Z"
   },
   {
    "duration": 168,
    "start_time": "2024-02-06T07:20:49.840Z"
   },
   {
    "duration": 170,
    "start_time": "2024-02-06T07:20:50.010Z"
   },
   {
    "duration": 185,
    "start_time": "2024-02-06T07:20:50.182Z"
   },
   {
    "duration": 8,
    "start_time": "2024-02-06T07:20:50.369Z"
   },
   {
    "duration": 19,
    "start_time": "2024-02-06T07:20:50.383Z"
   },
   {
    "duration": 177,
    "start_time": "2024-02-06T07:20:50.403Z"
   },
   {
    "duration": 9,
    "start_time": "2024-02-06T07:20:50.582Z"
   },
   {
    "duration": 155,
    "start_time": "2024-02-06T07:20:50.593Z"
   },
   {
    "duration": 6,
    "start_time": "2024-02-06T07:21:32.654Z"
   },
   {
    "duration": 4,
    "start_time": "2024-02-06T07:21:36.211Z"
   },
   {
    "duration": 4,
    "start_time": "2024-02-06T07:22:09.482Z"
   },
   {
    "duration": 3,
    "start_time": "2024-02-06T07:24:52.714Z"
   },
   {
    "duration": 108,
    "start_time": "2024-02-06T07:25:03.263Z"
   },
   {
    "duration": 3,
    "start_time": "2024-02-06T07:25:09.024Z"
   },
   {
    "duration": 97,
    "start_time": "2024-02-06T07:26:04.911Z"
   },
   {
    "duration": 97,
    "start_time": "2024-02-06T07:26:16.315Z"
   },
   {
    "duration": 99,
    "start_time": "2024-02-06T07:26:33.168Z"
   },
   {
    "duration": 6,
    "start_time": "2024-02-06T07:27:08.292Z"
   },
   {
    "duration": 6,
    "start_time": "2024-02-06T07:27:14.029Z"
   },
   {
    "duration": 4,
    "start_time": "2024-02-06T07:28:29.540Z"
   },
   {
    "duration": 9,
    "start_time": "2024-02-06T07:31:59.670Z"
   },
   {
    "duration": 8,
    "start_time": "2024-02-06T07:32:08.433Z"
   },
   {
    "duration": 9,
    "start_time": "2024-02-06T07:35:00.386Z"
   },
   {
    "duration": 24,
    "start_time": "2024-02-06T07:35:46.274Z"
   },
   {
    "duration": 272,
    "start_time": "2024-02-06T07:36:19.147Z"
   },
   {
    "duration": 198,
    "start_time": "2024-02-06T07:36:49.476Z"
   },
   {
    "duration": 197,
    "start_time": "2024-02-06T07:38:05.985Z"
   },
   {
    "duration": 197,
    "start_time": "2024-02-06T07:38:14.720Z"
   },
   {
    "duration": 210,
    "start_time": "2024-02-06T07:38:30.615Z"
   },
   {
    "duration": 212,
    "start_time": "2024-02-06T07:39:27.822Z"
   },
   {
    "duration": 5,
    "start_time": "2024-02-06T07:41:20.630Z"
   },
   {
    "duration": 1090,
    "start_time": "2024-02-06T07:41:36.163Z"
   },
   {
    "duration": 94,
    "start_time": "2024-02-06T07:41:37.255Z"
   },
   {
    "duration": 36,
    "start_time": "2024-02-06T07:41:37.351Z"
   },
   {
    "duration": 81,
    "start_time": "2024-02-06T07:41:37.389Z"
   },
   {
    "duration": 2450,
    "start_time": "2024-02-06T07:41:37.471Z"
   },
   {
    "duration": 26,
    "start_time": "2024-02-06T07:41:39.923Z"
   },
   {
    "duration": 8,
    "start_time": "2024-02-06T07:41:39.950Z"
   },
   {
    "duration": 27,
    "start_time": "2024-02-06T07:41:39.959Z"
   },
   {
    "duration": 8,
    "start_time": "2024-02-06T07:41:39.987Z"
   },
   {
    "duration": 53,
    "start_time": "2024-02-06T07:41:39.998Z"
   },
   {
    "duration": 4,
    "start_time": "2024-02-06T07:41:40.053Z"
   },
   {
    "duration": 170,
    "start_time": "2024-02-06T07:41:40.058Z"
   },
   {
    "duration": 9,
    "start_time": "2024-02-06T07:41:40.230Z"
   },
   {
    "duration": 5,
    "start_time": "2024-02-06T07:41:40.240Z"
   },
   {
    "duration": 17,
    "start_time": "2024-02-06T07:41:40.246Z"
   },
   {
    "duration": 9,
    "start_time": "2024-02-06T07:41:40.265Z"
   },
   {
    "duration": 223,
    "start_time": "2024-02-06T07:41:40.276Z"
   },
   {
    "duration": 5,
    "start_time": "2024-02-06T07:41:40.500Z"
   },
   {
    "duration": 15,
    "start_time": "2024-02-06T07:41:40.507Z"
   },
   {
    "duration": 6,
    "start_time": "2024-02-06T07:41:40.533Z"
   },
   {
    "duration": 18,
    "start_time": "2024-02-06T07:41:40.540Z"
   },
   {
    "duration": 26,
    "start_time": "2024-02-06T07:41:40.560Z"
   },
   {
    "duration": 22,
    "start_time": "2024-02-06T07:41:40.588Z"
   },
   {
    "duration": 21,
    "start_time": "2024-02-06T07:41:40.611Z"
   },
   {
    "duration": 9,
    "start_time": "2024-02-06T07:41:40.633Z"
   },
   {
    "duration": 19,
    "start_time": "2024-02-06T07:41:40.643Z"
   },
   {
    "duration": 12,
    "start_time": "2024-02-06T07:41:40.664Z"
   },
   {
    "duration": 37,
    "start_time": "2024-02-06T07:41:40.680Z"
   },
   {
    "duration": 27,
    "start_time": "2024-02-06T07:41:40.718Z"
   },
   {
    "duration": 16,
    "start_time": "2024-02-06T07:41:40.746Z"
   },
   {
    "duration": 14,
    "start_time": "2024-02-06T07:41:40.764Z"
   },
   {
    "duration": 8,
    "start_time": "2024-02-06T07:41:40.779Z"
   },
   {
    "duration": 102,
    "start_time": "2024-02-06T07:41:40.789Z"
   },
   {
    "duration": 7,
    "start_time": "2024-02-06T07:41:40.892Z"
   },
   {
    "duration": 14,
    "start_time": "2024-02-06T07:41:40.900Z"
   },
   {
    "duration": 22,
    "start_time": "2024-02-06T07:41:40.915Z"
   },
   {
    "duration": 6,
    "start_time": "2024-02-06T07:41:40.939Z"
   },
   {
    "duration": 4,
    "start_time": "2024-02-06T07:41:40.946Z"
   },
   {
    "duration": 27,
    "start_time": "2024-02-06T07:41:40.952Z"
   },
   {
    "duration": 12,
    "start_time": "2024-02-06T07:41:40.981Z"
   },
   {
    "duration": 51,
    "start_time": "2024-02-06T07:41:40.994Z"
   },
   {
    "duration": 41,
    "start_time": "2024-02-06T07:41:41.046Z"
   },
   {
    "duration": 5,
    "start_time": "2024-02-06T07:41:41.089Z"
   },
   {
    "duration": 19,
    "start_time": "2024-02-06T07:41:41.096Z"
   },
   {
    "duration": 25,
    "start_time": "2024-02-06T07:41:41.116Z"
   },
   {
    "duration": 222,
    "start_time": "2024-02-06T07:41:41.142Z"
   },
   {
    "duration": 208,
    "start_time": "2024-02-06T07:41:41.365Z"
   },
   {
    "duration": 394,
    "start_time": "2024-02-06T07:41:41.574Z"
   },
   {
    "duration": 9,
    "start_time": "2024-02-06T07:41:41.969Z"
   },
   {
    "duration": 8,
    "start_time": "2024-02-06T07:41:41.979Z"
   },
   {
    "duration": 4,
    "start_time": "2024-02-06T07:41:41.988Z"
   },
   {
    "duration": 8,
    "start_time": "2024-02-06T07:41:41.993Z"
   },
   {
    "duration": 387,
    "start_time": "2024-02-06T07:41:42.002Z"
   },
   {
    "duration": 7,
    "start_time": "2024-02-06T07:41:42.391Z"
   },
   {
    "duration": 4,
    "start_time": "2024-02-06T07:41:42.400Z"
   },
   {
    "duration": 29,
    "start_time": "2024-02-06T07:41:42.405Z"
   },
   {
    "duration": 14,
    "start_time": "2024-02-06T07:41:42.435Z"
   },
   {
    "duration": 215,
    "start_time": "2024-02-06T07:41:42.451Z"
   },
   {
    "duration": 8,
    "start_time": "2024-02-06T07:41:42.667Z"
   },
   {
    "duration": 193,
    "start_time": "2024-02-06T07:41:42.677Z"
   },
   {
    "duration": 193,
    "start_time": "2024-02-06T07:41:42.871Z"
   },
   {
    "duration": 7,
    "start_time": "2024-02-06T07:41:43.066Z"
   },
   {
    "duration": 8,
    "start_time": "2024-02-06T07:41:43.074Z"
   },
   {
    "duration": 7,
    "start_time": "2024-02-06T07:41:43.083Z"
   },
   {
    "duration": 44,
    "start_time": "2024-02-06T07:41:43.092Z"
   },
   {
    "duration": 189,
    "start_time": "2024-02-06T07:41:43.138Z"
   },
   {
    "duration": 144,
    "start_time": "2024-02-06T07:41:43.332Z"
   },
   {
    "duration": 9,
    "start_time": "2024-02-06T07:41:43.477Z"
   },
   {
    "duration": 286,
    "start_time": "2024-02-06T07:41:43.487Z"
   },
   {
    "duration": 384,
    "start_time": "2024-02-06T07:41:43.775Z"
   },
   {
    "duration": 232,
    "start_time": "2024-02-06T07:41:44.161Z"
   },
   {
    "duration": 189,
    "start_time": "2024-02-06T07:41:44.395Z"
   },
   {
    "duration": 180,
    "start_time": "2024-02-06T07:41:44.586Z"
   },
   {
    "duration": 165,
    "start_time": "2024-02-06T07:41:44.768Z"
   },
   {
    "duration": 143,
    "start_time": "2024-02-06T07:41:44.934Z"
   },
   {
    "duration": 171,
    "start_time": "2024-02-06T07:41:45.079Z"
   },
   {
    "duration": 167,
    "start_time": "2024-02-06T07:41:45.251Z"
   },
   {
    "duration": 177,
    "start_time": "2024-02-06T07:41:45.419Z"
   },
   {
    "duration": 11,
    "start_time": "2024-02-06T07:41:45.598Z"
   },
   {
    "duration": 48,
    "start_time": "2024-02-06T07:41:45.611Z"
   },
   {
    "duration": 180,
    "start_time": "2024-02-06T07:41:45.660Z"
   },
   {
    "duration": 9,
    "start_time": "2024-02-06T07:41:45.846Z"
   },
   {
    "duration": 238,
    "start_time": "2024-02-06T07:41:45.857Z"
   },
   {
    "duration": 191,
    "start_time": "2024-02-06T07:42:56.051Z"
   },
   {
    "duration": 185,
    "start_time": "2024-02-06T07:43:02.655Z"
   },
   {
    "duration": 217,
    "start_time": "2024-02-06T07:43:17.732Z"
   },
   {
    "duration": 208,
    "start_time": "2024-02-06T07:44:05.508Z"
   },
   {
    "duration": 191,
    "start_time": "2024-02-06T07:44:32.476Z"
   },
   {
    "duration": 6,
    "start_time": "2024-02-06T07:46:59.963Z"
   },
   {
    "duration": 18,
    "start_time": "2024-02-06T07:48:27.584Z"
   },
   {
    "duration": 266,
    "start_time": "2024-02-06T07:49:16.403Z"
   },
   {
    "duration": 184,
    "start_time": "2024-02-06T07:49:25.535Z"
   },
   {
    "duration": 202,
    "start_time": "2024-02-06T07:49:33.389Z"
   },
   {
    "duration": 172,
    "start_time": "2024-02-06T07:51:13.866Z"
   },
   {
    "duration": 179,
    "start_time": "2024-02-06T07:53:51.270Z"
   },
   {
    "duration": 7,
    "start_time": "2024-02-06T07:55:38.991Z"
   },
   {
    "duration": 7,
    "start_time": "2024-02-06T07:56:00.142Z"
   },
   {
    "duration": 8,
    "start_time": "2024-02-06T07:56:13.560Z"
   },
   {
    "duration": 183,
    "start_time": "2024-02-06T07:57:53.374Z"
   },
   {
    "duration": 152,
    "start_time": "2024-02-06T07:58:27.344Z"
   },
   {
    "duration": 160,
    "start_time": "2024-02-06T07:58:30.816Z"
   },
   {
    "duration": 159,
    "start_time": "2024-02-06T08:00:14.918Z"
   },
   {
    "duration": 10,
    "start_time": "2024-02-06T08:01:54.149Z"
   },
   {
    "duration": 306,
    "start_time": "2024-02-06T08:03:34.235Z"
   },
   {
    "duration": 403,
    "start_time": "2024-02-06T08:03:51.275Z"
   },
   {
    "duration": 292,
    "start_time": "2024-02-06T08:03:57.214Z"
   },
   {
    "duration": 186,
    "start_time": "2024-02-06T08:06:58.895Z"
   },
   {
    "duration": 190,
    "start_time": "2024-02-06T08:08:07.349Z"
   },
   {
    "duration": 177,
    "start_time": "2024-02-06T08:09:38.957Z"
   },
   {
    "duration": 198,
    "start_time": "2024-02-06T08:09:46.700Z"
   },
   {
    "duration": 187,
    "start_time": "2024-02-06T08:09:53.553Z"
   },
   {
    "duration": 191,
    "start_time": "2024-02-06T08:11:10.942Z"
   },
   {
    "duration": 270,
    "start_time": "2024-02-06T08:12:25.239Z"
   },
   {
    "duration": 185,
    "start_time": "2024-02-06T08:12:27.938Z"
   },
   {
    "duration": 154,
    "start_time": "2024-02-06T08:13:44.080Z"
   },
   {
    "duration": 138,
    "start_time": "2024-02-06T08:15:18.361Z"
   },
   {
    "duration": 143,
    "start_time": "2024-02-06T08:16:04.196Z"
   },
   {
    "duration": 150,
    "start_time": "2024-02-06T08:17:20.716Z"
   },
   {
    "duration": 139,
    "start_time": "2024-02-06T08:17:24.862Z"
   },
   {
    "duration": 170,
    "start_time": "2024-02-06T08:17:32.950Z"
   },
   {
    "duration": 159,
    "start_time": "2024-02-06T08:20:25.889Z"
   },
   {
    "duration": 159,
    "start_time": "2024-02-06T08:20:30.310Z"
   },
   {
    "duration": 144,
    "start_time": "2024-02-06T08:20:35.987Z"
   },
   {
    "duration": 243,
    "start_time": "2024-02-06T08:21:44.250Z"
   },
   {
    "duration": 194,
    "start_time": "2024-02-06T08:22:41.446Z"
   },
   {
    "duration": 212,
    "start_time": "2024-02-06T08:22:45.268Z"
   },
   {
    "duration": 191,
    "start_time": "2024-02-06T08:22:49.826Z"
   },
   {
    "duration": 197,
    "start_time": "2024-02-06T08:22:53.539Z"
   },
   {
    "duration": 202,
    "start_time": "2024-02-06T08:23:00.289Z"
   },
   {
    "duration": 180,
    "start_time": "2024-02-06T08:23:04.839Z"
   },
   {
    "duration": 180,
    "start_time": "2024-02-06T08:23:09.211Z"
   },
   {
    "duration": 272,
    "start_time": "2024-02-06T08:23:14.623Z"
   },
   {
    "duration": 153,
    "start_time": "2024-02-06T08:23:17.884Z"
   },
   {
    "duration": 270,
    "start_time": "2024-02-06T08:23:23.694Z"
   },
   {
    "duration": 297,
    "start_time": "2024-02-06T08:23:27.805Z"
   },
   {
    "duration": 153,
    "start_time": "2024-02-06T08:24:20.751Z"
   },
   {
    "duration": 165,
    "start_time": "2024-02-06T08:24:30.275Z"
   },
   {
    "duration": 20,
    "start_time": "2024-02-06T08:26:59.187Z"
   },
   {
    "duration": 136,
    "start_time": "2024-02-06T08:29:43.986Z"
   },
   {
    "duration": 101,
    "start_time": "2024-02-06T08:29:59.507Z"
   },
   {
    "duration": 69,
    "start_time": "2024-02-06T08:30:09.826Z"
   },
   {
    "duration": 147,
    "start_time": "2024-02-06T08:30:16.733Z"
   },
   {
    "duration": 232,
    "start_time": "2024-02-06T08:32:27.228Z"
   },
   {
    "duration": 144,
    "start_time": "2024-02-06T08:32:42.285Z"
   },
   {
    "duration": 229,
    "start_time": "2024-02-06T08:32:57.952Z"
   },
   {
    "duration": 151,
    "start_time": "2024-02-06T08:33:02.298Z"
   },
   {
    "duration": 1181,
    "start_time": "2024-02-06T08:45:01.089Z"
   },
   {
    "duration": 98,
    "start_time": "2024-02-06T08:45:02.272Z"
   },
   {
    "duration": 37,
    "start_time": "2024-02-06T08:45:02.372Z"
   },
   {
    "duration": 84,
    "start_time": "2024-02-06T08:45:02.410Z"
   },
   {
    "duration": 2345,
    "start_time": "2024-02-06T08:45:02.496Z"
   },
   {
    "duration": 25,
    "start_time": "2024-02-06T08:45:04.843Z"
   },
   {
    "duration": 8,
    "start_time": "2024-02-06T08:45:04.869Z"
   },
   {
    "duration": 28,
    "start_time": "2024-02-06T08:45:04.878Z"
   },
   {
    "duration": 26,
    "start_time": "2024-02-06T08:45:04.907Z"
   },
   {
    "duration": 29,
    "start_time": "2024-02-06T08:45:04.934Z"
   },
   {
    "duration": 5,
    "start_time": "2024-02-06T08:45:04.964Z"
   },
   {
    "duration": 185,
    "start_time": "2024-02-06T08:45:04.971Z"
   },
   {
    "duration": 8,
    "start_time": "2024-02-06T08:45:05.157Z"
   },
   {
    "duration": 5,
    "start_time": "2024-02-06T08:45:05.168Z"
   },
   {
    "duration": 6,
    "start_time": "2024-02-06T08:45:05.175Z"
   },
   {
    "duration": 10,
    "start_time": "2024-02-06T08:45:05.182Z"
   },
   {
    "duration": 241,
    "start_time": "2024-02-06T08:45:05.194Z"
   },
   {
    "duration": 4,
    "start_time": "2024-02-06T08:45:05.437Z"
   },
   {
    "duration": 9,
    "start_time": "2024-02-06T08:45:05.443Z"
   },
   {
    "duration": 4,
    "start_time": "2024-02-06T08:45:05.453Z"
   },
   {
    "duration": 5,
    "start_time": "2024-02-06T08:45:05.460Z"
   },
   {
    "duration": 5,
    "start_time": "2024-02-06T08:45:05.467Z"
   },
   {
    "duration": 7,
    "start_time": "2024-02-06T08:45:05.473Z"
   },
   {
    "duration": 8,
    "start_time": "2024-02-06T08:45:05.482Z"
   },
   {
    "duration": 43,
    "start_time": "2024-02-06T08:45:05.491Z"
   },
   {
    "duration": 5,
    "start_time": "2024-02-06T08:45:05.535Z"
   },
   {
    "duration": 9,
    "start_time": "2024-02-06T08:45:05.542Z"
   },
   {
    "duration": 5,
    "start_time": "2024-02-06T08:45:05.553Z"
   },
   {
    "duration": 6,
    "start_time": "2024-02-06T08:45:05.560Z"
   },
   {
    "duration": 6,
    "start_time": "2024-02-06T08:45:05.567Z"
   },
   {
    "duration": 11,
    "start_time": "2024-02-06T08:45:05.575Z"
   },
   {
    "duration": 6,
    "start_time": "2024-02-06T08:45:05.587Z"
   },
   {
    "duration": 131,
    "start_time": "2024-02-06T08:45:05.595Z"
   },
   {
    "duration": 8,
    "start_time": "2024-02-06T08:45:05.734Z"
   },
   {
    "duration": 19,
    "start_time": "2024-02-06T08:45:05.744Z"
   },
   {
    "duration": 31,
    "start_time": "2024-02-06T08:45:05.765Z"
   },
   {
    "duration": 9,
    "start_time": "2024-02-06T08:45:05.798Z"
   },
   {
    "duration": 36,
    "start_time": "2024-02-06T08:45:05.808Z"
   },
   {
    "duration": 42,
    "start_time": "2024-02-06T08:45:05.845Z"
   },
   {
    "duration": 31,
    "start_time": "2024-02-06T08:45:05.888Z"
   },
   {
    "duration": 21,
    "start_time": "2024-02-06T08:45:05.924Z"
   },
   {
    "duration": 51,
    "start_time": "2024-02-06T08:45:05.947Z"
   },
   {
    "duration": 18,
    "start_time": "2024-02-06T08:45:06.000Z"
   },
   {
    "duration": 43,
    "start_time": "2024-02-06T08:45:06.020Z"
   },
   {
    "duration": 43,
    "start_time": "2024-02-06T08:45:06.065Z"
   },
   {
    "duration": 209,
    "start_time": "2024-02-06T08:45:06.109Z"
   },
   {
    "duration": 223,
    "start_time": "2024-02-06T08:45:06.320Z"
   },
   {
    "duration": 379,
    "start_time": "2024-02-06T08:45:06.544Z"
   },
   {
    "duration": 14,
    "start_time": "2024-02-06T08:45:06.924Z"
   },
   {
    "duration": 20,
    "start_time": "2024-02-06T08:45:06.940Z"
   },
   {
    "duration": 12,
    "start_time": "2024-02-06T08:45:06.962Z"
   },
   {
    "duration": 25,
    "start_time": "2024-02-06T08:45:06.976Z"
   },
   {
    "duration": 224,
    "start_time": "2024-02-06T08:45:07.003Z"
   },
   {
    "duration": 214,
    "start_time": "2024-02-06T08:45:07.232Z"
   },
   {
    "duration": 8,
    "start_time": "2024-02-06T08:45:07.447Z"
   },
   {
    "duration": 16,
    "start_time": "2024-02-06T08:45:07.457Z"
   },
   {
    "duration": 21,
    "start_time": "2024-02-06T08:45:07.474Z"
   },
   {
    "duration": 22,
    "start_time": "2024-02-06T08:45:07.496Z"
   },
   {
    "duration": 228,
    "start_time": "2024-02-06T08:45:07.520Z"
   },
   {
    "duration": 11,
    "start_time": "2024-02-06T08:45:07.750Z"
   },
   {
    "duration": 204,
    "start_time": "2024-02-06T08:45:07.762Z"
   },
   {
    "duration": 182,
    "start_time": "2024-02-06T08:45:07.968Z"
   },
   {
    "duration": 8,
    "start_time": "2024-02-06T08:45:08.151Z"
   },
   {
    "duration": 26,
    "start_time": "2024-02-06T08:45:08.160Z"
   },
   {
    "duration": 18,
    "start_time": "2024-02-06T08:45:08.187Z"
   },
   {
    "duration": 31,
    "start_time": "2024-02-06T08:45:08.207Z"
   },
   {
    "duration": 214,
    "start_time": "2024-02-06T08:45:08.239Z"
   },
   {
    "duration": 158,
    "start_time": "2024-02-06T08:45:08.454Z"
   },
   {
    "duration": 9,
    "start_time": "2024-02-06T08:45:08.613Z"
   },
   {
    "duration": 371,
    "start_time": "2024-02-06T08:45:08.634Z"
   },
   {
    "duration": 337,
    "start_time": "2024-02-06T08:45:09.007Z"
   },
   {
    "duration": 191,
    "start_time": "2024-02-06T08:45:09.345Z"
   },
   {
    "duration": 182,
    "start_time": "2024-02-06T08:45:09.538Z"
   },
   {
    "duration": 191,
    "start_time": "2024-02-06T08:45:09.722Z"
   },
   {
    "duration": 169,
    "start_time": "2024-02-06T08:45:09.915Z"
   },
   {
    "duration": 149,
    "start_time": "2024-02-06T08:45:10.085Z"
   },
   {
    "duration": 170,
    "start_time": "2024-02-06T08:45:10.235Z"
   },
   {
    "duration": 200,
    "start_time": "2024-02-06T08:45:10.407Z"
   },
   {
    "duration": 249,
    "start_time": "2024-02-06T08:45:10.608Z"
   },
   {
    "duration": 7,
    "start_time": "2024-02-06T08:45:10.859Z"
   },
   {
    "duration": 37,
    "start_time": "2024-02-06T08:45:10.867Z"
   },
   {
    "duration": 14,
    "start_time": "2024-02-06T08:45:10.905Z"
   },
   {
    "duration": 164,
    "start_time": "2024-02-06T08:45:10.920Z"
   },
   {
    "duration": 1073,
    "start_time": "2024-02-06T09:16:12.883Z"
   },
   {
    "duration": 95,
    "start_time": "2024-02-06T09:16:13.957Z"
   },
   {
    "duration": 38,
    "start_time": "2024-02-06T09:16:14.053Z"
   },
   {
    "duration": 72,
    "start_time": "2024-02-06T09:16:14.093Z"
   },
   {
    "duration": 2222,
    "start_time": "2024-02-06T09:16:14.167Z"
   },
   {
    "duration": 27,
    "start_time": "2024-02-06T09:16:16.390Z"
   },
   {
    "duration": 8,
    "start_time": "2024-02-06T09:16:16.418Z"
   },
   {
    "duration": 27,
    "start_time": "2024-02-06T09:16:16.427Z"
   },
   {
    "duration": 8,
    "start_time": "2024-02-06T09:16:16.456Z"
   },
   {
    "duration": 33,
    "start_time": "2024-02-06T09:16:16.465Z"
   },
   {
    "duration": 19,
    "start_time": "2024-02-06T09:16:16.499Z"
   },
   {
    "duration": 200,
    "start_time": "2024-02-06T09:16:16.519Z"
   },
   {
    "duration": 9,
    "start_time": "2024-02-06T09:16:16.720Z"
   },
   {
    "duration": 5,
    "start_time": "2024-02-06T09:16:16.734Z"
   },
   {
    "duration": 5,
    "start_time": "2024-02-06T09:16:16.740Z"
   },
   {
    "duration": 8,
    "start_time": "2024-02-06T09:16:16.747Z"
   },
   {
    "duration": 201,
    "start_time": "2024-02-06T09:16:16.756Z"
   },
   {
    "duration": 4,
    "start_time": "2024-02-06T09:16:16.958Z"
   },
   {
    "duration": 10,
    "start_time": "2024-02-06T09:16:16.963Z"
   },
   {
    "duration": 11,
    "start_time": "2024-02-06T09:16:16.975Z"
   },
   {
    "duration": 16,
    "start_time": "2024-02-06T09:16:16.988Z"
   },
   {
    "duration": 7,
    "start_time": "2024-02-06T09:16:17.005Z"
   },
   {
    "duration": 21,
    "start_time": "2024-02-06T09:16:17.013Z"
   },
   {
    "duration": 6,
    "start_time": "2024-02-06T09:16:17.036Z"
   },
   {
    "duration": 4,
    "start_time": "2024-02-06T09:16:17.044Z"
   },
   {
    "duration": 12,
    "start_time": "2024-02-06T09:16:17.050Z"
   },
   {
    "duration": 6,
    "start_time": "2024-02-06T09:16:17.064Z"
   },
   {
    "duration": 13,
    "start_time": "2024-02-06T09:16:17.071Z"
   },
   {
    "duration": 10,
    "start_time": "2024-02-06T09:16:17.086Z"
   },
   {
    "duration": 5,
    "start_time": "2024-02-06T09:16:17.098Z"
   },
   {
    "duration": 16,
    "start_time": "2024-02-06T09:16:17.104Z"
   },
   {
    "duration": 14,
    "start_time": "2024-02-06T09:16:17.122Z"
   },
   {
    "duration": 118,
    "start_time": "2024-02-06T09:16:17.138Z"
   },
   {
    "duration": 6,
    "start_time": "2024-02-06T09:16:17.257Z"
   },
   {
    "duration": 17,
    "start_time": "2024-02-06T09:16:17.265Z"
   },
   {
    "duration": 14,
    "start_time": "2024-02-06T09:16:17.283Z"
   },
   {
    "duration": 6,
    "start_time": "2024-02-06T09:16:17.298Z"
   },
   {
    "duration": 11,
    "start_time": "2024-02-06T09:16:17.305Z"
   },
   {
    "duration": 24,
    "start_time": "2024-02-06T09:16:17.317Z"
   },
   {
    "duration": 8,
    "start_time": "2024-02-06T09:16:17.342Z"
   },
   {
    "duration": 12,
    "start_time": "2024-02-06T09:16:17.355Z"
   },
   {
    "duration": 29,
    "start_time": "2024-02-06T09:16:17.369Z"
   },
   {
    "duration": 4,
    "start_time": "2024-02-06T09:16:17.399Z"
   },
   {
    "duration": 34,
    "start_time": "2024-02-06T09:16:17.405Z"
   },
   {
    "duration": 37,
    "start_time": "2024-02-06T09:16:17.440Z"
   },
   {
    "duration": 194,
    "start_time": "2024-02-06T09:16:17.479Z"
   },
   {
    "duration": 227,
    "start_time": "2024-02-06T09:16:17.675Z"
   },
   {
    "duration": 362,
    "start_time": "2024-02-06T09:16:17.904Z"
   },
   {
    "duration": 11,
    "start_time": "2024-02-06T09:16:18.268Z"
   },
   {
    "duration": 26,
    "start_time": "2024-02-06T09:16:18.281Z"
   },
   {
    "duration": 6,
    "start_time": "2024-02-06T09:16:18.309Z"
   },
   {
    "duration": 20,
    "start_time": "2024-02-06T09:16:18.317Z"
   },
   {
    "duration": 239,
    "start_time": "2024-02-06T09:16:18.339Z"
   },
   {
    "duration": 196,
    "start_time": "2024-02-06T09:16:18.579Z"
   },
   {
    "duration": 10,
    "start_time": "2024-02-06T09:16:18.776Z"
   },
   {
    "duration": 24,
    "start_time": "2024-02-06T09:16:18.787Z"
   },
   {
    "duration": 17,
    "start_time": "2024-02-06T09:16:18.813Z"
   },
   {
    "duration": 22,
    "start_time": "2024-02-06T09:16:18.831Z"
   },
   {
    "duration": 203,
    "start_time": "2024-02-06T09:16:18.854Z"
   },
   {
    "duration": 8,
    "start_time": "2024-02-06T09:16:19.058Z"
   },
   {
    "duration": 190,
    "start_time": "2024-02-06T09:16:19.068Z"
   },
   {
    "duration": 180,
    "start_time": "2024-02-06T09:16:19.259Z"
   },
   {
    "duration": 7,
    "start_time": "2024-02-06T09:16:19.440Z"
   },
   {
    "duration": 22,
    "start_time": "2024-02-06T09:16:19.448Z"
   },
   {
    "duration": 13,
    "start_time": "2024-02-06T09:16:19.471Z"
   },
   {
    "duration": 13,
    "start_time": "2024-02-06T09:16:19.485Z"
   },
   {
    "duration": 213,
    "start_time": "2024-02-06T09:16:19.500Z"
   },
   {
    "duration": 160,
    "start_time": "2024-02-06T09:16:19.714Z"
   },
   {
    "duration": 10,
    "start_time": "2024-02-06T09:16:19.875Z"
   },
   {
    "duration": 384,
    "start_time": "2024-02-06T09:16:19.887Z"
   },
   {
    "duration": 309,
    "start_time": "2024-02-06T09:16:20.273Z"
   },
   {
    "duration": 189,
    "start_time": "2024-02-06T09:16:20.583Z"
   },
   {
    "duration": 190,
    "start_time": "2024-02-06T09:16:20.774Z"
   },
   {
    "duration": 189,
    "start_time": "2024-02-06T09:16:20.966Z"
   },
   {
    "duration": 184,
    "start_time": "2024-02-06T09:16:21.156Z"
   },
   {
    "duration": 151,
    "start_time": "2024-02-06T09:16:21.341Z"
   },
   {
    "duration": 192,
    "start_time": "2024-02-06T09:16:21.494Z"
   },
   {
    "duration": 182,
    "start_time": "2024-02-06T09:16:21.688Z"
   },
   {
    "duration": 240,
    "start_time": "2024-02-06T09:16:21.873Z"
   },
   {
    "duration": 7,
    "start_time": "2024-02-06T09:16:22.115Z"
   },
   {
    "duration": 32,
    "start_time": "2024-02-06T09:16:22.123Z"
   },
   {
    "duration": 8,
    "start_time": "2024-02-06T09:16:22.156Z"
   },
   {
    "duration": 161,
    "start_time": "2024-02-06T09:16:22.165Z"
   }
  ],
  "kernelspec": {
   "display_name": "Python 3 (ipykernel)",
   "language": "python",
   "name": "python3"
  },
  "language_info": {
   "codemirror_mode": {
    "name": "ipython",
    "version": 3
   },
   "file_extension": ".py",
   "mimetype": "text/x-python",
   "name": "python",
   "nbconvert_exporter": "python",
   "pygments_lexer": "ipython3",
   "version": "3.11.5"
  },
  "toc": {
   "base_numbering": 1,
   "nav_menu": {},
   "number_sections": true,
   "sideBar": true,
   "skip_h1_title": true,
   "title_cell": "Table of Contents",
   "title_sidebar": "Contents",
   "toc_cell": false,
   "toc_position": {
    "height": "calc(100% - 180px)",
    "left": "10px",
    "top": "150px",
    "width": "341.333px"
   },
   "toc_section_display": true,
   "toc_window_display": true
  }
 },
 "nbformat": 4,
 "nbformat_minor": 2
}
