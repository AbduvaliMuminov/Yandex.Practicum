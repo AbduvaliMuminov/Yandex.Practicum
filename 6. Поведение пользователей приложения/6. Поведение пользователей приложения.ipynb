{
 "cells": [
  {
   "cell_type": "markdown",
   "metadata": {},
   "source": [
    "## Обзор и предобработка данных"
   ]
  },
  {
   "cell_type": "markdown",
   "metadata": {},
   "source": [
    "# Исследование поведения пользователей мобильного приложения \n",
    "\n",
    "Цель проекта проанализировать поведение пользователей мобильного приложения:\n",
    "* изучить воронку продаж\n",
    "* исследовать результаты А/А/В-эксперимента.\n",
    "\n",
    "Описание данных `/datasets/logs_exp.csv`\n",
    "\n",
    "Каждая запись в логе — это действие пользователя, или событие:\n",
    "* `EventName` — название события;\n",
    "* `DeviceIDHash` — уникальный идентификатор пользователя;\n",
    "* `EventTimestamp` — время события;\n",
    "* `ExpId` — номер эксперимента: 246 и 247 — контрольные группы, а 248 — экспериментальная.\n",
    "\n",
    "План действий: \n",
    "1. Обзор и предобработка данных \n",
    "2. Изучение и проверка данных\n",
    "3. Изучение воронки событый \n",
    "4. Изучение результатов эксперимента"
   ]
  },
  {
   "cell_type": "code",
   "execution_count": 1,
   "metadata": {},
   "outputs": [],
   "source": [
    "# импорт библиотек \n",
    "import pandas as pd\n",
    "import numpy as np\n",
    "import matplotlib.pyplot as plt\n",
    "import seaborn as sns\n",
    "import math\n",
    "import warnings\n",
    "import plotly.graph_objects as go\n",
    "from scipy import stats as st"
   ]
  },
  {
   "cell_type": "code",
   "execution_count": 2,
   "metadata": {},
   "outputs": [
    {
     "data": {
      "text/html": [
       "<div>\n",
       "<style scoped>\n",
       "    .dataframe tbody tr th:only-of-type {\n",
       "        vertical-align: middle;\n",
       "    }\n",
       "\n",
       "    .dataframe tbody tr th {\n",
       "        vertical-align: top;\n",
       "    }\n",
       "\n",
       "    .dataframe thead th {\n",
       "        text-align: right;\n",
       "    }\n",
       "</style>\n",
       "<table border=\"1\" class=\"dataframe\">\n",
       "  <thead>\n",
       "    <tr style=\"text-align: right;\">\n",
       "      <th></th>\n",
       "      <th>EventName</th>\n",
       "      <th>DeviceIDHash</th>\n",
       "      <th>EventTimestamp</th>\n",
       "      <th>ExpId</th>\n",
       "    </tr>\n",
       "  </thead>\n",
       "  <tbody>\n",
       "    <tr>\n",
       "      <th>0</th>\n",
       "      <td>MainScreenAppear</td>\n",
       "      <td>4575588528974610257</td>\n",
       "      <td>1564029816</td>\n",
       "      <td>246</td>\n",
       "    </tr>\n",
       "    <tr>\n",
       "      <th>1</th>\n",
       "      <td>MainScreenAppear</td>\n",
       "      <td>7416695313311560658</td>\n",
       "      <td>1564053102</td>\n",
       "      <td>246</td>\n",
       "    </tr>\n",
       "    <tr>\n",
       "      <th>2</th>\n",
       "      <td>PaymentScreenSuccessful</td>\n",
       "      <td>3518123091307005509</td>\n",
       "      <td>1564054127</td>\n",
       "      <td>248</td>\n",
       "    </tr>\n",
       "    <tr>\n",
       "      <th>3</th>\n",
       "      <td>CartScreenAppear</td>\n",
       "      <td>3518123091307005509</td>\n",
       "      <td>1564054127</td>\n",
       "      <td>248</td>\n",
       "    </tr>\n",
       "    <tr>\n",
       "      <th>4</th>\n",
       "      <td>PaymentScreenSuccessful</td>\n",
       "      <td>6217807653094995999</td>\n",
       "      <td>1564055322</td>\n",
       "      <td>248</td>\n",
       "    </tr>\n",
       "  </tbody>\n",
       "</table>\n",
       "</div>"
      ],
      "text/plain": [
       "                 EventName         DeviceIDHash  EventTimestamp  ExpId\n",
       "0         MainScreenAppear  4575588528974610257      1564029816    246\n",
       "1         MainScreenAppear  7416695313311560658      1564053102    246\n",
       "2  PaymentScreenSuccessful  3518123091307005509      1564054127    248\n",
       "3         CartScreenAppear  3518123091307005509      1564054127    248\n",
       "4  PaymentScreenSuccessful  6217807653094995999      1564055322    248"
      ]
     },
     "metadata": {},
     "output_type": "display_data"
    },
    {
     "name": "stdout",
     "output_type": "stream",
     "text": [
      "<class 'pandas.core.frame.DataFrame'>\n",
      "RangeIndex: 244126 entries, 0 to 244125\n",
      "Data columns (total 4 columns):\n",
      " #   Column          Non-Null Count   Dtype \n",
      "---  ------          --------------   ----- \n",
      " 0   EventName       244126 non-null  object\n",
      " 1   DeviceIDHash    244126 non-null  int64 \n",
      " 2   EventTimestamp  244126 non-null  int64 \n",
      " 3   ExpId           244126 non-null  int64 \n",
      "dtypes: int64(3), object(1)\n",
      "memory usage: 7.5+ MB\n"
     ]
    },
    {
     "data": {
      "text/plain": [
       "None"
      ]
     },
     "metadata": {},
     "output_type": "display_data"
    }
   ],
   "source": [
    "log = pd.read_csv('/datasets/logs_exp.csv', sep='\\t')\n",
    "display(log.head())\n",
    "display(log.info())"
   ]
  },
  {
   "cell_type": "code",
   "execution_count": 3,
   "metadata": {},
   "outputs": [
    {
     "data": {
      "text/plain": [
       "413"
      ]
     },
     "execution_count": 3,
     "metadata": {},
     "output_type": "execute_result"
    }
   ],
   "source": [
    "# проверим наличие будликатов\n",
    "log.duplicated().sum()"
   ]
  },
  {
   "cell_type": "code",
   "execution_count": 4,
   "metadata": {},
   "outputs": [
    {
     "data": {
      "text/plain": [
       "array([246, 248, 247])"
      ]
     },
     "metadata": {},
     "output_type": "display_data"
    }
   ],
   "source": [
    "# проверим номера экспериментов \n",
    "display(log['ExpId'].unique())"
   ]
  },
  {
   "cell_type": "markdown",
   "metadata": {},
   "source": [
    "Номера экспериментов совпадают с ТЗ. Пропусков нет, есть 413 дубликатов.\n",
    "\n",
    "Столбец со временем событий нужно привести в нужный формат (кажется, они указаны в секундах), названия столбцов перезапишем в удобном нам стиле, избавимся от дубликатов и добавим столбцы с датой и временем."
   ]
  },
  {
   "cell_type": "code",
   "execution_count": 5,
   "metadata": {},
   "outputs": [],
   "source": [
    "# поменяем названия столбцов\n",
    "log = log.rename(columns = {'EventName':'event', 'DeviceIDHash':'user_id', \n",
    "                            'EventTimestamp':'timestamp', 'ExpId':'group_id'})"
   ]
  },
  {
   "cell_type": "code",
   "execution_count": 6,
   "metadata": {},
   "outputs": [],
   "source": [
    "# стобец с датами приведем в нужный формат с точностью до секунды\n",
    "log['timestamp'] = log['timestamp'].astype('datetime64[s]')"
   ]
  },
  {
   "cell_type": "code",
   "execution_count": 7,
   "metadata": {},
   "outputs": [],
   "source": [
    "# добавим столбец даты и времени, а также отдельный столбец дат\n",
    "log['date_time'] = pd.to_datetime(log['timestamp'], unit='s') \n",
    "log['date'] = log['date_time'].astype('datetime64[D]')"
   ]
  },
  {
   "cell_type": "code",
   "execution_count": 8,
   "metadata": {},
   "outputs": [],
   "source": [
    "# удалим дубликаты\n",
    "log = log.drop_duplicates()"
   ]
  },
  {
   "cell_type": "markdown",
   "metadata": {},
   "source": [
    "**Вывод**\n",
    "\n",
    "Провели предобработку и привели данные в порядок. Исправили формат колонки с датой, добавили столбцы с датой и временем, а также отдельный столбец с датой. Также переписали названия в едином стиле для удобной работы."
   ]
  },
  {
   "cell_type": "code",
   "execution_count": 9,
   "metadata": {},
   "outputs": [
    {
     "data": {
      "text/html": [
       "<div>\n",
       "<style scoped>\n",
       "    .dataframe tbody tr th:only-of-type {\n",
       "        vertical-align: middle;\n",
       "    }\n",
       "\n",
       "    .dataframe tbody tr th {\n",
       "        vertical-align: top;\n",
       "    }\n",
       "\n",
       "    .dataframe thead th {\n",
       "        text-align: right;\n",
       "    }\n",
       "</style>\n",
       "<table border=\"1\" class=\"dataframe\">\n",
       "  <thead>\n",
       "    <tr style=\"text-align: right;\">\n",
       "      <th></th>\n",
       "      <th>event</th>\n",
       "      <th>user_id</th>\n",
       "      <th>timestamp</th>\n",
       "      <th>group_id</th>\n",
       "      <th>date_time</th>\n",
       "      <th>date</th>\n",
       "    </tr>\n",
       "  </thead>\n",
       "  <tbody>\n",
       "    <tr>\n",
       "      <th>151951</th>\n",
       "      <td>CartScreenAppear</td>\n",
       "      <td>1100007125648169445</td>\n",
       "      <td>2019-08-05 10:12:17</td>\n",
       "      <td>248</td>\n",
       "      <td>2019-08-05 10:12:17</td>\n",
       "      <td>2019-08-05</td>\n",
       "    </tr>\n",
       "    <tr>\n",
       "      <th>159167</th>\n",
       "      <td>MainScreenAppear</td>\n",
       "      <td>422635451750847294</td>\n",
       "      <td>2019-08-05 13:24:38</td>\n",
       "      <td>247</td>\n",
       "      <td>2019-08-05 13:24:38</td>\n",
       "      <td>2019-08-05</td>\n",
       "    </tr>\n",
       "    <tr>\n",
       "      <th>230910</th>\n",
       "      <td>CartScreenAppear</td>\n",
       "      <td>8685495455749621832</td>\n",
       "      <td>2019-08-07 14:15:10</td>\n",
       "      <td>247</td>\n",
       "      <td>2019-08-07 14:15:10</td>\n",
       "      <td>2019-08-07</td>\n",
       "    </tr>\n",
       "    <tr>\n",
       "      <th>89267</th>\n",
       "      <td>MainScreenAppear</td>\n",
       "      <td>3808350110501887887</td>\n",
       "      <td>2019-08-03 11:45:46</td>\n",
       "      <td>248</td>\n",
       "      <td>2019-08-03 11:45:46</td>\n",
       "      <td>2019-08-03</td>\n",
       "    </tr>\n",
       "    <tr>\n",
       "      <th>29779</th>\n",
       "      <td>MainScreenAppear</td>\n",
       "      <td>1866081895270239546</td>\n",
       "      <td>2019-08-01 16:42:29</td>\n",
       "      <td>247</td>\n",
       "      <td>2019-08-01 16:42:29</td>\n",
       "      <td>2019-08-01</td>\n",
       "    </tr>\n",
       "  </tbody>\n",
       "</table>\n",
       "</div>"
      ],
      "text/plain": [
       "                   event              user_id           timestamp  group_id  \\\n",
       "151951  CartScreenAppear  1100007125648169445 2019-08-05 10:12:17       248   \n",
       "159167  MainScreenAppear   422635451750847294 2019-08-05 13:24:38       247   \n",
       "230910  CartScreenAppear  8685495455749621832 2019-08-07 14:15:10       247   \n",
       "89267   MainScreenAppear  3808350110501887887 2019-08-03 11:45:46       248   \n",
       "29779   MainScreenAppear  1866081895270239546 2019-08-01 16:42:29       247   \n",
       "\n",
       "                 date_time       date  \n",
       "151951 2019-08-05 10:12:17 2019-08-05  \n",
       "159167 2019-08-05 13:24:38 2019-08-05  \n",
       "230910 2019-08-07 14:15:10 2019-08-07  \n",
       "89267  2019-08-03 11:45:46 2019-08-03  \n",
       "29779  2019-08-01 16:42:29 2019-08-01  "
      ]
     },
     "execution_count": 9,
     "metadata": {},
     "output_type": "execute_result"
    }
   ],
   "source": [
    "log.sample(5)"
   ]
  },
  {
   "cell_type": "markdown",
   "metadata": {},
   "source": [
    "## Изучение и проверка данных\n",
    "\n",
    "* Сколько всего событий в логе?\n",
    "* Сколько всего пользователей в логе?\n",
    "* Сколько в среднем событий приходится на пользователя?\n",
    "* Данными за какой период мы располагаем? Найдем максимальную и минимальную дату. Изучим, как меняется количество данных: построим столбчатую диаграмму, которая отобразит количество событий в зависимости от времени в разрезе групп. Можно ли быть уверенным, что у нас одинаково полные данные за весь период? Технически в логи новых дней по некоторым пользователям могут «доезжать» события из прошлого — это может «перекашивать данные». Определить, с какого момента данные полные и отбросить более старые. Данными за какой период времени мы располагаем на самом деле?\n",
    "* Много ли событий и пользователей вы потеряли, отбросив старые данные?\n",
    "* Проверим, что у нас есть пользователи из всех трёх экспериментальных групп."
   ]
  },
  {
   "cell_type": "markdown",
   "metadata": {},
   "source": [
    "### Сколько всего событий в логе?"
   ]
  },
  {
   "cell_type": "code",
   "execution_count": 9,
   "metadata": {},
   "outputs": [
    {
     "data": {
      "text/plain": [
       "array(['MainScreenAppear', 'PaymentScreenSuccessful', 'CartScreenAppear',\n",
       "       'OffersScreenAppear', 'Tutorial'], dtype=object)"
      ]
     },
     "metadata": {},
     "output_type": "display_data"
    },
    {
     "name": "stdout",
     "output_type": "stream",
     "text": [
      "Всего уникальных событий в логе: 5\n"
     ]
    }
   ],
   "source": [
    "display(log['event'].unique())\n",
    "print('Всего уникальных событий в логе:', len(log['event'].unique()))"
   ]
  },
  {
   "cell_type": "code",
   "execution_count": 10,
   "metadata": {},
   "outputs": [
    {
     "name": "stdout",
     "output_type": "stream",
     "text": [
      "Всего событий в логе: 243713\n"
     ]
    }
   ],
   "source": [
    "print('Всего событий в логе:', log['event'].count())"
   ]
  },
  {
   "cell_type": "markdown",
   "metadata": {},
   "source": [
    "### Сколько всего пользователей в логе?"
   ]
  },
  {
   "cell_type": "code",
   "execution_count": 11,
   "metadata": {},
   "outputs": [
    {
     "name": "stdout",
     "output_type": "stream",
     "text": [
      "Число пользователей в логе: 7551\n"
     ]
    }
   ],
   "source": [
    "print('Число пользователей в логе:', len(log['user_id'].unique()))"
   ]
  },
  {
   "cell_type": "markdown",
   "metadata": {},
   "source": [
    "### Сколько в среднем событий приходится на пользователя?"
   ]
  },
  {
   "cell_type": "code",
   "execution_count": 12,
   "metadata": {},
   "outputs": [
    {
     "name": "stdout",
     "output_type": "stream",
     "text": [
      "В среднем на одного пользователя приходится событий: 32.3\n"
     ]
    }
   ],
   "source": [
    "print('В среднем на одного пользователя приходится событий:', log.groupby('user_id')['event'].count().mean().round(1))"
   ]
  },
  {
   "cell_type": "markdown",
   "metadata": {},
   "source": [
    "### Данными за какой период мы располагаем? \n",
    "Найдем максимальную и минимальную дату. Изучим, как меняется количество данных:\n",
    "построим столбчатую диаграмму, которая отобразит количество событий в зависимости от времени в разрезе групп. Можно ли быть уверенным, что у нас одинаково полные данные за весь период? Технически в логи новых дней по некоторым пользователям могут «доезжать» события из прошлого — это может «перекашивать данные». Определить, с какого момента данные полные и отбросить более старые. Данными за какой период времени мы располагаем на самом деле?"
   ]
  },
  {
   "cell_type": "code",
   "execution_count": 13,
   "metadata": {
    "scrolled": true
   },
   "outputs": [
    {
     "name": "stdout",
     "output_type": "stream",
     "text": [
      "Первый день: 2019-07-25 00:00:00\n",
      "Последний день: 2019-08-07 00:00:00\n"
     ]
    }
   ],
   "source": [
    "# найдем первую и последнюю даты\n",
    "first_date = log['date'].min()\n",
    "last_date = log['date'].max()\n",
    "print('Первый день:', first_date)\n",
    "print('Последний день:', last_date)"
   ]
  },
  {
   "cell_type": "code",
   "execution_count": 14,
   "metadata": {},
   "outputs": [
    {
     "name": "stdout",
     "output_type": "stream",
     "text": [
      "Период: 13 days 00:00:00\n"
     ]
    }
   ],
   "source": [
    "# определим данными за какой период мы располагаем\n",
    "diff = last_date - first_date\n",
    "print('Период:', diff)"
   ]
  },
  {
   "cell_type": "code",
   "execution_count": 15,
   "metadata": {},
   "outputs": [
    {
     "data": {
      "image/png": "[encoded data removed]",
      "text/plain": [
       "<Figure size 1080x360 with 1 Axes>"
      ]
     },
     "metadata": {
      "needs_background": "light"
     },
     "output_type": "display_data"
    }
   ],
   "source": [
    "# посмотрим на графике кол-во событий в зависимости от времени \n",
    "log['date_time'].hist(bins=100, figsize=(15, 5))\n",
    "\n",
    "plt.title('Распределение логов по дате и времени')\n",
    "plt.xlabel('Дата')\n",
    "plt.ylabel('Кол-во событий')\n",
    "plt.xticks(rotation=20)\n",
    "\n",
    "plt.show()"
   ]
  },
  {
   "cell_type": "markdown",
   "metadata": {},
   "source": [
    "Мы видим, что данные не пошли с самого начала. Иногда так бывает, что, например, у пользователя нет интернета, он пользовался приложением, данные сохранились в логе, а потом, когда появился интернет, они отправились.\n",
    "\n",
    "Поэтому, чтобы избежать данной проблемы, мы берем данные с 01-08-2019 по 07-08-2019."
   ]
  },
  {
   "cell_type": "code",
   "execution_count": 16,
   "metadata": {},
   "outputs": [],
   "source": [
    "log_upd = log[log['date_time'] >= '2019-08-01']"
   ]
  },
  {
   "cell_type": "code",
   "execution_count": 17,
   "metadata": {},
   "outputs": [
    {
     "data": {
      "image/png": "[encoded data removed]",
      "text/plain": [
       "<Figure size 1080x360 with 1 Axes>"
      ]
     },
     "metadata": {
      "needs_background": "light"
     },
     "output_type": "display_data"
    }
   ],
   "source": [
    "# посмотрим на графике кол-во событий в зависимости от времени (по очищенным данным)\n",
    "log_upd['date_time'].hist(bins=100, figsize=(15, 5))\n",
    "\n",
    "plt.title('Распределение логов по дате и времени')\n",
    "plt.xlabel('Дата')\n",
    "plt.ylabel('Кол-во событий')\n",
    "plt.xticks(rotation=20)\n",
    "\n",
    "plt.show()"
   ]
  },
  {
   "cell_type": "markdown",
   "metadata": {},
   "source": [
    "Изначально в нашем распоряжении были данные за 2 недели, но после фильтрации осталась только одна.\n",
    "\n",
    "Длительность проведения теста зависит от нескольких факторов, включая размер эффекта, который мы хотим обнаружить, уровень статистической значимости, количество участников в тесте и уровень изменчивости данных.\n",
    "\n",
    "В идеале, тест должен продолжаться достаточно долго, чтобы получить статистически значимые результаты и убедиться, что различия между группами не случайны. Во многих случаях рекомендуется проводить тест не менее одной недели, чтобы учесть возможные изменения в поведении пользователей в разные дни недели."
   ]
  },
  {
   "cell_type": "markdown",
   "metadata": {},
   "source": [
    "### Много ли событий и пользователей вы потеряли, отбросив старые данные?"
   ]
  },
  {
   "cell_type": "code",
   "execution_count": 18,
   "metadata": {},
   "outputs": [
    {
     "name": "stdout",
     "output_type": "stream",
     "text": [
      "Всего событий до очистки: 243713\n",
      "Всего событий после отчистки: 240887\n",
      "Потеряли: 1.16 %\n"
     ]
    }
   ],
   "source": [
    "# посчитаем сколько событий потеряли\n",
    "print('Всего событий до очистки:', len(log['event']))\n",
    "print('Всего событий после отчистки:', len(log_upd['event']))\n",
    "\n",
    "loss_percentage = (len(log['event']) - len(log_upd['event'])) / len(log['event']) * 100\n",
    "print('Потеряли:', round(loss_percentage, 2), '%')"
   ]
  },
  {
   "cell_type": "code",
   "execution_count": 19,
   "metadata": {},
   "outputs": [
    {
     "name": "stdout",
     "output_type": "stream",
     "text": [
      "Всего пользователей до очистки: 7551\n",
      "Всего пользователей после отчистки: 7534\n",
      "Потеряли: 0.23 %\n"
     ]
    }
   ],
   "source": [
    "# посчитаем сколько пользователей потеряли\n",
    "print('Всего пользователей до очистки:', len(log['user_id'].unique()))\n",
    "print('Всего пользователей после отчистки:', len(log_upd['user_id'].unique()))\n",
    "\n",
    "loss_percentage = (len(log['user_id'].unique()) - len(log_upd['user_id'].unique())) / len(log['user_id'].unique()) * 100\n",
    "print('Потеряли:', round(loss_percentage, 2), '%')"
   ]
  },
  {
   "cell_type": "markdown",
   "metadata": {},
   "source": [
    "После очистки мы потеряли чуть больше 1% событий и 0,23% пользователей. "
   ]
  },
  {
   "cell_type": "markdown",
   "metadata": {},
   "source": [
    "### Проверим, что у нас есть пользователи из всех трёх экспериментальных групп."
   ]
  },
  {
   "cell_type": "code",
   "execution_count": 20,
   "metadata": {},
   "outputs": [
    {
     "data": {
      "text/html": [
       "<div>\n",
       "<style scoped>\n",
       "    .dataframe tbody tr th:only-of-type {\n",
       "        vertical-align: middle;\n",
       "    }\n",
       "\n",
       "    .dataframe tbody tr th {\n",
       "        vertical-align: top;\n",
       "    }\n",
       "\n",
       "    .dataframe thead th {\n",
       "        text-align: right;\n",
       "    }\n",
       "</style>\n",
       "<table border=\"1\" class=\"dataframe\">\n",
       "  <thead>\n",
       "    <tr style=\"text-align: right;\">\n",
       "      <th></th>\n",
       "      <th>user_id</th>\n",
       "    </tr>\n",
       "    <tr>\n",
       "      <th>group_id</th>\n",
       "      <th></th>\n",
       "    </tr>\n",
       "  </thead>\n",
       "  <tbody>\n",
       "    <tr>\n",
       "      <th>246</th>\n",
       "      <td>2489</td>\n",
       "    </tr>\n",
       "    <tr>\n",
       "      <th>247</th>\n",
       "      <td>2520</td>\n",
       "    </tr>\n",
       "    <tr>\n",
       "      <th>248</th>\n",
       "      <td>2542</td>\n",
       "    </tr>\n",
       "  </tbody>\n",
       "</table>\n",
       "</div>"
      ],
      "text/plain": [
       "          user_id\n",
       "group_id         \n",
       "246          2489\n",
       "247          2520\n",
       "248          2542"
      ]
     },
     "metadata": {},
     "output_type": "display_data"
    },
    {
     "data": {
      "text/html": [
       "<div>\n",
       "<style scoped>\n",
       "    .dataframe tbody tr th:only-of-type {\n",
       "        vertical-align: middle;\n",
       "    }\n",
       "\n",
       "    .dataframe tbody tr th {\n",
       "        vertical-align: top;\n",
       "    }\n",
       "\n",
       "    .dataframe thead th {\n",
       "        text-align: right;\n",
       "    }\n",
       "</style>\n",
       "<table border=\"1\" class=\"dataframe\">\n",
       "  <thead>\n",
       "    <tr style=\"text-align: right;\">\n",
       "      <th></th>\n",
       "      <th>user_id</th>\n",
       "    </tr>\n",
       "    <tr>\n",
       "      <th>group_id</th>\n",
       "      <th></th>\n",
       "    </tr>\n",
       "  </thead>\n",
       "  <tbody>\n",
       "    <tr>\n",
       "      <th>246</th>\n",
       "      <td>2484</td>\n",
       "    </tr>\n",
       "    <tr>\n",
       "      <th>247</th>\n",
       "      <td>2513</td>\n",
       "    </tr>\n",
       "    <tr>\n",
       "      <th>248</th>\n",
       "      <td>2537</td>\n",
       "    </tr>\n",
       "  </tbody>\n",
       "</table>\n",
       "</div>"
      ],
      "text/plain": [
       "          user_id\n",
       "group_id         \n",
       "246          2484\n",
       "247          2513\n",
       "248          2537"
      ]
     },
     "metadata": {},
     "output_type": "display_data"
    }
   ],
   "source": [
    "# проверим наличие пользователей их всех 3х групп\n",
    "display(log.groupby('group_id').agg({'user_id': 'nunique'})) # до отчистки\n",
    "display(log_upd.groupby('group_id').agg({'user_id': 'nunique'})) # очищенные данные"
   ]
  },
  {
   "cell_type": "markdown",
   "metadata": {},
   "source": [
    "Да, пользователи из всех 3 групп имеются и потери не такие уж и велики после очистки данных.\n",
    "\n",
    "**Вывод**\n",
    "\n",
    "Выяснили, что уникальных событий в логе 5, а всего 243713. Пользователей всего 7551 и в среднем на одного пользователя приходится 32 события. Имеем данные с 25 июля по 7 августа 2019 года. После того, как отбросили старые данные, теперь имеем данные с 1 по 7 августа. После очистки потеряли всего лишь чуть больше 1% событий и 0,2% пользователей, что не скажется на нашем исследовании."
   ]
  },
  {
   "cell_type": "markdown",
   "metadata": {},
   "source": [
    "## Изучение воронки событий \n",
    "\n",
    "* Посмотрим, какие события есть в логах, как часто они встречаются. Отсортируем события по частоте.\n",
    "* Посчитаем, сколько пользователей совершали каждое из этих событий. Отсортируем события по числу пользователей. Посчитаем долю пользователей, которые хоть раз совершали событие.\n",
    "* Посмотрим, в каком порядке происходят события. Все ли они выстраиваются в последовательную цепочку? Их не нужно учитывать при расчёте воронки.\n",
    "* По воронке событий посчитаем, какая доля пользователей проходит на следующий шаг воронки (от числа пользователей на предыдущем). То есть для последовательности событий A → B → C посчитайте отношение числа пользователей с событием B к количеству пользователей с событием A, а также отношение числа пользователей с событием C к количеству пользователей с событием B.\n",
    "* На каком шаге теряем больше всего пользователей?\n",
    "* Какая доля пользователей доходит от первого события до оплаты?"
   ]
  },
  {
   "cell_type": "markdown",
   "metadata": {},
   "source": [
    "### Посмотрим, какие события есть в логах, как часто они встречаются. Отсортируем события по частоте."
   ]
  },
  {
   "cell_type": "code",
   "execution_count": 21,
   "metadata": {},
   "outputs": [
    {
     "data": {
      "text/html": [
       "<div>\n",
       "<style scoped>\n",
       "    .dataframe tbody tr th:only-of-type {\n",
       "        vertical-align: middle;\n",
       "    }\n",
       "\n",
       "    .dataframe tbody tr th {\n",
       "        vertical-align: top;\n",
       "    }\n",
       "\n",
       "    .dataframe thead th {\n",
       "        text-align: right;\n",
       "    }\n",
       "</style>\n",
       "<table border=\"1\" class=\"dataframe\">\n",
       "  <thead>\n",
       "    <tr style=\"text-align: right;\">\n",
       "      <th></th>\n",
       "      <th>index</th>\n",
       "      <th>event</th>\n",
       "    </tr>\n",
       "  </thead>\n",
       "  <tbody>\n",
       "    <tr>\n",
       "      <th>0</th>\n",
       "      <td>MainScreenAppear</td>\n",
       "      <td>117328</td>\n",
       "    </tr>\n",
       "    <tr>\n",
       "      <th>1</th>\n",
       "      <td>OffersScreenAppear</td>\n",
       "      <td>46333</td>\n",
       "    </tr>\n",
       "    <tr>\n",
       "      <th>2</th>\n",
       "      <td>CartScreenAppear</td>\n",
       "      <td>42303</td>\n",
       "    </tr>\n",
       "    <tr>\n",
       "      <th>3</th>\n",
       "      <td>PaymentScreenSuccessful</td>\n",
       "      <td>33918</td>\n",
       "    </tr>\n",
       "    <tr>\n",
       "      <th>4</th>\n",
       "      <td>Tutorial</td>\n",
       "      <td>1005</td>\n",
       "    </tr>\n",
       "  </tbody>\n",
       "</table>\n",
       "</div>"
      ],
      "text/plain": [
       "                     index   event\n",
       "0         MainScreenAppear  117328\n",
       "1       OffersScreenAppear   46333\n",
       "2         CartScreenAppear   42303\n",
       "3  PaymentScreenSuccessful   33918\n",
       "4                 Tutorial    1005"
      ]
     },
     "execution_count": 21,
     "metadata": {},
     "output_type": "execute_result"
    }
   ],
   "source": [
    "event_funnel = log_upd['event'].value_counts().reset_index()\n",
    "event_funnel"
   ]
  },
  {
   "cell_type": "code",
   "execution_count": 54,
   "metadata": {},
   "outputs": [
    {
     "data": {
      "image/png": "[encoded data removed]",
      "text/plain": [
       "<Figure size 720x432 with 1 Axes>"
      ]
     },
     "metadata": {},
     "output_type": "display_data"
    }
   ],
   "source": [
    "# создаем график воронки с помощью Seaborn и Matplotlib\n",
    "plt.figure(figsize=(10, 6))\n",
    "sns.set(style=\"whitegrid\")\n",
    "sns.barplot(x=event_funnel['event'], y=event_funnel['index'], palette=\"Set3\")\n",
    "\n",
    "for i, count in enumerate(event_funnel['event']):\n",
    "    plt.annotate(count, (count, i), va='center', fontsize=12)\n",
    "    \n",
    "plt.xlabel('Частота')\n",
    "plt.ylabel('События')\n",
    "plt.title('Воронка событий')\n",
    "plt.show()"
   ]
  },
  {
   "cell_type": "code",
   "execution_count": 44,
   "metadata": {},
   "outputs": [],
   "source": [
    "# График воронки с помощью Plotly\n",
    "\n",
    "#fig = go.Figure(go.Funnel(y = event_funnel['index'],\n",
    "#                          x = event_funnel['event'],\n",
    "#                          textposition = 'inside',\n",
    "#                          textinfo = 'value+percent initial'))\n",
    "#fig.update_layout(title='Частота событий')\n",
    "#fig.update_layout(yaxis_title='События')\n",
    "#fig.show()"
   ]
  },
  {
   "cell_type": "markdown",
   "metadata": {},
   "source": [
    "Больше всего пользователей посмотрели главную страницу, что является логичным. Далее следуют страница с предложениями и корзина. Страницу с успешной оплатой посетили 33 тысячи раз. Однако страница \"Tutorial\" остается загадкой. По идее, она должна быть одной из первых или вторых в последовательности. Вероятно, пользователи просто пропускают этот этап."
   ]
  },
  {
   "cell_type": "markdown",
   "metadata": {},
   "source": [
    "### Посчитаем, сколько пользователей совершали каждое из этих событий. Отсортируем события по числу пользователей. Посчитаем долю пользователей, которые хоть раз совершали событие."
   ]
  },
  {
   "cell_type": "code",
   "execution_count": 23,
   "metadata": {},
   "outputs": [
    {
     "data": {
      "text/html": [
       "<div>\n",
       "<style scoped>\n",
       "    .dataframe tbody tr th:only-of-type {\n",
       "        vertical-align: middle;\n",
       "    }\n",
       "\n",
       "    .dataframe tbody tr th {\n",
       "        vertical-align: top;\n",
       "    }\n",
       "\n",
       "    .dataframe thead th {\n",
       "        text-align: right;\n",
       "    }\n",
       "</style>\n",
       "<table border=\"1\" class=\"dataframe\">\n",
       "  <thead>\n",
       "    <tr style=\"text-align: right;\">\n",
       "      <th></th>\n",
       "      <th>event</th>\n",
       "      <th>total_users</th>\n",
       "      <th>percent</th>\n",
       "    </tr>\n",
       "  </thead>\n",
       "  <tbody>\n",
       "    <tr>\n",
       "      <th>0</th>\n",
       "      <td>MainScreenAppear</td>\n",
       "      <td>7419</td>\n",
       "      <td>98.5</td>\n",
       "    </tr>\n",
       "    <tr>\n",
       "      <th>1</th>\n",
       "      <td>OffersScreenAppear</td>\n",
       "      <td>4593</td>\n",
       "      <td>61.0</td>\n",
       "    </tr>\n",
       "    <tr>\n",
       "      <th>2</th>\n",
       "      <td>CartScreenAppear</td>\n",
       "      <td>3734</td>\n",
       "      <td>49.6</td>\n",
       "    </tr>\n",
       "    <tr>\n",
       "      <th>3</th>\n",
       "      <td>PaymentScreenSuccessful</td>\n",
       "      <td>3539</td>\n",
       "      <td>47.0</td>\n",
       "    </tr>\n",
       "    <tr>\n",
       "      <th>4</th>\n",
       "      <td>Tutorial</td>\n",
       "      <td>840</td>\n",
       "      <td>11.1</td>\n",
       "    </tr>\n",
       "  </tbody>\n",
       "</table>\n",
       "</div>"
      ],
      "text/plain": [
       "                     event  total_users  percent\n",
       "0         MainScreenAppear         7419     98.5\n",
       "1       OffersScreenAppear         4593     61.0\n",
       "2         CartScreenAppear         3734     49.6\n",
       "3  PaymentScreenSuccessful         3539     47.0\n",
       "4                 Tutorial          840     11.1"
      ]
     },
     "execution_count": 23,
     "metadata": {},
     "output_type": "execute_result"
    }
   ],
   "source": [
    "user_funnel = log_upd.groupby('event')['user_id'].nunique()\\\n",
    ".sort_values(ascending=False).reset_index().rename(columns={'user_id': 'total_users'}) \n",
    "user_funnel['percent'] = round(user_funnel['total_users'] / log_upd['user_id'].nunique() * 100, 1)\n",
    "user_funnel"
   ]
  },
  {
   "cell_type": "code",
   "execution_count": 49,
   "metadata": {},
   "outputs": [
    {
     "data": {
      "image/png": "[encoded data removed]",
      "text/plain": [
       "<Figure size 720x432 with 1 Axes>"
      ]
     },
     "metadata": {},
     "output_type": "display_data"
    }
   ],
   "source": [
    "# создаем график воронки с помощью Seaborn и Matplotlib\n",
    "plt.figure(figsize=(10, 6))\n",
    "sns.set(style=\"whitegrid\")\n",
    "sns.barplot(x=user_funnel['total_users'], y=user_funnel['event'], palette=\"Set3\")\n",
    "\n",
    "for i, count in enumerate(user_funnel['percent']):\n",
    "    plt.annotate(count, (count, i), va='center', fontsize=12)\n",
    "    \n",
    "plt.xlabel('Количество')\n",
    "plt.ylabel('Этапы')\n",
    "plt.title('Воронка событий')\n",
    "plt.show()"
   ]
  },
  {
   "cell_type": "code",
   "execution_count": 51,
   "metadata": {},
   "outputs": [],
   "source": [
    "# График воронки с помощью Plotly\n",
    "\n",
    "#fig = go.Figure(go.Funnel(y = user_funnel['event'],\n",
    "#                          x = user_funnel['total_users'],\n",
    "#                          textposition = 'inside',\n",
    "#                          textinfo = 'value+percent initial'))\n",
    "#fig.update_layout(title='Воронка событий')\n",
    "#fig.update_layout(yaxis_title='События')\n",
    "#fig.show()"
   ]
  },
  {
   "cell_type": "markdown",
   "metadata": {},
   "source": [
    "Последовательность событий не поменялось. Tutorial снова на последнем месте."
   ]
  },
  {
   "cell_type": "markdown",
   "metadata": {},
   "source": [
    "### Посмотрим, в каком порядке происходят события. Все ли они выстраиваются в последовательную цепочку? Их не нужно учитывать при расчёте воронки.\n",
    "\n",
    "События происходят в следующем порядке:\n",
    "1. Главная страница\n",
    "2. Страница с предложениями (каталог)\n",
    "3. Корзина\n",
    "4. Успешная оплата \n",
    "5. Инструкция.\n",
    "\n",
    "Как уже отмечалось, Tutorial не на своем месте. Из общего числа всех событий, Tutorial занимает всего 1% событий. Если смотреть по соотношению пользователей, которые хоть раз совершили это событие, то это составляет 11%. Однако, если сравнивать с пользователями, которые видели страницу \"Успешной оплаты\", это соотношение очень низкое. Большинство пользователей пропускают Tutorial в приложениях, играх и т.д., полагаясь на то, что продукт не так уж и сложен в использовании. Однако, мы не можем утверждать это наверняка, так как у нас нет информации о том, как устроено приложение. Если рассматривать события без Tutorial, то все остальные шаги логичны."
   ]
  },
  {
   "cell_type": "markdown",
   "metadata": {},
   "source": [
    "### По воронке событий посчитаем, какая доля пользователей проходит на следующий шаг воронки (от числа пользователей на предыдущем). То есть для последовательности событий A → B → C посчитайте отношение числа пользователей с событием B к количеству пользователей с событием A, а также отношение числа пользователей с событием C к количеству пользователей с событием B.\n"
   ]
  },
  {
   "cell_type": "code",
   "execution_count": 25,
   "metadata": {},
   "outputs": [
    {
     "data": {
      "text/html": [
       "<div>\n",
       "<style scoped>\n",
       "    .dataframe tbody tr th:only-of-type {\n",
       "        vertical-align: middle;\n",
       "    }\n",
       "\n",
       "    .dataframe tbody tr th {\n",
       "        vertical-align: top;\n",
       "    }\n",
       "\n",
       "    .dataframe thead th {\n",
       "        text-align: right;\n",
       "    }\n",
       "</style>\n",
       "<table border=\"1\" class=\"dataframe\">\n",
       "  <thead>\n",
       "    <tr style=\"text-align: right;\">\n",
       "      <th></th>\n",
       "      <th>event</th>\n",
       "      <th>total_users</th>\n",
       "      <th>percent</th>\n",
       "      <th>conversion</th>\n",
       "    </tr>\n",
       "  </thead>\n",
       "  <tbody>\n",
       "    <tr>\n",
       "      <th>0</th>\n",
       "      <td>MainScreenAppear</td>\n",
       "      <td>7419</td>\n",
       "      <td>98.5</td>\n",
       "      <td>NaN</td>\n",
       "    </tr>\n",
       "    <tr>\n",
       "      <th>1</th>\n",
       "      <td>OffersScreenAppear</td>\n",
       "      <td>4593</td>\n",
       "      <td>61.0</td>\n",
       "      <td>61.9</td>\n",
       "    </tr>\n",
       "    <tr>\n",
       "      <th>2</th>\n",
       "      <td>CartScreenAppear</td>\n",
       "      <td>3734</td>\n",
       "      <td>49.6</td>\n",
       "      <td>81.3</td>\n",
       "    </tr>\n",
       "    <tr>\n",
       "      <th>3</th>\n",
       "      <td>PaymentScreenSuccessful</td>\n",
       "      <td>3539</td>\n",
       "      <td>47.0</td>\n",
       "      <td>94.8</td>\n",
       "    </tr>\n",
       "  </tbody>\n",
       "</table>\n",
       "</div>"
      ],
      "text/plain": [
       "                     event  total_users  percent  conversion\n",
       "0         MainScreenAppear         7419     98.5         NaN\n",
       "1       OffersScreenAppear         4593     61.0        61.9\n",
       "2         CartScreenAppear         3734     49.6        81.3\n",
       "3  PaymentScreenSuccessful         3539     47.0        94.8"
      ]
     },
     "execution_count": 25,
     "metadata": {},
     "output_type": "execute_result"
    }
   ],
   "source": [
    "funnel = log_upd.groupby('event')['user_id'].nunique()\\\n",
    ".sort_values(ascending=False).reset_index().rename(columns={'user_id': 'total_users'}) \n",
    "funnel['percent'] = round(funnel['total_users'] / log_upd['user_id'].nunique() * 100, 1)\n",
    "\n",
    "# добавляем столбец с долями пользователей, проходящих на следующий шаг\n",
    "funnel['conversion'] = round(funnel['total_users'] / funnel['total_users'].shift(1) * 100, 1)\n",
    "\n",
    "# уберем Tutorial из таблицы (можем не учитывать)\n",
    "funnel = funnel[funnel['event'] != 'Tutorial']\n",
    "funnel"
   ]
  },
  {
   "cell_type": "code",
   "execution_count": 52,
   "metadata": {},
   "outputs": [
    {
     "data": {
      "image/png": "[encoded data removed]",
      "text/plain": [
       "<Figure size 720x360 with 1 Axes>"
      ]
     },
     "metadata": {},
     "output_type": "display_data"
    }
   ],
   "source": [
    "# заполним пропуск, чтобы график был информативнее\n",
    "funnel.fillna(100, inplace=True)\n",
    "\n",
    "# создание графика\n",
    "funnel.plot(\n",
    "    x='event', y='conversion', kind='barh', grid=True, figsize=(10, 5)\n",
    ")\n",
    "plt.xlabel('Конверсия в шаг')\n",
    "plt.ylabel('События')\n",
    "plt.title('Приоритизация гипотез')\n",
    "plt.gca().invert_yaxis()\n",
    "plt.show()"
   ]
  },
  {
   "cell_type": "markdown",
   "metadata": {},
   "source": [
    "Видим, что примерно 40% пользователей не проходят дальше главной страницы. Затем, примерно 80% пользователей, которые просмотрели товары, открывают корзину. После этого, 95% пользователей, которые добавили товары в корзину, совершают покупку.\n",
    "\n",
    "Таким образом, примерно 47% пользователей от общего числа совершают покупки."
   ]
  },
  {
   "cell_type": "markdown",
   "metadata": {},
   "source": [
    "### На каком шаге теряем больше всего пользователей?\n",
    "\n",
    "На втором шаге теряем больше всего пользователей, около 40%. Это значительная потеря. Может быть стоит проанализировать главный экран приложения. Возможно, есть недочеты или интерфейс неудобен для использования, что сбивает пользователей с толку. Необходимо оптимизировать этот этап для улучшения пользовательского опыта. "
   ]
  },
  {
   "cell_type": "markdown",
   "metadata": {},
   "source": [
    "### Какая доля пользователей доходит от первого события до оплаты?\n",
    "\n",
    "От первого шага - Главный экран, до последнего - Успешная оплата, доходят 47% пользователей. 47% конверсия в покупку может считаться хорошей, но оценка \"хорошей\" или \"плохой\" конверсии зависит от контекста и отрасли."
   ]
  },
  {
   "cell_type": "markdown",
   "metadata": {},
   "source": [
    "## Изучение результатов эксперимента\n",
    "\n",
    "* Сколько пользователей в каждой экспериментальной группе?\n",
    "* Есть 2 контрольные группы для А/А-эксперимента, чтобы проверить корректность всех механизмов и расчётов. Проверить, находят ли статистические критерии разницу между выборками 246 и 247.\n",
    "* Выбрать самое популярное событие. Посчитать число пользователей, совершивших это событие в каждой из контрольных групп. \n",
    "* Аналогично с группой с изменённым шрифтом. Сравнить результаты с каждой из контрольных групп в отдельности по каждому событию. Сравнить результаты с объединённой контрольной группой. \n",
    "* Посчитать, сколько проверок статистических гипотез мы сделали. При уровне значимости 0.1 в 10% случаев можно ошибочно отклонить нулевую гипотезу при условии, что она верна. Какой уровень значимости стоит применить? "
   ]
  },
  {
   "cell_type": "markdown",
   "metadata": {},
   "source": [
    "### Сколько пользователей в каждой экспериментальной группе?"
   ]
  },
  {
   "cell_type": "code",
   "execution_count": 27,
   "metadata": {},
   "outputs": [
    {
     "data": {
      "text/html": [
       "<div>\n",
       "<style scoped>\n",
       "    .dataframe tbody tr th:only-of-type {\n",
       "        vertical-align: middle;\n",
       "    }\n",
       "\n",
       "    .dataframe tbody tr th {\n",
       "        vertical-align: top;\n",
       "    }\n",
       "\n",
       "    .dataframe thead th {\n",
       "        text-align: right;\n",
       "    }\n",
       "</style>\n",
       "<table border=\"1\" class=\"dataframe\">\n",
       "  <thead>\n",
       "    <tr style=\"text-align: right;\">\n",
       "      <th></th>\n",
       "      <th>group_id</th>\n",
       "      <th>user_id</th>\n",
       "    </tr>\n",
       "  </thead>\n",
       "  <tbody>\n",
       "    <tr>\n",
       "      <th>0</th>\n",
       "      <td>246</td>\n",
       "      <td>2484</td>\n",
       "    </tr>\n",
       "    <tr>\n",
       "      <th>1</th>\n",
       "      <td>247</td>\n",
       "      <td>2513</td>\n",
       "    </tr>\n",
       "    <tr>\n",
       "      <th>2</th>\n",
       "      <td>248</td>\n",
       "      <td>2537</td>\n",
       "    </tr>\n",
       "  </tbody>\n",
       "</table>\n",
       "</div>"
      ],
      "text/plain": [
       "   group_id  user_id\n",
       "0       246     2484\n",
       "1       247     2513\n",
       "2       248     2537"
      ]
     },
     "execution_count": 27,
     "metadata": {},
     "output_type": "execute_result"
    }
   ],
   "source": [
    "users = log_upd.groupby('group_id').agg({'user_id': 'nunique'}).reset_index()\n",
    "users"
   ]
  },
  {
   "cell_type": "markdown",
   "metadata": {},
   "source": [
    "Во всех группах примерно одинаковое число пользователей. "
   ]
  },
  {
   "cell_type": "markdown",
   "metadata": {},
   "source": [
    "Стоит проверить, чтобы каждый пользователь принадлежал только одной группе. "
   ]
  },
  {
   "cell_type": "code",
   "execution_count": 28,
   "metadata": {},
   "outputs": [
    {
     "name": "stdout",
     "output_type": "stream",
     "text": [
      "Каждый пользователь принадлежит только одной группе.\n"
     ]
    }
   ],
   "source": [
    "# группируем по user_id и подсчет уникальных group_id\n",
    "unique_user = log_upd.groupby('user_id')['group_id'].nunique()\n",
    "\n",
    "# проверим, принадлежит ли какой-либо пользователь более чем одной группе\n",
    "if unique_user.max() > 1:\n",
    "    print('Некоторые пользователи принадлежат более чем одной группе.')\n",
    "else:\n",
    "    print('Каждый пользователь принадлежит только одной группе.')"
   ]
  },
  {
   "cell_type": "markdown",
   "metadata": {},
   "source": [
    "### Есть 2 контрольные группы для А/А-эксперимента, чтобы проверить корректность всех механизмов и расчётов. Проверьте, находят ли статистические критерии разницу между выборками 246 и 247."
   ]
  },
  {
   "cell_type": "code",
   "execution_count": 29,
   "metadata": {},
   "outputs": [
    {
     "data": {
      "text/html": [
       "<div>\n",
       "<style scoped>\n",
       "    .dataframe tbody tr th:only-of-type {\n",
       "        vertical-align: middle;\n",
       "    }\n",
       "\n",
       "    .dataframe tbody tr th {\n",
       "        vertical-align: top;\n",
       "    }\n",
       "\n",
       "    .dataframe thead th {\n",
       "        text-align: right;\n",
       "    }\n",
       "</style>\n",
       "<table border=\"1\" class=\"dataframe\">\n",
       "  <thead>\n",
       "    <tr style=\"text-align: right;\">\n",
       "      <th>group_id</th>\n",
       "      <th>event</th>\n",
       "      <th>246</th>\n",
       "      <th>247</th>\n",
       "      <th>248</th>\n",
       "    </tr>\n",
       "  </thead>\n",
       "  <tbody>\n",
       "    <tr>\n",
       "      <th>1</th>\n",
       "      <td>MainScreenAppear</td>\n",
       "      <td>2450</td>\n",
       "      <td>2476</td>\n",
       "      <td>2493</td>\n",
       "    </tr>\n",
       "    <tr>\n",
       "      <th>2</th>\n",
       "      <td>OffersScreenAppear</td>\n",
       "      <td>1542</td>\n",
       "      <td>1520</td>\n",
       "      <td>1531</td>\n",
       "    </tr>\n",
       "    <tr>\n",
       "      <th>0</th>\n",
       "      <td>CartScreenAppear</td>\n",
       "      <td>1266</td>\n",
       "      <td>1238</td>\n",
       "      <td>1230</td>\n",
       "    </tr>\n",
       "    <tr>\n",
       "      <th>3</th>\n",
       "      <td>PaymentScreenSuccessful</td>\n",
       "      <td>1200</td>\n",
       "      <td>1158</td>\n",
       "      <td>1181</td>\n",
       "    </tr>\n",
       "  </tbody>\n",
       "</table>\n",
       "</div>"
      ],
      "text/plain": [
       "group_id                    event   246   247   248\n",
       "1                MainScreenAppear  2450  2476  2493\n",
       "2              OffersScreenAppear  1542  1520  1531\n",
       "0                CartScreenAppear  1266  1238  1230\n",
       "3         PaymentScreenSuccessful  1200  1158  1181"
      ]
     },
     "execution_count": 29,
     "metadata": {},
     "output_type": "execute_result"
    }
   ],
   "source": [
    "log_upd = log_upd[log_upd['event'] != 'Tutorial']\n",
    "\n",
    "aa = (log_upd.groupby(['event', 'group_id'])\n",
    "                .agg({'user_id': 'nunique'})\n",
    "                .reset_index()\n",
    "                .pivot(index='event', columns='group_id', values='user_id').reset_index()\n",
    "                .sort_values(by=[246, 247, 248], ascending=False))\n",
    "aa"
   ]
  },
  {
   "cell_type": "markdown",
   "metadata": {},
   "source": [
    "Для теста определим гипотезу: \n",
    "* Нулевая гипотеза (H0): Нет статистически значимых различий между средними значениями выборок.\n",
    "* Альтернативная гипотеза (H1): Существуют статистически значимые различия между средними значениями выборок."
   ]
  },
  {
   "cell_type": "code",
   "execution_count": 30,
   "metadata": {},
   "outputs": [],
   "source": [
    "# напишем функию z-тест о равенстве долей \n",
    "def z_test(df1, df2, event, alpha, n):\n",
    "\n",
    "    # критический уровень статистической значимости c поправкой Бонферрони\n",
    "    bonferroni_alpha = alpha / n\n",
    " \n",
    "    # число пользователей в группе 1 и группе 2:\n",
    "    n_users = np.array([df1['user_id'].nunique(), \n",
    "                        df2['user_id'].nunique()])\n",
    "\n",
    "    # число пользователей, совершивших событие в группе 1 и группе 2\n",
    "    success = np.array([df1[df1['event'] == event]['user_id'].nunique(), \n",
    "                        df2[df2['event'] == event]['user_id'].nunique()])\n",
    "\n",
    "    # пропорции успехов в группах:\n",
    "    p1 = success[0]/n_users[0]\n",
    "    p2 = success[1]/n_users[1]\n",
    "    \n",
    "    # пропорция успехов в комбинированном датасете:\n",
    "    p_combined = (success[0] + success[1]) / (n_users[0] + n_users[1])\n",
    "\n",
    "    # разница пропорций в датасетах\n",
    "    difference = p1 - p2 \n",
    "\n",
    "    # считаем статистику в ст.отклонениях стандартного нормального распределения\n",
    "    z_value = difference /  np.sqrt(p_combined * (1 - p_combined) * (1/n_users[0] + 1/n_users[1]))\n",
    "\n",
    "    # задаем стандартное нормальное распределение (среднее 0, ст.отклонение 1)\n",
    "    distr = st.norm(0, 1)  \n",
    "\n",
    "    p_value = (1 - distr.cdf(abs(z_value))) * 2   \n",
    "    \n",
    "    print('Событие:', event)\n",
    "    print('p-значение: ', p_value)\n",
    "\n",
    "    if p_value < bonferroni_alpha:\n",
    "        print('Отвергаем нулевую гипотезу: между долями есть разница')\n",
    "    else:\n",
    "        print(\n",
    "        'Не получилось отвергнуть нулевую гипотезу, нет оснований считать доли разными')"
   ]
  },
  {
   "cell_type": "markdown",
   "metadata": {},
   "source": [
    "Когда мы проводим несколько статистических тестов одновременно, есть вероятность получить ложно положительные результаты (ошибки первого рода). Чтобы уменьшить эту вероятность, мы можем применить поправку Бонферрони. \n",
    "\n",
    "Поправка Бонферрони заключается в том, что мы делим уровень значимости (alpha) на количество статистических тестов, которые мы выполняем. В данном случае у нас 4 типа событий (Tutorial исключили) и 16 A/A/B тестов. \n",
    "\n",
    "Таким образом, для каждого теста мы используем bonferroni_alpha = alpha / 4 (для A/A тестов) или bonferroni_alpha = alpha / 12 (для A/B тестов). Это позволяет нам установить более строгий критерий для отвержения нулевой гипотезы и уменьшить вероятность получения ложно положительных результатов."
   ]
  },
  {
   "cell_type": "code",
   "execution_count": 31,
   "metadata": {},
   "outputs": [
    {
     "name": "stdout",
     "output_type": "stream",
     "text": [
      "Событие: MainScreenAppear\n",
      "p-значение:  0.7526703436483038\n",
      "Не получилось отвергнуть нулевую гипотезу, нет оснований считать доли разными\n",
      "\n",
      "Событие: OffersScreenAppear\n",
      "p-значение:  0.24786096925282264\n",
      "Не получилось отвергнуть нулевую гипотезу, нет оснований считать доли разными\n",
      "\n",
      "Событие: CartScreenAppear\n",
      "p-значение:  0.22867643757335676\n",
      "Не получилось отвергнуть нулевую гипотезу, нет оснований считать доли разными\n",
      "\n",
      "Событие: PaymentScreenSuccessful\n",
      "p-значение:  0.11446627829276612\n",
      "Не получилось отвергнуть нулевую гипотезу, нет оснований считать доли разными\n",
      "\n"
     ]
    }
   ],
   "source": [
    "# проверим, есть ли статистически значимая разница между контрольными группами 246 и 247:\n",
    "for event in aa['event'].unique():\n",
    "    z_test(log_upd[log_upd['group_id'] == 246], log_upd[log_upd['group_id'] == 247], event, .05, 16)\n",
    "    print()"
   ]
  },
  {
   "cell_type": "markdown",
   "metadata": {},
   "source": [
    "Разницы между двумя контрольными группами не наблюдается. Стоит отметить, что в первом случае (Главный экран) р-значение чуть выше 7%.\n",
    "\n",
    "Когда мы проводим z-тест, мы сравниваем две выборки или группы, чтобы определить, есть ли статистически значимая разница между ними. Нулевая гипотеза в z-тесте гласит, что нет разницы между группами.\n",
    "\n",
    "Если мы не отвергаем нулевую гипотезу при значимости 0,05, это означает, что мы не имеем достаточных доказательств для того, чтобы утверждать, что существует статистически значимая разница между группами. Вероятность получить такие или большие различия между группами случайно составляет 7.3%, что выше уровня значимости 5%. \n",
    "\n",
    "Таким образом, оснований считать доли разными недостаточно, и мы не можем сделать вывод о статистически значимой разнице между группами."
   ]
  },
  {
   "cell_type": "markdown",
   "metadata": {},
   "source": [
    "### Выбрать самое популярное событие. Посчитать число пользователей, совершивших это событие в каждой из контрольных групп. \n",
    "Посчитайте долю пользователей, совершивших это событие. Проверьте, будет ли отличие между группами статистически достоверным. Проделайте то же самое для всех других событий (удобно обернуть проверку в отдельную функцию). Можно ли сказать, что разбиение на группы работает корректно?"
   ]
  },
  {
   "cell_type": "code",
   "execution_count": 55,
   "metadata": {},
   "outputs": [
    {
     "data": {
      "text/html": [
       "<div>\n",
       "<style scoped>\n",
       "    .dataframe tbody tr th:only-of-type {\n",
       "        vertical-align: middle;\n",
       "    }\n",
       "\n",
       "    .dataframe tbody tr th {\n",
       "        vertical-align: top;\n",
       "    }\n",
       "\n",
       "    .dataframe thead th {\n",
       "        text-align: right;\n",
       "    }\n",
       "</style>\n",
       "<table border=\"1\" class=\"dataframe\">\n",
       "  <thead>\n",
       "    <tr style=\"text-align: right;\">\n",
       "      <th></th>\n",
       "      <th>event</th>\n",
       "      <th>total_users</th>\n",
       "      <th>percent</th>\n",
       "    </tr>\n",
       "  </thead>\n",
       "  <tbody>\n",
       "    <tr>\n",
       "      <th>0</th>\n",
       "      <td>MainScreenAppear</td>\n",
       "      <td>7419</td>\n",
       "      <td>98.5</td>\n",
       "    </tr>\n",
       "    <tr>\n",
       "      <th>1</th>\n",
       "      <td>OffersScreenAppear</td>\n",
       "      <td>4593</td>\n",
       "      <td>61.0</td>\n",
       "    </tr>\n",
       "    <tr>\n",
       "      <th>2</th>\n",
       "      <td>CartScreenAppear</td>\n",
       "      <td>3734</td>\n",
       "      <td>49.6</td>\n",
       "    </tr>\n",
       "    <tr>\n",
       "      <th>3</th>\n",
       "      <td>PaymentScreenSuccessful</td>\n",
       "      <td>3539</td>\n",
       "      <td>47.0</td>\n",
       "    </tr>\n",
       "    <tr>\n",
       "      <th>4</th>\n",
       "      <td>Tutorial</td>\n",
       "      <td>840</td>\n",
       "      <td>11.1</td>\n",
       "    </tr>\n",
       "  </tbody>\n",
       "</table>\n",
       "</div>"
      ],
      "text/plain": [
       "                     event  total_users  percent\n",
       "0         MainScreenAppear         7419     98.5\n",
       "1       OffersScreenAppear         4593     61.0\n",
       "2         CartScreenAppear         3734     49.6\n",
       "3  PaymentScreenSuccessful         3539     47.0\n",
       "4                 Tutorial          840     11.1"
      ]
     },
     "execution_count": 55,
     "metadata": {},
     "output_type": "execute_result"
    }
   ],
   "source": [
    "user_funnel"
   ]
  },
  {
   "cell_type": "markdown",
   "metadata": {},
   "source": [
    "### Аналогично поступите с группой с изменённым шрифтом. Сравните результаты с каждой из контрольных групп в отдельности по каждому событию. Сравните результаты с объединённой контрольной группой. Какие выводы из эксперимента можно сделать?"
   ]
  },
  {
   "cell_type": "markdown",
   "metadata": {},
   "source": [
    "Самое популярное событие это MainScreenAppear. Практически все пользователи (98%) из всех групп выполняли это действие.  \n",
    "\n",
    "Напомним гипотезу: \n",
    "* Нулевая гипотеза (H0): Нет статистически значимых различий между средними значениями выборок.\n",
    "* Альтернативная гипотеза (H1): Существуют статистически значимые различия между средними значениями выборок."
   ]
  },
  {
   "cell_type": "code",
   "execution_count": 33,
   "metadata": {},
   "outputs": [
    {
     "name": "stdout",
     "output_type": "stream",
     "text": [
      "Событие: MainScreenAppear\n",
      "p-значение:  0.3387114076159288\n",
      "Не получилось отвергнуть нулевую гипотезу, нет оснований считать доли разными\n",
      "\n",
      "Событие: OffersScreenAppear\n",
      "p-значение:  0.21442476639710506\n",
      "Не получилось отвергнуть нулевую гипотезу, нет оснований считать доли разными\n",
      "\n",
      "Событие: CartScreenAppear\n",
      "p-значение:  0.08067367598823139\n",
      "Не получилось отвергнуть нулевую гипотезу, нет оснований считать доли разными\n",
      "\n",
      "Событие: PaymentScreenSuccessful\n",
      "p-значение:  0.21693033984516674\n",
      "Не получилось отвергнуть нулевую гипотезу, нет оснований считать доли разными\n",
      "\n"
     ]
    }
   ],
   "source": [
    "# проверим, есть ли статистически значимая разница между контрольной группой 246 и экпериментально 248:\n",
    "for event in aa['event'].unique():\n",
    "    z_test(log_upd[log_upd['group_id'] == 246], log_upd[log_upd['group_id'] == 248], event, .05, 16)\n",
    "    print()"
   ]
  },
  {
   "cell_type": "markdown",
   "metadata": {},
   "source": [
    "На основе проведенного анализа, мы выяснили, что нет статистически значимых различий в долях пользователей, совершивших различные события в каждой из контрольных групп. Это означает, что все события имеют примерно одинаковую популярность среди пользователей."
   ]
  },
  {
   "cell_type": "code",
   "execution_count": 34,
   "metadata": {},
   "outputs": [
    {
     "name": "stdout",
     "output_type": "stream",
     "text": [
      "Событие: MainScreenAppear\n",
      "p-значение:  0.5194964354051703\n",
      "Не получилось отвергнуть нулевую гипотезу, нет оснований считать доли разными\n",
      "\n",
      "Событие: OffersScreenAppear\n",
      "p-значение:  0.9333751305879443\n",
      "Не получилось отвергнуть нулевую гипотезу, нет оснований считать доли разными\n",
      "\n",
      "Событие: CartScreenAppear\n",
      "p-значение:  0.5878284605111943\n",
      "Не получилось отвергнуть нулевую гипотезу, нет оснований считать доли разными\n",
      "\n",
      "Событие: PaymentScreenSuccessful\n",
      "p-значение:  0.7275718682261119\n",
      "Не получилось отвергнуть нулевую гипотезу, нет оснований считать доли разными\n",
      "\n"
     ]
    }
   ],
   "source": [
    "# проверим, есть ли статистически значимая разница между контрольной группой 247 и экспериментально 248:\n",
    "for event in aa['event'].unique():\n",
    "    z_test(log_upd[log_upd['group_id'] == 247], log_upd[log_upd['group_id'] == 248], event, .05, 16)\n",
    "    print()"
   ]
  },
  {
   "cell_type": "markdown",
   "metadata": {},
   "source": [
    "Во всех событиях - MainScreenAppear, OffersScreenAppear, CartScreenAppear, PaymentScreenSuccessful - не получилось отвергнуть нулевую гипотезу при уровне значимости 0.05. Это означает, что нет достаточных оснований считать доли пользователей, совершивших эти события, разными в контрольных группах."
   ]
  },
  {
   "cell_type": "code",
   "execution_count": 35,
   "metadata": {},
   "outputs": [
    {
     "name": "stdout",
     "output_type": "stream",
     "text": [
      "Событие: MainScreenAppear\n",
      "p-значение:  0.3486684291093256\n",
      "Не получилось отвергнуть нулевую гипотезу, нет оснований считать доли разными\n",
      "\n",
      "Событие: OffersScreenAppear\n",
      "p-значение:  0.44582745409482394\n",
      "Не получилось отвергнуть нулевую гипотезу, нет оснований считать доли разными\n",
      "\n",
      "Событие: CartScreenAppear\n",
      "p-значение:  0.18683558686831558\n",
      "Не получилось отвергнуть нулевую гипотезу, нет оснований считать доли разными\n",
      "\n",
      "Событие: PaymentScreenSuccessful\n",
      "p-значение:  0.6107918742187335\n",
      "Не получилось отвергнуть нулевую гипотезу, нет оснований считать доли разными\n",
      "\n"
     ]
    }
   ],
   "source": [
    "# проверим, есть ли статистически значимая разница между объединенными контрольными группами 246+247 и 248:\n",
    "for event in aa['event'].unique():\n",
    "    z_test(log_upd[log_upd['group_id'] != 248], log_upd[log_upd['group_id'] == 248], event, .05, 16)\n",
    "    print()"
   ]
  },
  {
   "cell_type": "markdown",
   "metadata": {},
   "source": [
    "При уровне значимости 0.05 не удалось отвергнуть нулевую гипотезу для всех событий: MainScreenAppear, OffersScreenAppear, CartScreenAppear и PaymentScreenSuccessful. Это означает, что нет статистически значимых различий в долях пользователей, выполнивших эти события."
   ]
  },
  {
   "cell_type": "markdown",
   "metadata": {},
   "source": [
    "### Какой уровень значимости вы выбрали при проверке статистических гипотез выше? Посчитайте, сколько проверок статистических гипотез вы сделали. При уровне значимости 0.1 в 10% случаев можно ошибочно отклонить нулевую гипотезу при условии, что она верна. Какой уровень значимости стоит применить? "
   ]
  },
  {
   "cell_type": "markdown",
   "metadata": {},
   "source": [
    "Мы выбрали уровень значимости 0.05.Однако следует отметить, что выбор уровня значимости 0.1 должен быть обоснован и основан на конкретных целях исследования. В некоторых случаях, особенно если исследование имеет важные последствия или требует высокой степени достоверности, более строгий уровень значимости, такой как 0.05 или 0.01, может быть предпочтительным.\n",
    "\n",
    "Уровень значимости 0.1 может быть выбран в случаях, когда исследователи хотят быть менее строгими в отношении отклонения нулевой гипотезы. В контексте исследования мобильного приложения, это может означать, что мы можем считать результаты статистически значимыми, даже если есть некоторая вероятность ошибки первого рода (отклонения нулевой гипотезы, когда она верна).\n",
    "\n",
    "Например, если исследователи хотят проверить, есть ли статистически значимая разница в конверсии пользователей на разных этапах взаимодействия с приложением (например, открытие главного экрана, появление предложений, добавление в корзину, успешная оплата), они могут выбрать уровень значимости 0.1, чтобы быть более гибкими в определении статистической значимости различий.\n"
   ]
  },
  {
   "cell_type": "markdown",
   "metadata": {},
   "source": [
    "# Вывод"
   ]
  },
  {
   "cell_type": "markdown",
   "metadata": {},
   "source": [
    "Мы провели исследование поведения пользователей мобильного в течении одной недели. Выполнили следующие действия:\n",
    "* загрузили данные\n",
    "* привели названия столбцов к единому стилю, для удобного анализа\n",
    "* стоблцы с датами привели к формату datetimе\n",
    "* избавились от дубликатов\n",
    "\n",
    "Изучили воронку событий:\n",
    "1. Главная страница\n",
    "2. Страница с предложениями (каталог)\n",
    "3. Корзина\n",
    "4. Успешная оплата\n",
    "\n",
    "Именно в такой последовательности выполнялись все действия пользвоателей. Выяснили, что на 2 шаге теряем больше всего пользователей ~ 40%. А от первого шага - Главный экран, до последнего - Умпешная оплата, доходят 47% пользователей. \n",
    "\n",
    "Провели А1/А2 ,  А1/В, А2/В и А1А2/В тесты. По итогам всех тестов, и ни один тест не смог отвергнуть нулевую гипотезу (Нулевая гипотеза (H0): Нет статистически значимых различий между средними значениями выборок). \n",
    "Из этого можно сделать следующие выводы:\n",
    "* Наши изменения в мобильном приложении, проведенные в рамках тестов, не оказывают статистически значимого влияния на поведение пользователей.\n",
    "* Возможно, нужно провести более глубокий анализ и исследование, чтобы выяснить, почему проведенные изменения не привели к статистически значимым различиям в поведении пользователей."
   ]
  }
 ],
 "metadata": {
  "ExecuteTimeLog": [
   {
    "duration": 1279,
    "start_time": "2024-01-16T08:36:28.089Z"
   },
   {
    "duration": 3,
    "start_time": "2024-01-16T08:38:07.725Z"
   },
   {
    "duration": 80,
    "start_time": "2024-01-16T08:39:56.305Z"
   },
   {
    "duration": 90,
    "start_time": "2024-01-16T08:40:07.904Z"
   },
   {
    "duration": 592,
    "start_time": "2024-01-16T08:40:20.335Z"
   },
   {
    "duration": 174,
    "start_time": "2024-01-16T08:40:39.799Z"
   },
   {
    "duration": 3,
    "start_time": "2024-01-16T08:41:22.944Z"
   },
   {
    "duration": 173,
    "start_time": "2024-01-16T08:41:23.389Z"
   },
   {
    "duration": 3,
    "start_time": "2024-01-16T08:41:35.284Z"
   },
   {
    "duration": 174,
    "start_time": "2024-01-16T08:41:35.730Z"
   },
   {
    "duration": 28,
    "start_time": "2024-01-16T08:42:36.290Z"
   },
   {
    "duration": 27,
    "start_time": "2024-01-16T08:42:41.200Z"
   },
   {
    "duration": 55,
    "start_time": "2024-01-16T08:42:47.581Z"
   },
   {
    "duration": 168,
    "start_time": "2024-01-16T08:43:02.927Z"
   },
   {
    "duration": 51,
    "start_time": "2024-01-16T08:43:13.676Z"
   },
   {
    "duration": 202,
    "start_time": "2024-01-16T08:43:46.359Z"
   },
   {
    "duration": 190,
    "start_time": "2024-01-16T08:44:00.817Z"
   },
   {
    "duration": 190,
    "start_time": "2024-01-16T08:44:08.112Z"
   },
   {
    "duration": 48,
    "start_time": "2024-01-16T08:45:20.679Z"
   },
   {
    "duration": 20,
    "start_time": "2024-01-16T08:45:54.512Z"
   },
   {
    "duration": 11,
    "start_time": "2024-01-16T08:52:42.873Z"
   },
   {
    "duration": 49,
    "start_time": "2024-01-16T08:52:55.097Z"
   },
   {
    "duration": 8,
    "start_time": "2024-01-16T08:55:30.930Z"
   },
   {
    "duration": 27,
    "start_time": "2024-01-16T08:55:38.543Z"
   },
   {
    "duration": 3,
    "start_time": "2024-01-16T09:01:56.518Z"
   },
   {
    "duration": 12,
    "start_time": "2024-01-16T09:05:57.193Z"
   },
   {
    "duration": 5,
    "start_time": "2024-01-16T09:06:33.175Z"
   },
   {
    "duration": 8,
    "start_time": "2024-01-16T09:09:24.818Z"
   },
   {
    "duration": 25,
    "start_time": "2024-01-16T09:09:30.322Z"
   },
   {
    "duration": 39,
    "start_time": "2024-01-16T09:09:39.132Z"
   },
   {
    "duration": 21,
    "start_time": "2024-01-16T09:09:43.860Z"
   },
   {
    "duration": 8,
    "start_time": "2024-01-16T09:10:58.882Z"
   },
   {
    "duration": 5,
    "start_time": "2024-01-16T09:12:14.125Z"
   },
   {
    "duration": 1793,
    "start_time": "2024-01-16T09:12:22.217Z"
   },
   {
    "duration": 1230,
    "start_time": "2024-01-16T09:12:28.440Z"
   },
   {
    "duration": 4,
    "start_time": "2024-01-16T09:12:36.849Z"
   },
   {
    "duration": 1178,
    "start_time": "2024-01-16T09:12:39.211Z"
   },
   {
    "duration": 17,
    "start_time": "2024-01-16T09:12:51.217Z"
   },
   {
    "duration": 5,
    "start_time": "2024-01-16T09:13:00.607Z"
   },
   {
    "duration": 1332,
    "start_time": "2024-01-16T09:13:08.592Z"
   },
   {
    "duration": 1078,
    "start_time": "2024-01-16T09:13:15.183Z"
   },
   {
    "duration": 197,
    "start_time": "2024-01-16T09:13:16.263Z"
   },
   {
    "duration": 61,
    "start_time": "2024-01-16T09:13:16.461Z"
   },
   {
    "duration": 21,
    "start_time": "2024-01-16T09:13:16.524Z"
   },
   {
    "duration": 21,
    "start_time": "2024-01-16T09:13:16.546Z"
   },
   {
    "duration": 23,
    "start_time": "2024-01-16T09:13:16.569Z"
   },
   {
    "duration": 28,
    "start_time": "2024-01-16T09:13:16.593Z"
   },
   {
    "duration": 22,
    "start_time": "2024-01-16T09:13:25.112Z"
   },
   {
    "duration": 6,
    "start_time": "2024-01-16T09:13:59.439Z"
   },
   {
    "duration": 84,
    "start_time": "2024-01-16T09:15:08.245Z"
   },
   {
    "duration": 5,
    "start_time": "2024-01-16T09:15:29.594Z"
   },
   {
    "duration": 21,
    "start_time": "2024-01-16T09:15:30.420Z"
   },
   {
    "duration": 22,
    "start_time": "2024-01-16T09:15:30.724Z"
   },
   {
    "duration": 69,
    "start_time": "2024-01-16T09:15:31.211Z"
   },
   {
    "duration": 1144,
    "start_time": "2024-01-16T09:19:28.719Z"
   },
   {
    "duration": 196,
    "start_time": "2024-01-16T09:19:29.865Z"
   },
   {
    "duration": 60,
    "start_time": "2024-01-16T09:19:30.064Z"
   },
   {
    "duration": 20,
    "start_time": "2024-01-16T09:19:30.126Z"
   },
   {
    "duration": 35,
    "start_time": "2024-01-16T09:19:30.149Z"
   },
   {
    "duration": 55,
    "start_time": "2024-01-16T09:19:30.185Z"
   },
   {
    "duration": 29,
    "start_time": "2024-01-16T09:19:30.242Z"
   },
   {
    "duration": 119,
    "start_time": "2024-01-16T09:19:30.272Z"
   },
   {
    "duration": 77,
    "start_time": "2024-01-16T09:22:05.821Z"
   },
   {
    "duration": 68,
    "start_time": "2024-01-16T09:23:12.246Z"
   },
   {
    "duration": 12,
    "start_time": "2024-01-16T09:24:35.759Z"
   },
   {
    "duration": 24,
    "start_time": "2024-01-16T09:24:39.493Z"
   },
   {
    "duration": 26,
    "start_time": "2024-01-16T09:26:08.239Z"
   },
   {
    "duration": 12,
    "start_time": "2024-01-16T09:26:13.980Z"
   },
   {
    "duration": 14,
    "start_time": "2024-01-16T09:26:50.096Z"
   },
   {
    "duration": 32,
    "start_time": "2024-01-16T09:27:08.839Z"
   },
   {
    "duration": 17,
    "start_time": "2024-01-16T09:27:11.617Z"
   },
   {
    "duration": 14,
    "start_time": "2024-01-16T09:27:15.164Z"
   },
   {
    "duration": 12,
    "start_time": "2024-01-16T09:30:33.733Z"
   },
   {
    "duration": 1345,
    "start_time": "2024-01-16T09:32:17.700Z"
   },
   {
    "duration": 1170,
    "start_time": "2024-01-16T09:32:28.601Z"
   },
   {
    "duration": 199,
    "start_time": "2024-01-16T09:32:29.773Z"
   },
   {
    "duration": 65,
    "start_time": "2024-01-16T09:32:29.974Z"
   },
   {
    "duration": 6,
    "start_time": "2024-01-16T09:32:30.041Z"
   },
   {
    "duration": 18,
    "start_time": "2024-01-16T09:32:30.066Z"
   },
   {
    "duration": 62,
    "start_time": "2024-01-16T09:32:30.085Z"
   },
   {
    "duration": 40,
    "start_time": "2024-01-16T09:32:30.149Z"
   },
   {
    "duration": 120,
    "start_time": "2024-01-16T09:32:30.191Z"
   },
   {
    "duration": 12,
    "start_time": "2024-01-16T09:32:30.313Z"
   },
   {
    "duration": 45,
    "start_time": "2024-01-16T09:32:30.327Z"
   },
   {
    "duration": 28,
    "start_time": "2024-01-16T09:32:30.373Z"
   },
   {
    "duration": 98,
    "start_time": "2024-01-16T09:34:20.760Z"
   },
   {
    "duration": 18,
    "start_time": "2024-01-16T09:34:29.875Z"
   },
   {
    "duration": 22,
    "start_time": "2024-01-16T09:34:54.721Z"
   },
   {
    "duration": 19,
    "start_time": "2024-01-16T09:34:59.654Z"
   },
   {
    "duration": 1853,
    "start_time": "2024-01-16T09:35:51.060Z"
   },
   {
    "duration": 32,
    "start_time": "2024-01-16T09:35:59.493Z"
   },
   {
    "duration": 29,
    "start_time": "2024-01-16T09:36:08.801Z"
   },
   {
    "duration": 34,
    "start_time": "2024-01-16T09:36:15.790Z"
   },
   {
    "duration": 8,
    "start_time": "2024-01-16T09:36:58.176Z"
   },
   {
    "duration": 3,
    "start_time": "2024-01-16T09:37:04.043Z"
   },
   {
    "duration": 9,
    "start_time": "2024-01-16T09:40:35.659Z"
   },
   {
    "duration": 6,
    "start_time": "2024-01-16T09:40:38.974Z"
   },
   {
    "duration": 6,
    "start_time": "2024-01-16T09:40:42.960Z"
   },
   {
    "duration": 5,
    "start_time": "2024-01-16T09:40:50.358Z"
   },
   {
    "duration": 4,
    "start_time": "2024-01-16T09:42:08.920Z"
   },
   {
    "duration": 5,
    "start_time": "2024-01-16T09:42:18.082Z"
   },
   {
    "duration": 13,
    "start_time": "2024-01-16T09:42:38.696Z"
   },
   {
    "duration": 11,
    "start_time": "2024-01-16T09:44:07.342Z"
   },
   {
    "duration": 22,
    "start_time": "2024-01-16T09:44:11.848Z"
   },
   {
    "duration": 20,
    "start_time": "2024-01-16T09:44:32.384Z"
   },
   {
    "duration": 26,
    "start_time": "2024-01-16T09:44:35.597Z"
   },
   {
    "duration": 19,
    "start_time": "2024-01-16T09:45:38.233Z"
   },
   {
    "duration": 21,
    "start_time": "2024-01-16T09:45:46.892Z"
   },
   {
    "duration": 1070,
    "start_time": "2024-01-16T09:48:55.393Z"
   },
   {
    "duration": 196,
    "start_time": "2024-01-16T09:48:56.464Z"
   },
   {
    "duration": 68,
    "start_time": "2024-01-16T09:48:56.661Z"
   },
   {
    "duration": 6,
    "start_time": "2024-01-16T09:48:56.731Z"
   },
   {
    "duration": 26,
    "start_time": "2024-01-16T09:48:56.739Z"
   },
   {
    "duration": 25,
    "start_time": "2024-01-16T09:48:56.767Z"
   },
   {
    "duration": 27,
    "start_time": "2024-01-16T09:48:56.793Z"
   },
   {
    "duration": 105,
    "start_time": "2024-01-16T09:48:56.821Z"
   },
   {
    "duration": 10,
    "start_time": "2024-01-16T09:48:56.927Z"
   },
   {
    "duration": 28,
    "start_time": "2024-01-16T09:48:56.939Z"
   },
   {
    "duration": 32,
    "start_time": "2024-01-16T09:48:56.968Z"
   },
   {
    "duration": 12,
    "start_time": "2024-01-16T09:48:57.002Z"
   },
   {
    "duration": 7,
    "start_time": "2024-01-16T09:48:57.015Z"
   },
   {
    "duration": 42,
    "start_time": "2024-01-16T09:48:57.023Z"
   },
   {
    "duration": 99,
    "start_time": "2024-01-16T09:51:00.269Z"
   },
   {
    "duration": 9,
    "start_time": "2024-01-16T09:51:12.590Z"
   },
   {
    "duration": 5,
    "start_time": "2024-01-16T09:52:32.141Z"
   },
   {
    "duration": 8,
    "start_time": "2024-01-16T09:54:12.554Z"
   },
   {
    "duration": 5,
    "start_time": "2024-01-16T09:54:24.555Z"
   },
   {
    "duration": 3,
    "start_time": "2024-01-16T09:55:10.487Z"
   },
   {
    "duration": 1169,
    "start_time": "2024-01-16T09:57:30.131Z"
   },
   {
    "duration": 204,
    "start_time": "2024-01-16T09:57:31.302Z"
   },
   {
    "duration": 75,
    "start_time": "2024-01-16T09:57:31.507Z"
   },
   {
    "duration": 5,
    "start_time": "2024-01-16T09:57:31.584Z"
   },
   {
    "duration": 56,
    "start_time": "2024-01-16T09:57:31.591Z"
   },
   {
    "duration": 59,
    "start_time": "2024-01-16T09:57:31.649Z"
   },
   {
    "duration": 56,
    "start_time": "2024-01-16T09:57:31.710Z"
   },
   {
    "duration": 138,
    "start_time": "2024-01-16T09:57:31.768Z"
   },
   {
    "duration": 11,
    "start_time": "2024-01-16T09:57:31.908Z"
   },
   {
    "duration": 37,
    "start_time": "2024-01-16T09:57:31.920Z"
   },
   {
    "duration": 39,
    "start_time": "2024-01-16T09:57:31.959Z"
   },
   {
    "duration": 14,
    "start_time": "2024-01-16T09:57:32.000Z"
   },
   {
    "duration": 39,
    "start_time": "2024-01-16T09:57:32.015Z"
   },
   {
    "duration": 30,
    "start_time": "2024-01-16T09:57:32.057Z"
   },
   {
    "duration": 8,
    "start_time": "2024-01-16T09:57:32.091Z"
   },
   {
    "duration": 18,
    "start_time": "2024-01-16T09:57:32.101Z"
   },
   {
    "duration": 1122,
    "start_time": "2024-01-16T09:58:22.016Z"
   },
   {
    "duration": 201,
    "start_time": "2024-01-16T09:58:23.140Z"
   },
   {
    "duration": 71,
    "start_time": "2024-01-16T09:58:23.343Z"
   },
   {
    "duration": 6,
    "start_time": "2024-01-16T09:58:23.416Z"
   },
   {
    "duration": 7,
    "start_time": "2024-01-16T09:58:23.425Z"
   },
   {
    "duration": 42,
    "start_time": "2024-01-16T09:58:23.434Z"
   },
   {
    "duration": 26,
    "start_time": "2024-01-16T09:58:23.477Z"
   },
   {
    "duration": 104,
    "start_time": "2024-01-16T09:58:23.504Z"
   },
   {
    "duration": 11,
    "start_time": "2024-01-16T09:58:23.609Z"
   },
   {
    "duration": 17,
    "start_time": "2024-01-16T09:58:23.621Z"
   },
   {
    "duration": 45,
    "start_time": "2024-01-16T09:58:23.640Z"
   },
   {
    "duration": 13,
    "start_time": "2024-01-16T09:58:23.686Z"
   },
   {
    "duration": 5,
    "start_time": "2024-01-16T09:58:23.701Z"
   },
   {
    "duration": 19,
    "start_time": "2024-01-16T09:58:23.709Z"
   },
   {
    "duration": 6,
    "start_time": "2024-01-16T09:58:23.729Z"
   },
   {
    "duration": 3,
    "start_time": "2024-01-16T09:58:23.766Z"
   },
   {
    "duration": 1177,
    "start_time": "2024-01-16T10:00:37.093Z"
   },
   {
    "duration": 201,
    "start_time": "2024-01-16T10:00:38.272Z"
   },
   {
    "duration": 65,
    "start_time": "2024-01-16T10:00:38.475Z"
   },
   {
    "duration": 5,
    "start_time": "2024-01-16T10:00:38.542Z"
   },
   {
    "duration": 23,
    "start_time": "2024-01-16T10:00:38.549Z"
   },
   {
    "duration": 28,
    "start_time": "2024-01-16T10:00:38.574Z"
   },
   {
    "duration": 28,
    "start_time": "2024-01-16T10:00:38.604Z"
   },
   {
    "duration": 136,
    "start_time": "2024-01-16T10:00:38.634Z"
   },
   {
    "duration": 10,
    "start_time": "2024-01-16T10:00:38.772Z"
   },
   {
    "duration": 22,
    "start_time": "2024-01-16T10:00:38.784Z"
   },
   {
    "duration": 61,
    "start_time": "2024-01-16T10:00:38.808Z"
   },
   {
    "duration": 13,
    "start_time": "2024-01-16T10:00:38.871Z"
   },
   {
    "duration": 7,
    "start_time": "2024-01-16T10:00:38.885Z"
   },
   {
    "duration": 31,
    "start_time": "2024-01-16T10:00:38.895Z"
   },
   {
    "duration": 7,
    "start_time": "2024-01-16T10:00:38.928Z"
   },
   {
    "duration": 39,
    "start_time": "2024-01-16T10:00:38.936Z"
   },
   {
    "duration": 88,
    "start_time": "2024-01-16T10:00:38.977Z"
   },
   {
    "duration": 78,
    "start_time": "2024-01-16T10:01:09.252Z"
   },
   {
    "duration": 94,
    "start_time": "2024-01-16T10:01:16.979Z"
   },
   {
    "duration": 94,
    "start_time": "2024-01-16T10:02:09.709Z"
   },
   {
    "duration": 103,
    "start_time": "2024-01-16T10:02:16.508Z"
   },
   {
    "duration": 4,
    "start_time": "2024-01-16T10:02:24.528Z"
   },
   {
    "duration": 10,
    "start_time": "2024-01-16T10:02:43.678Z"
   },
   {
    "duration": 11,
    "start_time": "2024-01-16T10:04:52.361Z"
   },
   {
    "duration": 28,
    "start_time": "2024-01-16T10:05:08.580Z"
   },
   {
    "duration": 1129,
    "start_time": "2024-01-16T10:08:24.533Z"
   },
   {
    "duration": 212,
    "start_time": "2024-01-16T10:08:25.664Z"
   },
   {
    "duration": 59,
    "start_time": "2024-01-16T10:08:25.877Z"
   },
   {
    "duration": 6,
    "start_time": "2024-01-16T10:08:25.937Z"
   },
   {
    "duration": 20,
    "start_time": "2024-01-16T10:08:25.951Z"
   },
   {
    "duration": 23,
    "start_time": "2024-01-16T10:08:25.972Z"
   },
   {
    "duration": 25,
    "start_time": "2024-01-16T10:08:25.997Z"
   },
   {
    "duration": 110,
    "start_time": "2024-01-16T10:08:26.024Z"
   },
   {
    "duration": 10,
    "start_time": "2024-01-16T10:08:26.136Z"
   },
   {
    "duration": 26,
    "start_time": "2024-01-16T10:08:26.147Z"
   },
   {
    "duration": 34,
    "start_time": "2024-01-16T10:08:26.175Z"
   },
   {
    "duration": 14,
    "start_time": "2024-01-16T10:08:26.210Z"
   },
   {
    "duration": 13,
    "start_time": "2024-01-16T10:08:26.225Z"
   },
   {
    "duration": 36,
    "start_time": "2024-01-16T10:08:26.241Z"
   },
   {
    "duration": 6,
    "start_time": "2024-01-16T10:08:26.278Z"
   },
   {
    "duration": 5,
    "start_time": "2024-01-16T10:08:26.285Z"
   },
   {
    "duration": 390,
    "start_time": "2024-01-16T10:08:26.291Z"
   },
   {
    "duration": 289,
    "start_time": "2024-01-16T10:10:14.458Z"
   },
   {
    "duration": 179,
    "start_time": "2024-01-16T10:11:59.571Z"
   },
   {
    "duration": 386,
    "start_time": "2024-01-16T10:12:11.618Z"
   },
   {
    "duration": 282,
    "start_time": "2024-01-16T10:12:16.373Z"
   },
   {
    "duration": 195,
    "start_time": "2024-01-16T10:12:22.200Z"
   },
   {
    "duration": 1391,
    "start_time": "2024-01-16T10:12:26.729Z"
   },
   {
    "duration": 717,
    "start_time": "2024-01-16T10:12:33.770Z"
   },
   {
    "duration": 420,
    "start_time": "2024-01-16T10:13:04.007Z"
   },
   {
    "duration": 293,
    "start_time": "2024-01-16T10:13:13.296Z"
   },
   {
    "duration": 345,
    "start_time": "2024-01-16T10:13:19.228Z"
   },
   {
    "duration": 310,
    "start_time": "2024-01-16T10:13:27.687Z"
   },
   {
    "duration": 297,
    "start_time": "2024-01-16T10:14:08.357Z"
   },
   {
    "duration": 522,
    "start_time": "2024-01-16T10:15:40.879Z"
   },
   {
    "duration": 513,
    "start_time": "2024-01-16T10:16:04.455Z"
   },
   {
    "duration": 438,
    "start_time": "2024-01-16T10:16:10.298Z"
   },
   {
    "duration": 437,
    "start_time": "2024-01-16T10:16:17.250Z"
   },
   {
    "duration": 285,
    "start_time": "2024-01-16T10:16:36.380Z"
   },
   {
    "duration": 1164,
    "start_time": "2024-01-16T10:19:29.499Z"
   },
   {
    "duration": 213,
    "start_time": "2024-01-16T10:19:30.665Z"
   },
   {
    "duration": 65,
    "start_time": "2024-01-16T10:19:30.879Z"
   },
   {
    "duration": 5,
    "start_time": "2024-01-16T10:19:30.945Z"
   },
   {
    "duration": 27,
    "start_time": "2024-01-16T10:19:30.966Z"
   },
   {
    "duration": 83,
    "start_time": "2024-01-16T10:19:30.995Z"
   },
   {
    "duration": 45,
    "start_time": "2024-01-16T10:19:31.080Z"
   },
   {
    "duration": 121,
    "start_time": "2024-01-16T10:19:31.127Z"
   },
   {
    "duration": 16,
    "start_time": "2024-01-16T10:19:31.249Z"
   },
   {
    "duration": 59,
    "start_time": "2024-01-16T10:19:31.266Z"
   },
   {
    "duration": 49,
    "start_time": "2024-01-16T10:19:31.327Z"
   },
   {
    "duration": 60,
    "start_time": "2024-01-16T10:19:31.377Z"
   },
   {
    "duration": 121,
    "start_time": "2024-01-16T10:19:31.438Z"
   },
   {
    "duration": 63,
    "start_time": "2024-01-16T10:19:31.561Z"
   },
   {
    "duration": 41,
    "start_time": "2024-01-16T10:19:31.626Z"
   },
   {
    "duration": 42,
    "start_time": "2024-01-16T10:19:31.668Z"
   },
   {
    "duration": 424,
    "start_time": "2024-01-16T10:19:31.711Z"
   },
   {
    "duration": 1132,
    "start_time": "2024-01-16T10:20:55.413Z"
   },
   {
    "duration": 195,
    "start_time": "2024-01-16T10:20:56.547Z"
   },
   {
    "duration": 68,
    "start_time": "2024-01-16T10:20:56.744Z"
   },
   {
    "duration": 5,
    "start_time": "2024-01-16T10:20:56.814Z"
   },
   {
    "duration": 11,
    "start_time": "2024-01-16T10:20:56.821Z"
   },
   {
    "duration": 39,
    "start_time": "2024-01-16T10:20:56.834Z"
   },
   {
    "duration": 25,
    "start_time": "2024-01-16T10:20:56.875Z"
   },
   {
    "duration": 95,
    "start_time": "2024-01-16T10:20:56.901Z"
   },
   {
    "duration": 9,
    "start_time": "2024-01-16T10:20:56.998Z"
   },
   {
    "duration": 17,
    "start_time": "2024-01-16T10:20:57.008Z"
   },
   {
    "duration": 54,
    "start_time": "2024-01-16T10:20:57.026Z"
   },
   {
    "duration": 12,
    "start_time": "2024-01-16T10:20:57.081Z"
   },
   {
    "duration": 6,
    "start_time": "2024-01-16T10:20:57.095Z"
   },
   {
    "duration": 27,
    "start_time": "2024-01-16T10:20:57.103Z"
   },
   {
    "duration": 5,
    "start_time": "2024-01-16T10:20:57.131Z"
   },
   {
    "duration": 3,
    "start_time": "2024-01-16T10:20:57.138Z"
   },
   {
    "duration": 418,
    "start_time": "2024-01-16T10:20:57.143Z"
   },
   {
    "duration": 1048,
    "start_time": "2024-01-16T10:22:49.923Z"
   },
   {
    "duration": 202,
    "start_time": "2024-01-16T10:22:50.973Z"
   },
   {
    "duration": 60,
    "start_time": "2024-01-16T10:22:51.177Z"
   },
   {
    "duration": 5,
    "start_time": "2024-01-16T10:22:51.238Z"
   },
   {
    "duration": 25,
    "start_time": "2024-01-16T10:22:51.245Z"
   },
   {
    "duration": 38,
    "start_time": "2024-01-16T10:22:51.272Z"
   },
   {
    "duration": 26,
    "start_time": "2024-01-16T10:22:51.311Z"
   },
   {
    "duration": 100,
    "start_time": "2024-01-16T10:22:51.339Z"
   },
   {
    "duration": 10,
    "start_time": "2024-01-16T10:22:51.441Z"
   },
   {
    "duration": 19,
    "start_time": "2024-01-16T10:22:51.453Z"
   },
   {
    "duration": 30,
    "start_time": "2024-01-16T10:22:51.473Z"
   },
   {
    "duration": 13,
    "start_time": "2024-01-16T10:22:51.504Z"
   },
   {
    "duration": 7,
    "start_time": "2024-01-16T10:22:51.518Z"
   },
   {
    "duration": 40,
    "start_time": "2024-01-16T10:22:51.527Z"
   },
   {
    "duration": 5,
    "start_time": "2024-01-16T10:22:51.569Z"
   },
   {
    "duration": 7,
    "start_time": "2024-01-16T10:22:51.575Z"
   },
   {
    "duration": 386,
    "start_time": "2024-01-16T10:22:51.583Z"
   },
   {
    "duration": 100,
    "start_time": "2024-01-16T10:22:51.970Z"
   },
   {
    "duration": 13,
    "start_time": "2024-01-16T10:27:54.141Z"
   },
   {
    "duration": 302,
    "start_time": "2024-01-16T10:28:48.430Z"
   },
   {
    "duration": 299,
    "start_time": "2024-01-16T10:28:56.207Z"
   },
   {
    "duration": 63,
    "start_time": "2024-01-16T10:31:43.532Z"
   },
   {
    "duration": 59,
    "start_time": "2024-01-16T10:32:04.109Z"
   },
   {
    "duration": 60,
    "start_time": "2024-01-16T10:33:37.311Z"
   },
   {
    "duration": 5,
    "start_time": "2024-01-16T11:01:28.554Z"
   },
   {
    "duration": 4,
    "start_time": "2024-01-16T11:02:19.171Z"
   },
   {
    "duration": 4,
    "start_time": "2024-01-16T11:02:33.624Z"
   },
   {
    "duration": 5,
    "start_time": "2024-01-16T11:02:51.343Z"
   },
   {
    "duration": 5,
    "start_time": "2024-01-16T11:03:56.517Z"
   },
   {
    "duration": 6,
    "start_time": "2024-01-16T11:06:05.689Z"
   },
   {
    "duration": 97,
    "start_time": "2024-01-16T11:07:13.637Z"
   },
   {
    "duration": 5,
    "start_time": "2024-01-16T11:08:02.352Z"
   },
   {
    "duration": 5,
    "start_time": "2024-01-16T11:08:11.551Z"
   },
   {
    "duration": 5,
    "start_time": "2024-01-16T11:08:39.361Z"
   },
   {
    "duration": 4,
    "start_time": "2024-01-16T11:09:52.801Z"
   },
   {
    "duration": 5,
    "start_time": "2024-01-16T11:09:59.114Z"
   },
   {
    "duration": 7,
    "start_time": "2024-01-16T11:10:37.205Z"
   },
   {
    "duration": 8,
    "start_time": "2024-01-16T11:10:45.364Z"
   },
   {
    "duration": 5,
    "start_time": "2024-01-16T11:11:08.508Z"
   },
   {
    "duration": 9,
    "start_time": "2024-01-16T11:11:09.019Z"
   },
   {
    "duration": 14,
    "start_time": "2024-01-16T11:12:50.809Z"
   },
   {
    "duration": 12,
    "start_time": "2024-01-16T11:13:18.300Z"
   },
   {
    "duration": 13,
    "start_time": "2024-01-16T11:13:22.980Z"
   },
   {
    "duration": 40,
    "start_time": "2024-01-16T11:16:23.012Z"
   },
   {
    "duration": 58,
    "start_time": "2024-01-16T11:16:28.665Z"
   },
   {
    "duration": 62,
    "start_time": "2024-01-16T11:17:45.256Z"
   },
   {
    "duration": 86,
    "start_time": "2024-01-16T11:17:53.879Z"
   },
   {
    "duration": 2,
    "start_time": "2024-01-17T06:45:07.160Z"
   },
   {
    "duration": 232,
    "start_time": "2024-01-17T06:45:07.164Z"
   },
   {
    "duration": 53,
    "start_time": "2024-01-17T06:45:07.398Z"
   },
   {
    "duration": 4,
    "start_time": "2024-01-17T06:45:07.452Z"
   },
   {
    "duration": 20,
    "start_time": "2024-01-17T06:45:07.458Z"
   },
   {
    "duration": 34,
    "start_time": "2024-01-17T06:45:07.480Z"
   },
   {
    "duration": 35,
    "start_time": "2024-01-17T06:45:07.516Z"
   },
   {
    "duration": 70,
    "start_time": "2024-01-17T06:45:07.552Z"
   },
   {
    "duration": 9,
    "start_time": "2024-01-17T06:45:07.624Z"
   },
   {
    "duration": 18,
    "start_time": "2024-01-17T06:45:07.634Z"
   },
   {
    "duration": 32,
    "start_time": "2024-01-17T06:45:07.653Z"
   },
   {
    "duration": 31,
    "start_time": "2024-01-17T06:45:07.686Z"
   },
   {
    "duration": 25,
    "start_time": "2024-01-17T06:45:07.718Z"
   },
   {
    "duration": 34,
    "start_time": "2024-01-17T06:45:07.744Z"
   },
   {
    "duration": 17,
    "start_time": "2024-01-17T06:45:07.779Z"
   },
   {
    "duration": 49,
    "start_time": "2024-01-17T06:45:07.798Z"
   },
   {
    "duration": 399,
    "start_time": "2024-01-17T06:45:07.848Z"
   },
   {
    "duration": 11,
    "start_time": "2024-01-17T06:45:08.248Z"
   },
   {
    "duration": 312,
    "start_time": "2024-01-17T06:45:08.260Z"
   },
   {
    "duration": 6,
    "start_time": "2024-01-17T06:45:08.573Z"
   },
   {
    "duration": 37,
    "start_time": "2024-01-17T06:45:08.580Z"
   },
   {
    "duration": 100,
    "start_time": "2024-01-17T06:45:08.618Z"
   },
   {
    "duration": 10,
    "start_time": "2024-01-17T06:45:32.491Z"
   },
   {
    "duration": 92,
    "start_time": "2024-01-17T06:45:55.603Z"
   },
   {
    "duration": 25,
    "start_time": "2024-01-17T06:46:01.229Z"
   },
   {
    "duration": 29,
    "start_time": "2024-01-17T06:46:22.776Z"
   },
   {
    "duration": 1563,
    "start_time": "2024-01-17T06:48:18.068Z"
   },
   {
    "duration": 28,
    "start_time": "2024-01-17T06:49:45.735Z"
   },
   {
    "duration": 143,
    "start_time": "2024-01-17T06:49:53.326Z"
   },
   {
    "duration": 144,
    "start_time": "2024-01-17T06:50:33.792Z"
   },
   {
    "duration": 72,
    "start_time": "2024-01-17T06:50:56.194Z"
   },
   {
    "duration": 113,
    "start_time": "2024-01-17T06:51:01.377Z"
   },
   {
    "duration": 144,
    "start_time": "2024-01-17T06:51:10.564Z"
   },
   {
    "duration": 151,
    "start_time": "2024-01-17T06:52:04.180Z"
   },
   {
    "duration": 168,
    "start_time": "2024-01-17T06:52:44.784Z"
   },
   {
    "duration": 146,
    "start_time": "2024-01-17T06:52:51.116Z"
   },
   {
    "duration": 141,
    "start_time": "2024-01-17T06:52:55.096Z"
   },
   {
    "duration": 224,
    "start_time": "2024-01-17T06:55:04.390Z"
   },
   {
    "duration": 151,
    "start_time": "2024-01-17T06:55:16.903Z"
   },
   {
    "duration": 138,
    "start_time": "2024-01-17T06:55:39.197Z"
   },
   {
    "duration": 117,
    "start_time": "2024-01-17T06:55:46.925Z"
   },
   {
    "duration": 126,
    "start_time": "2024-01-17T06:55:55.409Z"
   },
   {
    "duration": 135,
    "start_time": "2024-01-17T06:56:17.908Z"
   },
   {
    "duration": 28,
    "start_time": "2024-01-17T07:04:24.556Z"
   },
   {
    "duration": 151,
    "start_time": "2024-01-17T07:04:56.315Z"
   },
   {
    "duration": 140,
    "start_time": "2024-01-17T07:05:02.287Z"
   },
   {
    "duration": 29,
    "start_time": "2024-01-17T07:06:05.417Z"
   },
   {
    "duration": 163,
    "start_time": "2024-01-17T07:06:05.734Z"
   },
   {
    "duration": 58,
    "start_time": "2024-01-17T07:08:32.095Z"
   },
   {
    "duration": 54,
    "start_time": "2024-01-17T07:08:38.029Z"
   },
   {
    "duration": 51,
    "start_time": "2024-01-17T07:09:24.488Z"
   },
   {
    "duration": 54,
    "start_time": "2024-01-17T07:09:30.475Z"
   },
   {
    "duration": 52,
    "start_time": "2024-01-17T07:09:40.722Z"
   },
   {
    "duration": 52,
    "start_time": "2024-01-17T07:09:59.701Z"
   },
   {
    "duration": 74,
    "start_time": "2024-01-17T07:11:19.023Z"
   },
   {
    "duration": 79,
    "start_time": "2024-01-17T07:11:32.777Z"
   },
   {
    "duration": 63,
    "start_time": "2024-01-17T07:12:12.430Z"
   },
   {
    "duration": 68,
    "start_time": "2024-01-17T07:12:28.682Z"
   },
   {
    "duration": 61,
    "start_time": "2024-01-17T07:12:35.199Z"
   },
   {
    "duration": 9,
    "start_time": "2024-01-17T07:13:42.929Z"
   },
   {
    "duration": 12,
    "start_time": "2024-01-17T07:14:45.738Z"
   },
   {
    "duration": 146,
    "start_time": "2024-01-17T07:15:58.731Z"
   },
   {
    "duration": 237,
    "start_time": "2024-01-17T07:16:16.902Z"
   },
   {
    "duration": 263,
    "start_time": "2024-01-17T07:16:28.064Z"
   },
   {
    "duration": 163,
    "start_time": "2024-01-17T07:16:45.824Z"
   },
   {
    "duration": 151,
    "start_time": "2024-01-17T07:16:52.055Z"
   },
   {
    "duration": 160,
    "start_time": "2024-01-17T07:17:40.602Z"
   },
   {
    "duration": 81,
    "start_time": "2024-01-17T07:20:20.501Z"
   },
   {
    "duration": 118,
    "start_time": "2024-01-17T07:20:24.750Z"
   },
   {
    "duration": 161,
    "start_time": "2024-01-17T07:20:34.035Z"
   },
   {
    "duration": 125,
    "start_time": "2024-01-17T07:20:50.002Z"
   },
   {
    "duration": 5,
    "start_time": "2024-01-17T07:21:36.415Z"
   },
   {
    "duration": 228,
    "start_time": "2024-01-17T07:21:49.251Z"
   },
   {
    "duration": 166,
    "start_time": "2024-01-17T07:22:30.207Z"
   },
   {
    "duration": 12,
    "start_time": "2024-01-17T07:22:42.068Z"
   },
   {
    "duration": 1177,
    "start_time": "2024-01-17T07:23:05.235Z"
   },
   {
    "duration": 199,
    "start_time": "2024-01-17T07:23:06.415Z"
   },
   {
    "duration": 61,
    "start_time": "2024-01-17T07:23:06.615Z"
   },
   {
    "duration": 5,
    "start_time": "2024-01-17T07:23:06.678Z"
   },
   {
    "duration": 11,
    "start_time": "2024-01-17T07:23:06.684Z"
   },
   {
    "duration": 41,
    "start_time": "2024-01-17T07:23:06.697Z"
   },
   {
    "duration": 25,
    "start_time": "2024-01-17T07:23:06.740Z"
   },
   {
    "duration": 103,
    "start_time": "2024-01-17T07:23:06.767Z"
   },
   {
    "duration": 10,
    "start_time": "2024-01-17T07:23:06.872Z"
   },
   {
    "duration": 22,
    "start_time": "2024-01-17T07:23:06.883Z"
   },
   {
    "duration": 36,
    "start_time": "2024-01-17T07:23:06.907Z"
   },
   {
    "duration": 12,
    "start_time": "2024-01-17T07:23:06.945Z"
   },
   {
    "duration": 7,
    "start_time": "2024-01-17T07:23:06.959Z"
   },
   {
    "duration": 18,
    "start_time": "2024-01-17T07:23:06.968Z"
   },
   {
    "duration": 31,
    "start_time": "2024-01-17T07:23:06.987Z"
   },
   {
    "duration": 3,
    "start_time": "2024-01-17T07:23:07.019Z"
   },
   {
    "duration": 390,
    "start_time": "2024-01-17T07:23:07.024Z"
   },
   {
    "duration": 13,
    "start_time": "2024-01-17T07:23:07.416Z"
   },
   {
    "duration": 300,
    "start_time": "2024-01-17T07:23:07.430Z"
   },
   {
    "duration": 4,
    "start_time": "2024-01-17T07:23:07.732Z"
   },
   {
    "duration": 29,
    "start_time": "2024-01-17T07:23:07.738Z"
   },
   {
    "duration": 96,
    "start_time": "2024-01-17T07:23:07.769Z"
   },
   {
    "duration": 26,
    "start_time": "2024-01-17T07:23:07.866Z"
   },
   {
    "duration": 166,
    "start_time": "2024-01-17T07:23:07.893Z"
   },
   {
    "duration": 75,
    "start_time": "2024-01-17T07:23:08.060Z"
   },
   {
    "duration": 177,
    "start_time": "2024-01-17T07:23:08.141Z"
   },
   {
    "duration": 172,
    "start_time": "2024-01-17T07:23:08.320Z"
   },
   {
    "duration": 134,
    "start_time": "2024-01-17T07:23:41.529Z"
   },
   {
    "duration": 10,
    "start_time": "2024-01-17T07:23:52.905Z"
   },
   {
    "duration": 11,
    "start_time": "2024-01-17T07:24:21.820Z"
   },
   {
    "duration": 10,
    "start_time": "2024-01-17T07:26:09.963Z"
   },
   {
    "duration": 11,
    "start_time": "2024-01-17T07:26:21.964Z"
   },
   {
    "duration": 89,
    "start_time": "2024-01-17T07:26:39.958Z"
   },
   {
    "duration": 23,
    "start_time": "2024-01-17T07:26:43.114Z"
   },
   {
    "duration": 9,
    "start_time": "2024-01-17T07:27:59.828Z"
   },
   {
    "duration": 9,
    "start_time": "2024-01-17T07:29:19.869Z"
   },
   {
    "duration": 79,
    "start_time": "2024-01-17T07:29:49.870Z"
   },
   {
    "duration": 74,
    "start_time": "2024-01-17T07:29:57.346Z"
   },
   {
    "duration": 292,
    "start_time": "2024-01-17T07:30:02.543Z"
   },
   {
    "duration": 1235,
    "start_time": "2024-01-17T07:30:40.074Z"
   },
   {
    "duration": 10,
    "start_time": "2024-01-17T07:30:51.270Z"
   },
   {
    "duration": 8,
    "start_time": "2024-01-17T07:31:14.952Z"
   },
   {
    "duration": 9,
    "start_time": "2024-01-17T07:31:37.450Z"
   },
   {
    "duration": 13,
    "start_time": "2024-01-17T07:32:49.187Z"
   },
   {
    "duration": 10,
    "start_time": "2024-01-17T07:33:14.687Z"
   },
   {
    "duration": 15,
    "start_time": "2024-01-17T07:33:58.456Z"
   },
   {
    "duration": 1195,
    "start_time": "2024-01-17T07:34:14.130Z"
   },
   {
    "duration": 230,
    "start_time": "2024-01-17T07:34:15.327Z"
   },
   {
    "duration": 72,
    "start_time": "2024-01-17T07:34:15.559Z"
   },
   {
    "duration": 6,
    "start_time": "2024-01-17T07:34:15.633Z"
   },
   {
    "duration": 24,
    "start_time": "2024-01-17T07:34:15.640Z"
   },
   {
    "duration": 47,
    "start_time": "2024-01-17T07:34:15.666Z"
   },
   {
    "duration": 33,
    "start_time": "2024-01-17T07:34:15.715Z"
   },
   {
    "duration": 121,
    "start_time": "2024-01-17T07:34:15.750Z"
   },
   {
    "duration": 11,
    "start_time": "2024-01-17T07:34:15.872Z"
   },
   {
    "duration": 31,
    "start_time": "2024-01-17T07:34:15.886Z"
   },
   {
    "duration": 39,
    "start_time": "2024-01-17T07:34:15.919Z"
   },
   {
    "duration": 13,
    "start_time": "2024-01-17T07:34:15.959Z"
   },
   {
    "duration": 12,
    "start_time": "2024-01-17T07:34:15.974Z"
   },
   {
    "duration": 44,
    "start_time": "2024-01-17T07:34:15.987Z"
   },
   {
    "duration": 5,
    "start_time": "2024-01-17T07:34:16.033Z"
   },
   {
    "duration": 3,
    "start_time": "2024-01-17T07:34:16.040Z"
   },
   {
    "duration": 439,
    "start_time": "2024-01-17T07:34:16.044Z"
   },
   {
    "duration": 13,
    "start_time": "2024-01-17T07:34:16.485Z"
   },
   {
    "duration": 354,
    "start_time": "2024-01-17T07:34:16.500Z"
   },
   {
    "duration": 6,
    "start_time": "2024-01-17T07:34:16.856Z"
   },
   {
    "duration": 16,
    "start_time": "2024-01-17T07:34:16.864Z"
   },
   {
    "duration": 115,
    "start_time": "2024-01-17T07:34:16.882Z"
   },
   {
    "duration": 47,
    "start_time": "2024-01-17T07:34:16.999Z"
   },
   {
    "duration": 160,
    "start_time": "2024-01-17T07:34:17.048Z"
   },
   {
    "duration": 140,
    "start_time": "2024-01-17T07:34:17.210Z"
   },
   {
    "duration": 140,
    "start_time": "2024-01-17T07:34:17.352Z"
   },
   {
    "duration": 10,
    "start_time": "2024-01-17T07:42:13.498Z"
   },
   {
    "duration": 7,
    "start_time": "2024-01-17T08:09:34.010Z"
   },
   {
    "duration": 7,
    "start_time": "2024-01-17T08:10:27.611Z"
   },
   {
    "duration": 8,
    "start_time": "2024-01-17T08:11:40.187Z"
   },
   {
    "duration": 1169,
    "start_time": "2024-01-17T08:11:48.898Z"
   },
   {
    "duration": 206,
    "start_time": "2024-01-17T08:11:50.069Z"
   },
   {
    "duration": 69,
    "start_time": "2024-01-17T08:11:50.277Z"
   },
   {
    "duration": 4,
    "start_time": "2024-01-17T08:11:50.348Z"
   },
   {
    "duration": 9,
    "start_time": "2024-01-17T08:11:50.354Z"
   },
   {
    "duration": 24,
    "start_time": "2024-01-17T08:11:50.364Z"
   },
   {
    "duration": 41,
    "start_time": "2024-01-17T08:11:50.390Z"
   },
   {
    "duration": 99,
    "start_time": "2024-01-17T08:11:50.433Z"
   },
   {
    "duration": 10,
    "start_time": "2024-01-17T08:11:50.533Z"
   },
   {
    "duration": 17,
    "start_time": "2024-01-17T08:11:50.545Z"
   },
   {
    "duration": 56,
    "start_time": "2024-01-17T08:11:50.564Z"
   },
   {
    "duration": 12,
    "start_time": "2024-01-17T08:11:50.622Z"
   },
   {
    "duration": 8,
    "start_time": "2024-01-17T08:11:50.636Z"
   },
   {
    "duration": 25,
    "start_time": "2024-01-17T08:11:50.645Z"
   },
   {
    "duration": 6,
    "start_time": "2024-01-17T08:11:50.671Z"
   },
   {
    "duration": 4,
    "start_time": "2024-01-17T08:11:50.678Z"
   },
   {
    "duration": 418,
    "start_time": "2024-01-17T08:11:50.683Z"
   },
   {
    "duration": 18,
    "start_time": "2024-01-17T08:11:51.103Z"
   },
   {
    "duration": 314,
    "start_time": "2024-01-17T08:11:51.122Z"
   },
   {
    "duration": 5,
    "start_time": "2024-01-17T08:11:51.438Z"
   },
   {
    "duration": 13,
    "start_time": "2024-01-17T08:11:51.445Z"
   },
   {
    "duration": 107,
    "start_time": "2024-01-17T08:11:51.460Z"
   },
   {
    "duration": 29,
    "start_time": "2024-01-17T08:11:51.568Z"
   },
   {
    "duration": 161,
    "start_time": "2024-01-17T08:11:51.615Z"
   },
   {
    "duration": 79,
    "start_time": "2024-01-17T08:11:51.777Z"
   },
   {
    "duration": 138,
    "start_time": "2024-01-17T08:11:51.857Z"
   },
   {
    "duration": 19,
    "start_time": "2024-01-17T08:11:51.998Z"
   },
   {
    "duration": 8,
    "start_time": "2024-01-17T08:11:52.020Z"
   },
   {
    "duration": 8,
    "start_time": "2024-01-17T08:12:18.803Z"
   },
   {
    "duration": 5,
    "start_time": "2024-01-17T08:30:12.633Z"
   },
   {
    "duration": 6,
    "start_time": "2024-01-17T08:30:47.063Z"
   },
   {
    "duration": 1325,
    "start_time": "2024-01-17T08:33:54.943Z"
   },
   {
    "duration": 5,
    "start_time": "2024-01-17T08:34:05.296Z"
   },
   {
    "duration": 9,
    "start_time": "2024-01-17T08:34:11.506Z"
   },
   {
    "duration": 9,
    "start_time": "2024-01-17T08:34:22.015Z"
   },
   {
    "duration": 9,
    "start_time": "2024-01-17T08:34:26.131Z"
   },
   {
    "duration": 11,
    "start_time": "2024-01-17T08:34:59.180Z"
   },
   {
    "duration": 10,
    "start_time": "2024-01-17T08:35:14.385Z"
   },
   {
    "duration": 9,
    "start_time": "2024-01-17T08:35:23.464Z"
   },
   {
    "duration": 10,
    "start_time": "2024-01-17T08:35:48.489Z"
   },
   {
    "duration": 129,
    "start_time": "2024-01-17T08:40:25.186Z"
   },
   {
    "duration": 138,
    "start_time": "2024-01-17T08:41:52.281Z"
   },
   {
    "duration": 149,
    "start_time": "2024-01-17T08:44:14.233Z"
   },
   {
    "duration": 153,
    "start_time": "2024-01-17T08:44:43.105Z"
   },
   {
    "duration": 10,
    "start_time": "2024-01-17T08:44:47.918Z"
   },
   {
    "duration": 142,
    "start_time": "2024-01-17T08:44:48.301Z"
   },
   {
    "duration": 143,
    "start_time": "2024-01-17T08:45:13.175Z"
   },
   {
    "duration": 139,
    "start_time": "2024-01-17T08:45:20.363Z"
   },
   {
    "duration": 130,
    "start_time": "2024-01-17T08:46:11.801Z"
   },
   {
    "duration": 19,
    "start_time": "2024-01-17T08:47:19.698Z"
   },
   {
    "duration": 126,
    "start_time": "2024-01-17T08:47:38.921Z"
   },
   {
    "duration": 133,
    "start_time": "2024-01-17T08:48:24.914Z"
   },
   {
    "duration": 131,
    "start_time": "2024-01-17T08:49:27.798Z"
   },
   {
    "duration": 233,
    "start_time": "2024-01-17T08:50:00.883Z"
   },
   {
    "duration": 152,
    "start_time": "2024-01-17T08:50:54.771Z"
   },
   {
    "duration": 113,
    "start_time": "2024-01-17T09:01:36.875Z"
   },
   {
    "duration": 96,
    "start_time": "2024-01-17T09:02:37.798Z"
   },
   {
    "duration": 103,
    "start_time": "2024-01-17T09:02:45.478Z"
   },
   {
    "duration": 90,
    "start_time": "2024-01-17T09:12:31.694Z"
   },
   {
    "duration": 87,
    "start_time": "2024-01-17T09:16:15.737Z"
   },
   {
    "duration": 44,
    "start_time": "2024-01-17T09:16:44.495Z"
   },
   {
    "duration": 33,
    "start_time": "2024-01-17T09:17:27.255Z"
   },
   {
    "duration": 43,
    "start_time": "2024-01-17T09:17:32.157Z"
   },
   {
    "duration": 17,
    "start_time": "2024-01-17T09:20:51.151Z"
   },
   {
    "duration": 1069,
    "start_time": "2024-01-17T09:20:57.273Z"
   },
   {
    "duration": 198,
    "start_time": "2024-01-17T09:20:58.344Z"
   },
   {
    "duration": 72,
    "start_time": "2024-01-17T09:20:58.543Z"
   },
   {
    "duration": 4,
    "start_time": "2024-01-17T09:20:58.617Z"
   },
   {
    "duration": 13,
    "start_time": "2024-01-17T09:20:58.623Z"
   },
   {
    "duration": 25,
    "start_time": "2024-01-17T09:20:58.637Z"
   },
   {
    "duration": 26,
    "start_time": "2024-01-17T09:20:58.664Z"
   },
   {
    "duration": 111,
    "start_time": "2024-01-17T09:20:58.692Z"
   },
   {
    "duration": 16,
    "start_time": "2024-01-17T09:20:58.814Z"
   },
   {
    "duration": 35,
    "start_time": "2024-01-17T09:20:58.833Z"
   },
   {
    "duration": 14,
    "start_time": "2024-01-17T09:20:58.870Z"
   },
   {
    "duration": 31,
    "start_time": "2024-01-17T09:20:58.885Z"
   },
   {
    "duration": 20,
    "start_time": "2024-01-17T09:20:58.918Z"
   },
   {
    "duration": 5,
    "start_time": "2024-01-17T09:20:58.939Z"
   },
   {
    "duration": 9,
    "start_time": "2024-01-17T09:20:58.946Z"
   },
   {
    "duration": 421,
    "start_time": "2024-01-17T09:20:58.956Z"
   },
   {
    "duration": 11,
    "start_time": "2024-01-17T09:20:59.379Z"
   },
   {
    "duration": 325,
    "start_time": "2024-01-17T09:20:59.391Z"
   },
   {
    "duration": 5,
    "start_time": "2024-01-17T09:20:59.718Z"
   },
   {
    "duration": 19,
    "start_time": "2024-01-17T09:20:59.724Z"
   },
   {
    "duration": 114,
    "start_time": "2024-01-17T09:20:59.745Z"
   },
   {
    "duration": 0,
    "start_time": "2024-01-17T09:20:59.860Z"
   },
   {
    "duration": 0,
    "start_time": "2024-01-17T09:20:59.862Z"
   },
   {
    "duration": 0,
    "start_time": "2024-01-17T09:20:59.863Z"
   },
   {
    "duration": 0,
    "start_time": "2024-01-17T09:20:59.864Z"
   },
   {
    "duration": 0,
    "start_time": "2024-01-17T09:20:59.865Z"
   },
   {
    "duration": 0,
    "start_time": "2024-01-17T09:20:59.866Z"
   },
   {
    "duration": 0,
    "start_time": "2024-01-17T09:20:59.868Z"
   },
   {
    "duration": 0,
    "start_time": "2024-01-17T09:20:59.869Z"
   },
   {
    "duration": 66,
    "start_time": "2024-01-17T09:21:26.281Z"
   },
   {
    "duration": 43,
    "start_time": "2024-01-17T09:21:32.176Z"
   },
   {
    "duration": 148,
    "start_time": "2024-01-17T09:21:33.447Z"
   },
   {
    "duration": 1079,
    "start_time": "2024-01-17T09:21:39.456Z"
   },
   {
    "duration": 206,
    "start_time": "2024-01-17T09:21:40.536Z"
   },
   {
    "duration": 74,
    "start_time": "2024-01-17T09:21:40.744Z"
   },
   {
    "duration": 6,
    "start_time": "2024-01-17T09:21:40.819Z"
   },
   {
    "duration": 42,
    "start_time": "2024-01-17T09:21:40.828Z"
   },
   {
    "duration": 50,
    "start_time": "2024-01-17T09:21:40.872Z"
   },
   {
    "duration": 42,
    "start_time": "2024-01-17T09:21:40.924Z"
   },
   {
    "duration": 86,
    "start_time": "2024-01-17T09:21:40.967Z"
   },
   {
    "duration": 14,
    "start_time": "2024-01-17T09:21:41.055Z"
   },
   {
    "duration": 48,
    "start_time": "2024-01-17T09:21:41.071Z"
   },
   {
    "duration": 14,
    "start_time": "2024-01-17T09:21:41.120Z"
   },
   {
    "duration": 11,
    "start_time": "2024-01-17T09:21:41.135Z"
   },
   {
    "duration": 33,
    "start_time": "2024-01-17T09:21:41.147Z"
   },
   {
    "duration": 6,
    "start_time": "2024-01-17T09:21:41.184Z"
   },
   {
    "duration": 11,
    "start_time": "2024-01-17T09:21:41.191Z"
   },
   {
    "duration": 406,
    "start_time": "2024-01-17T09:21:41.203Z"
   },
   {
    "duration": 12,
    "start_time": "2024-01-17T09:21:41.611Z"
   },
   {
    "duration": 307,
    "start_time": "2024-01-17T09:21:41.625Z"
   },
   {
    "duration": 5,
    "start_time": "2024-01-17T09:21:41.934Z"
   },
   {
    "duration": 17,
    "start_time": "2024-01-17T09:21:41.941Z"
   },
   {
    "duration": 78,
    "start_time": "2024-01-17T09:21:41.960Z"
   },
   {
    "duration": 29,
    "start_time": "2024-01-17T09:21:42.039Z"
   },
   {
    "duration": 177,
    "start_time": "2024-01-17T09:21:42.070Z"
   },
   {
    "duration": 86,
    "start_time": "2024-01-17T09:21:42.248Z"
   },
   {
    "duration": 116,
    "start_time": "2024-01-17T09:21:42.336Z"
   },
   {
    "duration": 8,
    "start_time": "2024-01-17T09:21:42.453Z"
   },
   {
    "duration": 10,
    "start_time": "2024-01-17T09:21:42.462Z"
   },
   {
    "duration": 189,
    "start_time": "2024-01-17T09:21:42.473Z"
   },
   {
    "duration": 118,
    "start_time": "2024-01-17T09:21:42.664Z"
   },
   {
    "duration": 11,
    "start_time": "2024-01-17T09:23:59.014Z"
   },
   {
    "duration": 60,
    "start_time": "2024-01-17T09:26:09.062Z"
   },
   {
    "duration": 60,
    "start_time": "2024-01-17T09:26:42.964Z"
   },
   {
    "duration": 10,
    "start_time": "2024-01-17T09:26:59.705Z"
   },
   {
    "duration": 149,
    "start_time": "2024-01-17T09:27:12.537Z"
   },
   {
    "duration": 1146,
    "start_time": "2024-01-17T09:27:18.879Z"
   },
   {
    "duration": 202,
    "start_time": "2024-01-17T09:27:20.027Z"
   },
   {
    "duration": 62,
    "start_time": "2024-01-17T09:27:20.230Z"
   },
   {
    "duration": 5,
    "start_time": "2024-01-17T09:27:20.293Z"
   },
   {
    "duration": 20,
    "start_time": "2024-01-17T09:27:20.300Z"
   },
   {
    "duration": 26,
    "start_time": "2024-01-17T09:27:20.321Z"
   },
   {
    "duration": 26,
    "start_time": "2024-01-17T09:27:20.348Z"
   },
   {
    "duration": 111,
    "start_time": "2024-01-17T09:27:20.376Z"
   },
   {
    "duration": 26,
    "start_time": "2024-01-17T09:27:20.489Z"
   },
   {
    "duration": 33,
    "start_time": "2024-01-17T09:27:20.517Z"
   },
   {
    "duration": 13,
    "start_time": "2024-01-17T09:27:20.552Z"
   },
   {
    "duration": 6,
    "start_time": "2024-01-17T09:27:20.566Z"
   },
   {
    "duration": 44,
    "start_time": "2024-01-17T09:27:20.573Z"
   },
   {
    "duration": 6,
    "start_time": "2024-01-17T09:27:20.620Z"
   },
   {
    "duration": 19,
    "start_time": "2024-01-17T09:27:20.628Z"
   },
   {
    "duration": 392,
    "start_time": "2024-01-17T09:27:20.649Z"
   },
   {
    "duration": 11,
    "start_time": "2024-01-17T09:27:21.043Z"
   },
   {
    "duration": 305,
    "start_time": "2024-01-17T09:27:21.055Z"
   },
   {
    "duration": 4,
    "start_time": "2024-01-17T09:27:21.362Z"
   },
   {
    "duration": 43,
    "start_time": "2024-01-17T09:27:21.367Z"
   },
   {
    "duration": 64,
    "start_time": "2024-01-17T09:27:21.412Z"
   },
   {
    "duration": 38,
    "start_time": "2024-01-17T09:27:21.478Z"
   },
   {
    "duration": 165,
    "start_time": "2024-01-17T09:27:21.518Z"
   },
   {
    "duration": 68,
    "start_time": "2024-01-17T09:27:21.685Z"
   },
   {
    "duration": 128,
    "start_time": "2024-01-17T09:27:21.754Z"
   },
   {
    "duration": 69,
    "start_time": "2024-01-17T09:27:21.884Z"
   },
   {
    "duration": 13,
    "start_time": "2024-01-17T09:27:21.955Z"
   },
   {
    "duration": 177,
    "start_time": "2024-01-17T09:27:21.970Z"
   },
   {
    "duration": 126,
    "start_time": "2024-01-17T09:27:22.149Z"
   },
   {
    "duration": 65,
    "start_time": "2024-01-17T09:27:56.963Z"
   },
   {
    "duration": 58,
    "start_time": "2024-01-17T09:28:35.807Z"
   },
   {
    "duration": 1206,
    "start_time": "2024-01-17T09:28:44.260Z"
   },
   {
    "duration": 58,
    "start_time": "2024-01-17T09:29:07.751Z"
   },
   {
    "duration": 1178,
    "start_time": "2024-01-17T09:29:16.033Z"
   },
   {
    "duration": 202,
    "start_time": "2024-01-17T09:29:17.213Z"
   },
   {
    "duration": 63,
    "start_time": "2024-01-17T09:29:17.416Z"
   },
   {
    "duration": 5,
    "start_time": "2024-01-17T09:29:17.481Z"
   },
   {
    "duration": 28,
    "start_time": "2024-01-17T09:29:17.487Z"
   },
   {
    "duration": 26,
    "start_time": "2024-01-17T09:29:17.516Z"
   },
   {
    "duration": 28,
    "start_time": "2024-01-17T09:29:17.544Z"
   },
   {
    "duration": 110,
    "start_time": "2024-01-17T09:29:17.574Z"
   },
   {
    "duration": 14,
    "start_time": "2024-01-17T09:29:17.686Z"
   },
   {
    "duration": 41,
    "start_time": "2024-01-17T09:29:17.703Z"
   },
   {
    "duration": 12,
    "start_time": "2024-01-17T09:29:17.746Z"
   },
   {
    "duration": 26,
    "start_time": "2024-01-17T09:29:17.759Z"
   },
   {
    "duration": 20,
    "start_time": "2024-01-17T09:29:17.787Z"
   },
   {
    "duration": 9,
    "start_time": "2024-01-17T09:29:17.808Z"
   },
   {
    "duration": 12,
    "start_time": "2024-01-17T09:29:17.819Z"
   },
   {
    "duration": 389,
    "start_time": "2024-01-17T09:29:17.833Z"
   },
   {
    "duration": 11,
    "start_time": "2024-01-17T09:29:18.223Z"
   },
   {
    "duration": 306,
    "start_time": "2024-01-17T09:29:18.235Z"
   },
   {
    "duration": 5,
    "start_time": "2024-01-17T09:29:18.542Z"
   },
   {
    "duration": 15,
    "start_time": "2024-01-17T09:29:18.548Z"
   },
   {
    "duration": 79,
    "start_time": "2024-01-17T09:29:18.564Z"
   },
   {
    "duration": 27,
    "start_time": "2024-01-17T09:29:18.645Z"
   },
   {
    "duration": 185,
    "start_time": "2024-01-17T09:29:18.674Z"
   },
   {
    "duration": 82,
    "start_time": "2024-01-17T09:29:18.861Z"
   },
   {
    "duration": 125,
    "start_time": "2024-01-17T09:29:18.945Z"
   },
   {
    "duration": 67,
    "start_time": "2024-01-17T09:29:19.072Z"
   },
   {
    "duration": 1273,
    "start_time": "2024-01-17T09:29:19.141Z"
   },
   {
    "duration": 0,
    "start_time": "2024-01-17T09:29:20.416Z"
   },
   {
    "duration": 94,
    "start_time": "2024-01-17T09:30:00.463Z"
   },
   {
    "duration": 60,
    "start_time": "2024-01-17T09:30:06.099Z"
   },
   {
    "duration": 1228,
    "start_time": "2024-01-17T09:30:13.591Z"
   },
   {
    "duration": 200,
    "start_time": "2024-01-17T09:30:14.821Z"
   },
   {
    "duration": 63,
    "start_time": "2024-01-17T09:30:15.022Z"
   },
   {
    "duration": 5,
    "start_time": "2024-01-17T09:30:15.087Z"
   },
   {
    "duration": 33,
    "start_time": "2024-01-17T09:30:15.093Z"
   },
   {
    "duration": 47,
    "start_time": "2024-01-17T09:30:15.127Z"
   },
   {
    "duration": 38,
    "start_time": "2024-01-17T09:30:15.176Z"
   },
   {
    "duration": 114,
    "start_time": "2024-01-17T09:30:15.216Z"
   },
   {
    "duration": 14,
    "start_time": "2024-01-17T09:30:15.331Z"
   },
   {
    "duration": 43,
    "start_time": "2024-01-17T09:30:15.347Z"
   },
   {
    "duration": 13,
    "start_time": "2024-01-17T09:30:15.391Z"
   },
   {
    "duration": 12,
    "start_time": "2024-01-17T09:30:15.406Z"
   },
   {
    "duration": 22,
    "start_time": "2024-01-17T09:30:15.419Z"
   },
   {
    "duration": 4,
    "start_time": "2024-01-17T09:30:15.443Z"
   },
   {
    "duration": 3,
    "start_time": "2024-01-17T09:30:15.449Z"
   },
   {
    "duration": 441,
    "start_time": "2024-01-17T09:30:15.453Z"
   },
   {
    "duration": 20,
    "start_time": "2024-01-17T09:30:15.895Z"
   },
   {
    "duration": 314,
    "start_time": "2024-01-17T09:30:15.917Z"
   },
   {
    "duration": 6,
    "start_time": "2024-01-17T09:30:16.233Z"
   },
   {
    "duration": 15,
    "start_time": "2024-01-17T09:30:16.240Z"
   },
   {
    "duration": 85,
    "start_time": "2024-01-17T09:30:16.256Z"
   },
   {
    "duration": 28,
    "start_time": "2024-01-17T09:30:16.342Z"
   },
   {
    "duration": 174,
    "start_time": "2024-01-17T09:30:16.371Z"
   },
   {
    "duration": 92,
    "start_time": "2024-01-17T09:30:16.546Z"
   },
   {
    "duration": 118,
    "start_time": "2024-01-17T09:30:16.639Z"
   },
   {
    "duration": 68,
    "start_time": "2024-01-17T09:30:16.759Z"
   },
   {
    "duration": 168,
    "start_time": "2024-01-17T09:30:16.829Z"
   },
   {
    "duration": 126,
    "start_time": "2024-01-17T09:30:17.000Z"
   },
   {
    "duration": 61,
    "start_time": "2024-01-17T09:31:07.013Z"
   },
   {
    "duration": 1069,
    "start_time": "2024-01-17T09:31:13.546Z"
   },
   {
    "duration": 202,
    "start_time": "2024-01-17T09:31:14.617Z"
   },
   {
    "duration": 75,
    "start_time": "2024-01-17T09:31:14.821Z"
   },
   {
    "duration": 17,
    "start_time": "2024-01-17T09:31:14.897Z"
   },
   {
    "duration": 9,
    "start_time": "2024-01-17T09:31:14.916Z"
   },
   {
    "duration": 26,
    "start_time": "2024-01-17T09:31:14.926Z"
   },
   {
    "duration": 27,
    "start_time": "2024-01-17T09:31:14.953Z"
   },
   {
    "duration": 111,
    "start_time": "2024-01-17T09:31:14.982Z"
   },
   {
    "duration": 29,
    "start_time": "2024-01-17T09:31:15.095Z"
   },
   {
    "duration": 35,
    "start_time": "2024-01-17T09:31:15.126Z"
   },
   {
    "duration": 13,
    "start_time": "2024-01-17T09:31:15.162Z"
   },
   {
    "duration": 36,
    "start_time": "2024-01-17T09:31:15.176Z"
   },
   {
    "duration": 25,
    "start_time": "2024-01-17T09:31:15.214Z"
   },
   {
    "duration": 6,
    "start_time": "2024-01-17T09:31:15.242Z"
   },
   {
    "duration": 3,
    "start_time": "2024-01-17T09:31:15.250Z"
   },
   {
    "duration": 391,
    "start_time": "2024-01-17T09:31:15.255Z"
   },
   {
    "duration": 11,
    "start_time": "2024-01-17T09:31:15.647Z"
   },
   {
    "duration": 352,
    "start_time": "2024-01-17T09:31:15.660Z"
   },
   {
    "duration": 4,
    "start_time": "2024-01-17T09:31:16.015Z"
   },
   {
    "duration": 23,
    "start_time": "2024-01-17T09:31:16.021Z"
   },
   {
    "duration": 77,
    "start_time": "2024-01-17T09:31:16.046Z"
   },
   {
    "duration": 28,
    "start_time": "2024-01-17T09:31:16.124Z"
   },
   {
    "duration": 174,
    "start_time": "2024-01-17T09:31:16.154Z"
   },
   {
    "duration": 112,
    "start_time": "2024-01-17T09:31:16.330Z"
   },
   {
    "duration": 124,
    "start_time": "2024-01-17T09:31:16.444Z"
   },
   {
    "duration": 74,
    "start_time": "2024-01-17T09:31:16.570Z"
   },
   {
    "duration": 159,
    "start_time": "2024-01-17T09:31:16.645Z"
   },
   {
    "duration": 120,
    "start_time": "2024-01-17T09:31:16.814Z"
   },
   {
    "duration": 33,
    "start_time": "2024-01-17T09:31:31.189Z"
   },
   {
    "duration": 1279,
    "start_time": "2024-01-17T09:38:27.707Z"
   },
   {
    "duration": 1667,
    "start_time": "2024-01-17T09:38:40.126Z"
   },
   {
    "duration": 2134,
    "start_time": "2024-01-17T09:38:48.598Z"
   },
   {
    "duration": 37,
    "start_time": "2024-01-17T09:39:08.158Z"
   },
   {
    "duration": 5,
    "start_time": "2024-01-17T09:39:13.750Z"
   },
   {
    "duration": 5,
    "start_time": "2024-01-17T09:39:24.573Z"
   },
   {
    "duration": 4,
    "start_time": "2024-01-17T09:39:51.502Z"
   },
   {
    "duration": 5,
    "start_time": "2024-01-17T09:39:56.430Z"
   },
   {
    "duration": 7,
    "start_time": "2024-01-17T09:40:21.682Z"
   },
   {
    "duration": 49,
    "start_time": "2024-01-17T09:58:23.959Z"
   },
   {
    "duration": 50,
    "start_time": "2024-01-17T09:58:40.486Z"
   },
   {
    "duration": 65,
    "start_time": "2024-01-17T10:00:59.899Z"
   },
   {
    "duration": 71,
    "start_time": "2024-01-17T10:03:04.232Z"
   },
   {
    "duration": 1218,
    "start_time": "2024-01-17T10:03:13.118Z"
   },
   {
    "duration": 205,
    "start_time": "2024-01-17T10:03:14.337Z"
   },
   {
    "duration": 75,
    "start_time": "2024-01-17T10:03:14.544Z"
   },
   {
    "duration": 6,
    "start_time": "2024-01-17T10:03:14.620Z"
   },
   {
    "duration": 10,
    "start_time": "2024-01-17T10:03:14.628Z"
   },
   {
    "duration": 24,
    "start_time": "2024-01-17T10:03:14.639Z"
   },
   {
    "duration": 50,
    "start_time": "2024-01-17T10:03:14.665Z"
   },
   {
    "duration": 90,
    "start_time": "2024-01-17T10:03:14.716Z"
   },
   {
    "duration": 15,
    "start_time": "2024-01-17T10:03:14.816Z"
   },
   {
    "duration": 41,
    "start_time": "2024-01-17T10:03:14.832Z"
   },
   {
    "duration": 26,
    "start_time": "2024-01-17T10:03:14.874Z"
   },
   {
    "duration": 14,
    "start_time": "2024-01-17T10:03:14.902Z"
   },
   {
    "duration": 22,
    "start_time": "2024-01-17T10:03:14.918Z"
   },
   {
    "duration": 5,
    "start_time": "2024-01-17T10:03:14.943Z"
   },
   {
    "duration": 3,
    "start_time": "2024-01-17T10:03:14.950Z"
   },
   {
    "duration": 413,
    "start_time": "2024-01-17T10:03:14.954Z"
   },
   {
    "duration": 11,
    "start_time": "2024-01-17T10:03:15.369Z"
   },
   {
    "duration": 312,
    "start_time": "2024-01-17T10:03:15.382Z"
   },
   {
    "duration": 4,
    "start_time": "2024-01-17T10:03:15.695Z"
   },
   {
    "duration": 19,
    "start_time": "2024-01-17T10:03:15.714Z"
   },
   {
    "duration": 67,
    "start_time": "2024-01-17T10:03:15.735Z"
   },
   {
    "duration": 37,
    "start_time": "2024-01-17T10:03:15.803Z"
   },
   {
    "duration": 166,
    "start_time": "2024-01-17T10:03:15.841Z"
   },
   {
    "duration": 113,
    "start_time": "2024-01-17T10:03:16.008Z"
   },
   {
    "duration": 111,
    "start_time": "2024-01-17T10:03:16.122Z"
   },
   {
    "duration": 61,
    "start_time": "2024-01-17T10:03:16.235Z"
   },
   {
    "duration": 165,
    "start_time": "2024-01-17T10:03:16.297Z"
   },
   {
    "duration": 33,
    "start_time": "2024-01-17T10:03:16.464Z"
   },
   {
    "duration": 76,
    "start_time": "2024-01-17T10:03:16.499Z"
   },
   {
    "duration": 96,
    "start_time": "2024-01-17T10:03:24.914Z"
   },
   {
    "duration": 159,
    "start_time": "2024-01-17T10:04:43.924Z"
   },
   {
    "duration": 85,
    "start_time": "2024-01-17T10:04:55.014Z"
   },
   {
    "duration": 1165,
    "start_time": "2024-01-17T10:05:15.317Z"
   },
   {
    "duration": 197,
    "start_time": "2024-01-17T10:05:16.484Z"
   },
   {
    "duration": 74,
    "start_time": "2024-01-17T10:05:16.685Z"
   },
   {
    "duration": 4,
    "start_time": "2024-01-17T10:05:16.762Z"
   },
   {
    "duration": 11,
    "start_time": "2024-01-17T10:05:16.767Z"
   },
   {
    "duration": 37,
    "start_time": "2024-01-17T10:05:16.780Z"
   },
   {
    "duration": 26,
    "start_time": "2024-01-17T10:05:16.818Z"
   },
   {
    "duration": 97,
    "start_time": "2024-01-17T10:05:16.846Z"
   },
   {
    "duration": 14,
    "start_time": "2024-01-17T10:05:16.944Z"
   },
   {
    "duration": 43,
    "start_time": "2024-01-17T10:05:16.959Z"
   },
   {
    "duration": 17,
    "start_time": "2024-01-17T10:05:17.004Z"
   },
   {
    "duration": 14,
    "start_time": "2024-01-17T10:05:17.023Z"
   },
   {
    "duration": 18,
    "start_time": "2024-01-17T10:05:17.039Z"
   },
   {
    "duration": 5,
    "start_time": "2024-01-17T10:05:17.059Z"
   },
   {
    "duration": 3,
    "start_time": "2024-01-17T10:05:17.065Z"
   },
   {
    "duration": 423,
    "start_time": "2024-01-17T10:05:17.070Z"
   },
   {
    "duration": 11,
    "start_time": "2024-01-17T10:05:17.494Z"
   },
   {
    "duration": 310,
    "start_time": "2024-01-17T10:05:17.506Z"
   },
   {
    "duration": 4,
    "start_time": "2024-01-17T10:05:17.818Z"
   },
   {
    "duration": 25,
    "start_time": "2024-01-17T10:05:17.823Z"
   },
   {
    "duration": 66,
    "start_time": "2024-01-17T10:05:17.849Z"
   },
   {
    "duration": 27,
    "start_time": "2024-01-17T10:05:17.917Z"
   },
   {
    "duration": 170,
    "start_time": "2024-01-17T10:05:17.945Z"
   },
   {
    "duration": 119,
    "start_time": "2024-01-17T10:05:18.116Z"
   },
   {
    "duration": 117,
    "start_time": "2024-01-17T10:05:18.237Z"
   },
   {
    "duration": 71,
    "start_time": "2024-01-17T10:05:18.356Z"
   },
   {
    "duration": 161,
    "start_time": "2024-01-17T10:05:18.428Z"
   },
   {
    "duration": 42,
    "start_time": "2024-01-17T10:05:18.591Z"
   },
   {
    "duration": 165,
    "start_time": "2024-01-17T10:05:18.635Z"
   },
   {
    "duration": 29,
    "start_time": "2024-01-17T10:05:34.569Z"
   },
   {
    "duration": 70,
    "start_time": "2024-01-17T10:05:40.389Z"
   },
   {
    "duration": 70,
    "start_time": "2024-01-17T10:05:48.498Z"
   },
   {
    "duration": 36,
    "start_time": "2024-01-17T10:06:10.177Z"
   },
   {
    "duration": 41,
    "start_time": "2024-01-17T10:06:54.947Z"
   },
   {
    "duration": 40,
    "start_time": "2024-01-17T10:06:59.095Z"
   },
   {
    "duration": 61,
    "start_time": "2024-01-17T10:07:29.163Z"
   },
   {
    "duration": 27,
    "start_time": "2024-01-17T10:08:08.952Z"
   },
   {
    "duration": 81,
    "start_time": "2024-01-17T10:08:23.510Z"
   },
   {
    "duration": 92,
    "start_time": "2024-01-17T10:09:32.922Z"
   },
   {
    "duration": 74,
    "start_time": "2024-01-17T10:10:45.953Z"
   },
   {
    "duration": 70,
    "start_time": "2024-01-17T10:11:50.828Z"
   },
   {
    "duration": 71,
    "start_time": "2024-01-17T10:12:25.226Z"
   },
   {
    "duration": 79,
    "start_time": "2024-01-17T10:13:41.859Z"
   },
   {
    "duration": 95,
    "start_time": "2024-01-17T10:14:08.649Z"
   },
   {
    "duration": 1197,
    "start_time": "2024-01-17T10:14:15.211Z"
   },
   {
    "duration": 199,
    "start_time": "2024-01-17T10:14:16.410Z"
   },
   {
    "duration": 61,
    "start_time": "2024-01-17T10:14:16.610Z"
   },
   {
    "duration": 6,
    "start_time": "2024-01-17T10:14:16.673Z"
   },
   {
    "duration": 9,
    "start_time": "2024-01-17T10:14:16.680Z"
   },
   {
    "duration": 45,
    "start_time": "2024-01-17T10:14:16.691Z"
   },
   {
    "duration": 26,
    "start_time": "2024-01-17T10:14:16.738Z"
   },
   {
    "duration": 119,
    "start_time": "2024-01-17T10:14:16.766Z"
   },
   {
    "duration": 14,
    "start_time": "2024-01-17T10:14:16.886Z"
   },
   {
    "duration": 40,
    "start_time": "2024-01-17T10:14:16.902Z"
   },
   {
    "duration": 14,
    "start_time": "2024-01-17T10:14:16.943Z"
   },
   {
    "duration": 16,
    "start_time": "2024-01-17T10:14:16.958Z"
   },
   {
    "duration": 18,
    "start_time": "2024-01-17T10:14:16.976Z"
   },
   {
    "duration": 21,
    "start_time": "2024-01-17T10:14:16.996Z"
   },
   {
    "duration": 3,
    "start_time": "2024-01-17T10:14:17.019Z"
   },
   {
    "duration": 408,
    "start_time": "2024-01-17T10:14:17.024Z"
   },
   {
    "duration": 11,
    "start_time": "2024-01-17T10:14:17.434Z"
   },
   {
    "duration": 337,
    "start_time": "2024-01-17T10:14:17.447Z"
   },
   {
    "duration": 5,
    "start_time": "2024-01-17T10:14:17.786Z"
   },
   {
    "duration": 29,
    "start_time": "2024-01-17T10:14:17.792Z"
   },
   {
    "duration": 64,
    "start_time": "2024-01-17T10:14:17.822Z"
   },
   {
    "duration": 43,
    "start_time": "2024-01-17T10:14:17.888Z"
   },
   {
    "duration": 170,
    "start_time": "2024-01-17T10:14:17.933Z"
   },
   {
    "duration": 115,
    "start_time": "2024-01-17T10:14:18.105Z"
   },
   {
    "duration": 118,
    "start_time": "2024-01-17T10:14:18.221Z"
   },
   {
    "duration": 73,
    "start_time": "2024-01-17T10:14:18.341Z"
   },
   {
    "duration": 158,
    "start_time": "2024-01-17T10:14:18.416Z"
   },
   {
    "duration": 40,
    "start_time": "2024-01-17T10:14:18.577Z"
   },
   {
    "duration": 82,
    "start_time": "2024-01-17T10:14:18.619Z"
   },
   {
    "duration": 89,
    "start_time": "2024-01-17T10:14:34.569Z"
   },
   {
    "duration": 86,
    "start_time": "2024-01-17T10:14:46.000Z"
   },
   {
    "duration": 91,
    "start_time": "2024-01-17T10:14:58.258Z"
   },
   {
    "duration": 87,
    "start_time": "2024-01-17T10:15:03.686Z"
   },
   {
    "duration": 98,
    "start_time": "2024-01-17T10:15:31.241Z"
   },
   {
    "duration": 1791,
    "start_time": "2024-01-17T10:15:59.651Z"
   },
   {
    "duration": 92,
    "start_time": "2024-01-17T10:16:05.591Z"
   },
   {
    "duration": 88,
    "start_time": "2024-01-17T10:16:09.088Z"
   },
   {
    "duration": 93,
    "start_time": "2024-01-17T10:16:25.573Z"
   },
   {
    "duration": 85,
    "start_time": "2024-01-17T10:16:36.415Z"
   },
   {
    "duration": 89,
    "start_time": "2024-01-17T10:16:43.247Z"
   },
   {
    "duration": 86,
    "start_time": "2024-01-17T10:17:07.107Z"
   },
   {
    "duration": 5,
    "start_time": "2024-01-17T10:24:58.607Z"
   },
   {
    "duration": 6,
    "start_time": "2024-01-17T10:25:08.781Z"
   },
   {
    "duration": 11,
    "start_time": "2024-01-17T10:25:28.437Z"
   },
   {
    "duration": 12,
    "start_time": "2024-01-17T10:25:43.350Z"
   },
   {
    "duration": 6,
    "start_time": "2024-01-17T10:27:49.792Z"
   },
   {
    "duration": 14,
    "start_time": "2024-01-17T10:27:50.160Z"
   },
   {
    "duration": 7,
    "start_time": "2024-01-17T10:30:04.458Z"
   },
   {
    "duration": 9,
    "start_time": "2024-01-17T10:30:20.147Z"
   },
   {
    "duration": 883,
    "start_time": "2024-01-17T10:31:18.231Z"
   },
   {
    "duration": 1172,
    "start_time": "2024-01-17T10:31:50.522Z"
   },
   {
    "duration": 1059,
    "start_time": "2024-01-17T10:31:57.332Z"
   },
   {
    "duration": 28,
    "start_time": "2024-01-17T10:32:36.703Z"
   },
   {
    "duration": 89,
    "start_time": "2024-01-17T10:32:49.677Z"
   },
   {
    "duration": 7,
    "start_time": "2024-01-17T10:32:55.899Z"
   },
   {
    "duration": 39,
    "start_time": "2024-01-17T10:32:56.248Z"
   },
   {
    "duration": 1139,
    "start_time": "2024-01-17T10:36:04.576Z"
   },
   {
    "duration": 204,
    "start_time": "2024-01-17T10:36:05.717Z"
   },
   {
    "duration": 59,
    "start_time": "2024-01-17T10:36:05.923Z"
   },
   {
    "duration": 5,
    "start_time": "2024-01-17T10:36:05.984Z"
   },
   {
    "duration": 26,
    "start_time": "2024-01-17T10:36:05.991Z"
   },
   {
    "duration": 23,
    "start_time": "2024-01-17T10:36:06.019Z"
   },
   {
    "duration": 25,
    "start_time": "2024-01-17T10:36:06.044Z"
   },
   {
    "duration": 104,
    "start_time": "2024-01-17T10:36:06.070Z"
   },
   {
    "duration": 13,
    "start_time": "2024-01-17T10:36:06.176Z"
   },
   {
    "duration": 49,
    "start_time": "2024-01-17T10:36:06.190Z"
   },
   {
    "duration": 13,
    "start_time": "2024-01-17T10:36:06.240Z"
   },
   {
    "duration": 9,
    "start_time": "2024-01-17T10:36:06.255Z"
   },
   {
    "duration": 18,
    "start_time": "2024-01-17T10:36:06.265Z"
   },
   {
    "duration": 5,
    "start_time": "2024-01-17T10:36:06.286Z"
   },
   {
    "duration": 23,
    "start_time": "2024-01-17T10:36:06.292Z"
   },
   {
    "duration": 388,
    "start_time": "2024-01-17T10:36:06.317Z"
   },
   {
    "duration": 11,
    "start_time": "2024-01-17T10:36:06.707Z"
   },
   {
    "duration": 316,
    "start_time": "2024-01-17T10:36:06.719Z"
   },
   {
    "duration": 5,
    "start_time": "2024-01-17T10:36:07.036Z"
   },
   {
    "duration": 14,
    "start_time": "2024-01-17T10:36:07.042Z"
   },
   {
    "duration": 77,
    "start_time": "2024-01-17T10:36:07.057Z"
   },
   {
    "duration": 27,
    "start_time": "2024-01-17T10:36:07.136Z"
   },
   {
    "duration": 172,
    "start_time": "2024-01-17T10:36:07.164Z"
   },
   {
    "duration": 101,
    "start_time": "2024-01-17T10:36:07.338Z"
   },
   {
    "duration": 114,
    "start_time": "2024-01-17T10:36:07.441Z"
   },
   {
    "duration": 75,
    "start_time": "2024-01-17T10:36:07.557Z"
   },
   {
    "duration": 155,
    "start_time": "2024-01-17T10:36:07.634Z"
   },
   {
    "duration": 46,
    "start_time": "2024-01-17T10:36:07.791Z"
   },
   {
    "duration": 90,
    "start_time": "2024-01-17T10:36:07.839Z"
   },
   {
    "duration": 5,
    "start_time": "2024-01-17T10:36:07.931Z"
   },
   {
    "duration": 158,
    "start_time": "2024-01-17T10:36:07.938Z"
   },
   {
    "duration": 83,
    "start_time": "2024-01-17T10:41:09.011Z"
   },
   {
    "duration": 27,
    "start_time": "2024-01-17T10:41:09.644Z"
   },
   {
    "duration": 3,
    "start_time": "2024-01-17T10:41:48.700Z"
   },
   {
    "duration": 1161,
    "start_time": "2024-01-17T10:41:53.981Z"
   },
   {
    "duration": 203,
    "start_time": "2024-01-17T10:41:55.144Z"
   },
   {
    "duration": 71,
    "start_time": "2024-01-17T10:41:55.349Z"
   },
   {
    "duration": 5,
    "start_time": "2024-01-17T10:41:55.421Z"
   },
   {
    "duration": 13,
    "start_time": "2024-01-17T10:41:55.428Z"
   },
   {
    "duration": 26,
    "start_time": "2024-01-17T10:41:55.442Z"
   },
   {
    "duration": 25,
    "start_time": "2024-01-17T10:41:55.470Z"
   },
   {
    "duration": 118,
    "start_time": "2024-01-17T10:41:55.497Z"
   },
   {
    "duration": 15,
    "start_time": "2024-01-17T10:41:55.616Z"
   },
   {
    "duration": 36,
    "start_time": "2024-01-17T10:41:55.633Z"
   },
   {
    "duration": 14,
    "start_time": "2024-01-17T10:41:55.670Z"
   },
   {
    "duration": 32,
    "start_time": "2024-01-17T10:41:55.685Z"
   },
   {
    "duration": 34,
    "start_time": "2024-01-17T10:41:55.719Z"
   },
   {
    "duration": 7,
    "start_time": "2024-01-17T10:41:55.757Z"
   },
   {
    "duration": 30,
    "start_time": "2024-01-17T10:41:55.766Z"
   },
   {
    "duration": 389,
    "start_time": "2024-01-17T10:41:55.798Z"
   },
   {
    "duration": 11,
    "start_time": "2024-01-17T10:41:56.189Z"
   },
   {
    "duration": 324,
    "start_time": "2024-01-17T10:41:56.201Z"
   },
   {
    "duration": 5,
    "start_time": "2024-01-17T10:41:56.526Z"
   },
   {
    "duration": 16,
    "start_time": "2024-01-17T10:41:56.532Z"
   },
   {
    "duration": 82,
    "start_time": "2024-01-17T10:41:56.549Z"
   },
   {
    "duration": 28,
    "start_time": "2024-01-17T10:41:56.632Z"
   },
   {
    "duration": 175,
    "start_time": "2024-01-17T10:41:56.661Z"
   },
   {
    "duration": 101,
    "start_time": "2024-01-17T10:41:56.838Z"
   },
   {
    "duration": 125,
    "start_time": "2024-01-17T10:41:56.941Z"
   },
   {
    "duration": 68,
    "start_time": "2024-01-17T10:41:57.068Z"
   },
   {
    "duration": 162,
    "start_time": "2024-01-17T10:41:57.138Z"
   },
   {
    "duration": 38,
    "start_time": "2024-01-17T10:41:57.301Z"
   },
   {
    "duration": 99,
    "start_time": "2024-01-17T10:41:57.340Z"
   },
   {
    "duration": 126,
    "start_time": "2024-01-17T10:41:57.440Z"
   },
   {
    "duration": 3,
    "start_time": "2024-01-17T10:43:03.281Z"
   },
   {
    "duration": 4,
    "start_time": "2024-01-17T10:43:05.650Z"
   },
   {
    "duration": 1174,
    "start_time": "2024-01-17T10:43:11.561Z"
   },
   {
    "duration": 205,
    "start_time": "2024-01-17T10:43:12.737Z"
   },
   {
    "duration": 72,
    "start_time": "2024-01-17T10:43:12.944Z"
   },
   {
    "duration": 4,
    "start_time": "2024-01-17T10:43:13.018Z"
   },
   {
    "duration": 12,
    "start_time": "2024-01-17T10:43:13.024Z"
   },
   {
    "duration": 27,
    "start_time": "2024-01-17T10:43:13.037Z"
   },
   {
    "duration": 50,
    "start_time": "2024-01-17T10:43:13.065Z"
   },
   {
    "duration": 99,
    "start_time": "2024-01-17T10:43:13.116Z"
   },
   {
    "duration": 14,
    "start_time": "2024-01-17T10:43:13.217Z"
   },
   {
    "duration": 53,
    "start_time": "2024-01-17T10:43:13.232Z"
   },
   {
    "duration": 13,
    "start_time": "2024-01-17T10:43:13.287Z"
   },
   {
    "duration": 21,
    "start_time": "2024-01-17T10:43:13.301Z"
   },
   {
    "duration": 27,
    "start_time": "2024-01-17T10:43:13.323Z"
   },
   {
    "duration": 5,
    "start_time": "2024-01-17T10:43:13.353Z"
   },
   {
    "duration": 3,
    "start_time": "2024-01-17T10:43:13.360Z"
   },
   {
    "duration": 397,
    "start_time": "2024-01-17T10:43:13.365Z"
   },
   {
    "duration": 11,
    "start_time": "2024-01-17T10:43:13.763Z"
   },
   {
    "duration": 335,
    "start_time": "2024-01-17T10:43:13.776Z"
   },
   {
    "duration": 5,
    "start_time": "2024-01-17T10:43:14.114Z"
   },
   {
    "duration": 16,
    "start_time": "2024-01-17T10:43:14.120Z"
   },
   {
    "duration": 89,
    "start_time": "2024-01-17T10:43:14.137Z"
   },
   {
    "duration": 31,
    "start_time": "2024-01-17T10:43:14.227Z"
   },
   {
    "duration": 172,
    "start_time": "2024-01-17T10:43:14.260Z"
   },
   {
    "duration": 105,
    "start_time": "2024-01-17T10:43:14.434Z"
   },
   {
    "duration": 129,
    "start_time": "2024-01-17T10:43:14.541Z"
   },
   {
    "duration": 70,
    "start_time": "2024-01-17T10:43:14.671Z"
   },
   {
    "duration": 174,
    "start_time": "2024-01-17T10:43:14.742Z"
   },
   {
    "duration": 34,
    "start_time": "2024-01-17T10:43:14.918Z"
   },
   {
    "duration": 98,
    "start_time": "2024-01-17T10:43:14.953Z"
   },
   {
    "duration": 131,
    "start_time": "2024-01-17T10:43:15.052Z"
   },
   {
    "duration": 27,
    "start_time": "2024-01-17T10:43:25.386Z"
   },
   {
    "duration": 7,
    "start_time": "2024-01-17T10:44:11.126Z"
   },
   {
    "duration": 14,
    "start_time": "2024-01-17T10:44:28.913Z"
   },
   {
    "duration": 104,
    "start_time": "2024-01-17T10:44:51.425Z"
   },
   {
    "duration": 100,
    "start_time": "2024-01-17T10:45:07.219Z"
   },
   {
    "duration": 9,
    "start_time": "2024-01-17T10:45:13.561Z"
   },
   {
    "duration": 9,
    "start_time": "2024-01-17T10:46:11.572Z"
   },
   {
    "duration": 6,
    "start_time": "2024-01-17T10:51:35.891Z"
   },
   {
    "duration": 100,
    "start_time": "2024-01-17T10:51:36.286Z"
   },
   {
    "duration": 21,
    "start_time": "2024-01-17T10:54:59.801Z"
   },
   {
    "duration": 102,
    "start_time": "2024-01-17T10:55:08.883Z"
   },
   {
    "duration": 99,
    "start_time": "2024-01-17T10:55:11.784Z"
   },
   {
    "duration": 99,
    "start_time": "2024-01-17T11:20:50.960Z"
   },
   {
    "duration": 86,
    "start_time": "2024-01-17T11:21:05.363Z"
   },
   {
    "duration": 5,
    "start_time": "2024-01-17T11:21:28.739Z"
   },
   {
    "duration": 36,
    "start_time": "2024-01-17T11:21:31.583Z"
   },
   {
    "duration": 4,
    "start_time": "2024-01-17T11:32:56.500Z"
   },
   {
    "duration": 9,
    "start_time": "2024-01-17T11:33:02.168Z"
   },
   {
    "duration": 5,
    "start_time": "2024-01-17T11:35:42.430Z"
   },
   {
    "duration": 33,
    "start_time": "2024-01-17T11:35:45.396Z"
   },
   {
    "duration": 6,
    "start_time": "2024-01-17T11:35:52.651Z"
   },
   {
    "duration": 29,
    "start_time": "2024-01-17T11:35:52.995Z"
   },
   {
    "duration": 1157,
    "start_time": "2024-01-17T11:36:00.576Z"
   },
   {
    "duration": 218,
    "start_time": "2024-01-17T11:36:01.735Z"
   },
   {
    "duration": 75,
    "start_time": "2024-01-17T11:36:01.954Z"
   },
   {
    "duration": 5,
    "start_time": "2024-01-17T11:36:02.031Z"
   },
   {
    "duration": 24,
    "start_time": "2024-01-17T11:36:02.037Z"
   },
   {
    "duration": 45,
    "start_time": "2024-01-17T11:36:02.063Z"
   },
   {
    "duration": 25,
    "start_time": "2024-01-17T11:36:02.110Z"
   },
   {
    "duration": 100,
    "start_time": "2024-01-17T11:36:02.137Z"
   },
   {
    "duration": 13,
    "start_time": "2024-01-17T11:36:02.238Z"
   },
   {
    "duration": 34,
    "start_time": "2024-01-17T11:36:02.253Z"
   },
   {
    "duration": 13,
    "start_time": "2024-01-17T11:36:02.288Z"
   },
   {
    "duration": 16,
    "start_time": "2024-01-17T11:36:02.302Z"
   },
   {
    "duration": 27,
    "start_time": "2024-01-17T11:36:02.320Z"
   },
   {
    "duration": 6,
    "start_time": "2024-01-17T11:36:02.349Z"
   },
   {
    "duration": 12,
    "start_time": "2024-01-17T11:36:02.356Z"
   },
   {
    "duration": 389,
    "start_time": "2024-01-17T11:36:02.369Z"
   },
   {
    "duration": 11,
    "start_time": "2024-01-17T11:36:02.759Z"
   },
   {
    "duration": 337,
    "start_time": "2024-01-17T11:36:02.772Z"
   },
   {
    "duration": 5,
    "start_time": "2024-01-17T11:36:03.114Z"
   },
   {
    "duration": 14,
    "start_time": "2024-01-17T11:36:03.121Z"
   },
   {
    "duration": 84,
    "start_time": "2024-01-17T11:36:03.136Z"
   },
   {
    "duration": 27,
    "start_time": "2024-01-17T11:36:03.221Z"
   },
   {
    "duration": 155,
    "start_time": "2024-01-17T11:36:03.249Z"
   },
   {
    "duration": 135,
    "start_time": "2024-01-17T11:36:03.406Z"
   },
   {
    "duration": 115,
    "start_time": "2024-01-17T11:36:03.543Z"
   },
   {
    "duration": 72,
    "start_time": "2024-01-17T11:36:03.660Z"
   },
   {
    "duration": 155,
    "start_time": "2024-01-17T11:36:03.733Z"
   },
   {
    "duration": 43,
    "start_time": "2024-01-17T11:36:03.889Z"
   },
   {
    "duration": 92,
    "start_time": "2024-01-17T11:36:03.933Z"
   },
   {
    "duration": 6,
    "start_time": "2024-01-17T11:36:04.027Z"
   },
   {
    "duration": 120,
    "start_time": "2024-01-17T11:36:04.035Z"
   },
   {
    "duration": 6,
    "start_time": "2024-01-17T11:36:04.157Z"
   },
   {
    "duration": 33,
    "start_time": "2024-01-17T11:36:04.164Z"
   },
   {
    "duration": 29,
    "start_time": "2024-01-17T11:36:46.592Z"
   },
   {
    "duration": 28,
    "start_time": "2024-01-17T11:36:50.421Z"
   },
   {
    "duration": 7,
    "start_time": "2024-01-17T11:38:20.306Z"
   },
   {
    "duration": 1389,
    "start_time": "2024-01-17T11:42:54.064Z"
   },
   {
    "duration": 28,
    "start_time": "2024-01-17T11:43:13.394Z"
   },
   {
    "duration": 1219,
    "start_time": "2024-01-17T11:44:47.218Z"
   },
   {
    "duration": 1504,
    "start_time": "2024-01-17T11:44:59.955Z"
   },
   {
    "duration": 27,
    "start_time": "2024-01-17T11:45:09.707Z"
   },
   {
    "duration": 27,
    "start_time": "2024-01-17T11:45:27.327Z"
   },
   {
    "duration": 90,
    "start_time": "2024-01-17T11:46:01.255Z"
   },
   {
    "duration": 29,
    "start_time": "2024-01-17T11:46:10.778Z"
   },
   {
    "duration": 32,
    "start_time": "2024-01-17T11:46:15.385Z"
   },
   {
    "duration": 9,
    "start_time": "2024-01-17T11:46:49.464Z"
   },
   {
    "duration": 96,
    "start_time": "2024-01-17T11:46:56.945Z"
   },
   {
    "duration": 5,
    "start_time": "2024-01-17T11:50:17.708Z"
   },
   {
    "duration": 90,
    "start_time": "2024-01-17T11:50:18.324Z"
   },
   {
    "duration": 1230,
    "start_time": "2024-01-17T11:50:47.294Z"
   },
   {
    "duration": 209,
    "start_time": "2024-01-17T11:50:48.525Z"
   },
   {
    "duration": 67,
    "start_time": "2024-01-17T11:50:48.735Z"
   },
   {
    "duration": 5,
    "start_time": "2024-01-17T11:50:48.815Z"
   },
   {
    "duration": 15,
    "start_time": "2024-01-17T11:50:48.823Z"
   },
   {
    "duration": 28,
    "start_time": "2024-01-17T11:50:48.839Z"
   },
   {
    "duration": 55,
    "start_time": "2024-01-17T11:50:48.868Z"
   },
   {
    "duration": 103,
    "start_time": "2024-01-17T11:50:48.924Z"
   },
   {
    "duration": 15,
    "start_time": "2024-01-17T11:50:49.028Z"
   },
   {
    "duration": 36,
    "start_time": "2024-01-17T11:50:49.045Z"
   },
   {
    "duration": 32,
    "start_time": "2024-01-17T11:50:49.083Z"
   },
   {
    "duration": 5,
    "start_time": "2024-01-17T11:50:49.117Z"
   },
   {
    "duration": 21,
    "start_time": "2024-01-17T11:50:49.123Z"
   },
   {
    "duration": 6,
    "start_time": "2024-01-17T11:50:49.147Z"
   },
   {
    "duration": 5,
    "start_time": "2024-01-17T11:50:49.154Z"
   },
   {
    "duration": 429,
    "start_time": "2024-01-17T11:50:49.161Z"
   },
   {
    "duration": 13,
    "start_time": "2024-01-17T11:50:49.591Z"
   },
   {
    "duration": 341,
    "start_time": "2024-01-17T11:50:49.614Z"
   },
   {
    "duration": 6,
    "start_time": "2024-01-17T11:50:49.957Z"
   },
   {
    "duration": 20,
    "start_time": "2024-01-17T11:50:49.964Z"
   },
   {
    "duration": 86,
    "start_time": "2024-01-17T11:50:49.985Z"
   },
   {
    "duration": 30,
    "start_time": "2024-01-17T11:50:50.072Z"
   },
   {
    "duration": 185,
    "start_time": "2024-01-17T11:50:50.104Z"
   },
   {
    "duration": 130,
    "start_time": "2024-01-17T11:50:50.291Z"
   },
   {
    "duration": 111,
    "start_time": "2024-01-17T11:50:50.423Z"
   },
   {
    "duration": 66,
    "start_time": "2024-01-17T11:50:50.536Z"
   },
   {
    "duration": 182,
    "start_time": "2024-01-17T11:50:50.604Z"
   },
   {
    "duration": 45,
    "start_time": "2024-01-17T11:50:50.787Z"
   },
   {
    "duration": 100,
    "start_time": "2024-01-17T11:50:50.833Z"
   },
   {
    "duration": 6,
    "start_time": "2024-01-17T11:50:50.934Z"
   },
   {
    "duration": 124,
    "start_time": "2024-01-17T11:50:50.942Z"
   },
   {
    "duration": 6,
    "start_time": "2024-01-17T11:50:51.067Z"
   },
   {
    "duration": 107,
    "start_time": "2024-01-17T11:50:51.074Z"
   },
   {
    "duration": 1338,
    "start_time": "2024-01-18T07:32:14.842Z"
   },
   {
    "duration": 530,
    "start_time": "2024-01-18T07:32:16.181Z"
   },
   {
    "duration": 61,
    "start_time": "2024-01-18T07:32:16.712Z"
   },
   {
    "duration": 5,
    "start_time": "2024-01-18T07:32:16.775Z"
   },
   {
    "duration": 8,
    "start_time": "2024-01-18T07:32:16.783Z"
   },
   {
    "duration": 26,
    "start_time": "2024-01-18T07:32:16.792Z"
   },
   {
    "duration": 65,
    "start_time": "2024-01-18T07:32:16.819Z"
   },
   {
    "duration": 103,
    "start_time": "2024-01-18T07:32:16.886Z"
   },
   {
    "duration": 17,
    "start_time": "2024-01-18T07:32:16.990Z"
   },
   {
    "duration": 51,
    "start_time": "2024-01-18T07:32:17.009Z"
   },
   {
    "duration": 15,
    "start_time": "2024-01-18T07:32:17.064Z"
   },
   {
    "duration": 23,
    "start_time": "2024-01-18T07:32:17.081Z"
   },
   {
    "duration": 34,
    "start_time": "2024-01-18T07:32:17.105Z"
   },
   {
    "duration": 6,
    "start_time": "2024-01-18T07:32:17.143Z"
   },
   {
    "duration": 8,
    "start_time": "2024-01-18T07:32:17.150Z"
   },
   {
    "duration": 397,
    "start_time": "2024-01-18T07:32:17.170Z"
   },
   {
    "duration": 12,
    "start_time": "2024-01-18T07:32:17.568Z"
   },
   {
    "duration": 317,
    "start_time": "2024-01-18T07:32:17.581Z"
   },
   {
    "duration": 5,
    "start_time": "2024-01-18T07:32:17.899Z"
   },
   {
    "duration": 20,
    "start_time": "2024-01-18T07:32:17.906Z"
   },
   {
    "duration": 78,
    "start_time": "2024-01-18T07:32:17.927Z"
   },
   {
    "duration": 27,
    "start_time": "2024-01-18T07:32:18.007Z"
   },
   {
    "duration": 176,
    "start_time": "2024-01-18T07:32:18.036Z"
   },
   {
    "duration": 152,
    "start_time": "2024-01-18T07:32:18.215Z"
   },
   {
    "duration": 124,
    "start_time": "2024-01-18T07:32:18.369Z"
   },
   {
    "duration": 77,
    "start_time": "2024-01-18T07:32:18.495Z"
   },
   {
    "duration": 158,
    "start_time": "2024-01-18T07:32:18.574Z"
   },
   {
    "duration": 43,
    "start_time": "2024-01-18T07:32:18.734Z"
   },
   {
    "duration": 92,
    "start_time": "2024-01-18T07:32:18.779Z"
   },
   {
    "duration": 6,
    "start_time": "2024-01-18T07:32:18.873Z"
   },
   {
    "duration": 128,
    "start_time": "2024-01-18T07:32:18.880Z"
   },
   {
    "duration": 5,
    "start_time": "2024-01-18T07:32:19.009Z"
   },
   {
    "duration": 105,
    "start_time": "2024-01-18T07:32:19.015Z"
   },
   {
    "duration": 8,
    "start_time": "2024-01-18T07:32:40.052Z"
   },
   {
    "duration": 94,
    "start_time": "2024-01-18T07:32:42.198Z"
   },
   {
    "duration": 6,
    "start_time": "2024-01-18T07:33:23.397Z"
   },
   {
    "duration": 190,
    "start_time": "2024-01-18T07:33:23.789Z"
   },
   {
    "duration": 5,
    "start_time": "2024-01-18T07:34:51.434Z"
   },
   {
    "duration": 101,
    "start_time": "2024-01-18T07:34:52.078Z"
   },
   {
    "duration": 6,
    "start_time": "2024-01-18T07:36:38.065Z"
   },
   {
    "duration": 119,
    "start_time": "2024-01-18T07:36:38.596Z"
   },
   {
    "duration": 5,
    "start_time": "2024-01-18T07:37:34.444Z"
   },
   {
    "duration": 120,
    "start_time": "2024-01-18T07:37:35.011Z"
   },
   {
    "duration": 1451,
    "start_time": "2024-01-18T07:45:03.021Z"
   },
   {
    "duration": 73,
    "start_time": "2024-01-18T07:45:17.466Z"
   },
   {
    "duration": 80,
    "start_time": "2024-01-18T07:45:22.427Z"
   },
   {
    "duration": 76,
    "start_time": "2024-01-18T07:46:15.474Z"
   },
   {
    "duration": 1167,
    "start_time": "2024-01-18T07:47:32.830Z"
   },
   {
    "duration": 1150,
    "start_time": "2024-01-18T07:47:45.690Z"
   },
   {
    "duration": 79,
    "start_time": "2024-01-18T07:48:51.320Z"
   },
   {
    "duration": 14,
    "start_time": "2024-01-18T07:52:18.551Z"
   },
   {
    "duration": 79,
    "start_time": "2024-01-18T07:52:23.342Z"
   },
   {
    "duration": 82,
    "start_time": "2024-01-18T07:52:46.612Z"
   },
   {
    "duration": 86,
    "start_time": "2024-01-18T07:53:35.467Z"
   },
   {
    "duration": 83,
    "start_time": "2024-01-18T07:53:44.888Z"
   },
   {
    "duration": 75,
    "start_time": "2024-01-18T07:54:11.888Z"
   },
   {
    "duration": 73,
    "start_time": "2024-01-18T07:54:18.390Z"
   },
   {
    "duration": 84,
    "start_time": "2024-01-18T07:57:39.079Z"
   },
   {
    "duration": 81,
    "start_time": "2024-01-18T07:57:46.891Z"
   },
   {
    "duration": 86,
    "start_time": "2024-01-18T07:58:25.300Z"
   },
   {
    "duration": 93,
    "start_time": "2024-01-18T07:59:58.232Z"
   },
   {
    "duration": 1309,
    "start_time": "2024-01-18T08:06:43.228Z"
   },
   {
    "duration": 1231,
    "start_time": "2024-01-18T08:07:32.717Z"
   },
   {
    "duration": 13,
    "start_time": "2024-01-18T08:09:44.749Z"
   },
   {
    "duration": 108,
    "start_time": "2024-01-18T08:09:46.578Z"
   },
   {
    "duration": 107,
    "start_time": "2024-01-18T08:13:00.796Z"
   },
   {
    "duration": 129,
    "start_time": "2024-01-18T08:18:47.748Z"
   },
   {
    "duration": 8,
    "start_time": "2024-01-18T08:22:32.463Z"
   },
   {
    "duration": 1175,
    "start_time": "2024-01-18T08:25:24.094Z"
   },
   {
    "duration": 214,
    "start_time": "2024-01-18T08:25:25.272Z"
   },
   {
    "duration": 77,
    "start_time": "2024-01-18T08:25:25.487Z"
   },
   {
    "duration": 8,
    "start_time": "2024-01-18T08:25:25.566Z"
   },
   {
    "duration": 8,
    "start_time": "2024-01-18T08:25:25.576Z"
   },
   {
    "duration": 41,
    "start_time": "2024-01-18T08:25:25.585Z"
   },
   {
    "duration": 40,
    "start_time": "2024-01-18T08:25:25.627Z"
   },
   {
    "duration": 116,
    "start_time": "2024-01-18T08:25:25.668Z"
   },
   {
    "duration": 22,
    "start_time": "2024-01-18T08:25:25.786Z"
   },
   {
    "duration": 48,
    "start_time": "2024-01-18T08:25:25.810Z"
   },
   {
    "duration": 19,
    "start_time": "2024-01-18T08:25:25.861Z"
   },
   {
    "duration": 11,
    "start_time": "2024-01-18T08:25:25.882Z"
   },
   {
    "duration": 21,
    "start_time": "2024-01-18T08:25:25.895Z"
   },
   {
    "duration": 6,
    "start_time": "2024-01-18T08:25:25.919Z"
   },
   {
    "duration": 34,
    "start_time": "2024-01-18T08:25:25.927Z"
   },
   {
    "duration": 435,
    "start_time": "2024-01-18T08:25:25.962Z"
   },
   {
    "duration": 12,
    "start_time": "2024-01-18T08:25:26.398Z"
   },
   {
    "duration": 337,
    "start_time": "2024-01-18T08:25:26.411Z"
   },
   {
    "duration": 16,
    "start_time": "2024-01-18T08:25:26.750Z"
   },
   {
    "duration": 33,
    "start_time": "2024-01-18T08:25:26.768Z"
   },
   {
    "duration": 81,
    "start_time": "2024-01-18T08:25:26.803Z"
   },
   {
    "duration": 30,
    "start_time": "2024-01-18T08:25:26.886Z"
   },
   {
    "duration": 197,
    "start_time": "2024-01-18T08:25:26.918Z"
   },
   {
    "duration": 155,
    "start_time": "2024-01-18T08:25:27.117Z"
   },
   {
    "duration": 132,
    "start_time": "2024-01-18T08:25:27.274Z"
   },
   {
    "duration": 78,
    "start_time": "2024-01-18T08:25:27.408Z"
   },
   {
    "duration": 183,
    "start_time": "2024-01-18T08:25:27.488Z"
   },
   {
    "duration": 32,
    "start_time": "2024-01-18T08:25:27.673Z"
   },
   {
    "duration": 90,
    "start_time": "2024-01-18T08:25:27.706Z"
   },
   {
    "duration": 6,
    "start_time": "2024-01-18T08:25:27.797Z"
   },
   {
    "duration": 118,
    "start_time": "2024-01-18T08:25:27.805Z"
   },
   {
    "duration": 6,
    "start_time": "2024-01-18T08:25:27.925Z"
   },
   {
    "duration": 132,
    "start_time": "2024-01-18T08:25:27.933Z"
   },
   {
    "duration": 120,
    "start_time": "2024-01-18T08:25:28.067Z"
   },
   {
    "duration": 99,
    "start_time": "2024-01-18T08:30:15.681Z"
   },
   {
    "duration": 145,
    "start_time": "2024-01-18T08:30:19.574Z"
   },
   {
    "duration": 132,
    "start_time": "2024-01-18T08:36:17.597Z"
   },
   {
    "duration": 141,
    "start_time": "2024-01-18T08:36:25.458Z"
   },
   {
    "duration": 134,
    "start_time": "2024-01-18T08:36:31.583Z"
   },
   {
    "duration": 1169,
    "start_time": "2024-01-18T08:52:35.134Z"
   },
   {
    "duration": 1233,
    "start_time": "2024-01-18T09:32:31.408Z"
   },
   {
    "duration": 511,
    "start_time": "2024-01-18T09:32:32.643Z"
   },
   {
    "duration": 60,
    "start_time": "2024-01-18T09:32:33.155Z"
   },
   {
    "duration": 5,
    "start_time": "2024-01-18T09:32:33.217Z"
   },
   {
    "duration": 13,
    "start_time": "2024-01-18T09:32:33.246Z"
   },
   {
    "duration": 42,
    "start_time": "2024-01-18T09:32:33.260Z"
   },
   {
    "duration": 29,
    "start_time": "2024-01-18T09:32:33.303Z"
   },
   {
    "duration": 96,
    "start_time": "2024-01-18T09:32:33.333Z"
   },
   {
    "duration": 21,
    "start_time": "2024-01-18T09:32:33.431Z"
   },
   {
    "duration": 42,
    "start_time": "2024-01-18T09:32:33.455Z"
   },
   {
    "duration": 12,
    "start_time": "2024-01-18T09:32:33.499Z"
   },
   {
    "duration": 27,
    "start_time": "2024-01-18T09:32:33.513Z"
   },
   {
    "duration": 32,
    "start_time": "2024-01-18T09:32:33.545Z"
   },
   {
    "duration": 11,
    "start_time": "2024-01-18T09:32:33.578Z"
   },
   {
    "duration": 6,
    "start_time": "2024-01-18T09:32:33.590Z"
   },
   {
    "duration": 399,
    "start_time": "2024-01-18T09:32:33.597Z"
   },
   {
    "duration": 11,
    "start_time": "2024-01-18T09:32:33.997Z"
   },
   {
    "duration": 314,
    "start_time": "2024-01-18T09:32:34.009Z"
   },
   {
    "duration": 4,
    "start_time": "2024-01-18T09:32:34.325Z"
   },
   {
    "duration": 36,
    "start_time": "2024-01-18T09:32:34.331Z"
   },
   {
    "duration": 57,
    "start_time": "2024-01-18T09:32:34.369Z"
   },
   {
    "duration": 49,
    "start_time": "2024-01-18T09:32:34.428Z"
   },
   {
    "duration": 351,
    "start_time": "2024-01-18T09:32:34.479Z"
   },
   {
    "duration": 143,
    "start_time": "2024-01-18T09:32:34.832Z"
   },
   {
    "duration": 107,
    "start_time": "2024-01-18T09:32:34.977Z"
   },
   {
    "duration": 70,
    "start_time": "2024-01-18T09:32:35.086Z"
   },
   {
    "duration": 147,
    "start_time": "2024-01-18T09:32:35.157Z"
   },
   {
    "duration": 39,
    "start_time": "2024-01-18T09:32:35.306Z"
   },
   {
    "duration": 88,
    "start_time": "2024-01-18T09:32:35.346Z"
   },
   {
    "duration": 8,
    "start_time": "2024-01-18T09:32:35.445Z"
   },
   {
    "duration": 149,
    "start_time": "2024-01-18T09:32:35.456Z"
   },
   {
    "duration": 9,
    "start_time": "2024-01-18T09:32:35.607Z"
   },
   {
    "duration": 129,
    "start_time": "2024-01-18T09:32:35.618Z"
   },
   {
    "duration": 111,
    "start_time": "2024-01-18T09:32:35.749Z"
   },
   {
    "duration": 141,
    "start_time": "2024-01-18T09:32:35.861Z"
   },
   {
    "duration": 12,
    "start_time": "2024-01-18T10:31:00.516Z"
   },
   {
    "duration": 1147,
    "start_time": "2024-01-18T10:32:39.032Z"
   },
   {
    "duration": 204,
    "start_time": "2024-01-18T10:32:40.181Z"
   },
   {
    "duration": 59,
    "start_time": "2024-01-18T10:32:40.387Z"
   },
   {
    "duration": 5,
    "start_time": "2024-01-18T10:32:40.462Z"
   },
   {
    "duration": 21,
    "start_time": "2024-01-18T10:32:40.469Z"
   },
   {
    "duration": 32,
    "start_time": "2024-01-18T10:32:40.491Z"
   },
   {
    "duration": 26,
    "start_time": "2024-01-18T10:32:40.524Z"
   },
   {
    "duration": 95,
    "start_time": "2024-01-18T10:32:40.551Z"
   },
   {
    "duration": 14,
    "start_time": "2024-01-18T10:32:40.661Z"
   },
   {
    "duration": 30,
    "start_time": "2024-01-18T10:32:40.678Z"
   },
   {
    "duration": 12,
    "start_time": "2024-01-18T10:32:40.709Z"
   },
   {
    "duration": 14,
    "start_time": "2024-01-18T10:32:40.722Z"
   },
   {
    "duration": 33,
    "start_time": "2024-01-18T10:32:40.737Z"
   },
   {
    "duration": 5,
    "start_time": "2024-01-18T10:32:40.772Z"
   },
   {
    "duration": 11,
    "start_time": "2024-01-18T10:32:40.778Z"
   },
   {
    "duration": 413,
    "start_time": "2024-01-18T10:32:40.790Z"
   },
   {
    "duration": 11,
    "start_time": "2024-01-18T10:32:41.204Z"
   },
   {
    "duration": 309,
    "start_time": "2024-01-18T10:32:41.216Z"
   },
   {
    "duration": 5,
    "start_time": "2024-01-18T10:32:41.526Z"
   },
   {
    "duration": 35,
    "start_time": "2024-01-18T10:32:41.532Z"
   },
   {
    "duration": 58,
    "start_time": "2024-01-18T10:32:41.569Z"
   },
   {
    "duration": 43,
    "start_time": "2024-01-18T10:32:41.628Z"
   },
   {
    "duration": 161,
    "start_time": "2024-01-18T10:32:41.672Z"
   },
   {
    "duration": 146,
    "start_time": "2024-01-18T10:32:41.835Z"
   },
   {
    "duration": 128,
    "start_time": "2024-01-18T10:32:41.983Z"
   },
   {
    "duration": 74,
    "start_time": "2024-01-18T10:32:42.112Z"
   },
   {
    "duration": 162,
    "start_time": "2024-01-18T10:32:42.187Z"
   },
   {
    "duration": 37,
    "start_time": "2024-01-18T10:32:42.353Z"
   },
   {
    "duration": 104,
    "start_time": "2024-01-18T10:32:42.391Z"
   },
   {
    "duration": 6,
    "start_time": "2024-01-18T10:32:42.496Z"
   },
   {
    "duration": 129,
    "start_time": "2024-01-18T10:32:42.504Z"
   },
   {
    "duration": 8,
    "start_time": "2024-01-18T10:32:42.635Z"
   },
   {
    "duration": 115,
    "start_time": "2024-01-18T10:32:42.657Z"
   },
   {
    "duration": 108,
    "start_time": "2024-01-18T10:32:42.773Z"
   },
   {
    "duration": 131,
    "start_time": "2024-01-18T10:32:42.883Z"
   },
   {
    "duration": 43,
    "start_time": "2024-01-18T10:41:53.128Z"
   },
   {
    "duration": 49,
    "start_time": "2024-01-18T10:42:00.289Z"
   },
   {
    "duration": 124,
    "start_time": "2024-01-18T10:44:49.830Z"
   },
   {
    "duration": 9,
    "start_time": "2024-01-18T10:45:03.102Z"
   },
   {
    "duration": 22,
    "start_time": "2024-01-18T10:45:10.693Z"
   },
   {
    "duration": 23,
    "start_time": "2024-01-18T10:45:15.976Z"
   },
   {
    "duration": 22,
    "start_time": "2024-01-18T10:45:27.289Z"
   },
   {
    "duration": 25,
    "start_time": "2024-01-18T10:47:37.762Z"
   },
   {
    "duration": 28,
    "start_time": "2024-01-18T10:48:04.903Z"
   },
   {
    "duration": 25,
    "start_time": "2024-01-18T10:48:08.387Z"
   },
   {
    "duration": 30,
    "start_time": "2024-01-18T10:48:22.747Z"
   },
   {
    "duration": 29,
    "start_time": "2024-01-18T10:49:26.450Z"
   },
   {
    "duration": 101,
    "start_time": "2024-01-18T10:50:36.186Z"
   },
   {
    "duration": 100,
    "start_time": "2024-01-18T10:50:58.542Z"
   },
   {
    "duration": 98,
    "start_time": "2024-01-18T10:51:02.577Z"
   },
   {
    "duration": 93,
    "start_time": "2024-01-18T10:51:22.382Z"
   },
   {
    "duration": 99,
    "start_time": "2024-01-18T10:51:27.394Z"
   },
   {
    "duration": 142,
    "start_time": "2024-01-18T10:51:45.445Z"
   },
   {
    "duration": 9,
    "start_time": "2024-01-18T10:53:08.416Z"
   },
   {
    "duration": 36,
    "start_time": "2024-01-18T10:53:24.143Z"
   },
   {
    "duration": 45,
    "start_time": "2024-01-18T10:54:11.538Z"
   },
   {
    "duration": 46,
    "start_time": "2024-01-18T10:55:40.163Z"
   },
   {
    "duration": 1204,
    "start_time": "2024-01-18T10:59:59.082Z"
   },
   {
    "duration": 494,
    "start_time": "2024-01-18T11:00:00.288Z"
   },
   {
    "duration": 183,
    "start_time": "2024-01-18T11:00:00.784Z"
   },
   {
    "duration": 7,
    "start_time": "2024-01-18T11:00:00.970Z"
   },
   {
    "duration": 85,
    "start_time": "2024-01-18T11:00:00.980Z"
   },
   {
    "duration": 27,
    "start_time": "2024-01-18T11:00:01.067Z"
   },
   {
    "duration": 114,
    "start_time": "2024-01-18T11:00:01.095Z"
   },
   {
    "duration": 358,
    "start_time": "2024-01-18T11:00:01.211Z"
   },
   {
    "duration": 14,
    "start_time": "2024-01-18T11:00:01.571Z"
   },
   {
    "duration": 88,
    "start_time": "2024-01-18T11:00:01.587Z"
   },
   {
    "duration": 44,
    "start_time": "2024-01-18T11:00:01.676Z"
   },
   {
    "duration": 98,
    "start_time": "2024-01-18T11:00:01.721Z"
   },
   {
    "duration": 255,
    "start_time": "2024-01-18T11:00:01.821Z"
   },
   {
    "duration": 48,
    "start_time": "2024-01-18T11:00:02.079Z"
   },
   {
    "duration": 135,
    "start_time": "2024-01-18T11:00:02.129Z"
   },
   {
    "duration": 560,
    "start_time": "2024-01-18T11:00:02.265Z"
   },
   {
    "duration": 11,
    "start_time": "2024-01-18T11:00:02.827Z"
   },
   {
    "duration": 341,
    "start_time": "2024-01-18T11:00:02.839Z"
   },
   {
    "duration": 5,
    "start_time": "2024-01-18T11:00:03.181Z"
   },
   {
    "duration": 45,
    "start_time": "2024-01-18T11:00:03.187Z"
   },
   {
    "duration": 72,
    "start_time": "2024-01-18T11:00:03.234Z"
   },
   {
    "duration": 39,
    "start_time": "2024-01-18T11:00:03.308Z"
   },
   {
    "duration": 257,
    "start_time": "2024-01-18T11:00:03.349Z"
   },
   {
    "duration": 111,
    "start_time": "2024-01-18T11:00:03.607Z"
   },
   {
    "duration": 109,
    "start_time": "2024-01-18T11:00:03.719Z"
   },
   {
    "duration": 74,
    "start_time": "2024-01-18T11:00:03.829Z"
   },
   {
    "duration": 169,
    "start_time": "2024-01-18T11:00:03.905Z"
   },
   {
    "duration": 32,
    "start_time": "2024-01-18T11:00:04.076Z"
   },
   {
    "duration": 54,
    "start_time": "2024-01-18T11:00:04.109Z"
   },
   {
    "duration": 97,
    "start_time": "2024-01-18T11:00:04.165Z"
   },
   {
    "duration": 7,
    "start_time": "2024-01-18T11:00:04.265Z"
   },
   {
    "duration": 107,
    "start_time": "2024-01-18T11:00:04.274Z"
   },
   {
    "duration": 7,
    "start_time": "2024-01-18T11:00:04.383Z"
   },
   {
    "duration": 125,
    "start_time": "2024-01-18T11:00:04.391Z"
   },
   {
    "duration": 139,
    "start_time": "2024-01-18T11:00:04.519Z"
   },
   {
    "duration": 160,
    "start_time": "2024-01-18T11:00:04.659Z"
   },
   {
    "duration": 1254,
    "start_time": "2024-01-19T05:05:12.116Z"
   },
   {
    "duration": 526,
    "start_time": "2024-01-19T05:05:13.372Z"
   },
   {
    "duration": 59,
    "start_time": "2024-01-19T05:05:13.900Z"
   },
   {
    "duration": 6,
    "start_time": "2024-01-19T05:05:13.960Z"
   },
   {
    "duration": 8,
    "start_time": "2024-01-19T05:05:13.968Z"
   },
   {
    "duration": 23,
    "start_time": "2024-01-19T05:05:13.978Z"
   },
   {
    "duration": 24,
    "start_time": "2024-01-19T05:05:14.003Z"
   },
   {
    "duration": 105,
    "start_time": "2024-01-19T05:05:14.028Z"
   },
   {
    "duration": 13,
    "start_time": "2024-01-19T05:05:14.134Z"
   },
   {
    "duration": 42,
    "start_time": "2024-01-19T05:05:14.148Z"
   },
   {
    "duration": 13,
    "start_time": "2024-01-19T05:05:14.191Z"
   },
   {
    "duration": 7,
    "start_time": "2024-01-19T05:05:14.206Z"
   },
   {
    "duration": 16,
    "start_time": "2024-01-19T05:05:14.215Z"
   },
   {
    "duration": 4,
    "start_time": "2024-01-19T05:05:14.234Z"
   },
   {
    "duration": 3,
    "start_time": "2024-01-19T05:05:14.265Z"
   },
   {
    "duration": 354,
    "start_time": "2024-01-19T05:05:14.269Z"
   },
   {
    "duration": 10,
    "start_time": "2024-01-19T05:05:14.624Z"
   },
   {
    "duration": 298,
    "start_time": "2024-01-19T05:05:14.636Z"
   },
   {
    "duration": 5,
    "start_time": "2024-01-19T05:05:14.936Z"
   },
   {
    "duration": 25,
    "start_time": "2024-01-19T05:05:14.942Z"
   },
   {
    "duration": 61,
    "start_time": "2024-01-19T05:05:14.968Z"
   },
   {
    "duration": 45,
    "start_time": "2024-01-19T05:05:15.030Z"
   },
   {
    "duration": 167,
    "start_time": "2024-01-19T05:05:15.076Z"
   },
   {
    "duration": 65,
    "start_time": "2024-01-19T05:05:15.245Z"
   },
   {
    "duration": 126,
    "start_time": "2024-01-19T05:05:15.311Z"
   },
   {
    "duration": 64,
    "start_time": "2024-01-19T05:05:15.439Z"
   },
   {
    "duration": 147,
    "start_time": "2024-01-19T05:05:15.504Z"
   },
   {
    "duration": 40,
    "start_time": "2024-01-19T05:05:15.652Z"
   },
   {
    "duration": 32,
    "start_time": "2024-01-19T05:05:15.693Z"
   },
   {
    "duration": 101,
    "start_time": "2024-01-19T05:05:15.726Z"
   },
   {
    "duration": 6,
    "start_time": "2024-01-19T05:05:15.828Z"
   },
   {
    "duration": 104,
    "start_time": "2024-01-19T05:05:15.835Z"
   },
   {
    "duration": 7,
    "start_time": "2024-01-19T05:05:15.940Z"
   },
   {
    "duration": 113,
    "start_time": "2024-01-19T05:05:15.948Z"
   },
   {
    "duration": 112,
    "start_time": "2024-01-19T05:05:16.063Z"
   },
   {
    "duration": 138,
    "start_time": "2024-01-19T05:05:16.176Z"
   },
   {
    "duration": 1256,
    "start_time": "2024-02-04T05:29:52.187Z"
   },
   {
    "duration": 534,
    "start_time": "2024-02-04T05:29:53.445Z"
   },
   {
    "duration": 60,
    "start_time": "2024-02-04T05:29:53.980Z"
   },
   {
    "duration": 12,
    "start_time": "2024-02-04T05:29:54.042Z"
   },
   {
    "duration": 8,
    "start_time": "2024-02-04T05:29:54.056Z"
   },
   {
    "duration": 27,
    "start_time": "2024-02-04T05:29:54.066Z"
   },
   {
    "duration": 25,
    "start_time": "2024-02-04T05:29:54.095Z"
   },
   {
    "duration": 107,
    "start_time": "2024-02-04T05:29:54.121Z"
   },
   {
    "duration": 13,
    "start_time": "2024-02-04T05:29:54.229Z"
   },
   {
    "duration": 35,
    "start_time": "2024-02-04T05:29:54.245Z"
   },
   {
    "duration": 13,
    "start_time": "2024-02-04T05:29:54.281Z"
   },
   {
    "duration": 11,
    "start_time": "2024-02-04T05:29:54.295Z"
   },
   {
    "duration": 19,
    "start_time": "2024-02-04T05:29:54.310Z"
   },
   {
    "duration": 5,
    "start_time": "2024-02-04T05:29:54.352Z"
   },
   {
    "duration": 4,
    "start_time": "2024-02-04T05:29:54.359Z"
   },
   {
    "duration": 366,
    "start_time": "2024-02-04T05:29:54.365Z"
   },
   {
    "duration": 10,
    "start_time": "2024-02-04T05:29:54.732Z"
   },
   {
    "duration": 278,
    "start_time": "2024-02-04T05:29:54.752Z"
   },
   {
    "duration": 4,
    "start_time": "2024-02-04T05:29:55.032Z"
   },
   {
    "duration": 27,
    "start_time": "2024-02-04T05:29:55.038Z"
   },
   {
    "duration": 86,
    "start_time": "2024-02-04T05:29:55.066Z"
   },
   {
    "duration": 27,
    "start_time": "2024-02-04T05:29:55.153Z"
   },
   {
    "duration": 167,
    "start_time": "2024-02-04T05:29:55.182Z"
   },
   {
    "duration": 109,
    "start_time": "2024-02-04T05:29:55.351Z"
   },
   {
    "duration": 98,
    "start_time": "2024-02-04T05:29:55.462Z"
   },
   {
    "duration": 54,
    "start_time": "2024-02-04T05:29:55.561Z"
   },
   {
    "duration": 143,
    "start_time": "2024-02-04T05:29:55.616Z"
   },
   {
    "duration": 29,
    "start_time": "2024-02-04T05:29:55.762Z"
   },
   {
    "duration": 29,
    "start_time": "2024-02-04T05:29:55.793Z"
   },
   {
    "duration": 90,
    "start_time": "2024-02-04T05:29:55.823Z"
   },
   {
    "duration": 6,
    "start_time": "2024-02-04T05:29:55.914Z"
   },
   {
    "duration": 104,
    "start_time": "2024-02-04T05:29:55.921Z"
   },
   {
    "duration": 7,
    "start_time": "2024-02-04T05:29:56.026Z"
   },
   {
    "duration": 105,
    "start_time": "2024-02-04T05:29:56.034Z"
   },
   {
    "duration": 100,
    "start_time": "2024-02-04T05:29:56.141Z"
   },
   {
    "duration": 144,
    "start_time": "2024-02-04T05:29:56.242Z"
   },
   {
    "duration": 1410,
    "start_time": "2024-02-07T17:50:13.954Z"
   },
   {
    "duration": 571,
    "start_time": "2024-02-07T17:50:15.366Z"
   },
   {
    "duration": 71,
    "start_time": "2024-02-07T17:50:15.938Z"
   },
   {
    "duration": 15,
    "start_time": "2024-02-07T17:50:16.010Z"
   },
   {
    "duration": 10,
    "start_time": "2024-02-07T17:50:16.028Z"
   },
   {
    "duration": 29,
    "start_time": "2024-02-07T17:50:16.040Z"
   },
   {
    "duration": 55,
    "start_time": "2024-02-07T17:50:16.071Z"
   },
   {
    "duration": 111,
    "start_time": "2024-02-07T17:50:16.127Z"
   },
   {
    "duration": 37,
    "start_time": "2024-02-07T17:50:16.239Z"
   },
   {
    "duration": 15,
    "start_time": "2024-02-07T17:50:16.277Z"
   },
   {
    "duration": 31,
    "start_time": "2024-02-07T17:50:16.294Z"
   },
   {
    "duration": 20,
    "start_time": "2024-02-07T17:50:16.327Z"
   },
   {
    "duration": 6,
    "start_time": "2024-02-07T17:50:16.349Z"
   },
   {
    "duration": 32,
    "start_time": "2024-02-07T17:50:16.357Z"
   },
   {
    "duration": 432,
    "start_time": "2024-02-07T17:50:16.391Z"
   },
   {
    "duration": 12,
    "start_time": "2024-02-07T17:50:16.825Z"
   },
   {
    "duration": 390,
    "start_time": "2024-02-07T17:50:16.839Z"
   },
   {
    "duration": 6,
    "start_time": "2024-02-07T17:50:17.231Z"
   },
   {
    "duration": 20,
    "start_time": "2024-02-07T17:50:17.239Z"
   },
   {
    "duration": 92,
    "start_time": "2024-02-07T17:50:17.261Z"
   },
   {
    "duration": 32,
    "start_time": "2024-02-07T17:50:17.354Z"
   },
   {
    "duration": 287,
    "start_time": "2024-02-07T17:50:17.388Z"
   },
   {
    "duration": 96,
    "start_time": "2024-02-07T17:50:17.677Z"
   },
   {
    "duration": 14,
    "start_time": "2024-02-07T17:50:17.823Z"
   },
   {
    "duration": 85,
    "start_time": "2024-02-07T17:50:17.839Z"
   },
   {
    "duration": 170,
    "start_time": "2024-02-07T17:50:17.926Z"
   },
   {
    "duration": 49,
    "start_time": "2024-02-07T17:50:18.098Z"
   },
   {
    "duration": 36,
    "start_time": "2024-02-07T17:50:18.149Z"
   },
   {
    "duration": 119,
    "start_time": "2024-02-07T17:50:18.187Z"
   },
   {
    "duration": 17,
    "start_time": "2024-02-07T17:50:18.308Z"
   },
   {
    "duration": 134,
    "start_time": "2024-02-07T17:50:18.327Z"
   },
   {
    "duration": 9,
    "start_time": "2024-02-07T17:50:18.463Z"
   },
   {
    "duration": 133,
    "start_time": "2024-02-07T17:50:18.474Z"
   },
   {
    "duration": 127,
    "start_time": "2024-02-07T17:50:18.609Z"
   },
   {
    "duration": 157,
    "start_time": "2024-02-07T17:50:18.737Z"
   },
   {
    "duration": 11,
    "start_time": "2024-02-07T17:50:38.903Z"
   },
   {
    "duration": 13,
    "start_time": "2024-02-07T17:50:49.139Z"
   },
   {
    "duration": 14,
    "start_time": "2024-02-07T17:51:31.837Z"
   },
   {
    "duration": 28,
    "start_time": "2024-02-07T17:51:37.081Z"
   },
   {
    "duration": 39,
    "start_time": "2024-02-07T17:51:40.842Z"
   },
   {
    "duration": 11,
    "start_time": "2024-02-07T17:51:53.129Z"
   },
   {
    "duration": 10,
    "start_time": "2024-02-07T17:52:38.965Z"
   },
   {
    "duration": 1203,
    "start_time": "2024-02-07T17:52:45.751Z"
   },
   {
    "duration": 233,
    "start_time": "2024-02-07T17:52:46.956Z"
   },
   {
    "duration": 81,
    "start_time": "2024-02-07T17:52:47.191Z"
   },
   {
    "duration": 5,
    "start_time": "2024-02-07T17:52:47.274Z"
   },
   {
    "duration": 12,
    "start_time": "2024-02-07T17:52:47.281Z"
   },
   {
    "duration": 41,
    "start_time": "2024-02-07T17:52:47.294Z"
   },
   {
    "duration": 29,
    "start_time": "2024-02-07T17:52:47.337Z"
   },
   {
    "duration": 120,
    "start_time": "2024-02-07T17:52:47.368Z"
   },
   {
    "duration": 47,
    "start_time": "2024-02-07T17:52:47.490Z"
   },
   {
    "duration": 15,
    "start_time": "2024-02-07T17:52:47.541Z"
   },
   {
    "duration": 6,
    "start_time": "2024-02-07T17:52:47.558Z"
   },
   {
    "duration": 23,
    "start_time": "2024-02-07T17:52:47.566Z"
   },
   {
    "duration": 6,
    "start_time": "2024-02-07T17:52:47.591Z"
   },
   {
    "duration": 3,
    "start_time": "2024-02-07T17:52:47.624Z"
   },
   {
    "duration": 422,
    "start_time": "2024-02-07T17:52:47.629Z"
   },
   {
    "duration": 11,
    "start_time": "2024-02-07T17:52:48.053Z"
   },
   {
    "duration": 346,
    "start_time": "2024-02-07T17:52:48.066Z"
   },
   {
    "duration": 10,
    "start_time": "2024-02-07T17:52:48.413Z"
   },
   {
    "duration": 24,
    "start_time": "2024-02-07T17:52:48.425Z"
   },
   {
    "duration": 90,
    "start_time": "2024-02-07T17:52:48.451Z"
   },
   {
    "duration": 32,
    "start_time": "2024-02-07T17:52:48.543Z"
   },
   {
    "duration": 174,
    "start_time": "2024-02-07T17:52:48.576Z"
   },
   {
    "duration": 105,
    "start_time": "2024-02-07T17:52:48.752Z"
   },
   {
    "duration": 136,
    "start_time": "2024-02-07T17:52:48.858Z"
   },
   {
    "duration": 74,
    "start_time": "2024-02-07T17:52:48.995Z"
   },
   {
    "duration": 170,
    "start_time": "2024-02-07T17:52:49.070Z"
   },
   {
    "duration": 35,
    "start_time": "2024-02-07T17:52:49.242Z"
   },
   {
    "duration": 54,
    "start_time": "2024-02-07T17:52:49.280Z"
   },
   {
    "duration": 96,
    "start_time": "2024-02-07T17:52:49.335Z"
   },
   {
    "duration": 7,
    "start_time": "2024-02-07T17:52:49.432Z"
   },
   {
    "duration": 127,
    "start_time": "2024-02-07T17:52:49.440Z"
   },
   {
    "duration": 8,
    "start_time": "2024-02-07T17:52:49.569Z"
   },
   {
    "duration": 132,
    "start_time": "2024-02-07T17:52:49.579Z"
   },
   {
    "duration": 139,
    "start_time": "2024-02-07T17:52:49.713Z"
   },
   {
    "duration": 161,
    "start_time": "2024-02-07T17:52:49.854Z"
   },
   {
    "duration": 171,
    "start_time": "2024-02-07T17:54:03.697Z"
   },
   {
    "duration": 178,
    "start_time": "2024-02-07T17:54:06.322Z"
   },
   {
    "duration": 161,
    "start_time": "2024-02-07T17:56:40.558Z"
   },
   {
    "duration": 181,
    "start_time": "2024-02-07T17:57:04.308Z"
   },
   {
    "duration": 277,
    "start_time": "2024-02-07T17:59:06.853Z"
   },
   {
    "duration": 208,
    "start_time": "2024-02-07T17:59:36.930Z"
   },
   {
    "duration": 210,
    "start_time": "2024-02-07T18:00:19.149Z"
   },
   {
    "duration": 220,
    "start_time": "2024-02-07T18:00:36.920Z"
   },
   {
    "duration": 3,
    "start_time": "2024-02-07T18:01:41.715Z"
   },
   {
    "duration": 190,
    "start_time": "2024-02-07T18:04:54.980Z"
   },
   {
    "duration": 95,
    "start_time": "2024-02-07T18:05:13.911Z"
   },
   {
    "duration": 685,
    "start_time": "2024-02-07T18:06:22.647Z"
   },
   {
    "duration": 216,
    "start_time": "2024-02-07T18:07:04.004Z"
   },
   {
    "duration": 204,
    "start_time": "2024-02-07T18:07:18.504Z"
   },
   {
    "duration": 232,
    "start_time": "2024-02-07T18:07:30.009Z"
   },
   {
    "duration": 2,
    "start_time": "2024-02-07T18:08:29.742Z"
   },
   {
    "duration": 190,
    "start_time": "2024-02-07T18:09:31.599Z"
   },
   {
    "duration": 216,
    "start_time": "2024-02-07T18:10:11.415Z"
   },
   {
    "duration": 207,
    "start_time": "2024-02-07T18:10:18.097Z"
   },
   {
    "duration": 8,
    "start_time": "2024-02-07T18:17:52.513Z"
   }
  ],
  "kernelspec": {
   "display_name": "Python 3 (ipykernel)",
   "language": "python",
   "name": "python3"
  },
  "language_info": {
   "codemirror_mode": {
    "name": "ipython",
    "version": 3
   },
   "file_extension": ".py",
   "mimetype": "text/x-python",
   "name": "python",
   "nbconvert_exporter": "python",
   "pygments_lexer": "ipython3",
   "version": "3.11.5"
  },
  "toc": {
   "base_numbering": 1,
   "nav_menu": {},
   "number_sections": true,
   "sideBar": true,
   "skip_h1_title": true,
   "title_cell": "Table of Contents",
   "title_sidebar": "Contents",
   "toc_cell": false,
   "toc_position": {
    "height": "calc(100% - 180px)",
    "left": "10px",
    "top": "150px",
    "width": "243.75px"
   },
   "toc_section_display": true,
   "toc_window_display": true
  }
 },
 "nbformat": 4,
 "nbformat_minor": 2
}
