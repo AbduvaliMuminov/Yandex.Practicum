{
 "cells": [
  {
   "cell_type": "markdown",
   "id": "44bf3dcc",
   "metadata": {},
   "source": [
    " # Статистический анализ данных и проверка гипотез. \n",
    " В нашем распоряжении данные о некоторых пользовательях их нескольки городов популярного сервиса аренды самокатов GoFAst. \n",
    " \n",
    "Сервисом можно пользоваться:\n",
    " - без подписки\n",
    "    - абонентская плата отсутствует;\n",
    "    - стоимость одной минуты поездки — 8 рублей;\n",
    "    - стоимость старта (начала поездки) — 50 рублей;\n",
    " - с подпиской Ultra\n",
    "    - абонентская плата — 199 рублей в месяц;\n",
    "    - стоимость одной минуты поездки — 6 рублей;\n",
    "    - стоимость старта — бесплатно.\n",
    "    \n",
    "Нам предоставленны следующие данные: \n",
    "- Пользователи — `user_id`, `name`, `age`, `city`, `subscription_type`\n",
    "- Поездки —  `user_id`, `distance`, `duration`, `date`\n",
    "- Подписки —  `subscription_type`, `minute_price`, `start_ride_price`, `subscription_fee`\n",
    "\n",
    "Ход работы: \n",
    "1. Обзор данных;\n",
    "2. Предобработка данных;\n",
    "3. Исследовательский анализ данных;\n",
    "4. Объединение данных;\n",
    "5. Подсчет выручки;\n",
    "5. Проверка гипотез.\n",
    "\n"
   ]
  },
  {
   "cell_type": "markdown",
   "id": "8a18b123",
   "metadata": {},
   "source": [
    "## Обзор данных"
   ]
  },
  {
   "cell_type": "code",
   "execution_count": 1,
   "id": "7aa18afe",
   "metadata": {},
   "outputs": [],
   "source": [
    "# импорт библиотек \n",
    "import pandas as pd\n",
    "import numpy as np\n",
    "import matplotlib.pyplot as plt\n",
    "import seaborn as sns\n",
    "from scipy import stats as st\n",
    "from math import factorial"
   ]
  },
  {
   "cell_type": "code",
   "execution_count": 2,
   "id": "4c02fda3",
   "metadata": {},
   "outputs": [],
   "source": [
    "# читаем файлы\n",
    "users = pd.read_csv('/datasets/users_go.csv')\n",
    "rides = pd.read_csv('/datasets/rides_go.csv')\n",
    "subs = pd.read_csv('/datasets/subscriptions_go.csv')"
   ]
  },
  {
   "cell_type": "code",
   "execution_count": 3,
   "id": "22242774",
   "metadata": {},
   "outputs": [
    {
     "name": "stdout",
     "output_type": "stream",
     "text": [
      "<class 'pandas.core.frame.DataFrame'>\n",
      "RangeIndex: 1565 entries, 0 to 1564\n",
      "Data columns (total 5 columns):\n",
      " #   Column             Non-Null Count  Dtype \n",
      "---  ------             --------------  ----- \n",
      " 0   user_id            1565 non-null   int64 \n",
      " 1   name               1565 non-null   object\n",
      " 2   age                1565 non-null   int64 \n",
      " 3   city               1565 non-null   object\n",
      " 4   subscription_type  1565 non-null   object\n",
      "dtypes: int64(2), object(3)\n",
      "memory usage: 61.3+ KB\n"
     ]
    },
    {
     "data": {
      "text/html": [
       "<div>\n",
       "<style scoped>\n",
       "    .dataframe tbody tr th:only-of-type {\n",
       "        vertical-align: middle;\n",
       "    }\n",
       "\n",
       "    .dataframe tbody tr th {\n",
       "        vertical-align: top;\n",
       "    }\n",
       "\n",
       "    .dataframe thead th {\n",
       "        text-align: right;\n",
       "    }\n",
       "</style>\n",
       "<table border=\"1\" class=\"dataframe\">\n",
       "  <thead>\n",
       "    <tr style=\"text-align: right;\">\n",
       "      <th></th>\n",
       "      <th>user_id</th>\n",
       "      <th>name</th>\n",
       "      <th>age</th>\n",
       "      <th>city</th>\n",
       "      <th>subscription_type</th>\n",
       "    </tr>\n",
       "  </thead>\n",
       "  <tbody>\n",
       "    <tr>\n",
       "      <th>0</th>\n",
       "      <td>1</td>\n",
       "      <td>Кира</td>\n",
       "      <td>22</td>\n",
       "      <td>Тюмень</td>\n",
       "      <td>ultra</td>\n",
       "    </tr>\n",
       "    <tr>\n",
       "      <th>1</th>\n",
       "      <td>2</td>\n",
       "      <td>Станислав</td>\n",
       "      <td>31</td>\n",
       "      <td>Омск</td>\n",
       "      <td>ultra</td>\n",
       "    </tr>\n",
       "    <tr>\n",
       "      <th>2</th>\n",
       "      <td>3</td>\n",
       "      <td>Алексей</td>\n",
       "      <td>20</td>\n",
       "      <td>Москва</td>\n",
       "      <td>ultra</td>\n",
       "    </tr>\n",
       "    <tr>\n",
       "      <th>3</th>\n",
       "      <td>4</td>\n",
       "      <td>Константин</td>\n",
       "      <td>26</td>\n",
       "      <td>Ростов-на-Дону</td>\n",
       "      <td>ultra</td>\n",
       "    </tr>\n",
       "    <tr>\n",
       "      <th>4</th>\n",
       "      <td>5</td>\n",
       "      <td>Адель</td>\n",
       "      <td>28</td>\n",
       "      <td>Омск</td>\n",
       "      <td>ultra</td>\n",
       "    </tr>\n",
       "  </tbody>\n",
       "</table>\n",
       "</div>"
      ],
      "text/plain": [
       "   user_id        name  age            city subscription_type\n",
       "0        1        Кира   22          Тюмень             ultra\n",
       "1        2   Станислав   31            Омск             ultra\n",
       "2        3     Алексей   20          Москва             ultra\n",
       "3        4  Константин   26  Ростов-на-Дону             ultra\n",
       "4        5       Адель   28            Омск             ultra"
      ]
     },
     "execution_count": 3,
     "metadata": {},
     "output_type": "execute_result"
    }
   ],
   "source": [
    "users.info()\n",
    "users.head()"
   ]
  },
  {
   "cell_type": "code",
   "execution_count": 4,
   "id": "e117105e",
   "metadata": {},
   "outputs": [
    {
     "name": "stdout",
     "output_type": "stream",
     "text": [
      "<class 'pandas.core.frame.DataFrame'>\n",
      "RangeIndex: 18068 entries, 0 to 18067\n",
      "Data columns (total 4 columns):\n",
      " #   Column    Non-Null Count  Dtype  \n",
      "---  ------    --------------  -----  \n",
      " 0   user_id   18068 non-null  int64  \n",
      " 1   distance  18068 non-null  float64\n",
      " 2   duration  18068 non-null  float64\n",
      " 3   date      18068 non-null  object \n",
      "dtypes: float64(2), int64(1), object(1)\n",
      "memory usage: 564.8+ KB\n"
     ]
    },
    {
     "data": {
      "text/html": [
       "<div>\n",
       "<style scoped>\n",
       "    .dataframe tbody tr th:only-of-type {\n",
       "        vertical-align: middle;\n",
       "    }\n",
       "\n",
       "    .dataframe tbody tr th {\n",
       "        vertical-align: top;\n",
       "    }\n",
       "\n",
       "    .dataframe thead th {\n",
       "        text-align: right;\n",
       "    }\n",
       "</style>\n",
       "<table border=\"1\" class=\"dataframe\">\n",
       "  <thead>\n",
       "    <tr style=\"text-align: right;\">\n",
       "      <th></th>\n",
       "      <th>user_id</th>\n",
       "      <th>distance</th>\n",
       "      <th>duration</th>\n",
       "      <th>date</th>\n",
       "    </tr>\n",
       "  </thead>\n",
       "  <tbody>\n",
       "    <tr>\n",
       "      <th>0</th>\n",
       "      <td>1</td>\n",
       "      <td>4409.919140</td>\n",
       "      <td>25.599769</td>\n",
       "      <td>2021-01-01</td>\n",
       "    </tr>\n",
       "    <tr>\n",
       "      <th>1</th>\n",
       "      <td>1</td>\n",
       "      <td>2617.592153</td>\n",
       "      <td>15.816871</td>\n",
       "      <td>2021-01-18</td>\n",
       "    </tr>\n",
       "    <tr>\n",
       "      <th>2</th>\n",
       "      <td>1</td>\n",
       "      <td>754.159807</td>\n",
       "      <td>6.232113</td>\n",
       "      <td>2021-04-20</td>\n",
       "    </tr>\n",
       "    <tr>\n",
       "      <th>3</th>\n",
       "      <td>1</td>\n",
       "      <td>2694.783254</td>\n",
       "      <td>18.511000</td>\n",
       "      <td>2021-08-11</td>\n",
       "    </tr>\n",
       "    <tr>\n",
       "      <th>4</th>\n",
       "      <td>1</td>\n",
       "      <td>4028.687306</td>\n",
       "      <td>26.265803</td>\n",
       "      <td>2021-08-28</td>\n",
       "    </tr>\n",
       "  </tbody>\n",
       "</table>\n",
       "</div>"
      ],
      "text/plain": [
       "   user_id     distance   duration        date\n",
       "0        1  4409.919140  25.599769  2021-01-01\n",
       "1        1  2617.592153  15.816871  2021-01-18\n",
       "2        1   754.159807   6.232113  2021-04-20\n",
       "3        1  2694.783254  18.511000  2021-08-11\n",
       "4        1  4028.687306  26.265803  2021-08-28"
      ]
     },
     "execution_count": 4,
     "metadata": {},
     "output_type": "execute_result"
    }
   ],
   "source": [
    "rides.info()\n",
    "rides.head()"
   ]
  },
  {
   "cell_type": "code",
   "execution_count": 5,
   "id": "7363c7d7",
   "metadata": {},
   "outputs": [
    {
     "name": "stdout",
     "output_type": "stream",
     "text": [
      "<class 'pandas.core.frame.DataFrame'>\n",
      "RangeIndex: 2 entries, 0 to 1\n",
      "Data columns (total 4 columns):\n",
      " #   Column             Non-Null Count  Dtype \n",
      "---  ------             --------------  ----- \n",
      " 0   subscription_type  2 non-null      object\n",
      " 1   minute_price       2 non-null      int64 \n",
      " 2   start_ride_price   2 non-null      int64 \n",
      " 3   subscription_fee   2 non-null      int64 \n",
      "dtypes: int64(3), object(1)\n",
      "memory usage: 192.0+ bytes\n"
     ]
    },
    {
     "data": {
      "text/html": [
       "<div>\n",
       "<style scoped>\n",
       "    .dataframe tbody tr th:only-of-type {\n",
       "        vertical-align: middle;\n",
       "    }\n",
       "\n",
       "    .dataframe tbody tr th {\n",
       "        vertical-align: top;\n",
       "    }\n",
       "\n",
       "    .dataframe thead th {\n",
       "        text-align: right;\n",
       "    }\n",
       "</style>\n",
       "<table border=\"1\" class=\"dataframe\">\n",
       "  <thead>\n",
       "    <tr style=\"text-align: right;\">\n",
       "      <th></th>\n",
       "      <th>subscription_type</th>\n",
       "      <th>minute_price</th>\n",
       "      <th>start_ride_price</th>\n",
       "      <th>subscription_fee</th>\n",
       "    </tr>\n",
       "  </thead>\n",
       "  <tbody>\n",
       "    <tr>\n",
       "      <th>0</th>\n",
       "      <td>free</td>\n",
       "      <td>8</td>\n",
       "      <td>50</td>\n",
       "      <td>0</td>\n",
       "    </tr>\n",
       "    <tr>\n",
       "      <th>1</th>\n",
       "      <td>ultra</td>\n",
       "      <td>6</td>\n",
       "      <td>0</td>\n",
       "      <td>199</td>\n",
       "    </tr>\n",
       "  </tbody>\n",
       "</table>\n",
       "</div>"
      ],
      "text/plain": [
       "  subscription_type  minute_price  start_ride_price  subscription_fee\n",
       "0              free             8                50                 0\n",
       "1             ultra             6                 0               199"
      ]
     },
     "execution_count": 5,
     "metadata": {},
     "output_type": "execute_result"
    }
   ],
   "source": [
    "subs.info()\n",
    "subs.head()"
   ]
  },
  {
   "cell_type": "markdown",
   "id": "23174df4",
   "metadata": {},
   "source": [
    "**Вывод**\n",
    "\n",
    "Ознакомились со всеми таблицами и обнаружили минимальные погрешности. Например, данные в столбце 'date' таблицы поездок сохранены как object, что не является оптимальным. На этапе предобработки будем работать с дубликатами и пропусками, а также исправим ошибку в типе данных столбца 'date'."
   ]
  },
  {
   "cell_type": "markdown",
   "id": "5f2e0932",
   "metadata": {},
   "source": [
    "## Предобработка данных\n",
    "* Приведем столбец date к типу даты pandas.\n",
    "* Создадим новый столбец с номером месяца на основе столбца date.\n",
    "* Проверим наличие пропущенных значений и дубликатов в датафреймах. "
   ]
  },
  {
   "cell_type": "markdown",
   "id": "ed63292d",
   "metadata": {},
   "source": [
    "### Приведем столбец `date` к типу даты"
   ]
  },
  {
   "cell_type": "code",
   "execution_count": 6,
   "id": "32130854",
   "metadata": {},
   "outputs": [],
   "source": [
    "# приведем данные к типу datetime\n",
    "rides['date'] = pd.to_datetime(rides['date'], format='%Y-%m-%dT%H:%M:%S')"
   ]
  },
  {
   "cell_type": "markdown",
   "id": "8cec371b",
   "metadata": {},
   "source": [
    "### Создадим новый столбец с номером месяца на основе столбца 'date'."
   ]
  },
  {
   "cell_type": "code",
   "execution_count": 7,
   "id": "bcebcb16",
   "metadata": {},
   "outputs": [],
   "source": [
    "# добавим столбец с номерами месяца \n",
    "rides['month'] = rides['date'].dt.month"
   ]
  },
  {
   "cell_type": "markdown",
   "id": "178c5635",
   "metadata": {},
   "source": [
    "### Проверим на наличие пропусков и дубликатов"
   ]
  },
  {
   "cell_type": "code",
   "execution_count": 8,
   "id": "7d1a8187",
   "metadata": {},
   "outputs": [
    {
     "data": {
      "text/plain": [
       "count    18068.000000\n",
       "mean      3070.659976\n",
       "std       1116.831209\n",
       "min          0.855683\n",
       "25%       2543.226360\n",
       "50%       3133.609994\n",
       "75%       3776.222735\n",
       "max       7211.007745\n",
       "Name: distance, dtype: float64"
      ]
     },
     "execution_count": 8,
     "metadata": {},
     "output_type": "execute_result"
    }
   ],
   "source": [
    "rides['distance'].describe()"
   ]
  },
  {
   "cell_type": "markdown",
   "id": "5923dfac",
   "metadata": {},
   "source": [
    "Пропусков нет. Скорее всего данные в метрах, по этому для удобства перезапишем их в км. и огрулим до 2х значения после точки."
   ]
  },
  {
   "cell_type": "code",
   "execution_count": 9,
   "id": "23bc2765",
   "metadata": {},
   "outputs": [],
   "source": [
    "rides['distance'] = (rides['distance'] / 1000).round(2)"
   ]
  },
  {
   "cell_type": "markdown",
   "id": "eb52ec11",
   "metadata": {},
   "source": [
    "То же самое можно сделать и со столбцом 'duration'. Округлим до 2х значений после точки. "
   ]
  },
  {
   "cell_type": "code",
   "execution_count": 10,
   "id": "e1d686bb",
   "metadata": {},
   "outputs": [
    {
     "data": {
      "text/html": [
       "<div>\n",
       "<style scoped>\n",
       "    .dataframe tbody tr th:only-of-type {\n",
       "        vertical-align: middle;\n",
       "    }\n",
       "\n",
       "    .dataframe tbody tr th {\n",
       "        vertical-align: top;\n",
       "    }\n",
       "\n",
       "    .dataframe thead th {\n",
       "        text-align: right;\n",
       "    }\n",
       "</style>\n",
       "<table border=\"1\" class=\"dataframe\">\n",
       "  <thead>\n",
       "    <tr style=\"text-align: right;\">\n",
       "      <th></th>\n",
       "      <th>user_id</th>\n",
       "      <th>distance</th>\n",
       "      <th>duration</th>\n",
       "      <th>date</th>\n",
       "      <th>month</th>\n",
       "    </tr>\n",
       "  </thead>\n",
       "  <tbody>\n",
       "    <tr>\n",
       "      <th>0</th>\n",
       "      <td>1</td>\n",
       "      <td>4.41</td>\n",
       "      <td>25.60</td>\n",
       "      <td>2021-01-01</td>\n",
       "      <td>1</td>\n",
       "    </tr>\n",
       "    <tr>\n",
       "      <th>1</th>\n",
       "      <td>1</td>\n",
       "      <td>2.62</td>\n",
       "      <td>15.82</td>\n",
       "      <td>2021-01-18</td>\n",
       "      <td>1</td>\n",
       "    </tr>\n",
       "    <tr>\n",
       "      <th>2</th>\n",
       "      <td>1</td>\n",
       "      <td>0.75</td>\n",
       "      <td>6.23</td>\n",
       "      <td>2021-04-20</td>\n",
       "      <td>4</td>\n",
       "    </tr>\n",
       "    <tr>\n",
       "      <th>3</th>\n",
       "      <td>1</td>\n",
       "      <td>2.69</td>\n",
       "      <td>18.51</td>\n",
       "      <td>2021-08-11</td>\n",
       "      <td>8</td>\n",
       "    </tr>\n",
       "    <tr>\n",
       "      <th>4</th>\n",
       "      <td>1</td>\n",
       "      <td>4.03</td>\n",
       "      <td>26.27</td>\n",
       "      <td>2021-08-28</td>\n",
       "      <td>8</td>\n",
       "    </tr>\n",
       "  </tbody>\n",
       "</table>\n",
       "</div>"
      ],
      "text/plain": [
       "   user_id  distance  duration       date  month\n",
       "0        1      4.41     25.60 2021-01-01      1\n",
       "1        1      2.62     15.82 2021-01-18      1\n",
       "2        1      0.75      6.23 2021-04-20      4\n",
       "3        1      2.69     18.51 2021-08-11      8\n",
       "4        1      4.03     26.27 2021-08-28      8"
      ]
     },
     "execution_count": 10,
     "metadata": {},
     "output_type": "execute_result"
    }
   ],
   "source": [
    "rides['duration'] = rides['duration'].round(2)\n",
    "rides.head()"
   ]
  },
  {
   "cell_type": "code",
   "execution_count": 11,
   "id": "4a9fdb9d",
   "metadata": {},
   "outputs": [
    {
     "data": {
      "text/plain": [
       "count    18068.000000\n",
       "mean        17.805017\n",
       "std          6.091071\n",
       "min          0.500000\n",
       "25%         13.600000\n",
       "50%         17.680000\n",
       "75%         21.722500\n",
       "max         40.820000\n",
       "Name: duration, dtype: float64"
      ]
     },
     "execution_count": 11,
     "metadata": {},
     "output_type": "execute_result"
    }
   ],
   "source": [
    "rides.duration.describe()"
   ]
  },
  {
   "cell_type": "markdown",
   "id": "4df084fc",
   "metadata": {},
   "source": [
    "Видны поездки меньше минуты."
   ]
  },
  {
   "cell_type": "code",
   "execution_count": 12,
   "id": "16af4420",
   "metadata": {},
   "outputs": [
    {
     "data": {
      "text/plain": [
       "95"
      ]
     },
     "execution_count": 12,
     "metadata": {},
     "output_type": "execute_result"
    }
   ],
   "source": [
    "# проверим сколько поездок меньше минуты, если мало, можем избавится от них\n",
    "len(rides.loc[rides['duration'] < 1])"
   ]
  },
  {
   "cell_type": "code",
   "execution_count": 13,
   "id": "abb1f14a",
   "metadata": {},
   "outputs": [],
   "source": [
    "# удаляем эти значения из стобца \n",
    "rides.drop(rides.loc[rides['duration'] < 1].index, inplace=True)\n",
    "rides = rides.reset_index(drop=True) #сбрасываем индексы"
   ]
  },
  {
   "cell_type": "markdown",
   "id": "b8642510",
   "metadata": {},
   "source": [
    "Проспусков в датафреймах не выявлено. "
   ]
  },
  {
   "cell_type": "code",
   "execution_count": 14,
   "id": "b089ece4",
   "metadata": {},
   "outputs": [
    {
     "data": {
      "text/plain": [
       "31"
      ]
     },
     "execution_count": 14,
     "metadata": {},
     "output_type": "execute_result"
    }
   ],
   "source": [
    "# проверим наличие дубликатов в столбце пользователей\n",
    "users.user_id.duplicated().sum()"
   ]
  },
  {
   "cell_type": "code",
   "execution_count": 15,
   "id": "11dde3b5",
   "metadata": {},
   "outputs": [],
   "source": [
    "# удалим дубликаты \n",
    "users = users.drop_duplicates()\n",
    "users = users.reset_index(drop=True)"
   ]
  },
  {
   "cell_type": "markdown",
   "id": "e26fce51",
   "metadata": {},
   "source": [
    "**Вывод**\n",
    "\n",
    "- Преобразовал данные в столбце 'date' в формат даты.\n",
    "- Добавил столбец с месяцем поездки.\n",
    "- Преобразовал данные в столбцах с расстоянием и продолжительностью поездок в удобный и читабельный формат."
   ]
  },
  {
   "cell_type": "markdown",
   "id": "53623dc3",
   "metadata": {},
   "source": [
    "## Исследовательский анализ данных\n",
    "\n",
    "Визуализируем общую информацию о пользователях и поездках:\n",
    "* частота встречаемости городов;\n",
    "* соотношение пользователей с подпиской и без подписки;\n",
    "* возраст пользователей;\n",
    "* расстояние, которое пользователь преодолел за одну поездку;\n",
    "* продолжительность поездок."
   ]
  },
  {
   "cell_type": "markdown",
   "id": "b7239016",
   "metadata": {},
   "source": [
    "### Частота встречаемости поездок\n",
    "Покажем общую информацию о пользователях и поездках на графике. "
   ]
  },
  {
   "cell_type": "code",
   "execution_count": 16,
   "id": "2c88a663",
   "metadata": {},
   "outputs": [
    {
     "data": {
      "text/plain": [
       "Пятигорск         219\n",
       "Екатеринбург      204\n",
       "Ростов-на-Дону    198\n",
       "Краснодар         193\n",
       "Сочи              189\n",
       "Омск              183\n",
       "Тюмень            180\n",
       "Москва            168\n",
       "Name: city, dtype: int64"
      ]
     },
     "execution_count": 16,
     "metadata": {},
     "output_type": "execute_result"
    }
   ],
   "source": [
    "table = users['city'].value_counts()\n",
    "table"
   ]
  },
  {
   "cell_type": "code",
   "execution_count": 17,
   "id": "d9f4fb03",
   "metadata": {},
   "outputs": [
    {
     "data": {
      "image/png": "[encoded data removed]",
      "text/plain": [
       "<Figure size 864x360 with 1 Axes>"
      ]
     },
     "metadata": {
      "needs_background": "light"
     },
     "output_type": "display_data"
    }
   ],
   "source": [
    "# создаем график \n",
    "table.plot(kind='barh', figsize=(12, 5))\n",
    "plt.title('Количество поездок в разных городах')\n",
    "plt.xlabel('Частота')\n",
    "plt.ylabel('Города')\n",
    "plt.grid(True)\n",
    "plt.show()"
   ]
  },
  {
   "cell_type": "markdown",
   "id": "74107d87",
   "metadata": {},
   "source": [
    "Несмотря на то, что Москва имеет большую популяцию, данные показывают, что в Москве использование самокатов меньше по сравнению с другими городами. Однако, в Пятигорске наблюдается наибольшее количество поездок на самокатах.\n",
    "\n",
    "### Соотношение пользователей с подпиской и без подписки "
   ]
  },
  {
   "cell_type": "code",
   "execution_count": 18,
   "id": "aa7521cb",
   "metadata": {},
   "outputs": [
    {
     "data": {
      "image/png": "[encoded data removed]",
      "text/plain": [
       "<Figure size 360x360 with 1 Axes>"
      ]
     },
     "metadata": {
      "needs_background": "light"
     },
     "output_type": "display_data"
    }
   ],
   "source": [
    "# соотношение пользователей с подпиской и без\n",
    "users['subscription_type'].hist(bins=30, figsize=(5, 5))\n",
    "plt.title('Соотношение пользователей с подпиской и без подписки')\n",
    "plt.xlabel('Подписка')\n",
    "plt.ylabel('Количество')\n",
    "plt.show()"
   ]
  },
  {
   "cell_type": "code",
   "execution_count": 19,
   "id": "9e7dce5a",
   "metadata": {
    "scrolled": true
   },
   "outputs": [
    {
     "data": {
      "image/png": "[encoded data removed]",
      "text/plain": [
       "<Figure size 360x360 with 1 Axes>"
      ]
     },
     "metadata": {},
     "output_type": "display_data"
    }
   ],
   "source": [
    "su = users['subscription_type'].value_counts()\n",
    "\n",
    "# создаем график \n",
    "plt.figure(figsize=(5, 5))\n",
    "plt.pie(su, autopct='%1.1f%%')\n",
    "plt.title('Соотношение пользователей с подпиской и без подписки')\n",
    "plt.show()"
   ]
  },
  {
   "cell_type": "markdown",
   "id": "1604a9da",
   "metadata": {},
   "source": [
    "Синим цветом отображены пользователи без подписки, а оранжевым - **ultra**."
   ]
  },
  {
   "cell_type": "markdown",
   "id": "07f3ccbd",
   "metadata": {},
   "source": [
    "Пользователей без подписки больше.\n",
    "\n",
    "### Возраст пользователей"
   ]
  },
  {
   "cell_type": "code",
   "execution_count": 20,
   "id": "79d6af01",
   "metadata": {},
   "outputs": [
    {
     "data": {
      "text/plain": [
       "count    1534.000000\n",
       "mean       24.903520\n",
       "std         4.572367\n",
       "min        12.000000\n",
       "25%        22.000000\n",
       "50%        25.000000\n",
       "75%        28.000000\n",
       "max        43.000000\n",
       "Name: age, dtype: float64"
      ]
     },
     "execution_count": 20,
     "metadata": {},
     "output_type": "execute_result"
    }
   ],
   "source": [
    "# посмотим статистическую информацию столбца age\n",
    "users.age.describe()"
   ]
  },
  {
   "cell_type": "code",
   "execution_count": 21,
   "id": "16e952d2",
   "metadata": {},
   "outputs": [
    {
     "data": {
      "image/png": "[encoded data removed]",
      "text/plain": [
       "<Figure size 720x360 with 1 Axes>"
      ]
     },
     "metadata": {
      "needs_background": "light"
     },
     "output_type": "display_data"
    }
   ],
   "source": [
    "# создаем график \n",
    "users['age'].hist(bins=50, figsize=(10, 5))\n",
    "plt.title('Возраст пользователей')\n",
    "plt.xlabel('Возраст')\n",
    "plt.ylabel('Количество')\n",
    "plt.show()"
   ]
  },
  {
   "cell_type": "markdown",
   "id": "199584bb",
   "metadata": {},
   "source": [
    "В целом, как можно было догадаться, самокатами пользуется молодежь (в РФ молодежь - от 14 до 35 лет включительно).\n",
    "В основном самокатами пользуются люди в возрасте от 22 до 28 лет. Но больше всех выделяются пользователи в возрасте 24 лет.\n",
    "\n",
    "### Растояние, которое преодолевают пользователи за одну поездку"
   ]
  },
  {
   "cell_type": "code",
   "execution_count": 22,
   "id": "a5a3c5db",
   "metadata": {},
   "outputs": [
    {
     "data": {
      "image/png": "[encoded data removed]",
      "text/plain": [
       "<Figure size 720x360 with 1 Axes>"
      ]
     },
     "metadata": {
      "needs_background": "light"
     },
     "output_type": "display_data"
    }
   ],
   "source": [
    "# создаем график\n",
    "rides['distance'].hist(bins=50, figsize=(10, 5))\n",
    "plt.title('Растояние, которое преодолевают пользователи')\n",
    "plt.xlabel('Растояние')\n",
    "plt.ylabel('Кол-во пользователей')\n",
    "plt.show()"
   ]
  },
  {
   "cell_type": "markdown",
   "id": "9b06e459",
   "metadata": {},
   "source": [
    "Большинство людей преодолевают на самокате примерно 2-4 километра. Предположу, что это связано с прогулками, поездками от или до дома/работы/школы.\n",
    "\n",
    "Но выделяется расстояние 1,5 километра. Наверняка это обусловлено поездками до ближайшей станции метро или остановки."
   ]
  },
  {
   "cell_type": "markdown",
   "id": "b450a004",
   "metadata": {},
   "source": [
    "### Продолжительность поездки "
   ]
  },
  {
   "cell_type": "code",
   "execution_count": 23,
   "id": "1819acfa",
   "metadata": {},
   "outputs": [
    {
     "data": {
      "image/png": "[encoded data removed]",
      "text/plain": [
       "<Figure size 1080x360 with 1 Axes>"
      ]
     },
     "metadata": {
      "needs_background": "light"
     },
     "output_type": "display_data"
    }
   ],
   "source": [
    "# создаем график\n",
    "rides['duration'].hist(bins=60, figsize=(15, 5))\n",
    "plt.title('Продолжительность поездки')\n",
    "plt.xlabel('Минуты')\n",
    "plt.ylabel('Кол-во пользователей')\n",
    "plt.show()"
   ]
  },
  {
   "cell_type": "markdown",
   "id": "e19a7e1d",
   "metadata": {},
   "source": [
    "Если средняя скорость самокатов установлена в пределах 15-18 км/ч, то все сходится. (Скорость = Расстояние / Время)"
   ]
  },
  {
   "cell_type": "markdown",
   "id": "b7a63d98",
   "metadata": {},
   "source": [
    "**Вывод**\n",
    "\n",
    "В основном молодежь пользуется самокатами, которые преодолевают расстояние от 2 до 4 км за 10-25 минут.\n",
    "Стоит также отметить, что количество поездок без подписки больше.\n",
    "\n",
    "Удивительно также соотношение городов. Например, в Москве (население 13 млн) количество пользователей меньше, чем в Пятигорске (145 тысяч). Предполагаю, что это связано с соотношением самокатов и пользователей."
   ]
  },
  {
   "cell_type": "markdown",
   "id": "1002219a",
   "metadata": {},
   "source": [
    "## Объединение данных\n",
    "\n",
    "* Объединим данные о пользователях, поездках и подписках в один датафрейм методом merge().\n",
    "* Создадим ещё два датафрейма из датафрейма, созданного на этапе 4.1:\n",
    "    * c данными о пользователях без подписки;\n",
    "    * с данными о пользователях с подпиской.\n",
    "* Визуализируем информацию о расстоянии и времени поездок для пользователей обеих категорий."
   ]
  },
  {
   "cell_type": "markdown",
   "id": "0df41ac3",
   "metadata": {},
   "source": [
    "### Объеденим данные о пользователях, поездках и подписаках в один датафрейм"
   ]
  },
  {
   "cell_type": "code",
   "execution_count": 24,
   "id": "c0969bd8",
   "metadata": {},
   "outputs": [
    {
     "data": {
      "text/html": [
       "<div>\n",
       "<style scoped>\n",
       "    .dataframe tbody tr th:only-of-type {\n",
       "        vertical-align: middle;\n",
       "    }\n",
       "\n",
       "    .dataframe tbody tr th {\n",
       "        vertical-align: top;\n",
       "    }\n",
       "\n",
       "    .dataframe thead th {\n",
       "        text-align: right;\n",
       "    }\n",
       "</style>\n",
       "<table border=\"1\" class=\"dataframe\">\n",
       "  <thead>\n",
       "    <tr style=\"text-align: right;\">\n",
       "      <th></th>\n",
       "      <th>user_id</th>\n",
       "      <th>name</th>\n",
       "      <th>age</th>\n",
       "      <th>city</th>\n",
       "      <th>subscription_type</th>\n",
       "      <th>distance</th>\n",
       "      <th>duration</th>\n",
       "      <th>date</th>\n",
       "      <th>month</th>\n",
       "      <th>minute_price</th>\n",
       "      <th>start_ride_price</th>\n",
       "      <th>subscription_fee</th>\n",
       "    </tr>\n",
       "  </thead>\n",
       "  <tbody>\n",
       "    <tr>\n",
       "      <th>0</th>\n",
       "      <td>1</td>\n",
       "      <td>Кира</td>\n",
       "      <td>22</td>\n",
       "      <td>Тюмень</td>\n",
       "      <td>ultra</td>\n",
       "      <td>4.41</td>\n",
       "      <td>25.60</td>\n",
       "      <td>2021-01-01</td>\n",
       "      <td>1</td>\n",
       "      <td>6</td>\n",
       "      <td>0</td>\n",
       "      <td>199</td>\n",
       "    </tr>\n",
       "    <tr>\n",
       "      <th>1</th>\n",
       "      <td>1</td>\n",
       "      <td>Кира</td>\n",
       "      <td>22</td>\n",
       "      <td>Тюмень</td>\n",
       "      <td>ultra</td>\n",
       "      <td>2.62</td>\n",
       "      <td>15.82</td>\n",
       "      <td>2021-01-18</td>\n",
       "      <td>1</td>\n",
       "      <td>6</td>\n",
       "      <td>0</td>\n",
       "      <td>199</td>\n",
       "    </tr>\n",
       "    <tr>\n",
       "      <th>2</th>\n",
       "      <td>1</td>\n",
       "      <td>Кира</td>\n",
       "      <td>22</td>\n",
       "      <td>Тюмень</td>\n",
       "      <td>ultra</td>\n",
       "      <td>0.75</td>\n",
       "      <td>6.23</td>\n",
       "      <td>2021-04-20</td>\n",
       "      <td>4</td>\n",
       "      <td>6</td>\n",
       "      <td>0</td>\n",
       "      <td>199</td>\n",
       "    </tr>\n",
       "    <tr>\n",
       "      <th>3</th>\n",
       "      <td>1</td>\n",
       "      <td>Кира</td>\n",
       "      <td>22</td>\n",
       "      <td>Тюмень</td>\n",
       "      <td>ultra</td>\n",
       "      <td>2.69</td>\n",
       "      <td>18.51</td>\n",
       "      <td>2021-08-11</td>\n",
       "      <td>8</td>\n",
       "      <td>6</td>\n",
       "      <td>0</td>\n",
       "      <td>199</td>\n",
       "    </tr>\n",
       "    <tr>\n",
       "      <th>4</th>\n",
       "      <td>1</td>\n",
       "      <td>Кира</td>\n",
       "      <td>22</td>\n",
       "      <td>Тюмень</td>\n",
       "      <td>ultra</td>\n",
       "      <td>4.03</td>\n",
       "      <td>26.27</td>\n",
       "      <td>2021-08-28</td>\n",
       "      <td>8</td>\n",
       "      <td>6</td>\n",
       "      <td>0</td>\n",
       "      <td>199</td>\n",
       "    </tr>\n",
       "  </tbody>\n",
       "</table>\n",
       "</div>"
      ],
      "text/plain": [
       "   user_id  name  age    city subscription_type  distance  duration  \\\n",
       "0        1  Кира   22  Тюмень             ultra      4.41     25.60   \n",
       "1        1  Кира   22  Тюмень             ultra      2.62     15.82   \n",
       "2        1  Кира   22  Тюмень             ultra      0.75      6.23   \n",
       "3        1  Кира   22  Тюмень             ultra      2.69     18.51   \n",
       "4        1  Кира   22  Тюмень             ultra      4.03     26.27   \n",
       "\n",
       "        date  month  minute_price  start_ride_price  subscription_fee  \n",
       "0 2021-01-01      1             6                 0               199  \n",
       "1 2021-01-18      1             6                 0               199  \n",
       "2 2021-04-20      4             6                 0               199  \n",
       "3 2021-08-11      8             6                 0               199  \n",
       "4 2021-08-28      8             6                 0               199  "
      ]
     },
     "execution_count": 24,
     "metadata": {},
     "output_type": "execute_result"
    }
   ],
   "source": [
    "# объединим таблицы пользователей, поездок и подписках\n",
    "df = users.merge(rides, on='user_id', how='outer') \n",
    "df = df.merge(subs, on='subscription_type', how='outer')\n",
    "df.head()"
   ]
  },
  {
   "cell_type": "markdown",
   "id": "859c3b94",
   "metadata": {},
   "source": [
    "### Создадим ещё два датафрейма из датафрейма, созданного на этапе 4.1\n",
    "* c данными о пользователях без подписки;\n",
    "* с данными о пользователях с подпиской."
   ]
  },
  {
   "cell_type": "code",
   "execution_count": 25,
   "id": "ab900479",
   "metadata": {},
   "outputs": [
    {
     "name": "stdout",
     "output_type": "stream",
     "text": [
      "<class 'pandas.core.frame.DataFrame'>\n",
      "Int64Index: 6500 entries, 0 to 6499\n",
      "Data columns (total 12 columns):\n",
      " #   Column             Non-Null Count  Dtype         \n",
      "---  ------             --------------  -----         \n",
      " 0   user_id            6500 non-null   int64         \n",
      " 1   name               6500 non-null   object        \n",
      " 2   age                6500 non-null   int64         \n",
      " 3   city               6500 non-null   object        \n",
      " 4   subscription_type  6500 non-null   object        \n",
      " 5   distance           6500 non-null   float64       \n",
      " 6   duration           6500 non-null   float64       \n",
      " 7   date               6500 non-null   datetime64[ns]\n",
      " 8   month              6500 non-null   int64         \n",
      " 9   minute_price       6500 non-null   int64         \n",
      " 10  start_ride_price   6500 non-null   int64         \n",
      " 11  subscription_fee   6500 non-null   int64         \n",
      "dtypes: datetime64[ns](1), float64(2), int64(6), object(3)\n",
      "memory usage: 660.2+ KB\n"
     ]
    },
    {
     "data": {
      "text/html": [
       "<div>\n",
       "<style scoped>\n",
       "    .dataframe tbody tr th:only-of-type {\n",
       "        vertical-align: middle;\n",
       "    }\n",
       "\n",
       "    .dataframe tbody tr th {\n",
       "        vertical-align: top;\n",
       "    }\n",
       "\n",
       "    .dataframe thead th {\n",
       "        text-align: right;\n",
       "    }\n",
       "</style>\n",
       "<table border=\"1\" class=\"dataframe\">\n",
       "  <thead>\n",
       "    <tr style=\"text-align: right;\">\n",
       "      <th></th>\n",
       "      <th>user_id</th>\n",
       "      <th>name</th>\n",
       "      <th>age</th>\n",
       "      <th>city</th>\n",
       "      <th>subscription_type</th>\n",
       "      <th>distance</th>\n",
       "      <th>duration</th>\n",
       "      <th>date</th>\n",
       "      <th>month</th>\n",
       "      <th>minute_price</th>\n",
       "      <th>start_ride_price</th>\n",
       "      <th>subscription_fee</th>\n",
       "    </tr>\n",
       "  </thead>\n",
       "  <tbody>\n",
       "    <tr>\n",
       "      <th>0</th>\n",
       "      <td>1</td>\n",
       "      <td>Кира</td>\n",
       "      <td>22</td>\n",
       "      <td>Тюмень</td>\n",
       "      <td>ultra</td>\n",
       "      <td>4.41</td>\n",
       "      <td>25.60</td>\n",
       "      <td>2021-01-01</td>\n",
       "      <td>1</td>\n",
       "      <td>6</td>\n",
       "      <td>0</td>\n",
       "      <td>199</td>\n",
       "    </tr>\n",
       "    <tr>\n",
       "      <th>1</th>\n",
       "      <td>1</td>\n",
       "      <td>Кира</td>\n",
       "      <td>22</td>\n",
       "      <td>Тюмень</td>\n",
       "      <td>ultra</td>\n",
       "      <td>2.62</td>\n",
       "      <td>15.82</td>\n",
       "      <td>2021-01-18</td>\n",
       "      <td>1</td>\n",
       "      <td>6</td>\n",
       "      <td>0</td>\n",
       "      <td>199</td>\n",
       "    </tr>\n",
       "    <tr>\n",
       "      <th>2</th>\n",
       "      <td>1</td>\n",
       "      <td>Кира</td>\n",
       "      <td>22</td>\n",
       "      <td>Тюмень</td>\n",
       "      <td>ultra</td>\n",
       "      <td>0.75</td>\n",
       "      <td>6.23</td>\n",
       "      <td>2021-04-20</td>\n",
       "      <td>4</td>\n",
       "      <td>6</td>\n",
       "      <td>0</td>\n",
       "      <td>199</td>\n",
       "    </tr>\n",
       "    <tr>\n",
       "      <th>3</th>\n",
       "      <td>1</td>\n",
       "      <td>Кира</td>\n",
       "      <td>22</td>\n",
       "      <td>Тюмень</td>\n",
       "      <td>ultra</td>\n",
       "      <td>2.69</td>\n",
       "      <td>18.51</td>\n",
       "      <td>2021-08-11</td>\n",
       "      <td>8</td>\n",
       "      <td>6</td>\n",
       "      <td>0</td>\n",
       "      <td>199</td>\n",
       "    </tr>\n",
       "    <tr>\n",
       "      <th>4</th>\n",
       "      <td>1</td>\n",
       "      <td>Кира</td>\n",
       "      <td>22</td>\n",
       "      <td>Тюмень</td>\n",
       "      <td>ultra</td>\n",
       "      <td>4.03</td>\n",
       "      <td>26.27</td>\n",
       "      <td>2021-08-28</td>\n",
       "      <td>8</td>\n",
       "      <td>6</td>\n",
       "      <td>0</td>\n",
       "      <td>199</td>\n",
       "    </tr>\n",
       "  </tbody>\n",
       "</table>\n",
       "</div>"
      ],
      "text/plain": [
       "   user_id  name  age    city subscription_type  distance  duration  \\\n",
       "0        1  Кира   22  Тюмень             ultra      4.41     25.60   \n",
       "1        1  Кира   22  Тюмень             ultra      2.62     15.82   \n",
       "2        1  Кира   22  Тюмень             ultra      0.75      6.23   \n",
       "3        1  Кира   22  Тюмень             ultra      2.69     18.51   \n",
       "4        1  Кира   22  Тюмень             ultra      4.03     26.27   \n",
       "\n",
       "        date  month  minute_price  start_ride_price  subscription_fee  \n",
       "0 2021-01-01      1             6                 0               199  \n",
       "1 2021-01-18      1             6                 0               199  \n",
       "2 2021-04-20      4             6                 0               199  \n",
       "3 2021-08-11      8             6                 0               199  \n",
       "4 2021-08-28      8             6                 0               199  "
      ]
     },
     "execution_count": 25,
     "metadata": {},
     "output_type": "execute_result"
    }
   ],
   "source": [
    "# создадим таблицу пользователей с подпиской\n",
    "df_ultra = df[df['subscription_type'] == 'ultra']\n",
    "df_ultra.info() \n",
    "df_ultra.head()"
   ]
  },
  {
   "cell_type": "code",
   "execution_count": 26,
   "id": "1df2c1c4",
   "metadata": {},
   "outputs": [
    {
     "name": "stdout",
     "output_type": "stream",
     "text": [
      "<class 'pandas.core.frame.DataFrame'>\n",
      "Int64Index: 11473 entries, 6500 to 17972\n",
      "Data columns (total 12 columns):\n",
      " #   Column             Non-Null Count  Dtype         \n",
      "---  ------             --------------  -----         \n",
      " 0   user_id            11473 non-null  int64         \n",
      " 1   name               11473 non-null  object        \n",
      " 2   age                11473 non-null  int64         \n",
      " 3   city               11473 non-null  object        \n",
      " 4   subscription_type  11473 non-null  object        \n",
      " 5   distance           11473 non-null  float64       \n",
      " 6   duration           11473 non-null  float64       \n",
      " 7   date               11473 non-null  datetime64[ns]\n",
      " 8   month              11473 non-null  int64         \n",
      " 9   minute_price       11473 non-null  int64         \n",
      " 10  start_ride_price   11473 non-null  int64         \n",
      " 11  subscription_fee   11473 non-null  int64         \n",
      "dtypes: datetime64[ns](1), float64(2), int64(6), object(3)\n",
      "memory usage: 1.1+ MB\n"
     ]
    },
    {
     "data": {
      "text/html": [
       "<div>\n",
       "<style scoped>\n",
       "    .dataframe tbody tr th:only-of-type {\n",
       "        vertical-align: middle;\n",
       "    }\n",
       "\n",
       "    .dataframe tbody tr th {\n",
       "        vertical-align: top;\n",
       "    }\n",
       "\n",
       "    .dataframe thead th {\n",
       "        text-align: right;\n",
       "    }\n",
       "</style>\n",
       "<table border=\"1\" class=\"dataframe\">\n",
       "  <thead>\n",
       "    <tr style=\"text-align: right;\">\n",
       "      <th></th>\n",
       "      <th>user_id</th>\n",
       "      <th>name</th>\n",
       "      <th>age</th>\n",
       "      <th>city</th>\n",
       "      <th>subscription_type</th>\n",
       "      <th>distance</th>\n",
       "      <th>duration</th>\n",
       "      <th>date</th>\n",
       "      <th>month</th>\n",
       "      <th>minute_price</th>\n",
       "      <th>start_ride_price</th>\n",
       "      <th>subscription_fee</th>\n",
       "    </tr>\n",
       "  </thead>\n",
       "  <tbody>\n",
       "    <tr>\n",
       "      <th>6500</th>\n",
       "      <td>700</td>\n",
       "      <td>Айдар</td>\n",
       "      <td>22</td>\n",
       "      <td>Омск</td>\n",
       "      <td>free</td>\n",
       "      <td>2.52</td>\n",
       "      <td>14.94</td>\n",
       "      <td>2021-01-02</td>\n",
       "      <td>1</td>\n",
       "      <td>8</td>\n",
       "      <td>50</td>\n",
       "      <td>0</td>\n",
       "    </tr>\n",
       "    <tr>\n",
       "      <th>6501</th>\n",
       "      <td>700</td>\n",
       "      <td>Айдар</td>\n",
       "      <td>22</td>\n",
       "      <td>Омск</td>\n",
       "      <td>free</td>\n",
       "      <td>0.85</td>\n",
       "      <td>16.23</td>\n",
       "      <td>2021-02-01</td>\n",
       "      <td>2</td>\n",
       "      <td>8</td>\n",
       "      <td>50</td>\n",
       "      <td>0</td>\n",
       "    </tr>\n",
       "    <tr>\n",
       "      <th>6502</th>\n",
       "      <td>700</td>\n",
       "      <td>Айдар</td>\n",
       "      <td>22</td>\n",
       "      <td>Омск</td>\n",
       "      <td>free</td>\n",
       "      <td>4.00</td>\n",
       "      <td>20.02</td>\n",
       "      <td>2021-02-04</td>\n",
       "      <td>2</td>\n",
       "      <td>8</td>\n",
       "      <td>50</td>\n",
       "      <td>0</td>\n",
       "    </tr>\n",
       "    <tr>\n",
       "      <th>6503</th>\n",
       "      <td>700</td>\n",
       "      <td>Айдар</td>\n",
       "      <td>22</td>\n",
       "      <td>Омск</td>\n",
       "      <td>free</td>\n",
       "      <td>1.21</td>\n",
       "      <td>9.78</td>\n",
       "      <td>2021-02-10</td>\n",
       "      <td>2</td>\n",
       "      <td>8</td>\n",
       "      <td>50</td>\n",
       "      <td>0</td>\n",
       "    </tr>\n",
       "    <tr>\n",
       "      <th>6504</th>\n",
       "      <td>700</td>\n",
       "      <td>Айдар</td>\n",
       "      <td>22</td>\n",
       "      <td>Омск</td>\n",
       "      <td>free</td>\n",
       "      <td>3.05</td>\n",
       "      <td>17.43</td>\n",
       "      <td>2021-02-14</td>\n",
       "      <td>2</td>\n",
       "      <td>8</td>\n",
       "      <td>50</td>\n",
       "      <td>0</td>\n",
       "    </tr>\n",
       "  </tbody>\n",
       "</table>\n",
       "</div>"
      ],
      "text/plain": [
       "      user_id   name  age  city subscription_type  distance  duration  \\\n",
       "6500      700  Айдар   22  Омск              free      2.52     14.94   \n",
       "6501      700  Айдар   22  Омск              free      0.85     16.23   \n",
       "6502      700  Айдар   22  Омск              free      4.00     20.02   \n",
       "6503      700  Айдар   22  Омск              free      1.21      9.78   \n",
       "6504      700  Айдар   22  Омск              free      3.05     17.43   \n",
       "\n",
       "           date  month  minute_price  start_ride_price  subscription_fee  \n",
       "6500 2021-01-02      1             8                50                 0  \n",
       "6501 2021-02-01      2             8                50                 0  \n",
       "6502 2021-02-04      2             8                50                 0  \n",
       "6503 2021-02-10      2             8                50                 0  \n",
       "6504 2021-02-14      2             8                50                 0  "
      ]
     },
     "execution_count": 26,
     "metadata": {},
     "output_type": "execute_result"
    }
   ],
   "source": [
    "# создадим таблицу пользователей без подписки \n",
    "df_free = df[df['subscription_type'] == 'free']\n",
    "df_free.info() \n",
    "df_free.head()"
   ]
  },
  {
   "cell_type": "markdown",
   "id": "c064eab3",
   "metadata": {},
   "source": [
    "### Визуализируем информацию о расстоянии и времени поездок для пользователей обеих категорий"
   ]
  },
  {
   "cell_type": "code",
   "execution_count": 27,
   "id": "2dabcff2",
   "metadata": {},
   "outputs": [
    {
     "data": {
      "image/png": "[encoded data removed]",
      "text/plain": [
       "<Figure size 864x432 with 1 Axes>"
      ]
     },
     "metadata": {
      "needs_background": "light"
     },
     "output_type": "display_data"
    }
   ],
   "source": [
    "# создаем график \n",
    "plt.figure(figsize=(12, 6))\n",
    "plt.hist(df_ultra.distance, label='ultra', bins=50, alpha=0.5, density=True)\n",
    "plt.hist(df_free.distance, label='free', bins=50, alpha=0.5, density=True)\n",
    "plt.xlabel('Километр')\n",
    "plt.ylabel('Пользователи')\n",
    "plt.title('Расстояние которое преодолевают пользователи')\n",
    "plt.legend()\n",
    "plt.show()"
   ]
  },
  {
   "cell_type": "markdown",
   "id": "a8c701c4",
   "metadata": {},
   "source": [
    "Пользователи с подпиской в среднем преодолевают чуть больше 3 км. Пользователи без подписки в среднем проезжают столько же, но их в 2 раза меньше, чем пользователей с подпиской."
   ]
  },
  {
   "cell_type": "code",
   "execution_count": 28,
   "id": "d4b99a4e",
   "metadata": {},
   "outputs": [
    {
     "data": {
      "image/png": "[encoded data removed]",
      "text/plain": [
       "<Figure size 864x432 with 1 Axes>"
      ]
     },
     "metadata": {
      "needs_background": "light"
     },
     "output_type": "display_data"
    }
   ],
   "source": [
    "# создаем график \n",
    "plt.figure(figsize=(12, 6))\n",
    "plt.hist(df_ultra.duration, label='ultra', bins=50, alpha=0.5, density=True)\n",
    "plt.hist(df_free.duration, label='free', bins=50, alpha=0.5, density=True)\n",
    "plt.xlabel('Время')\n",
    "plt.ylabel('Пользователи')\n",
    "plt.title('Продолжительность поездки')\n",
    "plt.legend()\n",
    "plt.show()"
   ]
  },
  {
   "cell_type": "markdown",
   "id": "675b9437",
   "metadata": {},
   "source": [
    "Тратят на поездки так же одинаковое кол-во времени, но опять таки, **ultra** подписчики по количеству поездок больше."
   ]
  },
  {
   "cell_type": "markdown",
   "id": "5598e886",
   "metadata": {},
   "source": [
    "**Вывод**\n",
    "\n",
    "Можно сказать, что пользователи с подпиской преодолевают в среднем чуть больше 3 км. Пользователи без подписки преодолевают в среднем столько же, но их количество в 2 раза меньше, чем пользователей с подпиской."
   ]
  },
  {
   "cell_type": "markdown",
   "id": "8780b1ff",
   "metadata": {},
   "source": [
    "## Подсчёт выручки\n",
    "* Создадим датафрейм с агрегированными данными о поездках на основе датафрейма с объединёнными данными из шага 4: найдем суммарное расстояние, количество поездок и суммарное время для каждого пользователя за каждый месяц.\n",
    "* В этот же датафрейм добавим столбец с помесячной выручкой, которую принёс каждый пользователь. Для этого обратимся к информации об условиях оплаты для подписчиков и тех, у кого нет подписки. Продолжительность каждой поездки в каждой строке исходного датафрейма для подсчёта стоимости округляем до следующего целого числа: например, значения 25.3, 25.5 и 26.0 должны быть преобразованы к 26."
   ]
  },
  {
   "cell_type": "markdown",
   "id": "5ec6f62f",
   "metadata": {},
   "source": [
    "Для начала округлим продолжительность поездки."
   ]
  },
  {
   "cell_type": "code",
   "execution_count": 29,
   "id": "e27b6d80",
   "metadata": {},
   "outputs": [],
   "source": [
    "df['duration'] = np.ceil(df['duration'])"
   ]
  },
  {
   "cell_type": "markdown",
   "id": "c0318c1a",
   "metadata": {},
   "source": [
    "Создаем датафрейм с агрегированными данными на основе **df**. Найдем сумарное расстояние, количество поездок и суммарное время для каждого пользователя за каждый месяц."
   ]
  },
  {
   "cell_type": "code",
   "execution_count": 30,
   "id": "0fd23170",
   "metadata": {},
   "outputs": [
    {
     "data": {
      "text/html": [
       "<div>\n",
       "<style scoped>\n",
       "    .dataframe tbody tr th:only-of-type {\n",
       "        vertical-align: middle;\n",
       "    }\n",
       "\n",
       "    .dataframe tbody tr th {\n",
       "        vertical-align: top;\n",
       "    }\n",
       "\n",
       "    .dataframe thead th {\n",
       "        text-align: right;\n",
       "    }\n",
       "</style>\n",
       "<table border=\"1\" class=\"dataframe\">\n",
       "  <thead>\n",
       "    <tr style=\"text-align: right;\">\n",
       "      <th></th>\n",
       "      <th>user_id</th>\n",
       "      <th>month</th>\n",
       "      <th>subscription_type</th>\n",
       "      <th>start_ride_price</th>\n",
       "      <th>minute_price</th>\n",
       "      <th>subscription_fee</th>\n",
       "      <th>distance_sum</th>\n",
       "      <th>duration_count</th>\n",
       "      <th>duration_sum</th>\n",
       "    </tr>\n",
       "  </thead>\n",
       "  <tbody>\n",
       "    <tr>\n",
       "      <th>0</th>\n",
       "      <td>1</td>\n",
       "      <td>1</td>\n",
       "      <td>ultra</td>\n",
       "      <td>0</td>\n",
       "      <td>6</td>\n",
       "      <td>199</td>\n",
       "      <td>7.03</td>\n",
       "      <td>2</td>\n",
       "      <td>42.0</td>\n",
       "    </tr>\n",
       "    <tr>\n",
       "      <th>1</th>\n",
       "      <td>1</td>\n",
       "      <td>4</td>\n",
       "      <td>ultra</td>\n",
       "      <td>0</td>\n",
       "      <td>6</td>\n",
       "      <td>199</td>\n",
       "      <td>0.75</td>\n",
       "      <td>1</td>\n",
       "      <td>7.0</td>\n",
       "    </tr>\n",
       "    <tr>\n",
       "      <th>2</th>\n",
       "      <td>1</td>\n",
       "      <td>8</td>\n",
       "      <td>ultra</td>\n",
       "      <td>0</td>\n",
       "      <td>6</td>\n",
       "      <td>199</td>\n",
       "      <td>6.72</td>\n",
       "      <td>2</td>\n",
       "      <td>46.0</td>\n",
       "    </tr>\n",
       "    <tr>\n",
       "      <th>3</th>\n",
       "      <td>1</td>\n",
       "      <td>10</td>\n",
       "      <td>ultra</td>\n",
       "      <td>0</td>\n",
       "      <td>6</td>\n",
       "      <td>199</td>\n",
       "      <td>5.81</td>\n",
       "      <td>2</td>\n",
       "      <td>32.0</td>\n",
       "    </tr>\n",
       "    <tr>\n",
       "      <th>4</th>\n",
       "      <td>1</td>\n",
       "      <td>11</td>\n",
       "      <td>ultra</td>\n",
       "      <td>0</td>\n",
       "      <td>6</td>\n",
       "      <td>199</td>\n",
       "      <td>7.00</td>\n",
       "      <td>3</td>\n",
       "      <td>56.0</td>\n",
       "    </tr>\n",
       "  </tbody>\n",
       "</table>\n",
       "</div>"
      ],
      "text/plain": [
       "   user_id  month subscription_type  start_ride_price  minute_price  \\\n",
       "0        1      1             ultra                 0             6   \n",
       "1        1      4             ultra                 0             6   \n",
       "2        1      8             ultra                 0             6   \n",
       "3        1     10             ultra                 0             6   \n",
       "4        1     11             ultra                 0             6   \n",
       "\n",
       "   subscription_fee  distance_sum  duration_count  duration_sum  \n",
       "0               199          7.03               2          42.0  \n",
       "1               199          0.75               1           7.0  \n",
       "2               199          6.72               2          46.0  \n",
       "3               199          5.81               2          32.0  \n",
       "4               199          7.00               3          56.0  "
      ]
     },
     "execution_count": 30,
     "metadata": {},
     "output_type": "execute_result"
    }
   ],
   "source": [
    "agg_df = df.groupby(['user_id', 'month', 'subscription_type', 'start_ride_price', \n",
    "                     'minute_price', 'subscription_fee']).agg({'distance': 'sum', \n",
    "                                                               'duration': ['count', 'sum']})\n",
    "agg_df.columns = ['distance_sum', 'duration_count', 'duration_sum']\n",
    "agg_df = agg_df.reset_index()\n",
    "agg_df.head()"
   ]
  },
  {
   "cell_type": "markdown",
   "id": "d89886c2",
   "metadata": {},
   "source": [
    "Теперь у нас есть таблица с сумарным расстоянием, кол-вом поездок и суммарным временем для каждого пользвателя за каждый месяц.\n",
    "\n",
    "Добавим столбец с помесячной выручкой, которую принёс каждый пользователь."
   ]
  },
  {
   "cell_type": "code",
   "execution_count": 31,
   "id": "4549f842",
   "metadata": {
    "scrolled": true
   },
   "outputs": [
    {
     "data": {
      "text/html": [
       "<div>\n",
       "<style scoped>\n",
       "    .dataframe tbody tr th:only-of-type {\n",
       "        vertical-align: middle;\n",
       "    }\n",
       "\n",
       "    .dataframe tbody tr th {\n",
       "        vertical-align: top;\n",
       "    }\n",
       "\n",
       "    .dataframe thead th {\n",
       "        text-align: right;\n",
       "    }\n",
       "</style>\n",
       "<table border=\"1\" class=\"dataframe\">\n",
       "  <thead>\n",
       "    <tr style=\"text-align: right;\">\n",
       "      <th></th>\n",
       "      <th>user_id</th>\n",
       "      <th>month</th>\n",
       "      <th>subscription_type</th>\n",
       "      <th>start_ride_price</th>\n",
       "      <th>minute_price</th>\n",
       "      <th>subscription_fee</th>\n",
       "      <th>distance_sum</th>\n",
       "      <th>duration_count</th>\n",
       "      <th>duration_sum</th>\n",
       "      <th>month_income</th>\n",
       "    </tr>\n",
       "  </thead>\n",
       "  <tbody>\n",
       "    <tr>\n",
       "      <th>0</th>\n",
       "      <td>1</td>\n",
       "      <td>1</td>\n",
       "      <td>ultra</td>\n",
       "      <td>0</td>\n",
       "      <td>6</td>\n",
       "      <td>199</td>\n",
       "      <td>7.03</td>\n",
       "      <td>2</td>\n",
       "      <td>42.0</td>\n",
       "      <td>451.0</td>\n",
       "    </tr>\n",
       "    <tr>\n",
       "      <th>1</th>\n",
       "      <td>1</td>\n",
       "      <td>4</td>\n",
       "      <td>ultra</td>\n",
       "      <td>0</td>\n",
       "      <td>6</td>\n",
       "      <td>199</td>\n",
       "      <td>0.75</td>\n",
       "      <td>1</td>\n",
       "      <td>7.0</td>\n",
       "      <td>241.0</td>\n",
       "    </tr>\n",
       "    <tr>\n",
       "      <th>2</th>\n",
       "      <td>1</td>\n",
       "      <td>8</td>\n",
       "      <td>ultra</td>\n",
       "      <td>0</td>\n",
       "      <td>6</td>\n",
       "      <td>199</td>\n",
       "      <td>6.72</td>\n",
       "      <td>2</td>\n",
       "      <td>46.0</td>\n",
       "      <td>475.0</td>\n",
       "    </tr>\n",
       "    <tr>\n",
       "      <th>3</th>\n",
       "      <td>1</td>\n",
       "      <td>10</td>\n",
       "      <td>ultra</td>\n",
       "      <td>0</td>\n",
       "      <td>6</td>\n",
       "      <td>199</td>\n",
       "      <td>5.81</td>\n",
       "      <td>2</td>\n",
       "      <td>32.0</td>\n",
       "      <td>391.0</td>\n",
       "    </tr>\n",
       "    <tr>\n",
       "      <th>4</th>\n",
       "      <td>1</td>\n",
       "      <td>11</td>\n",
       "      <td>ultra</td>\n",
       "      <td>0</td>\n",
       "      <td>6</td>\n",
       "      <td>199</td>\n",
       "      <td>7.00</td>\n",
       "      <td>3</td>\n",
       "      <td>56.0</td>\n",
       "      <td>535.0</td>\n",
       "    </tr>\n",
       "  </tbody>\n",
       "</table>\n",
       "</div>"
      ],
      "text/plain": [
       "   user_id  month subscription_type  start_ride_price  minute_price  \\\n",
       "0        1      1             ultra                 0             6   \n",
       "1        1      4             ultra                 0             6   \n",
       "2        1      8             ultra                 0             6   \n",
       "3        1     10             ultra                 0             6   \n",
       "4        1     11             ultra                 0             6   \n",
       "\n",
       "   subscription_fee  distance_sum  duration_count  duration_sum  month_income  \n",
       "0               199          7.03               2          42.0         451.0  \n",
       "1               199          0.75               1           7.0         241.0  \n",
       "2               199          6.72               2          46.0         475.0  \n",
       "3               199          5.81               2          32.0         391.0  \n",
       "4               199          7.00               3          56.0         535.0  "
      ]
     },
     "execution_count": 31,
     "metadata": {},
     "output_type": "execute_result"
    }
   ],
   "source": [
    "agg_df['month_income'] = agg_df['start_ride_price'] * agg_df['duration_count']\\\n",
    "+ agg_df['minute_price'] * agg_df['duration_sum'] + agg_df['subscription_fee'] \n",
    "agg_df.head()"
   ]
  },
  {
   "cell_type": "markdown",
   "id": "93f7bfc8",
   "metadata": {},
   "source": [
    "**Вывод**\n",
    "\n",
    "Итак, у нас теперь есть отдельный датафрейм с с ежемесячной выручкой от каждой поездки каждого пользователья самокатов."
   ]
  },
  {
   "cell_type": "markdown",
   "id": "137ae0f5",
   "metadata": {},
   "source": [
    "## Проверка гипотез\n",
    "\n",
    "Продакт-менеджеры сервиса хотят увеличить количество пользователей с подпиской. Для этого они будут проводить различные акции, но сначала нужно выяснить несколько важных моментов.\n",
    "* Важно понять, тратят ли пользователи с подпиской больше времени на поездки? Если да, то пользователи с подпиской могут быть «выгоднее» для компании. Проверьте гипотезу. Используйте исходные данные о продолжительности каждой сессии — отдельно для подписчиков и тех, у кого нет подписки.\n",
    "* Расстояние одной поездки в 3130 метров — оптимальное с точки зрения износа самоката. Можно ли сказать, что среднее расстояние, которое проезжают пользователи с подпиской за одну поездку, не превышает 3130 метров? Проверим гипотезу и сделайте выводы.\n",
    "* Проверим гипотезу о том, будет ли помесячная выручка от пользователей с подпиской по месяцам выше, чем выручка от пользователей без подписки. Сделайте вывод.\n",
    "* Представим такую ситуацию: техническая команда сервиса обновила сервера, с которыми взаимодействует мобильное приложение. Она надеется, что из-за этого количество обращений в техподдержку значимо снизилось. Некоторый файл содержит для каждого пользователя данные о количестве обращений до обновления и после него. Какой тест вам понадобился бы для проверки этой гипотезы?"
   ]
  },
  {
   "cell_type": "markdown",
   "id": "48113e9f",
   "metadata": {},
   "source": [
    "Проверим первую гипотезу.\n",
    "\n",
    "- H0 - Среднее время поездки у пользователей с подпиской и без подписки одинаковое \n",
    "- H1 - Среднее время поездки у пользователей с подпиской больше чем у пользователей без подписки.\n",
    "\n",
    "Если больше с подпиской то это \"выгоднее\" для компании. \n",
    "\n",
    "\n",
    "Для проверки данной гипотезы можно воспользоваться методом двусторонней гипотезы (t-тестом) для независимых выборок. В данном случаем можем сравнить среднюю продолжительность поездок для пользователей с подпиской и для пользователей без подписки. \n",
    "\n",
    "Если p-value будет меньше выбранного уровня значимости alpha = 0.05, то нулевую гипотезу о равенстве средних отвергнем. В противном случае делаем вывод, что данные не позволили нам отвергнуть нулевую гипотезу."
   ]
  },
  {
   "cell_type": "code",
   "execution_count": 32,
   "id": "8b865ac7",
   "metadata": {},
   "outputs": [
    {
     "name": "stdout",
     "output_type": "stream",
     "text": [
      "p-значение:  4.68327274119323e-28\n",
      "Отвергаем нулевую гипотезу\n"
     ]
    }
   ],
   "source": [
    "alpha = 0.05\n",
    "results = st.ttest_ind(df_ultra['duration'], df_free['duration'], alternative='greater')\n",
    "\n",
    "print('p-значение: ', results.pvalue)\n",
    "if results.pvalue < alpha:\n",
    "    print(\"Отвергаем нулевую гипотезу\")\n",
    "else:\n",
    "    print(\"Не получилось отвергнуть нулевую гипотезу\")"
   ]
  },
  {
   "cell_type": "markdown",
   "id": "b9b9eaf2",
   "metadata": {},
   "source": [
    "Проверим средние значения продолжительности поездок для каждой категории пользователей."
   ]
  },
  {
   "cell_type": "code",
   "execution_count": 33,
   "id": "365e8de9",
   "metadata": {},
   "outputs": [
    {
     "data": {
      "text/plain": [
       "18.542016923076922"
      ]
     },
     "execution_count": 33,
     "metadata": {},
     "output_type": "execute_result"
    }
   ],
   "source": [
    "df_ultra['duration'].mean()"
   ]
  },
  {
   "cell_type": "code",
   "execution_count": 34,
   "id": "d405dd0e",
   "metadata": {},
   "outputs": [
    {
     "data": {
      "text/plain": [
       "17.53076178854702"
      ]
     },
     "execution_count": 34,
     "metadata": {},
     "output_type": "execute_result"
    }
   ],
   "source": [
    "df_free['duration'].mean()"
   ]
  },
  {
   "cell_type": "markdown",
   "id": "9872540a",
   "metadata": {},
   "source": [
    "Средняя продолжительность поездок у пользователей с подпиской и без - не совпадают!"
   ]
  },
  {
   "cell_type": "code",
   "execution_count": 35,
   "id": "832f1098",
   "metadata": {},
   "outputs": [
    {
     "data": {
      "image/png": "[encoded data removed]",
      "text/plain": [
       "<Figure size 720x360 with 1 Axes>"
      ]
     },
     "metadata": {
      "needs_background": "light"
     },
     "output_type": "display_data"
    }
   ],
   "source": [
    "# создаем график \n",
    "plt.subplots(figsize=(10, 5))\n",
    "sns.histplot(df_free['duration'])\n",
    "plt.title('Проверка продолжительности поездок у пользователей без подписки')\n",
    "plt.xlabel('Продолжительность')\n",
    "plt.ylabel('Кол-во пользователей')\n",
    "plt.show()"
   ]
  },
  {
   "cell_type": "markdown",
   "id": "0bf42932",
   "metadata": {},
   "source": [
    "**Вывод**\n",
    "\n",
    "р-значение меньше альфа - мы можем отвергнуть нулевую гипотезу о равенстве средних продолжительностей поездок и сделать вывод, что пользователи с подпиской и без подписки имеют различные средние значения продолжительности поездок.\n",
    "\n"
   ]
  },
  {
   "cell_type": "markdown",
   "id": "b33b45cf",
   "metadata": {},
   "source": [
    "Проверим вторую гипотезу\n",
    "* H0 - Среднее расстояние, которое проезжает пользователь с подпиской за одну поездку, не превышает 3130 метров.\n",
    "* H1 - Среднее расстояние, которое проезжает пользователь с подпиской за одну поездку, превышает 3130 метров.\n",
    "\n",
    "Для проверки данной гипотезы можно воспользоваться одновыборочным t-тестом. Мы можем сравнить среднее расстояние, которое проезжают пользователи с подпиской за одну поездку, с определенным значением (в данном случае 3130 метров).\n"
   ]
  },
  {
   "cell_type": "code",
   "execution_count": 36,
   "id": "e0bf0b0a",
   "metadata": {},
   "outputs": [
    {
     "name": "stdout",
     "output_type": "stream",
     "text": [
      "p-значение:  0.9199218607432119\n",
      "Не получилось отвергнуть нулевую гипотезу\n"
     ]
    }
   ],
   "source": [
    "alpha = 0.05\n",
    "results = st.ttest_1samp(df_ultra['distance'], 3.13, alternative='greater')\n",
    "\n",
    "print('p-значение: ', results.pvalue)\n",
    "if results.pvalue < alpha:\n",
    "    print(\"Отвергаем нулевую гипотезу\")\n",
    "else:\n",
    "    print(\"Не получилось отвергнуть нулевую гипотезу\")"
   ]
  },
  {
   "cell_type": "code",
   "execution_count": 37,
   "id": "ae359a0d",
   "metadata": {},
   "outputs": [
    {
     "data": {
      "image/png": "[encoded data removed]",
      "text/plain": [
       "<Figure size 720x360 with 1 Axes>"
      ]
     },
     "metadata": {
      "needs_background": "light"
     },
     "output_type": "display_data"
    }
   ],
   "source": [
    "# создаем график \n",
    "plt.subplots(figsize=(10, 5))\n",
    "sns.histplot(df_ultra['distance'])\n",
    "plt.title('Проверка средней поездки не выше 3130 метров')\n",
    "plt.xlabel('Растояние')\n",
    "plt.ylabel('Кол-во пользователей')\n",
    "plt.show()"
   ]
  },
  {
   "cell_type": "markdown",
   "id": "39d050b6",
   "metadata": {},
   "source": [
    "**Вывод**\n",
    "\n",
    "p-значение больше альфа - мы не можем отвергнуть нулевую гипотезу о том, что среднее расстояние, которое проезжают пользователи с подпиской за одну поездку, не превышает 3130 метров. Таким образом, нет оснований сделать вывод о том, что среднее расстояние превышает указанное значение."
   ]
  },
  {
   "cell_type": "markdown",
   "id": "48fe2898",
   "metadata": {},
   "source": [
    "Проверим третью гипотезу\n",
    "\n",
    "- H0 - Месячная выручка от пользователей с подпиской и без подписки одинаковые\n",
    "- H1 - Месячная выручка от пользователей с подпиской больше чем у пользователей без подпискиски\n",
    "\n",
    "Тут тоже воспользумеся методом двусторонней гипотезы (t-тестом). "
   ]
  },
  {
   "cell_type": "code",
   "execution_count": 38,
   "id": "408f20ad",
   "metadata": {},
   "outputs": [
    {
     "name": "stdout",
     "output_type": "stream",
     "text": [
      "p-значение:  1.957394033609321e-30\n",
      "Отвергаем нулевую гипотезу\n"
     ]
    }
   ],
   "source": [
    "agg_df_ultra = agg_df[agg_df['subscription_type'] == 'ultra'] \n",
    "agg_df_free = agg_df[agg_df['subscription_type'] == 'free']\n",
    "\n",
    "alpha = 0.05\n",
    "results = st.ttest_ind(\n",
    "    agg_df_ultra.loc[:,'month_income'],\n",
    "    agg_df_free.loc[:,'month_income'], alternative='greater')\n",
    "\n",
    "print('p-значение: ', results.pvalue)\n",
    "if results.pvalue < alpha:\n",
    "    print(\"Отвергаем нулевую гипотезу\")\n",
    "else:\n",
    "    print(\"Не получилось отвергнуть нулевую гипотезу\")"
   ]
  },
  {
   "cell_type": "code",
   "execution_count": 39,
   "id": "978df9d9",
   "metadata": {},
   "outputs": [
    {
     "data": {
      "image/png": "[encoded data removed]",
      "text/plain": [
       "<Figure size 720x360 with 1 Axes>"
      ]
     },
     "metadata": {
      "needs_background": "light"
     },
     "output_type": "display_data"
    }
   ],
   "source": [
    "# создаем график \n",
    "plt.subplots(figsize=(10, 5))\n",
    "sns.histplot(agg_df['subscription_type'])\n",
    "plt.title('Проверка выручки от пользователей сервиса с подпиской и без')\n",
    "plt.xlabel('Подписка')\n",
    "plt.ylabel('Кол-во пользователей')\n",
    "plt.show()"
   ]
  },
  {
   "cell_type": "markdown",
   "id": "7c68b06c",
   "metadata": {},
   "source": [
    "Помсотрим на средние значения выручки для каждой категории пользователей."
   ]
  },
  {
   "cell_type": "code",
   "execution_count": 40,
   "id": "f0989360",
   "metadata": {},
   "outputs": [
    {
     "data": {
      "text/html": [
       "<div>\n",
       "<style scoped>\n",
       "    .dataframe tbody tr th:only-of-type {\n",
       "        vertical-align: middle;\n",
       "    }\n",
       "\n",
       "    .dataframe tbody tr th {\n",
       "        vertical-align: top;\n",
       "    }\n",
       "\n",
       "    .dataframe thead th {\n",
       "        text-align: right;\n",
       "    }\n",
       "</style>\n",
       "<table border=\"1\" class=\"dataframe\">\n",
       "  <thead>\n",
       "    <tr style=\"text-align: right;\">\n",
       "      <th></th>\n",
       "      <th>user_id</th>\n",
       "      <th>month</th>\n",
       "      <th>start_ride_price</th>\n",
       "      <th>minute_price</th>\n",
       "      <th>subscription_fee</th>\n",
       "      <th>distance_sum</th>\n",
       "      <th>duration_count</th>\n",
       "      <th>duration_sum</th>\n",
       "      <th>month_income</th>\n",
       "    </tr>\n",
       "  </thead>\n",
       "  <tbody>\n",
       "    <tr>\n",
       "      <th>count</th>\n",
       "      <td>4533.000000</td>\n",
       "      <td>4533.000000</td>\n",
       "      <td>4533.0</td>\n",
       "      <td>4533.0</td>\n",
       "      <td>4533.0</td>\n",
       "      <td>4533.000000</td>\n",
       "      <td>4533.000000</td>\n",
       "      <td>4533.000000</td>\n",
       "      <td>4533.000000</td>\n",
       "    </tr>\n",
       "    <tr>\n",
       "      <th>mean</th>\n",
       "      <td>347.769910</td>\n",
       "      <td>6.427973</td>\n",
       "      <td>0.0</td>\n",
       "      <td>6.0</td>\n",
       "      <td>199.0</td>\n",
       "      <td>4.467289</td>\n",
       "      <td>1.433929</td>\n",
       "      <td>27.287668</td>\n",
       "      <td>362.726009</td>\n",
       "    </tr>\n",
       "    <tr>\n",
       "      <th>std</th>\n",
       "      <td>200.433553</td>\n",
       "      <td>3.418698</td>\n",
       "      <td>0.0</td>\n",
       "      <td>0.0</td>\n",
       "      <td>0.0</td>\n",
       "      <td>2.353305</td>\n",
       "      <td>0.696331</td>\n",
       "      <td>14.706956</td>\n",
       "      <td>88.241734</td>\n",
       "    </tr>\n",
       "    <tr>\n",
       "      <th>min</th>\n",
       "      <td>1.000000</td>\n",
       "      <td>1.000000</td>\n",
       "      <td>0.0</td>\n",
       "      <td>6.0</td>\n",
       "      <td>199.0</td>\n",
       "      <td>0.240000</td>\n",
       "      <td>1.000000</td>\n",
       "      <td>4.000000</td>\n",
       "      <td>223.000000</td>\n",
       "    </tr>\n",
       "    <tr>\n",
       "      <th>25%</th>\n",
       "      <td>174.000000</td>\n",
       "      <td>3.000000</td>\n",
       "      <td>0.0</td>\n",
       "      <td>6.0</td>\n",
       "      <td>199.0</td>\n",
       "      <td>2.980000</td>\n",
       "      <td>1.000000</td>\n",
       "      <td>17.000000</td>\n",
       "      <td>301.000000</td>\n",
       "    </tr>\n",
       "    <tr>\n",
       "      <th>50%</th>\n",
       "      <td>348.000000</td>\n",
       "      <td>6.000000</td>\n",
       "      <td>0.0</td>\n",
       "      <td>6.0</td>\n",
       "      <td>199.0</td>\n",
       "      <td>3.570000</td>\n",
       "      <td>1.000000</td>\n",
       "      <td>22.000000</td>\n",
       "      <td>331.000000</td>\n",
       "    </tr>\n",
       "    <tr>\n",
       "      <th>75%</th>\n",
       "      <td>523.000000</td>\n",
       "      <td>9.000000</td>\n",
       "      <td>0.0</td>\n",
       "      <td>6.0</td>\n",
       "      <td>199.0</td>\n",
       "      <td>5.890000</td>\n",
       "      <td>2.000000</td>\n",
       "      <td>35.000000</td>\n",
       "      <td>409.000000</td>\n",
       "    </tr>\n",
       "    <tr>\n",
       "      <th>max</th>\n",
       "      <td>699.000000</td>\n",
       "      <td>12.000000</td>\n",
       "      <td>0.0</td>\n",
       "      <td>6.0</td>\n",
       "      <td>199.0</td>\n",
       "      <td>20.010000</td>\n",
       "      <td>6.000000</td>\n",
       "      <td>126.000000</td>\n",
       "      <td>955.000000</td>\n",
       "    </tr>\n",
       "  </tbody>\n",
       "</table>\n",
       "</div>"
      ],
      "text/plain": [
       "           user_id        month  start_ride_price  minute_price  \\\n",
       "count  4533.000000  4533.000000            4533.0        4533.0   \n",
       "mean    347.769910     6.427973               0.0           6.0   \n",
       "std     200.433553     3.418698               0.0           0.0   \n",
       "min       1.000000     1.000000               0.0           6.0   \n",
       "25%     174.000000     3.000000               0.0           6.0   \n",
       "50%     348.000000     6.000000               0.0           6.0   \n",
       "75%     523.000000     9.000000               0.0           6.0   \n",
       "max     699.000000    12.000000               0.0           6.0   \n",
       "\n",
       "       subscription_fee  distance_sum  duration_count  duration_sum  \\\n",
       "count            4533.0   4533.000000     4533.000000   4533.000000   \n",
       "mean              199.0      4.467289        1.433929     27.287668   \n",
       "std                 0.0      2.353305        0.696331     14.706956   \n",
       "min               199.0      0.240000        1.000000      4.000000   \n",
       "25%               199.0      2.980000        1.000000     17.000000   \n",
       "50%               199.0      3.570000        1.000000     22.000000   \n",
       "75%               199.0      5.890000        2.000000     35.000000   \n",
       "max               199.0     20.010000        6.000000    126.000000   \n",
       "\n",
       "       month_income  \n",
       "count   4533.000000  \n",
       "mean     362.726009  \n",
       "std       88.241734  \n",
       "min      223.000000  \n",
       "25%      301.000000  \n",
       "50%      331.000000  \n",
       "75%      409.000000  \n",
       "max      955.000000  "
      ]
     },
     "execution_count": 40,
     "metadata": {},
     "output_type": "execute_result"
    }
   ],
   "source": [
    "agg_df_ultra.describe()"
   ]
  },
  {
   "cell_type": "code",
   "execution_count": 41,
   "id": "7c7dea3d",
   "metadata": {},
   "outputs": [
    {
     "data": {
      "text/html": [
       "<div>\n",
       "<style scoped>\n",
       "    .dataframe tbody tr th:only-of-type {\n",
       "        vertical-align: middle;\n",
       "    }\n",
       "\n",
       "    .dataframe tbody tr th {\n",
       "        vertical-align: top;\n",
       "    }\n",
       "\n",
       "    .dataframe thead th {\n",
       "        text-align: right;\n",
       "    }\n",
       "</style>\n",
       "<table border=\"1\" class=\"dataframe\">\n",
       "  <thead>\n",
       "    <tr style=\"text-align: right;\">\n",
       "      <th></th>\n",
       "      <th>user_id</th>\n",
       "      <th>month</th>\n",
       "      <th>start_ride_price</th>\n",
       "      <th>minute_price</th>\n",
       "      <th>subscription_fee</th>\n",
       "      <th>distance_sum</th>\n",
       "      <th>duration_count</th>\n",
       "      <th>duration_sum</th>\n",
       "      <th>month_income</th>\n",
       "    </tr>\n",
       "  </thead>\n",
       "  <tbody>\n",
       "    <tr>\n",
       "      <th>count</th>\n",
       "      <td>6767.000000</td>\n",
       "      <td>6767.000000</td>\n",
       "      <td>6767.0</td>\n",
       "      <td>6767.0</td>\n",
       "      <td>6767.0</td>\n",
       "      <td>6767.000000</td>\n",
       "      <td>6767.000000</td>\n",
       "      <td>6767.000000</td>\n",
       "      <td>6767.000000</td>\n",
       "    </tr>\n",
       "    <tr>\n",
       "      <th>mean</th>\n",
       "      <td>1120.077878</td>\n",
       "      <td>6.513522</td>\n",
       "      <td>50.0</td>\n",
       "      <td>8.0</td>\n",
       "      <td>0.0</td>\n",
       "      <td>5.134401</td>\n",
       "      <td>1.695434</td>\n",
       "      <td>30.561844</td>\n",
       "      <td>329.266440</td>\n",
       "    </tr>\n",
       "    <tr>\n",
       "      <th>std</th>\n",
       "      <td>240.453527</td>\n",
       "      <td>3.457707</td>\n",
       "      <td>0.0</td>\n",
       "      <td>0.0</td>\n",
       "      <td>0.0</td>\n",
       "      <td>3.161801</td>\n",
       "      <td>0.889829</td>\n",
       "      <td>17.798731</td>\n",
       "      <td>183.215022</td>\n",
       "    </tr>\n",
       "    <tr>\n",
       "      <th>min</th>\n",
       "      <td>700.000000</td>\n",
       "      <td>1.000000</td>\n",
       "      <td>50.0</td>\n",
       "      <td>8.0</td>\n",
       "      <td>0.0</td>\n",
       "      <td>0.000000</td>\n",
       "      <td>1.000000</td>\n",
       "      <td>3.000000</td>\n",
       "      <td>74.000000</td>\n",
       "    </tr>\n",
       "    <tr>\n",
       "      <th>25%</th>\n",
       "      <td>915.000000</td>\n",
       "      <td>4.000000</td>\n",
       "      <td>50.0</td>\n",
       "      <td>8.0</td>\n",
       "      <td>0.0</td>\n",
       "      <td>2.930000</td>\n",
       "      <td>1.000000</td>\n",
       "      <td>18.000000</td>\n",
       "      <td>194.000000</td>\n",
       "    </tr>\n",
       "    <tr>\n",
       "      <th>50%</th>\n",
       "      <td>1120.000000</td>\n",
       "      <td>7.000000</td>\n",
       "      <td>50.0</td>\n",
       "      <td>8.0</td>\n",
       "      <td>0.0</td>\n",
       "      <td>4.290000</td>\n",
       "      <td>1.000000</td>\n",
       "      <td>26.000000</td>\n",
       "      <td>274.000000</td>\n",
       "    </tr>\n",
       "    <tr>\n",
       "      <th>75%</th>\n",
       "      <td>1326.000000</td>\n",
       "      <td>9.000000</td>\n",
       "      <td>50.0</td>\n",
       "      <td>8.0</td>\n",
       "      <td>0.0</td>\n",
       "      <td>6.795000</td>\n",
       "      <td>2.000000</td>\n",
       "      <td>40.000000</td>\n",
       "      <td>428.000000</td>\n",
       "    </tr>\n",
       "    <tr>\n",
       "      <th>max</th>\n",
       "      <td>1534.000000</td>\n",
       "      <td>12.000000</td>\n",
       "      <td>50.0</td>\n",
       "      <td>8.0</td>\n",
       "      <td>0.0</td>\n",
       "      <td>23.430000</td>\n",
       "      <td>7.000000</td>\n",
       "      <td>143.000000</td>\n",
       "      <td>1444.000000</td>\n",
       "    </tr>\n",
       "  </tbody>\n",
       "</table>\n",
       "</div>"
      ],
      "text/plain": [
       "           user_id        month  start_ride_price  minute_price  \\\n",
       "count  6767.000000  6767.000000            6767.0        6767.0   \n",
       "mean   1120.077878     6.513522              50.0           8.0   \n",
       "std     240.453527     3.457707               0.0           0.0   \n",
       "min     700.000000     1.000000              50.0           8.0   \n",
       "25%     915.000000     4.000000              50.0           8.0   \n",
       "50%    1120.000000     7.000000              50.0           8.0   \n",
       "75%    1326.000000     9.000000              50.0           8.0   \n",
       "max    1534.000000    12.000000              50.0           8.0   \n",
       "\n",
       "       subscription_fee  distance_sum  duration_count  duration_sum  \\\n",
       "count            6767.0   6767.000000     6767.000000   6767.000000   \n",
       "mean                0.0      5.134401        1.695434     30.561844   \n",
       "std                 0.0      3.161801        0.889829     17.798731   \n",
       "min                 0.0      0.000000        1.000000      3.000000   \n",
       "25%                 0.0      2.930000        1.000000     18.000000   \n",
       "50%                 0.0      4.290000        1.000000     26.000000   \n",
       "75%                 0.0      6.795000        2.000000     40.000000   \n",
       "max                 0.0     23.430000        7.000000    143.000000   \n",
       "\n",
       "       month_income  \n",
       "count   6767.000000  \n",
       "mean     329.266440  \n",
       "std      183.215022  \n",
       "min       74.000000  \n",
       "25%      194.000000  \n",
       "50%      274.000000  \n",
       "75%      428.000000  \n",
       "max     1444.000000  "
      ]
     },
     "execution_count": 41,
     "metadata": {},
     "output_type": "execute_result"
    }
   ],
   "source": [
    "agg_df_free.describe()"
   ]
  },
  {
   "cell_type": "markdown",
   "id": "046e93b3",
   "metadata": {},
   "source": [
    "Действительно, в среднем ежемесячный доход от пользователей с подпиской чуть выше, чем от пользователей без подписки. Однако, общая выручка от пользователей без подписки превышает выручку от пользователей с подпиской. Это связано с тем, что у сервиса больше пользователей без подписки."
   ]
  },
  {
   "cell_type": "markdown",
   "id": "769e4188",
   "metadata": {},
   "source": [
    "**Вывод**\n",
    "\n",
    "р-значение меньше alpha - можем отвергнуть нулевую гипотезу о равенстве средних выручек и сделать вывод, что помесячная выручка от пользователей с подпиской выше, чем от пользователей без подписки."
   ]
  },
  {
   "cell_type": "markdown",
   "id": "5d2f8e20",
   "metadata": {},
   "source": [
    "**Вопрос** - Представьте такую ситуацию: техническая команда сервиса обновила сервера, с которыми взаимодействует мобильное приложение. Она надеется, что из-за этого количество обращений в техподдержку значимо снизилось. Некоторый файл содержит для каждого пользователя данные о количестве обращений до обновления и после него. Какой тест вам понадобился бы для проверки этой гипотезы?\n",
    "\n",
    "*Ответ - Для проверки гипотезы о том, что обновление серверов значимо снизило количество обращений в техподдержку, можно использовать парный t-тест для зависимых выборок. Парный t-тест позволяет сравнить различия между двумя связанными выборками. Из библиотеки scipy.stats для проведения t-теста мы можете использовать функцию ttest_rel.*"
   ]
  },
  {
   "cell_type": "markdown",
   "id": "cd3af3c6",
   "metadata": {},
   "source": [
    "## Общий вывод\n",
    "\n",
    "Мы изучили выборку данных сервиса аренды самокатов. Основная задача - выявить, от кого получается больше дохода: от пользователей с подпиской или без подписки.\n",
    "\n",
    "Выяснили:\n",
    "* В основном молодежь пользуется самокатами, которые преодолевают расстояние от 2 до 4 км за 10-25 минут. Стоит также отметить, что количество поездок без подписки больше. \n",
    "* Удивительно также соотношение городов. Например, в Москве (население 13 млн) количество пользователей меньше, чем в Пятигорске (145 тысяч). Предполагаю, что это связано с соотношением самокатов и пользователей.\n",
    "\n",
    "В ходе анализа объединили все 3 предоставленные таблицы, чтобы было легче работать с данными. Избавились от дубликатов в таблице users_go.csv и создали две отдельные таблицы для пользователей с подпиской и без подписки. Установили, что пользователей, пользующихся сервисом самокатов с подпиской, меньше, чем пользователей без подписки. Основная категория пользователей - люди в возрасте от 15 до 30 лет.\n",
    "\n",
    "Основные выводы. Исходя из проделанной работы, можно сказать, что средняя ежемесячная выручка от пользователей с подпиской выше, чем у пользователей без подписки, несмотря на то, что пользователей без подписки в сервисе больше.\n",
    "\n",
    "В качестве рекомендации могу посоветовать в дальнейшем создавать или сохранять отдельно информацию (БД) о пользователях с подпиской и пользователях без подписки, чтобы было проще анализировать доходность каждой группы пользователей. Также для избежания дубликатов и пропусков в данных можно сделать обязательным заполнение каждого поля при регистрации."
   ]
  }
 ],
 "metadata": {
  "ExecuteTimeLog": [
   {
    "duration": 435,
    "start_time": "2023-10-23T13:13:21.965Z"
   },
   {
    "duration": 128,
    "start_time": "2023-10-23T13:21:13.455Z"
   },
   {
    "duration": 550,
    "start_time": "2023-10-23T13:21:43.156Z"
   },
   {
    "duration": 17,
    "start_time": "2023-10-23T13:22:19.402Z"
   },
   {
    "duration": 8,
    "start_time": "2023-10-23T13:22:33.008Z"
   },
   {
    "duration": 9,
    "start_time": "2023-10-23T13:22:41.711Z"
   },
   {
    "duration": 7,
    "start_time": "2023-10-23T13:22:49.741Z"
   },
   {
    "duration": 8,
    "start_time": "2023-10-23T13:23:06.939Z"
   },
   {
    "duration": 18,
    "start_time": "2023-10-23T13:23:15.765Z"
   },
   {
    "duration": 12,
    "start_time": "2023-10-23T13:23:33.006Z"
   },
   {
    "duration": 9,
    "start_time": "2023-10-23T13:23:46.603Z"
   },
   {
    "duration": 7,
    "start_time": "2023-10-23T13:24:20.986Z"
   },
   {
    "duration": 14,
    "start_time": "2023-10-23T13:24:25.993Z"
   },
   {
    "duration": 15,
    "start_time": "2023-10-23T13:24:32.754Z"
   },
   {
    "duration": 18,
    "start_time": "2023-10-23T13:25:00.970Z"
   },
   {
    "duration": 19,
    "start_time": "2023-10-23T13:25:09.341Z"
   },
   {
    "duration": 17,
    "start_time": "2023-10-23T13:25:17.435Z"
   },
   {
    "duration": 17,
    "start_time": "2023-10-23T13:27:18.796Z"
   },
   {
    "duration": 20,
    "start_time": "2023-10-23T13:27:27.850Z"
   },
   {
    "duration": 1903,
    "start_time": "2023-10-23T13:33:24.137Z"
   },
   {
    "duration": 70,
    "start_time": "2023-10-23T13:33:26.042Z"
   },
   {
    "duration": 18,
    "start_time": "2023-10-23T13:33:26.113Z"
   },
   {
    "duration": 22,
    "start_time": "2023-10-23T13:33:26.133Z"
   },
   {
    "duration": 20,
    "start_time": "2023-10-23T13:33:26.157Z"
   },
   {
    "duration": 123,
    "start_time": "2023-10-23T13:35:38.918Z"
   },
   {
    "duration": 19,
    "start_time": "2023-10-23T13:35:46.412Z"
   },
   {
    "duration": 23,
    "start_time": "2023-10-23T13:36:06.816Z"
   },
   {
    "duration": 9,
    "start_time": "2023-10-23T13:38:00.307Z"
   },
   {
    "duration": 13,
    "start_time": "2023-10-23T13:38:09.113Z"
   },
   {
    "duration": 2226,
    "start_time": "2023-10-23T13:40:15.139Z"
   },
   {
    "duration": 24,
    "start_time": "2023-10-23T13:40:29.839Z"
   },
   {
    "duration": 9,
    "start_time": "2023-10-23T13:40:49.970Z"
   },
   {
    "duration": 16,
    "start_time": "2023-10-23T13:40:54.798Z"
   },
   {
    "duration": 19,
    "start_time": "2023-10-23T13:41:11.239Z"
   },
   {
    "duration": 11,
    "start_time": "2023-10-23T13:41:19.417Z"
   },
   {
    "duration": 15,
    "start_time": "2023-10-23T13:41:39.387Z"
   },
   {
    "duration": 11,
    "start_time": "2023-10-23T13:41:46.989Z"
   },
   {
    "duration": 10,
    "start_time": "2023-10-23T13:42:13.712Z"
   },
   {
    "duration": 12,
    "start_time": "2023-10-23T13:42:24.061Z"
   },
   {
    "duration": 8,
    "start_time": "2023-10-23T13:42:39.111Z"
   },
   {
    "duration": 8,
    "start_time": "2023-10-23T13:43:02.206Z"
   },
   {
    "duration": 8,
    "start_time": "2023-10-23T13:43:19.816Z"
   },
   {
    "duration": 11,
    "start_time": "2023-10-23T13:44:04.211Z"
   },
   {
    "duration": 119,
    "start_time": "2023-10-23T13:47:11.476Z"
   },
   {
    "duration": 89,
    "start_time": "2023-10-23T13:48:01.085Z"
   },
   {
    "duration": 5,
    "start_time": "2023-10-23T13:48:41.702Z"
   },
   {
    "duration": 12,
    "start_time": "2023-10-23T13:48:53.502Z"
   },
   {
    "duration": 11,
    "start_time": "2023-10-23T13:49:08.670Z"
   },
   {
    "duration": 4,
    "start_time": "2023-10-23T13:50:10.394Z"
   },
   {
    "duration": 9,
    "start_time": "2023-10-23T13:50:22.431Z"
   },
   {
    "duration": 11,
    "start_time": "2023-10-23T13:51:14.569Z"
   },
   {
    "duration": 9,
    "start_time": "2023-10-23T13:51:29.781Z"
   },
   {
    "duration": 4,
    "start_time": "2023-10-23T13:51:53.307Z"
   },
   {
    "duration": 1232,
    "start_time": "2023-10-23T13:52:01.027Z"
   },
   {
    "duration": 69,
    "start_time": "2023-10-23T13:52:02.261Z"
   },
   {
    "duration": 140,
    "start_time": "2023-10-23T13:52:02.331Z"
   },
   {
    "duration": 36,
    "start_time": "2023-10-23T13:52:02.472Z"
   },
   {
    "duration": 170,
    "start_time": "2023-10-23T13:52:02.510Z"
   },
   {
    "duration": 67,
    "start_time": "2023-10-23T13:52:02.681Z"
   },
   {
    "duration": 16,
    "start_time": "2023-10-23T13:52:02.759Z"
   },
   {
    "duration": 21,
    "start_time": "2023-10-23T13:52:02.776Z"
   },
   {
    "duration": 12,
    "start_time": "2023-10-23T13:52:02.798Z"
   },
   {
    "duration": 29,
    "start_time": "2023-10-23T13:52:02.811Z"
   },
   {
    "duration": 4,
    "start_time": "2023-10-23T13:52:31.211Z"
   },
   {
    "duration": 11,
    "start_time": "2023-10-23T13:52:32.591Z"
   },
   {
    "duration": 12,
    "start_time": "2023-10-23T13:52:40.140Z"
   },
   {
    "duration": 1132,
    "start_time": "2023-10-23T13:52:48.985Z"
   },
   {
    "duration": 74,
    "start_time": "2023-10-23T13:52:50.120Z"
   },
   {
    "duration": 25,
    "start_time": "2023-10-23T13:52:50.198Z"
   },
   {
    "duration": 25,
    "start_time": "2023-10-23T13:52:50.226Z"
   },
   {
    "duration": 20,
    "start_time": "2023-10-23T13:52:50.253Z"
   },
   {
    "duration": 17,
    "start_time": "2023-10-23T13:52:50.276Z"
   },
   {
    "duration": 25,
    "start_time": "2023-10-23T13:52:50.295Z"
   },
   {
    "duration": 21,
    "start_time": "2023-10-23T13:52:50.321Z"
   },
   {
    "duration": 22,
    "start_time": "2023-10-23T13:52:50.344Z"
   },
   {
    "duration": 5,
    "start_time": "2023-10-23T13:53:47.428Z"
   },
   {
    "duration": 5,
    "start_time": "2023-10-23T13:54:00.131Z"
   },
   {
    "duration": 5,
    "start_time": "2023-10-23T13:54:09.106Z"
   },
   {
    "duration": 4,
    "start_time": "2023-10-23T13:54:20.763Z"
   },
   {
    "duration": 133,
    "start_time": "2023-10-23T13:54:28.439Z"
   },
   {
    "duration": 5,
    "start_time": "2023-10-23T13:54:41.019Z"
   },
   {
    "duration": 7,
    "start_time": "2023-10-23T13:57:10.775Z"
   },
   {
    "duration": 5,
    "start_time": "2023-10-23T13:57:17.370Z"
   },
   {
    "duration": 4,
    "start_time": "2023-10-23T13:58:38.864Z"
   },
   {
    "duration": 10,
    "start_time": "2023-10-23T13:58:42.583Z"
   },
   {
    "duration": 1420,
    "start_time": "2023-10-23T13:58:53.700Z"
   },
   {
    "duration": 94,
    "start_time": "2023-10-23T13:58:55.123Z"
   },
   {
    "duration": 32,
    "start_time": "2023-10-23T13:58:55.219Z"
   },
   {
    "duration": 30,
    "start_time": "2023-10-23T13:58:55.253Z"
   },
   {
    "duration": 25,
    "start_time": "2023-10-23T13:58:55.286Z"
   },
   {
    "duration": 46,
    "start_time": "2023-10-23T13:58:55.313Z"
   },
   {
    "duration": 14,
    "start_time": "2023-10-23T13:58:55.365Z"
   },
   {
    "duration": 17,
    "start_time": "2023-10-23T13:58:55.381Z"
   },
   {
    "duration": 35,
    "start_time": "2023-10-23T13:58:55.400Z"
   },
   {
    "duration": 35,
    "start_time": "2023-10-23T13:58:55.437Z"
   },
   {
    "duration": 12,
    "start_time": "2023-10-23T13:59:15.263Z"
   },
   {
    "duration": 437,
    "start_time": "2023-10-23T14:01:26.870Z"
   },
   {
    "duration": 85,
    "start_time": "2023-10-23T14:01:58.573Z"
   },
   {
    "duration": 97,
    "start_time": "2023-10-23T14:06:43.507Z"
   },
   {
    "duration": 107,
    "start_time": "2023-10-23T14:07:29.225Z"
   },
   {
    "duration": 172,
    "start_time": "2023-10-23T14:07:32.709Z"
   },
   {
    "duration": 159,
    "start_time": "2023-10-23T14:07:38.760Z"
   },
   {
    "duration": 149,
    "start_time": "2023-10-23T14:07:43.663Z"
   },
   {
    "duration": 200,
    "start_time": "2023-10-23T14:07:47.587Z"
   },
   {
    "duration": 178,
    "start_time": "2023-10-23T14:08:09.761Z"
   },
   {
    "duration": 237,
    "start_time": "2023-10-23T14:27:27.423Z"
   },
   {
    "duration": 436,
    "start_time": "2023-10-23T14:27:43.785Z"
   },
   {
    "duration": 6,
    "start_time": "2023-10-23T14:30:40.208Z"
   },
   {
    "duration": 28,
    "start_time": "2023-10-23T14:34:33.788Z"
   },
   {
    "duration": 204,
    "start_time": "2023-10-23T14:36:26.499Z"
   },
   {
    "duration": 154,
    "start_time": "2023-10-23T14:38:22.719Z"
   },
   {
    "duration": 156,
    "start_time": "2023-10-23T14:39:23.237Z"
   },
   {
    "duration": 324,
    "start_time": "2023-10-23T14:39:30.289Z"
   },
   {
    "duration": 8,
    "start_time": "2023-10-23T14:41:08.767Z"
   },
   {
    "duration": 136,
    "start_time": "2023-10-23T14:44:29.710Z"
   },
   {
    "duration": 298,
    "start_time": "2023-10-23T14:46:14.984Z"
   },
   {
    "duration": 262,
    "start_time": "2023-10-23T14:47:20.779Z"
   },
   {
    "duration": 3,
    "start_time": "2023-10-23T14:47:39.530Z"
   },
   {
    "duration": 139,
    "start_time": "2023-10-23T14:50:28.675Z"
   },
   {
    "duration": 202,
    "start_time": "2023-10-23T14:50:56.727Z"
   },
   {
    "duration": 310,
    "start_time": "2023-10-23T14:51:01.478Z"
   },
   {
    "duration": 185,
    "start_time": "2023-10-23T14:51:08.337Z"
   },
   {
    "duration": 187,
    "start_time": "2023-10-23T14:51:12.594Z"
   },
   {
    "duration": 180,
    "start_time": "2023-10-23T14:51:17.495Z"
   },
   {
    "duration": 206,
    "start_time": "2023-10-23T14:53:20.830Z"
   },
   {
    "duration": 196,
    "start_time": "2023-10-23T14:53:55.717Z"
   },
   {
    "duration": 236,
    "start_time": "2023-10-23T14:54:23.978Z"
   },
   {
    "duration": 189,
    "start_time": "2023-10-23T14:57:15.680Z"
   },
   {
    "duration": 238,
    "start_time": "2023-10-23T14:57:24.267Z"
   },
   {
    "duration": 171,
    "start_time": "2023-10-23T14:57:58.522Z"
   },
   {
    "duration": 91,
    "start_time": "2023-10-23T14:58:43.419Z"
   },
   {
    "duration": 221,
    "start_time": "2023-10-23T14:58:55.482Z"
   },
   {
    "duration": 319,
    "start_time": "2023-10-23T15:00:05.785Z"
   },
   {
    "duration": 239,
    "start_time": "2023-10-23T15:00:10.565Z"
   },
   {
    "duration": 304,
    "start_time": "2023-10-23T15:00:14.060Z"
   },
   {
    "duration": 317,
    "start_time": "2023-10-23T15:00:22.773Z"
   },
   {
    "duration": 264,
    "start_time": "2023-10-23T15:00:29.164Z"
   },
   {
    "duration": 213,
    "start_time": "2023-10-23T15:01:06.610Z"
   },
   {
    "duration": 208,
    "start_time": "2023-10-23T15:01:31.894Z"
   },
   {
    "duration": 202,
    "start_time": "2023-10-23T15:12:36.061Z"
   },
   {
    "duration": 1309,
    "start_time": "2023-10-23T15:20:58.368Z"
   },
   {
    "duration": 81,
    "start_time": "2023-10-23T15:20:59.679Z"
   },
   {
    "duration": 21,
    "start_time": "2023-10-23T15:20:59.762Z"
   },
   {
    "duration": 17,
    "start_time": "2023-10-23T15:20:59.785Z"
   },
   {
    "duration": 16,
    "start_time": "2023-10-23T15:20:59.803Z"
   },
   {
    "duration": 40,
    "start_time": "2023-10-23T15:20:59.820Z"
   },
   {
    "duration": 17,
    "start_time": "2023-10-23T15:20:59.862Z"
   },
   {
    "duration": 13,
    "start_time": "2023-10-23T15:20:59.880Z"
   },
   {
    "duration": 6,
    "start_time": "2023-10-23T15:20:59.895Z"
   },
   {
    "duration": 12,
    "start_time": "2023-10-23T15:20:59.903Z"
   },
   {
    "duration": 241,
    "start_time": "2023-10-23T15:20:59.917Z"
   },
   {
    "duration": 153,
    "start_time": "2023-10-23T15:21:00.160Z"
   },
   {
    "duration": 210,
    "start_time": "2023-10-23T15:21:00.315Z"
   },
   {
    "duration": 232,
    "start_time": "2023-10-23T15:21:00.527Z"
   },
   {
    "duration": 237,
    "start_time": "2023-10-23T15:21:00.761Z"
   },
   {
    "duration": 1361,
    "start_time": "2023-10-24T08:19:39.888Z"
   },
   {
    "duration": 213,
    "start_time": "2023-10-24T08:19:41.252Z"
   },
   {
    "duration": 25,
    "start_time": "2023-10-24T08:19:41.467Z"
   },
   {
    "duration": 19,
    "start_time": "2023-10-24T08:19:41.495Z"
   },
   {
    "duration": 14,
    "start_time": "2023-10-24T08:19:41.516Z"
   },
   {
    "duration": 17,
    "start_time": "2023-10-24T08:19:41.532Z"
   },
   {
    "duration": 19,
    "start_time": "2023-10-24T08:19:41.551Z"
   },
   {
    "duration": 12,
    "start_time": "2023-10-24T08:19:41.571Z"
   },
   {
    "duration": 5,
    "start_time": "2023-10-24T08:19:41.585Z"
   },
   {
    "duration": 47,
    "start_time": "2023-10-24T08:19:41.592Z"
   },
   {
    "duration": 195,
    "start_time": "2023-10-24T08:19:41.641Z"
   },
   {
    "duration": 161,
    "start_time": "2023-10-24T08:19:41.838Z"
   },
   {
    "duration": 195,
    "start_time": "2023-10-24T08:19:42.000Z"
   },
   {
    "duration": 204,
    "start_time": "2023-10-24T08:19:42.196Z"
   },
   {
    "duration": 229,
    "start_time": "2023-10-24T08:19:42.401Z"
   },
   {
    "duration": 100,
    "start_time": "2023-10-24T08:32:54.662Z"
   },
   {
    "duration": 12,
    "start_time": "2023-10-24T08:35:54.273Z"
   },
   {
    "duration": 11,
    "start_time": "2023-10-24T08:36:45.584Z"
   },
   {
    "duration": 21,
    "start_time": "2023-10-24T08:36:56.712Z"
   },
   {
    "duration": 15,
    "start_time": "2023-10-24T08:38:43.759Z"
   },
   {
    "duration": 21,
    "start_time": "2023-10-24T08:38:52.415Z"
   },
   {
    "duration": 38,
    "start_time": "2023-10-24T08:39:30.047Z"
   },
   {
    "duration": 14,
    "start_time": "2023-10-24T08:42:18.340Z"
   },
   {
    "duration": 82,
    "start_time": "2023-10-24T08:42:32.198Z"
   },
   {
    "duration": 20,
    "start_time": "2023-10-24T08:44:06.631Z"
   },
   {
    "duration": 17,
    "start_time": "2023-10-24T08:44:18.991Z"
   },
   {
    "duration": 9,
    "start_time": "2023-10-24T08:44:33.659Z"
   },
   {
    "duration": 14,
    "start_time": "2023-10-24T08:49:55.732Z"
   },
   {
    "duration": 30,
    "start_time": "2023-10-24T08:50:20.966Z"
   },
   {
    "duration": 21,
    "start_time": "2023-10-24T08:50:37.026Z"
   },
   {
    "duration": 25,
    "start_time": "2023-10-24T08:52:20.824Z"
   },
   {
    "duration": 27,
    "start_time": "2023-10-24T08:52:27.794Z"
   },
   {
    "duration": 8,
    "start_time": "2023-10-24T09:00:14.448Z"
   },
   {
    "duration": 9,
    "start_time": "2023-10-24T09:00:23.388Z"
   },
   {
    "duration": 7,
    "start_time": "2023-10-24T09:00:27.633Z"
   },
   {
    "duration": 13,
    "start_time": "2023-10-24T09:00:41.539Z"
   },
   {
    "duration": 5,
    "start_time": "2023-10-24T09:00:58.509Z"
   },
   {
    "duration": 24,
    "start_time": "2023-10-24T09:01:08.929Z"
   },
   {
    "duration": 27,
    "start_time": "2023-10-24T09:01:55.725Z"
   },
   {
    "duration": 22,
    "start_time": "2023-10-24T09:02:12.071Z"
   },
   {
    "duration": 8,
    "start_time": "2023-10-24T09:06:04.697Z"
   },
   {
    "duration": 10,
    "start_time": "2023-10-24T09:06:40.855Z"
   },
   {
    "duration": 25,
    "start_time": "2023-10-24T09:10:26.742Z"
   },
   {
    "duration": 26,
    "start_time": "2023-10-24T09:10:35.338Z"
   },
   {
    "duration": 27,
    "start_time": "2023-10-24T09:10:46.991Z"
   },
   {
    "duration": 13,
    "start_time": "2023-10-24T09:11:24.783Z"
   },
   {
    "duration": 13,
    "start_time": "2023-10-24T09:12:02.254Z"
   },
   {
    "duration": 1229,
    "start_time": "2023-10-24T09:12:13.750Z"
   },
   {
    "duration": 73,
    "start_time": "2023-10-24T09:12:14.981Z"
   },
   {
    "duration": 21,
    "start_time": "2023-10-24T09:12:15.056Z"
   },
   {
    "duration": 106,
    "start_time": "2023-10-24T09:12:15.079Z"
   },
   {
    "duration": 25,
    "start_time": "2023-10-24T09:12:15.188Z"
   },
   {
    "duration": 21,
    "start_time": "2023-10-24T09:12:15.215Z"
   },
   {
    "duration": 19,
    "start_time": "2023-10-24T09:12:15.238Z"
   },
   {
    "duration": 13,
    "start_time": "2023-10-24T09:12:15.258Z"
   },
   {
    "duration": 5,
    "start_time": "2023-10-24T09:12:15.272Z"
   },
   {
    "duration": 15,
    "start_time": "2023-10-24T09:12:15.278Z"
   },
   {
    "duration": 204,
    "start_time": "2023-10-24T09:12:15.294Z"
   },
   {
    "duration": 147,
    "start_time": "2023-10-24T09:12:15.500Z"
   },
   {
    "duration": 197,
    "start_time": "2023-10-24T09:12:15.649Z"
   },
   {
    "duration": 275,
    "start_time": "2023-10-24T09:12:15.849Z"
   },
   {
    "duration": 248,
    "start_time": "2023-10-24T09:12:16.126Z"
   },
   {
    "duration": 111,
    "start_time": "2023-10-24T09:12:16.376Z"
   },
   {
    "duration": 0,
    "start_time": "2023-10-24T09:12:16.489Z"
   },
   {
    "duration": 0,
    "start_time": "2023-10-24T09:12:16.491Z"
   },
   {
    "duration": 24,
    "start_time": "2023-10-24T09:12:32.261Z"
   },
   {
    "duration": 19,
    "start_time": "2023-10-24T09:12:37.851Z"
   },
   {
    "duration": 30,
    "start_time": "2023-10-24T09:12:52.904Z"
   },
   {
    "duration": 29,
    "start_time": "2023-10-24T09:13:00.621Z"
   },
   {
    "duration": 32,
    "start_time": "2023-10-24T09:13:13.792Z"
   },
   {
    "duration": 25,
    "start_time": "2023-10-24T09:13:28.053Z"
   },
   {
    "duration": 13,
    "start_time": "2023-10-24T09:13:32.555Z"
   },
   {
    "duration": 14,
    "start_time": "2023-10-24T09:13:55.778Z"
   },
   {
    "duration": 20,
    "start_time": "2023-10-24T09:14:50.789Z"
   },
   {
    "duration": 27,
    "start_time": "2023-10-24T09:15:03.490Z"
   },
   {
    "duration": 27,
    "start_time": "2023-10-24T09:15:17.300Z"
   },
   {
    "duration": 38,
    "start_time": "2023-10-24T09:15:56.310Z"
   },
   {
    "duration": 12,
    "start_time": "2023-10-24T09:16:03.442Z"
   },
   {
    "duration": 15,
    "start_time": "2023-10-24T09:16:14.557Z"
   },
   {
    "duration": 9,
    "start_time": "2023-10-24T09:16:27.073Z"
   },
   {
    "duration": 11,
    "start_time": "2023-10-24T09:16:40.345Z"
   },
   {
    "duration": 16,
    "start_time": "2023-10-24T09:21:22.359Z"
   },
   {
    "duration": 27,
    "start_time": "2023-10-24T09:21:32.974Z"
   },
   {
    "duration": 24,
    "start_time": "2023-10-24T09:21:39.149Z"
   },
   {
    "duration": 26,
    "start_time": "2023-10-24T09:22:11.840Z"
   },
   {
    "duration": 170,
    "start_time": "2023-10-24T09:22:30.226Z"
   },
   {
    "duration": 232,
    "start_time": "2023-10-24T09:22:34.973Z"
   },
   {
    "duration": 140,
    "start_time": "2023-10-24T09:22:39.607Z"
   },
   {
    "duration": 1407,
    "start_time": "2023-10-24T09:25:39.648Z"
   },
   {
    "duration": 11,
    "start_time": "2023-10-24T09:27:26.612Z"
   },
   {
    "duration": 9,
    "start_time": "2023-10-24T09:27:33.676Z"
   },
   {
    "duration": 9,
    "start_time": "2023-10-24T09:27:42.415Z"
   },
   {
    "duration": 74,
    "start_time": "2023-10-24T09:27:58.373Z"
   },
   {
    "duration": 8,
    "start_time": "2023-10-24T09:28:04.089Z"
   },
   {
    "duration": 803,
    "start_time": "2023-10-24T09:28:12.355Z"
   },
   {
    "duration": 152,
    "start_time": "2023-10-24T09:29:23.879Z"
   },
   {
    "duration": 143,
    "start_time": "2023-10-24T09:29:26.940Z"
   },
   {
    "duration": 148,
    "start_time": "2023-10-24T09:29:44.521Z"
   },
   {
    "duration": 175,
    "start_time": "2023-10-24T09:30:25.292Z"
   },
   {
    "duration": 1209,
    "start_time": "2023-10-24T09:32:02.346Z"
   },
   {
    "duration": 72,
    "start_time": "2023-10-24T09:32:03.557Z"
   },
   {
    "duration": 91,
    "start_time": "2023-10-24T09:32:03.631Z"
   },
   {
    "duration": 206,
    "start_time": "2023-10-24T09:32:03.723Z"
   },
   {
    "duration": 142,
    "start_time": "2023-10-24T09:32:03.931Z"
   },
   {
    "duration": 133,
    "start_time": "2023-10-24T09:32:04.074Z"
   },
   {
    "duration": 181,
    "start_time": "2023-10-24T09:32:04.209Z"
   },
   {
    "duration": 321,
    "start_time": "2023-10-24T09:32:04.392Z"
   },
   {
    "duration": 82,
    "start_time": "2023-10-24T09:32:04.715Z"
   },
   {
    "duration": 73,
    "start_time": "2023-10-24T09:32:04.799Z"
   },
   {
    "duration": 242,
    "start_time": "2023-10-24T09:32:04.873Z"
   },
   {
    "duration": 145,
    "start_time": "2023-10-24T09:32:05.116Z"
   },
   {
    "duration": 226,
    "start_time": "2023-10-24T09:32:05.262Z"
   },
   {
    "duration": 197,
    "start_time": "2023-10-24T09:32:05.490Z"
   },
   {
    "duration": 324,
    "start_time": "2023-10-24T09:32:05.689Z"
   },
   {
    "duration": 43,
    "start_time": "2023-10-24T09:32:06.014Z"
   },
   {
    "duration": 131,
    "start_time": "2023-10-24T09:32:06.059Z"
   },
   {
    "duration": 52,
    "start_time": "2023-10-24T09:32:06.191Z"
   },
   {
    "duration": 1200,
    "start_time": "2023-10-24T09:33:15.969Z"
   },
   {
    "duration": 73,
    "start_time": "2023-10-24T09:33:17.171Z"
   },
   {
    "duration": 21,
    "start_time": "2023-10-24T09:33:17.246Z"
   },
   {
    "duration": 56,
    "start_time": "2023-10-24T09:33:17.268Z"
   },
   {
    "duration": 16,
    "start_time": "2023-10-24T09:33:17.327Z"
   },
   {
    "duration": 24,
    "start_time": "2023-10-24T09:33:17.345Z"
   },
   {
    "duration": 15,
    "start_time": "2023-10-24T09:33:17.371Z"
   },
   {
    "duration": 10,
    "start_time": "2023-10-24T09:33:17.387Z"
   },
   {
    "duration": 28,
    "start_time": "2023-10-24T09:33:17.399Z"
   },
   {
    "duration": 14,
    "start_time": "2023-10-24T09:33:17.430Z"
   },
   {
    "duration": 200,
    "start_time": "2023-10-24T09:33:17.446Z"
   },
   {
    "duration": 156,
    "start_time": "2023-10-24T09:33:17.648Z"
   },
   {
    "duration": 186,
    "start_time": "2023-10-24T09:33:17.806Z"
   },
   {
    "duration": 197,
    "start_time": "2023-10-24T09:33:17.994Z"
   },
   {
    "duration": 231,
    "start_time": "2023-10-24T09:33:18.193Z"
   },
   {
    "duration": 41,
    "start_time": "2023-10-24T09:33:18.425Z"
   },
   {
    "duration": 25,
    "start_time": "2023-10-24T09:33:18.468Z"
   },
   {
    "duration": 47,
    "start_time": "2023-10-24T09:33:18.495Z"
   },
   {
    "duration": 239,
    "start_time": "2023-10-24T09:33:18.544Z"
   },
   {
    "duration": 719,
    "start_time": "2023-10-24T09:35:57.742Z"
   },
   {
    "duration": 9,
    "start_time": "2023-10-24T09:36:09.351Z"
   },
   {
    "duration": 9,
    "start_time": "2023-10-24T09:36:24.853Z"
   },
   {
    "duration": 1480,
    "start_time": "2023-10-24T09:39:37.917Z"
   },
   {
    "duration": 2308,
    "start_time": "2023-10-24T09:39:57.837Z"
   },
   {
    "duration": 1311,
    "start_time": "2023-10-24T09:40:09.168Z"
   },
   {
    "duration": 2017,
    "start_time": "2023-10-24T09:41:10.830Z"
   },
   {
    "duration": 299,
    "start_time": "2023-10-24T09:41:43.828Z"
   },
   {
    "duration": 167,
    "start_time": "2023-10-24T09:41:55.015Z"
   },
   {
    "duration": 108,
    "start_time": "2023-10-24T09:42:04.673Z"
   },
   {
    "duration": 134,
    "start_time": "2023-10-24T09:42:09.344Z"
   },
   {
    "duration": 150,
    "start_time": "2023-10-24T09:42:13.570Z"
   },
   {
    "duration": 206,
    "start_time": "2023-10-24T09:42:19.562Z"
   },
   {
    "duration": 207,
    "start_time": "2023-10-24T09:42:27.650Z"
   },
   {
    "duration": 358,
    "start_time": "2023-10-24T09:43:22.466Z"
   },
   {
    "duration": 82,
    "start_time": "2023-10-24T09:45:21.212Z"
   },
   {
    "duration": 73,
    "start_time": "2023-10-24T09:45:34.800Z"
   },
   {
    "duration": 1202,
    "start_time": "2023-10-24T09:45:40.191Z"
   },
   {
    "duration": 1484,
    "start_time": "2023-10-24T09:45:54.213Z"
   },
   {
    "duration": 390,
    "start_time": "2023-10-24T09:49:47.605Z"
   },
   {
    "duration": 506,
    "start_time": "2023-10-24T09:50:31.626Z"
   },
   {
    "duration": 433,
    "start_time": "2023-10-24T09:50:40.765Z"
   },
   {
    "duration": 442,
    "start_time": "2023-10-24T09:51:04.079Z"
   },
   {
    "duration": 499,
    "start_time": "2023-10-24T09:51:32.730Z"
   },
   {
    "duration": 415,
    "start_time": "2023-10-24T09:51:42.183Z"
   },
   {
    "duration": 397,
    "start_time": "2023-10-24T09:53:04.276Z"
   },
   {
    "duration": 9,
    "start_time": "2023-10-24T09:55:00.723Z"
   },
   {
    "duration": 9,
    "start_time": "2023-10-24T09:55:17.807Z"
   },
   {
    "duration": 12,
    "start_time": "2023-10-24T09:56:24.912Z"
   },
   {
    "duration": 9,
    "start_time": "2023-10-24T09:57:27.861Z"
   },
   {
    "duration": 28,
    "start_time": "2023-10-24T10:11:57.416Z"
   },
   {
    "duration": 24,
    "start_time": "2023-10-24T10:13:16.378Z"
   },
   {
    "duration": 161,
    "start_time": "2023-10-24T10:35:45.281Z"
   },
   {
    "duration": 1475,
    "start_time": "2023-10-24T10:44:51.390Z"
   },
   {
    "duration": 1677,
    "start_time": "2023-10-24T10:45:35.177Z"
   },
   {
    "duration": 1240,
    "start_time": "2023-10-24T10:47:56.530Z"
   },
   {
    "duration": 1338,
    "start_time": "2023-10-24T10:48:09.429Z"
   },
   {
    "duration": 26,
    "start_time": "2023-10-24T10:48:20.951Z"
   },
   {
    "duration": 9,
    "start_time": "2023-10-24T10:48:25.532Z"
   },
   {
    "duration": 10,
    "start_time": "2023-10-24T10:48:34.011Z"
   },
   {
    "duration": 7,
    "start_time": "2023-10-24T10:48:47.845Z"
   },
   {
    "duration": 13,
    "start_time": "2023-10-24T10:48:55.455Z"
   },
   {
    "duration": 14,
    "start_time": "2023-10-24T10:49:00.617Z"
   },
   {
    "duration": 3,
    "start_time": "2023-10-24T10:51:38.529Z"
   },
   {
    "duration": 3,
    "start_time": "2023-10-24T10:51:41.098Z"
   },
   {
    "duration": 14,
    "start_time": "2023-10-24T10:51:41.510Z"
   },
   {
    "duration": 4,
    "start_time": "2023-10-24T10:53:11.563Z"
   },
   {
    "duration": 20,
    "start_time": "2023-10-24T10:53:14.011Z"
   },
   {
    "duration": 1213,
    "start_time": "2023-10-24T10:53:29.267Z"
   },
   {
    "duration": 71,
    "start_time": "2023-10-24T10:53:30.482Z"
   },
   {
    "duration": 19,
    "start_time": "2023-10-24T10:53:30.555Z"
   },
   {
    "duration": 104,
    "start_time": "2023-10-24T10:53:30.576Z"
   },
   {
    "duration": 146,
    "start_time": "2023-10-24T10:53:30.682Z"
   },
   {
    "duration": 55,
    "start_time": "2023-10-24T10:53:30.830Z"
   },
   {
    "duration": 61,
    "start_time": "2023-10-24T10:53:30.886Z"
   },
   {
    "duration": 45,
    "start_time": "2023-10-24T10:53:30.949Z"
   },
   {
    "duration": 69,
    "start_time": "2023-10-24T10:53:30.996Z"
   },
   {
    "duration": 52,
    "start_time": "2023-10-24T10:53:31.067Z"
   },
   {
    "duration": 225,
    "start_time": "2023-10-24T10:53:31.121Z"
   },
   {
    "duration": 158,
    "start_time": "2023-10-24T10:53:31.348Z"
   },
   {
    "duration": 189,
    "start_time": "2023-10-24T10:53:31.508Z"
   },
   {
    "duration": 211,
    "start_time": "2023-10-24T10:53:31.699Z"
   },
   {
    "duration": 245,
    "start_time": "2023-10-24T10:53:31.911Z"
   },
   {
    "duration": 40,
    "start_time": "2023-10-24T10:53:32.158Z"
   },
   {
    "duration": 79,
    "start_time": "2023-10-24T10:53:32.200Z"
   },
   {
    "duration": 164,
    "start_time": "2023-10-24T10:53:32.280Z"
   },
   {
    "duration": 579,
    "start_time": "2023-10-24T10:53:32.446Z"
   },
   {
    "duration": 431,
    "start_time": "2023-10-24T10:53:33.027Z"
   },
   {
    "duration": 26,
    "start_time": "2023-10-24T10:53:33.460Z"
   },
   {
    "duration": 121,
    "start_time": "2023-10-24T10:53:33.488Z"
   },
   {
    "duration": 137,
    "start_time": "2023-10-24T10:53:33.611Z"
   },
   {
    "duration": 9,
    "start_time": "2023-10-24T10:53:51.839Z"
   },
   {
    "duration": 13,
    "start_time": "2023-10-24T10:54:04.640Z"
   },
   {
    "duration": 4,
    "start_time": "2023-10-24T10:56:19.253Z"
   },
   {
    "duration": 13,
    "start_time": "2023-10-24T10:56:19.812Z"
   },
   {
    "duration": 21,
    "start_time": "2023-10-24T10:56:58.731Z"
   },
   {
    "duration": 14,
    "start_time": "2023-10-24T11:46:42.444Z"
   },
   {
    "duration": 15,
    "start_time": "2023-10-24T11:57:21.352Z"
   },
   {
    "duration": 4,
    "start_time": "2023-10-24T11:59:09.720Z"
   },
   {
    "duration": 25,
    "start_time": "2023-10-24T11:59:12.554Z"
   },
   {
    "duration": 15,
    "start_time": "2023-10-24T11:59:17.105Z"
   },
   {
    "duration": 20,
    "start_time": "2023-10-24T11:59:24.129Z"
   },
   {
    "duration": 6,
    "start_time": "2023-10-24T12:25:43.070Z"
   },
   {
    "duration": 7,
    "start_time": "2023-10-24T12:34:38.429Z"
   },
   {
    "duration": 11,
    "start_time": "2023-10-24T12:36:43.672Z"
   },
   {
    "duration": 6,
    "start_time": "2023-10-24T12:37:30.230Z"
   },
   {
    "duration": 81,
    "start_time": "2023-10-24T12:38:32.093Z"
   },
   {
    "duration": 34,
    "start_time": "2023-10-24T12:44:43.534Z"
   },
   {
    "duration": 26,
    "start_time": "2023-10-24T12:45:20.061Z"
   },
   {
    "duration": 19,
    "start_time": "2023-10-24T12:45:58.189Z"
   },
   {
    "duration": 15,
    "start_time": "2023-10-24T12:46:12.926Z"
   },
   {
    "duration": 45,
    "start_time": "2023-10-24T12:47:39.630Z"
   },
   {
    "duration": 41,
    "start_time": "2023-10-24T12:47:57.850Z"
   },
   {
    "duration": 35,
    "start_time": "2023-10-24T12:48:04.404Z"
   },
   {
    "duration": 128,
    "start_time": "2023-10-24T12:49:39.708Z"
   },
   {
    "duration": 16,
    "start_time": "2023-10-24T12:49:49.966Z"
   },
   {
    "duration": 14,
    "start_time": "2023-10-24T12:49:52.669Z"
   },
   {
    "duration": 1303,
    "start_time": "2023-10-24T12:51:27.973Z"
   },
   {
    "duration": 1232,
    "start_time": "2023-10-24T12:51:47.863Z"
   },
   {
    "duration": 18,
    "start_time": "2023-10-24T12:52:08.071Z"
   },
   {
    "duration": 58,
    "start_time": "2023-10-24T12:52:36.421Z"
   },
   {
    "duration": 34,
    "start_time": "2023-10-24T12:53:50.122Z"
   },
   {
    "duration": 15,
    "start_time": "2023-10-24T12:54:05.305Z"
   },
   {
    "duration": 16,
    "start_time": "2023-10-24T12:55:19.192Z"
   },
   {
    "duration": 33,
    "start_time": "2023-10-24T12:55:25.743Z"
   },
   {
    "duration": 59,
    "start_time": "2023-10-24T12:55:41.156Z"
   },
   {
    "duration": 55,
    "start_time": "2023-10-24T12:57:07.707Z"
   },
   {
    "duration": 38,
    "start_time": "2023-10-24T12:58:17.452Z"
   },
   {
    "duration": 20,
    "start_time": "2023-10-24T12:58:20.031Z"
   },
   {
    "duration": 55,
    "start_time": "2023-10-24T12:58:25.399Z"
   },
   {
    "duration": 14,
    "start_time": "2023-10-24T12:59:15.368Z"
   },
   {
    "duration": 22,
    "start_time": "2023-10-24T13:06:01.050Z"
   },
   {
    "duration": 56,
    "start_time": "2023-10-24T13:06:06.203Z"
   },
   {
    "duration": 19,
    "start_time": "2023-10-24T13:06:09.209Z"
   },
   {
    "duration": 9,
    "start_time": "2023-10-24T13:06:12.895Z"
   },
   {
    "duration": 7,
    "start_time": "2023-10-24T13:06:13.817Z"
   },
   {
    "duration": 18,
    "start_time": "2023-10-24T13:06:56.724Z"
   },
   {
    "duration": 13,
    "start_time": "2023-10-24T13:09:18.913Z"
   },
   {
    "duration": 6,
    "start_time": "2023-10-24T13:22:35.297Z"
   },
   {
    "duration": 7,
    "start_time": "2023-10-24T13:24:21.265Z"
   },
   {
    "duration": 510,
    "start_time": "2023-10-24T13:40:48.151Z"
   },
   {
    "duration": 378,
    "start_time": "2023-10-24T13:40:59.171Z"
   },
   {
    "duration": 549,
    "start_time": "2023-10-24T13:41:26.763Z"
   },
   {
    "duration": 564,
    "start_time": "2023-10-24T13:41:37.031Z"
   },
   {
    "duration": 623,
    "start_time": "2023-10-24T13:43:34.479Z"
   },
   {
    "duration": 448,
    "start_time": "2023-10-24T13:43:42.160Z"
   },
   {
    "duration": 91,
    "start_time": "2023-10-24T13:44:07.386Z"
   },
   {
    "duration": 406,
    "start_time": "2023-10-24T13:44:10.414Z"
   },
   {
    "duration": 522,
    "start_time": "2023-10-24T13:44:13.443Z"
   },
   {
    "duration": 73,
    "start_time": "2023-10-24T13:51:22.515Z"
   },
   {
    "duration": 730,
    "start_time": "2023-10-24T13:51:36.826Z"
   },
   {
    "duration": 329,
    "start_time": "2023-10-24T13:52:26.640Z"
   },
   {
    "duration": 257,
    "start_time": "2023-10-24T13:54:15.346Z"
   },
   {
    "duration": 833,
    "start_time": "2023-10-24T13:55:06.535Z"
   },
   {
    "duration": 209,
    "start_time": "2023-10-24T13:55:40.332Z"
   },
   {
    "duration": 237,
    "start_time": "2023-10-24T14:00:00.196Z"
   },
   {
    "duration": 1429,
    "start_time": "2023-10-24T14:15:02.406Z"
   },
   {
    "duration": 79,
    "start_time": "2023-10-24T14:15:03.838Z"
   },
   {
    "duration": 34,
    "start_time": "2023-10-24T14:15:03.920Z"
   },
   {
    "duration": 173,
    "start_time": "2023-10-24T14:15:03.956Z"
   },
   {
    "duration": 130,
    "start_time": "2023-10-24T14:15:04.132Z"
   },
   {
    "duration": 148,
    "start_time": "2023-10-24T14:15:04.264Z"
   },
   {
    "duration": 129,
    "start_time": "2023-10-24T14:15:04.414Z"
   },
   {
    "duration": 35,
    "start_time": "2023-10-24T14:15:04.546Z"
   },
   {
    "duration": 87,
    "start_time": "2023-10-24T14:15:04.583Z"
   },
   {
    "duration": 58,
    "start_time": "2023-10-24T14:15:04.673Z"
   },
   {
    "duration": 322,
    "start_time": "2023-10-24T14:15:04.733Z"
   },
   {
    "duration": 183,
    "start_time": "2023-10-24T14:15:05.057Z"
   },
   {
    "duration": 224,
    "start_time": "2023-10-24T14:15:05.246Z"
   },
   {
    "duration": 260,
    "start_time": "2023-10-24T14:15:05.474Z"
   },
   {
    "duration": 268,
    "start_time": "2023-10-24T14:15:05.740Z"
   },
   {
    "duration": 61,
    "start_time": "2023-10-24T14:15:06.011Z"
   },
   {
    "duration": 217,
    "start_time": "2023-10-24T14:15:06.074Z"
   },
   {
    "duration": 148,
    "start_time": "2023-10-24T14:15:06.294Z"
   },
   {
    "duration": 616,
    "start_time": "2023-10-24T14:15:06.444Z"
   },
   {
    "duration": 487,
    "start_time": "2023-10-24T14:15:07.062Z"
   },
   {
    "duration": 4,
    "start_time": "2023-10-24T14:15:07.551Z"
   },
   {
    "duration": 238,
    "start_time": "2023-10-24T14:15:07.557Z"
   },
   {
    "duration": 120,
    "start_time": "2023-10-24T14:15:07.797Z"
   },
   {
    "duration": 145,
    "start_time": "2023-10-24T14:15:07.919Z"
   },
   {
    "duration": 420,
    "start_time": "2023-10-24T14:15:08.066Z"
   },
   {
    "duration": 5,
    "start_time": "2023-10-24T14:15:08.488Z"
   },
   {
    "duration": 296,
    "start_time": "2023-10-24T14:15:08.495Z"
   },
   {
    "duration": 11,
    "start_time": "2023-10-24T14:15:08.793Z"
   },
   {
    "duration": 287,
    "start_time": "2023-10-24T14:15:08.806Z"
   },
   {
    "duration": 1501,
    "start_time": "2023-10-24T14:27:12.483Z"
   },
   {
    "duration": 98,
    "start_time": "2023-10-24T14:27:13.993Z"
   },
   {
    "duration": 29,
    "start_time": "2023-10-24T14:27:14.097Z"
   },
   {
    "duration": 25,
    "start_time": "2023-10-24T14:27:14.129Z"
   },
   {
    "duration": 39,
    "start_time": "2023-10-24T14:27:14.160Z"
   },
   {
    "duration": 19,
    "start_time": "2023-10-24T14:27:14.203Z"
   },
   {
    "duration": 18,
    "start_time": "2023-10-24T14:27:14.224Z"
   },
   {
    "duration": 21,
    "start_time": "2023-10-24T14:27:14.244Z"
   },
   {
    "duration": 8,
    "start_time": "2023-10-24T14:27:14.266Z"
   },
   {
    "duration": 21,
    "start_time": "2023-10-24T14:27:14.276Z"
   },
   {
    "duration": 277,
    "start_time": "2023-10-24T14:27:14.300Z"
   },
   {
    "duration": 177,
    "start_time": "2023-10-24T14:27:14.580Z"
   },
   {
    "duration": 229,
    "start_time": "2023-10-24T14:27:14.771Z"
   },
   {
    "duration": 293,
    "start_time": "2023-10-24T14:27:15.004Z"
   },
   {
    "duration": 310,
    "start_time": "2023-10-24T14:27:15.300Z"
   },
   {
    "duration": 75,
    "start_time": "2023-10-24T14:27:15.612Z"
   },
   {
    "duration": 31,
    "start_time": "2023-10-24T14:27:15.696Z"
   },
   {
    "duration": 37,
    "start_time": "2023-10-24T14:27:15.729Z"
   },
   {
    "duration": 642,
    "start_time": "2023-10-24T14:27:15.768Z"
   },
   {
    "duration": 532,
    "start_time": "2023-10-24T14:27:16.412Z"
   },
   {
    "duration": 16,
    "start_time": "2023-10-24T14:27:16.946Z"
   },
   {
    "duration": 50,
    "start_time": "2023-10-24T14:27:16.979Z"
   },
   {
    "duration": 24,
    "start_time": "2023-10-24T14:27:17.031Z"
   },
   {
    "duration": 18,
    "start_time": "2023-10-24T14:27:17.072Z"
   },
   {
    "duration": 279,
    "start_time": "2023-10-24T14:27:17.093Z"
   },
   {
    "duration": 22,
    "start_time": "2023-10-24T14:27:17.385Z"
   },
   {
    "duration": 337,
    "start_time": "2023-10-24T14:27:17.409Z"
   },
   {
    "duration": 39,
    "start_time": "2023-10-24T14:27:17.749Z"
   },
   {
    "duration": 288,
    "start_time": "2023-10-24T14:27:17.795Z"
   },
   {
    "duration": 17,
    "start_time": "2023-10-24T14:35:10.978Z"
   },
   {
    "duration": 1427,
    "start_time": "2023-10-24T14:42:16.552Z"
   },
   {
    "duration": 110,
    "start_time": "2023-10-24T14:42:17.989Z"
   },
   {
    "duration": 35,
    "start_time": "2023-10-24T14:42:18.102Z"
   },
   {
    "duration": 30,
    "start_time": "2023-10-24T14:42:18.139Z"
   },
   {
    "duration": 20,
    "start_time": "2023-10-24T14:42:18.171Z"
   },
   {
    "duration": 99,
    "start_time": "2023-10-24T14:42:18.194Z"
   },
   {
    "duration": 31,
    "start_time": "2023-10-24T14:42:18.297Z"
   },
   {
    "duration": 43,
    "start_time": "2023-10-24T14:42:18.330Z"
   },
   {
    "duration": 21,
    "start_time": "2023-10-24T14:42:18.375Z"
   },
   {
    "duration": 32,
    "start_time": "2023-10-24T14:42:18.399Z"
   },
   {
    "duration": 284,
    "start_time": "2023-10-24T14:42:18.433Z"
   },
   {
    "duration": 210,
    "start_time": "2023-10-24T14:42:18.719Z"
   },
   {
    "duration": 295,
    "start_time": "2023-10-24T14:42:18.932Z"
   },
   {
    "duration": 303,
    "start_time": "2023-10-24T14:42:19.230Z"
   },
   {
    "duration": 303,
    "start_time": "2023-10-24T14:42:19.535Z"
   },
   {
    "duration": 69,
    "start_time": "2023-10-24T14:42:19.840Z"
   },
   {
    "duration": 30,
    "start_time": "2023-10-24T14:42:19.911Z"
   },
   {
    "duration": 50,
    "start_time": "2023-10-24T14:42:19.956Z"
   },
   {
    "duration": 620,
    "start_time": "2023-10-24T14:42:20.008Z"
   },
   {
    "duration": 550,
    "start_time": "2023-10-24T14:42:20.630Z"
   },
   {
    "duration": 5,
    "start_time": "2023-10-24T14:42:21.190Z"
   },
   {
    "duration": 102,
    "start_time": "2023-10-24T14:42:21.198Z"
   },
   {
    "duration": 18,
    "start_time": "2023-10-24T14:42:21.303Z"
   },
   {
    "duration": 34,
    "start_time": "2023-10-24T14:42:21.323Z"
   },
   {
    "duration": 274,
    "start_time": "2023-10-24T14:42:21.362Z"
   },
   {
    "duration": 20,
    "start_time": "2023-10-24T14:42:21.638Z"
   },
   {
    "duration": 301,
    "start_time": "2023-10-24T14:42:21.670Z"
   },
   {
    "duration": 18,
    "start_time": "2023-10-24T14:42:21.982Z"
   },
   {
    "duration": 327,
    "start_time": "2023-10-24T14:42:22.003Z"
   },
   {
    "duration": 41,
    "start_time": "2023-10-25T06:54:28.281Z"
   },
   {
    "duration": 1246,
    "start_time": "2023-10-25T06:54:35.646Z"
   },
   {
    "duration": 192,
    "start_time": "2023-10-25T06:54:36.894Z"
   },
   {
    "duration": 17,
    "start_time": "2023-10-25T06:54:37.088Z"
   },
   {
    "duration": 14,
    "start_time": "2023-10-25T06:54:37.106Z"
   },
   {
    "duration": 12,
    "start_time": "2023-10-25T06:54:37.122Z"
   },
   {
    "duration": 12,
    "start_time": "2023-10-25T06:54:37.135Z"
   },
   {
    "duration": 96,
    "start_time": "2023-10-25T06:54:37.148Z"
   },
   {
    "duration": 0,
    "start_time": "2023-10-25T06:54:37.246Z"
   },
   {
    "duration": 0,
    "start_time": "2023-10-25T06:54:37.247Z"
   },
   {
    "duration": 0,
    "start_time": "2023-10-25T06:54:37.248Z"
   },
   {
    "duration": 0,
    "start_time": "2023-10-25T06:54:37.249Z"
   },
   {
    "duration": 0,
    "start_time": "2023-10-25T06:54:37.250Z"
   },
   {
    "duration": 0,
    "start_time": "2023-10-25T06:54:37.251Z"
   },
   {
    "duration": 0,
    "start_time": "2023-10-25T06:54:37.252Z"
   },
   {
    "duration": 0,
    "start_time": "2023-10-25T06:54:37.252Z"
   },
   {
    "duration": 0,
    "start_time": "2023-10-25T06:54:37.253Z"
   },
   {
    "duration": 1,
    "start_time": "2023-10-25T06:54:37.254Z"
   },
   {
    "duration": 0,
    "start_time": "2023-10-25T06:54:37.255Z"
   },
   {
    "duration": 0,
    "start_time": "2023-10-25T06:54:37.256Z"
   },
   {
    "duration": 0,
    "start_time": "2023-10-25T06:54:37.257Z"
   },
   {
    "duration": 0,
    "start_time": "2023-10-25T06:54:37.258Z"
   },
   {
    "duration": 0,
    "start_time": "2023-10-25T06:54:37.259Z"
   },
   {
    "duration": 0,
    "start_time": "2023-10-25T06:54:37.260Z"
   },
   {
    "duration": 0,
    "start_time": "2023-10-25T06:54:37.261Z"
   },
   {
    "duration": 0,
    "start_time": "2023-10-25T06:54:37.262Z"
   },
   {
    "duration": 0,
    "start_time": "2023-10-25T06:54:37.263Z"
   },
   {
    "duration": 0,
    "start_time": "2023-10-25T06:54:37.264Z"
   },
   {
    "duration": 0,
    "start_time": "2023-10-25T06:54:37.265Z"
   },
   {
    "duration": 0,
    "start_time": "2023-10-25T06:54:37.266Z"
   },
   {
    "duration": 11,
    "start_time": "2023-10-25T06:55:46.325Z"
   },
   {
    "duration": 8,
    "start_time": "2023-10-25T06:55:51.229Z"
   },
   {
    "duration": 9,
    "start_time": "2023-10-25T06:57:49.354Z"
   },
   {
    "duration": 89,
    "start_time": "2023-10-25T06:58:22.829Z"
   },
   {
    "duration": 1028,
    "start_time": "2023-10-25T07:01:19.383Z"
   },
   {
    "duration": 66,
    "start_time": "2023-10-25T07:01:20.412Z"
   },
   {
    "duration": 17,
    "start_time": "2023-10-25T07:01:20.479Z"
   },
   {
    "duration": 15,
    "start_time": "2023-10-25T07:01:20.498Z"
   },
   {
    "duration": 12,
    "start_time": "2023-10-25T07:01:20.515Z"
   },
   {
    "duration": 35,
    "start_time": "2023-10-25T07:01:20.529Z"
   },
   {
    "duration": 8,
    "start_time": "2023-10-25T07:01:20.566Z"
   },
   {
    "duration": 6,
    "start_time": "2023-10-25T07:01:20.576Z"
   },
   {
    "duration": 3,
    "start_time": "2023-10-25T07:01:20.584Z"
   },
   {
    "duration": 8,
    "start_time": "2023-10-25T07:01:20.588Z"
   },
   {
    "duration": 166,
    "start_time": "2023-10-25T07:01:20.598Z"
   },
   {
    "duration": 132,
    "start_time": "2023-10-25T07:01:20.765Z"
   },
   {
    "duration": 158,
    "start_time": "2023-10-25T07:01:20.898Z"
   },
   {
    "duration": 180,
    "start_time": "2023-10-25T07:01:21.059Z"
   },
   {
    "duration": 200,
    "start_time": "2023-10-25T07:01:21.241Z"
   },
   {
    "duration": 31,
    "start_time": "2023-10-25T07:01:21.442Z"
   },
   {
    "duration": 21,
    "start_time": "2023-10-25T07:01:21.474Z"
   },
   {
    "duration": 21,
    "start_time": "2023-10-25T07:01:21.496Z"
   },
   {
    "duration": 420,
    "start_time": "2023-10-25T07:01:21.518Z"
   },
   {
    "duration": 342,
    "start_time": "2023-10-25T07:01:21.939Z"
   },
   {
    "duration": 3,
    "start_time": "2023-10-25T07:01:22.282Z"
   },
   {
    "duration": 29,
    "start_time": "2023-10-25T07:01:22.287Z"
   },
   {
    "duration": 22,
    "start_time": "2023-10-25T07:01:22.318Z"
   },
   {
    "duration": 4,
    "start_time": "2023-10-25T07:01:22.342Z"
   },
   {
    "duration": 234,
    "start_time": "2023-10-25T07:01:22.348Z"
   },
   {
    "duration": 5,
    "start_time": "2023-10-25T07:01:22.583Z"
   },
   {
    "duration": 198,
    "start_time": "2023-10-25T07:01:22.589Z"
   },
   {
    "duration": 9,
    "start_time": "2023-10-25T07:01:22.788Z"
   },
   {
    "duration": 184,
    "start_time": "2023-10-25T07:01:22.798Z"
   },
   {
    "duration": 87,
    "start_time": "2023-10-25T07:03:03.020Z"
   },
   {
    "duration": 9,
    "start_time": "2023-10-25T07:03:08.956Z"
   },
   {
    "duration": 7,
    "start_time": "2023-10-25T07:03:14.642Z"
   },
   {
    "duration": 7,
    "start_time": "2023-10-25T07:03:20.118Z"
   },
   {
    "duration": 6,
    "start_time": "2023-10-25T07:03:31.615Z"
   },
   {
    "duration": 4,
    "start_time": "2023-10-25T07:03:47.802Z"
   },
   {
    "duration": 4,
    "start_time": "2023-10-25T07:03:57.273Z"
   },
   {
    "duration": 3,
    "start_time": "2023-10-25T07:04:23.198Z"
   },
   {
    "duration": 7,
    "start_time": "2023-10-25T07:05:09.765Z"
   },
   {
    "duration": 153,
    "start_time": "2023-10-25T07:05:13.130Z"
   },
   {
    "duration": 156,
    "start_time": "2023-10-25T07:05:22.155Z"
   },
   {
    "duration": 5,
    "start_time": "2023-10-25T07:08:13.995Z"
   },
   {
    "duration": 7,
    "start_time": "2023-10-25T07:09:09.179Z"
   },
   {
    "duration": 6,
    "start_time": "2023-10-25T07:09:15.984Z"
   },
   {
    "duration": 4,
    "start_time": "2023-10-25T07:09:26.886Z"
   },
   {
    "duration": 5,
    "start_time": "2023-10-25T07:10:03.421Z"
   },
   {
    "duration": 11,
    "start_time": "2023-10-25T07:12:31.396Z"
   },
   {
    "duration": 9,
    "start_time": "2023-10-25T07:12:47.130Z"
   },
   {
    "duration": 8,
    "start_time": "2023-10-25T07:12:53.610Z"
   },
   {
    "duration": 3,
    "start_time": "2023-10-25T07:13:17.188Z"
   },
   {
    "duration": 9,
    "start_time": "2023-10-25T07:13:24.948Z"
   },
   {
    "duration": 146,
    "start_time": "2023-10-25T07:13:41.971Z"
   },
   {
    "duration": 10,
    "start_time": "2023-10-25T07:14:32.231Z"
   },
   {
    "duration": 5,
    "start_time": "2023-10-25T07:14:41.660Z"
   },
   {
    "duration": 10,
    "start_time": "2023-10-25T07:14:57.221Z"
   },
   {
    "duration": 9,
    "start_time": "2023-10-25T07:15:16.082Z"
   },
   {
    "duration": 9,
    "start_time": "2023-10-25T07:15:26.225Z"
   },
   {
    "duration": 11,
    "start_time": "2023-10-25T07:16:45.444Z"
   },
   {
    "duration": 105,
    "start_time": "2023-10-25T07:16:57.241Z"
   },
   {
    "duration": 100,
    "start_time": "2023-10-25T07:17:13.385Z"
   },
   {
    "duration": 14,
    "start_time": "2023-10-25T07:19:40.445Z"
   },
   {
    "duration": 12,
    "start_time": "2023-10-25T07:19:49.829Z"
   },
   {
    "duration": 16,
    "start_time": "2023-10-25T07:20:03.691Z"
   },
   {
    "duration": 15,
    "start_time": "2023-10-25T07:20:11.680Z"
   },
   {
    "duration": 3,
    "start_time": "2023-10-25T07:21:12.374Z"
   },
   {
    "duration": 5,
    "start_time": "2023-10-25T07:21:17.369Z"
   },
   {
    "duration": 91,
    "start_time": "2023-10-25T07:21:34.067Z"
   },
   {
    "duration": 107,
    "start_time": "2023-10-25T07:21:53.813Z"
   },
   {
    "duration": 10,
    "start_time": "2023-10-25T07:22:44.146Z"
   },
   {
    "duration": 107,
    "start_time": "2023-10-25T07:22:51.366Z"
   },
   {
    "duration": 200,
    "start_time": "2023-10-25T07:23:52.365Z"
   },
   {
    "duration": 118,
    "start_time": "2023-10-25T07:24:25.012Z"
   },
   {
    "duration": 108,
    "start_time": "2023-10-25T07:24:32.685Z"
   },
   {
    "duration": 116,
    "start_time": "2023-10-25T07:24:44.629Z"
   },
   {
    "duration": 123,
    "start_time": "2023-10-25T07:25:02.774Z"
   },
   {
    "duration": 13,
    "start_time": "2023-10-25T07:25:25.609Z"
   },
   {
    "duration": 126,
    "start_time": "2023-10-25T07:25:37.687Z"
   },
   {
    "duration": 127,
    "start_time": "2023-10-25T07:25:42.020Z"
   },
   {
    "duration": 72,
    "start_time": "2023-10-25T07:26:17.999Z"
   },
   {
    "duration": 128,
    "start_time": "2023-10-25T07:27:59.539Z"
   },
   {
    "duration": 122,
    "start_time": "2023-10-25T07:28:17.234Z"
   },
   {
    "duration": 9,
    "start_time": "2023-10-25T07:30:12.187Z"
   },
   {
    "duration": 5,
    "start_time": "2023-10-25T07:30:25.286Z"
   },
   {
    "duration": 92,
    "start_time": "2023-10-25T07:31:32.787Z"
   },
   {
    "duration": 25,
    "start_time": "2023-10-25T07:31:52.477Z"
   },
   {
    "duration": 7,
    "start_time": "2023-10-25T07:33:04.017Z"
   },
   {
    "duration": 5,
    "start_time": "2023-10-25T07:33:12.574Z"
   },
   {
    "duration": 4,
    "start_time": "2023-10-25T07:33:40.288Z"
   },
   {
    "duration": 4,
    "start_time": "2023-10-25T07:33:47.099Z"
   },
   {
    "duration": 4,
    "start_time": "2023-10-25T07:33:52.625Z"
   },
   {
    "duration": 17,
    "start_time": "2023-10-25T07:34:26.962Z"
   },
   {
    "duration": 3,
    "start_time": "2023-10-25T07:34:57.987Z"
   },
   {
    "duration": 14,
    "start_time": "2023-10-25T07:35:07.535Z"
   },
   {
    "duration": 10,
    "start_time": "2023-10-25T07:37:44.320Z"
   },
   {
    "duration": 10,
    "start_time": "2023-10-25T07:38:51.259Z"
   },
   {
    "duration": 122,
    "start_time": "2023-10-25T07:39:01.615Z"
   },
   {
    "duration": 162,
    "start_time": "2023-10-25T07:39:05.014Z"
   },
   {
    "duration": 96,
    "start_time": "2023-10-25T07:39:25.762Z"
   },
   {
    "duration": 94,
    "start_time": "2023-10-25T07:40:31.192Z"
   },
   {
    "duration": 59,
    "start_time": "2023-10-25T07:40:36.214Z"
   },
   {
    "duration": 9,
    "start_time": "2023-10-25T07:40:57.877Z"
   },
   {
    "duration": 9,
    "start_time": "2023-10-25T07:41:03.238Z"
   },
   {
    "duration": 58,
    "start_time": "2023-10-25T07:41:15.012Z"
   },
   {
    "duration": 78,
    "start_time": "2023-10-25T07:41:52.479Z"
   },
   {
    "duration": 91,
    "start_time": "2023-10-25T07:42:40.657Z"
   },
   {
    "duration": 90,
    "start_time": "2023-10-25T07:42:52.915Z"
   },
   {
    "duration": 9,
    "start_time": "2023-10-25T07:42:57.763Z"
   },
   {
    "duration": 90,
    "start_time": "2023-10-25T07:43:03.839Z"
   },
   {
    "duration": 63,
    "start_time": "2023-10-25T07:43:13.173Z"
   },
   {
    "duration": 165,
    "start_time": "2023-10-25T07:49:00.415Z"
   },
   {
    "duration": 178,
    "start_time": "2023-10-25T07:49:54.600Z"
   },
   {
    "duration": 235,
    "start_time": "2023-10-25T07:49:58.354Z"
   },
   {
    "duration": 202,
    "start_time": "2023-10-25T07:50:42.775Z"
   },
   {
    "duration": 8,
    "start_time": "2023-10-25T07:51:47.823Z"
   },
   {
    "duration": 9,
    "start_time": "2023-10-25T07:51:52.534Z"
   },
   {
    "duration": 4,
    "start_time": "2023-10-25T07:52:14.404Z"
   },
   {
    "duration": 7,
    "start_time": "2023-10-25T07:52:23.795Z"
   },
   {
    "duration": 5,
    "start_time": "2023-10-25T07:56:43.129Z"
   },
   {
    "duration": 4,
    "start_time": "2023-10-25T07:56:50.730Z"
   },
   {
    "duration": 4,
    "start_time": "2023-10-25T07:57:12.268Z"
   },
   {
    "duration": 5,
    "start_time": "2023-10-25T07:57:52.432Z"
   },
   {
    "duration": 5,
    "start_time": "2023-10-25T07:58:23.400Z"
   },
   {
    "duration": 7,
    "start_time": "2023-10-25T07:59:06.572Z"
   },
   {
    "duration": 205,
    "start_time": "2023-10-25T07:59:19.731Z"
   },
   {
    "duration": 7,
    "start_time": "2023-10-25T07:59:28.969Z"
   },
   {
    "duration": 207,
    "start_time": "2023-10-25T07:59:29.295Z"
   },
   {
    "duration": 5,
    "start_time": "2023-10-25T07:59:41.812Z"
   },
   {
    "duration": 6,
    "start_time": "2023-10-25T07:59:42.232Z"
   },
   {
    "duration": 213,
    "start_time": "2023-10-25T07:59:42.586Z"
   },
   {
    "duration": 1190,
    "start_time": "2023-10-25T07:59:50.724Z"
   },
   {
    "duration": 67,
    "start_time": "2023-10-25T07:59:51.915Z"
   },
   {
    "duration": 17,
    "start_time": "2023-10-25T07:59:51.983Z"
   },
   {
    "duration": 22,
    "start_time": "2023-10-25T07:59:52.002Z"
   },
   {
    "duration": 12,
    "start_time": "2023-10-25T07:59:52.025Z"
   },
   {
    "duration": 22,
    "start_time": "2023-10-25T07:59:52.038Z"
   },
   {
    "duration": 9,
    "start_time": "2023-10-25T07:59:52.061Z"
   },
   {
    "duration": 13,
    "start_time": "2023-10-25T07:59:52.071Z"
   },
   {
    "duration": 27,
    "start_time": "2023-10-25T07:59:52.085Z"
   },
   {
    "duration": 17,
    "start_time": "2023-10-25T07:59:52.114Z"
   },
   {
    "duration": 12,
    "start_time": "2023-10-25T07:59:52.133Z"
   },
   {
    "duration": 12,
    "start_time": "2023-10-25T07:59:52.146Z"
   },
   {
    "duration": 157,
    "start_time": "2023-10-25T07:59:52.159Z"
   },
   {
    "duration": 169,
    "start_time": "2023-10-25T07:59:52.317Z"
   },
   {
    "duration": 92,
    "start_time": "2023-10-25T07:59:52.488Z"
   },
   {
    "duration": 184,
    "start_time": "2023-10-25T07:59:52.581Z"
   },
   {
    "duration": 200,
    "start_time": "2023-10-25T07:59:52.766Z"
   },
   {
    "duration": 223,
    "start_time": "2023-10-25T07:59:52.967Z"
   },
   {
    "duration": 5,
    "start_time": "2023-10-25T07:59:53.191Z"
   },
   {
    "duration": 102,
    "start_time": "2023-10-25T07:59:53.197Z"
   },
   {
    "duration": 0,
    "start_time": "2023-10-25T07:59:53.301Z"
   },
   {
    "duration": 0,
    "start_time": "2023-10-25T07:59:53.302Z"
   },
   {
    "duration": 0,
    "start_time": "2023-10-25T07:59:53.303Z"
   },
   {
    "duration": 0,
    "start_time": "2023-10-25T07:59:53.304Z"
   },
   {
    "duration": 0,
    "start_time": "2023-10-25T07:59:53.304Z"
   },
   {
    "duration": 0,
    "start_time": "2023-10-25T07:59:53.305Z"
   },
   {
    "duration": 0,
    "start_time": "2023-10-25T07:59:53.306Z"
   },
   {
    "duration": 0,
    "start_time": "2023-10-25T07:59:53.307Z"
   },
   {
    "duration": 0,
    "start_time": "2023-10-25T07:59:53.308Z"
   },
   {
    "duration": 0,
    "start_time": "2023-10-25T07:59:53.308Z"
   },
   {
    "duration": 0,
    "start_time": "2023-10-25T07:59:53.309Z"
   },
   {
    "duration": 0,
    "start_time": "2023-10-25T07:59:53.310Z"
   },
   {
    "duration": 0,
    "start_time": "2023-10-25T07:59:53.311Z"
   },
   {
    "duration": 0,
    "start_time": "2023-10-25T07:59:53.312Z"
   },
   {
    "duration": 0,
    "start_time": "2023-10-25T07:59:53.312Z"
   },
   {
    "duration": 5,
    "start_time": "2023-10-25T08:00:18.838Z"
   },
   {
    "duration": 304,
    "start_time": "2023-10-25T08:00:20.819Z"
   },
   {
    "duration": 5,
    "start_time": "2023-10-25T08:03:59.663Z"
   },
   {
    "duration": 5,
    "start_time": "2023-10-25T08:04:19.237Z"
   },
   {
    "duration": 5,
    "start_time": "2023-10-25T08:05:04.080Z"
   },
   {
    "duration": 1058,
    "start_time": "2023-10-25T08:05:20.375Z"
   },
   {
    "duration": 70,
    "start_time": "2023-10-25T08:05:21.435Z"
   },
   {
    "duration": 18,
    "start_time": "2023-10-25T08:05:21.506Z"
   },
   {
    "duration": 14,
    "start_time": "2023-10-25T08:05:21.525Z"
   },
   {
    "duration": 13,
    "start_time": "2023-10-25T08:05:21.541Z"
   },
   {
    "duration": 13,
    "start_time": "2023-10-25T08:05:21.555Z"
   },
   {
    "duration": 8,
    "start_time": "2023-10-25T08:05:21.570Z"
   },
   {
    "duration": 8,
    "start_time": "2023-10-25T08:05:21.579Z"
   },
   {
    "duration": 5,
    "start_time": "2023-10-25T08:05:21.589Z"
   },
   {
    "duration": 43,
    "start_time": "2023-10-25T08:05:21.596Z"
   },
   {
    "duration": 6,
    "start_time": "2023-10-25T08:05:21.641Z"
   },
   {
    "duration": 17,
    "start_time": "2023-10-25T08:05:21.648Z"
   },
   {
    "duration": 10,
    "start_time": "2023-10-25T08:05:21.666Z"
   },
   {
    "duration": 11,
    "start_time": "2023-10-25T08:05:21.678Z"
   },
   {
    "duration": 158,
    "start_time": "2023-10-25T08:05:21.691Z"
   },
   {
    "duration": 144,
    "start_time": "2023-10-25T08:05:21.850Z"
   },
   {
    "duration": 77,
    "start_time": "2023-10-25T08:05:21.996Z"
   },
   {
    "duration": 179,
    "start_time": "2023-10-25T08:05:22.075Z"
   },
   {
    "duration": 208,
    "start_time": "2023-10-25T08:05:22.255Z"
   },
   {
    "duration": 251,
    "start_time": "2023-10-25T08:05:22.465Z"
   },
   {
    "duration": 34,
    "start_time": "2023-10-25T08:05:22.717Z"
   },
   {
    "duration": 21,
    "start_time": "2023-10-25T08:05:22.753Z"
   },
   {
    "duration": 28,
    "start_time": "2023-10-25T08:05:22.775Z"
   },
   {
    "duration": 425,
    "start_time": "2023-10-25T08:05:22.804Z"
   },
   {
    "duration": 367,
    "start_time": "2023-10-25T08:05:23.230Z"
   },
   {
    "duration": 4,
    "start_time": "2023-10-25T08:05:23.599Z"
   },
   {
    "duration": 35,
    "start_time": "2023-10-25T08:05:23.605Z"
   },
   {
    "duration": 12,
    "start_time": "2023-10-25T08:05:23.642Z"
   },
   {
    "duration": 18,
    "start_time": "2023-10-25T08:05:23.655Z"
   },
   {
    "duration": 181,
    "start_time": "2023-10-25T08:05:23.674Z"
   },
   {
    "duration": 4,
    "start_time": "2023-10-25T08:05:23.857Z"
   },
   {
    "duration": 199,
    "start_time": "2023-10-25T08:05:23.862Z"
   },
   {
    "duration": 8,
    "start_time": "2023-10-25T08:05:24.062Z"
   },
   {
    "duration": 129,
    "start_time": "2023-10-25T08:05:24.072Z"
   },
   {
    "duration": 3,
    "start_time": "2023-10-25T08:07:38.260Z"
   },
   {
    "duration": 4,
    "start_time": "2023-10-25T08:07:56.490Z"
   },
   {
    "duration": 9,
    "start_time": "2023-10-25T08:08:29.316Z"
   },
   {
    "duration": 10,
    "start_time": "2023-10-25T08:09:47.047Z"
   },
   {
    "duration": 5,
    "start_time": "2023-10-25T08:11:09.201Z"
   },
   {
    "duration": 10,
    "start_time": "2023-10-25T08:11:12.079Z"
   },
   {
    "duration": 10,
    "start_time": "2023-10-25T08:11:30.782Z"
   },
   {
    "duration": 5,
    "start_time": "2023-10-25T08:11:30.851Z"
   },
   {
    "duration": 1073,
    "start_time": "2023-10-25T08:11:39.751Z"
   },
   {
    "duration": 68,
    "start_time": "2023-10-25T08:11:40.826Z"
   },
   {
    "duration": 19,
    "start_time": "2023-10-25T08:11:40.895Z"
   },
   {
    "duration": 18,
    "start_time": "2023-10-25T08:11:40.915Z"
   },
   {
    "duration": 25,
    "start_time": "2023-10-25T08:11:40.935Z"
   },
   {
    "duration": 24,
    "start_time": "2023-10-25T08:11:40.962Z"
   },
   {
    "duration": 19,
    "start_time": "2023-10-25T08:11:40.987Z"
   },
   {
    "duration": 7,
    "start_time": "2023-10-25T08:11:41.008Z"
   },
   {
    "duration": 6,
    "start_time": "2023-10-25T08:11:41.017Z"
   },
   {
    "duration": 16,
    "start_time": "2023-10-25T08:11:41.024Z"
   },
   {
    "duration": 13,
    "start_time": "2023-10-25T08:11:41.042Z"
   },
   {
    "duration": 16,
    "start_time": "2023-10-25T08:11:41.056Z"
   },
   {
    "duration": 8,
    "start_time": "2023-10-25T08:11:41.074Z"
   },
   {
    "duration": 9,
    "start_time": "2023-10-25T08:11:41.085Z"
   },
   {
    "duration": 14,
    "start_time": "2023-10-25T08:11:41.095Z"
   },
   {
    "duration": 19,
    "start_time": "2023-10-25T08:11:41.110Z"
   },
   {
    "duration": 21,
    "start_time": "2023-10-25T08:11:41.130Z"
   },
   {
    "duration": 177,
    "start_time": "2023-10-25T08:11:41.153Z"
   },
   {
    "duration": 140,
    "start_time": "2023-10-25T08:11:41.331Z"
   },
   {
    "duration": 71,
    "start_time": "2023-10-25T08:11:41.472Z"
   },
   {
    "duration": 180,
    "start_time": "2023-10-25T08:11:41.544Z"
   },
   {
    "duration": 185,
    "start_time": "2023-10-25T08:11:41.725Z"
   },
   {
    "duration": 218,
    "start_time": "2023-10-25T08:11:41.911Z"
   },
   {
    "duration": 34,
    "start_time": "2023-10-25T08:11:42.131Z"
   },
   {
    "duration": 23,
    "start_time": "2023-10-25T08:11:42.167Z"
   },
   {
    "duration": 21,
    "start_time": "2023-10-25T08:11:42.191Z"
   },
   {
    "duration": 501,
    "start_time": "2023-10-25T08:11:42.213Z"
   },
   {
    "duration": 362,
    "start_time": "2023-10-25T08:11:42.715Z"
   },
   {
    "duration": 4,
    "start_time": "2023-10-25T08:11:43.078Z"
   },
   {
    "duration": 35,
    "start_time": "2023-10-25T08:11:43.083Z"
   },
   {
    "duration": 13,
    "start_time": "2023-10-25T08:11:43.119Z"
   },
   {
    "duration": 16,
    "start_time": "2023-10-25T08:11:43.140Z"
   },
   {
    "duration": 187,
    "start_time": "2023-10-25T08:11:43.157Z"
   },
   {
    "duration": 5,
    "start_time": "2023-10-25T08:11:43.345Z"
   },
   {
    "duration": 207,
    "start_time": "2023-10-25T08:11:43.351Z"
   },
   {
    "duration": 9,
    "start_time": "2023-10-25T08:11:43.559Z"
   },
   {
    "duration": 125,
    "start_time": "2023-10-25T08:11:43.569Z"
   },
   {
    "duration": 96,
    "start_time": "2023-10-25T08:14:54.563Z"
   },
   {
    "duration": 8,
    "start_time": "2023-10-25T08:15:16.030Z"
   },
   {
    "duration": 8,
    "start_time": "2023-10-25T08:15:24.103Z"
   },
   {
    "duration": 3,
    "start_time": "2023-10-25T08:15:29.912Z"
   },
   {
    "duration": 12,
    "start_time": "2023-10-25T08:15:36.031Z"
   },
   {
    "duration": 3,
    "start_time": "2023-10-25T08:18:27.976Z"
   },
   {
    "duration": 9,
    "start_time": "2023-10-25T08:18:31.121Z"
   },
   {
    "duration": 5,
    "start_time": "2023-10-25T08:18:37.884Z"
   },
   {
    "duration": 8,
    "start_time": "2023-10-25T08:18:42.921Z"
   },
   {
    "duration": 1175,
    "start_time": "2023-10-25T08:18:54.827Z"
   },
   {
    "duration": 67,
    "start_time": "2023-10-25T08:18:56.003Z"
   },
   {
    "duration": 18,
    "start_time": "2023-10-25T08:18:56.071Z"
   },
   {
    "duration": 16,
    "start_time": "2023-10-25T08:18:56.090Z"
   },
   {
    "duration": 18,
    "start_time": "2023-10-25T08:18:56.109Z"
   },
   {
    "duration": 13,
    "start_time": "2023-10-25T08:18:56.128Z"
   },
   {
    "duration": 11,
    "start_time": "2023-10-25T08:18:56.142Z"
   },
   {
    "duration": 16,
    "start_time": "2023-10-25T08:18:56.154Z"
   },
   {
    "duration": 14,
    "start_time": "2023-10-25T08:18:56.171Z"
   },
   {
    "duration": 33,
    "start_time": "2023-10-25T08:18:56.186Z"
   },
   {
    "duration": 4,
    "start_time": "2023-10-25T08:18:56.220Z"
   },
   {
    "duration": 16,
    "start_time": "2023-10-25T08:18:56.226Z"
   },
   {
    "duration": 21,
    "start_time": "2023-10-25T08:18:56.244Z"
   },
   {
    "duration": 20,
    "start_time": "2023-10-25T08:18:56.268Z"
   },
   {
    "duration": 11,
    "start_time": "2023-10-25T08:18:56.289Z"
   },
   {
    "duration": 16,
    "start_time": "2023-10-25T08:18:56.301Z"
   },
   {
    "duration": 9,
    "start_time": "2023-10-25T08:18:56.319Z"
   },
   {
    "duration": 172,
    "start_time": "2023-10-25T08:18:56.330Z"
   },
   {
    "duration": 135,
    "start_time": "2023-10-25T08:18:56.504Z"
   },
   {
    "duration": 63,
    "start_time": "2023-10-25T08:18:56.641Z"
   },
   {
    "duration": 182,
    "start_time": "2023-10-25T08:18:56.706Z"
   },
   {
    "duration": 187,
    "start_time": "2023-10-25T08:18:56.889Z"
   },
   {
    "duration": 216,
    "start_time": "2023-10-25T08:18:57.078Z"
   },
   {
    "duration": 31,
    "start_time": "2023-10-25T08:18:57.296Z"
   },
   {
    "duration": 30,
    "start_time": "2023-10-25T08:18:57.328Z"
   },
   {
    "duration": 20,
    "start_time": "2023-10-25T08:18:57.359Z"
   },
   {
    "duration": 415,
    "start_time": "2023-10-25T08:18:57.381Z"
   },
   {
    "duration": 352,
    "start_time": "2023-10-25T08:18:57.797Z"
   },
   {
    "duration": 3,
    "start_time": "2023-10-25T08:18:58.150Z"
   },
   {
    "duration": 34,
    "start_time": "2023-10-25T08:18:58.154Z"
   },
   {
    "duration": 12,
    "start_time": "2023-10-25T08:18:58.189Z"
   },
   {
    "duration": 4,
    "start_time": "2023-10-25T08:18:58.203Z"
   },
   {
    "duration": 178,
    "start_time": "2023-10-25T08:18:58.208Z"
   },
   {
    "duration": 4,
    "start_time": "2023-10-25T08:18:58.387Z"
   },
   {
    "duration": 200,
    "start_time": "2023-10-25T08:18:58.392Z"
   },
   {
    "duration": 8,
    "start_time": "2023-10-25T08:18:58.594Z"
   },
   {
    "duration": 121,
    "start_time": "2023-10-25T08:18:58.604Z"
   },
   {
    "duration": 5,
    "start_time": "2023-10-25T08:19:38.943Z"
   },
   {
    "duration": 9,
    "start_time": "2023-10-25T08:19:41.392Z"
   },
   {
    "duration": 7,
    "start_time": "2023-10-25T08:23:02.400Z"
   },
   {
    "duration": 3,
    "start_time": "2023-10-25T08:24:57.249Z"
   },
   {
    "duration": 10,
    "start_time": "2023-10-25T08:25:00.074Z"
   },
   {
    "duration": 3,
    "start_time": "2023-10-25T08:25:48.346Z"
   },
   {
    "duration": 11,
    "start_time": "2023-10-25T08:25:51.799Z"
   },
   {
    "duration": 3,
    "start_time": "2023-10-25T08:26:38.619Z"
   },
   {
    "duration": 1062,
    "start_time": "2023-10-25T08:26:45.653Z"
   },
   {
    "duration": 67,
    "start_time": "2023-10-25T08:26:46.717Z"
   },
   {
    "duration": 18,
    "start_time": "2023-10-25T08:26:46.786Z"
   },
   {
    "duration": 22,
    "start_time": "2023-10-25T08:26:46.806Z"
   },
   {
    "duration": 11,
    "start_time": "2023-10-25T08:26:46.830Z"
   },
   {
    "duration": 12,
    "start_time": "2023-10-25T08:26:46.842Z"
   },
   {
    "duration": 8,
    "start_time": "2023-10-25T08:26:46.855Z"
   },
   {
    "duration": 12,
    "start_time": "2023-10-25T08:26:46.864Z"
   },
   {
    "duration": 6,
    "start_time": "2023-10-25T08:26:46.877Z"
   },
   {
    "duration": 16,
    "start_time": "2023-10-25T08:26:46.884Z"
   },
   {
    "duration": 5,
    "start_time": "2023-10-25T08:26:46.901Z"
   },
   {
    "duration": 9,
    "start_time": "2023-10-25T08:26:46.907Z"
   },
   {
    "duration": 4,
    "start_time": "2023-10-25T08:26:46.940Z"
   },
   {
    "duration": 8,
    "start_time": "2023-10-25T08:26:46.945Z"
   },
   {
    "duration": 5,
    "start_time": "2023-10-25T08:26:46.955Z"
   },
   {
    "duration": 11,
    "start_time": "2023-10-25T08:26:46.961Z"
   },
   {
    "duration": 162,
    "start_time": "2023-10-25T08:26:46.973Z"
   },
   {
    "duration": 139,
    "start_time": "2023-10-25T08:26:47.139Z"
   },
   {
    "duration": 69,
    "start_time": "2023-10-25T08:26:47.280Z"
   },
   {
    "duration": 172,
    "start_time": "2023-10-25T08:26:47.351Z"
   },
   {
    "duration": 189,
    "start_time": "2023-10-25T08:26:47.525Z"
   },
   {
    "duration": 213,
    "start_time": "2023-10-25T08:26:47.715Z"
   },
   {
    "duration": 36,
    "start_time": "2023-10-25T08:26:47.929Z"
   },
   {
    "duration": 28,
    "start_time": "2023-10-25T08:26:47.967Z"
   },
   {
    "duration": 94,
    "start_time": "2023-10-25T08:26:47.997Z"
   },
   {
    "duration": 351,
    "start_time": "2023-10-25T08:26:48.093Z"
   },
   {
    "duration": 364,
    "start_time": "2023-10-25T08:26:48.445Z"
   },
   {
    "duration": 4,
    "start_time": "2023-10-25T08:26:48.811Z"
   },
   {
    "duration": 36,
    "start_time": "2023-10-25T08:26:48.816Z"
   },
   {
    "duration": 12,
    "start_time": "2023-10-25T08:26:48.854Z"
   },
   {
    "duration": 10,
    "start_time": "2023-10-25T08:26:48.868Z"
   },
   {
    "duration": 180,
    "start_time": "2023-10-25T08:26:48.880Z"
   },
   {
    "duration": 5,
    "start_time": "2023-10-25T08:26:49.062Z"
   },
   {
    "duration": 199,
    "start_time": "2023-10-25T08:26:49.068Z"
   },
   {
    "duration": 8,
    "start_time": "2023-10-25T08:26:49.268Z"
   },
   {
    "duration": 192,
    "start_time": "2023-10-25T08:26:49.278Z"
   },
   {
    "duration": 3,
    "start_time": "2023-10-25T08:27:04.462Z"
   },
   {
    "duration": 4,
    "start_time": "2023-10-25T08:27:05.109Z"
   },
   {
    "duration": 7,
    "start_time": "2023-10-25T08:28:56.774Z"
   },
   {
    "duration": 3,
    "start_time": "2023-10-25T08:29:15.124Z"
   },
   {
    "duration": 3,
    "start_time": "2023-10-25T08:29:41.913Z"
   },
   {
    "duration": 90,
    "start_time": "2023-10-25T08:29:42.936Z"
   },
   {
    "duration": 8,
    "start_time": "2023-10-25T08:29:59.049Z"
   },
   {
    "duration": 1052,
    "start_time": "2023-10-25T08:30:08.753Z"
   },
   {
    "duration": 65,
    "start_time": "2023-10-25T08:30:09.807Z"
   },
   {
    "duration": 17,
    "start_time": "2023-10-25T08:30:09.873Z"
   },
   {
    "duration": 19,
    "start_time": "2023-10-25T08:30:09.891Z"
   },
   {
    "duration": 11,
    "start_time": "2023-10-25T08:30:09.913Z"
   },
   {
    "duration": 30,
    "start_time": "2023-10-25T08:30:09.925Z"
   },
   {
    "duration": 12,
    "start_time": "2023-10-25T08:30:09.957Z"
   },
   {
    "duration": 8,
    "start_time": "2023-10-25T08:30:09.970Z"
   },
   {
    "duration": 4,
    "start_time": "2023-10-25T08:30:09.979Z"
   },
   {
    "duration": 9,
    "start_time": "2023-10-25T08:30:09.985Z"
   },
   {
    "duration": 16,
    "start_time": "2023-10-25T08:30:09.995Z"
   },
   {
    "duration": 9,
    "start_time": "2023-10-25T08:30:10.013Z"
   },
   {
    "duration": 18,
    "start_time": "2023-10-25T08:30:10.024Z"
   },
   {
    "duration": 7,
    "start_time": "2023-10-25T08:30:10.044Z"
   },
   {
    "duration": 103,
    "start_time": "2023-10-25T08:30:10.052Z"
   },
   {
    "duration": 0,
    "start_time": "2023-10-25T08:30:10.156Z"
   },
   {
    "duration": 0,
    "start_time": "2023-10-25T08:30:10.157Z"
   },
   {
    "duration": 0,
    "start_time": "2023-10-25T08:30:10.157Z"
   },
   {
    "duration": 0,
    "start_time": "2023-10-25T08:30:10.158Z"
   },
   {
    "duration": 0,
    "start_time": "2023-10-25T08:30:10.159Z"
   },
   {
    "duration": 0,
    "start_time": "2023-10-25T08:30:10.160Z"
   },
   {
    "duration": 0,
    "start_time": "2023-10-25T08:30:10.161Z"
   },
   {
    "duration": 0,
    "start_time": "2023-10-25T08:30:10.161Z"
   },
   {
    "duration": 0,
    "start_time": "2023-10-25T08:30:10.162Z"
   },
   {
    "duration": 0,
    "start_time": "2023-10-25T08:30:10.162Z"
   },
   {
    "duration": 0,
    "start_time": "2023-10-25T08:30:10.163Z"
   },
   {
    "duration": 0,
    "start_time": "2023-10-25T08:30:10.164Z"
   },
   {
    "duration": 0,
    "start_time": "2023-10-25T08:30:10.165Z"
   },
   {
    "duration": 0,
    "start_time": "2023-10-25T08:30:10.165Z"
   },
   {
    "duration": 0,
    "start_time": "2023-10-25T08:30:10.166Z"
   },
   {
    "duration": 0,
    "start_time": "2023-10-25T08:30:10.167Z"
   },
   {
    "duration": 0,
    "start_time": "2023-10-25T08:30:10.168Z"
   },
   {
    "duration": 0,
    "start_time": "2023-10-25T08:30:10.168Z"
   },
   {
    "duration": 0,
    "start_time": "2023-10-25T08:30:10.169Z"
   },
   {
    "duration": 0,
    "start_time": "2023-10-25T08:30:10.169Z"
   },
   {
    "duration": 0,
    "start_time": "2023-10-25T08:30:10.170Z"
   },
   {
    "duration": 3,
    "start_time": "2023-10-25T08:30:56.809Z"
   },
   {
    "duration": 8,
    "start_time": "2023-10-25T08:30:57.242Z"
   },
   {
    "duration": 8,
    "start_time": "2023-10-25T08:31:05.367Z"
   },
   {
    "duration": 1030,
    "start_time": "2023-10-25T08:31:10.968Z"
   },
   {
    "duration": 65,
    "start_time": "2023-10-25T08:31:12.000Z"
   },
   {
    "duration": 18,
    "start_time": "2023-10-25T08:31:12.066Z"
   },
   {
    "duration": 27,
    "start_time": "2023-10-25T08:31:12.085Z"
   },
   {
    "duration": 12,
    "start_time": "2023-10-25T08:31:12.114Z"
   },
   {
    "duration": 15,
    "start_time": "2023-10-25T08:31:12.128Z"
   },
   {
    "duration": 10,
    "start_time": "2023-10-25T08:31:12.144Z"
   },
   {
    "duration": 7,
    "start_time": "2023-10-25T08:31:12.156Z"
   },
   {
    "duration": 4,
    "start_time": "2023-10-25T08:31:12.164Z"
   },
   {
    "duration": 13,
    "start_time": "2023-10-25T08:31:12.169Z"
   },
   {
    "duration": 4,
    "start_time": "2023-10-25T08:31:12.184Z"
   },
   {
    "duration": 6,
    "start_time": "2023-10-25T08:31:12.189Z"
   },
   {
    "duration": 6,
    "start_time": "2023-10-25T08:31:12.196Z"
   },
   {
    "duration": 38,
    "start_time": "2023-10-25T08:31:12.204Z"
   },
   {
    "duration": 5,
    "start_time": "2023-10-25T08:31:12.243Z"
   },
   {
    "duration": 11,
    "start_time": "2023-10-25T08:31:12.250Z"
   },
   {
    "duration": 158,
    "start_time": "2023-10-25T08:31:12.263Z"
   },
   {
    "duration": 169,
    "start_time": "2023-10-25T08:31:12.423Z"
   },
   {
    "duration": 72,
    "start_time": "2023-10-25T08:31:12.594Z"
   },
   {
    "duration": 179,
    "start_time": "2023-10-25T08:31:12.667Z"
   },
   {
    "duration": 188,
    "start_time": "2023-10-25T08:31:12.847Z"
   },
   {
    "duration": 224,
    "start_time": "2023-10-25T08:31:13.040Z"
   },
   {
    "duration": 31,
    "start_time": "2023-10-25T08:31:13.265Z"
   },
   {
    "duration": 20,
    "start_time": "2023-10-25T08:31:13.298Z"
   },
   {
    "duration": 38,
    "start_time": "2023-10-25T08:31:13.319Z"
   },
   {
    "duration": 474,
    "start_time": "2023-10-25T08:31:13.359Z"
   },
   {
    "duration": 410,
    "start_time": "2023-10-25T08:31:13.835Z"
   },
   {
    "duration": 3,
    "start_time": "2023-10-25T08:31:14.246Z"
   },
   {
    "duration": 30,
    "start_time": "2023-10-25T08:31:14.250Z"
   },
   {
    "duration": 12,
    "start_time": "2023-10-25T08:31:14.281Z"
   },
   {
    "duration": 4,
    "start_time": "2023-10-25T08:31:14.295Z"
   },
   {
    "duration": 191,
    "start_time": "2023-10-25T08:31:14.301Z"
   },
   {
    "duration": 4,
    "start_time": "2023-10-25T08:31:14.494Z"
   },
   {
    "duration": 198,
    "start_time": "2023-10-25T08:31:14.499Z"
   },
   {
    "duration": 9,
    "start_time": "2023-10-25T08:31:14.699Z"
   },
   {
    "duration": 134,
    "start_time": "2023-10-25T08:31:14.709Z"
   },
   {
    "duration": 7,
    "start_time": "2023-10-25T08:31:40.295Z"
   },
   {
    "duration": 20,
    "start_time": "2023-10-25T08:34:03.962Z"
   },
   {
    "duration": 21,
    "start_time": "2023-10-25T08:34:18.460Z"
   },
   {
    "duration": 19,
    "start_time": "2023-10-25T08:34:25.218Z"
   },
   {
    "duration": 96,
    "start_time": "2023-10-25T08:34:38.129Z"
   },
   {
    "duration": 22,
    "start_time": "2023-10-25T08:34:45.872Z"
   },
   {
    "duration": 21,
    "start_time": "2023-10-25T08:35:46.160Z"
   },
   {
    "duration": 21,
    "start_time": "2023-10-25T08:35:57.811Z"
   },
   {
    "duration": 21,
    "start_time": "2023-10-25T08:36:17.087Z"
   },
   {
    "duration": 21,
    "start_time": "2023-10-25T08:36:24.032Z"
   },
   {
    "duration": 9,
    "start_time": "2023-10-25T08:36:37.288Z"
   },
   {
    "duration": 421,
    "start_time": "2023-10-25T08:38:24.220Z"
   },
   {
    "duration": 68,
    "start_time": "2023-10-25T08:40:08.796Z"
   },
   {
    "duration": 1052,
    "start_time": "2023-10-25T08:40:25.154Z"
   },
   {
    "duration": 71,
    "start_time": "2023-10-25T08:40:26.207Z"
   },
   {
    "duration": 21,
    "start_time": "2023-10-25T08:40:26.279Z"
   },
   {
    "duration": 14,
    "start_time": "2023-10-25T08:40:26.301Z"
   },
   {
    "duration": 13,
    "start_time": "2023-10-25T08:40:26.316Z"
   },
   {
    "duration": 17,
    "start_time": "2023-10-25T08:40:26.330Z"
   },
   {
    "duration": 11,
    "start_time": "2023-10-25T08:40:26.348Z"
   },
   {
    "duration": 9,
    "start_time": "2023-10-25T08:40:26.361Z"
   },
   {
    "duration": 22,
    "start_time": "2023-10-25T08:40:26.372Z"
   },
   {
    "duration": 15,
    "start_time": "2023-10-25T08:40:26.395Z"
   },
   {
    "duration": 4,
    "start_time": "2023-10-25T08:40:26.411Z"
   },
   {
    "duration": 14,
    "start_time": "2023-10-25T08:40:26.417Z"
   },
   {
    "duration": 16,
    "start_time": "2023-10-25T08:40:26.432Z"
   },
   {
    "duration": 5,
    "start_time": "2023-10-25T08:40:26.450Z"
   },
   {
    "duration": 18,
    "start_time": "2023-10-25T08:40:26.457Z"
   },
   {
    "duration": 7,
    "start_time": "2023-10-25T08:40:26.476Z"
   },
   {
    "duration": 171,
    "start_time": "2023-10-25T08:40:26.484Z"
   },
   {
    "duration": 137,
    "start_time": "2023-10-25T08:40:26.656Z"
   },
   {
    "duration": 69,
    "start_time": "2023-10-25T08:40:26.794Z"
   },
   {
    "duration": 165,
    "start_time": "2023-10-25T08:40:26.865Z"
   },
   {
    "duration": 181,
    "start_time": "2023-10-25T08:40:27.031Z"
   },
   {
    "duration": 206,
    "start_time": "2023-10-25T08:40:27.213Z"
   },
   {
    "duration": 38,
    "start_time": "2023-10-25T08:40:27.421Z"
   },
   {
    "duration": 10,
    "start_time": "2023-10-25T08:40:27.461Z"
   },
   {
    "duration": 23,
    "start_time": "2023-10-25T08:40:27.473Z"
   },
   {
    "duration": 44,
    "start_time": "2023-10-25T08:40:27.497Z"
   },
   {
    "duration": 406,
    "start_time": "2023-10-25T08:40:27.543Z"
   },
   {
    "duration": 1283,
    "start_time": "2023-10-25T08:44:46.807Z"
   },
   {
    "duration": 66,
    "start_time": "2023-10-25T08:44:48.092Z"
   },
   {
    "duration": 17,
    "start_time": "2023-10-25T08:44:48.159Z"
   },
   {
    "duration": 13,
    "start_time": "2023-10-25T08:44:48.177Z"
   },
   {
    "duration": 12,
    "start_time": "2023-10-25T08:44:48.192Z"
   },
   {
    "duration": 16,
    "start_time": "2023-10-25T08:44:48.205Z"
   },
   {
    "duration": 20,
    "start_time": "2023-10-25T08:44:48.222Z"
   },
   {
    "duration": 7,
    "start_time": "2023-10-25T08:44:48.243Z"
   },
   {
    "duration": 4,
    "start_time": "2023-10-25T08:44:48.251Z"
   },
   {
    "duration": 8,
    "start_time": "2023-10-25T08:44:48.256Z"
   },
   {
    "duration": 5,
    "start_time": "2023-10-25T08:44:48.265Z"
   },
   {
    "duration": 8,
    "start_time": "2023-10-25T08:44:48.271Z"
   },
   {
    "duration": 6,
    "start_time": "2023-10-25T08:44:48.280Z"
   },
   {
    "duration": 4,
    "start_time": "2023-10-25T08:44:48.288Z"
   },
   {
    "duration": 7,
    "start_time": "2023-10-25T08:44:48.293Z"
   },
   {
    "duration": 14,
    "start_time": "2023-10-25T08:44:48.301Z"
   },
   {
    "duration": 167,
    "start_time": "2023-10-25T08:44:48.316Z"
   },
   {
    "duration": 131,
    "start_time": "2023-10-25T08:44:48.484Z"
   },
   {
    "duration": 69,
    "start_time": "2023-10-25T08:44:48.616Z"
   },
   {
    "duration": 170,
    "start_time": "2023-10-25T08:44:48.686Z"
   },
   {
    "duration": 184,
    "start_time": "2023-10-25T08:44:48.857Z"
   },
   {
    "duration": 199,
    "start_time": "2023-10-25T08:44:49.042Z"
   },
   {
    "duration": 29,
    "start_time": "2023-10-25T08:44:49.242Z"
   },
   {
    "duration": 7,
    "start_time": "2023-10-25T08:44:49.273Z"
   },
   {
    "duration": 19,
    "start_time": "2023-10-25T08:44:49.282Z"
   },
   {
    "duration": 99,
    "start_time": "2023-10-25T08:44:49.302Z"
   },
   {
    "duration": 355,
    "start_time": "2023-10-25T08:44:49.403Z"
   },
   {
    "duration": 332,
    "start_time": "2023-10-25T08:44:49.759Z"
   },
   {
    "duration": 0,
    "start_time": "2023-10-25T08:44:50.093Z"
   },
   {
    "duration": 0,
    "start_time": "2023-10-25T08:44:50.094Z"
   },
   {
    "duration": 0,
    "start_time": "2023-10-25T08:44:50.095Z"
   },
   {
    "duration": 0,
    "start_time": "2023-10-25T08:44:50.096Z"
   },
   {
    "duration": 0,
    "start_time": "2023-10-25T08:44:50.097Z"
   },
   {
    "duration": 0,
    "start_time": "2023-10-25T08:44:50.097Z"
   },
   {
    "duration": 0,
    "start_time": "2023-10-25T08:44:50.098Z"
   },
   {
    "duration": 0,
    "start_time": "2023-10-25T08:44:50.099Z"
   },
   {
    "duration": 0,
    "start_time": "2023-10-25T08:44:50.100Z"
   },
   {
    "duration": 0,
    "start_time": "2023-10-25T08:44:50.101Z"
   },
   {
    "duration": 9,
    "start_time": "2023-10-25T08:45:52.901Z"
   },
   {
    "duration": 10,
    "start_time": "2023-10-25T08:46:10.574Z"
   },
   {
    "duration": 11,
    "start_time": "2023-10-25T08:46:18.089Z"
   },
   {
    "duration": 997,
    "start_time": "2023-10-25T08:46:39.206Z"
   },
   {
    "duration": 66,
    "start_time": "2023-10-25T08:46:40.205Z"
   },
   {
    "duration": 18,
    "start_time": "2023-10-25T08:46:40.272Z"
   },
   {
    "duration": 25,
    "start_time": "2023-10-25T08:46:40.292Z"
   },
   {
    "duration": 12,
    "start_time": "2023-10-25T08:46:40.319Z"
   },
   {
    "duration": 13,
    "start_time": "2023-10-25T08:46:40.333Z"
   },
   {
    "duration": 9,
    "start_time": "2023-10-25T08:46:40.347Z"
   },
   {
    "duration": 8,
    "start_time": "2023-10-25T08:46:40.358Z"
   },
   {
    "duration": 4,
    "start_time": "2023-10-25T08:46:40.368Z"
   },
   {
    "duration": 19,
    "start_time": "2023-10-25T08:46:40.373Z"
   },
   {
    "duration": 5,
    "start_time": "2023-10-25T08:46:40.394Z"
   },
   {
    "duration": 6,
    "start_time": "2023-10-25T08:46:40.400Z"
   },
   {
    "duration": 34,
    "start_time": "2023-10-25T08:46:40.407Z"
   },
   {
    "duration": 7,
    "start_time": "2023-10-25T08:46:40.443Z"
   },
   {
    "duration": 4,
    "start_time": "2023-10-25T08:46:40.452Z"
   },
   {
    "duration": 5,
    "start_time": "2023-10-25T08:46:40.457Z"
   },
   {
    "duration": 165,
    "start_time": "2023-10-25T08:46:40.463Z"
   },
   {
    "duration": 135,
    "start_time": "2023-10-25T08:46:40.629Z"
   },
   {
    "duration": 62,
    "start_time": "2023-10-25T08:46:40.765Z"
   },
   {
    "duration": 166,
    "start_time": "2023-10-25T08:46:40.839Z"
   },
   {
    "duration": 186,
    "start_time": "2023-10-25T08:46:41.006Z"
   },
   {
    "duration": 205,
    "start_time": "2023-10-25T08:46:41.193Z"
   },
   {
    "duration": 30,
    "start_time": "2023-10-25T08:46:41.399Z"
   },
   {
    "duration": 9,
    "start_time": "2023-10-25T08:46:41.440Z"
   },
   {
    "duration": 26,
    "start_time": "2023-10-25T08:46:41.450Z"
   },
   {
    "duration": 80,
    "start_time": "2023-10-25T08:46:41.478Z"
   },
   {
    "duration": 354,
    "start_time": "2023-10-25T08:46:41.560Z"
   },
   {
    "duration": 8558,
    "start_time": "2023-10-25T08:46:41.915Z"
   },
   {
    "duration": 0,
    "start_time": "2023-10-25T08:46:50.475Z"
   },
   {
    "duration": 0,
    "start_time": "2023-10-25T08:46:50.475Z"
   },
   {
    "duration": 0,
    "start_time": "2023-10-25T08:46:50.476Z"
   },
   {
    "duration": 0,
    "start_time": "2023-10-25T08:46:50.477Z"
   },
   {
    "duration": 0,
    "start_time": "2023-10-25T08:46:50.478Z"
   },
   {
    "duration": 0,
    "start_time": "2023-10-25T08:46:50.479Z"
   },
   {
    "duration": 0,
    "start_time": "2023-10-25T08:46:50.480Z"
   },
   {
    "duration": 0,
    "start_time": "2023-10-25T08:46:50.481Z"
   },
   {
    "duration": 0,
    "start_time": "2023-10-25T08:46:50.482Z"
   },
   {
    "duration": 0,
    "start_time": "2023-10-25T08:46:50.482Z"
   },
   {
    "duration": 16,
    "start_time": "2023-10-25T08:48:08.352Z"
   },
   {
    "duration": 9,
    "start_time": "2023-10-25T08:48:32.800Z"
   },
   {
    "duration": 9,
    "start_time": "2023-10-25T08:48:47.721Z"
   },
   {
    "duration": 9,
    "start_time": "2023-10-25T08:48:54.866Z"
   },
   {
    "duration": 96,
    "start_time": "2023-10-25T08:51:18.831Z"
   },
   {
    "duration": 77,
    "start_time": "2023-10-25T08:51:39.479Z"
   },
   {
    "duration": 72,
    "start_time": "2023-10-25T08:51:50.338Z"
   },
   {
    "duration": 72,
    "start_time": "2023-10-25T08:51:53.926Z"
   },
   {
    "duration": 8,
    "start_time": "2023-10-25T08:52:48.561Z"
   },
   {
    "duration": 146,
    "start_time": "2023-10-25T08:53:06.626Z"
   },
   {
    "duration": 146,
    "start_time": "2023-10-25T08:54:24.190Z"
   },
   {
    "duration": 197,
    "start_time": "2023-10-25T08:54:36.996Z"
   },
   {
    "duration": 974,
    "start_time": "2023-10-25T08:54:49.705Z"
   },
   {
    "duration": 257,
    "start_time": "2023-10-25T08:55:36.591Z"
   },
   {
    "duration": 263,
    "start_time": "2023-10-25T08:56:31.223Z"
   },
   {
    "duration": 286,
    "start_time": "2023-10-25T08:57:00.292Z"
   },
   {
    "duration": 354,
    "start_time": "2023-10-25T08:57:21.298Z"
   },
   {
    "duration": 359,
    "start_time": "2023-10-25T08:58:50.823Z"
   },
   {
    "duration": 25,
    "start_time": "2023-10-25T09:07:52.937Z"
   },
   {
    "duration": 28,
    "start_time": "2023-10-25T09:10:07.091Z"
   },
   {
    "duration": 42,
    "start_time": "2023-10-25T09:10:13.057Z"
   },
   {
    "duration": 113,
    "start_time": "2023-10-25T09:10:23.510Z"
   },
   {
    "duration": 82,
    "start_time": "2023-10-25T09:10:31.838Z"
   },
   {
    "duration": 31,
    "start_time": "2023-10-25T09:10:45.189Z"
   },
   {
    "duration": 12,
    "start_time": "2023-10-25T09:11:20.590Z"
   },
   {
    "duration": 5,
    "start_time": "2023-10-25T09:21:12.277Z"
   },
   {
    "duration": 76,
    "start_time": "2023-10-25T09:21:48.956Z"
   },
   {
    "duration": 169,
    "start_time": "2023-10-25T09:21:57.376Z"
   },
   {
    "duration": 4,
    "start_time": "2023-10-25T09:22:58.295Z"
   },
   {
    "duration": 4,
    "start_time": "2023-10-25T09:23:26.512Z"
   },
   {
    "duration": 93,
    "start_time": "2023-10-25T09:24:24.785Z"
   },
   {
    "duration": 4,
    "start_time": "2023-10-25T09:25:03.594Z"
   },
   {
    "duration": 114,
    "start_time": "2023-10-25T09:25:27.210Z"
   },
   {
    "duration": 77,
    "start_time": "2023-10-25T09:34:18.577Z"
   },
   {
    "duration": 11,
    "start_time": "2023-10-25T09:34:52.934Z"
   },
   {
    "duration": 120,
    "start_time": "2023-10-25T09:35:16.477Z"
   },
   {
    "duration": 9,
    "start_time": "2023-10-25T09:35:58.361Z"
   },
   {
    "duration": 8,
    "start_time": "2023-10-25T09:36:24.606Z"
   },
   {
    "duration": 10,
    "start_time": "2023-10-25T09:38:12.825Z"
   },
   {
    "duration": 12,
    "start_time": "2023-10-25T09:38:33.897Z"
   },
   {
    "duration": 8,
    "start_time": "2023-10-25T09:38:46.826Z"
   },
   {
    "duration": 11,
    "start_time": "2023-10-25T09:38:54.336Z"
   },
   {
    "duration": 84,
    "start_time": "2023-10-25T09:42:49.802Z"
   },
   {
    "duration": 198,
    "start_time": "2023-10-25T09:43:34.679Z"
   },
   {
    "duration": 9,
    "start_time": "2023-10-25T09:43:57.341Z"
   },
   {
    "duration": 37,
    "start_time": "2023-10-25T09:44:36.448Z"
   },
   {
    "duration": 32,
    "start_time": "2023-10-25T09:44:49.673Z"
   },
   {
    "duration": 11,
    "start_time": "2023-10-25T09:52:48.400Z"
   },
   {
    "duration": 7,
    "start_time": "2023-10-25T09:52:55.557Z"
   },
   {
    "duration": 1057,
    "start_time": "2023-10-25T09:53:39.085Z"
   },
   {
    "duration": 66,
    "start_time": "2023-10-25T09:53:40.144Z"
   },
   {
    "duration": 17,
    "start_time": "2023-10-25T09:53:40.211Z"
   },
   {
    "duration": 15,
    "start_time": "2023-10-25T09:53:40.229Z"
   },
   {
    "duration": 12,
    "start_time": "2023-10-25T09:53:40.247Z"
   },
   {
    "duration": 13,
    "start_time": "2023-10-25T09:53:40.261Z"
   },
   {
    "duration": 9,
    "start_time": "2023-10-25T09:53:40.276Z"
   },
   {
    "duration": 7,
    "start_time": "2023-10-25T09:53:40.287Z"
   },
   {
    "duration": 4,
    "start_time": "2023-10-25T09:53:40.296Z"
   },
   {
    "duration": 45,
    "start_time": "2023-10-25T09:53:40.301Z"
   },
   {
    "duration": 7,
    "start_time": "2023-10-25T09:53:40.348Z"
   },
   {
    "duration": 8,
    "start_time": "2023-10-25T09:53:40.356Z"
   },
   {
    "duration": 7,
    "start_time": "2023-10-25T09:53:40.365Z"
   },
   {
    "duration": 17,
    "start_time": "2023-10-25T09:53:40.374Z"
   },
   {
    "duration": 11,
    "start_time": "2023-10-25T09:53:40.392Z"
   },
   {
    "duration": 9,
    "start_time": "2023-10-25T09:53:40.404Z"
   },
   {
    "duration": 7,
    "start_time": "2023-10-25T09:53:40.415Z"
   },
   {
    "duration": 155,
    "start_time": "2023-10-25T09:53:40.423Z"
   },
   {
    "duration": 131,
    "start_time": "2023-10-25T09:53:40.580Z"
   },
   {
    "duration": 76,
    "start_time": "2023-10-25T09:53:40.713Z"
   },
   {
    "duration": 174,
    "start_time": "2023-10-25T09:53:40.790Z"
   },
   {
    "duration": 191,
    "start_time": "2023-10-25T09:53:40.965Z"
   },
   {
    "duration": 212,
    "start_time": "2023-10-25T09:53:41.158Z"
   },
   {
    "duration": 31,
    "start_time": "2023-10-25T09:53:41.372Z"
   },
   {
    "duration": 10,
    "start_time": "2023-10-25T09:53:41.405Z"
   },
   {
    "duration": 99,
    "start_time": "2023-10-25T09:53:41.416Z"
   },
   {
    "duration": 31,
    "start_time": "2023-10-25T09:53:41.517Z"
   },
   {
    "duration": 303,
    "start_time": "2023-10-25T09:53:41.550Z"
   },
   {
    "duration": 271,
    "start_time": "2023-10-25T09:53:41.854Z"
   },
   {
    "duration": 3,
    "start_time": "2023-10-25T09:53:42.126Z"
   },
   {
    "duration": 59,
    "start_time": "2023-10-25T09:53:42.130Z"
   },
   {
    "duration": 11,
    "start_time": "2023-10-25T09:53:42.191Z"
   },
   {
    "duration": 15,
    "start_time": "2023-10-25T09:53:42.203Z"
   },
   {
    "duration": 13,
    "start_time": "2023-10-25T09:53:42.219Z"
   },
   {
    "duration": 26,
    "start_time": "2023-10-25T09:53:42.234Z"
   },
   {
    "duration": 211,
    "start_time": "2023-10-25T09:53:42.262Z"
   },
   {
    "duration": 5,
    "start_time": "2023-10-25T09:53:42.475Z"
   },
   {
    "duration": 238,
    "start_time": "2023-10-25T09:53:42.483Z"
   },
   {
    "duration": 8,
    "start_time": "2023-10-25T09:53:42.723Z"
   },
   {
    "duration": 119,
    "start_time": "2023-10-25T09:53:42.739Z"
   },
   {
    "duration": 28,
    "start_time": "2023-10-25T09:53:42.861Z"
   },
   {
    "duration": 27,
    "start_time": "2023-10-25T09:53:42.890Z"
   },
   {
    "duration": 1065,
    "start_time": "2023-10-25T10:18:42.447Z"
   },
   {
    "duration": 66,
    "start_time": "2023-10-25T10:18:43.514Z"
   },
   {
    "duration": 21,
    "start_time": "2023-10-25T10:18:43.581Z"
   },
   {
    "duration": 31,
    "start_time": "2023-10-25T10:18:43.604Z"
   },
   {
    "duration": 14,
    "start_time": "2023-10-25T10:18:43.637Z"
   },
   {
    "duration": 21,
    "start_time": "2023-10-25T10:18:43.652Z"
   },
   {
    "duration": 8,
    "start_time": "2023-10-25T10:18:43.674Z"
   },
   {
    "duration": 7,
    "start_time": "2023-10-25T10:18:43.684Z"
   },
   {
    "duration": 10,
    "start_time": "2023-10-25T10:18:43.693Z"
   },
   {
    "duration": 11,
    "start_time": "2023-10-25T10:18:43.705Z"
   },
   {
    "duration": 24,
    "start_time": "2023-10-25T10:18:43.718Z"
   },
   {
    "duration": 5,
    "start_time": "2023-10-25T10:18:43.744Z"
   },
   {
    "duration": 5,
    "start_time": "2023-10-25T10:18:43.750Z"
   },
   {
    "duration": 4,
    "start_time": "2023-10-25T10:18:43.756Z"
   },
   {
    "duration": 24,
    "start_time": "2023-10-25T10:18:43.761Z"
   },
   {
    "duration": 6,
    "start_time": "2023-10-25T10:18:43.787Z"
   },
   {
    "duration": 19,
    "start_time": "2023-10-25T10:18:43.794Z"
   },
   {
    "duration": 161,
    "start_time": "2023-10-25T10:18:43.814Z"
   },
   {
    "duration": 137,
    "start_time": "2023-10-25T10:18:43.977Z"
   },
   {
    "duration": 68,
    "start_time": "2023-10-25T10:18:44.116Z"
   },
   {
    "duration": 172,
    "start_time": "2023-10-25T10:18:44.186Z"
   },
   {
    "duration": 183,
    "start_time": "2023-10-25T10:18:44.360Z"
   },
   {
    "duration": 232,
    "start_time": "2023-10-25T10:18:44.544Z"
   },
   {
    "duration": 32,
    "start_time": "2023-10-25T10:18:44.777Z"
   },
   {
    "duration": 9,
    "start_time": "2023-10-25T10:18:44.810Z"
   },
   {
    "duration": 47,
    "start_time": "2023-10-25T10:18:44.820Z"
   },
   {
    "duration": 37,
    "start_time": "2023-10-25T10:18:44.868Z"
   },
   {
    "duration": 333,
    "start_time": "2023-10-25T10:18:44.908Z"
   },
   {
    "duration": 285,
    "start_time": "2023-10-25T10:18:45.243Z"
   },
   {
    "duration": 4,
    "start_time": "2023-10-25T10:18:45.529Z"
   },
   {
    "duration": 39,
    "start_time": "2023-10-25T10:18:45.534Z"
   },
   {
    "duration": 12,
    "start_time": "2023-10-25T10:18:45.575Z"
   },
   {
    "duration": 32,
    "start_time": "2023-10-25T10:18:45.588Z"
   },
   {
    "duration": 3,
    "start_time": "2023-10-25T10:18:45.622Z"
   },
   {
    "duration": 3,
    "start_time": "2023-10-25T10:18:45.627Z"
   },
   {
    "duration": 164,
    "start_time": "2023-10-25T10:18:45.632Z"
   },
   {
    "duration": 5,
    "start_time": "2023-10-25T10:18:45.798Z"
   },
   {
    "duration": 205,
    "start_time": "2023-10-25T10:18:45.804Z"
   },
   {
    "duration": 9,
    "start_time": "2023-10-25T10:18:46.010Z"
   },
   {
    "duration": 129,
    "start_time": "2023-10-25T10:18:46.021Z"
   },
   {
    "duration": 28,
    "start_time": "2023-10-25T10:18:46.152Z"
   },
   {
    "duration": 28,
    "start_time": "2023-10-25T10:18:46.181Z"
   },
   {
    "duration": 1250,
    "start_time": "2023-10-25T17:15:04.581Z"
   },
   {
    "duration": 70,
    "start_time": "2023-10-25T17:15:05.833Z"
   },
   {
    "duration": 21,
    "start_time": "2023-10-25T17:15:05.905Z"
   },
   {
    "duration": 36,
    "start_time": "2023-10-25T17:15:05.928Z"
   },
   {
    "duration": 33,
    "start_time": "2023-10-25T17:15:05.966Z"
   },
   {
    "duration": 36,
    "start_time": "2023-10-25T17:15:06.000Z"
   },
   {
    "duration": 30,
    "start_time": "2023-10-25T17:15:06.037Z"
   },
   {
    "duration": 25,
    "start_time": "2023-10-25T17:15:06.069Z"
   },
   {
    "duration": 27,
    "start_time": "2023-10-25T17:15:06.096Z"
   },
   {
    "duration": 32,
    "start_time": "2023-10-25T17:15:06.125Z"
   },
   {
    "duration": 28,
    "start_time": "2023-10-25T17:15:06.159Z"
   },
   {
    "duration": 23,
    "start_time": "2023-10-25T17:15:06.188Z"
   },
   {
    "duration": 25,
    "start_time": "2023-10-25T17:15:06.213Z"
   },
   {
    "duration": 44,
    "start_time": "2023-10-25T17:15:06.240Z"
   },
   {
    "duration": 45,
    "start_time": "2023-10-25T17:15:06.286Z"
   },
   {
    "duration": 22,
    "start_time": "2023-10-25T17:15:06.333Z"
   },
   {
    "duration": 51,
    "start_time": "2023-10-25T17:15:06.356Z"
   },
   {
    "duration": 210,
    "start_time": "2023-10-25T17:15:06.409Z"
   },
   {
    "duration": 163,
    "start_time": "2023-10-25T17:15:06.620Z"
   },
   {
    "duration": 80,
    "start_time": "2023-10-25T17:15:06.785Z"
   },
   {
    "duration": 211,
    "start_time": "2023-10-25T17:15:06.867Z"
   },
   {
    "duration": 216,
    "start_time": "2023-10-25T17:15:07.080Z"
   },
   {
    "duration": 241,
    "start_time": "2023-10-25T17:15:07.302Z"
   },
   {
    "duration": 37,
    "start_time": "2023-10-25T17:15:07.545Z"
   },
   {
    "duration": 25,
    "start_time": "2023-10-25T17:15:07.584Z"
   },
   {
    "duration": 27,
    "start_time": "2023-10-25T17:15:07.611Z"
   },
   {
    "duration": 23,
    "start_time": "2023-10-25T17:15:07.640Z"
   },
   {
    "duration": 447,
    "start_time": "2023-10-25T17:15:07.666Z"
   },
   {
    "duration": 339,
    "start_time": "2023-10-25T17:15:08.115Z"
   },
   {
    "duration": 4,
    "start_time": "2023-10-25T17:15:08.455Z"
   },
   {
    "duration": 64,
    "start_time": "2023-10-25T17:15:08.460Z"
   },
   {
    "duration": 15,
    "start_time": "2023-10-25T17:15:08.525Z"
   },
   {
    "duration": 16,
    "start_time": "2023-10-25T17:15:08.542Z"
   },
   {
    "duration": 26,
    "start_time": "2023-10-25T17:15:08.560Z"
   },
   {
    "duration": 17,
    "start_time": "2023-10-25T17:15:08.587Z"
   },
   {
    "duration": 238,
    "start_time": "2023-10-25T17:15:08.606Z"
   },
   {
    "duration": 5,
    "start_time": "2023-10-25T17:15:08.846Z"
   },
   {
    "duration": 363,
    "start_time": "2023-10-25T17:15:08.852Z"
   },
   {
    "duration": 10,
    "start_time": "2023-10-25T17:15:09.217Z"
   },
   {
    "duration": 152,
    "start_time": "2023-10-25T17:15:09.229Z"
   },
   {
    "duration": 41,
    "start_time": "2023-10-25T17:15:09.382Z"
   },
   {
    "duration": 34,
    "start_time": "2023-10-25T17:15:09.424Z"
   },
   {
    "duration": 107,
    "start_time": "2023-10-25T17:16:32.462Z"
   },
   {
    "duration": 205,
    "start_time": "2023-10-25T17:16:53.633Z"
   },
   {
    "duration": 70,
    "start_time": "2023-10-25T17:16:58.374Z"
   },
   {
    "duration": 7,
    "start_time": "2023-10-25T17:17:50.051Z"
   },
   {
    "duration": 1340,
    "start_time": "2024-02-06T11:59:09.466Z"
   },
   {
    "duration": 279,
    "start_time": "2024-02-06T11:59:32.211Z"
   },
   {
    "duration": 7,
    "start_time": "2024-02-06T12:01:16.137Z"
   },
   {
    "duration": 15,
    "start_time": "2024-02-06T12:01:52.629Z"
   },
   {
    "duration": 4,
    "start_time": "2024-02-06T12:01:56.929Z"
   },
   {
    "duration": 1146,
    "start_time": "2024-02-06T12:04:03.888Z"
   },
   {
    "duration": 66,
    "start_time": "2024-02-06T12:04:05.036Z"
   },
   {
    "duration": 19,
    "start_time": "2024-02-06T12:04:05.104Z"
   },
   {
    "duration": 42,
    "start_time": "2024-02-06T12:04:05.125Z"
   },
   {
    "duration": 14,
    "start_time": "2024-02-06T12:04:05.169Z"
   },
   {
    "duration": 20,
    "start_time": "2024-02-06T12:04:05.184Z"
   },
   {
    "duration": 28,
    "start_time": "2024-02-06T12:04:05.205Z"
   },
   {
    "duration": 14,
    "start_time": "2024-02-06T12:04:05.235Z"
   },
   {
    "duration": 22,
    "start_time": "2024-02-06T12:04:05.250Z"
   },
   {
    "duration": 34,
    "start_time": "2024-02-06T12:04:05.273Z"
   },
   {
    "duration": 19,
    "start_time": "2024-02-06T12:04:05.308Z"
   },
   {
    "duration": 5,
    "start_time": "2024-02-06T12:04:05.328Z"
   },
   {
    "duration": 5,
    "start_time": "2024-02-06T12:04:05.335Z"
   },
   {
    "duration": 5,
    "start_time": "2024-02-06T12:04:05.343Z"
   },
   {
    "duration": 11,
    "start_time": "2024-02-06T12:04:05.350Z"
   },
   {
    "duration": 13,
    "start_time": "2024-02-06T12:04:05.363Z"
   },
   {
    "duration": 9,
    "start_time": "2024-02-06T12:04:05.378Z"
   },
   {
    "duration": 170,
    "start_time": "2024-02-06T12:04:05.388Z"
   },
   {
    "duration": 154,
    "start_time": "2024-02-06T12:04:05.560Z"
   },
   {
    "duration": 80,
    "start_time": "2024-02-06T12:04:05.716Z"
   },
   {
    "duration": 205,
    "start_time": "2024-02-06T12:04:05.797Z"
   },
   {
    "duration": 220,
    "start_time": "2024-02-06T12:04:06.004Z"
   },
   {
    "duration": 241,
    "start_time": "2024-02-06T12:04:06.225Z"
   },
   {
    "duration": 40,
    "start_time": "2024-02-06T12:04:06.468Z"
   },
   {
    "duration": 9,
    "start_time": "2024-02-06T12:04:06.510Z"
   },
   {
    "duration": 29,
    "start_time": "2024-02-06T12:04:06.521Z"
   },
   {
    "duration": 42,
    "start_time": "2024-02-06T12:04:06.552Z"
   },
   {
    "duration": 801,
    "start_time": "2024-02-06T12:04:06.596Z"
   },
   {
    "duration": 630,
    "start_time": "2024-02-06T12:04:07.399Z"
   },
   {
    "duration": 3,
    "start_time": "2024-02-06T12:04:08.031Z"
   },
   {
    "duration": 55,
    "start_time": "2024-02-06T12:04:08.035Z"
   },
   {
    "duration": 12,
    "start_time": "2024-02-06T12:04:08.091Z"
   },
   {
    "duration": 12,
    "start_time": "2024-02-06T12:04:08.104Z"
   },
   {
    "duration": 28,
    "start_time": "2024-02-06T12:04:08.118Z"
   },
   {
    "duration": 18,
    "start_time": "2024-02-06T12:04:08.147Z"
   },
   {
    "duration": 198,
    "start_time": "2024-02-06T12:04:08.166Z"
   },
   {
    "duration": 5,
    "start_time": "2024-02-06T12:04:08.366Z"
   },
   {
    "duration": 222,
    "start_time": "2024-02-06T12:04:08.372Z"
   },
   {
    "duration": 10,
    "start_time": "2024-02-06T12:04:08.596Z"
   },
   {
    "duration": 151,
    "start_time": "2024-02-06T12:04:08.607Z"
   },
   {
    "duration": 36,
    "start_time": "2024-02-06T12:04:08.763Z"
   },
   {
    "duration": 32,
    "start_time": "2024-02-06T12:04:08.801Z"
   },
   {
    "duration": 6,
    "start_time": "2024-02-06T12:10:47.964Z"
   },
   {
    "duration": 169,
    "start_time": "2024-02-06T12:18:11.328Z"
   },
   {
    "duration": 101,
    "start_time": "2024-02-06T12:22:00.788Z"
   },
   {
    "duration": 76,
    "start_time": "2024-02-06T12:22:07.356Z"
   },
   {
    "duration": 79,
    "start_time": "2024-02-06T12:22:53.697Z"
   },
   {
    "duration": 154,
    "start_time": "2024-02-06T12:22:59.003Z"
   },
   {
    "duration": 94,
    "start_time": "2024-02-06T12:23:22.858Z"
   },
   {
    "duration": 108,
    "start_time": "2024-02-06T12:23:32.495Z"
   },
   {
    "duration": 100,
    "start_time": "2024-02-06T12:23:44.207Z"
   },
   {
    "duration": 69,
    "start_time": "2024-02-06T12:24:50.225Z"
   },
   {
    "duration": 65,
    "start_time": "2024-02-06T12:25:20.590Z"
   },
   {
    "duration": 69,
    "start_time": "2024-02-06T12:25:26.983Z"
   },
   {
    "duration": 12,
    "start_time": "2024-02-06T12:26:02.293Z"
   },
   {
    "duration": 11,
    "start_time": "2024-02-06T12:26:06.380Z"
   },
   {
    "duration": 104,
    "start_time": "2024-02-06T12:26:19.033Z"
   },
   {
    "duration": 71,
    "start_time": "2024-02-06T12:26:28.297Z"
   },
   {
    "duration": 178,
    "start_time": "2024-02-06T12:30:46.417Z"
   },
   {
    "duration": 190,
    "start_time": "2024-02-06T12:30:51.309Z"
   },
   {
    "duration": 260,
    "start_time": "2024-02-06T12:30:54.310Z"
   },
   {
    "duration": 195,
    "start_time": "2024-02-06T12:31:00.403Z"
   },
   {
    "duration": 7,
    "start_time": "2024-02-06T12:31:36.148Z"
   },
   {
    "duration": 8,
    "start_time": "2024-02-06T12:32:44.821Z"
   },
   {
    "duration": 206,
    "start_time": "2024-02-06T12:33:39.297Z"
   },
   {
    "duration": 221,
    "start_time": "2024-02-06T12:38:22.378Z"
   },
   {
    "duration": 36,
    "start_time": "2024-02-06T12:43:08.980Z"
   },
   {
    "duration": 14,
    "start_time": "2024-02-06T12:43:17.063Z"
   },
   {
    "duration": 27,
    "start_time": "2024-02-06T12:43:30.196Z"
   },
   {
    "duration": 23,
    "start_time": "2024-02-06T12:46:35.910Z"
   },
   {
    "duration": 344,
    "start_time": "2024-02-06T12:49:47.195Z"
   },
   {
    "duration": 301,
    "start_time": "2024-02-06T12:49:58.564Z"
   },
   {
    "duration": 460,
    "start_time": "2024-02-06T12:50:03.828Z"
   },
   {
    "duration": 231,
    "start_time": "2024-02-06T13:04:38.387Z"
   },
   {
    "duration": 219,
    "start_time": "2024-02-06T13:04:44.885Z"
   },
   {
    "duration": 238,
    "start_time": "2024-02-06T13:05:15.700Z"
   },
   {
    "duration": 191,
    "start_time": "2024-02-06T13:05:23.518Z"
   },
   {
    "duration": 346,
    "start_time": "2024-02-06T13:05:46.299Z"
   },
   {
    "duration": 211,
    "start_time": "2024-02-06T13:05:58.772Z"
   },
   {
    "duration": 201,
    "start_time": "2024-02-06T13:06:05.670Z"
   },
   {
    "duration": 245,
    "start_time": "2024-02-06T13:07:14.966Z"
   },
   {
    "duration": 235,
    "start_time": "2024-02-06T13:12:19.706Z"
   },
   {
    "duration": 156,
    "start_time": "2024-02-06T13:12:31.299Z"
   },
   {
    "duration": 134,
    "start_time": "2024-02-06T13:12:35.096Z"
   },
   {
    "duration": 134,
    "start_time": "2024-02-06T13:12:39.163Z"
   },
   {
    "duration": 2394,
    "start_time": "2024-02-06T13:13:32.308Z"
   },
   {
    "duration": 7,
    "start_time": "2024-02-06T13:14:16.705Z"
   },
   {
    "duration": 7,
    "start_time": "2024-02-06T13:14:40.021Z"
   },
   {
    "duration": 4,
    "start_time": "2024-02-06T13:14:50.185Z"
   },
   {
    "duration": 4,
    "start_time": "2024-02-06T13:14:56.343Z"
   },
   {
    "duration": 32,
    "start_time": "2024-02-06T13:16:02.737Z"
   },
   {
    "duration": 33,
    "start_time": "2024-02-06T13:17:01.114Z"
   },
   {
    "duration": 1167,
    "start_time": "2024-02-06T13:28:26.234Z"
   },
   {
    "duration": 67,
    "start_time": "2024-02-06T13:28:27.403Z"
   },
   {
    "duration": 18,
    "start_time": "2024-02-06T13:28:27.472Z"
   },
   {
    "duration": 24,
    "start_time": "2024-02-06T13:28:27.492Z"
   },
   {
    "duration": 32,
    "start_time": "2024-02-06T13:28:27.518Z"
   },
   {
    "duration": 36,
    "start_time": "2024-02-06T13:28:27.551Z"
   },
   {
    "duration": 14,
    "start_time": "2024-02-06T13:28:27.588Z"
   },
   {
    "duration": 14,
    "start_time": "2024-02-06T13:28:27.603Z"
   },
   {
    "duration": 8,
    "start_time": "2024-02-06T13:28:27.619Z"
   },
   {
    "duration": 19,
    "start_time": "2024-02-06T13:28:27.628Z"
   },
   {
    "duration": 16,
    "start_time": "2024-02-06T13:28:27.648Z"
   },
   {
    "duration": 35,
    "start_time": "2024-02-06T13:28:27.666Z"
   },
   {
    "duration": 18,
    "start_time": "2024-02-06T13:28:27.702Z"
   },
   {
    "duration": 8,
    "start_time": "2024-02-06T13:28:27.723Z"
   },
   {
    "duration": 10,
    "start_time": "2024-02-06T13:28:27.733Z"
   },
   {
    "duration": 8,
    "start_time": "2024-02-06T13:28:27.744Z"
   },
   {
    "duration": 174,
    "start_time": "2024-02-06T13:28:27.754Z"
   },
   {
    "duration": 155,
    "start_time": "2024-02-06T13:28:27.930Z"
   },
   {
    "duration": 77,
    "start_time": "2024-02-06T13:28:28.087Z"
   },
   {
    "duration": 8,
    "start_time": "2024-02-06T13:28:28.166Z"
   },
   {
    "duration": 219,
    "start_time": "2024-02-06T13:28:28.176Z"
   },
   {
    "duration": 421,
    "start_time": "2024-02-06T13:28:28.397Z"
   },
   {
    "duration": 676,
    "start_time": "2024-02-06T13:28:28.819Z"
   },
   {
    "duration": 22,
    "start_time": "2024-02-06T13:28:29.497Z"
   },
   {
    "duration": 78,
    "start_time": "2024-02-06T13:28:29.521Z"
   },
   {
    "duration": 23,
    "start_time": "2024-02-06T13:28:29.601Z"
   },
   {
    "duration": 500,
    "start_time": "2024-02-06T13:28:29.626Z"
   },
   {
    "duration": 331,
    "start_time": "2024-02-06T13:28:30.128Z"
   },
   {
    "duration": 5,
    "start_time": "2024-02-06T13:28:30.461Z"
   },
   {
    "duration": 67,
    "start_time": "2024-02-06T13:28:30.467Z"
   },
   {
    "duration": 20,
    "start_time": "2024-02-06T13:28:30.535Z"
   },
   {
    "duration": 51,
    "start_time": "2024-02-06T13:28:30.556Z"
   },
   {
    "duration": 46,
    "start_time": "2024-02-06T13:28:30.609Z"
   },
   {
    "duration": 46,
    "start_time": "2024-02-06T13:28:30.657Z"
   },
   {
    "duration": 257,
    "start_time": "2024-02-06T13:28:30.704Z"
   },
   {
    "duration": 5,
    "start_time": "2024-02-06T13:28:30.963Z"
   },
   {
    "duration": 342,
    "start_time": "2024-02-06T13:28:30.970Z"
   },
   {
    "duration": 11,
    "start_time": "2024-02-06T13:28:31.314Z"
   },
   {
    "duration": 181,
    "start_time": "2024-02-06T13:28:31.326Z"
   },
   {
    "duration": 32,
    "start_time": "2024-02-06T13:28:31.509Z"
   },
   {
    "duration": 83,
    "start_time": "2024-02-06T13:28:31.545Z"
   }
  ],
  "kernelspec": {
   "display_name": "Python 3 (ipykernel)",
   "language": "python",
   "name": "python3"
  },
  "language_info": {
   "codemirror_mode": {
    "name": "ipython",
    "version": 3
   },
   "file_extension": ".py",
   "mimetype": "text/x-python",
   "name": "python",
   "nbconvert_exporter": "python",
   "pygments_lexer": "ipython3",
   "version": "3.11.5"
  },
  "toc": {
   "base_numbering": 1,
   "nav_menu": {},
   "number_sections": true,
   "sideBar": true,
   "skip_h1_title": true,
   "title_cell": "Table of Contents",
   "title_sidebar": "Contents",
   "toc_cell": false,
   "toc_position": {
    "height": "calc(100% - 180px)",
    "left": "10px",
    "top": "150px",
    "width": "211.542px"
   },
   "toc_section_display": true,
   "toc_window_display": true
  }
 },
 "nbformat": 4,
 "nbformat_minor": 5
}
