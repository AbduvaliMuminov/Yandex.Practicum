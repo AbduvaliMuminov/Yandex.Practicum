{
 "cells": [
  {
   "cell_type": "markdown",
   "metadata": {},
   "source": [
    "# Принятие решений в бизнесе\n",
    "\n",
    "Интернет-магазин предоставил список гипотез для учеличения прибыли, разработанный совместно с отделом маркетинга. \n",
    "\n",
    "Наша задача:\n",
    "- приоритизация гипотез\n",
    "- запкстить А/В-тест\n",
    "- анализ результатов.\n",
    "\n",
    "\n",
    "\n",
    "**План работы:**\n",
    "* предобработка данных\n",
    "* приоритизация гипотез\n",
    "* А/В-тест"
   ]
  },
  {
   "cell_type": "markdown",
   "metadata": {},
   "source": [
    "## Предобрабтка даных"
   ]
  },
  {
   "cell_type": "code",
   "execution_count": 1,
   "metadata": {},
   "outputs": [],
   "source": [
    "# импорт библиотек\n",
    "import pandas as pd\n",
    "import matplotlib.pyplot as plt\n",
    "import numpy as np\n",
    "import seaborn as sns\n",
    "import math\n",
    "import datetime as dt\n",
    "import scipy.stats as stats\n",
    "import warnings"
   ]
  },
  {
   "cell_type": "code",
   "execution_count": 2,
   "metadata": {},
   "outputs": [],
   "source": [
    "# снимаем ограничение на ширину столбцов\n",
    "pd.set_option('display.max_colwidth', None)"
   ]
  },
  {
   "cell_type": "code",
   "execution_count": 3,
   "metadata": {},
   "outputs": [],
   "source": [
    "# читаем файлы\n",
    "hypothesis = pd.read_csv('/datasets/hypothesis.csv')\n",
    "orders = pd.read_csv('/datasets/orders.csv')\n",
    "visitors = pd.read_csv('/datasets/visitors.csv')"
   ]
  },
  {
   "cell_type": "code",
   "execution_count": 4,
   "metadata": {},
   "outputs": [
    {
     "data": {
      "text/html": [
       "<div>\n",
       "<style scoped>\n",
       "    .dataframe tbody tr th:only-of-type {\n",
       "        vertical-align: middle;\n",
       "    }\n",
       "\n",
       "    .dataframe tbody tr th {\n",
       "        vertical-align: top;\n",
       "    }\n",
       "\n",
       "    .dataframe thead th {\n",
       "        text-align: right;\n",
       "    }\n",
       "</style>\n",
       "<table border=\"1\" class=\"dataframe\">\n",
       "  <thead>\n",
       "    <tr style=\"text-align: right;\">\n",
       "      <th></th>\n",
       "      <th>Hypothesis</th>\n",
       "      <th>Reach</th>\n",
       "      <th>Impact</th>\n",
       "      <th>Confidence</th>\n",
       "      <th>Efforts</th>\n",
       "    </tr>\n",
       "  </thead>\n",
       "  <tbody>\n",
       "    <tr>\n",
       "      <th>0</th>\n",
       "      <td>Добавить два новых канала привлечения трафика, что позволит привлекать на 30% больше пользователей</td>\n",
       "      <td>3</td>\n",
       "      <td>10</td>\n",
       "      <td>8</td>\n",
       "      <td>6</td>\n",
       "    </tr>\n",
       "    <tr>\n",
       "      <th>1</th>\n",
       "      <td>Запустить собственную службу доставки, что сократит срок доставки заказов</td>\n",
       "      <td>2</td>\n",
       "      <td>5</td>\n",
       "      <td>4</td>\n",
       "      <td>10</td>\n",
       "    </tr>\n",
       "    <tr>\n",
       "      <th>2</th>\n",
       "      <td>Добавить блоки рекомендаций товаров на сайт интернет магазина, чтобы повысить конверсию и средний чек заказа</td>\n",
       "      <td>8</td>\n",
       "      <td>3</td>\n",
       "      <td>7</td>\n",
       "      <td>3</td>\n",
       "    </tr>\n",
       "    <tr>\n",
       "      <th>3</th>\n",
       "      <td>Изменить структура категорий, что увеличит конверсию, т.к. пользователи быстрее найдут нужный товар</td>\n",
       "      <td>8</td>\n",
       "      <td>3</td>\n",
       "      <td>3</td>\n",
       "      <td>8</td>\n",
       "    </tr>\n",
       "    <tr>\n",
       "      <th>4</th>\n",
       "      <td>Изменить цвет фона главной страницы, чтобы увеличить вовлеченность пользователей</td>\n",
       "      <td>3</td>\n",
       "      <td>1</td>\n",
       "      <td>1</td>\n",
       "      <td>1</td>\n",
       "    </tr>\n",
       "    <tr>\n",
       "      <th>5</th>\n",
       "      <td>Добавить страницу отзывов клиентов о магазине, что позволит увеличить количество заказов</td>\n",
       "      <td>3</td>\n",
       "      <td>2</td>\n",
       "      <td>2</td>\n",
       "      <td>3</td>\n",
       "    </tr>\n",
       "    <tr>\n",
       "      <th>6</th>\n",
       "      <td>Показать на главной странице баннеры с актуальными акциями и распродажами, чтобы увеличить конверсию</td>\n",
       "      <td>5</td>\n",
       "      <td>3</td>\n",
       "      <td>8</td>\n",
       "      <td>3</td>\n",
       "    </tr>\n",
       "    <tr>\n",
       "      <th>7</th>\n",
       "      <td>Добавить форму подписки на все основные страницы, чтобы собрать базу клиентов для email-рассылок</td>\n",
       "      <td>10</td>\n",
       "      <td>7</td>\n",
       "      <td>8</td>\n",
       "      <td>5</td>\n",
       "    </tr>\n",
       "    <tr>\n",
       "      <th>8</th>\n",
       "      <td>Запустить акцию, дающую скидку на товар в день рождения</td>\n",
       "      <td>1</td>\n",
       "      <td>9</td>\n",
       "      <td>9</td>\n",
       "      <td>5</td>\n",
       "    </tr>\n",
       "  </tbody>\n",
       "</table>\n",
       "</div>"
      ],
      "text/plain": [
       "                                                                                                     Hypothesis  \\\n",
       "0            Добавить два новых канала привлечения трафика, что позволит привлекать на 30% больше пользователей   \n",
       "1                                     Запустить собственную службу доставки, что сократит срок доставки заказов   \n",
       "2  Добавить блоки рекомендаций товаров на сайт интернет магазина, чтобы повысить конверсию и средний чек заказа   \n",
       "3           Изменить структура категорий, что увеличит конверсию, т.к. пользователи быстрее найдут нужный товар   \n",
       "4                              Изменить цвет фона главной страницы, чтобы увеличить вовлеченность пользователей   \n",
       "5                      Добавить страницу отзывов клиентов о магазине, что позволит увеличить количество заказов   \n",
       "6          Показать на главной странице баннеры с актуальными акциями и распродажами, чтобы увеличить конверсию   \n",
       "7              Добавить форму подписки на все основные страницы, чтобы собрать базу клиентов для email-рассылок   \n",
       "8                                                       Запустить акцию, дающую скидку на товар в день рождения   \n",
       "\n",
       "   Reach  Impact  Confidence  Efforts  \n",
       "0      3      10           8        6  \n",
       "1      2       5           4       10  \n",
       "2      8       3           7        3  \n",
       "3      8       3           3        8  \n",
       "4      3       1           1        1  \n",
       "5      3       2           2        3  \n",
       "6      5       3           8        3  \n",
       "7     10       7           8        5  \n",
       "8      1       9           9        5  "
      ]
     },
     "metadata": {},
     "output_type": "display_data"
    },
    {
     "data": {
      "text/html": [
       "<div>\n",
       "<style scoped>\n",
       "    .dataframe tbody tr th:only-of-type {\n",
       "        vertical-align: middle;\n",
       "    }\n",
       "\n",
       "    .dataframe tbody tr th {\n",
       "        vertical-align: top;\n",
       "    }\n",
       "\n",
       "    .dataframe thead th {\n",
       "        text-align: right;\n",
       "    }\n",
       "</style>\n",
       "<table border=\"1\" class=\"dataframe\">\n",
       "  <thead>\n",
       "    <tr style=\"text-align: right;\">\n",
       "      <th></th>\n",
       "      <th>transactionId</th>\n",
       "      <th>visitorId</th>\n",
       "      <th>date</th>\n",
       "      <th>revenue</th>\n",
       "      <th>group</th>\n",
       "    </tr>\n",
       "  </thead>\n",
       "  <tbody>\n",
       "    <tr>\n",
       "      <th>0</th>\n",
       "      <td>3667963787</td>\n",
       "      <td>3312258926</td>\n",
       "      <td>2019-08-15</td>\n",
       "      <td>1650</td>\n",
       "      <td>B</td>\n",
       "    </tr>\n",
       "    <tr>\n",
       "      <th>1</th>\n",
       "      <td>2804400009</td>\n",
       "      <td>3642806036</td>\n",
       "      <td>2019-08-15</td>\n",
       "      <td>730</td>\n",
       "      <td>B</td>\n",
       "    </tr>\n",
       "    <tr>\n",
       "      <th>2</th>\n",
       "      <td>2961555356</td>\n",
       "      <td>4069496402</td>\n",
       "      <td>2019-08-15</td>\n",
       "      <td>400</td>\n",
       "      <td>A</td>\n",
       "    </tr>\n",
       "    <tr>\n",
       "      <th>3</th>\n",
       "      <td>3797467345</td>\n",
       "      <td>1196621759</td>\n",
       "      <td>2019-08-15</td>\n",
       "      <td>9759</td>\n",
       "      <td>B</td>\n",
       "    </tr>\n",
       "    <tr>\n",
       "      <th>4</th>\n",
       "      <td>2282983706</td>\n",
       "      <td>2322279887</td>\n",
       "      <td>2019-08-15</td>\n",
       "      <td>2308</td>\n",
       "      <td>B</td>\n",
       "    </tr>\n",
       "    <tr>\n",
       "      <th>...</th>\n",
       "      <td>...</td>\n",
       "      <td>...</td>\n",
       "      <td>...</td>\n",
       "      <td>...</td>\n",
       "      <td>...</td>\n",
       "    </tr>\n",
       "    <tr>\n",
       "      <th>1192</th>\n",
       "      <td>2662137336</td>\n",
       "      <td>3733762160</td>\n",
       "      <td>2019-08-14</td>\n",
       "      <td>6490</td>\n",
       "      <td>B</td>\n",
       "    </tr>\n",
       "    <tr>\n",
       "      <th>1193</th>\n",
       "      <td>2203539145</td>\n",
       "      <td>370388673</td>\n",
       "      <td>2019-08-14</td>\n",
       "      <td>3190</td>\n",
       "      <td>A</td>\n",
       "    </tr>\n",
       "    <tr>\n",
       "      <th>1194</th>\n",
       "      <td>1807773912</td>\n",
       "      <td>573423106</td>\n",
       "      <td>2019-08-14</td>\n",
       "      <td>10550</td>\n",
       "      <td>A</td>\n",
       "    </tr>\n",
       "    <tr>\n",
       "      <th>1195</th>\n",
       "      <td>1947021204</td>\n",
       "      <td>1614305549</td>\n",
       "      <td>2019-08-14</td>\n",
       "      <td>100</td>\n",
       "      <td>A</td>\n",
       "    </tr>\n",
       "    <tr>\n",
       "      <th>1196</th>\n",
       "      <td>3936777065</td>\n",
       "      <td>2108080724</td>\n",
       "      <td>2019-08-15</td>\n",
       "      <td>202740</td>\n",
       "      <td>B</td>\n",
       "    </tr>\n",
       "  </tbody>\n",
       "</table>\n",
       "<p>1197 rows × 5 columns</p>\n",
       "</div>"
      ],
      "text/plain": [
       "      transactionId   visitorId        date  revenue group\n",
       "0        3667963787  3312258926  2019-08-15     1650     B\n",
       "1        2804400009  3642806036  2019-08-15      730     B\n",
       "2        2961555356  4069496402  2019-08-15      400     A\n",
       "3        3797467345  1196621759  2019-08-15     9759     B\n",
       "4        2282983706  2322279887  2019-08-15     2308     B\n",
       "...             ...         ...         ...      ...   ...\n",
       "1192     2662137336  3733762160  2019-08-14     6490     B\n",
       "1193     2203539145   370388673  2019-08-14     3190     A\n",
       "1194     1807773912   573423106  2019-08-14    10550     A\n",
       "1195     1947021204  1614305549  2019-08-14      100     A\n",
       "1196     3936777065  2108080724  2019-08-15   202740     B\n",
       "\n",
       "[1197 rows x 5 columns]"
      ]
     },
     "metadata": {},
     "output_type": "display_data"
    },
    {
     "data": {
      "text/html": [
       "<div>\n",
       "<style scoped>\n",
       "    .dataframe tbody tr th:only-of-type {\n",
       "        vertical-align: middle;\n",
       "    }\n",
       "\n",
       "    .dataframe tbody tr th {\n",
       "        vertical-align: top;\n",
       "    }\n",
       "\n",
       "    .dataframe thead th {\n",
       "        text-align: right;\n",
       "    }\n",
       "</style>\n",
       "<table border=\"1\" class=\"dataframe\">\n",
       "  <thead>\n",
       "    <tr style=\"text-align: right;\">\n",
       "      <th></th>\n",
       "      <th>date</th>\n",
       "      <th>group</th>\n",
       "      <th>visitors</th>\n",
       "    </tr>\n",
       "  </thead>\n",
       "  <tbody>\n",
       "    <tr>\n",
       "      <th>0</th>\n",
       "      <td>2019-08-01</td>\n",
       "      <td>A</td>\n",
       "      <td>719</td>\n",
       "    </tr>\n",
       "    <tr>\n",
       "      <th>1</th>\n",
       "      <td>2019-08-02</td>\n",
       "      <td>A</td>\n",
       "      <td>619</td>\n",
       "    </tr>\n",
       "    <tr>\n",
       "      <th>2</th>\n",
       "      <td>2019-08-03</td>\n",
       "      <td>A</td>\n",
       "      <td>507</td>\n",
       "    </tr>\n",
       "    <tr>\n",
       "      <th>3</th>\n",
       "      <td>2019-08-04</td>\n",
       "      <td>A</td>\n",
       "      <td>717</td>\n",
       "    </tr>\n",
       "    <tr>\n",
       "      <th>4</th>\n",
       "      <td>2019-08-05</td>\n",
       "      <td>A</td>\n",
       "      <td>756</td>\n",
       "    </tr>\n",
       "    <tr>\n",
       "      <th>...</th>\n",
       "      <td>...</td>\n",
       "      <td>...</td>\n",
       "      <td>...</td>\n",
       "    </tr>\n",
       "    <tr>\n",
       "      <th>57</th>\n",
       "      <td>2019-08-27</td>\n",
       "      <td>B</td>\n",
       "      <td>720</td>\n",
       "    </tr>\n",
       "    <tr>\n",
       "      <th>58</th>\n",
       "      <td>2019-08-28</td>\n",
       "      <td>B</td>\n",
       "      <td>654</td>\n",
       "    </tr>\n",
       "    <tr>\n",
       "      <th>59</th>\n",
       "      <td>2019-08-29</td>\n",
       "      <td>B</td>\n",
       "      <td>531</td>\n",
       "    </tr>\n",
       "    <tr>\n",
       "      <th>60</th>\n",
       "      <td>2019-08-30</td>\n",
       "      <td>B</td>\n",
       "      <td>490</td>\n",
       "    </tr>\n",
       "    <tr>\n",
       "      <th>61</th>\n",
       "      <td>2019-08-31</td>\n",
       "      <td>B</td>\n",
       "      <td>718</td>\n",
       "    </tr>\n",
       "  </tbody>\n",
       "</table>\n",
       "<p>62 rows × 3 columns</p>\n",
       "</div>"
      ],
      "text/plain": [
       "          date group  visitors\n",
       "0   2019-08-01     A       719\n",
       "1   2019-08-02     A       619\n",
       "2   2019-08-03     A       507\n",
       "3   2019-08-04     A       717\n",
       "4   2019-08-05     A       756\n",
       "..         ...   ...       ...\n",
       "57  2019-08-27     B       720\n",
       "58  2019-08-28     B       654\n",
       "59  2019-08-29     B       531\n",
       "60  2019-08-30     B       490\n",
       "61  2019-08-31     B       718\n",
       "\n",
       "[62 rows x 3 columns]"
      ]
     },
     "metadata": {},
     "output_type": "display_data"
    }
   ],
   "source": [
    "display(hypothesis)\n",
    "display(orders)\n",
    "display(visitors)"
   ]
  },
  {
   "cell_type": "code",
   "execution_count": 5,
   "metadata": {},
   "outputs": [
    {
     "name": "stdout",
     "output_type": "stream",
     "text": [
      "<class 'pandas.core.frame.DataFrame'>\n",
      "RangeIndex: 9 entries, 0 to 8\n",
      "Data columns (total 5 columns):\n",
      " #   Column      Non-Null Count  Dtype \n",
      "---  ------      --------------  ----- \n",
      " 0   Hypothesis  9 non-null      object\n",
      " 1   Reach       9 non-null      int64 \n",
      " 2   Impact      9 non-null      int64 \n",
      " 3   Confidence  9 non-null      int64 \n",
      " 4   Efforts     9 non-null      int64 \n",
      "dtypes: int64(4), object(1)\n",
      "memory usage: 488.0+ bytes\n"
     ]
    },
    {
     "data": {
      "text/plain": [
       "None"
      ]
     },
     "metadata": {},
     "output_type": "display_data"
    },
    {
     "name": "stdout",
     "output_type": "stream",
     "text": [
      "<class 'pandas.core.frame.DataFrame'>\n",
      "RangeIndex: 1197 entries, 0 to 1196\n",
      "Data columns (total 5 columns):\n",
      " #   Column         Non-Null Count  Dtype \n",
      "---  ------         --------------  ----- \n",
      " 0   transactionId  1197 non-null   int64 \n",
      " 1   visitorId      1197 non-null   int64 \n",
      " 2   date           1197 non-null   object\n",
      " 3   revenue        1197 non-null   int64 \n",
      " 4   group          1197 non-null   object\n",
      "dtypes: int64(3), object(2)\n",
      "memory usage: 46.9+ KB\n"
     ]
    },
    {
     "data": {
      "text/plain": [
       "None"
      ]
     },
     "metadata": {},
     "output_type": "display_data"
    },
    {
     "name": "stdout",
     "output_type": "stream",
     "text": [
      "<class 'pandas.core.frame.DataFrame'>\n",
      "RangeIndex: 62 entries, 0 to 61\n",
      "Data columns (total 3 columns):\n",
      " #   Column    Non-Null Count  Dtype \n",
      "---  ------    --------------  ----- \n",
      " 0   date      62 non-null     object\n",
      " 1   group     62 non-null     object\n",
      " 2   visitors  62 non-null     int64 \n",
      "dtypes: int64(1), object(2)\n",
      "memory usage: 1.6+ KB\n"
     ]
    },
    {
     "data": {
      "text/plain": [
       "None"
      ]
     },
     "metadata": {},
     "output_type": "display_data"
    }
   ],
   "source": [
    "display(hypothesis.info())\n",
    "display(orders.info())\n",
    "display(visitors.info())"
   ]
  },
  {
   "cell_type": "code",
   "execution_count": 6,
   "metadata": {},
   "outputs": [
    {
     "data": {
      "text/plain": [
       "0"
      ]
     },
     "metadata": {},
     "output_type": "display_data"
    },
    {
     "data": {
      "text/plain": [
       "0"
      ]
     },
     "metadata": {},
     "output_type": "display_data"
    }
   ],
   "source": [
    "# проверяем таблицы на наличие дубликатов\n",
    "display(visitors.duplicated().sum())\n",
    "display(orders.duplicated().sum())"
   ]
  },
  {
   "cell_type": "markdown",
   "metadata": {},
   "source": [
    "Ознакомились с данными. Есть с чем работать. Для начала столбцы с датами в orders и visitors приведем к типу datetime, а названия столбцов приведем к единому стилю для удобства работы. Пропусков и дубликатов нет."
   ]
  },
  {
   "cell_type": "code",
   "execution_count": 7,
   "metadata": {},
   "outputs": [],
   "source": [
    "# меняем название столбцов и приведем в нижний регистр\n",
    "hypothesis.columns = hypothesis.columns.str.lower()\n",
    "orders = orders.rename(columns={'transactionId':'transaction_id', 'visitorId':'visitor_id'})"
   ]
  },
  {
   "cell_type": "code",
   "execution_count": 8,
   "metadata": {},
   "outputs": [],
   "source": [
    "# перезапишем формат даты\n",
    "visitors['date'] = pd.to_datetime(visitors['date'])\n",
    "orders['date'] = pd.to_datetime(orders['date'])"
   ]
  },
  {
   "cell_type": "markdown",
   "metadata": {},
   "source": [
    "Данные приведены в порядок и готовы к анализу."
   ]
  },
  {
   "cell_type": "markdown",
   "metadata": {},
   "source": [
    "Проверим, не попадают ли какие-то пользователи в обе группы - по таблице с заказами."
   ]
  },
  {
   "cell_type": "code",
   "execution_count": 9,
   "metadata": {},
   "outputs": [
    {
     "name": "stdout",
     "output_type": "stream",
     "text": [
      "Следующие пользователи попадают в обе группы:\n",
      "4069496402\n",
      "963407295\n",
      "351125977\n",
      "3234906277\n",
      "199603092\n",
      "237748145\n",
      "3803269165\n",
      "2038680547\n",
      "2378935119\n",
      "4256040402\n",
      "2712142231\n",
      "8300375\n",
      "276558944\n",
      "457167155\n",
      "3062433592\n",
      "1738359350\n",
      "2458001652\n",
      "2716752286\n",
      "3891541246\n",
      "1648269707\n",
      "3656415546\n",
      "2686716486\n",
      "2954449915\n",
      "2927087541\n",
      "2579882178\n",
      "3957174400\n",
      "2780786433\n",
      "3984495233\n",
      "818047933\n",
      "1668030113\n",
      "3717692402\n",
      "2044997962\n",
      "1959144690\n",
      "1294878855\n",
      "1404934699\n",
      "2587333274\n",
      "3202540741\n",
      "1333886533\n",
      "2600415354\n",
      "3951559397\n",
      "393266494\n",
      "3972127743\n",
      "4120364173\n",
      "4266935830\n",
      "1230306981\n",
      "1614305549\n",
      "477780734\n",
      "1602967004\n",
      "1801183820\n",
      "4186807279\n",
      "3766097110\n",
      "3941795274\n",
      "471551937\n",
      "1316129916\n",
      "232979603\n",
      "2654030115\n",
      "3963646447\n",
      "2949041841\n"
     ]
    }
   ],
   "source": [
    "# список уникальных пользователей\n",
    "users = orders['visitor_id'].unique()\n",
    "\n",
    "# проверка наличия пользователей в обеих группах\n",
    "users_in_both_groups = []\n",
    "for user in users:\n",
    "    group_a_orders = orders[(orders['visitor_id'] == user) & (orders['group'] == 'A')]\n",
    "    group_b_orders = orders[(orders['visitor_id'] == user) & (orders['group'] == 'B')]\n",
    "    if len(group_a_orders) > 0 and len(group_b_orders) > 0:\n",
    "        users_in_both_groups.append(user)\n",
    "\n",
    "# вывод результатов\n",
    "if len(users_in_both_groups) > 0:\n",
    "    print(\"Следующие пользователи попадают в обе группы:\")\n",
    "    for user in users_in_both_groups:\n",
    "        print(user)\n",
    "else:\n",
    "    print(\"Нет пользователей, попадающих в обе группы.\")"
   ]
  },
  {
   "cell_type": "markdown",
   "metadata": {},
   "source": [
    "Ползователей которые попали в обе группы, достаточно. "
   ]
  },
  {
   "cell_type": "markdown",
   "metadata": {},
   "source": [
    "## Приоритизация гипотез\n",
    "\n",
    "Задачи:\n",
    "1. Применить фреймворк ICE для приоритизации гипотез. Отсортировать их по убыванию приоритета.\n",
    "2. Применить фреймворк RICE для приоритизации гипотез. Отсортировать их по убыванию приоритета.\n",
    "3. Указать, как изменилась приоритизация гипотез при применении RICE вместо ICE. \n",
    "\n",
    "### Применить фреймворк ICE для приоритизации гипотез. Отсортировать их по убыванию приоритета."
   ]
  },
  {
   "cell_type": "code",
   "execution_count": 10,
   "metadata": {},
   "outputs": [
    {
     "data": {
      "text/html": [
       "<div>\n",
       "<style scoped>\n",
       "    .dataframe tbody tr th:only-of-type {\n",
       "        vertical-align: middle;\n",
       "    }\n",
       "\n",
       "    .dataframe tbody tr th {\n",
       "        vertical-align: top;\n",
       "    }\n",
       "\n",
       "    .dataframe thead th {\n",
       "        text-align: right;\n",
       "    }\n",
       "</style>\n",
       "<table border=\"1\" class=\"dataframe\">\n",
       "  <thead>\n",
       "    <tr style=\"text-align: right;\">\n",
       "      <th></th>\n",
       "      <th>hypothesis</th>\n",
       "      <th>reach</th>\n",
       "      <th>impact</th>\n",
       "      <th>confidence</th>\n",
       "      <th>efforts</th>\n",
       "      <th>ice</th>\n",
       "    </tr>\n",
       "  </thead>\n",
       "  <tbody>\n",
       "    <tr>\n",
       "      <th>8</th>\n",
       "      <td>Запустить акцию, дающую скидку на товар в день рождения</td>\n",
       "      <td>1</td>\n",
       "      <td>9</td>\n",
       "      <td>9</td>\n",
       "      <td>5</td>\n",
       "      <td>16.2</td>\n",
       "    </tr>\n",
       "    <tr>\n",
       "      <th>0</th>\n",
       "      <td>Добавить два новых канала привлечения трафика, что позволит привлекать на 30% больше пользователей</td>\n",
       "      <td>3</td>\n",
       "      <td>10</td>\n",
       "      <td>8</td>\n",
       "      <td>6</td>\n",
       "      <td>13.3</td>\n",
       "    </tr>\n",
       "    <tr>\n",
       "      <th>7</th>\n",
       "      <td>Добавить форму подписки на все основные страницы, чтобы собрать базу клиентов для email-рассылок</td>\n",
       "      <td>10</td>\n",
       "      <td>7</td>\n",
       "      <td>8</td>\n",
       "      <td>5</td>\n",
       "      <td>11.2</td>\n",
       "    </tr>\n",
       "    <tr>\n",
       "      <th>6</th>\n",
       "      <td>Показать на главной странице баннеры с актуальными акциями и распродажами, чтобы увеличить конверсию</td>\n",
       "      <td>5</td>\n",
       "      <td>3</td>\n",
       "      <td>8</td>\n",
       "      <td>3</td>\n",
       "      <td>8.0</td>\n",
       "    </tr>\n",
       "    <tr>\n",
       "      <th>2</th>\n",
       "      <td>Добавить блоки рекомендаций товаров на сайт интернет магазина, чтобы повысить конверсию и средний чек заказа</td>\n",
       "      <td>8</td>\n",
       "      <td>3</td>\n",
       "      <td>7</td>\n",
       "      <td>3</td>\n",
       "      <td>7.0</td>\n",
       "    </tr>\n",
       "    <tr>\n",
       "      <th>1</th>\n",
       "      <td>Запустить собственную службу доставки, что сократит срок доставки заказов</td>\n",
       "      <td>2</td>\n",
       "      <td>5</td>\n",
       "      <td>4</td>\n",
       "      <td>10</td>\n",
       "      <td>2.0</td>\n",
       "    </tr>\n",
       "    <tr>\n",
       "      <th>5</th>\n",
       "      <td>Добавить страницу отзывов клиентов о магазине, что позволит увеличить количество заказов</td>\n",
       "      <td>3</td>\n",
       "      <td>2</td>\n",
       "      <td>2</td>\n",
       "      <td>3</td>\n",
       "      <td>1.3</td>\n",
       "    </tr>\n",
       "    <tr>\n",
       "      <th>3</th>\n",
       "      <td>Изменить структура категорий, что увеличит конверсию, т.к. пользователи быстрее найдут нужный товар</td>\n",
       "      <td>8</td>\n",
       "      <td>3</td>\n",
       "      <td>3</td>\n",
       "      <td>8</td>\n",
       "      <td>1.1</td>\n",
       "    </tr>\n",
       "    <tr>\n",
       "      <th>4</th>\n",
       "      <td>Изменить цвет фона главной страницы, чтобы увеличить вовлеченность пользователей</td>\n",
       "      <td>3</td>\n",
       "      <td>1</td>\n",
       "      <td>1</td>\n",
       "      <td>1</td>\n",
       "      <td>1.0</td>\n",
       "    </tr>\n",
       "  </tbody>\n",
       "</table>\n",
       "</div>"
      ],
      "text/plain": [
       "                                                                                                     hypothesis  \\\n",
       "8                                                       Запустить акцию, дающую скидку на товар в день рождения   \n",
       "0            Добавить два новых канала привлечения трафика, что позволит привлекать на 30% больше пользователей   \n",
       "7              Добавить форму подписки на все основные страницы, чтобы собрать базу клиентов для email-рассылок   \n",
       "6          Показать на главной странице баннеры с актуальными акциями и распродажами, чтобы увеличить конверсию   \n",
       "2  Добавить блоки рекомендаций товаров на сайт интернет магазина, чтобы повысить конверсию и средний чек заказа   \n",
       "1                                     Запустить собственную службу доставки, что сократит срок доставки заказов   \n",
       "5                      Добавить страницу отзывов клиентов о магазине, что позволит увеличить количество заказов   \n",
       "3           Изменить структура категорий, что увеличит конверсию, т.к. пользователи быстрее найдут нужный товар   \n",
       "4                              Изменить цвет фона главной страницы, чтобы увеличить вовлеченность пользователей   \n",
       "\n",
       "   reach  impact  confidence  efforts   ice  \n",
       "8      1       9           9        5  16.2  \n",
       "0      3      10           8        6  13.3  \n",
       "7     10       7           8        5  11.2  \n",
       "6      5       3           8        3   8.0  \n",
       "2      8       3           7        3   7.0  \n",
       "1      2       5           4       10   2.0  \n",
       "5      3       2           2        3   1.3  \n",
       "3      8       3           3        8   1.1  \n",
       "4      3       1           1        1   1.0  "
      ]
     },
     "execution_count": 10,
     "metadata": {},
     "output_type": "execute_result"
    }
   ],
   "source": [
    "hypothesis['ice'] = (hypothesis['impact'] * hypothesis['confidence'] / hypothesis['efforts']).round(1)\n",
    "hypothesis.sort_values('ice', ascending=False)"
   ]
  },
  {
   "cell_type": "code",
   "execution_count": 11,
   "metadata": {},
   "outputs": [
    {
     "data": {
      "image/png": "[encoded data removed]",
      "text/plain": [
       "<Figure size 432x288 with 1 Axes>"
      ]
     },
     "metadata": {
      "needs_background": "light"
     },
     "output_type": "display_data"
    }
   ],
   "source": [
    "# создание графика\n",
    "hypothesis.sort_values('ice', ascending=True).plot(x='hypothesis', y='ice', kind='barh', grid=True)\n",
    "plt.xlabel('ICE')\n",
    "plt.ylabel('Гипотеза')\n",
    "plt.title('Приоритизация гипотез')\n",
    "plt.show()"
   ]
  },
  {
   "cell_type": "markdown",
   "metadata": {},
   "source": [
    "Топ 3 гипотез по ICE:\n",
    "1. Запустить акцию, дающую скидку на товар в день рождения\t\n",
    "2. Добавить два новых канала привлечения трафика, что позволит привлекать на 30% больше пользователей\n",
    "3. Добавить форму подписки на все основные страницы, чтобы собрать базу клиентов для email-рассылок"
   ]
  },
  {
   "cell_type": "markdown",
   "metadata": {},
   "source": [
    "### Применить фреймворк RICE для приоритизации гипотез. Отсортировать их по убыванию приоритета."
   ]
  },
  {
   "cell_type": "code",
   "execution_count": 12,
   "metadata": {},
   "outputs": [
    {
     "data": {
      "text/html": [
       "<div>\n",
       "<style scoped>\n",
       "    .dataframe tbody tr th:only-of-type {\n",
       "        vertical-align: middle;\n",
       "    }\n",
       "\n",
       "    .dataframe tbody tr th {\n",
       "        vertical-align: top;\n",
       "    }\n",
       "\n",
       "    .dataframe thead th {\n",
       "        text-align: right;\n",
       "    }\n",
       "</style>\n",
       "<table border=\"1\" class=\"dataframe\">\n",
       "  <thead>\n",
       "    <tr style=\"text-align: right;\">\n",
       "      <th></th>\n",
       "      <th>hypothesis</th>\n",
       "      <th>reach</th>\n",
       "      <th>impact</th>\n",
       "      <th>confidence</th>\n",
       "      <th>efforts</th>\n",
       "      <th>ice</th>\n",
       "      <th>rice</th>\n",
       "    </tr>\n",
       "  </thead>\n",
       "  <tbody>\n",
       "    <tr>\n",
       "      <th>7</th>\n",
       "      <td>Добавить форму подписки на все основные страницы, чтобы собрать базу клиентов для email-рассылок</td>\n",
       "      <td>10</td>\n",
       "      <td>7</td>\n",
       "      <td>8</td>\n",
       "      <td>5</td>\n",
       "      <td>11.2</td>\n",
       "      <td>112.0</td>\n",
       "    </tr>\n",
       "    <tr>\n",
       "      <th>2</th>\n",
       "      <td>Добавить блоки рекомендаций товаров на сайт интернет магазина, чтобы повысить конверсию и средний чек заказа</td>\n",
       "      <td>8</td>\n",
       "      <td>3</td>\n",
       "      <td>7</td>\n",
       "      <td>3</td>\n",
       "      <td>7.0</td>\n",
       "      <td>56.0</td>\n",
       "    </tr>\n",
       "    <tr>\n",
       "      <th>0</th>\n",
       "      <td>Добавить два новых канала привлечения трафика, что позволит привлекать на 30% больше пользователей</td>\n",
       "      <td>3</td>\n",
       "      <td>10</td>\n",
       "      <td>8</td>\n",
       "      <td>6</td>\n",
       "      <td>13.3</td>\n",
       "      <td>40.0</td>\n",
       "    </tr>\n",
       "    <tr>\n",
       "      <th>6</th>\n",
       "      <td>Показать на главной странице баннеры с актуальными акциями и распродажами, чтобы увеличить конверсию</td>\n",
       "      <td>5</td>\n",
       "      <td>3</td>\n",
       "      <td>8</td>\n",
       "      <td>3</td>\n",
       "      <td>8.0</td>\n",
       "      <td>40.0</td>\n",
       "    </tr>\n",
       "    <tr>\n",
       "      <th>8</th>\n",
       "      <td>Запустить акцию, дающую скидку на товар в день рождения</td>\n",
       "      <td>1</td>\n",
       "      <td>9</td>\n",
       "      <td>9</td>\n",
       "      <td>5</td>\n",
       "      <td>16.2</td>\n",
       "      <td>16.2</td>\n",
       "    </tr>\n",
       "    <tr>\n",
       "      <th>3</th>\n",
       "      <td>Изменить структура категорий, что увеличит конверсию, т.к. пользователи быстрее найдут нужный товар</td>\n",
       "      <td>8</td>\n",
       "      <td>3</td>\n",
       "      <td>3</td>\n",
       "      <td>8</td>\n",
       "      <td>1.1</td>\n",
       "      <td>9.0</td>\n",
       "    </tr>\n",
       "    <tr>\n",
       "      <th>1</th>\n",
       "      <td>Запустить собственную службу доставки, что сократит срок доставки заказов</td>\n",
       "      <td>2</td>\n",
       "      <td>5</td>\n",
       "      <td>4</td>\n",
       "      <td>10</td>\n",
       "      <td>2.0</td>\n",
       "      <td>4.0</td>\n",
       "    </tr>\n",
       "    <tr>\n",
       "      <th>5</th>\n",
       "      <td>Добавить страницу отзывов клиентов о магазине, что позволит увеличить количество заказов</td>\n",
       "      <td>3</td>\n",
       "      <td>2</td>\n",
       "      <td>2</td>\n",
       "      <td>3</td>\n",
       "      <td>1.3</td>\n",
       "      <td>4.0</td>\n",
       "    </tr>\n",
       "    <tr>\n",
       "      <th>4</th>\n",
       "      <td>Изменить цвет фона главной страницы, чтобы увеличить вовлеченность пользователей</td>\n",
       "      <td>3</td>\n",
       "      <td>1</td>\n",
       "      <td>1</td>\n",
       "      <td>1</td>\n",
       "      <td>1.0</td>\n",
       "      <td>3.0</td>\n",
       "    </tr>\n",
       "  </tbody>\n",
       "</table>\n",
       "</div>"
      ],
      "text/plain": [
       "                                                                                                     hypothesis  \\\n",
       "7              Добавить форму подписки на все основные страницы, чтобы собрать базу клиентов для email-рассылок   \n",
       "2  Добавить блоки рекомендаций товаров на сайт интернет магазина, чтобы повысить конверсию и средний чек заказа   \n",
       "0            Добавить два новых канала привлечения трафика, что позволит привлекать на 30% больше пользователей   \n",
       "6          Показать на главной странице баннеры с актуальными акциями и распродажами, чтобы увеличить конверсию   \n",
       "8                                                       Запустить акцию, дающую скидку на товар в день рождения   \n",
       "3           Изменить структура категорий, что увеличит конверсию, т.к. пользователи быстрее найдут нужный товар   \n",
       "1                                     Запустить собственную службу доставки, что сократит срок доставки заказов   \n",
       "5                      Добавить страницу отзывов клиентов о магазине, что позволит увеличить количество заказов   \n",
       "4                              Изменить цвет фона главной страницы, чтобы увеличить вовлеченность пользователей   \n",
       "\n",
       "   reach  impact  confidence  efforts   ice   rice  \n",
       "7     10       7           8        5  11.2  112.0  \n",
       "2      8       3           7        3   7.0   56.0  \n",
       "0      3      10           8        6  13.3   40.0  \n",
       "6      5       3           8        3   8.0   40.0  \n",
       "8      1       9           9        5  16.2   16.2  \n",
       "3      8       3           3        8   1.1    9.0  \n",
       "1      2       5           4       10   2.0    4.0  \n",
       "5      3       2           2        3   1.3    4.0  \n",
       "4      3       1           1        1   1.0    3.0  "
      ]
     },
     "execution_count": 12,
     "metadata": {},
     "output_type": "execute_result"
    }
   ],
   "source": [
    "hypothesis['rice'] = hypothesis['reach'] * hypothesis['impact'] * hypothesis['confidence'] / hypothesis['efforts']\n",
    "hypothesis.sort_values('rice', ascending=False)"
   ]
  },
  {
   "cell_type": "code",
   "execution_count": 13,
   "metadata": {},
   "outputs": [
    {
     "data": {
      "image/png": "[encoded data removed]",
      "text/plain": [
       "<Figure size 432x288 with 1 Axes>"
      ]
     },
     "metadata": {
      "needs_background": "light"
     },
     "output_type": "display_data"
    }
   ],
   "source": [
    "# создание графика\n",
    "hypothesis.sort_values('rice', ascending=True).plot(x='hypothesis', y='rice', kind='barh', grid=True)\n",
    "plt.xlabel('RICE')\n",
    "plt.ylabel('Гипотеза')\n",
    "plt.title('Приоритизация гипотез')\n",
    "plt.show()"
   ]
  },
  {
   "cell_type": "markdown",
   "metadata": {},
   "source": [
    "Топ 3 гипотез по RICE:\n",
    "1. Добавить форму подписки на все основные страницы, чтобы собрать базу клиентов для email-рассылок\n",
    "2. Добавить блоки рекомендаций товаров на сайт интернет магазина, чтобы повысить среднее кол-во заказов на посетителя и средний чек заказа\n",
    "3. Добавить два новых канала привлечения трафика, что позволит привлекать на 30% больше пользователей"
   ]
  },
  {
   "cell_type": "markdown",
   "metadata": {},
   "source": [
    "### Указать, как изменилась приоритизация гипотез при применении RICE вместо ICE."
   ]
  },
  {
   "cell_type": "code",
   "execution_count": 14,
   "metadata": {},
   "outputs": [
    {
     "data": {
      "text/html": [
       "<div>\n",
       "<style scoped>\n",
       "    .dataframe tbody tr th:only-of-type {\n",
       "        vertical-align: middle;\n",
       "    }\n",
       "\n",
       "    .dataframe tbody tr th {\n",
       "        vertical-align: top;\n",
       "    }\n",
       "\n",
       "    .dataframe thead th {\n",
       "        text-align: right;\n",
       "    }\n",
       "</style>\n",
       "<table border=\"1\" class=\"dataframe\">\n",
       "  <thead>\n",
       "    <tr style=\"text-align: right;\">\n",
       "      <th></th>\n",
       "      <th>hypothesis</th>\n",
       "      <th>ice</th>\n",
       "      <th>rice</th>\n",
       "    </tr>\n",
       "  </thead>\n",
       "  <tbody>\n",
       "    <tr>\n",
       "      <th>8</th>\n",
       "      <td>Запустить акцию, дающую скидку на товар в день рождения</td>\n",
       "      <td>16.2</td>\n",
       "      <td>16.2</td>\n",
       "    </tr>\n",
       "    <tr>\n",
       "      <th>0</th>\n",
       "      <td>Добавить два новых канала привлечения трафика, что позволит привлекать на 30% больше пользователей</td>\n",
       "      <td>13.3</td>\n",
       "      <td>40.0</td>\n",
       "    </tr>\n",
       "    <tr>\n",
       "      <th>7</th>\n",
       "      <td>Добавить форму подписки на все основные страницы, чтобы собрать базу клиентов для email-рассылок</td>\n",
       "      <td>11.2</td>\n",
       "      <td>112.0</td>\n",
       "    </tr>\n",
       "    <tr>\n",
       "      <th>6</th>\n",
       "      <td>Показать на главной странице баннеры с актуальными акциями и распродажами, чтобы увеличить конверсию</td>\n",
       "      <td>8.0</td>\n",
       "      <td>40.0</td>\n",
       "    </tr>\n",
       "    <tr>\n",
       "      <th>2</th>\n",
       "      <td>Добавить блоки рекомендаций товаров на сайт интернет магазина, чтобы повысить конверсию и средний чек заказа</td>\n",
       "      <td>7.0</td>\n",
       "      <td>56.0</td>\n",
       "    </tr>\n",
       "    <tr>\n",
       "      <th>1</th>\n",
       "      <td>Запустить собственную службу доставки, что сократит срок доставки заказов</td>\n",
       "      <td>2.0</td>\n",
       "      <td>4.0</td>\n",
       "    </tr>\n",
       "    <tr>\n",
       "      <th>5</th>\n",
       "      <td>Добавить страницу отзывов клиентов о магазине, что позволит увеличить количество заказов</td>\n",
       "      <td>1.3</td>\n",
       "      <td>4.0</td>\n",
       "    </tr>\n",
       "    <tr>\n",
       "      <th>3</th>\n",
       "      <td>Изменить структура категорий, что увеличит конверсию, т.к. пользователи быстрее найдут нужный товар</td>\n",
       "      <td>1.1</td>\n",
       "      <td>9.0</td>\n",
       "    </tr>\n",
       "    <tr>\n",
       "      <th>4</th>\n",
       "      <td>Изменить цвет фона главной страницы, чтобы увеличить вовлеченность пользователей</td>\n",
       "      <td>1.0</td>\n",
       "      <td>3.0</td>\n",
       "    </tr>\n",
       "  </tbody>\n",
       "</table>\n",
       "</div>"
      ],
      "text/plain": [
       "                                                                                                     hypothesis  \\\n",
       "8                                                       Запустить акцию, дающую скидку на товар в день рождения   \n",
       "0            Добавить два новых канала привлечения трафика, что позволит привлекать на 30% больше пользователей   \n",
       "7              Добавить форму подписки на все основные страницы, чтобы собрать базу клиентов для email-рассылок   \n",
       "6          Показать на главной странице баннеры с актуальными акциями и распродажами, чтобы увеличить конверсию   \n",
       "2  Добавить блоки рекомендаций товаров на сайт интернет магазина, чтобы повысить конверсию и средний чек заказа   \n",
       "1                                     Запустить собственную службу доставки, что сократит срок доставки заказов   \n",
       "5                      Добавить страницу отзывов клиентов о магазине, что позволит увеличить количество заказов   \n",
       "3           Изменить структура категорий, что увеличит конверсию, т.к. пользователи быстрее найдут нужный товар   \n",
       "4                              Изменить цвет фона главной страницы, чтобы увеличить вовлеченность пользователей   \n",
       "\n",
       "    ice   rice  \n",
       "8  16.2   16.2  \n",
       "0  13.3   40.0  \n",
       "7  11.2  112.0  \n",
       "6   8.0   40.0  \n",
       "2   7.0   56.0  \n",
       "1   2.0    4.0  \n",
       "5   1.3    4.0  \n",
       "3   1.1    9.0  \n",
       "4   1.0    3.0  "
      ]
     },
     "metadata": {},
     "output_type": "display_data"
    },
    {
     "data": {
      "text/html": [
       "<div>\n",
       "<style scoped>\n",
       "    .dataframe tbody tr th:only-of-type {\n",
       "        vertical-align: middle;\n",
       "    }\n",
       "\n",
       "    .dataframe tbody tr th {\n",
       "        vertical-align: top;\n",
       "    }\n",
       "\n",
       "    .dataframe thead th {\n",
       "        text-align: right;\n",
       "    }\n",
       "</style>\n",
       "<table border=\"1\" class=\"dataframe\">\n",
       "  <thead>\n",
       "    <tr style=\"text-align: right;\">\n",
       "      <th></th>\n",
       "      <th>hypothesis</th>\n",
       "      <th>ice</th>\n",
       "      <th>rice</th>\n",
       "    </tr>\n",
       "  </thead>\n",
       "  <tbody>\n",
       "    <tr>\n",
       "      <th>7</th>\n",
       "      <td>Добавить форму подписки на все основные страницы, чтобы собрать базу клиентов для email-рассылок</td>\n",
       "      <td>11.2</td>\n",
       "      <td>112.0</td>\n",
       "    </tr>\n",
       "    <tr>\n",
       "      <th>2</th>\n",
       "      <td>Добавить блоки рекомендаций товаров на сайт интернет магазина, чтобы повысить конверсию и средний чек заказа</td>\n",
       "      <td>7.0</td>\n",
       "      <td>56.0</td>\n",
       "    </tr>\n",
       "    <tr>\n",
       "      <th>0</th>\n",
       "      <td>Добавить два новых канала привлечения трафика, что позволит привлекать на 30% больше пользователей</td>\n",
       "      <td>13.3</td>\n",
       "      <td>40.0</td>\n",
       "    </tr>\n",
       "    <tr>\n",
       "      <th>6</th>\n",
       "      <td>Показать на главной странице баннеры с актуальными акциями и распродажами, чтобы увеличить конверсию</td>\n",
       "      <td>8.0</td>\n",
       "      <td>40.0</td>\n",
       "    </tr>\n",
       "    <tr>\n",
       "      <th>8</th>\n",
       "      <td>Запустить акцию, дающую скидку на товар в день рождения</td>\n",
       "      <td>16.2</td>\n",
       "      <td>16.2</td>\n",
       "    </tr>\n",
       "    <tr>\n",
       "      <th>3</th>\n",
       "      <td>Изменить структура категорий, что увеличит конверсию, т.к. пользователи быстрее найдут нужный товар</td>\n",
       "      <td>1.1</td>\n",
       "      <td>9.0</td>\n",
       "    </tr>\n",
       "    <tr>\n",
       "      <th>1</th>\n",
       "      <td>Запустить собственную службу доставки, что сократит срок доставки заказов</td>\n",
       "      <td>2.0</td>\n",
       "      <td>4.0</td>\n",
       "    </tr>\n",
       "    <tr>\n",
       "      <th>5</th>\n",
       "      <td>Добавить страницу отзывов клиентов о магазине, что позволит увеличить количество заказов</td>\n",
       "      <td>1.3</td>\n",
       "      <td>4.0</td>\n",
       "    </tr>\n",
       "    <tr>\n",
       "      <th>4</th>\n",
       "      <td>Изменить цвет фона главной страницы, чтобы увеличить вовлеченность пользователей</td>\n",
       "      <td>1.0</td>\n",
       "      <td>3.0</td>\n",
       "    </tr>\n",
       "  </tbody>\n",
       "</table>\n",
       "</div>"
      ],
      "text/plain": [
       "                                                                                                     hypothesis  \\\n",
       "7              Добавить форму подписки на все основные страницы, чтобы собрать базу клиентов для email-рассылок   \n",
       "2  Добавить блоки рекомендаций товаров на сайт интернет магазина, чтобы повысить конверсию и средний чек заказа   \n",
       "0            Добавить два новых канала привлечения трафика, что позволит привлекать на 30% больше пользователей   \n",
       "6          Показать на главной странице баннеры с актуальными акциями и распродажами, чтобы увеличить конверсию   \n",
       "8                                                       Запустить акцию, дающую скидку на товар в день рождения   \n",
       "3           Изменить структура категорий, что увеличит конверсию, т.к. пользователи быстрее найдут нужный товар   \n",
       "1                                     Запустить собственную службу доставки, что сократит срок доставки заказов   \n",
       "5                      Добавить страницу отзывов клиентов о магазине, что позволит увеличить количество заказов   \n",
       "4                              Изменить цвет фона главной страницы, чтобы увеличить вовлеченность пользователей   \n",
       "\n",
       "    ice   rice  \n",
       "7  11.2  112.0  \n",
       "2   7.0   56.0  \n",
       "0  13.3   40.0  \n",
       "6   8.0   40.0  \n",
       "8  16.2   16.2  \n",
       "3   1.1    9.0  \n",
       "1   2.0    4.0  \n",
       "5   1.3    4.0  \n",
       "4   1.0    3.0  "
      ]
     },
     "metadata": {},
     "output_type": "display_data"
    }
   ],
   "source": [
    "# выводим 2 раза таблицу с сортировкой по одному из фреймворков\n",
    "display(hypothesis[['hypothesis','ice', 'rice']].sort_values(by='ice', ascending=False))\n",
    "display(hypothesis[['hypothesis','ice', 'rice']].sort_values(by='rice', ascending=False))"
   ]
  },
  {
   "cell_type": "markdown",
   "metadata": {},
   "source": [
    "**Вывод**\n",
    "\n",
    "Формула ICE и RICE отличается одним параметром.\n",
    "\n",
    "ICE - фокусируется на оценке влияния, уверенности и усилий, не учитывая охват. В то время как RICE - учитывает дополнительный фактор \"Reach\" (охват). Он помогает оценить, сколько пользователей или клиентов затронет гипотеза. И если параметр \"Reach\" у гипотезы большой, то и RICE будет выше соответственно."
   ]
  },
  {
   "cell_type": "markdown",
   "metadata": {},
   "source": [
    "## A/B-тесты\n",
    "\n",
    "1. Построить график кумулятивной выручки по группам. \n",
    "2. Построить график кумулятивного среднего чека по группам. \n",
    "3. Построить график относительного изменения кумулятивного среднего чека группы B к группе A. \n",
    "4. Построить график кумулятивного среднего количества заказов на посетителя по группам. \n",
    "5. Построить график относительного изменения кумулятивного среднего количества заказов на посетителя группы B к группе A. \n",
    "6. Построить точечный график количества заказов по пользователям. \n",
    "7. Посчитать 95-й и 99-й перцентили количества заказов на пользователя. Выбрать границу для определения аномальных пользователей.\n",
    "8. Построить точечный график стоимостей заказов. \n",
    "9. Посчитать 95-й и 99-й перцентили стоимости заказов. Выбрать границу для определения аномальных заказов.\n",
    "10. Посчитать статистическую значимость различий в среднем количестве заказов на посетителя между группами по «сырым» данным.\n",
    "11. Посчитать статистическую значимость различий в среднем чеке заказа между группами по «сырым» данным. \n",
    "12. Посчитать статистическую значимость различий в среднем количестве заказов на посетителя между группами по «очищенным» данным. \n",
    "13. Посчитать статистическую значимость различий в среднем чеке заказа между группами по «очищенным» данным. \n",
    "14. Принять решение по результатам теста и объясните его. Варианты решений:\n",
    "    1. Остановить тест, зафиксировать победу одной из групп.\n",
    "    2. Остановить тест, зафиксировать отсутствие различий между группами.\n",
    "    3. Продолжить тест."
   ]
  },
  {
   "cell_type": "markdown",
   "metadata": {},
   "source": [
    "Для создания графиков на основе кумулятивных данных необходимо создать таблицу, которая будет содержать информацию о дате, группе (A или B), накопленном количестве заказов и пользователей, среднем чеке и общем количестве посетителей магазина."
   ]
  },
  {
   "cell_type": "code",
   "execution_count": 15,
   "metadata": {},
   "outputs": [],
   "source": [
    "# создаем массив уникальных пар значений дат и групп теста\n",
    "datesGroups = orders[['date','group']].drop_duplicates()"
   ]
  },
  {
   "cell_type": "code",
   "execution_count": 16,
   "metadata": {},
   "outputs": [],
   "source": [
    "# получаем агрегированные кумулятивные по дням данные о заказах \n",
    "ordersAggregated = datesGroups.apply(\n",
    "    lambda x: orders[np.logical_and(orders['date'] <= x['date'], orders['group'] == x['group'])]\\\n",
    "    .agg({'date' : 'max', 'group' : 'max', 'transaction_id' : 'nunique', 'visitor_id' : 'nunique', 'revenue' : 'sum'}),\\\n",
    "    axis=1).sort_values(by=['date','group'])"
   ]
  },
  {
   "cell_type": "code",
   "execution_count": 17,
   "metadata": {},
   "outputs": [],
   "source": [
    "# получаем агрегированные кумулятивные по дням данные о посетителях интернет-магазина\n",
    "visitorsAggregated = datesGroups.apply(\n",
    "    lambda x: visitors[np.logical_and(visitors['date'] <= x['date'], visitors['group'] == x['group'])]\\\n",
    "    .agg({'date' : 'max', 'group' : 'max', 'visitors' : 'sum'}), axis=1).sort_values(by=['date','group'])"
   ]
  },
  {
   "cell_type": "code",
   "execution_count": 18,
   "metadata": {},
   "outputs": [
    {
     "data": {
      "text/html": [
       "<div>\n",
       "<style scoped>\n",
       "    .dataframe tbody tr th:only-of-type {\n",
       "        vertical-align: middle;\n",
       "    }\n",
       "\n",
       "    .dataframe tbody tr th {\n",
       "        vertical-align: top;\n",
       "    }\n",
       "\n",
       "    .dataframe thead th {\n",
       "        text-align: right;\n",
       "    }\n",
       "</style>\n",
       "<table border=\"1\" class=\"dataframe\">\n",
       "  <thead>\n",
       "    <tr style=\"text-align: right;\">\n",
       "      <th></th>\n",
       "      <th>date</th>\n",
       "      <th>group</th>\n",
       "      <th>orders</th>\n",
       "      <th>buyers</th>\n",
       "      <th>revenue</th>\n",
       "      <th>visitors</th>\n",
       "    </tr>\n",
       "  </thead>\n",
       "  <tbody>\n",
       "    <tr>\n",
       "      <th>0</th>\n",
       "      <td>2019-08-01</td>\n",
       "      <td>A</td>\n",
       "      <td>24</td>\n",
       "      <td>20</td>\n",
       "      <td>148579</td>\n",
       "      <td>719</td>\n",
       "    </tr>\n",
       "    <tr>\n",
       "      <th>1</th>\n",
       "      <td>2019-08-01</td>\n",
       "      <td>B</td>\n",
       "      <td>21</td>\n",
       "      <td>20</td>\n",
       "      <td>101217</td>\n",
       "      <td>713</td>\n",
       "    </tr>\n",
       "    <tr>\n",
       "      <th>2</th>\n",
       "      <td>2019-08-02</td>\n",
       "      <td>A</td>\n",
       "      <td>44</td>\n",
       "      <td>38</td>\n",
       "      <td>242401</td>\n",
       "      <td>1338</td>\n",
       "    </tr>\n",
       "    <tr>\n",
       "      <th>3</th>\n",
       "      <td>2019-08-02</td>\n",
       "      <td>B</td>\n",
       "      <td>45</td>\n",
       "      <td>43</td>\n",
       "      <td>266748</td>\n",
       "      <td>1294</td>\n",
       "    </tr>\n",
       "    <tr>\n",
       "      <th>4</th>\n",
       "      <td>2019-08-03</td>\n",
       "      <td>A</td>\n",
       "      <td>68</td>\n",
       "      <td>62</td>\n",
       "      <td>354874</td>\n",
       "      <td>1845</td>\n",
       "    </tr>\n",
       "  </tbody>\n",
       "</table>\n",
       "</div>"
      ],
      "text/plain": [
       "        date group  orders  buyers  revenue  visitors\n",
       "0 2019-08-01     A      24      20   148579       719\n",
       "1 2019-08-01     B      21      20   101217       713\n",
       "2 2019-08-02     A      44      38   242401      1338\n",
       "3 2019-08-02     B      45      43   266748      1294\n",
       "4 2019-08-03     A      68      62   354874      1845"
      ]
     },
     "execution_count": 18,
     "metadata": {},
     "output_type": "execute_result"
    }
   ],
   "source": [
    "# объединяем кумулятивные данные в одной таблице и присваиваем ее столбцам понятные названия\n",
    "cumulativeData = ordersAggregated.merge(visitorsAggregated, left_on=['date', 'group'], right_on=['date', 'group'])\n",
    "cumulativeData.columns = ['date', 'group', 'orders', 'buyers', 'revenue', 'visitors']\n",
    "cumulativeData.head()"
   ]
  },
  {
   "cell_type": "markdown",
   "metadata": {},
   "source": [
    "Проверим, корректно ли был создан датафрейм cumulativeData. Совпадают ли минимальная и максимальная даты в этом датафрейме с минимальной и максимальной датой в исходных данных."
   ]
  },
  {
   "cell_type": "code",
   "execution_count": 19,
   "metadata": {},
   "outputs": [
    {
     "data": {
      "text/plain": [
       "Timestamp('2019-08-01 00:00:00')"
      ]
     },
     "metadata": {},
     "output_type": "display_data"
    },
    {
     "data": {
      "text/plain": [
       "Timestamp('2019-08-31 00:00:00')"
      ]
     },
     "metadata": {},
     "output_type": "display_data"
    }
   ],
   "source": [
    "display(cumulativeData['date'].min())\n",
    "display(cumulativeData['date'].max())"
   ]
  },
  {
   "cell_type": "code",
   "execution_count": 20,
   "metadata": {},
   "outputs": [
    {
     "data": {
      "text/plain": [
       "Timestamp('2019-08-01 00:00:00')"
      ]
     },
     "metadata": {},
     "output_type": "display_data"
    },
    {
     "data": {
      "text/plain": [
       "Timestamp('2019-08-31 00:00:00')"
      ]
     },
     "metadata": {},
     "output_type": "display_data"
    }
   ],
   "source": [
    "display(visitors['date'].min())\n",
    "display(visitors['date'].max())"
   ]
  },
  {
   "cell_type": "markdown",
   "metadata": {},
   "source": [
    "Даты совпадают.\n"
   ]
  },
  {
   "cell_type": "markdown",
   "metadata": {},
   "source": [
    "### Построим график кумулятивной выручки по группам."
   ]
  },
  {
   "cell_type": "code",
   "execution_count": 21,
   "metadata": {},
   "outputs": [
    {
     "data": {
      "image/png": "[encoded data removed]",
      "text/plain": [
       "<Figure size 720x432 with 1 Axes>"
      ]
     },
     "metadata": {
      "needs_background": "light"
     },
     "output_type": "display_data"
    }
   ],
   "source": [
    "# датафрейм с кумулятивным количеством заказов и кумулятивной выручкой по дням в группе А\n",
    "cumulativeRevenueA = cumulativeData[cumulativeData['group']=='A'][['date','revenue', 'orders']]\n",
    "\n",
    "# датафрейм с кумулятивным количеством заказов и кумулятивной выручкой по дням в группе B\n",
    "cumulativeRevenueB = cumulativeData[cumulativeData['group']=='B'][['date','revenue', 'orders']]\n",
    "\n",
    "# создание графика\n",
    "plt.figure(figsize=(10, 6))\n",
    "\n",
    "# Строим график выручки группы А и В\n",
    "plt.plot(cumulativeRevenueA['date'], cumulativeRevenueA['revenue'], label='A')\n",
    "plt.plot(cumulativeRevenueB['date'], cumulativeRevenueB['revenue'], label='B')\n",
    "\n",
    "plt.title('График кумулятивной выручки по группам А и В')\n",
    "plt.ylabel('Выручка в млн.')\n",
    "plt.xlabel('Дата')\n",
    "plt.xticks(rotation=20)\n",
    "plt.legend() \n",
    "plt.show()"
   ]
  },
  {
   "cell_type": "markdown",
   "metadata": {},
   "source": [
    "Видим, что кумулятивная выручка группы А показывает линейный рост, но меньше, чем у группы В. А в группе В есть резкий скачок примерно 18-19 августа, что может быть связано с резким ростом количества заказов либо с появлением очень дорогих заказов в выборке."
   ]
  },
  {
   "cell_type": "markdown",
   "metadata": {},
   "source": [
    "### Построим график кумулятивного среднего чека по группам."
   ]
  },
  {
   "cell_type": "code",
   "execution_count": 22,
   "metadata": {},
   "outputs": [
    {
     "data": {
      "image/png": "[encoded data removed]",
      "text/plain": [
       "<Figure size 720x432 with 1 Axes>"
      ]
     },
     "metadata": {
      "needs_background": "light"
     },
     "output_type": "display_data"
    }
   ],
   "source": [
    "# создание графика\n",
    "plt.figure(figsize=(10, 6))\n",
    "\n",
    "# Строим график выручки группы А и В\n",
    "plt.plot(cumulativeRevenueA['date'], cumulativeRevenueA['revenue']/cumulativeRevenueA['orders'], label='A')\n",
    "plt.plot(cumulativeRevenueB['date'], cumulativeRevenueB['revenue']/cumulativeRevenueB['orders'], label='B')\n",
    "\n",
    "plt.title('График кумулятивного среднего чека по группам А и В')\n",
    "plt.ylabel('Средний чек')\n",
    "plt.xlabel('Дата')\n",
    "plt.xticks(rotation=20)\n",
    "plt.legend() \n",
    "plt.show()"
   ]
  },
  {
   "cell_type": "markdown",
   "metadata": {},
   "source": [
    "После 13 августа средний чек в группе А стабилизировался. А скачок в группе В, о котором уже говорили, может и быть вызван тем самым \"жирным\" заказом."
   ]
  },
  {
   "cell_type": "markdown",
   "metadata": {},
   "source": [
    "### Построим график относительного изменения кумулятивного среднего чека группы B к группе A.\n",
    "\n",
    "Построим график относительного различия для среднего чека. Добавим горизонтальную ось методом axhline() "
   ]
  },
  {
   "cell_type": "code",
   "execution_count": 23,
   "metadata": {},
   "outputs": [
    {
     "data": {
      "image/png": "[encoded data removed]",
      "text/plain": [
       "<Figure size 720x432 with 1 Axes>"
      ]
     },
     "metadata": {
      "needs_background": "light"
     },
     "output_type": "display_data"
    }
   ],
   "source": [
    "# собираем данные в одном датафрейме\n",
    "mergedCumulativeRevenue = cumulativeRevenueA.merge(\n",
    "    cumulativeRevenueB, left_on='date', right_on='date', how='left', suffixes=['A', 'B'])\n",
    "\n",
    "# cтроим отношение средних чеков\n",
    "plt.figure(figsize=(10, 6))\n",
    "plt.plot(mergedCumulativeRevenue['date'], (mergedCumulativeRevenue['revenueB']/mergedCumulativeRevenue['ordersB'])\\\n",
    "         /(mergedCumulativeRevenue['revenueA']/mergedCumulativeRevenue['ordersA'])-1)\n",
    "\n",
    "# добавляем ось X\n",
    "plt.axhline(y=0, color='black', linestyle='--')\n",
    "plt.title('График отностительного изменения среднего чека группы В к А')\n",
    "plt.ylabel('Разница')\n",
    "plt.xlabel('Дата')\n",
    "plt.xticks(rotation=20)\n",
    "plt.show()"
   ]
  },
  {
   "cell_type": "markdown",
   "metadata": {},
   "source": [
    " В нескольких точках видны скачки. Возможно, это и есть те самые крупные заказы или выбросы."
   ]
  },
  {
   "cell_type": "markdown",
   "metadata": {},
   "source": [
    "### Построим график кумулятивного среднего количества заказов на посетителя по группам."
   ]
  },
  {
   "cell_type": "code",
   "execution_count": 24,
   "metadata": {},
   "outputs": [
    {
     "data": {
      "image/png": "[encoded data removed]",
      "text/plain": [
       "<Figure size 720x432 with 1 Axes>"
      ]
     },
     "metadata": {
      "needs_background": "light"
     },
     "output_type": "display_data"
    }
   ],
   "source": [
    "# считаем кумулятивную среднее кол-во заказов на посетителя\n",
    "cumulativeData['conversion'] = cumulativeData['orders']/cumulativeData['visitors']\n",
    "\n",
    "# отделяем данные по группе A\n",
    "cumulativeDataA = cumulativeData[cumulativeData['group']=='A']\n",
    "\n",
    "# отделяем данные по группе B\n",
    "cumulativeDataB = cumulativeData[cumulativeData['group']=='B']\n",
    "\n",
    "# строим графики\n",
    "plt.figure(figsize=(10, 6))\n",
    "plt.plot(cumulativeDataA['date'], cumulativeDataA['conversion'], label='A')\n",
    "plt.plot(cumulativeDataB['date'], cumulativeDataB['conversion'], label='B')\n",
    "plt.title('График кумулятивной средннего кол-во заказов на посетителя по группам')\n",
    "plt.ylabel('Среднее кол-во заказов на посетителя')\n",
    "plt.xlabel('Дата')\n",
    "plt.xticks(rotation=20)\n",
    "plt.legend()\n",
    "plt.show()"
   ]
  },
  {
   "cell_type": "markdown",
   "metadata": {},
   "source": [
    "Хаотичные скачки и спады видны в обеих группах до 5 августа. Дальше среднее количество заказов у группы В снова увеличилось, а у группы А показатели снизились."
   ]
  },
  {
   "cell_type": "markdown",
   "metadata": {},
   "source": [
    "### Построим график относительного изменения кумулятивного среднего количества заказов на посетителя группы B к группе A."
   ]
  },
  {
   "cell_type": "code",
   "execution_count": 25,
   "metadata": {},
   "outputs": [
    {
     "data": {
      "image/png": "[encoded data removed]",
      "text/plain": [
       "<Figure size 720x432 with 1 Axes>"
      ]
     },
     "metadata": {
      "needs_background": "light"
     },
     "output_type": "display_data"
    }
   ],
   "source": [
    "mergedCumulativeConversions = cumulativeDataA[['date','conversion']]\\\n",
    ".merge(cumulativeDataB[['date','conversion']], left_on='date', right_on='date', how='left', suffixes=['A', 'B'])\n",
    "\n",
    "# создаем график\n",
    "plt.figure(figsize=(10, 6))\n",
    "plt.plot(mergedCumulativeConversions['date'], mergedCumulativeConversions['conversionB']\\\n",
    "         /mergedCumulativeConversions['conversionA']-1)\n",
    "plt.title(\"Относительный прирост кумулятивного среднего количества заказов на посетителя группы B относительно группы A\")\n",
    "plt.axhline(y=0, color='black', linestyle='--')\n",
    "plt.axhline(y=0.15, color='grey', linestyle='--')\n",
    "plt.ylabel('Разница')\n",
    "plt.xlabel('Дата')\n",
    "plt.xticks(rotation=20)\n",
    "plt.show()"
   ]
  },
  {
   "cell_type": "markdown",
   "metadata": {},
   "source": [
    "В начале теста группа В уступала группе А. После этого наблюдаем резкий скачок 2 августа, но 3го числа показатели снова упали. Далее группа В начинает показывать рост и стабильность."
   ]
  },
  {
   "cell_type": "markdown",
   "metadata": {},
   "source": [
    "### Построим точечный график количества заказов по пользователям."
   ]
  },
  {
   "cell_type": "code",
   "execution_count": 26,
   "metadata": {},
   "outputs": [
    {
     "data": {
      "text/plain": [
       "count    1031.000000\n",
       "mean        1.161009\n",
       "std         0.724919\n",
       "min         1.000000\n",
       "25%         1.000000\n",
       "50%         1.000000\n",
       "75%         1.000000\n",
       "max        11.000000\n",
       "Name: orders, dtype: float64"
      ]
     },
     "metadata": {},
     "output_type": "display_data"
    },
    {
     "data": {
      "image/png": "[encoded data removed]",
      "text/plain": [
       "<Figure size 720x288 with 1 Axes>"
      ]
     },
     "metadata": {
      "needs_background": "light"
     },
     "output_type": "display_data"
    }
   ],
   "source": [
    "ordersByUsers = (\n",
    "    orders.groupby('visitor_id', as_index=False)\n",
    "    .agg({'transaction_id': 'nunique'})\n",
    ")\n",
    "ordersByUsers.columns =  ['visitor_id', 'orders']\n",
    "display(ordersByUsers['orders'].describe())\n",
    "\n",
    "# строим гистограмму\n",
    "plt.figure(figsize=(10, 4))\n",
    "plt.hist(ordersByUsers['orders']) \n",
    "plt.title('Количества заказов по пользователям')\n",
    "plt.xlabel('Кол-во заказов')\n",
    "plt.ylabel('Число пользователей')\n",
    "plt.show()"
   ]
  },
  {
   "cell_type": "code",
   "execution_count": 27,
   "metadata": {},
   "outputs": [
    {
     "data": {
      "image/png": "[encoded data removed]",
      "text/plain": [
       "<Figure size 720x288 with 1 Axes>"
      ]
     },
     "metadata": {
      "needs_background": "light"
     },
     "output_type": "display_data"
    }
   ],
   "source": [
    "x_values = pd.Series(range(0,len(ordersByUsers)))\n",
    "\n",
    "# строим точечную диаграмму\n",
    "plt.figure(figsize=(10, 4))\n",
    "plt.scatter(x_values, ordersByUsers['orders'], alpha=0.5)\n",
    "plt.xlabel('Число пользователей')\n",
    "plt.ylabel('Кол-о заказов')\n",
    "plt.title('Количества заказов по пользователям');\n",
    "plt.show()"
   ]
  },
  {
   "cell_type": "markdown",
   "metadata": {},
   "source": [
    "Большинство покупателей заказывали только один раз. Однако доля пользователей с 2-4 заказами также значительна. Также есть те, кто успел сделать 11 заказов за месяц."
   ]
  },
  {
   "cell_type": "markdown",
   "metadata": {},
   "source": [
    "### Посчитаем 95-й и 99-й перцентили количества заказов на пользователя."
   ]
  },
  {
   "cell_type": "code",
   "execution_count": 28,
   "metadata": {},
   "outputs": [
    {
     "data": {
      "text/plain": [
       "array([2., 4.])"
      ]
     },
     "execution_count": 28,
     "metadata": {},
     "output_type": "execute_result"
    }
   ],
   "source": [
    "np.percentile(ordersByUsers['orders'], [95, 99])"
   ]
  },
  {
   "cell_type": "markdown",
   "metadata": {},
   "source": [
    "Не более 5% пользователей совершали больше двух покупок, а только 1% делали четыре и более покупок.\n",
    "\n",
    "Граница для определения аномальных пользователей составляет четыре заказа."
   ]
  },
  {
   "cell_type": "markdown",
   "metadata": {},
   "source": [
    "### Построим точечный график стоимостей заказов."
   ]
  },
  {
   "cell_type": "code",
   "execution_count": 29,
   "metadata": {},
   "outputs": [
    {
     "data": {
      "text/plain": [
       "count    1.197000e+03\n",
       "mean     8.348006e+03\n",
       "std      3.919113e+04\n",
       "min      5.000000e+01\n",
       "25%      1.220000e+03\n",
       "50%      2.978000e+03\n",
       "75%      8.290000e+03\n",
       "max      1.294500e+06\n",
       "Name: revenue, dtype: float64"
      ]
     },
     "metadata": {},
     "output_type": "display_data"
    },
    {
     "data": {
      "image/png": "[encoded data removed]",
      "text/plain": [
       "<Figure size 576x288 with 1 Axes>"
      ]
     },
     "metadata": {
      "needs_background": "light"
     },
     "output_type": "display_data"
    }
   ],
   "source": [
    "display(orders['revenue'].describe())\n",
    "\n",
    "x_values = pd.Series(range(0,len(orders)))\n",
    "\n",
    "# строим точечную диаграмму\n",
    "plt.figure(figsize=(8, 4))\n",
    "plt.scatter(x_values, orders['revenue'], alpha=0.5)\n",
    "plt.xlabel('Число пользователей')\n",
    "plt.ylabel('Кол-о заказов')\n",
    "plt.title('Стоимость заказов по пользователям');\n",
    "plt.show()"
   ]
  },
  {
   "cell_type": "markdown",
   "metadata": {},
   "source": [
    "Есть выброс(ы), придадим масштаб графику и посмотрим поближе. "
   ]
  },
  {
   "cell_type": "code",
   "execution_count": 30,
   "metadata": {},
   "outputs": [
    {
     "data": {
      "image/png": "[encoded data removed]",
      "text/plain": [
       "<Figure size 576x288 with 1 Axes>"
      ]
     },
     "metadata": {
      "needs_background": "light"
     },
     "output_type": "display_data"
    }
   ],
   "source": [
    "plt.figure(figsize=(8, 4))\n",
    "plt.ylim(0, 150000)\n",
    "plt.scatter(x_values, orders['revenue'], alpha=0.5)\n",
    "plt.xlabel('Число пользователей')\n",
    "plt.ylabel('Кол-о заказов')\n",
    "plt.title('Стоимость заказов по пользователям');\n",
    "plt.show()"
   ]
  },
  {
   "cell_type": "markdown",
   "metadata": {},
   "source": [
    "Большинство заказов в пределах 20к. "
   ]
  },
  {
   "cell_type": "markdown",
   "metadata": {},
   "source": [
    "### Посчитаем 95-й и 99-й перцентили стоимости заказов."
   ]
  },
  {
   "cell_type": "code",
   "execution_count": 31,
   "metadata": {},
   "outputs": [
    {
     "data": {
      "text/plain": [
       "array([28000. , 58233.2])"
      ]
     },
     "execution_count": 31,
     "metadata": {},
     "output_type": "execute_result"
    }
   ],
   "source": [
    "np.percentile(orders['revenue'], [95, 99])"
   ]
  },
  {
   "cell_type": "markdown",
   "metadata": {},
   "source": [
    "Граница для определения аномальных заказов - 58233."
   ]
  },
  {
   "cell_type": "markdown",
   "metadata": {},
   "source": [
    "### Посчитаем статистическую значимость различий в среднем количестве заказов на посетителя между группами по «сырым» данным.\n",
    "\n",
    "Введем основную и альтернативные гипотезы:\n",
    "\n",
    "* Н0 - Статистически значимых различий в среднем количестве заказов между группами по сырым данным нет\n",
    "* Н1 - Статистически значимых различий в среднем количестве заказов между группами по сырым данным есть\n",
    " \n",
    "Уровень значимости: 0,05"
   ]
  },
  {
   "cell_type": "code",
   "execution_count": 32,
   "metadata": {},
   "outputs": [
    {
     "data": {
      "text/html": [
       "<div>\n",
       "<style scoped>\n",
       "    .dataframe tbody tr th:only-of-type {\n",
       "        vertical-align: middle;\n",
       "    }\n",
       "\n",
       "    .dataframe tbody tr th {\n",
       "        vertical-align: top;\n",
       "    }\n",
       "\n",
       "    .dataframe thead th {\n",
       "        text-align: right;\n",
       "    }\n",
       "</style>\n",
       "<table border=\"1\" class=\"dataframe\">\n",
       "  <thead>\n",
       "    <tr style=\"text-align: right;\">\n",
       "      <th></th>\n",
       "      <th>date</th>\n",
       "      <th>ordersPerDateA</th>\n",
       "      <th>revenuePerDateA</th>\n",
       "      <th>ordersPerDateB</th>\n",
       "      <th>revenuePerDateB</th>\n",
       "      <th>ordersCummulativeA</th>\n",
       "      <th>revenueCummulativeA</th>\n",
       "      <th>ordersCummulativeB</th>\n",
       "      <th>revenueCummulativeB</th>\n",
       "      <th>visitorsPerDateA</th>\n",
       "      <th>visitorsPerDateB</th>\n",
       "      <th>visitorsCummulativeA</th>\n",
       "      <th>visitorCummulativeB</th>\n",
       "    </tr>\n",
       "  </thead>\n",
       "  <tbody>\n",
       "    <tr>\n",
       "      <th>0</th>\n",
       "      <td>2019-08-01</td>\n",
       "      <td>24</td>\n",
       "      <td>148579</td>\n",
       "      <td>21</td>\n",
       "      <td>101217</td>\n",
       "      <td>24</td>\n",
       "      <td>148579</td>\n",
       "      <td>21</td>\n",
       "      <td>101217</td>\n",
       "      <td>719</td>\n",
       "      <td>713</td>\n",
       "      <td>719</td>\n",
       "      <td>713</td>\n",
       "    </tr>\n",
       "    <tr>\n",
       "      <th>1</th>\n",
       "      <td>2019-08-02</td>\n",
       "      <td>20</td>\n",
       "      <td>93822</td>\n",
       "      <td>24</td>\n",
       "      <td>165531</td>\n",
       "      <td>44</td>\n",
       "      <td>242401</td>\n",
       "      <td>45</td>\n",
       "      <td>266748</td>\n",
       "      <td>619</td>\n",
       "      <td>581</td>\n",
       "      <td>1338</td>\n",
       "      <td>1294</td>\n",
       "    </tr>\n",
       "    <tr>\n",
       "      <th>2</th>\n",
       "      <td>2019-08-03</td>\n",
       "      <td>24</td>\n",
       "      <td>112473</td>\n",
       "      <td>16</td>\n",
       "      <td>114248</td>\n",
       "      <td>68</td>\n",
       "      <td>354874</td>\n",
       "      <td>61</td>\n",
       "      <td>380996</td>\n",
       "      <td>507</td>\n",
       "      <td>509</td>\n",
       "      <td>1845</td>\n",
       "      <td>1803</td>\n",
       "    </tr>\n",
       "    <tr>\n",
       "      <th>3</th>\n",
       "      <td>2019-08-04</td>\n",
       "      <td>16</td>\n",
       "      <td>70825</td>\n",
       "      <td>17</td>\n",
       "      <td>108571</td>\n",
       "      <td>84</td>\n",
       "      <td>425699</td>\n",
       "      <td>78</td>\n",
       "      <td>489567</td>\n",
       "      <td>717</td>\n",
       "      <td>770</td>\n",
       "      <td>2562</td>\n",
       "      <td>2573</td>\n",
       "    </tr>\n",
       "    <tr>\n",
       "      <th>4</th>\n",
       "      <td>2019-08-05</td>\n",
       "      <td>25</td>\n",
       "      <td>124218</td>\n",
       "      <td>23</td>\n",
       "      <td>92428</td>\n",
       "      <td>109</td>\n",
       "      <td>549917</td>\n",
       "      <td>101</td>\n",
       "      <td>581995</td>\n",
       "      <td>756</td>\n",
       "      <td>707</td>\n",
       "      <td>3318</td>\n",
       "      <td>3280</td>\n",
       "    </tr>\n",
       "  </tbody>\n",
       "</table>\n",
       "</div>"
      ],
      "text/plain": [
       "        date  ordersPerDateA  revenuePerDateA  ordersPerDateB  \\\n",
       "0 2019-08-01              24           148579              21   \n",
       "1 2019-08-02              20            93822              24   \n",
       "2 2019-08-03              24           112473              16   \n",
       "3 2019-08-04              16            70825              17   \n",
       "4 2019-08-05              25           124218              23   \n",
       "\n",
       "   revenuePerDateB  ordersCummulativeA  revenueCummulativeA  \\\n",
       "0           101217                  24               148579   \n",
       "1           165531                  44               242401   \n",
       "2           114248                  68               354874   \n",
       "3           108571                  84               425699   \n",
       "4            92428                 109               549917   \n",
       "\n",
       "   ordersCummulativeB  revenueCummulativeB  visitorsPerDateA  \\\n",
       "0                  21               101217               719   \n",
       "1                  45               266748               619   \n",
       "2                  61               380996               507   \n",
       "3                  78               489567               717   \n",
       "4                 101               581995               756   \n",
       "\n",
       "   visitorsPerDateB  visitorsCummulativeA  visitorCummulativeB  \n",
       "0               713                   719                  713  \n",
       "1               581                  1338                 1294  \n",
       "2               509                  1845                 1803  \n",
       "3               770                  2562                 2573  \n",
       "4               707                  3318                 3280  "
      ]
     },
     "execution_count": 32,
     "metadata": {},
     "output_type": "execute_result"
    }
   ],
   "source": [
    "visitorsADaily = visitors[visitors['group'] == 'A'][['date', 'visitors']]\n",
    "visitorsADaily.columns = ['date', 'visitorsPerDateA']\n",
    "\n",
    "visitorsACummulative = visitorsADaily.apply(\n",
    "    lambda x: visitorsADaily[visitorsADaily['date'] <= x['date']].agg(\n",
    "        {'date': 'max', 'visitorsPerDateA': 'sum'}\n",
    "    ),\n",
    "    axis=1,\n",
    ")\n",
    "visitorsACummulative.columns = ['date', 'visitorsCummulativeA']\n",
    "\n",
    "visitorsBDaily = visitors[visitors['group'] == 'B'][['date', 'visitors']]\n",
    "visitorsBDaily.columns = ['date', 'visitorsPerDateB']\n",
    "\n",
    "visitorsBCummulative = visitorsBDaily.apply(\n",
    "    lambda x: visitorsBDaily[visitorsBDaily['date'] <= x['date']].agg(\n",
    "        {'date': 'max', 'visitorsPerDateB': 'sum'}\n",
    "    ),\n",
    "    axis=1,\n",
    ")\n",
    "visitorsBCummulative.columns = ['date', 'visitorCummulativeB']\n",
    "\n",
    "ordersADaily = (\n",
    "    orders[orders['group'] == 'A'][['date', 'transaction_id', 'visitor_id', 'revenue']]\n",
    "    .groupby('date', as_index=False)\n",
    "    .agg({'transaction_id': pd.Series.nunique, 'revenue': 'sum'})\n",
    ")\n",
    "ordersADaily.columns = ['date', 'ordersPerDateA', 'revenuePerDateA']\n",
    "\n",
    "ordersACummulative = ordersADaily.apply(\n",
    "    lambda x: ordersADaily[ordersADaily['date'] <= x['date']].agg(\n",
    "        {'date': 'max', 'ordersPerDateA': 'sum', 'revenuePerDateA': 'sum'}\n",
    "    ),\n",
    "    axis=1,\n",
    ").sort_values(by=['date'])\n",
    "\n",
    "ordersACummulative.columns = ['date','ordersCummulativeA','revenueCummulativeA']\n",
    "\n",
    "ordersBDaily = (\n",
    "    orders[orders['group'] == 'B'][['date', 'transaction_id', 'visitor_id', 'revenue']]\n",
    "    .groupby('date', as_index=False)\n",
    "    .agg({'transaction_id': pd.Series.nunique, 'revenue': 'sum'})\n",
    ")\n",
    "ordersBDaily.columns = ['date', 'ordersPerDateB', 'revenuePerDateB']\n",
    "\n",
    "ordersBCummulative = ordersBDaily.apply(\n",
    "    lambda x: ordersBDaily[ordersBDaily['date'] <= x['date']].agg(\n",
    "        {'date': 'max', 'ordersPerDateB': 'sum', 'revenuePerDateB': 'sum'}\n",
    "    ),\n",
    "    axis=1,\n",
    ").sort_values(by=['date'])\n",
    "\n",
    "ordersBCummulative.columns = ['date','ordersCummulativeB','revenueCummulativeB']\n",
    "\n",
    "\n",
    "data = (\n",
    "    ordersADaily.merge(\n",
    "        ordersBDaily, left_on='date', right_on='date', how='left'\n",
    "    )\n",
    "    .merge(ordersACummulative, left_on='date', right_on='date', how='left')\n",
    "    .merge(ordersBCummulative, left_on='date', right_on='date', how='left')\n",
    "    .merge(visitorsADaily, left_on='date', right_on='date', how='left')\n",
    "    .merge(visitorsBDaily, left_on='date', right_on='date', how='left')\n",
    "    .merge(visitorsACummulative, left_on='date', right_on='date', how='left')\n",
    "    .merge(visitorsBCummulative, left_on='date', right_on='date', how='left')\n",
    ")\n",
    "\n",
    "data.head()"
   ]
  },
  {
   "cell_type": "markdown",
   "metadata": {},
   "source": [
    "Напомним названия столбцов данных:\n",
    "\n",
    "* `date` — дата;\n",
    "* `ordersPerDateA` — количество заказов в выбранную дату в группе A;\n",
    "* `revenuePerDateA` — суммарная выручка в выбранную дату в группе A;\n",
    "* `ordersPerDateB` — количество заказов в выбранную дату в группе B;\n",
    "* `revenuePerDateB` — суммарная выручка в выбранную дату в группе B;\n",
    "* `ordersCummulativeA` — суммарное число заказов до выбранной даты включительно в группе A;\n",
    "* `revenueCummulativeA` — суммарная выручка до выбранной даты включительно в группе A;\n",
    "* `ordersCummulativeB` — суммарное количество заказов до выбранной даты включительно в группе B;\n",
    "* `revenueCummulativeB` — суммарная выручка до выбранной даты включительно в группе B;\n",
    "* `visitorsPerDateA` — количество пользователей в выбранную дату в группе A;\n",
    "* `visitorsPerDateB` — количество пользователей в выбранную дату в группе B;\n",
    "* `visitorsCummulativeA` — количество пользователей до выбранной даты включительно в группе A;\n",
    "* `visitorsCummulativeB` — количество пользователей до выбранной даты включительно в группе B.\n",
    "\n",
    "Посчитаем статистическую значимость различия в среднем количестве заказов между группами.\n",
    "\n",
    "Создадим переменные **ordersByUsersA** и **ordersByUsersB**. В них для пользователей, которые заказывали хотя бы 1 раз, укажем число совершённых заказов. "
   ]
  },
  {
   "cell_type": "code",
   "execution_count": 33,
   "metadata": {},
   "outputs": [],
   "source": [
    "ordersByUsersA = (\n",
    "    orders[orders['group'] == 'A']\n",
    "    .groupby('visitor_id', as_index=False)\n",
    "    .agg({'transaction_id': pd.Series.nunique})\n",
    ")\n",
    "ordersByUsersA.columns = ['userId', 'orders']\n",
    "\n",
    "ordersByUsersB = (\n",
    "    orders[orders['group'] == 'B']\n",
    "    .groupby('visitor_id', as_index=False)\n",
    "    .agg({'transaction_id': pd.Series.nunique})\n",
    ")\n",
    "ordersByUsersB.columns = ['userId', 'orders']"
   ]
  },
  {
   "cell_type": "markdown",
   "metadata": {},
   "source": [
    "Объявим переменные sampleA и sampleB, в которых будут содержаться количество заказов для пользователей из разных групп. Если пользователь ничего не заказал, ему будет соответствовать значение нуля. Это необходимо для подготовки выборок к проверке с использованием критерия Манна-Уитни."
   ]
  },
  {
   "cell_type": "code",
   "execution_count": 34,
   "metadata": {},
   "outputs": [
    {
     "name": "stdout",
     "output_type": "stream",
     "text": [
      "p-значение:  0.017\n",
      "Отвергаем нулевую гипотезу\n",
      "Относительный выигрыш группы B: 13.8%\n"
     ]
    }
   ],
   "source": [
    "sampleA = pd.concat(\n",
    "    [ordersByUsersA['orders'],pd.Series(0, index=np.arange(data['visitorsPerDateA']\\\n",
    "                                                           .sum() - len(ordersByUsersA['orders'])), name='orders')],axis=0)\n",
    "\n",
    "sampleB = pd.concat(\n",
    "    [ordersByUsersB['orders'],pd.Series(0, index=np.arange(data['visitorsPerDateB']\\\n",
    "                                                           .sum() - len(ordersByUsersB['orders'])), name='orders')],axis=0)\n",
    "\n",
    "\n",
    "alpha = 0.05 \n",
    "results = stats.mannwhitneyu(sampleA, sampleB)\n",
    "\n",
    "\n",
    "print('p-значение: ', \"{0:.3f}\".format(results.pvalue))\n",
    "\n",
    "if results.pvalue < alpha:\n",
    "    print('Отвергаем нулевую гипотезу')\n",
    "else:\n",
    "    print('Не получилось отвергнуть нулевую гипотезу') \n",
    "\n",
    "print('Относительный выигрыш группы B:', \"{0:.1%}\".format(sampleB.mean() / sampleA.mean() - 1))"
   ]
  },
  {
   "cell_type": "markdown",
   "metadata": {},
   "source": [
    "p-value = 0.017, что меньше 0.05. Значит, мы отвергаем нулевую гипотезу о отсутствии статистически значимых различий в среднем числе заказов между группами. Относительный выигрыш группы B составляет 13.8%."
   ]
  },
  {
   "cell_type": "markdown",
   "metadata": {},
   "source": [
    "### Посчитаем статистическую значимость различий в среднем чеке заказа между группами по «сырым» данным. \n",
    "\n",
    "* Н0 - Статистически значимых различий в среднем чеке между группами нет. \n",
    "* Н1 - Статистически значимых различия в среднем чеке между группами есть. \n",
    "\n",
    "Чтобы рассчитать статистическую значимость различий в среднем чеке, передадим критерию mannwhitneyu() данные о выручке с заказов. "
   ]
  },
  {
   "cell_type": "code",
   "execution_count": 35,
   "metadata": {},
   "outputs": [
    {
     "name": "stdout",
     "output_type": "stream",
     "text": [
      "p-значение:  0.729\n",
      "Не получилось отвергнуть нулевую гипотезу\n",
      "отношение средний чек группы B / средний чек группы A: 25.9%\n"
     ]
    }
   ],
   "source": [
    "alpha = .05 \n",
    "results = stats.mannwhitneyu(orders[orders['group']=='A']['revenue'], orders[orders['group']=='B']['revenue'])\n",
    "\n",
    "\n",
    "print('p-значение: ', \"{0:.3f}\".format(results.pvalue))\n",
    "\n",
    "if results.pvalue < alpha:\n",
    "    print(\"Отвергаем нулевую гипотезу\")\n",
    "else:\n",
    "    print(\"Не получилось отвергнуть нулевую гипотезу\") \n",
    "print('отношение средний чек группы B / средний чек группы A:', \"{0:.1%}\".format(\n",
    "    orders[orders['group']=='B']['revenue'].mean()/orders[orders['group']=='A']['revenue'].mean()-1))"
   ]
  },
  {
   "cell_type": "markdown",
   "metadata": {},
   "source": [
    "P-value значительно меньше 0.05. Значит, есть основания отвергать нулевую гипотезу и считать, что в среднем чеке есть различия. Средний чек группы B значительно выше среднего чека группы A."
   ]
  },
  {
   "cell_type": "markdown",
   "metadata": {},
   "source": [
    "### Посчитаем статистическую значимость различий в среднем количестве заказов на посетителя между группами по «очищенным» данным.\n",
    "\n",
    "Примем за аномальных пользователей тех, кто совершил от 4 заказов или совершил заказ дороже 58233 рублей. Так мы уберём 1% пользователей с наибольшим числом заказов и от 1% пользователей с дорогими заказами. \n",
    "\n",
    "* Н0 - Статистически значимых различий в среднем количестве заказов между группами по сырым данным нет\n",
    "* Н1 - Статистически значимых различий в среднем количестве заказов между группами по сырым данным есть\n"
   ]
  },
  {
   "cell_type": "code",
   "execution_count": 36,
   "metadata": {},
   "outputs": [
    {
     "data": {
      "text/plain": [
       "1099     148427295\n",
       "949      887908475\n",
       "744      888512513\n",
       "1103    1164614297\n",
       "1136    1307669133\n",
       "dtype: int64"
      ]
     },
     "metadata": {},
     "output_type": "display_data"
    },
    {
     "data": {
      "text/plain": [
       "15"
      ]
     },
     "metadata": {},
     "output_type": "display_data"
    }
   ],
   "source": [
    "max_order = np.percentile(ordersByUsers['orders'], 99)\n",
    "max_revenue = np.percentile(orders['revenue'], 99)\n",
    "\n",
    "usersWithManyOrders = pd.concat(\n",
    "    [\n",
    "        ordersByUsersA[ordersByUsersA['orders'] > max_order]['userId'],\n",
    "        ordersByUsersB[ordersByUsersB['orders'] > max_order]['userId'],\n",
    "    ],\n",
    "    axis=0,\n",
    ")\n",
    "usersWithExpensiveOrders = orders[orders['revenue'] > max_revenue]['visitor_id']\n",
    "abnormalUsers = (\n",
    "    pd.concat([usersWithManyOrders, usersWithExpensiveOrders], axis=0)\n",
    "    .drop_duplicates()\n",
    "    .sort_values()\n",
    ")\n",
    "display(abnormalUsers.head(5))\n",
    "display(abnormalUsers.shape[0])"
   ]
  },
  {
   "cell_type": "markdown",
   "metadata": {},
   "source": [
    "Всего 15 аномальных пользователей.\n",
    "\n",
    "Узнаем, как их действия повлияли на результаты теста. Посчитаем статистическую значимость различий в среднем количестве заказов между группами теста с учетом очищенных данных. Сначала подготовим выборки количества заказов по пользователям для каждой группы теста:"
   ]
  },
  {
   "cell_type": "code",
   "execution_count": 37,
   "metadata": {},
   "outputs": [
    {
     "name": "stdout",
     "output_type": "stream",
     "text": [
      "p-значение:  0.014\n",
      "Отвергаем нулевую гипотезу\n",
      "относительный выигрыш группы B: 15.3%\n"
     ]
    }
   ],
   "source": [
    "sampleAFiltered = pd.concat(\n",
    "    [\n",
    "        ordersByUsersA[\n",
    "            np.logical_not(ordersByUsersA['userId'].isin(abnormalUsers))\n",
    "        ]['orders'],\n",
    "        pd.Series(\n",
    "            0,\n",
    "            index=np.arange(\n",
    "                data['visitorsPerDateA'].sum() - len(ordersByUsersA['orders'])\n",
    "            ),\n",
    "            name='orders',\n",
    "        ),\n",
    "    ],\n",
    "    axis=0,\n",
    ")\n",
    "\n",
    "sampleBFiltered = pd.concat(\n",
    "    [\n",
    "        ordersByUsersB[\n",
    "            np.logical_not(ordersByUsersB['userId'].isin(abnormalUsers))\n",
    "        ]['orders'],\n",
    "        pd.Series(\n",
    "            0,\n",
    "            index=np.arange(\n",
    "                data['visitorsPerDateB'].sum() - len(ordersByUsersB['orders'])\n",
    "            ),\n",
    "            name='orders',\n",
    "        ),\n",
    "    ],\n",
    "    axis=0,\n",
    ")\n",
    "\n",
    "alpha = .05 \n",
    "results = stats.mannwhitneyu(sampleAFiltered, sampleBFiltered)\n",
    "\n",
    "\n",
    "print('p-значение: ', \"{0:.3f}\".format(results.pvalue))\n",
    "\n",
    "if results.pvalue < alpha:\n",
    "    print(\"Отвергаем нулевую гипотезу\")\n",
    "else:\n",
    "    print(\"Не получилось отвергнуть нулевую гипотезу\") \n",
    "\n",
    "print('относительный выигрыш группы B:', \"{0:.1%}\".format(sampleBFiltered.mean()/sampleAFiltered.mean()-1))"
   ]
  },
  {
   "cell_type": "markdown",
   "metadata": {},
   "source": [
    "Отвергаем нулевую гипотезу, так как p-значение 0.014 меньше 0.05. Разница в среднем количестве заказов между сырыми и очищенными данными существует, но небольшая. Если в сырых данных выигрыш группы В составлял 13.8%, то здесь он составляет 15.3%."
   ]
  },
  {
   "cell_type": "markdown",
   "metadata": {},
   "source": [
    "### Посчитаем статистическую значимость различий в среднем чеке заказа между группами по «очищенным» данным."
   ]
  },
  {
   "cell_type": "markdown",
   "metadata": {},
   "source": [
    "* Н0 - Статистически значимых различий в среднем чеке между группами нет. \n",
    "* Н1 - Статистически значимых различия в среднем чеке между группами есть. "
   ]
  },
  {
   "cell_type": "code",
   "execution_count": 38,
   "metadata": {},
   "outputs": [
    {
     "name": "stdout",
     "output_type": "stream",
     "text": [
      "p-значение:  0.851\n",
      "Не получилось отвергнуть нулевую гипотезу\n",
      "отношение средний чек группы B / средний чек группы A: -0.575%\n"
     ]
    }
   ],
   "source": [
    "alpha = .05 \n",
    "results = stats.mannwhitneyu(\n",
    "            orders[\n",
    "                np.logical_and(\n",
    "                    orders['group'] == 'A',\n",
    "                    np.logical_not(orders['visitor_id'].isin(abnormalUsers)),\n",
    "                )\n",
    "            ]['revenue'],\n",
    "            orders[\n",
    "                np.logical_and(\n",
    "                    orders['group'] == 'B',\n",
    "                    np.logical_not(orders['visitor_id'].isin(abnormalUsers)),\n",
    "                )\n",
    "            ]['revenue'],\n",
    "        )\n",
    "\n",
    "print('p-значение: ', \"{0:.3f}\".format(results.pvalue))\n",
    "if results.pvalue < alpha:\n",
    "    print(\"Отвергаем нулевую гипотезу\")\n",
    "else:\n",
    "    print(\"Не получилось отвергнуть нулевую гипотезу\") \n",
    "print('отношение средний чек группы B / средний чек группы A:',\n",
    "    \"{0:.3%}\".format(\n",
    "        orders[\n",
    "            np.logical_and(\n",
    "                orders['group'] == 'B',\n",
    "                np.logical_not(orders['visitor_id'].isin(abnormalUsers)),\n",
    "            )\n",
    "        ]['revenue'].mean()\n",
    "        / orders[\n",
    "            np.logical_and(\n",
    "                orders['group'] == 'A',\n",
    "                np.logical_not(orders['visitor_id'].isin(abnormalUsers)),\n",
    "            )\n",
    "        ]['revenue'].mean()\n",
    "        - 1\n",
    "    )\n",
    ")"
   ]
  },
  {
   "cell_type": "markdown",
   "metadata": {},
   "source": [
    "P-value значительно больше 0.05. Значит, причин отвергать нулевую гипотезу и считать, что в среднем чеке есть различия, нет. "
   ]
  },
  {
   "cell_type": "markdown",
   "metadata": {},
   "source": [
    "### Примите решение по результатам теста и объясните его.\n",
    "\n",
    "Варианты решений:\n",
    "1. Остановить тест, зафиксировать победу одной из групп.\n",
    "2. Остановить тест, зафиксировать отсутствие различий между группами.\n",
    "3. Продолжить тест.\n",
    "\n",
    "**Ответ**\n",
    "\n",
    "Можно остановить тест и зафиксировать победу группы В. \n",
    "\n",
    "По результатам теста можно заметить статистически значимое отличие по средннего кол-во заказов на посетителя"
   ]
  }
 ],
 "metadata": {
  "ExecuteTimeLog": [
   {
    "duration": 1299,
    "start_time": "2024-01-08T09:07:38.522Z"
   },
   {
    "duration": 181,
    "start_time": "2024-01-08T09:10:27.231Z"
   },
   {
    "duration": 1116,
    "start_time": "2024-01-08T09:10:40.187Z"
   },
   {
    "duration": 6,
    "start_time": "2024-01-08T09:10:41.305Z"
   },
   {
    "duration": 83,
    "start_time": "2024-01-08T09:10:41.312Z"
   },
   {
    "duration": 17,
    "start_time": "2024-01-08T09:11:40.018Z"
   },
   {
    "duration": 24,
    "start_time": "2024-01-08T09:12:11.364Z"
   },
   {
    "duration": 16,
    "start_time": "2024-01-08T09:12:36.042Z"
   },
   {
    "duration": 7,
    "start_time": "2024-01-08T09:17:53.726Z"
   },
   {
    "duration": 21,
    "start_time": "2024-01-08T09:20:57.894Z"
   },
   {
    "duration": 24,
    "start_time": "2024-01-08T09:21:37.361Z"
   },
   {
    "duration": 9,
    "start_time": "2024-01-08T09:22:04.483Z"
   },
   {
    "duration": 3,
    "start_time": "2024-01-08T09:23:44.968Z"
   },
   {
    "duration": 21,
    "start_time": "2024-01-08T09:23:57.874Z"
   },
   {
    "duration": 3,
    "start_time": "2024-01-08T09:24:53.607Z"
   },
   {
    "duration": 21,
    "start_time": "2024-01-08T09:24:56.908Z"
   },
   {
    "duration": 7,
    "start_time": "2024-01-08T09:26:13.306Z"
   },
   {
    "duration": 3,
    "start_time": "2024-01-08T09:26:59.296Z"
   },
   {
    "duration": 18,
    "start_time": "2024-01-08T09:27:20.677Z"
   },
   {
    "duration": 4,
    "start_time": "2024-01-08T09:28:17.579Z"
   },
   {
    "duration": 1210,
    "start_time": "2024-01-08T09:28:26.418Z"
   },
   {
    "duration": 3,
    "start_time": "2024-01-08T09:28:27.630Z"
   },
   {
    "duration": 73,
    "start_time": "2024-01-08T09:28:27.635Z"
   },
   {
    "duration": 31,
    "start_time": "2024-01-08T09:28:27.709Z"
   },
   {
    "duration": 25,
    "start_time": "2024-01-08T09:28:27.742Z"
   },
   {
    "duration": 6,
    "start_time": "2024-01-08T09:28:27.768Z"
   },
   {
    "duration": 35,
    "start_time": "2024-01-08T09:28:27.776Z"
   },
   {
    "duration": 3,
    "start_time": "2024-01-08T09:28:44.215Z"
   },
   {
    "duration": 1040,
    "start_time": "2024-01-08T09:28:49.356Z"
   },
   {
    "duration": 3,
    "start_time": "2024-01-08T09:28:50.398Z"
   },
   {
    "duration": 80,
    "start_time": "2024-01-08T09:28:50.402Z"
   },
   {
    "duration": 30,
    "start_time": "2024-01-08T09:28:50.484Z"
   },
   {
    "duration": 26,
    "start_time": "2024-01-08T09:28:50.515Z"
   },
   {
    "duration": 8,
    "start_time": "2024-01-08T09:28:50.542Z"
   },
   {
    "duration": 4,
    "start_time": "2024-01-08T09:28:50.551Z"
   },
   {
    "duration": 21,
    "start_time": "2024-01-08T09:29:03.796Z"
   },
   {
    "duration": 1118,
    "start_time": "2024-01-08T09:29:40.517Z"
   },
   {
    "duration": 3,
    "start_time": "2024-01-08T09:29:41.637Z"
   },
   {
    "duration": 73,
    "start_time": "2024-01-08T09:29:41.641Z"
   },
   {
    "duration": 26,
    "start_time": "2024-01-08T09:29:41.716Z"
   },
   {
    "duration": 28,
    "start_time": "2024-01-08T09:29:41.745Z"
   },
   {
    "duration": 39,
    "start_time": "2024-01-08T09:29:41.775Z"
   },
   {
    "duration": 4,
    "start_time": "2024-01-08T09:29:41.816Z"
   },
   {
    "duration": 9,
    "start_time": "2024-01-08T09:29:45.710Z"
   },
   {
    "duration": 97,
    "start_time": "2024-01-08T09:31:00.827Z"
   },
   {
    "duration": 7,
    "start_time": "2024-01-08T09:31:32.963Z"
   },
   {
    "duration": 9,
    "start_time": "2024-01-08T09:33:25.272Z"
   },
   {
    "duration": 6,
    "start_time": "2024-01-08T09:34:14.693Z"
   },
   {
    "duration": 95,
    "start_time": "2024-01-08T09:34:22.881Z"
   },
   {
    "duration": 6,
    "start_time": "2024-01-08T09:34:27.929Z"
   },
   {
    "duration": 5,
    "start_time": "2024-01-08T09:34:57.448Z"
   },
   {
    "duration": 25,
    "start_time": "2024-01-08T09:35:47.809Z"
   },
   {
    "duration": 3,
    "start_time": "2024-01-08T09:36:25.448Z"
   },
   {
    "duration": 2,
    "start_time": "2024-01-08T09:36:28.113Z"
   },
   {
    "duration": 72,
    "start_time": "2024-01-08T09:36:29.059Z"
   },
   {
    "duration": 22,
    "start_time": "2024-01-08T09:36:29.431Z"
   },
   {
    "duration": 20,
    "start_time": "2024-01-08T09:37:02.105Z"
   },
   {
    "duration": 21,
    "start_time": "2024-01-08T09:37:07.195Z"
   },
   {
    "duration": 7,
    "start_time": "2024-01-08T09:37:12.109Z"
   },
   {
    "duration": 22,
    "start_time": "2024-01-08T09:37:15.452Z"
   },
   {
    "duration": 6,
    "start_time": "2024-01-08T09:37:51.769Z"
   },
   {
    "duration": 23,
    "start_time": "2024-01-08T09:37:55.811Z"
   },
   {
    "duration": 1154,
    "start_time": "2024-01-08T09:38:02.902Z"
   },
   {
    "duration": 2,
    "start_time": "2024-01-08T09:38:04.058Z"
   },
   {
    "duration": 72,
    "start_time": "2024-01-08T09:38:04.062Z"
   },
   {
    "duration": 24,
    "start_time": "2024-01-08T09:38:04.136Z"
   },
   {
    "duration": 25,
    "start_time": "2024-01-08T09:38:04.162Z"
   },
   {
    "duration": 6,
    "start_time": "2024-01-08T09:38:04.189Z"
   },
   {
    "duration": 19,
    "start_time": "2024-01-08T09:38:04.197Z"
   },
   {
    "duration": 5,
    "start_time": "2024-01-08T09:38:04.218Z"
   },
   {
    "duration": 3,
    "start_time": "2024-01-08T09:38:47.987Z"
   },
   {
    "duration": 1436,
    "start_time": "2024-01-08T11:15:17.957Z"
   },
   {
    "duration": 1176,
    "start_time": "2024-01-08T11:15:37.853Z"
   },
   {
    "duration": 15,
    "start_time": "2024-01-08T11:15:50.105Z"
   },
   {
    "duration": 17,
    "start_time": "2024-01-08T11:16:22.303Z"
   },
   {
    "duration": 11,
    "start_time": "2024-01-08T11:16:29.435Z"
   },
   {
    "duration": 18,
    "start_time": "2024-01-08T11:16:33.407Z"
   },
   {
    "duration": 10,
    "start_time": "2024-01-08T11:16:37.163Z"
   },
   {
    "duration": 16,
    "start_time": "2024-01-08T11:19:18.249Z"
   },
   {
    "duration": 13,
    "start_time": "2024-01-08T11:19:23.659Z"
   },
   {
    "duration": 1264,
    "start_time": "2024-01-08T11:19:32.801Z"
   },
   {
    "duration": 2,
    "start_time": "2024-01-08T11:19:34.067Z"
   },
   {
    "duration": 77,
    "start_time": "2024-01-08T11:19:34.071Z"
   },
   {
    "duration": 28,
    "start_time": "2024-01-08T11:19:34.150Z"
   },
   {
    "duration": 26,
    "start_time": "2024-01-08T11:19:34.180Z"
   },
   {
    "duration": 11,
    "start_time": "2024-01-08T11:19:34.207Z"
   },
   {
    "duration": 21,
    "start_time": "2024-01-08T11:19:34.220Z"
   },
   {
    "duration": 7,
    "start_time": "2024-01-08T11:19:34.244Z"
   },
   {
    "duration": 63,
    "start_time": "2024-01-08T11:19:34.252Z"
   },
   {
    "duration": 230,
    "start_time": "2024-01-08T11:23:15.002Z"
   },
   {
    "duration": 316,
    "start_time": "2024-01-08T11:24:43.408Z"
   },
   {
    "duration": 220,
    "start_time": "2024-01-08T11:24:50.762Z"
   },
   {
    "duration": 236,
    "start_time": "2024-01-08T11:25:05.403Z"
   },
   {
    "duration": 353,
    "start_time": "2024-01-08T11:25:55.502Z"
   },
   {
    "duration": 230,
    "start_time": "2024-01-08T11:26:44.154Z"
   },
   {
    "duration": 239,
    "start_time": "2024-01-08T11:26:55.708Z"
   },
   {
    "duration": 262,
    "start_time": "2024-01-08T11:27:11.176Z"
   },
   {
    "duration": 330,
    "start_time": "2024-01-08T11:27:17.883Z"
   },
   {
    "duration": 246,
    "start_time": "2024-01-08T11:27:28.877Z"
   },
   {
    "duration": 251,
    "start_time": "2024-01-08T11:27:58.176Z"
   },
   {
    "duration": 252,
    "start_time": "2024-01-08T11:28:27.472Z"
   },
   {
    "duration": 261,
    "start_time": "2024-01-08T11:28:44.010Z"
   },
   {
    "duration": 90,
    "start_time": "2024-01-08T11:28:52.959Z"
   },
   {
    "duration": 247,
    "start_time": "2024-01-08T11:29:04.982Z"
   },
   {
    "duration": 11,
    "start_time": "2024-01-08T11:30:23.105Z"
   },
   {
    "duration": 13,
    "start_time": "2024-01-08T11:33:59.571Z"
   },
   {
    "duration": 267,
    "start_time": "2024-01-08T11:34:45.630Z"
   },
   {
    "duration": 11,
    "start_time": "2024-01-08T11:38:45.990Z"
   },
   {
    "duration": 10,
    "start_time": "2024-01-08T11:42:22.609Z"
   },
   {
    "duration": 11,
    "start_time": "2024-01-08T11:42:36.755Z"
   },
   {
    "duration": 9,
    "start_time": "2024-01-08T11:42:46.258Z"
   },
   {
    "duration": 252,
    "start_time": "2024-01-08T11:44:33.328Z"
   },
   {
    "duration": 141,
    "start_time": "2024-01-08T11:44:56.048Z"
   },
   {
    "duration": 4,
    "start_time": "2024-01-08T11:46:05.842Z"
   },
   {
    "duration": 5,
    "start_time": "2024-01-08T11:46:10.439Z"
   },
   {
    "duration": 13,
    "start_time": "2024-01-08T11:47:09.133Z"
   },
   {
    "duration": 123,
    "start_time": "2024-01-08T11:48:59.106Z"
   },
   {
    "duration": 166,
    "start_time": "2024-01-08T11:50:53.727Z"
   },
   {
    "duration": 448,
    "start_time": "2024-01-08T11:51:48.003Z"
   },
   {
    "duration": 15,
    "start_time": "2024-01-08T11:52:33.019Z"
   },
   {
    "duration": 15,
    "start_time": "2024-01-08T11:52:40.483Z"
   },
   {
    "duration": 3,
    "start_time": "2024-01-08T12:00:39.650Z"
   },
   {
    "duration": 8,
    "start_time": "2024-01-08T12:18:48.545Z"
   },
   {
    "duration": 5,
    "start_time": "2024-01-08T12:19:03.642Z"
   },
   {
    "duration": 6,
    "start_time": "2024-01-08T12:19:08.151Z"
   },
   {
    "duration": 27,
    "start_time": "2024-01-08T12:21:26.921Z"
   },
   {
    "duration": 159,
    "start_time": "2024-01-08T12:23:17.434Z"
   },
   {
    "duration": 152,
    "start_time": "2024-01-08T12:24:29.991Z"
   },
   {
    "duration": 109,
    "start_time": "2024-01-08T12:25:08.190Z"
   },
   {
    "duration": 155,
    "start_time": "2024-01-08T12:25:44.328Z"
   },
   {
    "duration": 130,
    "start_time": "2024-01-08T12:25:55.321Z"
   },
   {
    "duration": 107,
    "start_time": "2024-01-08T12:26:28.068Z"
   },
   {
    "duration": 6,
    "start_time": "2024-01-08T12:26:39.358Z"
   },
   {
    "duration": 12,
    "start_time": "2024-01-08T12:26:57.528Z"
   },
   {
    "duration": 17,
    "start_time": "2024-01-08T12:27:21.939Z"
   },
   {
    "duration": 11,
    "start_time": "2024-01-08T12:27:29.059Z"
   },
   {
    "duration": 250,
    "start_time": "2024-01-08T12:28:23.191Z"
   },
   {
    "duration": 179,
    "start_time": "2024-01-08T12:28:54.565Z"
   },
   {
    "duration": 183,
    "start_time": "2024-01-08T12:29:49.781Z"
   },
   {
    "duration": 217,
    "start_time": "2024-01-08T12:30:23.936Z"
   },
   {
    "duration": 212,
    "start_time": "2024-01-08T12:31:10.954Z"
   },
   {
    "duration": 200,
    "start_time": "2024-01-08T12:31:18.060Z"
   },
   {
    "duration": 194,
    "start_time": "2024-01-08T12:32:05.457Z"
   },
   {
    "duration": 188,
    "start_time": "2024-01-08T12:32:14.493Z"
   },
   {
    "duration": 292,
    "start_time": "2024-01-08T12:32:26.003Z"
   },
   {
    "duration": 81,
    "start_time": "2024-01-08T12:33:29.449Z"
   },
   {
    "duration": 202,
    "start_time": "2024-01-08T12:33:35.429Z"
   },
   {
    "duration": 207,
    "start_time": "2024-01-08T12:33:42.275Z"
   },
   {
    "duration": 166,
    "start_time": "2024-01-08T12:39:52.831Z"
   },
   {
    "duration": 190,
    "start_time": "2024-01-08T12:40:23.264Z"
   },
   {
    "duration": 207,
    "start_time": "2024-01-08T12:41:38.260Z"
   },
   {
    "duration": 268,
    "start_time": "2024-01-08T12:47:31.331Z"
   },
   {
    "duration": 274,
    "start_time": "2024-01-08T12:48:18.944Z"
   },
   {
    "duration": 246,
    "start_time": "2024-01-08T12:48:26.070Z"
   },
   {
    "duration": 288,
    "start_time": "2024-01-08T12:48:35.281Z"
   },
   {
    "duration": 203,
    "start_time": "2024-01-08T12:49:13.177Z"
   },
   {
    "duration": 302,
    "start_time": "2024-01-08T12:49:18.193Z"
   },
   {
    "duration": 367,
    "start_time": "2024-01-08T12:49:23.383Z"
   },
   {
    "duration": 284,
    "start_time": "2024-01-08T12:49:39.562Z"
   },
   {
    "duration": 291,
    "start_time": "2024-01-08T12:49:45.206Z"
   },
   {
    "duration": 320,
    "start_time": "2024-01-08T12:50:14.605Z"
   },
   {
    "duration": 274,
    "start_time": "2024-01-08T12:51:11.555Z"
   },
   {
    "duration": 299,
    "start_time": "2024-01-08T12:51:36.140Z"
   },
   {
    "duration": 282,
    "start_time": "2024-01-08T12:51:41.645Z"
   },
   {
    "duration": 244,
    "start_time": "2024-01-08T13:03:03.892Z"
   },
   {
    "duration": 201,
    "start_time": "2024-01-08T13:03:19.678Z"
   },
   {
    "duration": 202,
    "start_time": "2024-01-08T13:03:55.156Z"
   },
   {
    "duration": 209,
    "start_time": "2024-01-08T13:05:23.189Z"
   },
   {
    "duration": 224,
    "start_time": "2024-01-08T13:05:31.191Z"
   },
   {
    "duration": 317,
    "start_time": "2024-01-08T13:06:38.345Z"
   },
   {
    "duration": 208,
    "start_time": "2024-01-08T13:06:50.679Z"
   },
   {
    "duration": 212,
    "start_time": "2024-01-08T13:07:32.190Z"
   },
   {
    "duration": 210,
    "start_time": "2024-01-08T13:07:48.081Z"
   },
   {
    "duration": 243,
    "start_time": "2024-01-08T13:07:58.576Z"
   },
   {
    "duration": 327,
    "start_time": "2024-01-08T13:14:28.640Z"
   },
   {
    "duration": 350,
    "start_time": "2024-01-08T13:14:51.497Z"
   },
   {
    "duration": 311,
    "start_time": "2024-01-08T13:15:22.084Z"
   },
   {
    "duration": 335,
    "start_time": "2024-01-08T13:16:07.300Z"
   },
   {
    "duration": 283,
    "start_time": "2024-01-08T13:16:16.321Z"
   },
   {
    "duration": 334,
    "start_time": "2024-01-08T13:16:42.924Z"
   },
   {
    "duration": 330,
    "start_time": "2024-01-08T13:17:39.075Z"
   },
   {
    "duration": 143,
    "start_time": "2024-01-08T13:37:24.757Z"
   },
   {
    "duration": 271,
    "start_time": "2024-01-08T13:37:48.475Z"
   },
   {
    "duration": 126,
    "start_time": "2024-01-08T13:39:11.111Z"
   },
   {
    "duration": 171,
    "start_time": "2024-01-08T13:39:18.484Z"
   },
   {
    "duration": 144,
    "start_time": "2024-01-08T13:41:10.322Z"
   },
   {
    "duration": 114,
    "start_time": "2024-01-08T13:41:20.539Z"
   },
   {
    "duration": 121,
    "start_time": "2024-01-08T13:41:31.817Z"
   },
   {
    "duration": 138,
    "start_time": "2024-01-08T13:43:07.467Z"
   },
   {
    "duration": 156,
    "start_time": "2024-01-08T13:43:08.428Z"
   },
   {
    "duration": 136,
    "start_time": "2024-01-08T13:46:05.625Z"
   },
   {
    "duration": 9,
    "start_time": "2024-01-08T13:48:41.832Z"
   },
   {
    "duration": 1189,
    "start_time": "2024-01-08T13:49:23.149Z"
   },
   {
    "duration": 1193,
    "start_time": "2024-01-08T13:49:39.429Z"
   },
   {
    "duration": 1382,
    "start_time": "2024-01-08T13:50:25.500Z"
   },
   {
    "duration": 1225,
    "start_time": "2024-01-08T13:50:33.424Z"
   },
   {
    "duration": 2,
    "start_time": "2024-01-08T13:50:34.651Z"
   },
   {
    "duration": 92,
    "start_time": "2024-01-08T13:50:34.654Z"
   },
   {
    "duration": 23,
    "start_time": "2024-01-08T13:50:34.748Z"
   },
   {
    "duration": 24,
    "start_time": "2024-01-08T13:50:34.773Z"
   },
   {
    "duration": 7,
    "start_time": "2024-01-08T13:50:34.798Z"
   },
   {
    "duration": 10,
    "start_time": "2024-01-08T13:50:34.806Z"
   },
   {
    "duration": 9,
    "start_time": "2024-01-08T13:50:34.818Z"
   },
   {
    "duration": 54,
    "start_time": "2024-01-08T13:50:34.829Z"
   },
   {
    "duration": 316,
    "start_time": "2024-01-08T13:50:34.885Z"
   },
   {
    "duration": 17,
    "start_time": "2024-01-08T13:50:35.203Z"
   },
   {
    "duration": 280,
    "start_time": "2024-01-08T13:50:35.225Z"
   },
   {
    "duration": 33,
    "start_time": "2024-01-08T13:50:35.507Z"
   },
   {
    "duration": 5,
    "start_time": "2024-01-08T13:50:35.542Z"
   },
   {
    "duration": 211,
    "start_time": "2024-01-08T13:50:35.549Z"
   },
   {
    "duration": 125,
    "start_time": "2024-01-08T13:50:35.761Z"
   },
   {
    "duration": 11,
    "start_time": "2024-01-08T13:50:35.888Z"
   },
   {
    "duration": 299,
    "start_time": "2024-01-08T13:50:35.900Z"
   },
   {
    "duration": 249,
    "start_time": "2024-01-08T13:50:36.201Z"
   },
   {
    "duration": 308,
    "start_time": "2024-01-08T13:50:36.451Z"
   },
   {
    "duration": 222,
    "start_time": "2024-01-08T13:50:36.761Z"
   },
   {
    "duration": 346,
    "start_time": "2024-01-08T13:50:36.985Z"
   },
   {
    "duration": 116,
    "start_time": "2024-01-08T13:50:37.334Z"
   },
   {
    "duration": 0,
    "start_time": "2024-01-08T13:50:37.451Z"
   },
   {
    "duration": 0,
    "start_time": "2024-01-08T13:50:37.452Z"
   },
   {
    "duration": 237,
    "start_time": "2024-01-08T13:50:54.192Z"
   },
   {
    "duration": 15,
    "start_time": "2024-01-08T13:50:57.909Z"
   },
   {
    "duration": 129,
    "start_time": "2024-01-08T13:51:05.728Z"
   },
   {
    "duration": 9,
    "start_time": "2024-01-08T13:51:10.923Z"
   },
   {
    "duration": 5,
    "start_time": "2024-01-08T13:51:22.247Z"
   },
   {
    "duration": 5,
    "start_time": "2024-01-08T13:55:12.288Z"
   },
   {
    "duration": 8,
    "start_time": "2024-01-08T13:55:18.631Z"
   },
   {
    "duration": 1107,
    "start_time": "2024-01-08T13:57:51.541Z"
   },
   {
    "duration": 1168,
    "start_time": "2024-01-08T13:58:32.204Z"
   },
   {
    "duration": 8,
    "start_time": "2024-01-08T13:59:03.300Z"
   },
   {
    "duration": 9,
    "start_time": "2024-01-08T13:59:09.636Z"
   },
   {
    "duration": 156,
    "start_time": "2024-01-08T13:59:36.598Z"
   },
   {
    "duration": 147,
    "start_time": "2024-01-08T14:00:59.546Z"
   },
   {
    "duration": 159,
    "start_time": "2024-01-08T14:03:17.019Z"
   },
   {
    "duration": 157,
    "start_time": "2024-01-08T14:06:10.469Z"
   },
   {
    "duration": 172,
    "start_time": "2024-01-08T14:06:27.169Z"
   },
   {
    "duration": 8,
    "start_time": "2024-01-08T14:08:23.973Z"
   },
   {
    "duration": 106,
    "start_time": "2024-01-08T14:16:42.989Z"
   },
   {
    "duration": 117,
    "start_time": "2024-01-08T14:19:01.629Z"
   },
   {
    "duration": 110,
    "start_time": "2024-01-08T14:20:55.532Z"
   },
   {
    "duration": 389,
    "start_time": "2024-01-08T14:21:05.000Z"
   },
   {
    "duration": 291,
    "start_time": "2024-01-08T14:22:01.483Z"
   },
   {
    "duration": 14,
    "start_time": "2024-01-08T14:24:59.450Z"
   },
   {
    "duration": 117,
    "start_time": "2024-01-08T14:26:28.496Z"
   },
   {
    "duration": 124,
    "start_time": "2024-01-08T14:26:47.591Z"
   },
   {
    "duration": 1180,
    "start_time": "2024-01-08T14:26:53.313Z"
   },
   {
    "duration": 3,
    "start_time": "2024-01-08T14:26:54.494Z"
   },
   {
    "duration": 85,
    "start_time": "2024-01-08T14:26:54.498Z"
   },
   {
    "duration": 23,
    "start_time": "2024-01-08T14:26:54.585Z"
   },
   {
    "duration": 31,
    "start_time": "2024-01-08T14:26:54.611Z"
   },
   {
    "duration": 8,
    "start_time": "2024-01-08T14:26:54.644Z"
   },
   {
    "duration": 12,
    "start_time": "2024-01-08T14:26:54.653Z"
   },
   {
    "duration": 6,
    "start_time": "2024-01-08T14:26:54.666Z"
   },
   {
    "duration": 57,
    "start_time": "2024-01-08T14:26:54.673Z"
   },
   {
    "duration": 282,
    "start_time": "2024-01-08T14:26:54.732Z"
   },
   {
    "duration": 20,
    "start_time": "2024-01-08T14:26:55.015Z"
   },
   {
    "duration": 268,
    "start_time": "2024-01-08T14:26:55.037Z"
   },
   {
    "duration": 26,
    "start_time": "2024-01-08T14:26:55.307Z"
   },
   {
    "duration": 10,
    "start_time": "2024-01-08T14:26:55.336Z"
   },
   {
    "duration": 190,
    "start_time": "2024-01-08T14:26:55.349Z"
   },
   {
    "duration": 141,
    "start_time": "2024-01-08T14:26:55.541Z"
   },
   {
    "duration": 11,
    "start_time": "2024-01-08T14:26:55.683Z"
   },
   {
    "duration": 298,
    "start_time": "2024-01-08T14:26:55.696Z"
   },
   {
    "duration": 220,
    "start_time": "2024-01-08T14:26:55.996Z"
   },
   {
    "duration": 315,
    "start_time": "2024-01-08T14:26:56.218Z"
   },
   {
    "duration": 236,
    "start_time": "2024-01-08T14:26:56.534Z"
   },
   {
    "duration": 320,
    "start_time": "2024-01-08T14:26:56.771Z"
   },
   {
    "duration": 243,
    "start_time": "2024-01-08T14:26:57.092Z"
   },
   {
    "duration": 130,
    "start_time": "2024-01-08T14:26:57.338Z"
   },
   {
    "duration": 5,
    "start_time": "2024-01-08T14:26:57.470Z"
   },
   {
    "duration": 170,
    "start_time": "2024-01-08T14:26:57.476Z"
   },
   {
    "duration": 159,
    "start_time": "2024-01-08T14:26:57.647Z"
   },
   {
    "duration": 19,
    "start_time": "2024-01-08T14:26:57.813Z"
   },
   {
    "duration": 240,
    "start_time": "2024-01-08T14:26:57.834Z"
   },
   {
    "duration": 113,
    "start_time": "2024-01-08T14:26:58.075Z"
   },
   {
    "duration": 220,
    "start_time": "2024-01-08T14:35:20.483Z"
   },
   {
    "duration": 238,
    "start_time": "2024-01-08T14:38:24.163Z"
   },
   {
    "duration": 234,
    "start_time": "2024-01-08T14:43:58.412Z"
   },
   {
    "duration": 1243,
    "start_time": "2024-01-08T14:44:29.397Z"
   },
   {
    "duration": 3,
    "start_time": "2024-01-08T14:44:30.641Z"
   },
   {
    "duration": 137,
    "start_time": "2024-01-08T14:44:30.645Z"
   },
   {
    "duration": 25,
    "start_time": "2024-01-08T14:44:30.784Z"
   },
   {
    "duration": 42,
    "start_time": "2024-01-08T14:44:30.810Z"
   },
   {
    "duration": 7,
    "start_time": "2024-01-08T14:44:30.853Z"
   },
   {
    "duration": 37,
    "start_time": "2024-01-08T14:44:30.862Z"
   },
   {
    "duration": 66,
    "start_time": "2024-01-08T14:44:30.900Z"
   },
   {
    "duration": 35,
    "start_time": "2024-01-08T14:44:30.967Z"
   },
   {
    "duration": 334,
    "start_time": "2024-01-08T14:44:31.004Z"
   },
   {
    "duration": 13,
    "start_time": "2024-01-08T14:44:31.341Z"
   },
   {
    "duration": 306,
    "start_time": "2024-01-08T14:44:31.356Z"
   },
   {
    "duration": 17,
    "start_time": "2024-01-08T14:44:31.664Z"
   },
   {
    "duration": 10,
    "start_time": "2024-01-08T14:44:31.684Z"
   },
   {
    "duration": 189,
    "start_time": "2024-01-08T14:44:31.696Z"
   },
   {
    "duration": 151,
    "start_time": "2024-01-08T14:44:31.886Z"
   },
   {
    "duration": 17,
    "start_time": "2024-01-08T14:44:32.039Z"
   },
   {
    "duration": 306,
    "start_time": "2024-01-08T14:44:32.058Z"
   },
   {
    "duration": 223,
    "start_time": "2024-01-08T14:44:32.366Z"
   },
   {
    "duration": 345,
    "start_time": "2024-01-08T14:44:32.591Z"
   },
   {
    "duration": 223,
    "start_time": "2024-01-08T14:44:32.938Z"
   },
   {
    "duration": 310,
    "start_time": "2024-01-08T14:44:33.163Z"
   },
   {
    "duration": 245,
    "start_time": "2024-01-08T14:44:33.475Z"
   },
   {
    "duration": 154,
    "start_time": "2024-01-08T14:44:33.722Z"
   },
   {
    "duration": 5,
    "start_time": "2024-01-08T14:44:33.878Z"
   },
   {
    "duration": 171,
    "start_time": "2024-01-08T14:44:33.884Z"
   },
   {
    "duration": 162,
    "start_time": "2024-01-08T14:44:34.057Z"
   },
   {
    "duration": 11,
    "start_time": "2024-01-08T14:44:34.220Z"
   },
   {
    "duration": 228,
    "start_time": "2024-01-08T14:44:34.233Z"
   },
   {
    "duration": 106,
    "start_time": "2024-01-08T14:44:34.463Z"
   },
   {
    "duration": 32,
    "start_time": "2024-01-08T14:44:47.711Z"
   },
   {
    "duration": 137,
    "start_time": "2024-01-08T14:45:04.255Z"
   },
   {
    "duration": 170,
    "start_time": "2024-01-08T14:46:36.504Z"
   },
   {
    "duration": 7,
    "start_time": "2024-01-08T14:50:33.458Z"
   },
   {
    "duration": 28,
    "start_time": "2024-01-08T14:51:20.050Z"
   },
   {
    "duration": 49,
    "start_time": "2024-01-08T14:52:19.006Z"
   },
   {
    "duration": 35,
    "start_time": "2024-01-08T14:53:02.824Z"
   },
   {
    "duration": 28,
    "start_time": "2024-01-08T14:53:09.571Z"
   },
   {
    "duration": 36,
    "start_time": "2024-01-08T15:00:44.683Z"
   },
   {
    "duration": 25,
    "start_time": "2024-01-08T15:04:16.516Z"
   },
   {
    "duration": 45,
    "start_time": "2024-01-08T15:04:56.600Z"
   },
   {
    "duration": 1263,
    "start_time": "2024-01-08T15:05:06.541Z"
   },
   {
    "duration": 3,
    "start_time": "2024-01-08T15:05:07.806Z"
   },
   {
    "duration": 88,
    "start_time": "2024-01-08T15:05:07.810Z"
   },
   {
    "duration": 42,
    "start_time": "2024-01-08T15:05:07.900Z"
   },
   {
    "duration": 27,
    "start_time": "2024-01-08T15:05:07.947Z"
   },
   {
    "duration": 7,
    "start_time": "2024-01-08T15:05:07.975Z"
   },
   {
    "duration": 18,
    "start_time": "2024-01-08T15:05:08.016Z"
   },
   {
    "duration": 7,
    "start_time": "2024-01-08T15:05:08.036Z"
   },
   {
    "duration": 13,
    "start_time": "2024-01-08T15:05:08.045Z"
   },
   {
    "duration": 332,
    "start_time": "2024-01-08T15:05:08.059Z"
   },
   {
    "duration": 24,
    "start_time": "2024-01-08T15:05:08.393Z"
   },
   {
    "duration": 299,
    "start_time": "2024-01-08T15:05:08.424Z"
   },
   {
    "duration": 22,
    "start_time": "2024-01-08T15:05:08.733Z"
   },
   {
    "duration": 5,
    "start_time": "2024-01-08T15:05:08.757Z"
   },
   {
    "duration": 176,
    "start_time": "2024-01-08T15:05:08.764Z"
   },
   {
    "duration": 129,
    "start_time": "2024-01-08T15:05:08.944Z"
   },
   {
    "duration": 13,
    "start_time": "2024-01-08T15:05:09.075Z"
   },
   {
    "duration": 316,
    "start_time": "2024-01-08T15:05:09.090Z"
   },
   {
    "duration": 259,
    "start_time": "2024-01-08T15:05:09.411Z"
   },
   {
    "duration": 301,
    "start_time": "2024-01-08T15:05:09.673Z"
   },
   {
    "duration": 270,
    "start_time": "2024-01-08T15:05:09.975Z"
   },
   {
    "duration": 325,
    "start_time": "2024-01-08T15:05:10.247Z"
   },
   {
    "duration": 230,
    "start_time": "2024-01-08T15:05:10.573Z"
   },
   {
    "duration": 157,
    "start_time": "2024-01-08T15:05:10.804Z"
   },
   {
    "duration": 6,
    "start_time": "2024-01-08T15:05:10.962Z"
   },
   {
    "duration": 193,
    "start_time": "2024-01-08T15:05:10.970Z"
   },
   {
    "duration": 180,
    "start_time": "2024-01-08T15:05:11.164Z"
   },
   {
    "duration": 5,
    "start_time": "2024-01-08T15:05:11.346Z"
   },
   {
    "duration": 229,
    "start_time": "2024-01-08T15:05:11.353Z"
   },
   {
    "duration": 157,
    "start_time": "2024-01-08T15:05:11.584Z"
   },
   {
    "duration": 29,
    "start_time": "2024-01-08T15:05:11.744Z"
   },
   {
    "duration": 11,
    "start_time": "2024-01-08T15:05:11.775Z"
   },
   {
    "duration": 18,
    "start_time": "2024-01-08T15:05:25.205Z"
   },
   {
    "duration": 11,
    "start_time": "2024-01-08T15:05:29.199Z"
   },
   {
    "duration": 14,
    "start_time": "2024-01-08T15:05:33.326Z"
   },
   {
    "duration": 1336,
    "start_time": "2024-01-08T15:14:02.706Z"
   },
   {
    "duration": 1198,
    "start_time": "2024-01-08T15:17:37.850Z"
   },
   {
    "duration": 7,
    "start_time": "2024-01-08T15:18:30.628Z"
   },
   {
    "duration": 9,
    "start_time": "2024-01-08T15:18:55.850Z"
   },
   {
    "duration": 1073,
    "start_time": "2024-01-08T15:19:03.848Z"
   },
   {
    "duration": 9,
    "start_time": "2024-01-08T15:19:38.349Z"
   },
   {
    "duration": 14,
    "start_time": "2024-01-08T15:19:48.092Z"
   },
   {
    "duration": 11,
    "start_time": "2024-01-08T15:19:54.451Z"
   },
   {
    "duration": 46,
    "start_time": "2024-01-08T15:21:18.494Z"
   },
   {
    "duration": 32,
    "start_time": "2024-01-08T15:21:47.065Z"
   },
   {
    "duration": 30,
    "start_time": "2024-01-08T15:22:04.627Z"
   },
   {
    "duration": 29,
    "start_time": "2024-01-08T15:22:10.640Z"
   },
   {
    "duration": 28,
    "start_time": "2024-01-08T15:22:39.238Z"
   },
   {
    "duration": 17,
    "start_time": "2024-01-08T15:22:45.807Z"
   },
   {
    "duration": 10,
    "start_time": "2024-01-08T15:22:53.863Z"
   },
   {
    "duration": 27,
    "start_time": "2024-01-08T15:23:17.055Z"
   },
   {
    "duration": 36,
    "start_time": "2024-01-08T15:24:18.989Z"
   },
   {
    "duration": 1221,
    "start_time": "2024-01-08T15:25:30.434Z"
   },
   {
    "duration": 3,
    "start_time": "2024-01-08T15:25:31.657Z"
   },
   {
    "duration": 80,
    "start_time": "2024-01-08T15:25:31.662Z"
   },
   {
    "duration": 25,
    "start_time": "2024-01-08T15:25:31.744Z"
   },
   {
    "duration": 26,
    "start_time": "2024-01-08T15:25:31.771Z"
   },
   {
    "duration": 6,
    "start_time": "2024-01-08T15:25:31.799Z"
   },
   {
    "duration": 11,
    "start_time": "2024-01-08T15:25:31.807Z"
   },
   {
    "duration": 16,
    "start_time": "2024-01-08T15:25:31.819Z"
   },
   {
    "duration": 14,
    "start_time": "2024-01-08T15:25:31.836Z"
   },
   {
    "duration": 307,
    "start_time": "2024-01-08T15:25:31.853Z"
   },
   {
    "duration": 13,
    "start_time": "2024-01-08T15:25:32.161Z"
   },
   {
    "duration": 305,
    "start_time": "2024-01-08T15:25:32.176Z"
   },
   {
    "duration": 42,
    "start_time": "2024-01-08T15:25:32.483Z"
   },
   {
    "duration": 7,
    "start_time": "2024-01-08T15:25:32.528Z"
   },
   {
    "duration": 202,
    "start_time": "2024-01-08T15:25:32.537Z"
   },
   {
    "duration": 129,
    "start_time": "2024-01-08T15:25:32.741Z"
   },
   {
    "duration": 11,
    "start_time": "2024-01-08T15:25:32.872Z"
   },
   {
    "duration": 309,
    "start_time": "2024-01-08T15:25:32.884Z"
   },
   {
    "duration": 222,
    "start_time": "2024-01-08T15:25:33.195Z"
   },
   {
    "duration": 335,
    "start_time": "2024-01-08T15:25:33.419Z"
   },
   {
    "duration": 254,
    "start_time": "2024-01-08T15:25:33.755Z"
   },
   {
    "duration": 355,
    "start_time": "2024-01-08T15:25:34.013Z"
   },
   {
    "duration": 220,
    "start_time": "2024-01-08T15:25:34.369Z"
   },
   {
    "duration": 141,
    "start_time": "2024-01-08T15:25:34.590Z"
   },
   {
    "duration": 5,
    "start_time": "2024-01-08T15:25:34.732Z"
   },
   {
    "duration": 161,
    "start_time": "2024-01-08T15:25:34.739Z"
   },
   {
    "duration": 167,
    "start_time": "2024-01-08T15:25:34.902Z"
   },
   {
    "duration": 5,
    "start_time": "2024-01-08T15:25:35.073Z"
   },
   {
    "duration": 250,
    "start_time": "2024-01-08T15:25:35.080Z"
   },
   {
    "duration": 133,
    "start_time": "2024-01-08T15:25:35.332Z"
   },
   {
    "duration": 29,
    "start_time": "2024-01-08T15:25:35.467Z"
   },
   {
    "duration": 49,
    "start_time": "2024-01-08T15:25:35.497Z"
   },
   {
    "duration": 10,
    "start_time": "2024-01-08T15:25:35.548Z"
   },
   {
    "duration": 40,
    "start_time": "2024-01-08T15:25:35.560Z"
   },
   {
    "duration": 11,
    "start_time": "2024-01-08T15:26:20.726Z"
   },
   {
    "duration": 1271,
    "start_time": "2024-01-08T15:33:35.855Z"
   },
   {
    "duration": 13,
    "start_time": "2024-01-08T15:34:13.352Z"
   },
   {
    "duration": 12,
    "start_time": "2024-01-08T15:34:52.635Z"
   },
   {
    "duration": 12,
    "start_time": "2024-01-08T15:35:09.642Z"
   },
   {
    "duration": 1197,
    "start_time": "2024-01-09T06:52:15.068Z"
   },
   {
    "duration": 2,
    "start_time": "2024-01-09T06:52:16.267Z"
   },
   {
    "duration": 76,
    "start_time": "2024-01-09T06:52:16.271Z"
   },
   {
    "duration": 27,
    "start_time": "2024-01-09T06:52:16.349Z"
   },
   {
    "duration": 26,
    "start_time": "2024-01-09T06:52:16.378Z"
   },
   {
    "duration": 17,
    "start_time": "2024-01-09T06:52:16.406Z"
   },
   {
    "duration": 6,
    "start_time": "2024-01-09T06:52:16.425Z"
   },
   {
    "duration": 6,
    "start_time": "2024-01-09T06:52:16.433Z"
   },
   {
    "duration": 14,
    "start_time": "2024-01-09T06:52:16.440Z"
   },
   {
    "duration": 325,
    "start_time": "2024-01-09T06:52:16.456Z"
   },
   {
    "duration": 13,
    "start_time": "2024-01-09T06:52:16.783Z"
   },
   {
    "duration": 289,
    "start_time": "2024-01-09T06:52:16.798Z"
   },
   {
    "duration": 19,
    "start_time": "2024-01-09T06:52:17.089Z"
   },
   {
    "duration": 15,
    "start_time": "2024-01-09T06:52:17.111Z"
   },
   {
    "duration": 199,
    "start_time": "2024-01-09T06:52:17.128Z"
   },
   {
    "duration": 130,
    "start_time": "2024-01-09T06:52:17.329Z"
   },
   {
    "duration": 16,
    "start_time": "2024-01-09T06:52:17.461Z"
   },
   {
    "duration": 325,
    "start_time": "2024-01-09T06:52:17.479Z"
   },
   {
    "duration": 217,
    "start_time": "2024-01-09T06:52:17.805Z"
   },
   {
    "duration": 351,
    "start_time": "2024-01-09T06:52:18.024Z"
   },
   {
    "duration": 227,
    "start_time": "2024-01-09T06:52:18.376Z"
   },
   {
    "duration": 339,
    "start_time": "2024-01-09T06:52:18.605Z"
   },
   {
    "duration": 218,
    "start_time": "2024-01-09T06:52:18.946Z"
   },
   {
    "duration": 141,
    "start_time": "2024-01-09T06:52:19.166Z"
   },
   {
    "duration": 5,
    "start_time": "2024-01-09T06:52:19.309Z"
   },
   {
    "duration": 190,
    "start_time": "2024-01-09T06:52:19.323Z"
   },
   {
    "duration": 168,
    "start_time": "2024-01-09T06:52:19.515Z"
   },
   {
    "duration": 5,
    "start_time": "2024-01-09T06:52:19.685Z"
   },
   {
    "duration": 253,
    "start_time": "2024-01-09T06:52:19.691Z"
   },
   {
    "duration": 161,
    "start_time": "2024-01-09T06:52:19.945Z"
   },
   {
    "duration": 32,
    "start_time": "2024-01-09T06:52:20.108Z"
   },
   {
    "duration": 9,
    "start_time": "2024-01-09T06:52:20.142Z"
   },
   {
    "duration": 11,
    "start_time": "2024-01-09T06:52:20.153Z"
   },
   {
    "duration": 57,
    "start_time": "2024-01-09T06:52:20.166Z"
   },
   {
    "duration": 14,
    "start_time": "2024-01-09T06:52:20.225Z"
   },
   {
    "duration": 1367,
    "start_time": "2024-01-09T11:14:35.532Z"
   },
   {
    "duration": 100,
    "start_time": "2024-01-09T11:22:06.537Z"
   },
   {
    "duration": 1161,
    "start_time": "2024-01-09T11:22:13.223Z"
   },
   {
    "duration": 2,
    "start_time": "2024-01-09T11:22:14.386Z"
   },
   {
    "duration": 184,
    "start_time": "2024-01-09T11:22:14.389Z"
   },
   {
    "duration": 28,
    "start_time": "2024-01-09T11:22:14.575Z"
   },
   {
    "duration": 29,
    "start_time": "2024-01-09T11:22:14.606Z"
   },
   {
    "duration": 8,
    "start_time": "2024-01-09T11:22:14.637Z"
   },
   {
    "duration": 45,
    "start_time": "2024-01-09T11:22:14.647Z"
   },
   {
    "duration": 6,
    "start_time": "2024-01-09T11:22:14.694Z"
   },
   {
    "duration": 1243,
    "start_time": "2024-01-09T11:22:14.701Z"
   },
   {
    "duration": 11,
    "start_time": "2024-01-09T11:22:15.945Z"
   },
   {
    "duration": 291,
    "start_time": "2024-01-09T11:22:15.958Z"
   },
   {
    "duration": 14,
    "start_time": "2024-01-09T11:22:16.251Z"
   },
   {
    "duration": 263,
    "start_time": "2024-01-09T11:22:16.267Z"
   },
   {
    "duration": 16,
    "start_time": "2024-01-09T11:22:16.533Z"
   },
   {
    "duration": 9,
    "start_time": "2024-01-09T11:22:16.551Z"
   },
   {
    "duration": 171,
    "start_time": "2024-01-09T11:22:16.561Z"
   },
   {
    "duration": 115,
    "start_time": "2024-01-09T11:22:16.733Z"
   },
   {
    "duration": 11,
    "start_time": "2024-01-09T11:22:16.850Z"
   },
   {
    "duration": 282,
    "start_time": "2024-01-09T11:22:16.862Z"
   },
   {
    "duration": 204,
    "start_time": "2024-01-09T11:22:17.146Z"
   },
   {
    "duration": 327,
    "start_time": "2024-01-09T11:22:17.352Z"
   },
   {
    "duration": 226,
    "start_time": "2024-01-09T11:22:17.680Z"
   },
   {
    "duration": 305,
    "start_time": "2024-01-09T11:22:17.908Z"
   },
   {
    "duration": 213,
    "start_time": "2024-01-09T11:22:18.214Z"
   },
   {
    "duration": 143,
    "start_time": "2024-01-09T11:22:18.428Z"
   },
   {
    "duration": 4,
    "start_time": "2024-01-09T11:22:18.573Z"
   },
   {
    "duration": 153,
    "start_time": "2024-01-09T11:22:18.588Z"
   },
   {
    "duration": 160,
    "start_time": "2024-01-09T11:22:18.742Z"
   },
   {
    "duration": 5,
    "start_time": "2024-01-09T11:22:18.904Z"
   },
   {
    "duration": 234,
    "start_time": "2024-01-09T11:22:18.911Z"
   },
   {
    "duration": 133,
    "start_time": "2024-01-09T11:22:19.146Z"
   },
   {
    "duration": 36,
    "start_time": "2024-01-09T11:22:19.280Z"
   },
   {
    "duration": 9,
    "start_time": "2024-01-09T11:22:19.317Z"
   },
   {
    "duration": 19,
    "start_time": "2024-01-09T11:22:19.328Z"
   },
   {
    "duration": 43,
    "start_time": "2024-01-09T11:22:19.348Z"
   },
   {
    "duration": 13,
    "start_time": "2024-01-09T11:22:19.393Z"
   },
   {
    "duration": 104,
    "start_time": "2024-01-09T11:26:06.064Z"
   },
   {
    "duration": 9,
    "start_time": "2024-01-09T11:26:12.592Z"
   },
   {
    "duration": 8,
    "start_time": "2024-01-09T11:26:32.974Z"
   },
   {
    "duration": 6,
    "start_time": "2024-01-09T11:26:41.499Z"
   },
   {
    "duration": 5,
    "start_time": "2024-01-09T11:27:38.729Z"
   },
   {
    "duration": 6,
    "start_time": "2024-01-09T11:27:49.476Z"
   },
   {
    "duration": 314,
    "start_time": "2024-01-09T11:30:03.324Z"
   },
   {
    "duration": 344,
    "start_time": "2024-01-09T11:30:19.184Z"
   },
   {
    "duration": 306,
    "start_time": "2024-01-09T11:30:23.324Z"
   },
   {
    "duration": 353,
    "start_time": "2024-01-09T11:30:34.568Z"
   },
   {
    "duration": 86,
    "start_time": "2024-01-09T11:38:19.687Z"
   },
   {
    "duration": 16,
    "start_time": "2024-01-09T11:38:58.795Z"
   },
   {
    "duration": 16,
    "start_time": "2024-01-09T11:39:16.232Z"
   },
   {
    "duration": 1215,
    "start_time": "2024-01-09T11:48:35.268Z"
   },
   {
    "duration": 2,
    "start_time": "2024-01-09T11:48:36.485Z"
   },
   {
    "duration": 108,
    "start_time": "2024-01-09T11:48:36.494Z"
   },
   {
    "duration": 26,
    "start_time": "2024-01-09T11:48:36.604Z"
   },
   {
    "duration": 31,
    "start_time": "2024-01-09T11:48:36.632Z"
   },
   {
    "duration": 34,
    "start_time": "2024-01-09T11:48:36.664Z"
   },
   {
    "duration": 82,
    "start_time": "2024-01-09T11:48:36.703Z"
   },
   {
    "duration": 63,
    "start_time": "2024-01-09T11:48:36.789Z"
   },
   {
    "duration": 1400,
    "start_time": "2024-01-09T11:48:36.854Z"
   },
   {
    "duration": 12,
    "start_time": "2024-01-09T11:48:38.255Z"
   },
   {
    "duration": 349,
    "start_time": "2024-01-09T11:48:38.268Z"
   },
   {
    "duration": 13,
    "start_time": "2024-01-09T11:48:38.618Z"
   },
   {
    "duration": 307,
    "start_time": "2024-01-09T11:48:38.632Z"
   },
   {
    "duration": 17,
    "start_time": "2024-01-09T11:48:38.941Z"
   },
   {
    "duration": 46,
    "start_time": "2024-01-09T11:48:38.959Z"
   },
   {
    "duration": 236,
    "start_time": "2024-01-09T11:48:39.007Z"
   },
   {
    "duration": 126,
    "start_time": "2024-01-09T11:48:39.245Z"
   },
   {
    "duration": 54,
    "start_time": "2024-01-09T11:48:39.372Z"
   },
   {
    "duration": 38,
    "start_time": "2024-01-09T11:48:39.427Z"
   },
   {
    "duration": 44,
    "start_time": "2024-01-09T11:48:39.466Z"
   },
   {
    "duration": 322,
    "start_time": "2024-01-09T11:48:39.512Z"
   },
   {
    "duration": 211,
    "start_time": "2024-01-09T11:48:39.836Z"
   },
   {
    "duration": 334,
    "start_time": "2024-01-09T11:48:40.048Z"
   },
   {
    "duration": 241,
    "start_time": "2024-01-09T11:48:40.390Z"
   },
   {
    "duration": 323,
    "start_time": "2024-01-09T11:48:40.632Z"
   },
   {
    "duration": 216,
    "start_time": "2024-01-09T11:48:40.957Z"
   },
   {
    "duration": 144,
    "start_time": "2024-01-09T11:48:41.174Z"
   },
   {
    "duration": 5,
    "start_time": "2024-01-09T11:48:41.319Z"
   },
   {
    "duration": 189,
    "start_time": "2024-01-09T11:48:41.326Z"
   },
   {
    "duration": 161,
    "start_time": "2024-01-09T11:48:41.517Z"
   },
   {
    "duration": 21,
    "start_time": "2024-01-09T11:48:41.680Z"
   },
   {
    "duration": 269,
    "start_time": "2024-01-09T11:48:41.702Z"
   },
   {
    "duration": 160,
    "start_time": "2024-01-09T11:48:41.972Z"
   },
   {
    "duration": 29,
    "start_time": "2024-01-09T11:48:42.134Z"
   },
   {
    "duration": 86,
    "start_time": "2024-01-09T11:48:42.164Z"
   },
   {
    "duration": 53,
    "start_time": "2024-01-09T11:48:42.252Z"
   },
   {
    "duration": 76,
    "start_time": "2024-01-09T11:48:42.307Z"
   },
   {
    "duration": 21,
    "start_time": "2024-01-09T11:48:42.384Z"
   },
   {
    "duration": 52,
    "start_time": "2024-01-09T11:52:09.326Z"
   },
   {
    "duration": 80,
    "start_time": "2024-01-09T11:52:23.326Z"
   },
   {
    "duration": 56,
    "start_time": "2024-01-09T11:52:47.242Z"
   },
   {
    "duration": 1353,
    "start_time": "2024-01-09T11:53:17.533Z"
   },
   {
    "duration": 23,
    "start_time": "2024-01-09T11:53:51.452Z"
   },
   {
    "duration": 22,
    "start_time": "2024-01-09T11:54:04.461Z"
   },
   {
    "duration": 1153,
    "start_time": "2024-01-09T12:03:35.125Z"
   },
   {
    "duration": 3,
    "start_time": "2024-01-09T12:03:36.279Z"
   },
   {
    "duration": 84,
    "start_time": "2024-01-09T12:03:36.287Z"
   },
   {
    "duration": 26,
    "start_time": "2024-01-09T12:03:36.373Z"
   },
   {
    "duration": 26,
    "start_time": "2024-01-09T12:03:36.401Z"
   },
   {
    "duration": 7,
    "start_time": "2024-01-09T12:03:36.428Z"
   },
   {
    "duration": 42,
    "start_time": "2024-01-09T12:03:36.437Z"
   },
   {
    "duration": 42,
    "start_time": "2024-01-09T12:03:36.481Z"
   },
   {
    "duration": 1313,
    "start_time": "2024-01-09T12:03:36.525Z"
   },
   {
    "duration": 11,
    "start_time": "2024-01-09T12:03:37.839Z"
   },
   {
    "duration": 312,
    "start_time": "2024-01-09T12:03:37.852Z"
   },
   {
    "duration": 12,
    "start_time": "2024-01-09T12:03:38.166Z"
   },
   {
    "duration": 272,
    "start_time": "2024-01-09T12:03:38.180Z"
   },
   {
    "duration": 16,
    "start_time": "2024-01-09T12:03:38.455Z"
   },
   {
    "duration": 21,
    "start_time": "2024-01-09T12:03:38.473Z"
   },
   {
    "duration": 188,
    "start_time": "2024-01-09T12:03:38.496Z"
   },
   {
    "duration": 145,
    "start_time": "2024-01-09T12:03:38.686Z"
   },
   {
    "duration": 13,
    "start_time": "2024-01-09T12:03:38.833Z"
   },
   {
    "duration": 15,
    "start_time": "2024-01-09T12:03:38.848Z"
   },
   {
    "duration": 27,
    "start_time": "2024-01-09T12:03:38.865Z"
   },
   {
    "duration": 309,
    "start_time": "2024-01-09T12:03:38.893Z"
   },
   {
    "duration": 222,
    "start_time": "2024-01-09T12:03:39.203Z"
   },
   {
    "duration": 297,
    "start_time": "2024-01-09T12:03:39.426Z"
   },
   {
    "duration": 279,
    "start_time": "2024-01-09T12:03:39.725Z"
   },
   {
    "duration": 309,
    "start_time": "2024-01-09T12:03:40.006Z"
   },
   {
    "duration": 235,
    "start_time": "2024-01-09T12:03:40.317Z"
   },
   {
    "duration": 137,
    "start_time": "2024-01-09T12:03:40.553Z"
   },
   {
    "duration": 5,
    "start_time": "2024-01-09T12:03:40.691Z"
   },
   {
    "duration": 168,
    "start_time": "2024-01-09T12:03:40.697Z"
   },
   {
    "duration": 158,
    "start_time": "2024-01-09T12:03:40.866Z"
   },
   {
    "duration": 5,
    "start_time": "2024-01-09T12:03:41.025Z"
   },
   {
    "duration": 231,
    "start_time": "2024-01-09T12:03:41.032Z"
   },
   {
    "duration": 143,
    "start_time": "2024-01-09T12:03:41.264Z"
   },
   {
    "duration": 30,
    "start_time": "2024-01-09T12:03:41.408Z"
   },
   {
    "duration": 29,
    "start_time": "2024-01-09T12:03:41.439Z"
   },
   {
    "duration": 22,
    "start_time": "2024-01-09T12:03:41.470Z"
   },
   {
    "duration": 59,
    "start_time": "2024-01-09T12:03:41.493Z"
   },
   {
    "duration": 16,
    "start_time": "2024-01-09T12:03:41.554Z"
   },
   {
    "duration": 75,
    "start_time": "2024-01-09T12:06:55.945Z"
   },
   {
    "duration": 1145,
    "start_time": "2024-01-09T12:07:09.536Z"
   },
   {
    "duration": 5,
    "start_time": "2024-01-09T12:07:10.683Z"
   },
   {
    "duration": 84,
    "start_time": "2024-01-09T12:07:10.690Z"
   },
   {
    "duration": 33,
    "start_time": "2024-01-09T12:07:10.777Z"
   },
   {
    "duration": 27,
    "start_time": "2024-01-09T12:07:10.811Z"
   },
   {
    "duration": 15,
    "start_time": "2024-01-09T12:07:10.839Z"
   },
   {
    "duration": 17,
    "start_time": "2024-01-09T12:07:10.855Z"
   },
   {
    "duration": 6,
    "start_time": "2024-01-09T12:07:10.888Z"
   },
   {
    "duration": 75,
    "start_time": "2024-01-09T12:07:10.896Z"
   },
   {
    "duration": 1334,
    "start_time": "2024-01-09T12:07:10.974Z"
   },
   {
    "duration": 11,
    "start_time": "2024-01-09T12:07:12.309Z"
   },
   {
    "duration": 312,
    "start_time": "2024-01-09T12:07:12.321Z"
   },
   {
    "duration": 14,
    "start_time": "2024-01-09T12:07:12.634Z"
   },
   {
    "duration": 285,
    "start_time": "2024-01-09T12:07:12.649Z"
   },
   {
    "duration": 26,
    "start_time": "2024-01-09T12:07:12.936Z"
   },
   {
    "duration": 25,
    "start_time": "2024-01-09T12:07:12.963Z"
   },
   {
    "duration": 176,
    "start_time": "2024-01-09T12:07:12.990Z"
   },
   {
    "duration": 137,
    "start_time": "2024-01-09T12:07:13.168Z"
   },
   {
    "duration": 12,
    "start_time": "2024-01-09T12:07:13.306Z"
   },
   {
    "duration": 15,
    "start_time": "2024-01-09T12:07:13.320Z"
   },
   {
    "duration": 6,
    "start_time": "2024-01-09T12:07:13.336Z"
   },
   {
    "duration": 311,
    "start_time": "2024-01-09T12:07:13.343Z"
   },
   {
    "duration": 217,
    "start_time": "2024-01-09T12:07:13.655Z"
   },
   {
    "duration": 347,
    "start_time": "2024-01-09T12:07:13.874Z"
   },
   {
    "duration": 231,
    "start_time": "2024-01-09T12:07:14.223Z"
   },
   {
    "duration": 347,
    "start_time": "2024-01-09T12:07:14.455Z"
   },
   {
    "duration": 217,
    "start_time": "2024-01-09T12:07:14.803Z"
   },
   {
    "duration": 133,
    "start_time": "2024-01-09T12:07:15.024Z"
   },
   {
    "duration": 6,
    "start_time": "2024-01-09T12:07:15.159Z"
   },
   {
    "duration": 211,
    "start_time": "2024-01-09T12:07:15.166Z"
   },
   {
    "duration": 151,
    "start_time": "2024-01-09T12:07:15.378Z"
   },
   {
    "duration": 5,
    "start_time": "2024-01-09T12:07:15.531Z"
   },
   {
    "duration": 289,
    "start_time": "2024-01-09T12:07:15.538Z"
   },
   {
    "duration": 132,
    "start_time": "2024-01-09T12:07:15.828Z"
   },
   {
    "duration": 35,
    "start_time": "2024-01-09T12:07:15.962Z"
   },
   {
    "duration": 11,
    "start_time": "2024-01-09T12:07:15.998Z"
   },
   {
    "duration": 19,
    "start_time": "2024-01-09T12:07:16.010Z"
   },
   {
    "duration": 53,
    "start_time": "2024-01-09T12:07:16.030Z"
   },
   {
    "duration": 15,
    "start_time": "2024-01-09T12:07:16.085Z"
   },
   {
    "duration": 86,
    "start_time": "2024-01-09T12:08:52.555Z"
   },
   {
    "duration": 9,
    "start_time": "2024-01-09T12:09:39.476Z"
   },
   {
    "duration": 48,
    "start_time": "2024-02-07T12:03:00.895Z"
   },
   {
    "duration": 7,
    "start_time": "2024-02-07T12:04:25.394Z"
   },
   {
    "duration": 1435,
    "start_time": "2024-02-07T12:04:31.274Z"
   },
   {
    "duration": 2,
    "start_time": "2024-02-07T12:04:32.712Z"
   },
   {
    "duration": 197,
    "start_time": "2024-02-07T12:04:32.716Z"
   },
   {
    "duration": 28,
    "start_time": "2024-02-07T12:04:32.914Z"
   },
   {
    "duration": 31,
    "start_time": "2024-02-07T12:04:32.944Z"
   },
   {
    "duration": 10,
    "start_time": "2024-02-07T12:04:32.977Z"
   },
   {
    "duration": 7,
    "start_time": "2024-02-07T12:04:32.989Z"
   },
   {
    "duration": 15,
    "start_time": "2024-02-07T12:04:32.998Z"
   },
   {
    "duration": 1404,
    "start_time": "2024-02-07T12:04:33.015Z"
   },
   {
    "duration": 12,
    "start_time": "2024-02-07T12:04:34.421Z"
   },
   {
    "duration": 328,
    "start_time": "2024-02-07T12:04:34.435Z"
   },
   {
    "duration": 21,
    "start_time": "2024-02-07T12:04:34.765Z"
   },
   {
    "duration": 286,
    "start_time": "2024-02-07T12:04:34.788Z"
   },
   {
    "duration": 19,
    "start_time": "2024-02-07T12:04:35.079Z"
   },
   {
    "duration": 5,
    "start_time": "2024-02-07T12:04:35.099Z"
   },
   {
    "duration": 188,
    "start_time": "2024-02-07T12:04:35.106Z"
   },
   {
    "duration": 132,
    "start_time": "2024-02-07T12:04:35.296Z"
   },
   {
    "duration": 11,
    "start_time": "2024-02-07T12:04:35.430Z"
   },
   {
    "duration": 22,
    "start_time": "2024-02-07T12:04:35.443Z"
   },
   {
    "duration": 15,
    "start_time": "2024-02-07T12:04:35.466Z"
   },
   {
    "duration": 292,
    "start_time": "2024-02-07T12:04:35.483Z"
   },
   {
    "duration": 221,
    "start_time": "2024-02-07T12:04:35.776Z"
   },
   {
    "duration": 342,
    "start_time": "2024-02-07T12:04:35.998Z"
   },
   {
    "duration": 252,
    "start_time": "2024-02-07T12:04:36.342Z"
   },
   {
    "duration": 330,
    "start_time": "2024-02-07T12:04:36.596Z"
   },
   {
    "duration": 240,
    "start_time": "2024-02-07T12:04:36.928Z"
   },
   {
    "duration": 164,
    "start_time": "2024-02-07T12:04:37.170Z"
   },
   {
    "duration": 6,
    "start_time": "2024-02-07T12:04:37.337Z"
   },
   {
    "duration": 172,
    "start_time": "2024-02-07T12:04:37.345Z"
   },
   {
    "duration": 162,
    "start_time": "2024-02-07T12:04:37.518Z"
   },
   {
    "duration": 5,
    "start_time": "2024-02-07T12:04:37.682Z"
   },
   {
    "duration": 224,
    "start_time": "2024-02-07T12:04:37.688Z"
   },
   {
    "duration": 138,
    "start_time": "2024-02-07T12:04:37.914Z"
   },
   {
    "duration": 37,
    "start_time": "2024-02-07T12:04:38.054Z"
   },
   {
    "duration": 12,
    "start_time": "2024-02-07T12:04:38.094Z"
   },
   {
    "duration": 20,
    "start_time": "2024-02-07T12:04:38.108Z"
   },
   {
    "duration": 37,
    "start_time": "2024-02-07T12:04:38.130Z"
   },
   {
    "duration": 16,
    "start_time": "2024-02-07T12:04:38.181Z"
   },
   {
    "duration": 1362,
    "start_time": "2024-02-07T12:06:02.168Z"
   },
   {
    "duration": 273,
    "start_time": "2024-02-07T12:09:21.722Z"
   },
   {
    "duration": 19,
    "start_time": "2024-02-07T12:10:52.498Z"
   },
   {
    "duration": 215,
    "start_time": "2024-02-07T12:21:42.745Z"
   },
   {
    "duration": 218,
    "start_time": "2024-02-07T12:23:12.302Z"
   },
   {
    "duration": 386,
    "start_time": "2024-02-07T12:25:10.451Z"
   },
   {
    "duration": 289,
    "start_time": "2024-02-07T12:28:43.008Z"
   },
   {
    "duration": 384,
    "start_time": "2024-02-07T12:30:32.071Z"
   },
   {
    "duration": 246,
    "start_time": "2024-02-07T12:30:36.973Z"
   },
   {
    "duration": 326,
    "start_time": "2024-02-07T12:30:44.068Z"
   },
   {
    "duration": 242,
    "start_time": "2024-02-07T12:30:47.146Z"
   },
   {
    "duration": 376,
    "start_time": "2024-02-07T12:30:52.064Z"
   },
   {
    "duration": 180,
    "start_time": "2024-02-07T12:31:36.481Z"
   },
   {
    "duration": 148,
    "start_time": "2024-02-07T12:31:46.614Z"
   },
   {
    "duration": 1213,
    "start_time": "2024-02-07T12:40:59.513Z"
   },
   {
    "duration": 2,
    "start_time": "2024-02-07T12:41:00.728Z"
   },
   {
    "duration": 129,
    "start_time": "2024-02-07T12:41:00.732Z"
   },
   {
    "duration": 28,
    "start_time": "2024-02-07T12:41:00.863Z"
   },
   {
    "duration": 35,
    "start_time": "2024-02-07T12:41:00.893Z"
   },
   {
    "duration": 22,
    "start_time": "2024-02-07T12:41:00.929Z"
   },
   {
    "duration": 32,
    "start_time": "2024-02-07T12:41:00.953Z"
   },
   {
    "duration": 27,
    "start_time": "2024-02-07T12:41:00.987Z"
   },
   {
    "duration": 1434,
    "start_time": "2024-02-07T12:41:01.015Z"
   },
   {
    "duration": 12,
    "start_time": "2024-02-07T12:41:02.450Z"
   },
   {
    "duration": 460,
    "start_time": "2024-02-07T12:41:02.479Z"
   },
   {
    "duration": 14,
    "start_time": "2024-02-07T12:41:02.940Z"
   },
   {
    "duration": 328,
    "start_time": "2024-02-07T12:41:02.955Z"
   },
   {
    "duration": 18,
    "start_time": "2024-02-07T12:41:03.286Z"
   },
   {
    "duration": 5,
    "start_time": "2024-02-07T12:41:03.306Z"
   },
   {
    "duration": 390,
    "start_time": "2024-02-07T12:41:03.313Z"
   },
   {
    "duration": 282,
    "start_time": "2024-02-07T12:41:03.705Z"
   },
   {
    "duration": 14,
    "start_time": "2024-02-07T12:41:03.989Z"
   },
   {
    "duration": 15,
    "start_time": "2024-02-07T12:41:04.004Z"
   },
   {
    "duration": 7,
    "start_time": "2024-02-07T12:41:04.021Z"
   },
   {
    "duration": 644,
    "start_time": "2024-02-07T12:41:04.081Z"
   },
   {
    "duration": 269,
    "start_time": "2024-02-07T12:41:04.780Z"
   },
   {
    "duration": 345,
    "start_time": "2024-02-07T12:41:05.051Z"
   },
   {
    "duration": 259,
    "start_time": "2024-02-07T12:41:05.397Z"
   },
   {
    "duration": 365,
    "start_time": "2024-02-07T12:41:05.658Z"
   },
   {
    "duration": 234,
    "start_time": "2024-02-07T12:41:06.025Z"
   },
   {
    "duration": 141,
    "start_time": "2024-02-07T12:41:06.261Z"
   },
   {
    "duration": 5,
    "start_time": "2024-02-07T12:41:06.405Z"
   },
   {
    "duration": 178,
    "start_time": "2024-02-07T12:41:06.412Z"
   },
   {
    "duration": 169,
    "start_time": "2024-02-07T12:41:06.592Z"
   },
   {
    "duration": 6,
    "start_time": "2024-02-07T12:41:06.763Z"
   },
   {
    "duration": 240,
    "start_time": "2024-02-07T12:41:06.781Z"
   },
   {
    "duration": 170,
    "start_time": "2024-02-07T12:41:07.023Z"
   },
   {
    "duration": 34,
    "start_time": "2024-02-07T12:41:07.195Z"
   },
   {
    "duration": 13,
    "start_time": "2024-02-07T12:41:07.231Z"
   },
   {
    "duration": 41,
    "start_time": "2024-02-07T12:41:07.247Z"
   },
   {
    "duration": 38,
    "start_time": "2024-02-07T12:41:07.290Z"
   },
   {
    "duration": 19,
    "start_time": "2024-02-07T12:41:07.329Z"
   }
  ],
  "kernelspec": {
   "display_name": "Python 3 (ipykernel)",
   "language": "python",
   "name": "python3"
  },
  "language_info": {
   "codemirror_mode": {
    "name": "ipython",
    "version": 3
   },
   "file_extension": ".py",
   "mimetype": "text/x-python",
   "name": "python",
   "nbconvert_exporter": "python",
   "pygments_lexer": "ipython3",
   "version": "3.11.5"
  },
  "toc": {
   "base_numbering": 1,
   "nav_menu": {},
   "number_sections": true,
   "sideBar": true,
   "skip_h1_title": true,
   "title_cell": "Table of Contents",
   "title_sidebar": "Contents",
   "toc_cell": false,
   "toc_position": {},
   "toc_section_display": true,
   "toc_window_display": true
  }
 },
 "nbformat": 4,
 "nbformat_minor": 2
}
